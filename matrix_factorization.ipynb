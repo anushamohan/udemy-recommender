{
 "cells": [
  {
   "cell_type": "code",
   "execution_count": 64,
   "metadata": {},
   "outputs": [],
   "source": [
    "import numpy as np\n",
    "import pandas as pd\n",
    "import matplotlib.pyplot as plt\n",
    "import scipy.sparse as sp\n",
    "from time import time\n",
    "from sklearn.metrics import mean_squared_error\n",
    "from sklearn.metrics.pairwise import pairwise_distances\n",
    "from scipy.stats.stats import pearsonr\n",
    "import graphlab\n",
    "from sklearn.cross_validation import train_test_split\n",
    "from math import sqrt\n",
    "import scipy.sparse as sp\n",
    "from scipy.sparse.linalg import svds\n",
    "%matplotlib inline"
   ]
  },
  {
   "cell_type": "code",
   "execution_count": 2,
   "metadata": {
    "collapsed": true
   },
   "outputs": [],
   "source": [
    "df = pd.read_csv(\"processed_data.csv\")"
   ]
  },
  {
   "cell_type": "code",
   "execution_count": 3,
   "metadata": {},
   "outputs": [
    {
     "data": {
      "text/plain": [
       "(47583, 36)"
      ]
     },
     "execution_count": 3,
     "metadata": {},
     "output_type": "execute_result"
    }
   ],
   "source": [
    "reg = df[df[\"user_review_count\"] > 2]\n",
    "reg.shape"
   ]
  },
  {
   "cell_type": "code",
   "execution_count": 4,
   "metadata": {
    "collapsed": true
   },
   "outputs": [],
   "source": [
    "n_users = reg.userid.nunique()\n",
    "n_items = reg.course_id.nunique()"
   ]
  },
  {
   "cell_type": "code",
   "execution_count": 67,
   "metadata": {
    "collapsed": true
   },
   "outputs": [],
   "source": [
    "train_df = pd.read_csv(\"train.csv\")\n",
    "test_df = pd.read_csv(\"test.csv\")\n",
    "validate_df = pd.read_csv(\"validation.csv\")"
   ]
  },
  {
   "cell_type": "code",
   "execution_count": 68,
   "metadata": {},
   "outputs": [],
   "source": [
    "train_df = train_df[[\"new_course_id\", \"new_user_id\", \"rating\"]]\n",
    "validate_df = validate_df[[\"new_course_id\", \"new_user_id\", \"rating\"]]\n",
    "test_df = test_df[[\"new_course_id\", \"new_user_id\", \"rating\"]]"
   ]
  },
  {
   "cell_type": "code",
   "execution_count": 69,
   "metadata": {},
   "outputs": [],
   "source": [
    "sf_train = graphlab.SFrame(train_df)\n",
    "sf_validation = graphlab.SFrame(validate_df)\n",
    "sf_test = graphlab.SFrame(test_df)"
   ]
  },
  {
   "cell_type": "code",
   "execution_count": 71,
   "metadata": {},
   "outputs": [
    {
     "data": {
      "text/html": [
       "<pre>Recsys training: model = factorization_recommender</pre>"
      ],
      "text/plain": [
       "Recsys training: model = factorization_recommender"
      ]
     },
     "metadata": {},
     "output_type": "display_data"
    },
    {
     "data": {
      "text/html": [
       "<pre>Preparing data set.</pre>"
      ],
      "text/plain": [
       "Preparing data set."
      ]
     },
     "metadata": {},
     "output_type": "display_data"
    },
    {
     "data": {
      "text/html": [
       "<pre>    Data has 24756 observations with 12294 users and 886 items.</pre>"
      ],
      "text/plain": [
       "    Data has 24756 observations with 12294 users and 886 items."
      ]
     },
     "metadata": {},
     "output_type": "display_data"
    },
    {
     "data": {
      "text/html": [
       "<pre>    Data prepared in: 0.042721s</pre>"
      ],
      "text/plain": [
       "    Data prepared in: 0.042721s"
      ]
     },
     "metadata": {},
     "output_type": "display_data"
    },
    {
     "data": {
      "text/html": [
       "<pre>Training factorization_recommender for recommendations.</pre>"
      ],
      "text/plain": [
       "Training factorization_recommender for recommendations."
      ]
     },
     "metadata": {},
     "output_type": "display_data"
    },
    {
     "data": {
      "text/html": [
       "<pre>+------------------------------+--------------------------------------------------+----------+</pre>"
      ],
      "text/plain": [
       "+------------------------------+--------------------------------------------------+----------+"
      ]
     },
     "metadata": {},
     "output_type": "display_data"
    },
    {
     "data": {
      "text/html": [
       "<pre>| Parameter                    | Description                                      | Value    |</pre>"
      ],
      "text/plain": [
       "| Parameter                    | Description                                      | Value    |"
      ]
     },
     "metadata": {},
     "output_type": "display_data"
    },
    {
     "data": {
      "text/html": [
       "<pre>+------------------------------+--------------------------------------------------+----------+</pre>"
      ],
      "text/plain": [
       "+------------------------------+--------------------------------------------------+----------+"
      ]
     },
     "metadata": {},
     "output_type": "display_data"
    },
    {
     "data": {
      "text/html": [
       "<pre>| num_factors                  | Factor Dimension                                 | 4        |</pre>"
      ],
      "text/plain": [
       "| num_factors                  | Factor Dimension                                 | 4        |"
      ]
     },
     "metadata": {},
     "output_type": "display_data"
    },
    {
     "data": {
      "text/html": [
       "<pre>| regularization               | L2 Regularization on Factors                     | 1e-08    |</pre>"
      ],
      "text/plain": [
       "| regularization               | L2 Regularization on Factors                     | 1e-08    |"
      ]
     },
     "metadata": {},
     "output_type": "display_data"
    },
    {
     "data": {
      "text/html": [
       "<pre>| max_iterations               | Maximum Number of Iterations                     | 50       |</pre>"
      ],
      "text/plain": [
       "| max_iterations               | Maximum Number of Iterations                     | 50       |"
      ]
     },
     "metadata": {},
     "output_type": "display_data"
    },
    {
     "data": {
      "text/html": [
       "<pre>| solver                       | Solver used for training                         | als      |</pre>"
      ],
      "text/plain": [
       "| solver                       | Solver used for training                         | als      |"
      ]
     },
     "metadata": {},
     "output_type": "display_data"
    },
    {
     "data": {
      "text/html": [
       "<pre>+------------------------------+--------------------------------------------------+----------+</pre>"
      ],
      "text/plain": [
       "+------------------------------+--------------------------------------------------+----------+"
      ]
     },
     "metadata": {},
     "output_type": "display_data"
    },
    {
     "data": {
      "text/html": [
       "<pre>+---------+--------------+------------------------+</pre>"
      ],
      "text/plain": [
       "+---------+--------------+------------------------+"
      ]
     },
     "metadata": {},
     "output_type": "display_data"
    },
    {
     "data": {
      "text/html": [
       "<pre>| Iter.   | Elapsed time | RMSE                   |</pre>"
      ],
      "text/plain": [
       "| Iter.   | Elapsed time | RMSE                   |"
      ]
     },
     "metadata": {},
     "output_type": "display_data"
    },
    {
     "data": {
      "text/html": [
       "<pre>+---------+--------------+------------------------+</pre>"
      ],
      "text/plain": [
       "+---------+--------------+------------------------+"
      ]
     },
     "metadata": {},
     "output_type": "display_data"
    },
    {
     "data": {
      "text/html": [
       "<pre>| Initial | 75us         | NA                     |</pre>"
      ],
      "text/plain": [
       "| Initial | 75us         | NA                     |"
      ]
     },
     "metadata": {},
     "output_type": "display_data"
    },
    {
     "data": {
      "text/html": [
       "<pre>+---------+--------------+------------------------+</pre>"
      ],
      "text/plain": [
       "+---------+--------------+------------------------+"
      ]
     },
     "metadata": {},
     "output_type": "display_data"
    },
    {
     "data": {
      "text/html": [
       "<pre>| 0       | 46.99ms      | 0.286842               |</pre>"
      ],
      "text/plain": [
       "| 0       | 46.99ms      | 0.286842               |"
      ]
     },
     "metadata": {},
     "output_type": "display_data"
    },
    {
     "data": {
      "text/html": [
       "<pre>| 1       | 88.339ms     | 0.07896                |</pre>"
      ],
      "text/plain": [
       "| 1       | 88.339ms     | 0.07896                |"
      ]
     },
     "metadata": {},
     "output_type": "display_data"
    },
    {
     "data": {
      "text/html": [
       "<pre>| 2       | 113.239ms    | 0.0654685              |</pre>"
      ],
      "text/plain": [
       "| 2       | 113.239ms    | 0.0654685              |"
      ]
     },
     "metadata": {},
     "output_type": "display_data"
    },
    {
     "data": {
      "text/html": [
       "<pre>| 3       | 159.687ms    | 0.0595867              |</pre>"
      ],
      "text/plain": [
       "| 3       | 159.687ms    | 0.0595867              |"
      ]
     },
     "metadata": {},
     "output_type": "display_data"
    },
    {
     "data": {
      "text/html": [
       "<pre>| 4       | 191.381ms    | 0.0562004              |</pre>"
      ],
      "text/plain": [
       "| 4       | 191.381ms    | 0.0562004              |"
      ]
     },
     "metadata": {},
     "output_type": "display_data"
    },
    {
     "data": {
      "text/html": [
       "<pre>| 5       | 242.222ms    | 0.0537362              |</pre>"
      ],
      "text/plain": [
       "| 5       | 242.222ms    | 0.0537362              |"
      ]
     },
     "metadata": {},
     "output_type": "display_data"
    },
    {
     "data": {
      "text/html": [
       "<pre>| 6       | 271.413ms    | 0.0517056              |</pre>"
      ],
      "text/plain": [
       "| 6       | 271.413ms    | 0.0517056              |"
      ]
     },
     "metadata": {},
     "output_type": "display_data"
    },
    {
     "data": {
      "text/html": [
       "<pre>| 7       | 312.284ms    | 0.0500355              |</pre>"
      ],
      "text/plain": [
       "| 7       | 312.284ms    | 0.0500355              |"
      ]
     },
     "metadata": {},
     "output_type": "display_data"
    },
    {
     "data": {
      "text/html": [
       "<pre>| 8       | 335.344ms    | 0.0486123              |</pre>"
      ],
      "text/plain": [
       "| 8       | 335.344ms    | 0.0486123              |"
      ]
     },
     "metadata": {},
     "output_type": "display_data"
    },
    {
     "data": {
      "text/html": [
       "<pre>| 9       | 377.143ms    | 0.0473507              |</pre>"
      ],
      "text/plain": [
       "| 9       | 377.143ms    | 0.0473507              |"
      ]
     },
     "metadata": {},
     "output_type": "display_data"
    },
    {
     "data": {
      "text/html": [
       "<pre>| 10      | 425.147ms    | 0.0462018              |</pre>"
      ],
      "text/plain": [
       "| 10      | 425.147ms    | 0.0462018              |"
      ]
     },
     "metadata": {},
     "output_type": "display_data"
    },
    {
     "data": {
      "text/html": [
       "<pre>| 11      | 451.59ms     | 0.0451355              |</pre>"
      ],
      "text/plain": [
       "| 11      | 451.59ms     | 0.0451355              |"
      ]
     },
     "metadata": {},
     "output_type": "display_data"
    },
    {
     "data": {
      "text/html": [
       "<pre>| 12      | 505.999ms    | 0.044152               |</pre>"
      ],
      "text/plain": [
       "| 12      | 505.999ms    | 0.044152               |"
      ]
     },
     "metadata": {},
     "output_type": "display_data"
    },
    {
     "data": {
      "text/html": [
       "<pre>| 13      | 547.661ms    | 0.0432547              |</pre>"
      ],
      "text/plain": [
       "| 13      | 547.661ms    | 0.0432547              |"
      ]
     },
     "metadata": {},
     "output_type": "display_data"
    },
    {
     "data": {
      "text/html": [
       "<pre>| 14      | 581.961ms    | 0.0424361              |</pre>"
      ],
      "text/plain": [
       "| 14      | 581.961ms    | 0.0424361              |"
      ]
     },
     "metadata": {},
     "output_type": "display_data"
    },
    {
     "data": {
      "text/html": [
       "<pre>| 15      | 614.682ms    | 0.0416512              |</pre>"
      ],
      "text/plain": [
       "| 15      | 614.682ms    | 0.0416512              |"
      ]
     },
     "metadata": {},
     "output_type": "display_data"
    },
    {
     "data": {
      "text/html": [
       "<pre>| 16      | 641.361ms    | 0.04091                |</pre>"
      ],
      "text/plain": [
       "| 16      | 641.361ms    | 0.04091                |"
      ]
     },
     "metadata": {},
     "output_type": "display_data"
    },
    {
     "data": {
      "text/html": [
       "<pre>| 17      | 671.282ms    | 0.0402109              |</pre>"
      ],
      "text/plain": [
       "| 17      | 671.282ms    | 0.0402109              |"
      ]
     },
     "metadata": {},
     "output_type": "display_data"
    },
    {
     "data": {
      "text/html": [
       "<pre>| 18      | 697.636ms    | 0.0396059              |</pre>"
      ],
      "text/plain": [
       "| 18      | 697.636ms    | 0.0396059              |"
      ]
     },
     "metadata": {},
     "output_type": "display_data"
    },
    {
     "data": {
      "text/html": [
       "<pre>| 19      | 737.041ms    | 0.0390739              |</pre>"
      ],
      "text/plain": [
       "| 19      | 737.041ms    | 0.0390739              |"
      ]
     },
     "metadata": {},
     "output_type": "display_data"
    },
    {
     "data": {
      "text/html": [
       "<pre>| 20      | 778.181ms    | 0.0385836              |</pre>"
      ],
      "text/plain": [
       "| 20      | 778.181ms    | 0.0385836              |"
      ]
     },
     "metadata": {},
     "output_type": "display_data"
    },
    {
     "data": {
      "text/html": [
       "<pre>| 21      | 814.526ms    | 0.0381159              |</pre>"
      ],
      "text/plain": [
       "| 21      | 814.526ms    | 0.0381159              |"
      ]
     },
     "metadata": {},
     "output_type": "display_data"
    },
    {
     "data": {
      "text/html": [
       "<pre>| 22      | 847.377ms    | 0.037681               |</pre>"
      ],
      "text/plain": [
       "| 22      | 847.377ms    | 0.037681               |"
      ]
     },
     "metadata": {},
     "output_type": "display_data"
    },
    {
     "data": {
      "text/html": [
       "<pre>| 23      | 885.545ms    | 0.0372735              |</pre>"
      ],
      "text/plain": [
       "| 23      | 885.545ms    | 0.0372735              |"
      ]
     },
     "metadata": {},
     "output_type": "display_data"
    },
    {
     "data": {
      "text/html": [
       "<pre>| 24      | 937.236ms    | 0.036887               |</pre>"
      ],
      "text/plain": [
       "| 24      | 937.236ms    | 0.036887               |"
      ]
     },
     "metadata": {},
     "output_type": "display_data"
    },
    {
     "data": {
      "text/html": [
       "<pre>| 25      | 950.983ms    | 0.036515               |</pre>"
      ],
      "text/plain": [
       "| 25      | 950.983ms    | 0.036515               |"
      ]
     },
     "metadata": {},
     "output_type": "display_data"
    },
    {
     "data": {
      "text/html": [
       "<pre>| 26      | 987.84ms     | 0.0361514              |</pre>"
      ],
      "text/plain": [
       "| 26      | 987.84ms     | 0.0361514              |"
      ]
     },
     "metadata": {},
     "output_type": "display_data"
    },
    {
     "data": {
      "text/html": [
       "<pre>| 27      | 1.03s        | 0.0357903              |</pre>"
      ],
      "text/plain": [
       "| 27      | 1.03s        | 0.0357903              |"
      ]
     },
     "metadata": {},
     "output_type": "display_data"
    },
    {
     "data": {
      "text/html": [
       "<pre>| 28      | 1.06s        | 0.0354266              |</pre>"
      ],
      "text/plain": [
       "| 28      | 1.06s        | 0.0354266              |"
      ]
     },
     "metadata": {},
     "output_type": "display_data"
    },
    {
     "data": {
      "text/html": [
       "<pre>| 29      | 1.10s        | 0.0350591              |</pre>"
      ],
      "text/plain": [
       "| 29      | 1.10s        | 0.0350591              |"
      ]
     },
     "metadata": {},
     "output_type": "display_data"
    },
    {
     "data": {
      "text/html": [
       "<pre>| 30      | 1.15s        | 0.0346956              |</pre>"
      ],
      "text/plain": [
       "| 30      | 1.15s        | 0.0346956              |"
      ]
     },
     "metadata": {},
     "output_type": "display_data"
    },
    {
     "data": {
      "text/html": [
       "<pre>| 31      | 1.18s        | 0.034348               |</pre>"
      ],
      "text/plain": [
       "| 31      | 1.18s        | 0.034348               |"
      ]
     },
     "metadata": {},
     "output_type": "display_data"
    },
    {
     "data": {
      "text/html": [
       "<pre>| 32      | 1.23s        | 0.0340178              |</pre>"
      ],
      "text/plain": [
       "| 32      | 1.23s        | 0.0340178              |"
      ]
     },
     "metadata": {},
     "output_type": "display_data"
    },
    {
     "data": {
      "text/html": [
       "<pre>| 33      | 1.25s        | 0.0337048              |</pre>"
      ],
      "text/plain": [
       "| 33      | 1.25s        | 0.0337048              |"
      ]
     },
     "metadata": {},
     "output_type": "display_data"
    },
    {
     "data": {
      "text/html": [
       "<pre>| 34      | 1.27s        | 0.0334189              |</pre>"
      ],
      "text/plain": [
       "| 34      | 1.27s        | 0.0334189              |"
      ]
     },
     "metadata": {},
     "output_type": "display_data"
    },
    {
     "data": {
      "text/html": [
       "<pre>| 35      | 1.32s        | 0.0331537              |</pre>"
      ],
      "text/plain": [
       "| 35      | 1.32s        | 0.0331537              |"
      ]
     },
     "metadata": {},
     "output_type": "display_data"
    },
    {
     "data": {
      "text/html": [
       "<pre>| 36      | 1.35s        | 0.0329025              |</pre>"
      ],
      "text/plain": [
       "| 36      | 1.35s        | 0.0329025              |"
      ]
     },
     "metadata": {},
     "output_type": "display_data"
    },
    {
     "data": {
      "text/html": [
       "<pre>| 37      | 1.40s        | 0.0326627              |</pre>"
      ],
      "text/plain": [
       "| 37      | 1.40s        | 0.0326627              |"
      ]
     },
     "metadata": {},
     "output_type": "display_data"
    },
    {
     "data": {
      "text/html": [
       "<pre>| 38      | 1.44s        | 0.0324331              |</pre>"
      ],
      "text/plain": [
       "| 38      | 1.44s        | 0.0324331              |"
      ]
     },
     "metadata": {},
     "output_type": "display_data"
    },
    {
     "data": {
      "text/html": [
       "<pre>| 39      | 1.49s        | 0.0322122              |</pre>"
      ],
      "text/plain": [
       "| 39      | 1.49s        | 0.0322122              |"
      ]
     },
     "metadata": {},
     "output_type": "display_data"
    },
    {
     "data": {
      "text/html": [
       "<pre>| 40      | 1.53s        | 0.0319992              |</pre>"
      ],
      "text/plain": [
       "| 40      | 1.53s        | 0.0319992              |"
      ]
     },
     "metadata": {},
     "output_type": "display_data"
    },
    {
     "data": {
      "text/html": [
       "<pre>| 41      | 1.57s        | 0.0317928              |</pre>"
      ],
      "text/plain": [
       "| 41      | 1.57s        | 0.0317928              |"
      ]
     },
     "metadata": {},
     "output_type": "display_data"
    },
    {
     "data": {
      "text/html": [
       "<pre>| 42      | 1.60s        | 0.0315931              |</pre>"
      ],
      "text/plain": [
       "| 42      | 1.60s        | 0.0315931              |"
      ]
     },
     "metadata": {},
     "output_type": "display_data"
    },
    {
     "data": {
      "text/html": [
       "<pre>| 43      | 1.65s        | 0.0314007              |</pre>"
      ],
      "text/plain": [
       "| 43      | 1.65s        | 0.0314007              |"
      ]
     },
     "metadata": {},
     "output_type": "display_data"
    },
    {
     "data": {
      "text/html": [
       "<pre>| 44      | 1.69s        | 0.0312152              |</pre>"
      ],
      "text/plain": [
       "| 44      | 1.69s        | 0.0312152              |"
      ]
     },
     "metadata": {},
     "output_type": "display_data"
    },
    {
     "data": {
      "text/html": [
       "<pre>| 45      | 1.71s        | 0.0310363              |</pre>"
      ],
      "text/plain": [
       "| 45      | 1.71s        | 0.0310363              |"
      ]
     },
     "metadata": {},
     "output_type": "display_data"
    },
    {
     "data": {
      "text/html": [
       "<pre>| 46      | 1.75s        | 0.0308626              |</pre>"
      ],
      "text/plain": [
       "| 46      | 1.75s        | 0.0308626              |"
      ]
     },
     "metadata": {},
     "output_type": "display_data"
    },
    {
     "data": {
      "text/html": [
       "<pre>| 47      | 1.78s        | 0.0306934              |</pre>"
      ],
      "text/plain": [
       "| 47      | 1.78s        | 0.0306934              |"
      ]
     },
     "metadata": {},
     "output_type": "display_data"
    },
    {
     "data": {
      "text/html": [
       "<pre>| 48      | 1.83s        | 0.0305278              |</pre>"
      ],
      "text/plain": [
       "| 48      | 1.83s        | 0.0305278              |"
      ]
     },
     "metadata": {},
     "output_type": "display_data"
    },
    {
     "data": {
      "text/html": [
       "<pre>| 49      | 1.86s        | 0.0303659              |</pre>"
      ],
      "text/plain": [
       "| 49      | 1.86s        | 0.0303659              |"
      ]
     },
     "metadata": {},
     "output_type": "display_data"
    },
    {
     "data": {
      "text/html": [
       "<pre>| FINAL   | 1.86s        | 0.0303659              |</pre>"
      ],
      "text/plain": [
       "| FINAL   | 1.86s        | 0.0303659              |"
      ]
     },
     "metadata": {},
     "output_type": "display_data"
    },
    {
     "data": {
      "text/html": [
       "<pre>+---------+--------------+------------------------+</pre>"
      ],
      "text/plain": [
       "+---------+--------------+------------------------+"
      ]
     },
     "metadata": {},
     "output_type": "display_data"
    },
    {
     "data": {
      "text/html": [
       "<pre>Optimization Complete: Iteration limit reached.</pre>"
      ],
      "text/plain": [
       "Optimization Complete: Iteration limit reached."
      ]
     },
     "metadata": {},
     "output_type": "display_data"
    },
    {
     "data": {
      "text/html": [
       "<pre>Recsys training: model = factorization_recommender</pre>"
      ],
      "text/plain": [
       "Recsys training: model = factorization_recommender"
      ]
     },
     "metadata": {},
     "output_type": "display_data"
    },
    {
     "data": {
      "text/html": [
       "<pre>Preparing data set.</pre>"
      ],
      "text/plain": [
       "Preparing data set."
      ]
     },
     "metadata": {},
     "output_type": "display_data"
    },
    {
     "data": {
      "text/html": [
       "<pre>    Data has 24756 observations with 12294 users and 886 items.</pre>"
      ],
      "text/plain": [
       "    Data has 24756 observations with 12294 users and 886 items."
      ]
     },
     "metadata": {},
     "output_type": "display_data"
    },
    {
     "data": {
      "text/html": [
       "<pre>    Data prepared in: 0.052042s</pre>"
      ],
      "text/plain": [
       "    Data prepared in: 0.052042s"
      ]
     },
     "metadata": {},
     "output_type": "display_data"
    },
    {
     "data": {
      "text/html": [
       "<pre>Training factorization_recommender for recommendations.</pre>"
      ],
      "text/plain": [
       "Training factorization_recommender for recommendations."
      ]
     },
     "metadata": {},
     "output_type": "display_data"
    },
    {
     "data": {
      "text/html": [
       "<pre>+------------------------------+--------------------------------------------------+----------+</pre>"
      ],
      "text/plain": [
       "+------------------------------+--------------------------------------------------+----------+"
      ]
     },
     "metadata": {},
     "output_type": "display_data"
    },
    {
     "data": {
      "text/html": [
       "<pre>| Parameter                    | Description                                      | Value    |</pre>"
      ],
      "text/plain": [
       "| Parameter                    | Description                                      | Value    |"
      ]
     },
     "metadata": {},
     "output_type": "display_data"
    },
    {
     "data": {
      "text/html": [
       "<pre>+------------------------------+--------------------------------------------------+----------+</pre>"
      ],
      "text/plain": [
       "+------------------------------+--------------------------------------------------+----------+"
      ]
     },
     "metadata": {},
     "output_type": "display_data"
    },
    {
     "data": {
      "text/html": [
       "<pre>| num_factors                  | Factor Dimension                                 | 6        |</pre>"
      ],
      "text/plain": [
       "| num_factors                  | Factor Dimension                                 | 6        |"
      ]
     },
     "metadata": {},
     "output_type": "display_data"
    },
    {
     "data": {
      "text/html": [
       "<pre>| regularization               | L2 Regularization on Factors                     | 1e-08    |</pre>"
      ],
      "text/plain": [
       "| regularization               | L2 Regularization on Factors                     | 1e-08    |"
      ]
     },
     "metadata": {},
     "output_type": "display_data"
    },
    {
     "data": {
      "text/html": [
       "<pre>| max_iterations               | Maximum Number of Iterations                     | 50       |</pre>"
      ],
      "text/plain": [
       "| max_iterations               | Maximum Number of Iterations                     | 50       |"
      ]
     },
     "metadata": {},
     "output_type": "display_data"
    },
    {
     "data": {
      "text/html": [
       "<pre>| solver                       | Solver used for training                         | als      |</pre>"
      ],
      "text/plain": [
       "| solver                       | Solver used for training                         | als      |"
      ]
     },
     "metadata": {},
     "output_type": "display_data"
    },
    {
     "data": {
      "text/html": [
       "<pre>+------------------------------+--------------------------------------------------+----------+</pre>"
      ],
      "text/plain": [
       "+------------------------------+--------------------------------------------------+----------+"
      ]
     },
     "metadata": {},
     "output_type": "display_data"
    },
    {
     "data": {
      "text/html": [
       "<pre>+---------+--------------+------------------------+</pre>"
      ],
      "text/plain": [
       "+---------+--------------+------------------------+"
      ]
     },
     "metadata": {},
     "output_type": "display_data"
    },
    {
     "data": {
      "text/html": [
       "<pre>| Iter.   | Elapsed time | RMSE                   |</pre>"
      ],
      "text/plain": [
       "| Iter.   | Elapsed time | RMSE                   |"
      ]
     },
     "metadata": {},
     "output_type": "display_data"
    },
    {
     "data": {
      "text/html": [
       "<pre>+---------+--------------+------------------------+</pre>"
      ],
      "text/plain": [
       "+---------+--------------+------------------------+"
      ]
     },
     "metadata": {},
     "output_type": "display_data"
    },
    {
     "data": {
      "text/html": [
       "<pre>| Initial | 67us         | NA                     |</pre>"
      ],
      "text/plain": [
       "| Initial | 67us         | NA                     |"
      ]
     },
     "metadata": {},
     "output_type": "display_data"
    },
    {
     "data": {
      "text/html": [
       "<pre>+---------+--------------+------------------------+</pre>"
      ],
      "text/plain": [
       "+---------+--------------+------------------------+"
      ]
     },
     "metadata": {},
     "output_type": "display_data"
    },
    {
     "data": {
      "text/html": [
       "<pre>| 0       | 47.669ms     | 0.222022               |</pre>"
      ],
      "text/plain": [
       "| 0       | 47.669ms     | 0.222022               |"
      ]
     },
     "metadata": {},
     "output_type": "display_data"
    },
    {
     "data": {
      "text/html": [
       "<pre>| 1       | 90.936ms     | 0.0276681              |</pre>"
      ],
      "text/plain": [
       "| 1       | 90.936ms     | 0.0276681              |"
      ]
     },
     "metadata": {},
     "output_type": "display_data"
    },
    {
     "data": {
      "text/html": [
       "<pre>| 2       | 107.427ms    | 0.0220597              |</pre>"
      ],
      "text/plain": [
       "| 2       | 107.427ms    | 0.0220597              |"
      ]
     },
     "metadata": {},
     "output_type": "display_data"
    },
    {
     "data": {
      "text/html": [
       "<pre>| 3       | 145.322ms    | 0.0194055              |</pre>"
      ],
      "text/plain": [
       "| 3       | 145.322ms    | 0.0194055              |"
      ]
     },
     "metadata": {},
     "output_type": "display_data"
    },
    {
     "data": {
      "text/html": [
       "<pre>| 4       | 178.139ms    | 0.0176855              |</pre>"
      ],
      "text/plain": [
       "| 4       | 178.139ms    | 0.0176855              |"
      ]
     },
     "metadata": {},
     "output_type": "display_data"
    },
    {
     "data": {
      "text/html": [
       "<pre>| 5       | 213.856ms    | 0.0163908              |</pre>"
      ],
      "text/plain": [
       "| 5       | 213.856ms    | 0.0163908              |"
      ]
     },
     "metadata": {},
     "output_type": "display_data"
    },
    {
     "data": {
      "text/html": [
       "<pre>| 6       | 262.345ms    | 0.0153534              |</pre>"
      ],
      "text/plain": [
       "| 6       | 262.345ms    | 0.0153534              |"
      ]
     },
     "metadata": {},
     "output_type": "display_data"
    },
    {
     "data": {
      "text/html": [
       "<pre>| 7       | 301.844ms    | 0.014495               |</pre>"
      ],
      "text/plain": [
       "| 7       | 301.844ms    | 0.014495               |"
      ]
     },
     "metadata": {},
     "output_type": "display_data"
    },
    {
     "data": {
      "text/html": [
       "<pre>| 8       | 324.434ms    | 0.0137637              |</pre>"
      ],
      "text/plain": [
       "| 8       | 324.434ms    | 0.0137637              |"
      ]
     },
     "metadata": {},
     "output_type": "display_data"
    },
    {
     "data": {
      "text/html": [
       "<pre>| 9       | 358.303ms    | 0.0131226              |</pre>"
      ],
      "text/plain": [
       "| 9       | 358.303ms    | 0.0131226              |"
      ]
     },
     "metadata": {},
     "output_type": "display_data"
    },
    {
     "data": {
      "text/html": [
       "<pre>| 10      | 395.043ms    | 0.0125431              |</pre>"
      ],
      "text/plain": [
       "| 10      | 395.043ms    | 0.0125431              |"
      ]
     },
     "metadata": {},
     "output_type": "display_data"
    },
    {
     "data": {
      "text/html": [
       "<pre>| 11      | 434.827ms    | 0.0120029              |</pre>"
      ],
      "text/plain": [
       "| 11      | 434.827ms    | 0.0120029              |"
      ]
     },
     "metadata": {},
     "output_type": "display_data"
    },
    {
     "data": {
      "text/html": [
       "<pre>| 12      | 486.45ms     | 0.0114833              |</pre>"
      ],
      "text/plain": [
       "| 12      | 486.45ms     | 0.0114833              |"
      ]
     },
     "metadata": {},
     "output_type": "display_data"
    },
    {
     "data": {
      "text/html": [
       "<pre>| 13      | 514.324ms    | 0.0109883              |</pre>"
      ],
      "text/plain": [
       "| 13      | 514.324ms    | 0.0109883              |"
      ]
     },
     "metadata": {},
     "output_type": "display_data"
    },
    {
     "data": {
      "text/html": [
       "<pre>| 14      | 533.314ms    | 0.0105415              |</pre>"
      ],
      "text/plain": [
       "| 14      | 533.314ms    | 0.0105415              |"
      ]
     },
     "metadata": {},
     "output_type": "display_data"
    },
    {
     "data": {
      "text/html": [
       "<pre>| 15      | 586.277ms    | 0.010144               |</pre>"
      ],
      "text/plain": [
       "| 15      | 586.277ms    | 0.010144               |"
      ]
     },
     "metadata": {},
     "output_type": "display_data"
    },
    {
     "data": {
      "text/html": [
       "<pre>| 16      | 608.034ms    | 0.00978245             |</pre>"
      ],
      "text/plain": [
       "| 16      | 608.034ms    | 0.00978245             |"
      ]
     },
     "metadata": {},
     "output_type": "display_data"
    },
    {
     "data": {
      "text/html": [
       "<pre>| 17      | 655.479ms    | 0.00944935             |</pre>"
      ],
      "text/plain": [
       "| 17      | 655.479ms    | 0.00944935             |"
      ]
     },
     "metadata": {},
     "output_type": "display_data"
    },
    {
     "data": {
      "text/html": [
       "<pre>| 18      | 713.793ms    | 0.00913917             |</pre>"
      ],
      "text/plain": [
       "| 18      | 713.793ms    | 0.00913917             |"
      ]
     },
     "metadata": {},
     "output_type": "display_data"
    },
    {
     "data": {
      "text/html": [
       "<pre>| 19      | 742.647ms    | 0.00884809             |</pre>"
      ],
      "text/plain": [
       "| 19      | 742.647ms    | 0.00884809             |"
      ]
     },
     "metadata": {},
     "output_type": "display_data"
    },
    {
     "data": {
      "text/html": [
       "<pre>| 20      | 802.137ms    | 0.008573               |</pre>"
      ],
      "text/plain": [
       "| 20      | 802.137ms    | 0.008573               |"
      ]
     },
     "metadata": {},
     "output_type": "display_data"
    },
    {
     "data": {
      "text/html": [
       "<pre>| 21      | 841.91ms     | 0.00831157             |</pre>"
      ],
      "text/plain": [
       "| 21      | 841.91ms     | 0.00831157             |"
      ]
     },
     "metadata": {},
     "output_type": "display_data"
    },
    {
     "data": {
      "text/html": [
       "<pre>| 22      | 883.442ms    | 0.00806142             |</pre>"
      ],
      "text/plain": [
       "| 22      | 883.442ms    | 0.00806142             |"
      ]
     },
     "metadata": {},
     "output_type": "display_data"
    },
    {
     "data": {
      "text/html": [
       "<pre>| 23      | 937.852ms    | 0.00782099             |</pre>"
      ],
      "text/plain": [
       "| 23      | 937.852ms    | 0.00782099             |"
      ]
     },
     "metadata": {},
     "output_type": "display_data"
    },
    {
     "data": {
      "text/html": [
       "<pre>| 24      | 982.94ms     | 0.00758942             |</pre>"
      ],
      "text/plain": [
       "| 24      | 982.94ms     | 0.00758942             |"
      ]
     },
     "metadata": {},
     "output_type": "display_data"
    },
    {
     "data": {
      "text/html": [
       "<pre>| 25      | 1.01s        | 0.00736668             |</pre>"
      ],
      "text/plain": [
       "| 25      | 1.01s        | 0.00736668             |"
      ]
     },
     "metadata": {},
     "output_type": "display_data"
    },
    {
     "data": {
      "text/html": [
       "<pre>| 26      | 1.08s        | 0.00715436             |</pre>"
      ],
      "text/plain": [
       "| 26      | 1.08s        | 0.00715436             |"
      ]
     },
     "metadata": {},
     "output_type": "display_data"
    },
    {
     "data": {
      "text/html": [
       "<pre>| 27      | 1.12s        | 0.00695548             |</pre>"
      ],
      "text/plain": [
       "| 27      | 1.12s        | 0.00695548             |"
      ]
     },
     "metadata": {},
     "output_type": "display_data"
    },
    {
     "data": {
      "text/html": [
       "<pre>| 28      | 1.17s        | 0.00677095             |</pre>"
      ],
      "text/plain": [
       "| 28      | 1.17s        | 0.00677095             |"
      ]
     },
     "metadata": {},
     "output_type": "display_data"
    },
    {
     "data": {
      "text/html": [
       "<pre>| 29      | 1.23s        | 0.00659915             |</pre>"
      ],
      "text/plain": [
       "| 29      | 1.23s        | 0.00659915             |"
      ]
     },
     "metadata": {},
     "output_type": "display_data"
    },
    {
     "data": {
      "text/html": [
       "<pre>| 30      | 1.26s        | 0.00643762             |</pre>"
      ],
      "text/plain": [
       "| 30      | 1.26s        | 0.00643762             |"
      ]
     },
     "metadata": {},
     "output_type": "display_data"
    },
    {
     "data": {
      "text/html": [
       "<pre>| 31      | 1.29s        | 0.00628451             |</pre>"
      ],
      "text/plain": [
       "| 31      | 1.29s        | 0.00628451             |"
      ]
     },
     "metadata": {},
     "output_type": "display_data"
    },
    {
     "data": {
      "text/html": [
       "<pre>| 32      | 1.32s        | 0.00613882             |</pre>"
      ],
      "text/plain": [
       "| 32      | 1.32s        | 0.00613882             |"
      ]
     },
     "metadata": {},
     "output_type": "display_data"
    },
    {
     "data": {
      "text/html": [
       "<pre>| 33      | 1.36s        | 0.00599967             |</pre>"
      ],
      "text/plain": [
       "| 33      | 1.36s        | 0.00599967             |"
      ]
     },
     "metadata": {},
     "output_type": "display_data"
    },
    {
     "data": {
      "text/html": [
       "<pre>| 34      | 1.41s        | 0.0058664              |</pre>"
      ],
      "text/plain": [
       "| 34      | 1.41s        | 0.0058664              |"
      ]
     },
     "metadata": {},
     "output_type": "display_data"
    },
    {
     "data": {
      "text/html": [
       "<pre>| 35      | 1.43s        | 0.00573812             |</pre>"
      ],
      "text/plain": [
       "| 35      | 1.43s        | 0.00573812             |"
      ]
     },
     "metadata": {},
     "output_type": "display_data"
    },
    {
     "data": {
      "text/html": [
       "<pre>| 36      | 1.46s        | 0.00561447             |</pre>"
      ],
      "text/plain": [
       "| 36      | 1.46s        | 0.00561447             |"
      ]
     },
     "metadata": {},
     "output_type": "display_data"
    },
    {
     "data": {
      "text/html": [
       "<pre>| 37      | 1.49s        | 0.00549463             |</pre>"
      ],
      "text/plain": [
       "| 37      | 1.49s        | 0.00549463             |"
      ]
     },
     "metadata": {},
     "output_type": "display_data"
    },
    {
     "data": {
      "text/html": [
       "<pre>| 38      | 1.54s        | 0.00537811             |</pre>"
      ],
      "text/plain": [
       "| 38      | 1.54s        | 0.00537811             |"
      ]
     },
     "metadata": {},
     "output_type": "display_data"
    },
    {
     "data": {
      "text/html": [
       "<pre>| 39      | 1.59s        | 0.00526504             |</pre>"
      ],
      "text/plain": [
       "| 39      | 1.59s        | 0.00526504             |"
      ]
     },
     "metadata": {},
     "output_type": "display_data"
    },
    {
     "data": {
      "text/html": [
       "<pre>| 40      | 1.62s        | 0.00515604             |</pre>"
      ],
      "text/plain": [
       "| 40      | 1.62s        | 0.00515604             |"
      ]
     },
     "metadata": {},
     "output_type": "display_data"
    },
    {
     "data": {
      "text/html": [
       "<pre>| 41      | 1.66s        | 0.00505219             |</pre>"
      ],
      "text/plain": [
       "| 41      | 1.66s        | 0.00505219             |"
      ]
     },
     "metadata": {},
     "output_type": "display_data"
    },
    {
     "data": {
      "text/html": [
       "<pre>| 42      | 1.67s        | 0.00495425             |</pre>"
      ],
      "text/plain": [
       "| 42      | 1.67s        | 0.00495425             |"
      ]
     },
     "metadata": {},
     "output_type": "display_data"
    },
    {
     "data": {
      "text/html": [
       "<pre>| 43      | 1.71s        | 0.00486184             |</pre>"
      ],
      "text/plain": [
       "| 43      | 1.71s        | 0.00486184             |"
      ]
     },
     "metadata": {},
     "output_type": "display_data"
    },
    {
     "data": {
      "text/html": [
       "<pre>| 44      | 1.75s        | 0.00477399             |</pre>"
      ],
      "text/plain": [
       "| 44      | 1.75s        | 0.00477399             |"
      ]
     },
     "metadata": {},
     "output_type": "display_data"
    },
    {
     "data": {
      "text/html": [
       "<pre>| 45      | 1.78s        | 0.00468982             |</pre>"
      ],
      "text/plain": [
       "| 45      | 1.78s        | 0.00468982             |"
      ]
     },
     "metadata": {},
     "output_type": "display_data"
    },
    {
     "data": {
      "text/html": [
       "<pre>| 46      | 1.82s        | 0.00460907             |</pre>"
      ],
      "text/plain": [
       "| 46      | 1.82s        | 0.00460907             |"
      ]
     },
     "metadata": {},
     "output_type": "display_data"
    },
    {
     "data": {
      "text/html": [
       "<pre>| 47      | 1.87s        | 0.00453132             |</pre>"
      ],
      "text/plain": [
       "| 47      | 1.87s        | 0.00453132             |"
      ]
     },
     "metadata": {},
     "output_type": "display_data"
    },
    {
     "data": {
      "text/html": [
       "<pre>| 48      | 1.90s        | 0.00445629             |</pre>"
      ],
      "text/plain": [
       "| 48      | 1.90s        | 0.00445629             |"
      ]
     },
     "metadata": {},
     "output_type": "display_data"
    },
    {
     "data": {
      "text/html": [
       "<pre>| 49      | 1.94s        | 0.00438381             |</pre>"
      ],
      "text/plain": [
       "| 49      | 1.94s        | 0.00438381             |"
      ]
     },
     "metadata": {},
     "output_type": "display_data"
    },
    {
     "data": {
      "text/html": [
       "<pre>| FINAL   | 1.94s        | 0.00438381             |</pre>"
      ],
      "text/plain": [
       "| FINAL   | 1.94s        | 0.00438381             |"
      ]
     },
     "metadata": {},
     "output_type": "display_data"
    },
    {
     "data": {
      "text/html": [
       "<pre>+---------+--------------+------------------------+</pre>"
      ],
      "text/plain": [
       "+---------+--------------+------------------------+"
      ]
     },
     "metadata": {},
     "output_type": "display_data"
    },
    {
     "data": {
      "text/html": [
       "<pre>Optimization Complete: Iteration limit reached.</pre>"
      ],
      "text/plain": [
       "Optimization Complete: Iteration limit reached."
      ]
     },
     "metadata": {},
     "output_type": "display_data"
    },
    {
     "data": {
      "text/html": [
       "<pre>Recsys training: model = factorization_recommender</pre>"
      ],
      "text/plain": [
       "Recsys training: model = factorization_recommender"
      ]
     },
     "metadata": {},
     "output_type": "display_data"
    },
    {
     "data": {
      "text/html": [
       "<pre>Preparing data set.</pre>"
      ],
      "text/plain": [
       "Preparing data set."
      ]
     },
     "metadata": {},
     "output_type": "display_data"
    },
    {
     "data": {
      "text/html": [
       "<pre>    Data has 24756 observations with 12294 users and 886 items.</pre>"
      ],
      "text/plain": [
       "    Data has 24756 observations with 12294 users and 886 items."
      ]
     },
     "metadata": {},
     "output_type": "display_data"
    },
    {
     "data": {
      "text/html": [
       "<pre>    Data prepared in: 0.054482s</pre>"
      ],
      "text/plain": [
       "    Data prepared in: 0.054482s"
      ]
     },
     "metadata": {},
     "output_type": "display_data"
    },
    {
     "data": {
      "text/html": [
       "<pre>Training factorization_recommender for recommendations.</pre>"
      ],
      "text/plain": [
       "Training factorization_recommender for recommendations."
      ]
     },
     "metadata": {},
     "output_type": "display_data"
    },
    {
     "data": {
      "text/html": [
       "<pre>+------------------------------+--------------------------------------------------+----------+</pre>"
      ],
      "text/plain": [
       "+------------------------------+--------------------------------------------------+----------+"
      ]
     },
     "metadata": {},
     "output_type": "display_data"
    },
    {
     "data": {
      "text/html": [
       "<pre>| Parameter                    | Description                                      | Value    |</pre>"
      ],
      "text/plain": [
       "| Parameter                    | Description                                      | Value    |"
      ]
     },
     "metadata": {},
     "output_type": "display_data"
    },
    {
     "data": {
      "text/html": [
       "<pre>+------------------------------+--------------------------------------------------+----------+</pre>"
      ],
      "text/plain": [
       "+------------------------------+--------------------------------------------------+----------+"
      ]
     },
     "metadata": {},
     "output_type": "display_data"
    },
    {
     "data": {
      "text/html": [
       "<pre>| num_factors                  | Factor Dimension                                 | 8        |</pre>"
      ],
      "text/plain": [
       "| num_factors                  | Factor Dimension                                 | 8        |"
      ]
     },
     "metadata": {},
     "output_type": "display_data"
    },
    {
     "data": {
      "text/html": [
       "<pre>| regularization               | L2 Regularization on Factors                     | 1e-08    |</pre>"
      ],
      "text/plain": [
       "| regularization               | L2 Regularization on Factors                     | 1e-08    |"
      ]
     },
     "metadata": {},
     "output_type": "display_data"
    },
    {
     "data": {
      "text/html": [
       "<pre>| max_iterations               | Maximum Number of Iterations                     | 50       |</pre>"
      ],
      "text/plain": [
       "| max_iterations               | Maximum Number of Iterations                     | 50       |"
      ]
     },
     "metadata": {},
     "output_type": "display_data"
    },
    {
     "data": {
      "text/html": [
       "<pre>| solver                       | Solver used for training                         | als      |</pre>"
      ],
      "text/plain": [
       "| solver                       | Solver used for training                         | als      |"
      ]
     },
     "metadata": {},
     "output_type": "display_data"
    },
    {
     "data": {
      "text/html": [
       "<pre>+------------------------------+--------------------------------------------------+----------+</pre>"
      ],
      "text/plain": [
       "+------------------------------+--------------------------------------------------+----------+"
      ]
     },
     "metadata": {},
     "output_type": "display_data"
    },
    {
     "data": {
      "text/html": [
       "<pre>+---------+--------------+------------------------+</pre>"
      ],
      "text/plain": [
       "+---------+--------------+------------------------+"
      ]
     },
     "metadata": {},
     "output_type": "display_data"
    },
    {
     "data": {
      "text/html": [
       "<pre>| Iter.   | Elapsed time | RMSE                   |</pre>"
      ],
      "text/plain": [
       "| Iter.   | Elapsed time | RMSE                   |"
      ]
     },
     "metadata": {},
     "output_type": "display_data"
    },
    {
     "data": {
      "text/html": [
       "<pre>+---------+--------------+------------------------+</pre>"
      ],
      "text/plain": [
       "+---------+--------------+------------------------+"
      ]
     },
     "metadata": {},
     "output_type": "display_data"
    },
    {
     "data": {
      "text/html": [
       "<pre>| Initial | 44us         | NA                     |</pre>"
      ],
      "text/plain": [
       "| Initial | 44us         | NA                     |"
      ]
     },
     "metadata": {},
     "output_type": "display_data"
    },
    {
     "data": {
      "text/html": [
       "<pre>+---------+--------------+------------------------+</pre>"
      ],
      "text/plain": [
       "+---------+--------------+------------------------+"
      ]
     },
     "metadata": {},
     "output_type": "display_data"
    },
    {
     "data": {
      "text/html": [
       "<pre>| 0       | 46.661ms     | 0.177809               |</pre>"
      ],
      "text/plain": [
       "| 0       | 46.661ms     | 0.177809               |"
      ]
     },
     "metadata": {},
     "output_type": "display_data"
    },
    {
     "data": {
      "text/html": [
       "<pre>| 1       | 80.863ms     | 0.0158731              |</pre>"
      ],
      "text/plain": [
       "| 1       | 80.863ms     | 0.0158731              |"
      ]
     },
     "metadata": {},
     "output_type": "display_data"
    },
    {
     "data": {
      "text/html": [
       "<pre>| 2       | 123.57ms     | 0.0116463              |</pre>"
      ],
      "text/plain": [
       "| 2       | 123.57ms     | 0.0116463              |"
      ]
     },
     "metadata": {},
     "output_type": "display_data"
    },
    {
     "data": {
      "text/html": [
       "<pre>| 3       | 154.979ms    | 0.00953962             |</pre>"
      ],
      "text/plain": [
       "| 3       | 154.979ms    | 0.00953962             |"
      ]
     },
     "metadata": {},
     "output_type": "display_data"
    },
    {
     "data": {
      "text/html": [
       "<pre>| 4       | 193.265ms    | 0.00818862             |</pre>"
      ],
      "text/plain": [
       "| 4       | 193.265ms    | 0.00818862             |"
      ]
     },
     "metadata": {},
     "output_type": "display_data"
    },
    {
     "data": {
      "text/html": [
       "<pre>| 5       | 215.385ms    | 0.00730636             |</pre>"
      ],
      "text/plain": [
       "| 5       | 215.385ms    | 0.00730636             |"
      ]
     },
     "metadata": {},
     "output_type": "display_data"
    },
    {
     "data": {
      "text/html": [
       "<pre>| 6       | 233.492ms    | 0.00667903             |</pre>"
      ],
      "text/plain": [
       "| 6       | 233.492ms    | 0.00667903             |"
      ]
     },
     "metadata": {},
     "output_type": "display_data"
    },
    {
     "data": {
      "text/html": [
       "<pre>| 7       | 278.873ms    | 0.00619556             |</pre>"
      ],
      "text/plain": [
       "| 7       | 278.873ms    | 0.00619556             |"
      ]
     },
     "metadata": {},
     "output_type": "display_data"
    },
    {
     "data": {
      "text/html": [
       "<pre>| 8       | 332.186ms    | 0.00579155             |</pre>"
      ],
      "text/plain": [
       "| 8       | 332.186ms    | 0.00579155             |"
      ]
     },
     "metadata": {},
     "output_type": "display_data"
    },
    {
     "data": {
      "text/html": [
       "<pre>| 9       | 378.819ms    | 0.00544401             |</pre>"
      ],
      "text/plain": [
       "| 9       | 378.819ms    | 0.00544401             |"
      ]
     },
     "metadata": {},
     "output_type": "display_data"
    },
    {
     "data": {
      "text/html": [
       "<pre>| 10      | 438.885ms    | 0.00512956             |</pre>"
      ],
      "text/plain": [
       "| 10      | 438.885ms    | 0.00512956             |"
      ]
     },
     "metadata": {},
     "output_type": "display_data"
    },
    {
     "data": {
      "text/html": [
       "<pre>| 11      | 480.757ms    | 0.00483789             |</pre>"
      ],
      "text/plain": [
       "| 11      | 480.757ms    | 0.00483789             |"
      ]
     },
     "metadata": {},
     "output_type": "display_data"
    },
    {
     "data": {
      "text/html": [
       "<pre>| 12      | 533.702ms    | 0.00455935             |</pre>"
      ],
      "text/plain": [
       "| 12      | 533.702ms    | 0.00455935             |"
      ]
     },
     "metadata": {},
     "output_type": "display_data"
    },
    {
     "data": {
      "text/html": [
       "<pre>| 13      | 594.826ms    | 0.00428547             |</pre>"
      ],
      "text/plain": [
       "| 13      | 594.826ms    | 0.00428547             |"
      ]
     },
     "metadata": {},
     "output_type": "display_data"
    },
    {
     "data": {
      "text/html": [
       "<pre>| 14      | 640.494ms    | 0.00401223             |</pre>"
      ],
      "text/plain": [
       "| 14      | 640.494ms    | 0.00401223             |"
      ]
     },
     "metadata": {},
     "output_type": "display_data"
    },
    {
     "data": {
      "text/html": [
       "<pre>| 15      | 691.165ms    | 0.0037408              |</pre>"
      ],
      "text/plain": [
       "| 15      | 691.165ms    | 0.0037408              |"
      ]
     },
     "metadata": {},
     "output_type": "display_data"
    },
    {
     "data": {
      "text/html": [
       "<pre>| 16      | 727.265ms    | 0.00347623             |</pre>"
      ],
      "text/plain": [
       "| 16      | 727.265ms    | 0.00347623             |"
      ]
     },
     "metadata": {},
     "output_type": "display_data"
    },
    {
     "data": {
      "text/html": [
       "<pre>| 17      | 775.9ms      | 0.00322722             |</pre>"
      ],
      "text/plain": [
       "| 17      | 775.9ms      | 0.00322722             |"
      ]
     },
     "metadata": {},
     "output_type": "display_data"
    },
    {
     "data": {
      "text/html": [
       "<pre>| 18      | 805.086ms    | 0.00300435             |</pre>"
      ],
      "text/plain": [
       "| 18      | 805.086ms    | 0.00300435             |"
      ]
     },
     "metadata": {},
     "output_type": "display_data"
    },
    {
     "data": {
      "text/html": [
       "<pre>| 19      | 849.742ms    | 0.0028144              |</pre>"
      ],
      "text/plain": [
       "| 19      | 849.742ms    | 0.0028144              |"
      ]
     },
     "metadata": {},
     "output_type": "display_data"
    },
    {
     "data": {
      "text/html": [
       "<pre>| 20      | 897.524ms    | 0.0026584              |</pre>"
      ],
      "text/plain": [
       "| 20      | 897.524ms    | 0.0026584              |"
      ]
     },
     "metadata": {},
     "output_type": "display_data"
    },
    {
     "data": {
      "text/html": [
       "<pre>| 21      | 945.521ms    | 0.00253003             |</pre>"
      ],
      "text/plain": [
       "| 21      | 945.521ms    | 0.00253003             |"
      ]
     },
     "metadata": {},
     "output_type": "display_data"
    },
    {
     "data": {
      "text/html": [
       "<pre>| 22      | 990.157ms    | 0.00242259             |</pre>"
      ],
      "text/plain": [
       "| 22      | 990.157ms    | 0.00242259             |"
      ]
     },
     "metadata": {},
     "output_type": "display_data"
    },
    {
     "data": {
      "text/html": [
       "<pre>| 23      | 1.02s        | 0.00233165             |</pre>"
      ],
      "text/plain": [
       "| 23      | 1.02s        | 0.00233165             |"
      ]
     },
     "metadata": {},
     "output_type": "display_data"
    },
    {
     "data": {
      "text/html": [
       "<pre>| 24      | 1.05s        | 0.00225218             |</pre>"
      ],
      "text/plain": [
       "| 24      | 1.05s        | 0.00225218             |"
      ]
     },
     "metadata": {},
     "output_type": "display_data"
    },
    {
     "data": {
      "text/html": [
       "<pre>| 25      | 1.09s        | 0.00218071             |</pre>"
      ],
      "text/plain": [
       "| 25      | 1.09s        | 0.00218071             |"
      ]
     },
     "metadata": {},
     "output_type": "display_data"
    },
    {
     "data": {
      "text/html": [
       "<pre>| 26      | 1.14s        | 0.00211624             |</pre>"
      ],
      "text/plain": [
       "| 26      | 1.14s        | 0.00211624             |"
      ]
     },
     "metadata": {},
     "output_type": "display_data"
    },
    {
     "data": {
      "text/html": [
       "<pre>| 27      | 1.18s        | 0.00205774             |</pre>"
      ],
      "text/plain": [
       "| 27      | 1.18s        | 0.00205774             |"
      ]
     },
     "metadata": {},
     "output_type": "display_data"
    },
    {
     "data": {
      "text/html": [
       "<pre>| 28      | 1.24s        | 0.0020034              |</pre>"
      ],
      "text/plain": [
       "| 28      | 1.24s        | 0.0020034              |"
      ]
     },
     "metadata": {},
     "output_type": "display_data"
    },
    {
     "data": {
      "text/html": [
       "<pre>| 29      | 1.28s        | 0.00195305             |</pre>"
      ],
      "text/plain": [
       "| 29      | 1.28s        | 0.00195305             |"
      ]
     },
     "metadata": {},
     "output_type": "display_data"
    },
    {
     "data": {
      "text/html": [
       "<pre>| 30      | 1.33s        | 0.00190665             |</pre>"
      ],
      "text/plain": [
       "| 30      | 1.33s        | 0.00190665             |"
      ]
     },
     "metadata": {},
     "output_type": "display_data"
    },
    {
     "data": {
      "text/html": [
       "<pre>| 31      | 1.37s        | 0.00186238             |</pre>"
      ],
      "text/plain": [
       "| 31      | 1.37s        | 0.00186238             |"
      ]
     },
     "metadata": {},
     "output_type": "display_data"
    },
    {
     "data": {
      "text/html": [
       "<pre>| 32      | 1.41s        | 0.00182114             |</pre>"
      ],
      "text/plain": [
       "| 32      | 1.41s        | 0.00182114             |"
      ]
     },
     "metadata": {},
     "output_type": "display_data"
    },
    {
     "data": {
      "text/html": [
       "<pre>| 33      | 1.45s        | 0.00178246             |</pre>"
      ],
      "text/plain": [
       "| 33      | 1.45s        | 0.00178246             |"
      ]
     },
     "metadata": {},
     "output_type": "display_data"
    },
    {
     "data": {
      "text/html": [
       "<pre>| 34      | 1.48s        | 0.00174516             |</pre>"
      ],
      "text/plain": [
       "| 34      | 1.48s        | 0.00174516             |"
      ]
     },
     "metadata": {},
     "output_type": "display_data"
    },
    {
     "data": {
      "text/html": [
       "<pre>| 35      | 1.52s        | 0.00171009             |</pre>"
      ],
      "text/plain": [
       "| 35      | 1.52s        | 0.00171009             |"
      ]
     },
     "metadata": {},
     "output_type": "display_data"
    },
    {
     "data": {
      "text/html": [
       "<pre>| 36      | 1.57s        | 0.00167691             |</pre>"
      ],
      "text/plain": [
       "| 36      | 1.57s        | 0.00167691             |"
      ]
     },
     "metadata": {},
     "output_type": "display_data"
    },
    {
     "data": {
      "text/html": [
       "<pre>| 37      | 1.65s        | 0.00164485             |</pre>"
      ],
      "text/plain": [
       "| 37      | 1.65s        | 0.00164485             |"
      ]
     },
     "metadata": {},
     "output_type": "display_data"
    },
    {
     "data": {
      "text/html": [
       "<pre>| 38      | 1.68s        | 0.00161457             |</pre>"
      ],
      "text/plain": [
       "| 38      | 1.68s        | 0.00161457             |"
      ]
     },
     "metadata": {},
     "output_type": "display_data"
    },
    {
     "data": {
      "text/html": [
       "<pre>| 39      | 1.74s        | 0.00158542             |</pre>"
      ],
      "text/plain": [
       "| 39      | 1.74s        | 0.00158542             |"
      ]
     },
     "metadata": {},
     "output_type": "display_data"
    },
    {
     "data": {
      "text/html": [
       "<pre>| 40      | 1.78s        | 0.00155751             |</pre>"
      ],
      "text/plain": [
       "| 40      | 1.78s        | 0.00155751             |"
      ]
     },
     "metadata": {},
     "output_type": "display_data"
    },
    {
     "data": {
      "text/html": [
       "<pre>| 41      | 1.82s        | 0.00153061             |</pre>"
      ],
      "text/plain": [
       "| 41      | 1.82s        | 0.00153061             |"
      ]
     },
     "metadata": {},
     "output_type": "display_data"
    },
    {
     "data": {
      "text/html": [
       "<pre>| 42      | 1.86s        | 0.00150445             |</pre>"
      ],
      "text/plain": [
       "| 42      | 1.86s        | 0.00150445             |"
      ]
     },
     "metadata": {},
     "output_type": "display_data"
    },
    {
     "data": {
      "text/html": [
       "<pre>| 43      | 1.91s        | 0.00147939             |</pre>"
      ],
      "text/plain": [
       "| 43      | 1.91s        | 0.00147939             |"
      ]
     },
     "metadata": {},
     "output_type": "display_data"
    },
    {
     "data": {
      "text/html": [
       "<pre>| 44      | 1.96s        | 0.00145554             |</pre>"
      ],
      "text/plain": [
       "| 44      | 1.96s        | 0.00145554             |"
      ]
     },
     "metadata": {},
     "output_type": "display_data"
    },
    {
     "data": {
      "text/html": [
       "<pre>| 45      | 2.00s        | 0.00143222             |</pre>"
      ],
      "text/plain": [
       "| 45      | 2.00s        | 0.00143222             |"
      ]
     },
     "metadata": {},
     "output_type": "display_data"
    },
    {
     "data": {
      "text/html": [
       "<pre>| 46      | 2.03s        | 0.00140978             |</pre>"
      ],
      "text/plain": [
       "| 46      | 2.03s        | 0.00140978             |"
      ]
     },
     "metadata": {},
     "output_type": "display_data"
    },
    {
     "data": {
      "text/html": [
       "<pre>| 47      | 2.10s        | 0.00138816             |</pre>"
      ],
      "text/plain": [
       "| 47      | 2.10s        | 0.00138816             |"
      ]
     },
     "metadata": {},
     "output_type": "display_data"
    },
    {
     "data": {
      "text/html": [
       "<pre>| 48      | 2.13s        | 0.00136722             |</pre>"
      ],
      "text/plain": [
       "| 48      | 2.13s        | 0.00136722             |"
      ]
     },
     "metadata": {},
     "output_type": "display_data"
    },
    {
     "data": {
      "text/html": [
       "<pre>| 49      | 2.18s        | 0.00134677             |</pre>"
      ],
      "text/plain": [
       "| 49      | 2.18s        | 0.00134677             |"
      ]
     },
     "metadata": {},
     "output_type": "display_data"
    },
    {
     "data": {
      "text/html": [
       "<pre>| FINAL   | 2.18s        | 0.00134677             |</pre>"
      ],
      "text/plain": [
       "| FINAL   | 2.18s        | 0.00134677             |"
      ]
     },
     "metadata": {},
     "output_type": "display_data"
    },
    {
     "data": {
      "text/html": [
       "<pre>+---------+--------------+------------------------+</pre>"
      ],
      "text/plain": [
       "+---------+--------------+------------------------+"
      ]
     },
     "metadata": {},
     "output_type": "display_data"
    },
    {
     "data": {
      "text/html": [
       "<pre>Optimization Complete: Iteration limit reached.</pre>"
      ],
      "text/plain": [
       "Optimization Complete: Iteration limit reached."
      ]
     },
     "metadata": {},
     "output_type": "display_data"
    },
    {
     "data": {
      "text/html": [
       "<pre>Recsys training: model = factorization_recommender</pre>"
      ],
      "text/plain": [
       "Recsys training: model = factorization_recommender"
      ]
     },
     "metadata": {},
     "output_type": "display_data"
    },
    {
     "data": {
      "text/html": [
       "<pre>Preparing data set.</pre>"
      ],
      "text/plain": [
       "Preparing data set."
      ]
     },
     "metadata": {},
     "output_type": "display_data"
    },
    {
     "data": {
      "text/html": [
       "<pre>    Data has 24756 observations with 12294 users and 886 items.</pre>"
      ],
      "text/plain": [
       "    Data has 24756 observations with 12294 users and 886 items."
      ]
     },
     "metadata": {},
     "output_type": "display_data"
    },
    {
     "data": {
      "text/html": [
       "<pre>    Data prepared in: 0.047935s</pre>"
      ],
      "text/plain": [
       "    Data prepared in: 0.047935s"
      ]
     },
     "metadata": {},
     "output_type": "display_data"
    },
    {
     "data": {
      "text/html": [
       "<pre>Training factorization_recommender for recommendations.</pre>"
      ],
      "text/plain": [
       "Training factorization_recommender for recommendations."
      ]
     },
     "metadata": {},
     "output_type": "display_data"
    },
    {
     "data": {
      "text/html": [
       "<pre>+------------------------------+--------------------------------------------------+----------+</pre>"
      ],
      "text/plain": [
       "+------------------------------+--------------------------------------------------+----------+"
      ]
     },
     "metadata": {},
     "output_type": "display_data"
    },
    {
     "data": {
      "text/html": [
       "<pre>| Parameter                    | Description                                      | Value    |</pre>"
      ],
      "text/plain": [
       "| Parameter                    | Description                                      | Value    |"
      ]
     },
     "metadata": {},
     "output_type": "display_data"
    },
    {
     "data": {
      "text/html": [
       "<pre>+------------------------------+--------------------------------------------------+----------+</pre>"
      ],
      "text/plain": [
       "+------------------------------+--------------------------------------------------+----------+"
      ]
     },
     "metadata": {},
     "output_type": "display_data"
    },
    {
     "data": {
      "text/html": [
       "<pre>| num_factors                  | Factor Dimension                                 | 10       |</pre>"
      ],
      "text/plain": [
       "| num_factors                  | Factor Dimension                                 | 10       |"
      ]
     },
     "metadata": {},
     "output_type": "display_data"
    },
    {
     "data": {
      "text/html": [
       "<pre>| regularization               | L2 Regularization on Factors                     | 1e-08    |</pre>"
      ],
      "text/plain": [
       "| regularization               | L2 Regularization on Factors                     | 1e-08    |"
      ]
     },
     "metadata": {},
     "output_type": "display_data"
    },
    {
     "data": {
      "text/html": [
       "<pre>| max_iterations               | Maximum Number of Iterations                     | 50       |</pre>"
      ],
      "text/plain": [
       "| max_iterations               | Maximum Number of Iterations                     | 50       |"
      ]
     },
     "metadata": {},
     "output_type": "display_data"
    },
    {
     "data": {
      "text/html": [
       "<pre>| solver                       | Solver used for training                         | als      |</pre>"
      ],
      "text/plain": [
       "| solver                       | Solver used for training                         | als      |"
      ]
     },
     "metadata": {},
     "output_type": "display_data"
    },
    {
     "data": {
      "text/html": [
       "<pre>+------------------------------+--------------------------------------------------+----------+</pre>"
      ],
      "text/plain": [
       "+------------------------------+--------------------------------------------------+----------+"
      ]
     },
     "metadata": {},
     "output_type": "display_data"
    },
    {
     "data": {
      "text/html": [
       "<pre>+---------+--------------+------------------------+</pre>"
      ],
      "text/plain": [
       "+---------+--------------+------------------------+"
      ]
     },
     "metadata": {},
     "output_type": "display_data"
    },
    {
     "data": {
      "text/html": [
       "<pre>| Iter.   | Elapsed time | RMSE                   |</pre>"
      ],
      "text/plain": [
       "| Iter.   | Elapsed time | RMSE                   |"
      ]
     },
     "metadata": {},
     "output_type": "display_data"
    },
    {
     "data": {
      "text/html": [
       "<pre>+---------+--------------+------------------------+</pre>"
      ],
      "text/plain": [
       "+---------+--------------+------------------------+"
      ]
     },
     "metadata": {},
     "output_type": "display_data"
    },
    {
     "data": {
      "text/html": [
       "<pre>| Initial | 85us         | NA                     |</pre>"
      ],
      "text/plain": [
       "| Initial | 85us         | NA                     |"
      ]
     },
     "metadata": {},
     "output_type": "display_data"
    },
    {
     "data": {
      "text/html": [
       "<pre>+---------+--------------+------------------------+</pre>"
      ],
      "text/plain": [
       "+---------+--------------+------------------------+"
      ]
     },
     "metadata": {},
     "output_type": "display_data"
    },
    {
     "data": {
      "text/html": [
       "<pre>| 0       | 57.261ms     | 0.160069               |</pre>"
      ],
      "text/plain": [
       "| 0       | 57.261ms     | 0.160069               |"
      ]
     },
     "metadata": {},
     "output_type": "display_data"
    },
    {
     "data": {
      "text/html": [
       "<pre>| 1       | 116.038ms    | 0.00737893             |</pre>"
      ],
      "text/plain": [
       "| 1       | 116.038ms    | 0.00737893             |"
      ]
     },
     "metadata": {},
     "output_type": "display_data"
    },
    {
     "data": {
      "text/html": [
       "<pre>| 2       | 184.614ms    | 0.00517059             |</pre>"
      ],
      "text/plain": [
       "| 2       | 184.614ms    | 0.00517059             |"
      ]
     },
     "metadata": {},
     "output_type": "display_data"
    },
    {
     "data": {
      "text/html": [
       "<pre>| 3       | 214.506ms    | 0.00396586             |</pre>"
      ],
      "text/plain": [
       "| 3       | 214.506ms    | 0.00396586             |"
      ]
     },
     "metadata": {},
     "output_type": "display_data"
    },
    {
     "data": {
      "text/html": [
       "<pre>| 4       | 284.783ms    | 0.00322628             |</pre>"
      ],
      "text/plain": [
       "| 4       | 284.783ms    | 0.00322628             |"
      ]
     },
     "metadata": {},
     "output_type": "display_data"
    },
    {
     "data": {
      "text/html": [
       "<pre>| 5       | 332.539ms    | 0.00275989             |</pre>"
      ],
      "text/plain": [
       "| 5       | 332.539ms    | 0.00275989             |"
      ]
     },
     "metadata": {},
     "output_type": "display_data"
    },
    {
     "data": {
      "text/html": [
       "<pre>| 6       | 384.201ms    | 0.0024477              |</pre>"
      ],
      "text/plain": [
       "| 6       | 384.201ms    | 0.0024477              |"
      ]
     },
     "metadata": {},
     "output_type": "display_data"
    },
    {
     "data": {
      "text/html": [
       "<pre>| 7       | 438.079ms    | 0.00222576             |</pre>"
      ],
      "text/plain": [
       "| 7       | 438.079ms    | 0.00222576             |"
      ]
     },
     "metadata": {},
     "output_type": "display_data"
    },
    {
     "data": {
      "text/html": [
       "<pre>| 8       | 478.578ms    | 0.00205669             |</pre>"
      ],
      "text/plain": [
       "| 8       | 478.578ms    | 0.00205669             |"
      ]
     },
     "metadata": {},
     "output_type": "display_data"
    },
    {
     "data": {
      "text/html": [
       "<pre>| 9       | 510.924ms    | 0.0019238              |</pre>"
      ],
      "text/plain": [
       "| 9       | 510.924ms    | 0.0019238              |"
      ]
     },
     "metadata": {},
     "output_type": "display_data"
    },
    {
     "data": {
      "text/html": [
       "<pre>| 10      | 548.394ms    | 0.00181557             |</pre>"
      ],
      "text/plain": [
       "| 10      | 548.394ms    | 0.00181557             |"
      ]
     },
     "metadata": {},
     "output_type": "display_data"
    },
    {
     "data": {
      "text/html": [
       "<pre>| 11      | 594.072ms    | 0.00172566             |</pre>"
      ],
      "text/plain": [
       "| 11      | 594.072ms    | 0.00172566             |"
      ]
     },
     "metadata": {},
     "output_type": "display_data"
    },
    {
     "data": {
      "text/html": [
       "<pre>| 12      | 641.261ms    | 0.00164927             |</pre>"
      ],
      "text/plain": [
       "| 12      | 641.261ms    | 0.00164927             |"
      ]
     },
     "metadata": {},
     "output_type": "display_data"
    },
    {
     "data": {
      "text/html": [
       "<pre>| 13      | 692.384ms    | 0.00158272             |</pre>"
      ],
      "text/plain": [
       "| 13      | 692.384ms    | 0.00158272             |"
      ]
     },
     "metadata": {},
     "output_type": "display_data"
    },
    {
     "data": {
      "text/html": [
       "<pre>| 14      | 738.269ms    | 0.00152451             |</pre>"
      ],
      "text/plain": [
       "| 14      | 738.269ms    | 0.00152451             |"
      ]
     },
     "metadata": {},
     "output_type": "display_data"
    },
    {
     "data": {
      "text/html": [
       "<pre>| 15      | 777.106ms    | 0.00147288             |</pre>"
      ],
      "text/plain": [
       "| 15      | 777.106ms    | 0.00147288             |"
      ]
     },
     "metadata": {},
     "output_type": "display_data"
    },
    {
     "data": {
      "text/html": [
       "<pre>| 16      | 834.406ms    | 0.00142605             |</pre>"
      ],
      "text/plain": [
       "| 16      | 834.406ms    | 0.00142605             |"
      ]
     },
     "metadata": {},
     "output_type": "display_data"
    },
    {
     "data": {
      "text/html": [
       "<pre>| 17      | 867.239ms    | 0.0013836              |</pre>"
      ],
      "text/plain": [
       "| 17      | 867.239ms    | 0.0013836              |"
      ]
     },
     "metadata": {},
     "output_type": "display_data"
    },
    {
     "data": {
      "text/html": [
       "<pre>| 18      | 915.982ms    | 0.00134437             |</pre>"
      ],
      "text/plain": [
       "| 18      | 915.982ms    | 0.00134437             |"
      ]
     },
     "metadata": {},
     "output_type": "display_data"
    },
    {
     "data": {
      "text/html": [
       "<pre>| 19      | 951.171ms    | 0.00130831             |</pre>"
      ],
      "text/plain": [
       "| 19      | 951.171ms    | 0.00130831             |"
      ]
     },
     "metadata": {},
     "output_type": "display_data"
    },
    {
     "data": {
      "text/html": [
       "<pre>| 20      | 1.01s        | 0.00127442             |</pre>"
      ],
      "text/plain": [
       "| 20      | 1.01s        | 0.00127442             |"
      ]
     },
     "metadata": {},
     "output_type": "display_data"
    },
    {
     "data": {
      "text/html": [
       "<pre>| 21      | 1.04s        | 0.0012428              |</pre>"
      ],
      "text/plain": [
       "| 21      | 1.04s        | 0.0012428              |"
      ]
     },
     "metadata": {},
     "output_type": "display_data"
    },
    {
     "data": {
      "text/html": [
       "<pre>| 22      | 1.06s        | 0.00121335             |</pre>"
      ],
      "text/plain": [
       "| 22      | 1.06s        | 0.00121335             |"
      ]
     },
     "metadata": {},
     "output_type": "display_data"
    },
    {
     "data": {
      "text/html": [
       "<pre>| 23      | 1.10s        | 0.00118554             |</pre>"
      ],
      "text/plain": [
       "| 23      | 1.10s        | 0.00118554             |"
      ]
     },
     "metadata": {},
     "output_type": "display_data"
    },
    {
     "data": {
      "text/html": [
       "<pre>| 24      | 1.14s        | 0.00115937             |</pre>"
      ],
      "text/plain": [
       "| 24      | 1.14s        | 0.00115937             |"
      ]
     },
     "metadata": {},
     "output_type": "display_data"
    },
    {
     "data": {
      "text/html": [
       "<pre>| 25      | 1.19s        | 0.00113429             |</pre>"
      ],
      "text/plain": [
       "| 25      | 1.19s        | 0.00113429             |"
      ]
     },
     "metadata": {},
     "output_type": "display_data"
    },
    {
     "data": {
      "text/html": [
       "<pre>| 26      | 1.23s        | 0.00111054             |</pre>"
      ],
      "text/plain": [
       "| 26      | 1.23s        | 0.00111054             |"
      ]
     },
     "metadata": {},
     "output_type": "display_data"
    },
    {
     "data": {
      "text/html": [
       "<pre>| 27      | 1.29s        | 0.00108793             |</pre>"
      ],
      "text/plain": [
       "| 27      | 1.29s        | 0.00108793             |"
      ]
     },
     "metadata": {},
     "output_type": "display_data"
    },
    {
     "data": {
      "text/html": [
       "<pre>| 28      | 1.34s        | 0.00106653             |</pre>"
      ],
      "text/plain": [
       "| 28      | 1.34s        | 0.00106653             |"
      ]
     },
     "metadata": {},
     "output_type": "display_data"
    },
    {
     "data": {
      "text/html": [
       "<pre>| 29      | 1.36s        | 0.00104602             |</pre>"
      ],
      "text/plain": [
       "| 29      | 1.36s        | 0.00104602             |"
      ]
     },
     "metadata": {},
     "output_type": "display_data"
    },
    {
     "data": {
      "text/html": [
       "<pre>| 30      | 1.40s        | 0.00102657             |</pre>"
      ],
      "text/plain": [
       "| 30      | 1.40s        | 0.00102657             |"
      ]
     },
     "metadata": {},
     "output_type": "display_data"
    },
    {
     "data": {
      "text/html": [
       "<pre>| 31      | 1.43s        | 0.00100785             |</pre>"
      ],
      "text/plain": [
       "| 31      | 1.43s        | 0.00100785             |"
      ]
     },
     "metadata": {},
     "output_type": "display_data"
    },
    {
     "data": {
      "text/html": [
       "<pre>| 32      | 1.48s        | 0.000989878            |</pre>"
      ],
      "text/plain": [
       "| 32      | 1.48s        | 0.000989878            |"
      ]
     },
     "metadata": {},
     "output_type": "display_data"
    },
    {
     "data": {
      "text/html": [
       "<pre>| 33      | 1.52s        | 0.000972722            |</pre>"
      ],
      "text/plain": [
       "| 33      | 1.52s        | 0.000972722            |"
      ]
     },
     "metadata": {},
     "output_type": "display_data"
    },
    {
     "data": {
      "text/html": [
       "<pre>| 34      | 1.56s        | 0.000956217            |</pre>"
      ],
      "text/plain": [
       "| 34      | 1.56s        | 0.000956217            |"
      ]
     },
     "metadata": {},
     "output_type": "display_data"
    },
    {
     "data": {
      "text/html": [
       "<pre>| 35      | 1.60s        | 0.000940393            |</pre>"
      ],
      "text/plain": [
       "| 35      | 1.60s        | 0.000940393            |"
      ]
     },
     "metadata": {},
     "output_type": "display_data"
    },
    {
     "data": {
      "text/html": [
       "<pre>| 36      | 1.64s        | 0.000925311            |</pre>"
      ],
      "text/plain": [
       "| 36      | 1.64s        | 0.000925311            |"
      ]
     },
     "metadata": {},
     "output_type": "display_data"
    },
    {
     "data": {
      "text/html": [
       "<pre>| 37      | 1.67s        | 0.000910701            |</pre>"
      ],
      "text/plain": [
       "| 37      | 1.67s        | 0.000910701            |"
      ]
     },
     "metadata": {},
     "output_type": "display_data"
    },
    {
     "data": {
      "text/html": [
       "<pre>| 38      | 1.71s        | 0.000896475            |</pre>"
      ],
      "text/plain": [
       "| 38      | 1.71s        | 0.000896475            |"
      ]
     },
     "metadata": {},
     "output_type": "display_data"
    },
    {
     "data": {
      "text/html": [
       "<pre>| 39      | 1.75s        | 0.000882817            |</pre>"
      ],
      "text/plain": [
       "| 39      | 1.75s        | 0.000882817            |"
      ]
     },
     "metadata": {},
     "output_type": "display_data"
    },
    {
     "data": {
      "text/html": [
       "<pre>| 40      | 1.79s        | 0.000869526            |</pre>"
      ],
      "text/plain": [
       "| 40      | 1.79s        | 0.000869526            |"
      ]
     },
     "metadata": {},
     "output_type": "display_data"
    },
    {
     "data": {
      "text/html": [
       "<pre>| 41      | 1.83s        | 0.000856606            |</pre>"
      ],
      "text/plain": [
       "| 41      | 1.83s        | 0.000856606            |"
      ]
     },
     "metadata": {},
     "output_type": "display_data"
    },
    {
     "data": {
      "text/html": [
       "<pre>| 42      | 1.86s        | 0.000844115            |</pre>"
      ],
      "text/plain": [
       "| 42      | 1.86s        | 0.000844115            |"
      ]
     },
     "metadata": {},
     "output_type": "display_data"
    },
    {
     "data": {
      "text/html": [
       "<pre>| 43      | 1.90s        | 0.000832171            |</pre>"
      ],
      "text/plain": [
       "| 43      | 1.90s        | 0.000832171            |"
      ]
     },
     "metadata": {},
     "output_type": "display_data"
    },
    {
     "data": {
      "text/html": [
       "<pre>| 44      | 1.95s        | 0.000820482            |</pre>"
      ],
      "text/plain": [
       "| 44      | 1.95s        | 0.000820482            |"
      ]
     },
     "metadata": {},
     "output_type": "display_data"
    },
    {
     "data": {
      "text/html": [
       "<pre>| 45      | 2.00s        | 0.000809022            |</pre>"
      ],
      "text/plain": [
       "| 45      | 2.00s        | 0.000809022            |"
      ]
     },
     "metadata": {},
     "output_type": "display_data"
    },
    {
     "data": {
      "text/html": [
       "<pre>| 46      | 2.04s        | 0.000798124            |</pre>"
      ],
      "text/plain": [
       "| 46      | 2.04s        | 0.000798124            |"
      ]
     },
     "metadata": {},
     "output_type": "display_data"
    },
    {
     "data": {
      "text/html": [
       "<pre>| 47      | 2.09s        | 0.000787427            |</pre>"
      ],
      "text/plain": [
       "| 47      | 2.09s        | 0.000787427            |"
      ]
     },
     "metadata": {},
     "output_type": "display_data"
    },
    {
     "data": {
      "text/html": [
       "<pre>| 48      | 2.14s        | 0.000777074            |</pre>"
      ],
      "text/plain": [
       "| 48      | 2.14s        | 0.000777074            |"
      ]
     },
     "metadata": {},
     "output_type": "display_data"
    },
    {
     "data": {
      "text/html": [
       "<pre>| 49      | 2.19s        | 0.000766881            |</pre>"
      ],
      "text/plain": [
       "| 49      | 2.19s        | 0.000766881            |"
      ]
     },
     "metadata": {},
     "output_type": "display_data"
    },
    {
     "data": {
      "text/html": [
       "<pre>| FINAL   | 2.19s        | 0.000766881            |</pre>"
      ],
      "text/plain": [
       "| FINAL   | 2.19s        | 0.000766881            |"
      ]
     },
     "metadata": {},
     "output_type": "display_data"
    },
    {
     "data": {
      "text/html": [
       "<pre>+---------+--------------+------------------------+</pre>"
      ],
      "text/plain": [
       "+---------+--------------+------------------------+"
      ]
     },
     "metadata": {},
     "output_type": "display_data"
    },
    {
     "data": {
      "text/html": [
       "<pre>Optimization Complete: Iteration limit reached.</pre>"
      ],
      "text/plain": [
       "Optimization Complete: Iteration limit reached."
      ]
     },
     "metadata": {},
     "output_type": "display_data"
    },
    {
     "data": {
      "text/html": [
       "<pre>Recsys training: model = factorization_recommender</pre>"
      ],
      "text/plain": [
       "Recsys training: model = factorization_recommender"
      ]
     },
     "metadata": {},
     "output_type": "display_data"
    },
    {
     "data": {
      "text/html": [
       "<pre>Preparing data set.</pre>"
      ],
      "text/plain": [
       "Preparing data set."
      ]
     },
     "metadata": {},
     "output_type": "display_data"
    },
    {
     "data": {
      "text/html": [
       "<pre>    Data has 24756 observations with 12294 users and 886 items.</pre>"
      ],
      "text/plain": [
       "    Data has 24756 observations with 12294 users and 886 items."
      ]
     },
     "metadata": {},
     "output_type": "display_data"
    },
    {
     "data": {
      "text/html": [
       "<pre>    Data prepared in: 0.051482s</pre>"
      ],
      "text/plain": [
       "    Data prepared in: 0.051482s"
      ]
     },
     "metadata": {},
     "output_type": "display_data"
    },
    {
     "data": {
      "text/html": [
       "<pre>Training factorization_recommender for recommendations.</pre>"
      ],
      "text/plain": [
       "Training factorization_recommender for recommendations."
      ]
     },
     "metadata": {},
     "output_type": "display_data"
    },
    {
     "data": {
      "text/html": [
       "<pre>+------------------------------+--------------------------------------------------+----------+</pre>"
      ],
      "text/plain": [
       "+------------------------------+--------------------------------------------------+----------+"
      ]
     },
     "metadata": {},
     "output_type": "display_data"
    },
    {
     "data": {
      "text/html": [
       "<pre>| Parameter                    | Description                                      | Value    |</pre>"
      ],
      "text/plain": [
       "| Parameter                    | Description                                      | Value    |"
      ]
     },
     "metadata": {},
     "output_type": "display_data"
    },
    {
     "data": {
      "text/html": [
       "<pre>+------------------------------+--------------------------------------------------+----------+</pre>"
      ],
      "text/plain": [
       "+------------------------------+--------------------------------------------------+----------+"
      ]
     },
     "metadata": {},
     "output_type": "display_data"
    },
    {
     "data": {
      "text/html": [
       "<pre>| num_factors                  | Factor Dimension                                 | 12       |</pre>"
      ],
      "text/plain": [
       "| num_factors                  | Factor Dimension                                 | 12       |"
      ]
     },
     "metadata": {},
     "output_type": "display_data"
    },
    {
     "data": {
      "text/html": [
       "<pre>| regularization               | L2 Regularization on Factors                     | 1e-08    |</pre>"
      ],
      "text/plain": [
       "| regularization               | L2 Regularization on Factors                     | 1e-08    |"
      ]
     },
     "metadata": {},
     "output_type": "display_data"
    },
    {
     "data": {
      "text/html": [
       "<pre>| max_iterations               | Maximum Number of Iterations                     | 50       |</pre>"
      ],
      "text/plain": [
       "| max_iterations               | Maximum Number of Iterations                     | 50       |"
      ]
     },
     "metadata": {},
     "output_type": "display_data"
    },
    {
     "data": {
      "text/html": [
       "<pre>| solver                       | Solver used for training                         | als      |</pre>"
      ],
      "text/plain": [
       "| solver                       | Solver used for training                         | als      |"
      ]
     },
     "metadata": {},
     "output_type": "display_data"
    },
    {
     "data": {
      "text/html": [
       "<pre>+------------------------------+--------------------------------------------------+----------+</pre>"
      ],
      "text/plain": [
       "+------------------------------+--------------------------------------------------+----------+"
      ]
     },
     "metadata": {},
     "output_type": "display_data"
    },
    {
     "data": {
      "text/html": [
       "<pre>+---------+--------------+------------------------+</pre>"
      ],
      "text/plain": [
       "+---------+--------------+------------------------+"
      ]
     },
     "metadata": {},
     "output_type": "display_data"
    },
    {
     "data": {
      "text/html": [
       "<pre>| Iter.   | Elapsed time | RMSE                   |</pre>"
      ],
      "text/plain": [
       "| Iter.   | Elapsed time | RMSE                   |"
      ]
     },
     "metadata": {},
     "output_type": "display_data"
    },
    {
     "data": {
      "text/html": [
       "<pre>+---------+--------------+------------------------+</pre>"
      ],
      "text/plain": [
       "+---------+--------------+------------------------+"
      ]
     },
     "metadata": {},
     "output_type": "display_data"
    },
    {
     "data": {
      "text/html": [
       "<pre>| Initial | 54us         | NA                     |</pre>"
      ],
      "text/plain": [
       "| Initial | 54us         | NA                     |"
      ]
     },
     "metadata": {},
     "output_type": "display_data"
    },
    {
     "data": {
      "text/html": [
       "<pre>+---------+--------------+------------------------+</pre>"
      ],
      "text/plain": [
       "+---------+--------------+------------------------+"
      ]
     },
     "metadata": {},
     "output_type": "display_data"
    },
    {
     "data": {
      "text/html": [
       "<pre>| 0       | 65.054ms     | 0.135291               |</pre>"
      ],
      "text/plain": [
       "| 0       | 65.054ms     | 0.135291               |"
      ]
     },
     "metadata": {},
     "output_type": "display_data"
    },
    {
     "data": {
      "text/html": [
       "<pre>| 1       | 120.426ms    | 0.00310711             |</pre>"
      ],
      "text/plain": [
       "| 1       | 120.426ms    | 0.00310711             |"
      ]
     },
     "metadata": {},
     "output_type": "display_data"
    },
    {
     "data": {
      "text/html": [
       "<pre>| 2       | 175.632ms    | 0.00176184             |</pre>"
      ],
      "text/plain": [
       "| 2       | 175.632ms    | 0.00176184             |"
      ]
     },
     "metadata": {},
     "output_type": "display_data"
    },
    {
     "data": {
      "text/html": [
       "<pre>| 3       | 210.558ms    | 0.00139262             |</pre>"
      ],
      "text/plain": [
       "| 3       | 210.558ms    | 0.00139262             |"
      ]
     },
     "metadata": {},
     "output_type": "display_data"
    },
    {
     "data": {
      "text/html": [
       "<pre>| 4       | 264.038ms    | 0.00123071             |</pre>"
      ],
      "text/plain": [
       "| 4       | 264.038ms    | 0.00123071             |"
      ]
     },
     "metadata": {},
     "output_type": "display_data"
    },
    {
     "data": {
      "text/html": [
       "<pre>| 5       | 302.599ms    | 0.00114231             |</pre>"
      ],
      "text/plain": [
       "| 5       | 302.599ms    | 0.00114231             |"
      ]
     },
     "metadata": {},
     "output_type": "display_data"
    },
    {
     "data": {
      "text/html": [
       "<pre>| 6       | 343.307ms    | 0.00108186             |</pre>"
      ],
      "text/plain": [
       "| 6       | 343.307ms    | 0.00108186             |"
      ]
     },
     "metadata": {},
     "output_type": "display_data"
    },
    {
     "data": {
      "text/html": [
       "<pre>| 7       | 384.126ms    | 0.00103402             |</pre>"
      ],
      "text/plain": [
       "| 7       | 384.126ms    | 0.00103402             |"
      ]
     },
     "metadata": {},
     "output_type": "display_data"
    },
    {
     "data": {
      "text/html": [
       "<pre>| 8       | 448.062ms    | 0.000993639            |</pre>"
      ],
      "text/plain": [
       "| 8       | 448.062ms    | 0.000993639            |"
      ]
     },
     "metadata": {},
     "output_type": "display_data"
    },
    {
     "data": {
      "text/html": [
       "<pre>| 9       | 499.517ms    | 0.000957515            |</pre>"
      ],
      "text/plain": [
       "| 9       | 499.517ms    | 0.000957515            |"
      ]
     },
     "metadata": {},
     "output_type": "display_data"
    },
    {
     "data": {
      "text/html": [
       "<pre>| 10      | 549.982ms    | 0.000926029            |</pre>"
      ],
      "text/plain": [
       "| 10      | 549.982ms    | 0.000926029            |"
      ]
     },
     "metadata": {},
     "output_type": "display_data"
    },
    {
     "data": {
      "text/html": [
       "<pre>| 11      | 585.207ms    | 0.000898056            |</pre>"
      ],
      "text/plain": [
       "| 11      | 585.207ms    | 0.000898056            |"
      ]
     },
     "metadata": {},
     "output_type": "display_data"
    },
    {
     "data": {
      "text/html": [
       "<pre>| 12      | 625.03ms     | 0.000871543            |</pre>"
      ],
      "text/plain": [
       "| 12      | 625.03ms     | 0.000871543            |"
      ]
     },
     "metadata": {},
     "output_type": "display_data"
    },
    {
     "data": {
      "text/html": [
       "<pre>| 13      | 659.531ms    | 0.000847732            |</pre>"
      ],
      "text/plain": [
       "| 13      | 659.531ms    | 0.000847732            |"
      ]
     },
     "metadata": {},
     "output_type": "display_data"
    },
    {
     "data": {
      "text/html": [
       "<pre>| 14      | 710.033ms    | 0.000825567            |</pre>"
      ],
      "text/plain": [
       "| 14      | 710.033ms    | 0.000825567            |"
      ]
     },
     "metadata": {},
     "output_type": "display_data"
    },
    {
     "data": {
      "text/html": [
       "<pre>| 15      | 741.703ms    | 0.000804784            |</pre>"
      ],
      "text/plain": [
       "| 15      | 741.703ms    | 0.000804784            |"
      ]
     },
     "metadata": {},
     "output_type": "display_data"
    },
    {
     "data": {
      "text/html": [
       "<pre>| 16      | 795.017ms    | 0.000785344            |</pre>"
      ],
      "text/plain": [
       "| 16      | 795.017ms    | 0.000785344            |"
      ]
     },
     "metadata": {},
     "output_type": "display_data"
    },
    {
     "data": {
      "text/html": [
       "<pre>| 17      | 844.531ms    | 0.000767283            |</pre>"
      ],
      "text/plain": [
       "| 17      | 844.531ms    | 0.000767283            |"
      ]
     },
     "metadata": {},
     "output_type": "display_data"
    },
    {
     "data": {
      "text/html": [
       "<pre>| 18      | 890.329ms    | 0.000750544            |</pre>"
      ],
      "text/plain": [
       "| 18      | 890.329ms    | 0.000750544            |"
      ]
     },
     "metadata": {},
     "output_type": "display_data"
    },
    {
     "data": {
      "text/html": [
       "<pre>| 19      | 927.436ms    | 0.000734533            |</pre>"
      ],
      "text/plain": [
       "| 19      | 927.436ms    | 0.000734533            |"
      ]
     },
     "metadata": {},
     "output_type": "display_data"
    },
    {
     "data": {
      "text/html": [
       "<pre>| 20      | 971.21ms     | 0.000719319            |</pre>"
      ],
      "text/plain": [
       "| 20      | 971.21ms     | 0.000719319            |"
      ]
     },
     "metadata": {},
     "output_type": "display_data"
    },
    {
     "data": {
      "text/html": [
       "<pre>| 21      | 1.01s        | 0.000704579            |</pre>"
      ],
      "text/plain": [
       "| 21      | 1.01s        | 0.000704579            |"
      ]
     },
     "metadata": {},
     "output_type": "display_data"
    },
    {
     "data": {
      "text/html": [
       "<pre>| 22      | 1.05s        | 0.000690559            |</pre>"
      ],
      "text/plain": [
       "| 22      | 1.05s        | 0.000690559            |"
      ]
     },
     "metadata": {},
     "output_type": "display_data"
    },
    {
     "data": {
      "text/html": [
       "<pre>| 23      | 1.10s        | 0.000677631            |</pre>"
      ],
      "text/plain": [
       "| 23      | 1.10s        | 0.000677631            |"
      ]
     },
     "metadata": {},
     "output_type": "display_data"
    },
    {
     "data": {
      "text/html": [
       "<pre>| 24      | 1.13s        | 0.000665012            |</pre>"
      ],
      "text/plain": [
       "| 24      | 1.13s        | 0.000665012            |"
      ]
     },
     "metadata": {},
     "output_type": "display_data"
    },
    {
     "data": {
      "text/html": [
       "<pre>| 25      | 1.16s        | 0.000652865            |</pre>"
      ],
      "text/plain": [
       "| 25      | 1.16s        | 0.000652865            |"
      ]
     },
     "metadata": {},
     "output_type": "display_data"
    },
    {
     "data": {
      "text/html": [
       "<pre>| 26      | 1.19s        | 0.000641705            |</pre>"
      ],
      "text/plain": [
       "| 26      | 1.19s        | 0.000641705            |"
      ]
     },
     "metadata": {},
     "output_type": "display_data"
    },
    {
     "data": {
      "text/html": [
       "<pre>| 27      | 1.22s        | 0.000631097            |</pre>"
      ],
      "text/plain": [
       "| 27      | 1.22s        | 0.000631097            |"
      ]
     },
     "metadata": {},
     "output_type": "display_data"
    },
    {
     "data": {
      "text/html": [
       "<pre>| 28      | 1.28s        | 0.000620573            |</pre>"
      ],
      "text/plain": [
       "| 28      | 1.28s        | 0.000620573            |"
      ]
     },
     "metadata": {},
     "output_type": "display_data"
    },
    {
     "data": {
      "text/html": [
       "<pre>| 29      | 1.33s        | 0.000610313            |</pre>"
      ],
      "text/plain": [
       "| 29      | 1.33s        | 0.000610313            |"
      ]
     },
     "metadata": {},
     "output_type": "display_data"
    },
    {
     "data": {
      "text/html": [
       "<pre>| 30      | 1.38s        | 0.000600447            |</pre>"
      ],
      "text/plain": [
       "| 30      | 1.38s        | 0.000600447            |"
      ]
     },
     "metadata": {},
     "output_type": "display_data"
    },
    {
     "data": {
      "text/html": [
       "<pre>| 31      | 1.42s        | 0.000591137            |</pre>"
      ],
      "text/plain": [
       "| 31      | 1.42s        | 0.000591137            |"
      ]
     },
     "metadata": {},
     "output_type": "display_data"
    },
    {
     "data": {
      "text/html": [
       "<pre>| 32      | 1.47s        | 0.000582221            |</pre>"
      ],
      "text/plain": [
       "| 32      | 1.47s        | 0.000582221            |"
      ]
     },
     "metadata": {},
     "output_type": "display_data"
    },
    {
     "data": {
      "text/html": [
       "<pre>| 33      | 1.50s        | 0.000573388            |</pre>"
      ],
      "text/plain": [
       "| 33      | 1.50s        | 0.000573388            |"
      ]
     },
     "metadata": {},
     "output_type": "display_data"
    },
    {
     "data": {
      "text/html": [
       "<pre>| 34      | 1.55s        | 0.000565055            |</pre>"
      ],
      "text/plain": [
       "| 34      | 1.55s        | 0.000565055            |"
      ]
     },
     "metadata": {},
     "output_type": "display_data"
    },
    {
     "data": {
      "text/html": [
       "<pre>| 35      | 1.59s        | 0.000557056            |</pre>"
      ],
      "text/plain": [
       "| 35      | 1.59s        | 0.000557056            |"
      ]
     },
     "metadata": {},
     "output_type": "display_data"
    },
    {
     "data": {
      "text/html": [
       "<pre>| 36      | 1.62s        | 0.000549353            |</pre>"
      ],
      "text/plain": [
       "| 36      | 1.62s        | 0.000549353            |"
      ]
     },
     "metadata": {},
     "output_type": "display_data"
    },
    {
     "data": {
      "text/html": [
       "<pre>| 37      | 1.67s        | 0.000541799            |</pre>"
      ],
      "text/plain": [
       "| 37      | 1.67s        | 0.000541799            |"
      ]
     },
     "metadata": {},
     "output_type": "display_data"
    },
    {
     "data": {
      "text/html": [
       "<pre>| 38      | 1.72s        | 0.000534592            |</pre>"
      ],
      "text/plain": [
       "| 38      | 1.72s        | 0.000534592            |"
      ]
     },
     "metadata": {},
     "output_type": "display_data"
    },
    {
     "data": {
      "text/html": [
       "<pre>| 39      | 1.77s        | 0.00052776             |</pre>"
      ],
      "text/plain": [
       "| 39      | 1.77s        | 0.00052776             |"
      ]
     },
     "metadata": {},
     "output_type": "display_data"
    },
    {
     "data": {
      "text/html": [
       "<pre>| 40      | 1.81s        | 0.000520665            |</pre>"
      ],
      "text/plain": [
       "| 40      | 1.81s        | 0.000520665            |"
      ]
     },
     "metadata": {},
     "output_type": "display_data"
    },
    {
     "data": {
      "text/html": [
       "<pre>| 41      | 1.85s        | 0.000514133            |</pre>"
      ],
      "text/plain": [
       "| 41      | 1.85s        | 0.000514133            |"
      ]
     },
     "metadata": {},
     "output_type": "display_data"
    },
    {
     "data": {
      "text/html": [
       "<pre>| 42      | 1.89s        | 0.000507671            |</pre>"
      ],
      "text/plain": [
       "| 42      | 1.89s        | 0.000507671            |"
      ]
     },
     "metadata": {},
     "output_type": "display_data"
    },
    {
     "data": {
      "text/html": [
       "<pre>| 43      | 1.93s        | 0.000501331            |</pre>"
      ],
      "text/plain": [
       "| 43      | 1.93s        | 0.000501331            |"
      ]
     },
     "metadata": {},
     "output_type": "display_data"
    },
    {
     "data": {
      "text/html": [
       "<pre>| 44      | 1.98s        | 0.000495182            |</pre>"
      ],
      "text/plain": [
       "| 44      | 1.98s        | 0.000495182            |"
      ]
     },
     "metadata": {},
     "output_type": "display_data"
    },
    {
     "data": {
      "text/html": [
       "<pre>| 45      | 2.03s        | 0.000489169            |</pre>"
      ],
      "text/plain": [
       "| 45      | 2.03s        | 0.000489169            |"
      ]
     },
     "metadata": {},
     "output_type": "display_data"
    },
    {
     "data": {
      "text/html": [
       "<pre>| 46      | 2.07s        | 0.000483452            |</pre>"
      ],
      "text/plain": [
       "| 46      | 2.07s        | 0.000483452            |"
      ]
     },
     "metadata": {},
     "output_type": "display_data"
    },
    {
     "data": {
      "text/html": [
       "<pre>| 47      | 2.11s        | 0.000477898            |</pre>"
      ],
      "text/plain": [
       "| 47      | 2.11s        | 0.000477898            |"
      ]
     },
     "metadata": {},
     "output_type": "display_data"
    },
    {
     "data": {
      "text/html": [
       "<pre>| 48      | 2.15s        | 0.000472377            |</pre>"
      ],
      "text/plain": [
       "| 48      | 2.15s        | 0.000472377            |"
      ]
     },
     "metadata": {},
     "output_type": "display_data"
    },
    {
     "data": {
      "text/html": [
       "<pre>| 49      | 2.21s        | 0.000466837            |</pre>"
      ],
      "text/plain": [
       "| 49      | 2.21s        | 0.000466837            |"
      ]
     },
     "metadata": {},
     "output_type": "display_data"
    },
    {
     "data": {
      "text/html": [
       "<pre>| FINAL   | 2.21s        | 0.000466837            |</pre>"
      ],
      "text/plain": [
       "| FINAL   | 2.21s        | 0.000466837            |"
      ]
     },
     "metadata": {},
     "output_type": "display_data"
    },
    {
     "data": {
      "text/html": [
       "<pre>+---------+--------------+------------------------+</pre>"
      ],
      "text/plain": [
       "+---------+--------------+------------------------+"
      ]
     },
     "metadata": {},
     "output_type": "display_data"
    },
    {
     "data": {
      "text/html": [
       "<pre>Optimization Complete: Iteration limit reached.</pre>"
      ],
      "text/plain": [
       "Optimization Complete: Iteration limit reached."
      ]
     },
     "metadata": {},
     "output_type": "display_data"
    },
    {
     "data": {
      "text/html": [
       "<pre>Recsys training: model = factorization_recommender</pre>"
      ],
      "text/plain": [
       "Recsys training: model = factorization_recommender"
      ]
     },
     "metadata": {},
     "output_type": "display_data"
    },
    {
     "data": {
      "text/html": [
       "<pre>Preparing data set.</pre>"
      ],
      "text/plain": [
       "Preparing data set."
      ]
     },
     "metadata": {},
     "output_type": "display_data"
    },
    {
     "data": {
      "text/html": [
       "<pre>    Data has 24756 observations with 12294 users and 886 items.</pre>"
      ],
      "text/plain": [
       "    Data has 24756 observations with 12294 users and 886 items."
      ]
     },
     "metadata": {},
     "output_type": "display_data"
    },
    {
     "data": {
      "text/html": [
       "<pre>    Data prepared in: 0.054105s</pre>"
      ],
      "text/plain": [
       "    Data prepared in: 0.054105s"
      ]
     },
     "metadata": {},
     "output_type": "display_data"
    },
    {
     "data": {
      "text/html": [
       "<pre>Training factorization_recommender for recommendations.</pre>"
      ],
      "text/plain": [
       "Training factorization_recommender for recommendations."
      ]
     },
     "metadata": {},
     "output_type": "display_data"
    },
    {
     "data": {
      "text/html": [
       "<pre>+------------------------------+--------------------------------------------------+----------+</pre>"
      ],
      "text/plain": [
       "+------------------------------+--------------------------------------------------+----------+"
      ]
     },
     "metadata": {},
     "output_type": "display_data"
    },
    {
     "data": {
      "text/html": [
       "<pre>| Parameter                    | Description                                      | Value    |</pre>"
      ],
      "text/plain": [
       "| Parameter                    | Description                                      | Value    |"
      ]
     },
     "metadata": {},
     "output_type": "display_data"
    },
    {
     "data": {
      "text/html": [
       "<pre>+------------------------------+--------------------------------------------------+----------+</pre>"
      ],
      "text/plain": [
       "+------------------------------+--------------------------------------------------+----------+"
      ]
     },
     "metadata": {},
     "output_type": "display_data"
    },
    {
     "data": {
      "text/html": [
       "<pre>| num_factors                  | Factor Dimension                                 | 14       |</pre>"
      ],
      "text/plain": [
       "| num_factors                  | Factor Dimension                                 | 14       |"
      ]
     },
     "metadata": {},
     "output_type": "display_data"
    },
    {
     "data": {
      "text/html": [
       "<pre>| regularization               | L2 Regularization on Factors                     | 1e-08    |</pre>"
      ],
      "text/plain": [
       "| regularization               | L2 Regularization on Factors                     | 1e-08    |"
      ]
     },
     "metadata": {},
     "output_type": "display_data"
    },
    {
     "data": {
      "text/html": [
       "<pre>| max_iterations               | Maximum Number of Iterations                     | 50       |</pre>"
      ],
      "text/plain": [
       "| max_iterations               | Maximum Number of Iterations                     | 50       |"
      ]
     },
     "metadata": {},
     "output_type": "display_data"
    },
    {
     "data": {
      "text/html": [
       "<pre>| solver                       | Solver used for training                         | als      |</pre>"
      ],
      "text/plain": [
       "| solver                       | Solver used for training                         | als      |"
      ]
     },
     "metadata": {},
     "output_type": "display_data"
    },
    {
     "data": {
      "text/html": [
       "<pre>+------------------------------+--------------------------------------------------+----------+</pre>"
      ],
      "text/plain": [
       "+------------------------------+--------------------------------------------------+----------+"
      ]
     },
     "metadata": {},
     "output_type": "display_data"
    },
    {
     "data": {
      "text/html": [
       "<pre>+---------+--------------+------------------------+</pre>"
      ],
      "text/plain": [
       "+---------+--------------+------------------------+"
      ]
     },
     "metadata": {},
     "output_type": "display_data"
    },
    {
     "data": {
      "text/html": [
       "<pre>| Iter.   | Elapsed time | RMSE                   |</pre>"
      ],
      "text/plain": [
       "| Iter.   | Elapsed time | RMSE                   |"
      ]
     },
     "metadata": {},
     "output_type": "display_data"
    },
    {
     "data": {
      "text/html": [
       "<pre>+---------+--------------+------------------------+</pre>"
      ],
      "text/plain": [
       "+---------+--------------+------------------------+"
      ]
     },
     "metadata": {},
     "output_type": "display_data"
    },
    {
     "data": {
      "text/html": [
       "<pre>| Initial | 76us         | NA                     |</pre>"
      ],
      "text/plain": [
       "| Initial | 76us         | NA                     |"
      ]
     },
     "metadata": {},
     "output_type": "display_data"
    },
    {
     "data": {
      "text/html": [
       "<pre>+---------+--------------+------------------------+</pre>"
      ],
      "text/plain": [
       "+---------+--------------+------------------------+"
      ]
     },
     "metadata": {},
     "output_type": "display_data"
    },
    {
     "data": {
      "text/html": [
       "<pre>| 0       | 63.34ms      | 0.128122               |</pre>"
      ],
      "text/plain": [
       "| 0       | 63.34ms      | 0.128122               |"
      ]
     },
     "metadata": {},
     "output_type": "display_data"
    },
    {
     "data": {
      "text/html": [
       "<pre>| 1       | 111.9ms      | 0.00295427             |</pre>"
      ],
      "text/plain": [
       "| 1       | 111.9ms      | 0.00295427             |"
      ]
     },
     "metadata": {},
     "output_type": "display_data"
    },
    {
     "data": {
      "text/html": [
       "<pre>| 2       | 158.33ms     | 0.00186623             |</pre>"
      ],
      "text/plain": [
       "| 2       | 158.33ms     | 0.00186623             |"
      ]
     },
     "metadata": {},
     "output_type": "display_data"
    },
    {
     "data": {
      "text/html": [
       "<pre>| 3       | 207.766ms    | 0.00142184             |</pre>"
      ],
      "text/plain": [
       "| 3       | 207.766ms    | 0.00142184             |"
      ]
     },
     "metadata": {},
     "output_type": "display_data"
    },
    {
     "data": {
      "text/html": [
       "<pre>| 4       | 253.649ms    | 0.00117735             |</pre>"
      ],
      "text/plain": [
       "| 4       | 253.649ms    | 0.00117735             |"
      ]
     },
     "metadata": {},
     "output_type": "display_data"
    },
    {
     "data": {
      "text/html": [
       "<pre>| 5       | 307.505ms    | 0.00104302             |</pre>"
      ],
      "text/plain": [
       "| 5       | 307.505ms    | 0.00104302             |"
      ]
     },
     "metadata": {},
     "output_type": "display_data"
    },
    {
     "data": {
      "text/html": [
       "<pre>| 6       | 357.29ms     | 0.000954682            |</pre>"
      ],
      "text/plain": [
       "| 6       | 357.29ms     | 0.000954682            |"
      ]
     },
     "metadata": {},
     "output_type": "display_data"
    },
    {
     "data": {
      "text/html": [
       "<pre>| 7       | 417.447ms    | 0.000887956            |</pre>"
      ],
      "text/plain": [
       "| 7       | 417.447ms    | 0.000887956            |"
      ]
     },
     "metadata": {},
     "output_type": "display_data"
    },
    {
     "data": {
      "text/html": [
       "<pre>| 8       | 459.366ms    | 0.000836445            |</pre>"
      ],
      "text/plain": [
       "| 8       | 459.366ms    | 0.000836445            |"
      ]
     },
     "metadata": {},
     "output_type": "display_data"
    },
    {
     "data": {
      "text/html": [
       "<pre>| 9       | 497.109ms    | 0.000792898            |</pre>"
      ],
      "text/plain": [
       "| 9       | 497.109ms    | 0.000792898            |"
      ]
     },
     "metadata": {},
     "output_type": "display_data"
    },
    {
     "data": {
      "text/html": [
       "<pre>| 10      | 537.706ms    | 0.000755429            |</pre>"
      ],
      "text/plain": [
       "| 10      | 537.706ms    | 0.000755429            |"
      ]
     },
     "metadata": {},
     "output_type": "display_data"
    },
    {
     "data": {
      "text/html": [
       "<pre>| 11      | 583.677ms    | 0.000722584            |</pre>"
      ],
      "text/plain": [
       "| 11      | 583.677ms    | 0.000722584            |"
      ]
     },
     "metadata": {},
     "output_type": "display_data"
    },
    {
     "data": {
      "text/html": [
       "<pre>| 12      | 632.875ms    | 0.000692607            |</pre>"
      ],
      "text/plain": [
       "| 12      | 632.875ms    | 0.000692607            |"
      ]
     },
     "metadata": {},
     "output_type": "display_data"
    },
    {
     "data": {
      "text/html": [
       "<pre>| 13      | 676.789ms    | 0.000666561            |</pre>"
      ],
      "text/plain": [
       "| 13      | 676.789ms    | 0.000666561            |"
      ]
     },
     "metadata": {},
     "output_type": "display_data"
    },
    {
     "data": {
      "text/html": [
       "<pre>| 14      | 720.405ms    | 0.000644651            |</pre>"
      ],
      "text/plain": [
       "| 14      | 720.405ms    | 0.000644651            |"
      ]
     },
     "metadata": {},
     "output_type": "display_data"
    },
    {
     "data": {
      "text/html": [
       "<pre>| 15      | 760.814ms    | 0.000624522            |</pre>"
      ],
      "text/plain": [
       "| 15      | 760.814ms    | 0.000624522            |"
      ]
     },
     "metadata": {},
     "output_type": "display_data"
    },
    {
     "data": {
      "text/html": [
       "<pre>| 16      | 822.154ms    | 0.000606626            |</pre>"
      ],
      "text/plain": [
       "| 16      | 822.154ms    | 0.000606626            |"
      ]
     },
     "metadata": {},
     "output_type": "display_data"
    },
    {
     "data": {
      "text/html": [
       "<pre>| 17      | 866.813ms    | 0.000590313            |</pre>"
      ],
      "text/plain": [
       "| 17      | 866.813ms    | 0.000590313            |"
      ]
     },
     "metadata": {},
     "output_type": "display_data"
    },
    {
     "data": {
      "text/html": [
       "<pre>| 18      | 905.508ms    | 0.00057516             |</pre>"
      ],
      "text/plain": [
       "| 18      | 905.508ms    | 0.00057516             |"
      ]
     },
     "metadata": {},
     "output_type": "display_data"
    },
    {
     "data": {
      "text/html": [
       "<pre>| 19      | 962.278ms    | 0.000560433            |</pre>"
      ],
      "text/plain": [
       "| 19      | 962.278ms    | 0.000560433            |"
      ]
     },
     "metadata": {},
     "output_type": "display_data"
    },
    {
     "data": {
      "text/html": [
       "<pre>| 20      | 1.00s        | 0.000547359            |</pre>"
      ],
      "text/plain": [
       "| 20      | 1.00s        | 0.000547359            |"
      ]
     },
     "metadata": {},
     "output_type": "display_data"
    },
    {
     "data": {
      "text/html": [
       "<pre>| 21      | 1.04s        | 0.000534243            |</pre>"
      ],
      "text/plain": [
       "| 21      | 1.04s        | 0.000534243            |"
      ]
     },
     "metadata": {},
     "output_type": "display_data"
    },
    {
     "data": {
      "text/html": [
       "<pre>| 22      | 1.09s        | 0.00052269             |</pre>"
      ],
      "text/plain": [
       "| 22      | 1.09s        | 0.00052269             |"
      ]
     },
     "metadata": {},
     "output_type": "display_data"
    },
    {
     "data": {
      "text/html": [
       "<pre>| 23      | 1.15s        | 0.000511885            |</pre>"
      ],
      "text/plain": [
       "| 23      | 1.15s        | 0.000511885            |"
      ]
     },
     "metadata": {},
     "output_type": "display_data"
    },
    {
     "data": {
      "text/html": [
       "<pre>| 24      | 1.20s        | 0.000501409            |</pre>"
      ],
      "text/plain": [
       "| 24      | 1.20s        | 0.000501409            |"
      ]
     },
     "metadata": {},
     "output_type": "display_data"
    },
    {
     "data": {
      "text/html": [
       "<pre>| 25      | 1.26s        | 0.000491962            |</pre>"
      ],
      "text/plain": [
       "| 25      | 1.26s        | 0.000491962            |"
      ]
     },
     "metadata": {},
     "output_type": "display_data"
    },
    {
     "data": {
      "text/html": [
       "<pre>| 26      | 1.30s        | 0.000482657            |</pre>"
      ],
      "text/plain": [
       "| 26      | 1.30s        | 0.000482657            |"
      ]
     },
     "metadata": {},
     "output_type": "display_data"
    },
    {
     "data": {
      "text/html": [
       "<pre>| 27      | 1.36s        | 0.000474017            |</pre>"
      ],
      "text/plain": [
       "| 27      | 1.36s        | 0.000474017            |"
      ]
     },
     "metadata": {},
     "output_type": "display_data"
    },
    {
     "data": {
      "text/html": [
       "<pre>| 28      | 1.40s        | 0.000465845            |</pre>"
      ],
      "text/plain": [
       "| 28      | 1.40s        | 0.000465845            |"
      ]
     },
     "metadata": {},
     "output_type": "display_data"
    },
    {
     "data": {
      "text/html": [
       "<pre>| 29      | 1.45s        | 0.000458119            |</pre>"
      ],
      "text/plain": [
       "| 29      | 1.45s        | 0.000458119            |"
      ]
     },
     "metadata": {},
     "output_type": "display_data"
    },
    {
     "data": {
      "text/html": [
       "<pre>| 30      | 1.49s        | 0.000450613            |</pre>"
      ],
      "text/plain": [
       "| 30      | 1.49s        | 0.000450613            |"
      ]
     },
     "metadata": {},
     "output_type": "display_data"
    },
    {
     "data": {
      "text/html": [
       "<pre>| 31      | 1.54s        | 0.000443616            |</pre>"
      ],
      "text/plain": [
       "| 31      | 1.54s        | 0.000443616            |"
      ]
     },
     "metadata": {},
     "output_type": "display_data"
    },
    {
     "data": {
      "text/html": [
       "<pre>| 32      | 1.62s        | 0.000436888            |</pre>"
      ],
      "text/plain": [
       "| 32      | 1.62s        | 0.000436888            |"
      ]
     },
     "metadata": {},
     "output_type": "display_data"
    },
    {
     "data": {
      "text/html": [
       "<pre>| 33      | 1.65s        | 0.000430271            |</pre>"
      ],
      "text/plain": [
       "| 33      | 1.65s        | 0.000430271            |"
      ]
     },
     "metadata": {},
     "output_type": "display_data"
    },
    {
     "data": {
      "text/html": [
       "<pre>| 34      | 1.69s        | 0.000424019            |</pre>"
      ],
      "text/plain": [
       "| 34      | 1.69s        | 0.000424019            |"
      ]
     },
     "metadata": {},
     "output_type": "display_data"
    },
    {
     "data": {
      "text/html": [
       "<pre>| 35      | 1.74s        | 0.000417595            |</pre>"
      ],
      "text/plain": [
       "| 35      | 1.74s        | 0.000417595            |"
      ]
     },
     "metadata": {},
     "output_type": "display_data"
    },
    {
     "data": {
      "text/html": [
       "<pre>| 36      | 1.79s        | 0.000411662            |</pre>"
      ],
      "text/plain": [
       "| 36      | 1.79s        | 0.000411662            |"
      ]
     },
     "metadata": {},
     "output_type": "display_data"
    },
    {
     "data": {
      "text/html": [
       "<pre>| 37      | 1.84s        | 0.000405911            |</pre>"
      ],
      "text/plain": [
       "| 37      | 1.84s        | 0.000405911            |"
      ]
     },
     "metadata": {},
     "output_type": "display_data"
    },
    {
     "data": {
      "text/html": [
       "<pre>| 38      | 1.88s        | 0.00040046             |</pre>"
      ],
      "text/plain": [
       "| 38      | 1.88s        | 0.00040046             |"
      ]
     },
     "metadata": {},
     "output_type": "display_data"
    },
    {
     "data": {
      "text/html": [
       "<pre>| 39      | 1.93s        | 0.00039532             |</pre>"
      ],
      "text/plain": [
       "| 39      | 1.93s        | 0.00039532             |"
      ]
     },
     "metadata": {},
     "output_type": "display_data"
    },
    {
     "data": {
      "text/html": [
       "<pre>| 40      | 1.97s        | 0.000390226            |</pre>"
      ],
      "text/plain": [
       "| 40      | 1.97s        | 0.000390226            |"
      ]
     },
     "metadata": {},
     "output_type": "display_data"
    },
    {
     "data": {
      "text/html": [
       "<pre>| 41      | 2.04s        | 0.000385126            |</pre>"
      ],
      "text/plain": [
       "| 41      | 2.04s        | 0.000385126            |"
      ]
     },
     "metadata": {},
     "output_type": "display_data"
    },
    {
     "data": {
      "text/html": [
       "<pre>| 42      | 2.08s        | 0.000380423            |</pre>"
      ],
      "text/plain": [
       "| 42      | 2.08s        | 0.000380423            |"
      ]
     },
     "metadata": {},
     "output_type": "display_data"
    },
    {
     "data": {
      "text/html": [
       "<pre>| 43      | 2.12s        | 0.000375761            |</pre>"
      ],
      "text/plain": [
       "| 43      | 2.12s        | 0.000375761            |"
      ]
     },
     "metadata": {},
     "output_type": "display_data"
    },
    {
     "data": {
      "text/html": [
       "<pre>| 44      | 2.16s        | 0.000371237            |</pre>"
      ],
      "text/plain": [
       "| 44      | 2.16s        | 0.000371237            |"
      ]
     },
     "metadata": {},
     "output_type": "display_data"
    },
    {
     "data": {
      "text/html": [
       "<pre>| 45      | 2.21s        | 0.000366964            |</pre>"
      ],
      "text/plain": [
       "| 45      | 2.21s        | 0.000366964            |"
      ]
     },
     "metadata": {},
     "output_type": "display_data"
    },
    {
     "data": {
      "text/html": [
       "<pre>| 46      | 2.25s        | 0.000362678            |</pre>"
      ],
      "text/plain": [
       "| 46      | 2.25s        | 0.000362678            |"
      ]
     },
     "metadata": {},
     "output_type": "display_data"
    },
    {
     "data": {
      "text/html": [
       "<pre>| 47      | 2.28s        | 0.000358418            |</pre>"
      ],
      "text/plain": [
       "| 47      | 2.28s        | 0.000358418            |"
      ]
     },
     "metadata": {},
     "output_type": "display_data"
    },
    {
     "data": {
      "text/html": [
       "<pre>| 48      | 2.34s        | 0.000354395            |</pre>"
      ],
      "text/plain": [
       "| 48      | 2.34s        | 0.000354395            |"
      ]
     },
     "metadata": {},
     "output_type": "display_data"
    },
    {
     "data": {
      "text/html": [
       "<pre>| 49      | 2.39s        | 0.00035038             |</pre>"
      ],
      "text/plain": [
       "| 49      | 2.39s        | 0.00035038             |"
      ]
     },
     "metadata": {},
     "output_type": "display_data"
    },
    {
     "data": {
      "text/html": [
       "<pre>| FINAL   | 2.39s        | 0.00035038             |</pre>"
      ],
      "text/plain": [
       "| FINAL   | 2.39s        | 0.00035038             |"
      ]
     },
     "metadata": {},
     "output_type": "display_data"
    },
    {
     "data": {
      "text/html": [
       "<pre>+---------+--------------+------------------------+</pre>"
      ],
      "text/plain": [
       "+---------+--------------+------------------------+"
      ]
     },
     "metadata": {},
     "output_type": "display_data"
    },
    {
     "data": {
      "text/html": [
       "<pre>Optimization Complete: Iteration limit reached.</pre>"
      ],
      "text/plain": [
       "Optimization Complete: Iteration limit reached."
      ]
     },
     "metadata": {},
     "output_type": "display_data"
    },
    {
     "data": {
      "text/html": [
       "<pre>Recsys training: model = factorization_recommender</pre>"
      ],
      "text/plain": [
       "Recsys training: model = factorization_recommender"
      ]
     },
     "metadata": {},
     "output_type": "display_data"
    },
    {
     "data": {
      "text/html": [
       "<pre>Preparing data set.</pre>"
      ],
      "text/plain": [
       "Preparing data set."
      ]
     },
     "metadata": {},
     "output_type": "display_data"
    },
    {
     "data": {
      "text/html": [
       "<pre>    Data has 24756 observations with 12294 users and 886 items.</pre>"
      ],
      "text/plain": [
       "    Data has 24756 observations with 12294 users and 886 items."
      ]
     },
     "metadata": {},
     "output_type": "display_data"
    },
    {
     "data": {
      "text/html": [
       "<pre>    Data prepared in: 0.049159s</pre>"
      ],
      "text/plain": [
       "    Data prepared in: 0.049159s"
      ]
     },
     "metadata": {},
     "output_type": "display_data"
    },
    {
     "data": {
      "text/html": [
       "<pre>Training factorization_recommender for recommendations.</pre>"
      ],
      "text/plain": [
       "Training factorization_recommender for recommendations."
      ]
     },
     "metadata": {},
     "output_type": "display_data"
    },
    {
     "data": {
      "text/html": [
       "<pre>+------------------------------+--------------------------------------------------+----------+</pre>"
      ],
      "text/plain": [
       "+------------------------------+--------------------------------------------------+----------+"
      ]
     },
     "metadata": {},
     "output_type": "display_data"
    },
    {
     "data": {
      "text/html": [
       "<pre>| Parameter                    | Description                                      | Value    |</pre>"
      ],
      "text/plain": [
       "| Parameter                    | Description                                      | Value    |"
      ]
     },
     "metadata": {},
     "output_type": "display_data"
    },
    {
     "data": {
      "text/html": [
       "<pre>+------------------------------+--------------------------------------------------+----------+</pre>"
      ],
      "text/plain": [
       "+------------------------------+--------------------------------------------------+----------+"
      ]
     },
     "metadata": {},
     "output_type": "display_data"
    },
    {
     "data": {
      "text/html": [
       "<pre>| num_factors                  | Factor Dimension                                 | 16       |</pre>"
      ],
      "text/plain": [
       "| num_factors                  | Factor Dimension                                 | 16       |"
      ]
     },
     "metadata": {},
     "output_type": "display_data"
    },
    {
     "data": {
      "text/html": [
       "<pre>| regularization               | L2 Regularization on Factors                     | 1e-08    |</pre>"
      ],
      "text/plain": [
       "| regularization               | L2 Regularization on Factors                     | 1e-08    |"
      ]
     },
     "metadata": {},
     "output_type": "display_data"
    },
    {
     "data": {
      "text/html": [
       "<pre>| max_iterations               | Maximum Number of Iterations                     | 50       |</pre>"
      ],
      "text/plain": [
       "| max_iterations               | Maximum Number of Iterations                     | 50       |"
      ]
     },
     "metadata": {},
     "output_type": "display_data"
    },
    {
     "data": {
      "text/html": [
       "<pre>| solver                       | Solver used for training                         | als      |</pre>"
      ],
      "text/plain": [
       "| solver                       | Solver used for training                         | als      |"
      ]
     },
     "metadata": {},
     "output_type": "display_data"
    },
    {
     "data": {
      "text/html": [
       "<pre>+------------------------------+--------------------------------------------------+----------+</pre>"
      ],
      "text/plain": [
       "+------------------------------+--------------------------------------------------+----------+"
      ]
     },
     "metadata": {},
     "output_type": "display_data"
    },
    {
     "data": {
      "text/html": [
       "<pre>+---------+--------------+------------------------+</pre>"
      ],
      "text/plain": [
       "+---------+--------------+------------------------+"
      ]
     },
     "metadata": {},
     "output_type": "display_data"
    },
    {
     "data": {
      "text/html": [
       "<pre>| Iter.   | Elapsed time | RMSE                   |</pre>"
      ],
      "text/plain": [
       "| Iter.   | Elapsed time | RMSE                   |"
      ]
     },
     "metadata": {},
     "output_type": "display_data"
    },
    {
     "data": {
      "text/html": [
       "<pre>+---------+--------------+------------------------+</pre>"
      ],
      "text/plain": [
       "+---------+--------------+------------------------+"
      ]
     },
     "metadata": {},
     "output_type": "display_data"
    },
    {
     "data": {
      "text/html": [
       "<pre>| Initial | 90us         | NA                     |</pre>"
      ],
      "text/plain": [
       "| Initial | 90us         | NA                     |"
      ]
     },
     "metadata": {},
     "output_type": "display_data"
    },
    {
     "data": {
      "text/html": [
       "<pre>+---------+--------------+------------------------+</pre>"
      ],
      "text/plain": [
       "+---------+--------------+------------------------+"
      ]
     },
     "metadata": {},
     "output_type": "display_data"
    },
    {
     "data": {
      "text/html": [
       "<pre>| 0       | 61.464ms     | 0.114759               |</pre>"
      ],
      "text/plain": [
       "| 0       | 61.464ms     | 0.114759               |"
      ]
     },
     "metadata": {},
     "output_type": "display_data"
    },
    {
     "data": {
      "text/html": [
       "<pre>| 1       | 107.156ms    | 0.000814205            |</pre>"
      ],
      "text/plain": [
       "| 1       | 107.156ms    | 0.000814205            |"
      ]
     },
     "metadata": {},
     "output_type": "display_data"
    },
    {
     "data": {
      "text/html": [
       "<pre>| 2       | 167.47ms     | 0.000736692            |</pre>"
      ],
      "text/plain": [
       "| 2       | 167.47ms     | 0.000736692            |"
      ]
     },
     "metadata": {},
     "output_type": "display_data"
    },
    {
     "data": {
      "text/html": [
       "<pre>| 3       | 220.304ms    | 0.000684473            |</pre>"
      ],
      "text/plain": [
       "| 3       | 220.304ms    | 0.000684473            |"
      ]
     },
     "metadata": {},
     "output_type": "display_data"
    },
    {
     "data": {
      "text/html": [
       "<pre>| 4       | 271.766ms    | 0.000655371            |</pre>"
      ],
      "text/plain": [
       "| 4       | 271.766ms    | 0.000655371            |"
      ]
     },
     "metadata": {},
     "output_type": "display_data"
    },
    {
     "data": {
      "text/html": [
       "<pre>| 5       | 321.266ms    | 0.000626575            |</pre>"
      ],
      "text/plain": [
       "| 5       | 321.266ms    | 0.000626575            |"
      ]
     },
     "metadata": {},
     "output_type": "display_data"
    },
    {
     "data": {
      "text/html": [
       "<pre>| 6       | 380.547ms    | 0.0006044              |</pre>"
      ],
      "text/plain": [
       "| 6       | 380.547ms    | 0.0006044              |"
      ]
     },
     "metadata": {},
     "output_type": "display_data"
    },
    {
     "data": {
      "text/html": [
       "<pre>| 7       | 443.495ms    | 0.000587237            |</pre>"
      ],
      "text/plain": [
       "| 7       | 443.495ms    | 0.000587237            |"
      ]
     },
     "metadata": {},
     "output_type": "display_data"
    },
    {
     "data": {
      "text/html": [
       "<pre>| 8       | 494.816ms    | 0.00056439             |</pre>"
      ],
      "text/plain": [
       "| 8       | 494.816ms    | 0.00056439             |"
      ]
     },
     "metadata": {},
     "output_type": "display_data"
    },
    {
     "data": {
      "text/html": [
       "<pre>| 9       | 547.204ms    | 0.000550319            |</pre>"
      ],
      "text/plain": [
       "| 9       | 547.204ms    | 0.000550319            |"
      ]
     },
     "metadata": {},
     "output_type": "display_data"
    },
    {
     "data": {
      "text/html": [
       "<pre>| 10      | 585.736ms    | 0.000530404            |</pre>"
      ],
      "text/plain": [
       "| 10      | 585.736ms    | 0.000530404            |"
      ]
     },
     "metadata": {},
     "output_type": "display_data"
    },
    {
     "data": {
      "text/html": [
       "<pre>| 11      | 627.919ms    | 0.000518319            |</pre>"
      ],
      "text/plain": [
       "| 11      | 627.919ms    | 0.000518319            |"
      ]
     },
     "metadata": {},
     "output_type": "display_data"
    },
    {
     "data": {
      "text/html": [
       "<pre>| 12      | 668.018ms    | 0.000503841            |</pre>"
      ],
      "text/plain": [
       "| 12      | 668.018ms    | 0.000503841            |"
      ]
     },
     "metadata": {},
     "output_type": "display_data"
    },
    {
     "data": {
      "text/html": [
       "<pre>| 13      | 710.166ms    | 0.000491384            |</pre>"
      ],
      "text/plain": [
       "| 13      | 710.166ms    | 0.000491384            |"
      ]
     },
     "metadata": {},
     "output_type": "display_data"
    },
    {
     "data": {
      "text/html": [
       "<pre>| 14      | 764.992ms    | 0.000476235            |</pre>"
      ],
      "text/plain": [
       "| 14      | 764.992ms    | 0.000476235            |"
      ]
     },
     "metadata": {},
     "output_type": "display_data"
    },
    {
     "data": {
      "text/html": [
       "<pre>| 15      | 819.147ms    | 0.000465486            |</pre>"
      ],
      "text/plain": [
       "| 15      | 819.147ms    | 0.000465486            |"
      ]
     },
     "metadata": {},
     "output_type": "display_data"
    },
    {
     "data": {
      "text/html": [
       "<pre>| 16      | 874.487ms    | 0.000455329            |</pre>"
      ],
      "text/plain": [
       "| 16      | 874.487ms    | 0.000455329            |"
      ]
     },
     "metadata": {},
     "output_type": "display_data"
    },
    {
     "data": {
      "text/html": [
       "<pre>| 17      | 927.004ms    | 0.00044505             |</pre>"
      ],
      "text/plain": [
       "| 17      | 927.004ms    | 0.00044505             |"
      ]
     },
     "metadata": {},
     "output_type": "display_data"
    },
    {
     "data": {
      "text/html": [
       "<pre>| 18      | 974.041ms    | 0.000435426            |</pre>"
      ],
      "text/plain": [
       "| 18      | 974.041ms    | 0.000435426            |"
      ]
     },
     "metadata": {},
     "output_type": "display_data"
    },
    {
     "data": {
      "text/html": [
       "<pre>| 19      | 1.03s        | 0.000427047            |</pre>"
      ],
      "text/plain": [
       "| 19      | 1.03s        | 0.000427047            |"
      ]
     },
     "metadata": {},
     "output_type": "display_data"
    },
    {
     "data": {
      "text/html": [
       "<pre>| 20      | 1.08s        | 0.000416734            |</pre>"
      ],
      "text/plain": [
       "| 20      | 1.08s        | 0.000416734            |"
      ]
     },
     "metadata": {},
     "output_type": "display_data"
    },
    {
     "data": {
      "text/html": [
       "<pre>| 21      | 1.13s        | 0.000410718            |</pre>"
      ],
      "text/plain": [
       "| 21      | 1.13s        | 0.000410718            |"
      ]
     },
     "metadata": {},
     "output_type": "display_data"
    },
    {
     "data": {
      "text/html": [
       "<pre>| 22      | 1.21s        | 0.000401923            |</pre>"
      ],
      "text/plain": [
       "| 22      | 1.21s        | 0.000401923            |"
      ]
     },
     "metadata": {},
     "output_type": "display_data"
    },
    {
     "data": {
      "text/html": [
       "<pre>| 23      | 1.26s        | 0.000394112            |</pre>"
      ],
      "text/plain": [
       "| 23      | 1.26s        | 0.000394112            |"
      ]
     },
     "metadata": {},
     "output_type": "display_data"
    },
    {
     "data": {
      "text/html": [
       "<pre>| 24      | 1.30s        | 0.000385948            |</pre>"
      ],
      "text/plain": [
       "| 24      | 1.30s        | 0.000385948            |"
      ]
     },
     "metadata": {},
     "output_type": "display_data"
    },
    {
     "data": {
      "text/html": [
       "<pre>| 25      | 1.34s        | 0.000379905            |</pre>"
      ],
      "text/plain": [
       "| 25      | 1.34s        | 0.000379905            |"
      ]
     },
     "metadata": {},
     "output_type": "display_data"
    },
    {
     "data": {
      "text/html": [
       "<pre>| 26      | 1.38s        | 0.00037388             |</pre>"
      ],
      "text/plain": [
       "| 26      | 1.38s        | 0.00037388             |"
      ]
     },
     "metadata": {},
     "output_type": "display_data"
    },
    {
     "data": {
      "text/html": [
       "<pre>| 27      | 1.42s        | 0.000368833            |</pre>"
      ],
      "text/plain": [
       "| 27      | 1.42s        | 0.000368833            |"
      ]
     },
     "metadata": {},
     "output_type": "display_data"
    },
    {
     "data": {
      "text/html": [
       "<pre>| 28      | 1.47s        | 0.000363266            |</pre>"
      ],
      "text/plain": [
       "| 28      | 1.47s        | 0.000363266            |"
      ]
     },
     "metadata": {},
     "output_type": "display_data"
    },
    {
     "data": {
      "text/html": [
       "<pre>| 29      | 1.53s        | 0.000357999            |</pre>"
      ],
      "text/plain": [
       "| 29      | 1.53s        | 0.000357999            |"
      ]
     },
     "metadata": {},
     "output_type": "display_data"
    },
    {
     "data": {
      "text/html": [
       "<pre>| 30      | 1.59s        | 0.000350604            |</pre>"
      ],
      "text/plain": [
       "| 30      | 1.59s        | 0.000350604            |"
      ]
     },
     "metadata": {},
     "output_type": "display_data"
    },
    {
     "data": {
      "text/html": [
       "<pre>| 31      | 1.63s        | 0.000345936            |</pre>"
      ],
      "text/plain": [
       "| 31      | 1.63s        | 0.000345936            |"
      ]
     },
     "metadata": {},
     "output_type": "display_data"
    },
    {
     "data": {
      "text/html": [
       "<pre>| 32      | 1.67s        | 0.000342055            |</pre>"
      ],
      "text/plain": [
       "| 32      | 1.67s        | 0.000342055            |"
      ]
     },
     "metadata": {},
     "output_type": "display_data"
    },
    {
     "data": {
      "text/html": [
       "<pre>| 33      | 1.71s        | 0.000335556            |</pre>"
      ],
      "text/plain": [
       "| 33      | 1.71s        | 0.000335556            |"
      ]
     },
     "metadata": {},
     "output_type": "display_data"
    },
    {
     "data": {
      "text/html": [
       "<pre>| 34      | 1.76s        | 0.000332246            |</pre>"
      ],
      "text/plain": [
       "| 34      | 1.76s        | 0.000332246            |"
      ]
     },
     "metadata": {},
     "output_type": "display_data"
    },
    {
     "data": {
      "text/html": [
       "<pre>| 35      | 1.81s        | 0.000326875            |</pre>"
      ],
      "text/plain": [
       "| 35      | 1.81s        | 0.000326875            |"
      ]
     },
     "metadata": {},
     "output_type": "display_data"
    },
    {
     "data": {
      "text/html": [
       "<pre>| 36      | 1.87s        | 0.00032325             |</pre>"
      ],
      "text/plain": [
       "| 36      | 1.87s        | 0.00032325             |"
      ]
     },
     "metadata": {},
     "output_type": "display_data"
    },
    {
     "data": {
      "text/html": [
       "<pre>| 37      | 1.91s        | 0.000319076            |</pre>"
      ],
      "text/plain": [
       "| 37      | 1.91s        | 0.000319076            |"
      ]
     },
     "metadata": {},
     "output_type": "display_data"
    },
    {
     "data": {
      "text/html": [
       "<pre>| 38      | 1.98s        | 0.000314535            |</pre>"
      ],
      "text/plain": [
       "| 38      | 1.98s        | 0.000314535            |"
      ]
     },
     "metadata": {},
     "output_type": "display_data"
    },
    {
     "data": {
      "text/html": [
       "<pre>| 39      | 2.02s        | 0.000310095            |</pre>"
      ],
      "text/plain": [
       "| 39      | 2.02s        | 0.000310095            |"
      ]
     },
     "metadata": {},
     "output_type": "display_data"
    },
    {
     "data": {
      "text/html": [
       "<pre>| 40      | 2.09s        | 0.000306131            |</pre>"
      ],
      "text/plain": [
       "| 40      | 2.09s        | 0.000306131            |"
      ]
     },
     "metadata": {},
     "output_type": "display_data"
    },
    {
     "data": {
      "text/html": [
       "<pre>| 41      | 2.14s        | 0.0003033              |</pre>"
      ],
      "text/plain": [
       "| 41      | 2.14s        | 0.0003033              |"
      ]
     },
     "metadata": {},
     "output_type": "display_data"
    },
    {
     "data": {
      "text/html": [
       "<pre>| 42      | 2.21s        | 0.000299133            |</pre>"
      ],
      "text/plain": [
       "| 42      | 2.21s        | 0.000299133            |"
      ]
     },
     "metadata": {},
     "output_type": "display_data"
    },
    {
     "data": {
      "text/html": [
       "<pre>| 43      | 2.26s        | 0.000295455            |</pre>"
      ],
      "text/plain": [
       "| 43      | 2.26s        | 0.000295455            |"
      ]
     },
     "metadata": {},
     "output_type": "display_data"
    },
    {
     "data": {
      "text/html": [
       "<pre>| 44      | 2.32s        | 0.00029194             |</pre>"
      ],
      "text/plain": [
       "| 44      | 2.32s        | 0.00029194             |"
      ]
     },
     "metadata": {},
     "output_type": "display_data"
    },
    {
     "data": {
      "text/html": [
       "<pre>| 45      | 2.37s        | 0.000289583            |</pre>"
      ],
      "text/plain": [
       "| 45      | 2.37s        | 0.000289583            |"
      ]
     },
     "metadata": {},
     "output_type": "display_data"
    },
    {
     "data": {
      "text/html": [
       "<pre>| 46      | 2.42s        | 0.000286283            |</pre>"
      ],
      "text/plain": [
       "| 46      | 2.42s        | 0.000286283            |"
      ]
     },
     "metadata": {},
     "output_type": "display_data"
    },
    {
     "data": {
      "text/html": [
       "<pre>| 47      | 2.48s        | 0.00028205             |</pre>"
      ],
      "text/plain": [
       "| 47      | 2.48s        | 0.00028205             |"
      ]
     },
     "metadata": {},
     "output_type": "display_data"
    },
    {
     "data": {
      "text/html": [
       "<pre>| 48      | 2.54s        | 0.00027941             |</pre>"
      ],
      "text/plain": [
       "| 48      | 2.54s        | 0.00027941             |"
      ]
     },
     "metadata": {},
     "output_type": "display_data"
    },
    {
     "data": {
      "text/html": [
       "<pre>| 49      | 2.58s        | 0.000276606            |</pre>"
      ],
      "text/plain": [
       "| 49      | 2.58s        | 0.000276606            |"
      ]
     },
     "metadata": {},
     "output_type": "display_data"
    },
    {
     "data": {
      "text/html": [
       "<pre>| FINAL   | 2.58s        | 0.000276606            |</pre>"
      ],
      "text/plain": [
       "| FINAL   | 2.58s        | 0.000276606            |"
      ]
     },
     "metadata": {},
     "output_type": "display_data"
    },
    {
     "data": {
      "text/html": [
       "<pre>+---------+--------------+------------------------+</pre>"
      ],
      "text/plain": [
       "+---------+--------------+------------------------+"
      ]
     },
     "metadata": {},
     "output_type": "display_data"
    },
    {
     "data": {
      "text/html": [
       "<pre>Optimization Complete: Iteration limit reached.</pre>"
      ],
      "text/plain": [
       "Optimization Complete: Iteration limit reached."
      ]
     },
     "metadata": {},
     "output_type": "display_data"
    },
    {
     "data": {
      "text/html": [
       "<pre>Recsys training: model = factorization_recommender</pre>"
      ],
      "text/plain": [
       "Recsys training: model = factorization_recommender"
      ]
     },
     "metadata": {},
     "output_type": "display_data"
    },
    {
     "data": {
      "text/html": [
       "<pre>Preparing data set.</pre>"
      ],
      "text/plain": [
       "Preparing data set."
      ]
     },
     "metadata": {},
     "output_type": "display_data"
    },
    {
     "data": {
      "text/html": [
       "<pre>    Data has 24756 observations with 12294 users and 886 items.</pre>"
      ],
      "text/plain": [
       "    Data has 24756 observations with 12294 users and 886 items."
      ]
     },
     "metadata": {},
     "output_type": "display_data"
    },
    {
     "data": {
      "text/html": [
       "<pre>    Data prepared in: 0.051837s</pre>"
      ],
      "text/plain": [
       "    Data prepared in: 0.051837s"
      ]
     },
     "metadata": {},
     "output_type": "display_data"
    },
    {
     "data": {
      "text/html": [
       "<pre>Training factorization_recommender for recommendations.</pre>"
      ],
      "text/plain": [
       "Training factorization_recommender for recommendations."
      ]
     },
     "metadata": {},
     "output_type": "display_data"
    },
    {
     "data": {
      "text/html": [
       "<pre>+------------------------------+--------------------------------------------------+----------+</pre>"
      ],
      "text/plain": [
       "+------------------------------+--------------------------------------------------+----------+"
      ]
     },
     "metadata": {},
     "output_type": "display_data"
    },
    {
     "data": {
      "text/html": [
       "<pre>| Parameter                    | Description                                      | Value    |</pre>"
      ],
      "text/plain": [
       "| Parameter                    | Description                                      | Value    |"
      ]
     },
     "metadata": {},
     "output_type": "display_data"
    },
    {
     "data": {
      "text/html": [
       "<pre>+------------------------------+--------------------------------------------------+----------+</pre>"
      ],
      "text/plain": [
       "+------------------------------+--------------------------------------------------+----------+"
      ]
     },
     "metadata": {},
     "output_type": "display_data"
    },
    {
     "data": {
      "text/html": [
       "<pre>| num_factors                  | Factor Dimension                                 | 18       |</pre>"
      ],
      "text/plain": [
       "| num_factors                  | Factor Dimension                                 | 18       |"
      ]
     },
     "metadata": {},
     "output_type": "display_data"
    },
    {
     "data": {
      "text/html": [
       "<pre>| regularization               | L2 Regularization on Factors                     | 1e-08    |</pre>"
      ],
      "text/plain": [
       "| regularization               | L2 Regularization on Factors                     | 1e-08    |"
      ]
     },
     "metadata": {},
     "output_type": "display_data"
    },
    {
     "data": {
      "text/html": [
       "<pre>| max_iterations               | Maximum Number of Iterations                     | 50       |</pre>"
      ],
      "text/plain": [
       "| max_iterations               | Maximum Number of Iterations                     | 50       |"
      ]
     },
     "metadata": {},
     "output_type": "display_data"
    },
    {
     "data": {
      "text/html": [
       "<pre>| solver                       | Solver used for training                         | als      |</pre>"
      ],
      "text/plain": [
       "| solver                       | Solver used for training                         | als      |"
      ]
     },
     "metadata": {},
     "output_type": "display_data"
    },
    {
     "data": {
      "text/html": [
       "<pre>+------------------------------+--------------------------------------------------+----------+</pre>"
      ],
      "text/plain": [
       "+------------------------------+--------------------------------------------------+----------+"
      ]
     },
     "metadata": {},
     "output_type": "display_data"
    },
    {
     "data": {
      "text/html": [
       "<pre>+---------+--------------+------------------------+</pre>"
      ],
      "text/plain": [
       "+---------+--------------+------------------------+"
      ]
     },
     "metadata": {},
     "output_type": "display_data"
    },
    {
     "data": {
      "text/html": [
       "<pre>| Iter.   | Elapsed time | RMSE                   |</pre>"
      ],
      "text/plain": [
       "| Iter.   | Elapsed time | RMSE                   |"
      ]
     },
     "metadata": {},
     "output_type": "display_data"
    },
    {
     "data": {
      "text/html": [
       "<pre>+---------+--------------+------------------------+</pre>"
      ],
      "text/plain": [
       "+---------+--------------+------------------------+"
      ]
     },
     "metadata": {},
     "output_type": "display_data"
    },
    {
     "data": {
      "text/html": [
       "<pre>| Initial | 58us         | NA                     |</pre>"
      ],
      "text/plain": [
       "| Initial | 58us         | NA                     |"
      ]
     },
     "metadata": {},
     "output_type": "display_data"
    },
    {
     "data": {
      "text/html": [
       "<pre>+---------+--------------+------------------------+</pre>"
      ],
      "text/plain": [
       "+---------+--------------+------------------------+"
      ]
     },
     "metadata": {},
     "output_type": "display_data"
    },
    {
     "data": {
      "text/html": [
       "<pre>| 0       | 54.301ms     | 0.0956408              |</pre>"
      ],
      "text/plain": [
       "| 0       | 54.301ms     | 0.0956408              |"
      ]
     },
     "metadata": {},
     "output_type": "display_data"
    },
    {
     "data": {
      "text/html": [
       "<pre>| 1       | 113.812ms    | 0.00257682             |</pre>"
      ],
      "text/plain": [
       "| 1       | 113.812ms    | 0.00257682             |"
      ]
     },
     "metadata": {},
     "output_type": "display_data"
    },
    {
     "data": {
      "text/html": [
       "<pre>| 2       | 181.78ms     | 0.00182808             |</pre>"
      ],
      "text/plain": [
       "| 2       | 181.78ms     | 0.00182808             |"
      ]
     },
     "metadata": {},
     "output_type": "display_data"
    },
    {
     "data": {
      "text/html": [
       "<pre>| 3       | 242.566ms    | 0.00143346             |</pre>"
      ],
      "text/plain": [
       "| 3       | 242.566ms    | 0.00143346             |"
      ]
     },
     "metadata": {},
     "output_type": "display_data"
    },
    {
     "data": {
      "text/html": [
       "<pre>| 4       | 304.422ms    | 0.00117882             |</pre>"
      ],
      "text/plain": [
       "| 4       | 304.422ms    | 0.00117882             |"
      ]
     },
     "metadata": {},
     "output_type": "display_data"
    },
    {
     "data": {
      "text/html": [
       "<pre>| 5       | 370.385ms    | 0.00102477             |</pre>"
      ],
      "text/plain": [
       "| 5       | 370.385ms    | 0.00102477             |"
      ]
     },
     "metadata": {},
     "output_type": "display_data"
    },
    {
     "data": {
      "text/html": [
       "<pre>| 6       | 425.272ms    | 0.000903102            |</pre>"
      ],
      "text/plain": [
       "| 6       | 425.272ms    | 0.000903102            |"
      ]
     },
     "metadata": {},
     "output_type": "display_data"
    },
    {
     "data": {
      "text/html": [
       "<pre>| 7       | 492.868ms    | 0.000807837            |</pre>"
      ],
      "text/plain": [
       "| 7       | 492.868ms    | 0.000807837            |"
      ]
     },
     "metadata": {},
     "output_type": "display_data"
    },
    {
     "data": {
      "text/html": [
       "<pre>| 8       | 540.929ms    | 0.000744738            |</pre>"
      ],
      "text/plain": [
       "| 8       | 540.929ms    | 0.000744738            |"
      ]
     },
     "metadata": {},
     "output_type": "display_data"
    },
    {
     "data": {
      "text/html": [
       "<pre>| 9       | 599.727ms    | 0.00068566             |</pre>"
      ],
      "text/plain": [
       "| 9       | 599.727ms    | 0.00068566             |"
      ]
     },
     "metadata": {},
     "output_type": "display_data"
    },
    {
     "data": {
      "text/html": [
       "<pre>| 10      | 653.947ms    | 0.000638329            |</pre>"
      ],
      "text/plain": [
       "| 10      | 653.947ms    | 0.000638329            |"
      ]
     },
     "metadata": {},
     "output_type": "display_data"
    },
    {
     "data": {
      "text/html": [
       "<pre>| 11      | 699.64ms     | 0.000595193            |</pre>"
      ],
      "text/plain": [
       "| 11      | 699.64ms     | 0.000595193            |"
      ]
     },
     "metadata": {},
     "output_type": "display_data"
    },
    {
     "data": {
      "text/html": [
       "<pre>| 12      | 751.41ms     | 0.000561628            |</pre>"
      ],
      "text/plain": [
       "| 12      | 751.41ms     | 0.000561628            |"
      ]
     },
     "metadata": {},
     "output_type": "display_data"
    },
    {
     "data": {
      "text/html": [
       "<pre>| 13      | 819.776ms    | 0.000531032            |</pre>"
      ],
      "text/plain": [
       "| 13      | 819.776ms    | 0.000531032            |"
      ]
     },
     "metadata": {},
     "output_type": "display_data"
    },
    {
     "data": {
      "text/html": [
       "<pre>| 14      | 873.73ms     | 0.00050703             |</pre>"
      ],
      "text/plain": [
       "| 14      | 873.73ms     | 0.00050703             |"
      ]
     },
     "metadata": {},
     "output_type": "display_data"
    },
    {
     "data": {
      "text/html": [
       "<pre>| 15      | 920.859ms    | 0.000485074            |</pre>"
      ],
      "text/plain": [
       "| 15      | 920.859ms    | 0.000485074            |"
      ]
     },
     "metadata": {},
     "output_type": "display_data"
    },
    {
     "data": {
      "text/html": [
       "<pre>| 16      | 977.891ms    | 0.000462716            |</pre>"
      ],
      "text/plain": [
       "| 16      | 977.891ms    | 0.000462716            |"
      ]
     },
     "metadata": {},
     "output_type": "display_data"
    },
    {
     "data": {
      "text/html": [
       "<pre>| 17      | 1.03s        | 0.000449448            |</pre>"
      ],
      "text/plain": [
       "| 17      | 1.03s        | 0.000449448            |"
      ]
     },
     "metadata": {},
     "output_type": "display_data"
    },
    {
     "data": {
      "text/html": [
       "<pre>| 18      | 1.07s        | 0.000427899            |</pre>"
      ],
      "text/plain": [
       "| 18      | 1.07s        | 0.000427899            |"
      ]
     },
     "metadata": {},
     "output_type": "display_data"
    },
    {
     "data": {
      "text/html": [
       "<pre>| 19      | 1.13s        | 0.000417647            |</pre>"
      ],
      "text/plain": [
       "| 19      | 1.13s        | 0.000417647            |"
      ]
     },
     "metadata": {},
     "output_type": "display_data"
    },
    {
     "data": {
      "text/html": [
       "<pre>| 20      | 1.18s        | 0.00040166             |</pre>"
      ],
      "text/plain": [
       "| 20      | 1.18s        | 0.00040166             |"
      ]
     },
     "metadata": {},
     "output_type": "display_data"
    },
    {
     "data": {
      "text/html": [
       "<pre>| 21      | 1.23s        | 0.000389308            |</pre>"
      ],
      "text/plain": [
       "| 21      | 1.23s        | 0.000389308            |"
      ]
     },
     "metadata": {},
     "output_type": "display_data"
    },
    {
     "data": {
      "text/html": [
       "<pre>| 22      | 1.29s        | 0.000378879            |</pre>"
      ],
      "text/plain": [
       "| 22      | 1.29s        | 0.000378879            |"
      ]
     },
     "metadata": {},
     "output_type": "display_data"
    },
    {
     "data": {
      "text/html": [
       "<pre>| 23      | 1.35s        | 0.000368614            |</pre>"
      ],
      "text/plain": [
       "| 23      | 1.35s        | 0.000368614            |"
      ]
     },
     "metadata": {},
     "output_type": "display_data"
    },
    {
     "data": {
      "text/html": [
       "<pre>| 24      | 1.39s        | 0.000359628            |</pre>"
      ],
      "text/plain": [
       "| 24      | 1.39s        | 0.000359628            |"
      ]
     },
     "metadata": {},
     "output_type": "display_data"
    },
    {
     "data": {
      "text/html": [
       "<pre>| 25      | 1.44s        | 0.000350213            |</pre>"
      ],
      "text/plain": [
       "| 25      | 1.44s        | 0.000350213            |"
      ]
     },
     "metadata": {},
     "output_type": "display_data"
    },
    {
     "data": {
      "text/html": [
       "<pre>| 26      | 1.51s        | 0.00034147             |</pre>"
      ],
      "text/plain": [
       "| 26      | 1.51s        | 0.00034147             |"
      ]
     },
     "metadata": {},
     "output_type": "display_data"
    },
    {
     "data": {
      "text/html": [
       "<pre>| 27      | 1.57s        | 0.000335273            |</pre>"
      ],
      "text/plain": [
       "| 27      | 1.57s        | 0.000335273            |"
      ]
     },
     "metadata": {},
     "output_type": "display_data"
    },
    {
     "data": {
      "text/html": [
       "<pre>| 28      | 1.61s        | 0.00032651             |</pre>"
      ],
      "text/plain": [
       "| 28      | 1.61s        | 0.00032651             |"
      ]
     },
     "metadata": {},
     "output_type": "display_data"
    },
    {
     "data": {
      "text/html": [
       "<pre>| 29      | 1.67s        | 0.000319669            |</pre>"
      ],
      "text/plain": [
       "| 29      | 1.67s        | 0.000319669            |"
      ]
     },
     "metadata": {},
     "output_type": "display_data"
    },
    {
     "data": {
      "text/html": [
       "<pre>| 30      | 1.73s        | 0.000312995            |</pre>"
      ],
      "text/plain": [
       "| 30      | 1.73s        | 0.000312995            |"
      ]
     },
     "metadata": {},
     "output_type": "display_data"
    },
    {
     "data": {
      "text/html": [
       "<pre>| 31      | 1.78s        | 0.000307835            |</pre>"
      ],
      "text/plain": [
       "| 31      | 1.78s        | 0.000307835            |"
      ]
     },
     "metadata": {},
     "output_type": "display_data"
    },
    {
     "data": {
      "text/html": [
       "<pre>| 32      | 1.83s        | 0.000301834            |</pre>"
      ],
      "text/plain": [
       "| 32      | 1.83s        | 0.000301834            |"
      ]
     },
     "metadata": {},
     "output_type": "display_data"
    },
    {
     "data": {
      "text/html": [
       "<pre>| 33      | 1.88s        | 0.000296061            |</pre>"
      ],
      "text/plain": [
       "| 33      | 1.88s        | 0.000296061            |"
      ]
     },
     "metadata": {},
     "output_type": "display_data"
    },
    {
     "data": {
      "text/html": [
       "<pre>| 34      | 1.93s        | 0.000290562            |</pre>"
      ],
      "text/plain": [
       "| 34      | 1.93s        | 0.000290562            |"
      ]
     },
     "metadata": {},
     "output_type": "display_data"
    },
    {
     "data": {
      "text/html": [
       "<pre>| 35      | 1.98s        | 0.000286077            |</pre>"
      ],
      "text/plain": [
       "| 35      | 1.98s        | 0.000286077            |"
      ]
     },
     "metadata": {},
     "output_type": "display_data"
    },
    {
     "data": {
      "text/html": [
       "<pre>| 36      | 2.03s        | 0.000280971            |</pre>"
      ],
      "text/plain": [
       "| 36      | 2.03s        | 0.000280971            |"
      ]
     },
     "metadata": {},
     "output_type": "display_data"
    },
    {
     "data": {
      "text/html": [
       "<pre>| 37      | 2.09s        | 0.000276501            |</pre>"
      ],
      "text/plain": [
       "| 37      | 2.09s        | 0.000276501            |"
      ]
     },
     "metadata": {},
     "output_type": "display_data"
    },
    {
     "data": {
      "text/html": [
       "<pre>| 38      | 2.14s        | 0.00027181             |</pre>"
      ],
      "text/plain": [
       "| 38      | 2.14s        | 0.00027181             |"
      ]
     },
     "metadata": {},
     "output_type": "display_data"
    },
    {
     "data": {
      "text/html": [
       "<pre>| 39      | 2.19s        | 0.000267795            |</pre>"
      ],
      "text/plain": [
       "| 39      | 2.19s        | 0.000267795            |"
      ]
     },
     "metadata": {},
     "output_type": "display_data"
    },
    {
     "data": {
      "text/html": [
       "<pre>| 40      | 2.24s        | 0.000264271            |</pre>"
      ],
      "text/plain": [
       "| 40      | 2.24s        | 0.000264271            |"
      ]
     },
     "metadata": {},
     "output_type": "display_data"
    },
    {
     "data": {
      "text/html": [
       "<pre>| 41      | 2.29s        | 0.000260542            |</pre>"
      ],
      "text/plain": [
       "| 41      | 2.29s        | 0.000260542            |"
      ]
     },
     "metadata": {},
     "output_type": "display_data"
    },
    {
     "data": {
      "text/html": [
       "<pre>| 42      | 2.35s        | 0.000257376            |</pre>"
      ],
      "text/plain": [
       "| 42      | 2.35s        | 0.000257376            |"
      ]
     },
     "metadata": {},
     "output_type": "display_data"
    },
    {
     "data": {
      "text/html": [
       "<pre>| 43      | 2.40s        | 0.000253533            |</pre>"
      ],
      "text/plain": [
       "| 43      | 2.40s        | 0.000253533            |"
      ]
     },
     "metadata": {},
     "output_type": "display_data"
    },
    {
     "data": {
      "text/html": [
       "<pre>| 44      | 2.45s        | 0.000249825            |</pre>"
      ],
      "text/plain": [
       "| 44      | 2.45s        | 0.000249825            |"
      ]
     },
     "metadata": {},
     "output_type": "display_data"
    },
    {
     "data": {
      "text/html": [
       "<pre>| 45      | 2.49s        | 0.000246546            |</pre>"
      ],
      "text/plain": [
       "| 45      | 2.49s        | 0.000246546            |"
      ]
     },
     "metadata": {},
     "output_type": "display_data"
    },
    {
     "data": {
      "text/html": [
       "<pre>| 46      | 2.55s        | 0.000243651            |</pre>"
      ],
      "text/plain": [
       "| 46      | 2.55s        | 0.000243651            |"
      ]
     },
     "metadata": {},
     "output_type": "display_data"
    },
    {
     "data": {
      "text/html": [
       "<pre>| 47      | 2.60s        | 0.000240679            |</pre>"
      ],
      "text/plain": [
       "| 47      | 2.60s        | 0.000240679            |"
      ]
     },
     "metadata": {},
     "output_type": "display_data"
    },
    {
     "data": {
      "text/html": [
       "<pre>| 48      | 2.65s        | 0.000237334            |</pre>"
      ],
      "text/plain": [
       "| 48      | 2.65s        | 0.000237334            |"
      ]
     },
     "metadata": {},
     "output_type": "display_data"
    },
    {
     "data": {
      "text/html": [
       "<pre>| 49      | 2.71s        | 0.000234495            |</pre>"
      ],
      "text/plain": [
       "| 49      | 2.71s        | 0.000234495            |"
      ]
     },
     "metadata": {},
     "output_type": "display_data"
    },
    {
     "data": {
      "text/html": [
       "<pre>| FINAL   | 2.71s        | 0.000234495            |</pre>"
      ],
      "text/plain": [
       "| FINAL   | 2.71s        | 0.000234495            |"
      ]
     },
     "metadata": {},
     "output_type": "display_data"
    },
    {
     "data": {
      "text/html": [
       "<pre>+---------+--------------+------------------------+</pre>"
      ],
      "text/plain": [
       "+---------+--------------+------------------------+"
      ]
     },
     "metadata": {},
     "output_type": "display_data"
    },
    {
     "data": {
      "text/html": [
       "<pre>Optimization Complete: Iteration limit reached.</pre>"
      ],
      "text/plain": [
       "Optimization Complete: Iteration limit reached."
      ]
     },
     "metadata": {},
     "output_type": "display_data"
    }
   ],
   "source": [
    "predictions_train_dic = {}\n",
    "predictions_valid_dic = {}\n",
    "\n",
    "for i in xrange(4, 20, 2):\n",
    "    model = graphlab.recommender.factorization_recommender.create(sf_train, user_id='new_user_id', item_id='new_course_id',target='rating',solver='als',side_data_factorization=False, num_factors = i)\n",
    "    predictions_train = model.predict(sf_train)\n",
    "    predictions_valid = model.predict(sf_validation)\n",
    "    predictions_train_dic[i] = np.sqrt(mean_squared_error(sf_train['rating'], predictions_train))\n",
    "    predictions_valid_dic[i] = np.sqrt(mean_squared_error(sf_validation['rating'], predictions_valid))"
   ]
  },
  {
   "cell_type": "code",
   "execution_count": 72,
   "metadata": {},
   "outputs": [
    {
     "data": {
      "text/plain": [
       "{4: 0.030365885453539517,\n",
       " 6: 0.0043838136964563347,\n",
       " 8: 0.0013467680002377904,\n",
       " 10: 0.00076688055571717795,\n",
       " 12: 0.0004668365851537296,\n",
       " 14: 0.00035038031736202193,\n",
       " 16: 0.00027660550828267845,\n",
       " 18: 0.00023449491266040287}"
      ]
     },
     "execution_count": 72,
     "metadata": {},
     "output_type": "execute_result"
    }
   ],
   "source": [
    "predictions_train_dic"
   ]
  },
  {
   "cell_type": "code",
   "execution_count": 73,
   "metadata": {},
   "outputs": [
    {
     "data": {
      "text/plain": [
       "{4: 0.87281244312169792,\n",
       " 6: 0.7836376629750722,\n",
       " 8: 0.72787240928541408,\n",
       " 10: 0.68442884877041121,\n",
       " 12: 0.6875059301026939,\n",
       " 14: 0.6884950000844049,\n",
       " 16: 0.65975560554283663,\n",
       " 18: 0.66573131006628095}"
      ]
     },
     "execution_count": 73,
     "metadata": {},
     "output_type": "execute_result"
    }
   ],
   "source": [
    "predictions_valid_dic"
   ]
  },
  {
   "cell_type": "code",
   "execution_count": 74,
   "metadata": {},
   "outputs": [
    {
     "data": {
      "text/plain": [
       "<matplotlib.legend.Legend at 0x7f15bd84c0d0>"
      ]
     },
     "execution_count": 74,
     "metadata": {},
     "output_type": "execute_result"
    },
    {
     "data": {
      "image/png": "[encoded data removed]",
      "text/plain": [
       "<matplotlib.figure.Figure at 0x7f159c14b690>"
      ]
     },
     "metadata": {},
     "output_type": "display_data"
    }
   ],
   "source": [
    "plt.plot(predictions_train_dic.keys(), predictions_train_dic.values(), color = \"b\", label = \"training error\")\n",
    "plt.plot(predictions_valid_dic.keys(), predictions_valid_dic.values(), color = \"g\", label = \"validation error\")\n",
    "plt.legend()"
   ]
  },
  {
   "cell_type": "code",
   "execution_count": 79,
   "metadata": {},
   "outputs": [
    {
     "data": {
      "text/html": [
       "<pre>Recsys training: model = factorization_recommender</pre>"
      ],
      "text/plain": [
       "Recsys training: model = factorization_recommender"
      ]
     },
     "metadata": {},
     "output_type": "display_data"
    },
    {
     "data": {
      "text/html": [
       "<pre>Preparing data set.</pre>"
      ],
      "text/plain": [
       "Preparing data set."
      ]
     },
     "metadata": {},
     "output_type": "display_data"
    },
    {
     "data": {
      "text/html": [
       "<pre>    Data has 24756 observations with 12294 users and 886 items.</pre>"
      ],
      "text/plain": [
       "    Data has 24756 observations with 12294 users and 886 items."
      ]
     },
     "metadata": {},
     "output_type": "display_data"
    },
    {
     "data": {
      "text/html": [
       "<pre>    Data prepared in: 0.044794s</pre>"
      ],
      "text/plain": [
       "    Data prepared in: 0.044794s"
      ]
     },
     "metadata": {},
     "output_type": "display_data"
    },
    {
     "data": {
      "text/html": [
       "<pre>Training factorization_recommender for recommendations.</pre>"
      ],
      "text/plain": [
       "Training factorization_recommender for recommendations."
      ]
     },
     "metadata": {},
     "output_type": "display_data"
    },
    {
     "data": {
      "text/html": [
       "<pre>+------------------------------+--------------------------------------------------+----------+</pre>"
      ],
      "text/plain": [
       "+------------------------------+--------------------------------------------------+----------+"
      ]
     },
     "metadata": {},
     "output_type": "display_data"
    },
    {
     "data": {
      "text/html": [
       "<pre>| Parameter                    | Description                                      | Value    |</pre>"
      ],
      "text/plain": [
       "| Parameter                    | Description                                      | Value    |"
      ]
     },
     "metadata": {},
     "output_type": "display_data"
    },
    {
     "data": {
      "text/html": [
       "<pre>+------------------------------+--------------------------------------------------+----------+</pre>"
      ],
      "text/plain": [
       "+------------------------------+--------------------------------------------------+----------+"
      ]
     },
     "metadata": {},
     "output_type": "display_data"
    },
    {
     "data": {
      "text/html": [
       "<pre>| num_factors                  | Factor Dimension                                 | 10       |</pre>"
      ],
      "text/plain": [
       "| num_factors                  | Factor Dimension                                 | 10       |"
      ]
     },
     "metadata": {},
     "output_type": "display_data"
    },
    {
     "data": {
      "text/html": [
       "<pre>| regularization               | L2 Regularization on Factors                     | 100      |</pre>"
      ],
      "text/plain": [
       "| regularization               | L2 Regularization on Factors                     | 100      |"
      ]
     },
     "metadata": {},
     "output_type": "display_data"
    },
    {
     "data": {
      "text/html": [
       "<pre>| max_iterations               | Maximum Number of Iterations                     | 50       |</pre>"
      ],
      "text/plain": [
       "| max_iterations               | Maximum Number of Iterations                     | 50       |"
      ]
     },
     "metadata": {},
     "output_type": "display_data"
    },
    {
     "data": {
      "text/html": [
       "<pre>| solver                       | Solver used for training                         | als      |</pre>"
      ],
      "text/plain": [
       "| solver                       | Solver used for training                         | als      |"
      ]
     },
     "metadata": {},
     "output_type": "display_data"
    },
    {
     "data": {
      "text/html": [
       "<pre>+------------------------------+--------------------------------------------------+----------+</pre>"
      ],
      "text/plain": [
       "+------------------------------+--------------------------------------------------+----------+"
      ]
     },
     "metadata": {},
     "output_type": "display_data"
    },
    {
     "data": {
      "text/html": [
       "<pre>+---------+--------------+------------------------+</pre>"
      ],
      "text/plain": [
       "+---------+--------------+------------------------+"
      ]
     },
     "metadata": {},
     "output_type": "display_data"
    },
    {
     "data": {
      "text/html": [
       "<pre>| Iter.   | Elapsed time | RMSE                   |</pre>"
      ],
      "text/plain": [
       "| Iter.   | Elapsed time | RMSE                   |"
      ]
     },
     "metadata": {},
     "output_type": "display_data"
    },
    {
     "data": {
      "text/html": [
       "<pre>+---------+--------------+------------------------+</pre>"
      ],
      "text/plain": [
       "+---------+--------------+------------------------+"
      ]
     },
     "metadata": {},
     "output_type": "display_data"
    },
    {
     "data": {
      "text/html": [
       "<pre>| Initial | 51us         | NA                     |</pre>"
      ],
      "text/plain": [
       "| Initial | 51us         | NA                     |"
      ]
     },
     "metadata": {},
     "output_type": "display_data"
    },
    {
     "data": {
      "text/html": [
       "<pre>+---------+--------------+------------------------+</pre>"
      ],
      "text/plain": [
       "+---------+--------------+------------------------+"
      ]
     },
     "metadata": {},
     "output_type": "display_data"
    },
    {
     "data": {
      "text/html": [
       "<pre>| 0       | 66.484ms     | 0.603364               |</pre>"
      ],
      "text/plain": [
       "| 0       | 66.484ms     | 0.603364               |"
      ]
     },
     "metadata": {},
     "output_type": "display_data"
    },
    {
     "data": {
      "text/html": [
       "<pre>| 1       | 122.339ms    | 0.603364               |</pre>"
      ],
      "text/plain": [
       "| 1       | 122.339ms    | 0.603364               |"
      ]
     },
     "metadata": {},
     "output_type": "display_data"
    },
    {
     "data": {
      "text/html": [
       "<pre>| 2       | 170.455ms    | 0.603364               |</pre>"
      ],
      "text/plain": [
       "| 2       | 170.455ms    | 0.603364               |"
      ]
     },
     "metadata": {},
     "output_type": "display_data"
    },
    {
     "data": {
      "text/html": [
       "<pre>| 3       | 219.854ms    | 0.603364               |</pre>"
      ],
      "text/plain": [
       "| 3       | 219.854ms    | 0.603364               |"
      ]
     },
     "metadata": {},
     "output_type": "display_data"
    },
    {
     "data": {
      "text/html": [
       "<pre>| 4       | 251.514ms    | 0.603364               |</pre>"
      ],
      "text/plain": [
       "| 4       | 251.514ms    | 0.603364               |"
      ]
     },
     "metadata": {},
     "output_type": "display_data"
    },
    {
     "data": {
      "text/html": [
       "<pre>| 5       | 289.084ms    | 0.603364               |</pre>"
      ],
      "text/plain": [
       "| 5       | 289.084ms    | 0.603364               |"
      ]
     },
     "metadata": {},
     "output_type": "display_data"
    },
    {
     "data": {
      "text/html": [
       "<pre>| 6       | 331.112ms    | 0.603364               |</pre>"
      ],
      "text/plain": [
       "| 6       | 331.112ms    | 0.603364               |"
      ]
     },
     "metadata": {},
     "output_type": "display_data"
    },
    {
     "data": {
      "text/html": [
       "<pre>| 7       | 372.066ms    | 0.603364               |</pre>"
      ],
      "text/plain": [
       "| 7       | 372.066ms    | 0.603364               |"
      ]
     },
     "metadata": {},
     "output_type": "display_data"
    },
    {
     "data": {
      "text/html": [
       "<pre>| 8       | 422.992ms    | 0.603364               |</pre>"
      ],
      "text/plain": [
       "| 8       | 422.992ms    | 0.603364               |"
      ]
     },
     "metadata": {},
     "output_type": "display_data"
    },
    {
     "data": {
      "text/html": [
       "<pre>| 9       | 459.856ms    | 0.603364               |</pre>"
      ],
      "text/plain": [
       "| 9       | 459.856ms    | 0.603364               |"
      ]
     },
     "metadata": {},
     "output_type": "display_data"
    },
    {
     "data": {
      "text/html": [
       "<pre>| 10      | 508.019ms    | 0.603364               |</pre>"
      ],
      "text/plain": [
       "| 10      | 508.019ms    | 0.603364               |"
      ]
     },
     "metadata": {},
     "output_type": "display_data"
    },
    {
     "data": {
      "text/html": [
       "<pre>| 11      | 555.734ms    | 0.603364               |</pre>"
      ],
      "text/plain": [
       "| 11      | 555.734ms    | 0.603364               |"
      ]
     },
     "metadata": {},
     "output_type": "display_data"
    },
    {
     "data": {
      "text/html": [
       "<pre>| 12      | 590.134ms    | 0.603364               |</pre>"
      ],
      "text/plain": [
       "| 12      | 590.134ms    | 0.603364               |"
      ]
     },
     "metadata": {},
     "output_type": "display_data"
    },
    {
     "data": {
      "text/html": [
       "<pre>| 13      | 645.708ms    | 0.603364               |</pre>"
      ],
      "text/plain": [
       "| 13      | 645.708ms    | 0.603364               |"
      ]
     },
     "metadata": {},
     "output_type": "display_data"
    },
    {
     "data": {
      "text/html": [
       "<pre>| 14      | 677.746ms    | 0.603364               |</pre>"
      ],
      "text/plain": [
       "| 14      | 677.746ms    | 0.603364               |"
      ]
     },
     "metadata": {},
     "output_type": "display_data"
    },
    {
     "data": {
      "text/html": [
       "<pre>| 15      | 722.609ms    | 0.603364               |</pre>"
      ],
      "text/plain": [
       "| 15      | 722.609ms    | 0.603364               |"
      ]
     },
     "metadata": {},
     "output_type": "display_data"
    },
    {
     "data": {
      "text/html": [
       "<pre>| 16      | 759.575ms    | 0.603364               |</pre>"
      ],
      "text/plain": [
       "| 16      | 759.575ms    | 0.603364               |"
      ]
     },
     "metadata": {},
     "output_type": "display_data"
    },
    {
     "data": {
      "text/html": [
       "<pre>| 17      | 794.313ms    | 0.603364               |</pre>"
      ],
      "text/plain": [
       "| 17      | 794.313ms    | 0.603364               |"
      ]
     },
     "metadata": {},
     "output_type": "display_data"
    },
    {
     "data": {
      "text/html": [
       "<pre>| 18      | 834.277ms    | 0.603364               |</pre>"
      ],
      "text/plain": [
       "| 18      | 834.277ms    | 0.603364               |"
      ]
     },
     "metadata": {},
     "output_type": "display_data"
    },
    {
     "data": {
      "text/html": [
       "<pre>| 19      | 873.752ms    | 0.603364               |</pre>"
      ],
      "text/plain": [
       "| 19      | 873.752ms    | 0.603364               |"
      ]
     },
     "metadata": {},
     "output_type": "display_data"
    },
    {
     "data": {
      "text/html": [
       "<pre>| 20      | 924.484ms    | 0.603364               |</pre>"
      ],
      "text/plain": [
       "| 20      | 924.484ms    | 0.603364               |"
      ]
     },
     "metadata": {},
     "output_type": "display_data"
    },
    {
     "data": {
      "text/html": [
       "<pre>| 21      | 960.173ms    | 0.603364               |</pre>"
      ],
      "text/plain": [
       "| 21      | 960.173ms    | 0.603364               |"
      ]
     },
     "metadata": {},
     "output_type": "display_data"
    },
    {
     "data": {
      "text/html": [
       "<pre>| 22      | 1.00s        | 0.603364               |</pre>"
      ],
      "text/plain": [
       "| 22      | 1.00s        | 0.603364               |"
      ]
     },
     "metadata": {},
     "output_type": "display_data"
    },
    {
     "data": {
      "text/html": [
       "<pre>| 23      | 1.04s        | 0.603364               |</pre>"
      ],
      "text/plain": [
       "| 23      | 1.04s        | 0.603364               |"
      ]
     },
     "metadata": {},
     "output_type": "display_data"
    },
    {
     "data": {
      "text/html": [
       "<pre>| 24      | 1.08s        | 0.603364               |</pre>"
      ],
      "text/plain": [
       "| 24      | 1.08s        | 0.603364               |"
      ]
     },
     "metadata": {},
     "output_type": "display_data"
    },
    {
     "data": {
      "text/html": [
       "<pre>| 25      | 1.12s        | 0.603364               |</pre>"
      ],
      "text/plain": [
       "| 25      | 1.12s        | 0.603364               |"
      ]
     },
     "metadata": {},
     "output_type": "display_data"
    },
    {
     "data": {
      "text/html": [
       "<pre>| 26      | 1.15s        | 0.603364               |</pre>"
      ],
      "text/plain": [
       "| 26      | 1.15s        | 0.603364               |"
      ]
     },
     "metadata": {},
     "output_type": "display_data"
    },
    {
     "data": {
      "text/html": [
       "<pre>| 27      | 1.19s        | 0.603364               |</pre>"
      ],
      "text/plain": [
       "| 27      | 1.19s        | 0.603364               |"
      ]
     },
     "metadata": {},
     "output_type": "display_data"
    },
    {
     "data": {
      "text/html": [
       "<pre>| 28      | 1.25s        | 0.603364               |</pre>"
      ],
      "text/plain": [
       "| 28      | 1.25s        | 0.603364               |"
      ]
     },
     "metadata": {},
     "output_type": "display_data"
    },
    {
     "data": {
      "text/html": [
       "<pre>| 29      | 1.30s        | 0.603364               |</pre>"
      ],
      "text/plain": [
       "| 29      | 1.30s        | 0.603364               |"
      ]
     },
     "metadata": {},
     "output_type": "display_data"
    },
    {
     "data": {
      "text/html": [
       "<pre>| 30      | 1.32s        | 0.603364               |</pre>"
      ],
      "text/plain": [
       "| 30      | 1.32s        | 0.603364               |"
      ]
     },
     "metadata": {},
     "output_type": "display_data"
    },
    {
     "data": {
      "text/html": [
       "<pre>| 31      | 1.37s        | 0.603364               |</pre>"
      ],
      "text/plain": [
       "| 31      | 1.37s        | 0.603364               |"
      ]
     },
     "metadata": {},
     "output_type": "display_data"
    },
    {
     "data": {
      "text/html": [
       "<pre>| 32      | 1.41s        | 0.603364               |</pre>"
      ],
      "text/plain": [
       "| 32      | 1.41s        | 0.603364               |"
      ]
     },
     "metadata": {},
     "output_type": "display_data"
    },
    {
     "data": {
      "text/html": [
       "<pre>| 33      | 1.45s        | 0.603364               |</pre>"
      ],
      "text/plain": [
       "| 33      | 1.45s        | 0.603364               |"
      ]
     },
     "metadata": {},
     "output_type": "display_data"
    },
    {
     "data": {
      "text/html": [
       "<pre>| 34      | 1.49s        | 0.603364               |</pre>"
      ],
      "text/plain": [
       "| 34      | 1.49s        | 0.603364               |"
      ]
     },
     "metadata": {},
     "output_type": "display_data"
    },
    {
     "data": {
      "text/html": [
       "<pre>| 35      | 1.53s        | 0.603364               |</pre>"
      ],
      "text/plain": [
       "| 35      | 1.53s        | 0.603364               |"
      ]
     },
     "metadata": {},
     "output_type": "display_data"
    },
    {
     "data": {
      "text/html": [
       "<pre>| 36      | 1.57s        | 0.603364               |</pre>"
      ],
      "text/plain": [
       "| 36      | 1.57s        | 0.603364               |"
      ]
     },
     "metadata": {},
     "output_type": "display_data"
    },
    {
     "data": {
      "text/html": [
       "<pre>| 37      | 1.60s        | 0.603364               |</pre>"
      ],
      "text/plain": [
       "| 37      | 1.60s        | 0.603364               |"
      ]
     },
     "metadata": {},
     "output_type": "display_data"
    },
    {
     "data": {
      "text/html": [
       "<pre>| 38      | 1.65s        | 0.603364               |</pre>"
      ],
      "text/plain": [
       "| 38      | 1.65s        | 0.603364               |"
      ]
     },
     "metadata": {},
     "output_type": "display_data"
    },
    {
     "data": {
      "text/html": [
       "<pre>| 39      | 1.69s        | 0.603364               |</pre>"
      ],
      "text/plain": [
       "| 39      | 1.69s        | 0.603364               |"
      ]
     },
     "metadata": {},
     "output_type": "display_data"
    },
    {
     "data": {
      "text/html": [
       "<pre>| 40      | 1.73s        | 0.603364               |</pre>"
      ],
      "text/plain": [
       "| 40      | 1.73s        | 0.603364               |"
      ]
     },
     "metadata": {},
     "output_type": "display_data"
    },
    {
     "data": {
      "text/html": [
       "<pre>| 41      | 1.77s        | 0.603364               |</pre>"
      ],
      "text/plain": [
       "| 41      | 1.77s        | 0.603364               |"
      ]
     },
     "metadata": {},
     "output_type": "display_data"
    },
    {
     "data": {
      "text/html": [
       "<pre>| 42      | 1.80s        | 0.603364               |</pre>"
      ],
      "text/plain": [
       "| 42      | 1.80s        | 0.603364               |"
      ]
     },
     "metadata": {},
     "output_type": "display_data"
    },
    {
     "data": {
      "text/html": [
       "<pre>| 43      | 1.84s        | 0.603364               |</pre>"
      ],
      "text/plain": [
       "| 43      | 1.84s        | 0.603364               |"
      ]
     },
     "metadata": {},
     "output_type": "display_data"
    },
    {
     "data": {
      "text/html": [
       "<pre>| 44      | 1.87s        | 0.603364               |</pre>"
      ],
      "text/plain": [
       "| 44      | 1.87s        | 0.603364               |"
      ]
     },
     "metadata": {},
     "output_type": "display_data"
    },
    {
     "data": {
      "text/html": [
       "<pre>| 45      | 1.91s        | 0.603364               |</pre>"
      ],
      "text/plain": [
       "| 45      | 1.91s        | 0.603364               |"
      ]
     },
     "metadata": {},
     "output_type": "display_data"
    },
    {
     "data": {
      "text/html": [
       "<pre>| 46      | 1.95s        | 0.603364               |</pre>"
      ],
      "text/plain": [
       "| 46      | 1.95s        | 0.603364               |"
      ]
     },
     "metadata": {},
     "output_type": "display_data"
    },
    {
     "data": {
      "text/html": [
       "<pre>| 47      | 1.98s        | 0.603364               |</pre>"
      ],
      "text/plain": [
       "| 47      | 1.98s        | 0.603364               |"
      ]
     },
     "metadata": {},
     "output_type": "display_data"
    },
    {
     "data": {
      "text/html": [
       "<pre>| 48      | 2.03s        | 0.603364               |</pre>"
      ],
      "text/plain": [
       "| 48      | 2.03s        | 0.603364               |"
      ]
     },
     "metadata": {},
     "output_type": "display_data"
    },
    {
     "data": {
      "text/html": [
       "<pre>| 49      | 2.07s        | 0.603364               |</pre>"
      ],
      "text/plain": [
       "| 49      | 2.07s        | 0.603364               |"
      ]
     },
     "metadata": {},
     "output_type": "display_data"
    },
    {
     "data": {
      "text/html": [
       "<pre>| FINAL   | 2.07s        | 0.603364               |</pre>"
      ],
      "text/plain": [
       "| FINAL   | 2.07s        | 0.603364               |"
      ]
     },
     "metadata": {},
     "output_type": "display_data"
    },
    {
     "data": {
      "text/html": [
       "<pre>+---------+--------------+------------------------+</pre>"
      ],
      "text/plain": [
       "+---------+--------------+------------------------+"
      ]
     },
     "metadata": {},
     "output_type": "display_data"
    },
    {
     "data": {
      "text/html": [
       "<pre>Optimization Complete: Iteration limit reached.</pre>"
      ],
      "text/plain": [
       "Optimization Complete: Iteration limit reached."
      ]
     },
     "metadata": {},
     "output_type": "display_data"
    },
    {
     "data": {
      "text/html": [
       "<pre>Recsys training: model = factorization_recommender</pre>"
      ],
      "text/plain": [
       "Recsys training: model = factorization_recommender"
      ]
     },
     "metadata": {},
     "output_type": "display_data"
    },
    {
     "data": {
      "text/html": [
       "<pre>Preparing data set.</pre>"
      ],
      "text/plain": [
       "Preparing data set."
      ]
     },
     "metadata": {},
     "output_type": "display_data"
    },
    {
     "data": {
      "text/html": [
       "<pre>    Data has 24756 observations with 12294 users and 886 items.</pre>"
      ],
      "text/plain": [
       "    Data has 24756 observations with 12294 users and 886 items."
      ]
     },
     "metadata": {},
     "output_type": "display_data"
    },
    {
     "data": {
      "text/html": [
       "<pre>    Data prepared in: 0.049035s</pre>"
      ],
      "text/plain": [
       "    Data prepared in: 0.049035s"
      ]
     },
     "metadata": {},
     "output_type": "display_data"
    },
    {
     "data": {
      "text/html": [
       "<pre>Training factorization_recommender for recommendations.</pre>"
      ],
      "text/plain": [
       "Training factorization_recommender for recommendations."
      ]
     },
     "metadata": {},
     "output_type": "display_data"
    },
    {
     "data": {
      "text/html": [
       "<pre>+------------------------------+--------------------------------------------------+----------+</pre>"
      ],
      "text/plain": [
       "+------------------------------+--------------------------------------------------+----------+"
      ]
     },
     "metadata": {},
     "output_type": "display_data"
    },
    {
     "data": {
      "text/html": [
       "<pre>| Parameter                    | Description                                      | Value    |</pre>"
      ],
      "text/plain": [
       "| Parameter                    | Description                                      | Value    |"
      ]
     },
     "metadata": {},
     "output_type": "display_data"
    },
    {
     "data": {
      "text/html": [
       "<pre>+------------------------------+--------------------------------------------------+----------+</pre>"
      ],
      "text/plain": [
       "+------------------------------+--------------------------------------------------+----------+"
      ]
     },
     "metadata": {},
     "output_type": "display_data"
    },
    {
     "data": {
      "text/html": [
       "<pre>| num_factors                  | Factor Dimension                                 | 10       |</pre>"
      ],
      "text/plain": [
       "| num_factors                  | Factor Dimension                                 | 10       |"
      ]
     },
     "metadata": {},
     "output_type": "display_data"
    },
    {
     "data": {
      "text/html": [
       "<pre>| regularization               | L2 Regularization on Factors                     | 1        |</pre>"
      ],
      "text/plain": [
       "| regularization               | L2 Regularization on Factors                     | 1        |"
      ]
     },
     "metadata": {},
     "output_type": "display_data"
    },
    {
     "data": {
      "text/html": [
       "<pre>| max_iterations               | Maximum Number of Iterations                     | 50       |</pre>"
      ],
      "text/plain": [
       "| max_iterations               | Maximum Number of Iterations                     | 50       |"
      ]
     },
     "metadata": {},
     "output_type": "display_data"
    },
    {
     "data": {
      "text/html": [
       "<pre>| solver                       | Solver used for training                         | als      |</pre>"
      ],
      "text/plain": [
       "| solver                       | Solver used for training                         | als      |"
      ]
     },
     "metadata": {},
     "output_type": "display_data"
    },
    {
     "data": {
      "text/html": [
       "<pre>+------------------------------+--------------------------------------------------+----------+</pre>"
      ],
      "text/plain": [
       "+------------------------------+--------------------------------------------------+----------+"
      ]
     },
     "metadata": {},
     "output_type": "display_data"
    },
    {
     "data": {
      "text/html": [
       "<pre>+---------+--------------+------------------------+</pre>"
      ],
      "text/plain": [
       "+---------+--------------+------------------------+"
      ]
     },
     "metadata": {},
     "output_type": "display_data"
    },
    {
     "data": {
      "text/html": [
       "<pre>| Iter.   | Elapsed time | RMSE                   |</pre>"
      ],
      "text/plain": [
       "| Iter.   | Elapsed time | RMSE                   |"
      ]
     },
     "metadata": {},
     "output_type": "display_data"
    },
    {
     "data": {
      "text/html": [
       "<pre>+---------+--------------+------------------------+</pre>"
      ],
      "text/plain": [
       "+---------+--------------+------------------------+"
      ]
     },
     "metadata": {},
     "output_type": "display_data"
    },
    {
     "data": {
      "text/html": [
       "<pre>| Initial | 57us         | NA                     |</pre>"
      ],
      "text/plain": [
       "| Initial | 57us         | NA                     |"
      ]
     },
     "metadata": {},
     "output_type": "display_data"
    },
    {
     "data": {
      "text/html": [
       "<pre>+---------+--------------+------------------------+</pre>"
      ],
      "text/plain": [
       "+---------+--------------+------------------------+"
      ]
     },
     "metadata": {},
     "output_type": "display_data"
    },
    {
     "data": {
      "text/html": [
       "<pre>| 0       | 55.493ms     | 0.603364               |</pre>"
      ],
      "text/plain": [
       "| 0       | 55.493ms     | 0.603364               |"
      ]
     },
     "metadata": {},
     "output_type": "display_data"
    },
    {
     "data": {
      "text/html": [
       "<pre>| 1       | 106.239ms    | 0.603364               |</pre>"
      ],
      "text/plain": [
       "| 1       | 106.239ms    | 0.603364               |"
      ]
     },
     "metadata": {},
     "output_type": "display_data"
    },
    {
     "data": {
      "text/html": [
       "<pre>| 2       | 163.386ms    | 0.603364               |</pre>"
      ],
      "text/plain": [
       "| 2       | 163.386ms    | 0.603364               |"
      ]
     },
     "metadata": {},
     "output_type": "display_data"
    },
    {
     "data": {
      "text/html": [
       "<pre>| 3       | 192.005ms    | 0.603364               |</pre>"
      ],
      "text/plain": [
       "| 3       | 192.005ms    | 0.603364               |"
      ]
     },
     "metadata": {},
     "output_type": "display_data"
    },
    {
     "data": {
      "text/html": [
       "<pre>| 4       | 238.591ms    | 0.603364               |</pre>"
      ],
      "text/plain": [
       "| 4       | 238.591ms    | 0.603364               |"
      ]
     },
     "metadata": {},
     "output_type": "display_data"
    },
    {
     "data": {
      "text/html": [
       "<pre>| 5       | 278.696ms    | 0.603364               |</pre>"
      ],
      "text/plain": [
       "| 5       | 278.696ms    | 0.603364               |"
      ]
     },
     "metadata": {},
     "output_type": "display_data"
    },
    {
     "data": {
      "text/html": [
       "<pre>| 6       | 328.608ms    | 0.603364               |</pre>"
      ],
      "text/plain": [
       "| 6       | 328.608ms    | 0.603364               |"
      ]
     },
     "metadata": {},
     "output_type": "display_data"
    },
    {
     "data": {
      "text/html": [
       "<pre>| 7       | 370.77ms     | 0.603364               |</pre>"
      ],
      "text/plain": [
       "| 7       | 370.77ms     | 0.603364               |"
      ]
     },
     "metadata": {},
     "output_type": "display_data"
    },
    {
     "data": {
      "text/html": [
       "<pre>| 8       | 413.638ms    | 0.603364               |</pre>"
      ],
      "text/plain": [
       "| 8       | 413.638ms    | 0.603364               |"
      ]
     },
     "metadata": {},
     "output_type": "display_data"
    },
    {
     "data": {
      "text/html": [
       "<pre>| 9       | 438.598ms    | 0.603364               |</pre>"
      ],
      "text/plain": [
       "| 9       | 438.598ms    | 0.603364               |"
      ]
     },
     "metadata": {},
     "output_type": "display_data"
    },
    {
     "data": {
      "text/html": [
       "<pre>| 10      | 480.444ms    | 0.603364               |</pre>"
      ],
      "text/plain": [
       "| 10      | 480.444ms    | 0.603364               |"
      ]
     },
     "metadata": {},
     "output_type": "display_data"
    },
    {
     "data": {
      "text/html": [
       "<pre>| 11      | 512.196ms    | 0.603364               |</pre>"
      ],
      "text/plain": [
       "| 11      | 512.196ms    | 0.603364               |"
      ]
     },
     "metadata": {},
     "output_type": "display_data"
    },
    {
     "data": {
      "text/html": [
       "<pre>| 12      | 563.864ms    | 0.603364               |</pre>"
      ],
      "text/plain": [
       "| 12      | 563.864ms    | 0.603364               |"
      ]
     },
     "metadata": {},
     "output_type": "display_data"
    },
    {
     "data": {
      "text/html": [
       "<pre>| 13      | 603.499ms    | 0.603364               |</pre>"
      ],
      "text/plain": [
       "| 13      | 603.499ms    | 0.603364               |"
      ]
     },
     "metadata": {},
     "output_type": "display_data"
    },
    {
     "data": {
      "text/html": [
       "<pre>| 14      | 644.002ms    | 0.603364               |</pre>"
      ],
      "text/plain": [
       "| 14      | 644.002ms    | 0.603364               |"
      ]
     },
     "metadata": {},
     "output_type": "display_data"
    },
    {
     "data": {
      "text/html": [
       "<pre>| 15      | 673.464ms    | 0.603364               |</pre>"
      ],
      "text/plain": [
       "| 15      | 673.464ms    | 0.603364               |"
      ]
     },
     "metadata": {},
     "output_type": "display_data"
    },
    {
     "data": {
      "text/html": [
       "<pre>| 16      | 699.33ms     | 0.603364               |</pre>"
      ],
      "text/plain": [
       "| 16      | 699.33ms     | 0.603364               |"
      ]
     },
     "metadata": {},
     "output_type": "display_data"
    },
    {
     "data": {
      "text/html": [
       "<pre>| 17      | 728.277ms    | 0.603364               |</pre>"
      ],
      "text/plain": [
       "| 17      | 728.277ms    | 0.603364               |"
      ]
     },
     "metadata": {},
     "output_type": "display_data"
    },
    {
     "data": {
      "text/html": [
       "<pre>| 18      | 782.734ms    | 0.603364               |</pre>"
      ],
      "text/plain": [
       "| 18      | 782.734ms    | 0.603364               |"
      ]
     },
     "metadata": {},
     "output_type": "display_data"
    },
    {
     "data": {
      "text/html": [
       "<pre>| 19      | 810.697ms    | 0.603364               |</pre>"
      ],
      "text/plain": [
       "| 19      | 810.697ms    | 0.603364               |"
      ]
     },
     "metadata": {},
     "output_type": "display_data"
    },
    {
     "data": {
      "text/html": [
       "<pre>| 20      | 848.465ms    | 0.603364               |</pre>"
      ],
      "text/plain": [
       "| 20      | 848.465ms    | 0.603364               |"
      ]
     },
     "metadata": {},
     "output_type": "display_data"
    },
    {
     "data": {
      "text/html": [
       "<pre>| 21      | 895.956ms    | 0.603364               |</pre>"
      ],
      "text/plain": [
       "| 21      | 895.956ms    | 0.603364               |"
      ]
     },
     "metadata": {},
     "output_type": "display_data"
    },
    {
     "data": {
      "text/html": [
       "<pre>| 22      | 925.575ms    | 0.603364               |</pre>"
      ],
      "text/plain": [
       "| 22      | 925.575ms    | 0.603364               |"
      ]
     },
     "metadata": {},
     "output_type": "display_data"
    },
    {
     "data": {
      "text/html": [
       "<pre>| 23      | 972.573ms    | 0.603364               |</pre>"
      ],
      "text/plain": [
       "| 23      | 972.573ms    | 0.603364               |"
      ]
     },
     "metadata": {},
     "output_type": "display_data"
    },
    {
     "data": {
      "text/html": [
       "<pre>| 24      | 1.02s        | 0.603364               |</pre>"
      ],
      "text/plain": [
       "| 24      | 1.02s        | 0.603364               |"
      ]
     },
     "metadata": {},
     "output_type": "display_data"
    },
    {
     "data": {
      "text/html": [
       "<pre>| 25      | 1.08s        | 0.603364               |</pre>"
      ],
      "text/plain": [
       "| 25      | 1.08s        | 0.603364               |"
      ]
     },
     "metadata": {},
     "output_type": "display_data"
    },
    {
     "data": {
      "text/html": [
       "<pre>| 26      | 1.12s        | 0.603364               |</pre>"
      ],
      "text/plain": [
       "| 26      | 1.12s        | 0.603364               |"
      ]
     },
     "metadata": {},
     "output_type": "display_data"
    },
    {
     "data": {
      "text/html": [
       "<pre>| 27      | 1.17s        | 0.603364               |</pre>"
      ],
      "text/plain": [
       "| 27      | 1.17s        | 0.603364               |"
      ]
     },
     "metadata": {},
     "output_type": "display_data"
    },
    {
     "data": {
      "text/html": [
       "<pre>| 28      | 1.22s        | 0.603364               |</pre>"
      ],
      "text/plain": [
       "| 28      | 1.22s        | 0.603364               |"
      ]
     },
     "metadata": {},
     "output_type": "display_data"
    },
    {
     "data": {
      "text/html": [
       "<pre>| 29      | 1.26s        | 0.603364               |</pre>"
      ],
      "text/plain": [
       "| 29      | 1.26s        | 0.603364               |"
      ]
     },
     "metadata": {},
     "output_type": "display_data"
    },
    {
     "data": {
      "text/html": [
       "<pre>| 30      | 1.28s        | 0.603364               |</pre>"
      ],
      "text/plain": [
       "| 30      | 1.28s        | 0.603364               |"
      ]
     },
     "metadata": {},
     "output_type": "display_data"
    },
    {
     "data": {
      "text/html": [
       "<pre>| 31      | 1.32s        | 0.603364               |</pre>"
      ],
      "text/plain": [
       "| 31      | 1.32s        | 0.603364               |"
      ]
     },
     "metadata": {},
     "output_type": "display_data"
    },
    {
     "data": {
      "text/html": [
       "<pre>| 32      | 1.35s        | 0.603364               |</pre>"
      ],
      "text/plain": [
       "| 32      | 1.35s        | 0.603364               |"
      ]
     },
     "metadata": {},
     "output_type": "display_data"
    },
    {
     "data": {
      "text/html": [
       "<pre>| 33      | 1.39s        | 0.603364               |</pre>"
      ],
      "text/plain": [
       "| 33      | 1.39s        | 0.603364               |"
      ]
     },
     "metadata": {},
     "output_type": "display_data"
    },
    {
     "data": {
      "text/html": [
       "<pre>| 34      | 1.42s        | 0.603364               |</pre>"
      ],
      "text/plain": [
       "| 34      | 1.42s        | 0.603364               |"
      ]
     },
     "metadata": {},
     "output_type": "display_data"
    },
    {
     "data": {
      "text/html": [
       "<pre>| 35      | 1.47s        | 0.603364               |</pre>"
      ],
      "text/plain": [
       "| 35      | 1.47s        | 0.603364               |"
      ]
     },
     "metadata": {},
     "output_type": "display_data"
    },
    {
     "data": {
      "text/html": [
       "<pre>| 36      | 1.50s        | 0.603364               |</pre>"
      ],
      "text/plain": [
       "| 36      | 1.50s        | 0.603364               |"
      ]
     },
     "metadata": {},
     "output_type": "display_data"
    },
    {
     "data": {
      "text/html": [
       "<pre>| 37      | 1.56s        | 0.603364               |</pre>"
      ],
      "text/plain": [
       "| 37      | 1.56s        | 0.603364               |"
      ]
     },
     "metadata": {},
     "output_type": "display_data"
    },
    {
     "data": {
      "text/html": [
       "<pre>| 38      | 1.58s        | 0.603364               |</pre>"
      ],
      "text/plain": [
       "| 38      | 1.58s        | 0.603364               |"
      ]
     },
     "metadata": {},
     "output_type": "display_data"
    },
    {
     "data": {
      "text/html": [
       "<pre>| 39      | 1.64s        | 0.603364               |</pre>"
      ],
      "text/plain": [
       "| 39      | 1.64s        | 0.603364               |"
      ]
     },
     "metadata": {},
     "output_type": "display_data"
    },
    {
     "data": {
      "text/html": [
       "<pre>| 40      | 1.70s        | 0.603364               |</pre>"
      ],
      "text/plain": [
       "| 40      | 1.70s        | 0.603364               |"
      ]
     },
     "metadata": {},
     "output_type": "display_data"
    },
    {
     "data": {
      "text/html": [
       "<pre>| 41      | 1.73s        | 0.603364               |</pre>"
      ],
      "text/plain": [
       "| 41      | 1.73s        | 0.603364               |"
      ]
     },
     "metadata": {},
     "output_type": "display_data"
    },
    {
     "data": {
      "text/html": [
       "<pre>| 42      | 1.78s        | 0.603364               |</pre>"
      ],
      "text/plain": [
       "| 42      | 1.78s        | 0.603364               |"
      ]
     },
     "metadata": {},
     "output_type": "display_data"
    },
    {
     "data": {
      "text/html": [
       "<pre>| 43      | 1.83s        | 0.603364               |</pre>"
      ],
      "text/plain": [
       "| 43      | 1.83s        | 0.603364               |"
      ]
     },
     "metadata": {},
     "output_type": "display_data"
    },
    {
     "data": {
      "text/html": [
       "<pre>| 44      | 1.87s        | 0.603364               |</pre>"
      ],
      "text/plain": [
       "| 44      | 1.87s        | 0.603364               |"
      ]
     },
     "metadata": {},
     "output_type": "display_data"
    },
    {
     "data": {
      "text/html": [
       "<pre>| 45      | 1.92s        | 0.603364               |</pre>"
      ],
      "text/plain": [
       "| 45      | 1.92s        | 0.603364               |"
      ]
     },
     "metadata": {},
     "output_type": "display_data"
    },
    {
     "data": {
      "text/html": [
       "<pre>| 46      | 1.96s        | 0.603364               |</pre>"
      ],
      "text/plain": [
       "| 46      | 1.96s        | 0.603364               |"
      ]
     },
     "metadata": {},
     "output_type": "display_data"
    },
    {
     "data": {
      "text/html": [
       "<pre>| 47      | 2.00s        | 0.603364               |</pre>"
      ],
      "text/plain": [
       "| 47      | 2.00s        | 0.603364               |"
      ]
     },
     "metadata": {},
     "output_type": "display_data"
    },
    {
     "data": {
      "text/html": [
       "<pre>| 48      | 2.05s        | 0.603364               |</pre>"
      ],
      "text/plain": [
       "| 48      | 2.05s        | 0.603364               |"
      ]
     },
     "metadata": {},
     "output_type": "display_data"
    },
    {
     "data": {
      "text/html": [
       "<pre>| 49      | 2.08s        | 0.603364               |</pre>"
      ],
      "text/plain": [
       "| 49      | 2.08s        | 0.603364               |"
      ]
     },
     "metadata": {},
     "output_type": "display_data"
    },
    {
     "data": {
      "text/html": [
       "<pre>| FINAL   | 2.08s        | 0.603364               |</pre>"
      ],
      "text/plain": [
       "| FINAL   | 2.08s        | 0.603364               |"
      ]
     },
     "metadata": {},
     "output_type": "display_data"
    },
    {
     "data": {
      "text/html": [
       "<pre>+---------+--------------+------------------------+</pre>"
      ],
      "text/plain": [
       "+---------+--------------+------------------------+"
      ]
     },
     "metadata": {},
     "output_type": "display_data"
    },
    {
     "data": {
      "text/html": [
       "<pre>Optimization Complete: Iteration limit reached.</pre>"
      ],
      "text/plain": [
       "Optimization Complete: Iteration limit reached."
      ]
     },
     "metadata": {},
     "output_type": "display_data"
    },
    {
     "data": {
      "text/html": [
       "<pre>Recsys training: model = factorization_recommender</pre>"
      ],
      "text/plain": [
       "Recsys training: model = factorization_recommender"
      ]
     },
     "metadata": {},
     "output_type": "display_data"
    },
    {
     "data": {
      "text/html": [
       "<pre>Preparing data set.</pre>"
      ],
      "text/plain": [
       "Preparing data set."
      ]
     },
     "metadata": {},
     "output_type": "display_data"
    },
    {
     "data": {
      "text/html": [
       "<pre>    Data has 24756 observations with 12294 users and 886 items.</pre>"
      ],
      "text/plain": [
       "    Data has 24756 observations with 12294 users and 886 items."
      ]
     },
     "metadata": {},
     "output_type": "display_data"
    },
    {
     "data": {
      "text/html": [
       "<pre>    Data prepared in: 0.047321s</pre>"
      ],
      "text/plain": [
       "    Data prepared in: 0.047321s"
      ]
     },
     "metadata": {},
     "output_type": "display_data"
    },
    {
     "data": {
      "text/html": [
       "<pre>Training factorization_recommender for recommendations.</pre>"
      ],
      "text/plain": [
       "Training factorization_recommender for recommendations."
      ]
     },
     "metadata": {},
     "output_type": "display_data"
    },
    {
     "data": {
      "text/html": [
       "<pre>+------------------------------+--------------------------------------------------+----------+</pre>"
      ],
      "text/plain": [
       "+------------------------------+--------------------------------------------------+----------+"
      ]
     },
     "metadata": {},
     "output_type": "display_data"
    },
    {
     "data": {
      "text/html": [
       "<pre>| Parameter                    | Description                                      | Value    |</pre>"
      ],
      "text/plain": [
       "| Parameter                    | Description                                      | Value    |"
      ]
     },
     "metadata": {},
     "output_type": "display_data"
    },
    {
     "data": {
      "text/html": [
       "<pre>+------------------------------+--------------------------------------------------+----------+</pre>"
      ],
      "text/plain": [
       "+------------------------------+--------------------------------------------------+----------+"
      ]
     },
     "metadata": {},
     "output_type": "display_data"
    },
    {
     "data": {
      "text/html": [
       "<pre>| num_factors                  | Factor Dimension                                 | 10       |</pre>"
      ],
      "text/plain": [
       "| num_factors                  | Factor Dimension                                 | 10       |"
      ]
     },
     "metadata": {},
     "output_type": "display_data"
    },
    {
     "data": {
      "text/html": [
       "<pre>| regularization               | L2 Regularization on Factors                     | 0.1      |</pre>"
      ],
      "text/plain": [
       "| regularization               | L2 Regularization on Factors                     | 0.1      |"
      ]
     },
     "metadata": {},
     "output_type": "display_data"
    },
    {
     "data": {
      "text/html": [
       "<pre>| max_iterations               | Maximum Number of Iterations                     | 50       |</pre>"
      ],
      "text/plain": [
       "| max_iterations               | Maximum Number of Iterations                     | 50       |"
      ]
     },
     "metadata": {},
     "output_type": "display_data"
    },
    {
     "data": {
      "text/html": [
       "<pre>| solver                       | Solver used for training                         | als      |</pre>"
      ],
      "text/plain": [
       "| solver                       | Solver used for training                         | als      |"
      ]
     },
     "metadata": {},
     "output_type": "display_data"
    },
    {
     "data": {
      "text/html": [
       "<pre>+------------------------------+--------------------------------------------------+----------+</pre>"
      ],
      "text/plain": [
       "+------------------------------+--------------------------------------------------+----------+"
      ]
     },
     "metadata": {},
     "output_type": "display_data"
    },
    {
     "data": {
      "text/html": [
       "<pre>+---------+--------------+------------------------+</pre>"
      ],
      "text/plain": [
       "+---------+--------------+------------------------+"
      ]
     },
     "metadata": {},
     "output_type": "display_data"
    },
    {
     "data": {
      "text/html": [
       "<pre>| Iter.   | Elapsed time | RMSE                   |</pre>"
      ],
      "text/plain": [
       "| Iter.   | Elapsed time | RMSE                   |"
      ]
     },
     "metadata": {},
     "output_type": "display_data"
    },
    {
     "data": {
      "text/html": [
       "<pre>+---------+--------------+------------------------+</pre>"
      ],
      "text/plain": [
       "+---------+--------------+------------------------+"
      ]
     },
     "metadata": {},
     "output_type": "display_data"
    },
    {
     "data": {
      "text/html": [
       "<pre>| Initial | 62us         | NA                     |</pre>"
      ],
      "text/plain": [
       "| Initial | 62us         | NA                     |"
      ]
     },
     "metadata": {},
     "output_type": "display_data"
    },
    {
     "data": {
      "text/html": [
       "<pre>+---------+--------------+------------------------+</pre>"
      ],
      "text/plain": [
       "+---------+--------------+------------------------+"
      ]
     },
     "metadata": {},
     "output_type": "display_data"
    },
    {
     "data": {
      "text/html": [
       "<pre>| 0       | 54.176ms     | 0.603364               |</pre>"
      ],
      "text/plain": [
       "| 0       | 54.176ms     | 0.603364               |"
      ]
     },
     "metadata": {},
     "output_type": "display_data"
    },
    {
     "data": {
      "text/html": [
       "<pre>| 1       | 115.352ms    | 0.603364               |</pre>"
      ],
      "text/plain": [
       "| 1       | 115.352ms    | 0.603364               |"
      ]
     },
     "metadata": {},
     "output_type": "display_data"
    },
    {
     "data": {
      "text/html": [
       "<pre>| 2       | 164.401ms    | 0.603364               |</pre>"
      ],
      "text/plain": [
       "| 2       | 164.401ms    | 0.603364               |"
      ]
     },
     "metadata": {},
     "output_type": "display_data"
    },
    {
     "data": {
      "text/html": [
       "<pre>| 3       | 234.531ms    | 0.603364               |</pre>"
      ],
      "text/plain": [
       "| 3       | 234.531ms    | 0.603364               |"
      ]
     },
     "metadata": {},
     "output_type": "display_data"
    },
    {
     "data": {
      "text/html": [
       "<pre>| 4       | 258.169ms    | 0.603364               |</pre>"
      ],
      "text/plain": [
       "| 4       | 258.169ms    | 0.603364               |"
      ]
     },
     "metadata": {},
     "output_type": "display_data"
    },
    {
     "data": {
      "text/html": [
       "<pre>| 5       | 296.084ms    | 0.603364               |</pre>"
      ],
      "text/plain": [
       "| 5       | 296.084ms    | 0.603364               |"
      ]
     },
     "metadata": {},
     "output_type": "display_data"
    },
    {
     "data": {
      "text/html": [
       "<pre>| 6       | 337.092ms    | 0.603364               |</pre>"
      ],
      "text/plain": [
       "| 6       | 337.092ms    | 0.603364               |"
      ]
     },
     "metadata": {},
     "output_type": "display_data"
    },
    {
     "data": {
      "text/html": [
       "<pre>| 7       | 390.022ms    | 0.603364               |</pre>"
      ],
      "text/plain": [
       "| 7       | 390.022ms    | 0.603364               |"
      ]
     },
     "metadata": {},
     "output_type": "display_data"
    },
    {
     "data": {
      "text/html": [
       "<pre>| 8       | 440.484ms    | 0.603364               |</pre>"
      ],
      "text/plain": [
       "| 8       | 440.484ms    | 0.603364               |"
      ]
     },
     "metadata": {},
     "output_type": "display_data"
    },
    {
     "data": {
      "text/html": [
       "<pre>| 9       | 488.084ms    | 0.603364               |</pre>"
      ],
      "text/plain": [
       "| 9       | 488.084ms    | 0.603364               |"
      ]
     },
     "metadata": {},
     "output_type": "display_data"
    },
    {
     "data": {
      "text/html": [
       "<pre>| 10      | 524.573ms    | 0.603364               |</pre>"
      ],
      "text/plain": [
       "| 10      | 524.573ms    | 0.603364               |"
      ]
     },
     "metadata": {},
     "output_type": "display_data"
    },
    {
     "data": {
      "text/html": [
       "<pre>| 11      | 568.793ms    | 0.603364               |</pre>"
      ],
      "text/plain": [
       "| 11      | 568.793ms    | 0.603364               |"
      ]
     },
     "metadata": {},
     "output_type": "display_data"
    },
    {
     "data": {
      "text/html": [
       "<pre>| 12      | 601.982ms    | 0.603364               |</pre>"
      ],
      "text/plain": [
       "| 12      | 601.982ms    | 0.603364               |"
      ]
     },
     "metadata": {},
     "output_type": "display_data"
    },
    {
     "data": {
      "text/html": [
       "<pre>| 13      | 654.739ms    | 0.603364               |</pre>"
      ],
      "text/plain": [
       "| 13      | 654.739ms    | 0.603364               |"
      ]
     },
     "metadata": {},
     "output_type": "display_data"
    },
    {
     "data": {
      "text/html": [
       "<pre>| 14      | 685.428ms    | 0.603364               |</pre>"
      ],
      "text/plain": [
       "| 14      | 685.428ms    | 0.603364               |"
      ]
     },
     "metadata": {},
     "output_type": "display_data"
    },
    {
     "data": {
      "text/html": [
       "<pre>| 15      | 724.215ms    | 0.603364               |</pre>"
      ],
      "text/plain": [
       "| 15      | 724.215ms    | 0.603364               |"
      ]
     },
     "metadata": {},
     "output_type": "display_data"
    },
    {
     "data": {
      "text/html": [
       "<pre>| 16      | 773.477ms    | 0.603364               |</pre>"
      ],
      "text/plain": [
       "| 16      | 773.477ms    | 0.603364               |"
      ]
     },
     "metadata": {},
     "output_type": "display_data"
    },
    {
     "data": {
      "text/html": [
       "<pre>| 17      | 810.721ms    | 0.603364               |</pre>"
      ],
      "text/plain": [
       "| 17      | 810.721ms    | 0.603364               |"
      ]
     },
     "metadata": {},
     "output_type": "display_data"
    },
    {
     "data": {
      "text/html": [
       "<pre>| 18      | 852.267ms    | 0.603364               |</pre>"
      ],
      "text/plain": [
       "| 18      | 852.267ms    | 0.603364               |"
      ]
     },
     "metadata": {},
     "output_type": "display_data"
    },
    {
     "data": {
      "text/html": [
       "<pre>| 19      | 883.965ms    | 0.603364               |</pre>"
      ],
      "text/plain": [
       "| 19      | 883.965ms    | 0.603364               |"
      ]
     },
     "metadata": {},
     "output_type": "display_data"
    },
    {
     "data": {
      "text/html": [
       "<pre>| 20      | 927.194ms    | 0.603364               |</pre>"
      ],
      "text/plain": [
       "| 20      | 927.194ms    | 0.603364               |"
      ]
     },
     "metadata": {},
     "output_type": "display_data"
    },
    {
     "data": {
      "text/html": [
       "<pre>| 21      | 966.087ms    | 0.603364               |</pre>"
      ],
      "text/plain": [
       "| 21      | 966.087ms    | 0.603364               |"
      ]
     },
     "metadata": {},
     "output_type": "display_data"
    },
    {
     "data": {
      "text/html": [
       "<pre>| 22      | 1.00s        | 0.603364               |</pre>"
      ],
      "text/plain": [
       "| 22      | 1.00s        | 0.603364               |"
      ]
     },
     "metadata": {},
     "output_type": "display_data"
    },
    {
     "data": {
      "text/html": [
       "<pre>| 23      | 1.04s        | 0.603364               |</pre>"
      ],
      "text/plain": [
       "| 23      | 1.04s        | 0.603364               |"
      ]
     },
     "metadata": {},
     "output_type": "display_data"
    },
    {
     "data": {
      "text/html": [
       "<pre>| 24      | 1.08s        | 0.603364               |</pre>"
      ],
      "text/plain": [
       "| 24      | 1.08s        | 0.603364               |"
      ]
     },
     "metadata": {},
     "output_type": "display_data"
    },
    {
     "data": {
      "text/html": [
       "<pre>| 25      | 1.12s        | 0.603364               |</pre>"
      ],
      "text/plain": [
       "| 25      | 1.12s        | 0.603364               |"
      ]
     },
     "metadata": {},
     "output_type": "display_data"
    },
    {
     "data": {
      "text/html": [
       "<pre>| 26      | 1.16s        | 0.603364               |</pre>"
      ],
      "text/plain": [
       "| 26      | 1.16s        | 0.603364               |"
      ]
     },
     "metadata": {},
     "output_type": "display_data"
    },
    {
     "data": {
      "text/html": [
       "<pre>| 27      | 1.20s        | 0.603364               |</pre>"
      ],
      "text/plain": [
       "| 27      | 1.20s        | 0.603364               |"
      ]
     },
     "metadata": {},
     "output_type": "display_data"
    },
    {
     "data": {
      "text/html": [
       "<pre>| 28      | 1.26s        | 0.603364               |</pre>"
      ],
      "text/plain": [
       "| 28      | 1.26s        | 0.603364               |"
      ]
     },
     "metadata": {},
     "output_type": "display_data"
    },
    {
     "data": {
      "text/html": [
       "<pre>| 29      | 1.29s        | 0.603364               |</pre>"
      ],
      "text/plain": [
       "| 29      | 1.29s        | 0.603364               |"
      ]
     },
     "metadata": {},
     "output_type": "display_data"
    },
    {
     "data": {
      "text/html": [
       "<pre>| 30      | 1.32s        | 0.603364               |</pre>"
      ],
      "text/plain": [
       "| 30      | 1.32s        | 0.603364               |"
      ]
     },
     "metadata": {},
     "output_type": "display_data"
    },
    {
     "data": {
      "text/html": [
       "<pre>| 31      | 1.37s        | 0.603364               |</pre>"
      ],
      "text/plain": [
       "| 31      | 1.37s        | 0.603364               |"
      ]
     },
     "metadata": {},
     "output_type": "display_data"
    },
    {
     "data": {
      "text/html": [
       "<pre>| 32      | 1.41s        | 0.603364               |</pre>"
      ],
      "text/plain": [
       "| 32      | 1.41s        | 0.603364               |"
      ]
     },
     "metadata": {},
     "output_type": "display_data"
    },
    {
     "data": {
      "text/html": [
       "<pre>| 33      | 1.44s        | 0.603364               |</pre>"
      ],
      "text/plain": [
       "| 33      | 1.44s        | 0.603364               |"
      ]
     },
     "metadata": {},
     "output_type": "display_data"
    },
    {
     "data": {
      "text/html": [
       "<pre>| 34      | 1.49s        | 0.603364               |</pre>"
      ],
      "text/plain": [
       "| 34      | 1.49s        | 0.603364               |"
      ]
     },
     "metadata": {},
     "output_type": "display_data"
    },
    {
     "data": {
      "text/html": [
       "<pre>| 35      | 1.54s        | 0.603364               |</pre>"
      ],
      "text/plain": [
       "| 35      | 1.54s        | 0.603364               |"
      ]
     },
     "metadata": {},
     "output_type": "display_data"
    },
    {
     "data": {
      "text/html": [
       "<pre>| 36      | 1.57s        | 0.603364               |</pre>"
      ],
      "text/plain": [
       "| 36      | 1.57s        | 0.603364               |"
      ]
     },
     "metadata": {},
     "output_type": "display_data"
    },
    {
     "data": {
      "text/html": [
       "<pre>| 37      | 1.61s        | 0.603364               |</pre>"
      ],
      "text/plain": [
       "| 37      | 1.61s        | 0.603364               |"
      ]
     },
     "metadata": {},
     "output_type": "display_data"
    },
    {
     "data": {
      "text/html": [
       "<pre>| 38      | 1.65s        | 0.603364               |</pre>"
      ],
      "text/plain": [
       "| 38      | 1.65s        | 0.603364               |"
      ]
     },
     "metadata": {},
     "output_type": "display_data"
    },
    {
     "data": {
      "text/html": [
       "<pre>| 39      | 1.70s        | 0.603364               |</pre>"
      ],
      "text/plain": [
       "| 39      | 1.70s        | 0.603364               |"
      ]
     },
     "metadata": {},
     "output_type": "display_data"
    },
    {
     "data": {
      "text/html": [
       "<pre>| 40      | 1.74s        | 0.603364               |</pre>"
      ],
      "text/plain": [
       "| 40      | 1.74s        | 0.603364               |"
      ]
     },
     "metadata": {},
     "output_type": "display_data"
    },
    {
     "data": {
      "text/html": [
       "<pre>| 41      | 1.79s        | 0.603364               |</pre>"
      ],
      "text/plain": [
       "| 41      | 1.79s        | 0.603364               |"
      ]
     },
     "metadata": {},
     "output_type": "display_data"
    },
    {
     "data": {
      "text/html": [
       "<pre>| 42      | 1.82s        | 0.603364               |</pre>"
      ],
      "text/plain": [
       "| 42      | 1.82s        | 0.603364               |"
      ]
     },
     "metadata": {},
     "output_type": "display_data"
    },
    {
     "data": {
      "text/html": [
       "<pre>| 43      | 1.88s        | 0.603364               |</pre>"
      ],
      "text/plain": [
       "| 43      | 1.88s        | 0.603364               |"
      ]
     },
     "metadata": {},
     "output_type": "display_data"
    },
    {
     "data": {
      "text/html": [
       "<pre>| 44      | 1.92s        | 0.603364               |</pre>"
      ],
      "text/plain": [
       "| 44      | 1.92s        | 0.603364               |"
      ]
     },
     "metadata": {},
     "output_type": "display_data"
    },
    {
     "data": {
      "text/html": [
       "<pre>| 45      | 1.96s        | 0.603364               |</pre>"
      ],
      "text/plain": [
       "| 45      | 1.96s        | 0.603364               |"
      ]
     },
     "metadata": {},
     "output_type": "display_data"
    },
    {
     "data": {
      "text/html": [
       "<pre>| 46      | 1.99s        | 0.603364               |</pre>"
      ],
      "text/plain": [
       "| 46      | 1.99s        | 0.603364               |"
      ]
     },
     "metadata": {},
     "output_type": "display_data"
    },
    {
     "data": {
      "text/html": [
       "<pre>| 47      | 2.04s        | 0.603364               |</pre>"
      ],
      "text/plain": [
       "| 47      | 2.04s        | 0.603364               |"
      ]
     },
     "metadata": {},
     "output_type": "display_data"
    },
    {
     "data": {
      "text/html": [
       "<pre>| 48      | 2.07s        | 0.603364               |</pre>"
      ],
      "text/plain": [
       "| 48      | 2.07s        | 0.603364               |"
      ]
     },
     "metadata": {},
     "output_type": "display_data"
    },
    {
     "data": {
      "text/html": [
       "<pre>| 49      | 2.11s        | 0.603364               |</pre>"
      ],
      "text/plain": [
       "| 49      | 2.11s        | 0.603364               |"
      ]
     },
     "metadata": {},
     "output_type": "display_data"
    },
    {
     "data": {
      "text/html": [
       "<pre>| FINAL   | 2.11s        | 0.603364               |</pre>"
      ],
      "text/plain": [
       "| FINAL   | 2.11s        | 0.603364               |"
      ]
     },
     "metadata": {},
     "output_type": "display_data"
    },
    {
     "data": {
      "text/html": [
       "<pre>+---------+--------------+------------------------+</pre>"
      ],
      "text/plain": [
       "+---------+--------------+------------------------+"
      ]
     },
     "metadata": {},
     "output_type": "display_data"
    },
    {
     "data": {
      "text/html": [
       "<pre>Optimization Complete: Iteration limit reached.</pre>"
      ],
      "text/plain": [
       "Optimization Complete: Iteration limit reached."
      ]
     },
     "metadata": {},
     "output_type": "display_data"
    },
    {
     "data": {
      "text/html": [
       "<pre>Recsys training: model = factorization_recommender</pre>"
      ],
      "text/plain": [
       "Recsys training: model = factorization_recommender"
      ]
     },
     "metadata": {},
     "output_type": "display_data"
    },
    {
     "data": {
      "text/html": [
       "<pre>Preparing data set.</pre>"
      ],
      "text/plain": [
       "Preparing data set."
      ]
     },
     "metadata": {},
     "output_type": "display_data"
    },
    {
     "data": {
      "text/html": [
       "<pre>    Data has 24756 observations with 12294 users and 886 items.</pre>"
      ],
      "text/plain": [
       "    Data has 24756 observations with 12294 users and 886 items."
      ]
     },
     "metadata": {},
     "output_type": "display_data"
    },
    {
     "data": {
      "text/html": [
       "<pre>    Data prepared in: 0.055143s</pre>"
      ],
      "text/plain": [
       "    Data prepared in: 0.055143s"
      ]
     },
     "metadata": {},
     "output_type": "display_data"
    },
    {
     "data": {
      "text/html": [
       "<pre>Training factorization_recommender for recommendations.</pre>"
      ],
      "text/plain": [
       "Training factorization_recommender for recommendations."
      ]
     },
     "metadata": {},
     "output_type": "display_data"
    },
    {
     "data": {
      "text/html": [
       "<pre>+------------------------------+--------------------------------------------------+----------+</pre>"
      ],
      "text/plain": [
       "+------------------------------+--------------------------------------------------+----------+"
      ]
     },
     "metadata": {},
     "output_type": "display_data"
    },
    {
     "data": {
      "text/html": [
       "<pre>| Parameter                    | Description                                      | Value    |</pre>"
      ],
      "text/plain": [
       "| Parameter                    | Description                                      | Value    |"
      ]
     },
     "metadata": {},
     "output_type": "display_data"
    },
    {
     "data": {
      "text/html": [
       "<pre>+------------------------------+--------------------------------------------------+----------+</pre>"
      ],
      "text/plain": [
       "+------------------------------+--------------------------------------------------+----------+"
      ]
     },
     "metadata": {},
     "output_type": "display_data"
    },
    {
     "data": {
      "text/html": [
       "<pre>| num_factors                  | Factor Dimension                                 | 10       |</pre>"
      ],
      "text/plain": [
       "| num_factors                  | Factor Dimension                                 | 10       |"
      ]
     },
     "metadata": {},
     "output_type": "display_data"
    },
    {
     "data": {
      "text/html": [
       "<pre>| regularization               | L2 Regularization on Factors                     | 0.01     |</pre>"
      ],
      "text/plain": [
       "| regularization               | L2 Regularization on Factors                     | 0.01     |"
      ]
     },
     "metadata": {},
     "output_type": "display_data"
    },
    {
     "data": {
      "text/html": [
       "<pre>| max_iterations               | Maximum Number of Iterations                     | 50       |</pre>"
      ],
      "text/plain": [
       "| max_iterations               | Maximum Number of Iterations                     | 50       |"
      ]
     },
     "metadata": {},
     "output_type": "display_data"
    },
    {
     "data": {
      "text/html": [
       "<pre>| solver                       | Solver used for training                         | als      |</pre>"
      ],
      "text/plain": [
       "| solver                       | Solver used for training                         | als      |"
      ]
     },
     "metadata": {},
     "output_type": "display_data"
    },
    {
     "data": {
      "text/html": [
       "<pre>+------------------------------+--------------------------------------------------+----------+</pre>"
      ],
      "text/plain": [
       "+------------------------------+--------------------------------------------------+----------+"
      ]
     },
     "metadata": {},
     "output_type": "display_data"
    },
    {
     "data": {
      "text/html": [
       "<pre>+---------+--------------+------------------------+</pre>"
      ],
      "text/plain": [
       "+---------+--------------+------------------------+"
      ]
     },
     "metadata": {},
     "output_type": "display_data"
    },
    {
     "data": {
      "text/html": [
       "<pre>| Iter.   | Elapsed time | RMSE                   |</pre>"
      ],
      "text/plain": [
       "| Iter.   | Elapsed time | RMSE                   |"
      ]
     },
     "metadata": {},
     "output_type": "display_data"
    },
    {
     "data": {
      "text/html": [
       "<pre>+---------+--------------+------------------------+</pre>"
      ],
      "text/plain": [
       "+---------+--------------+------------------------+"
      ]
     },
     "metadata": {},
     "output_type": "display_data"
    },
    {
     "data": {
      "text/html": [
       "<pre>| Initial | 87us         | NA                     |</pre>"
      ],
      "text/plain": [
       "| Initial | 87us         | NA                     |"
      ]
     },
     "metadata": {},
     "output_type": "display_data"
    },
    {
     "data": {
      "text/html": [
       "<pre>+---------+--------------+------------------------+</pre>"
      ],
      "text/plain": [
       "+---------+--------------+------------------------+"
      ]
     },
     "metadata": {},
     "output_type": "display_data"
    },
    {
     "data": {
      "text/html": [
       "<pre>| 0       | 59.891ms     | 0.603364               |</pre>"
      ],
      "text/plain": [
       "| 0       | 59.891ms     | 0.603364               |"
      ]
     },
     "metadata": {},
     "output_type": "display_data"
    },
    {
     "data": {
      "text/html": [
       "<pre>| 1       | 94.618ms     | 0.603364               |</pre>"
      ],
      "text/plain": [
       "| 1       | 94.618ms     | 0.603364               |"
      ]
     },
     "metadata": {},
     "output_type": "display_data"
    },
    {
     "data": {
      "text/html": [
       "<pre>| 2       | 154.188ms    | 0.603364               |</pre>"
      ],
      "text/plain": [
       "| 2       | 154.188ms    | 0.603364               |"
      ]
     },
     "metadata": {},
     "output_type": "display_data"
    },
    {
     "data": {
      "text/html": [
       "<pre>| 3       | 205.116ms    | 0.603364               |</pre>"
      ],
      "text/plain": [
       "| 3       | 205.116ms    | 0.603364               |"
      ]
     },
     "metadata": {},
     "output_type": "display_data"
    },
    {
     "data": {
      "text/html": [
       "<pre>| 4       | 243.103ms    | 0.603364               |</pre>"
      ],
      "text/plain": [
       "| 4       | 243.103ms    | 0.603364               |"
      ]
     },
     "metadata": {},
     "output_type": "display_data"
    },
    {
     "data": {
      "text/html": [
       "<pre>| 5       | 308.684ms    | 0.603364               |</pre>"
      ],
      "text/plain": [
       "| 5       | 308.684ms    | 0.603364               |"
      ]
     },
     "metadata": {},
     "output_type": "display_data"
    },
    {
     "data": {
      "text/html": [
       "<pre>| 6       | 378.684ms    | 0.603364               |</pre>"
      ],
      "text/plain": [
       "| 6       | 378.684ms    | 0.603364               |"
      ]
     },
     "metadata": {},
     "output_type": "display_data"
    },
    {
     "data": {
      "text/html": [
       "<pre>| 7       | 422.235ms    | 0.603364               |</pre>"
      ],
      "text/plain": [
       "| 7       | 422.235ms    | 0.603364               |"
      ]
     },
     "metadata": {},
     "output_type": "display_data"
    },
    {
     "data": {
      "text/html": [
       "<pre>| 8       | 449.167ms    | 0.603364               |</pre>"
      ],
      "text/plain": [
       "| 8       | 449.167ms    | 0.603364               |"
      ]
     },
     "metadata": {},
     "output_type": "display_data"
    },
    {
     "data": {
      "text/html": [
       "<pre>| 9       | 493.952ms    | 0.603364               |</pre>"
      ],
      "text/plain": [
       "| 9       | 493.952ms    | 0.603364               |"
      ]
     },
     "metadata": {},
     "output_type": "display_data"
    },
    {
     "data": {
      "text/html": [
       "<pre>| 10      | 545.639ms    | 0.603364               |</pre>"
      ],
      "text/plain": [
       "| 10      | 545.639ms    | 0.603364               |"
      ]
     },
     "metadata": {},
     "output_type": "display_data"
    },
    {
     "data": {
      "text/html": [
       "<pre>| 11      | 587.56ms     | 0.603364               |</pre>"
      ],
      "text/plain": [
       "| 11      | 587.56ms     | 0.603364               |"
      ]
     },
     "metadata": {},
     "output_type": "display_data"
    },
    {
     "data": {
      "text/html": [
       "<pre>| 12      | 630.572ms    | 0.603364               |</pre>"
      ],
      "text/plain": [
       "| 12      | 630.572ms    | 0.603364               |"
      ]
     },
     "metadata": {},
     "output_type": "display_data"
    },
    {
     "data": {
      "text/html": [
       "<pre>| 13      | 682.984ms    | 0.603364               |</pre>"
      ],
      "text/plain": [
       "| 13      | 682.984ms    | 0.603364               |"
      ]
     },
     "metadata": {},
     "output_type": "display_data"
    },
    {
     "data": {
      "text/html": [
       "<pre>| 14      | 728.077ms    | 0.603364               |</pre>"
      ],
      "text/plain": [
       "| 14      | 728.077ms    | 0.603364               |"
      ]
     },
     "metadata": {},
     "output_type": "display_data"
    },
    {
     "data": {
      "text/html": [
       "<pre>| 15      | 774.994ms    | 0.603364               |</pre>"
      ],
      "text/plain": [
       "| 15      | 774.994ms    | 0.603364               |"
      ]
     },
     "metadata": {},
     "output_type": "display_data"
    },
    {
     "data": {
      "text/html": [
       "<pre>| 16      | 810.231ms    | 0.603364               |</pre>"
      ],
      "text/plain": [
       "| 16      | 810.231ms    | 0.603364               |"
      ]
     },
     "metadata": {},
     "output_type": "display_data"
    },
    {
     "data": {
      "text/html": [
       "<pre>| 17      | 848.858ms    | 0.603364               |</pre>"
      ],
      "text/plain": [
       "| 17      | 848.858ms    | 0.603364               |"
      ]
     },
     "metadata": {},
     "output_type": "display_data"
    },
    {
     "data": {
      "text/html": [
       "<pre>| 18      | 892.122ms    | 0.603364               |</pre>"
      ],
      "text/plain": [
       "| 18      | 892.122ms    | 0.603364               |"
      ]
     },
     "metadata": {},
     "output_type": "display_data"
    },
    {
     "data": {
      "text/html": [
       "<pre>| 19      | 928.6ms      | 0.603364               |</pre>"
      ],
      "text/plain": [
       "| 19      | 928.6ms      | 0.603364               |"
      ]
     },
     "metadata": {},
     "output_type": "display_data"
    },
    {
     "data": {
      "text/html": [
       "<pre>| 20      | 970.385ms    | 0.603364               |</pre>"
      ],
      "text/plain": [
       "| 20      | 970.385ms    | 0.603364               |"
      ]
     },
     "metadata": {},
     "output_type": "display_data"
    },
    {
     "data": {
      "text/html": [
       "<pre>| 21      | 1.01s        | 0.603364               |</pre>"
      ],
      "text/plain": [
       "| 21      | 1.01s        | 0.603364               |"
      ]
     },
     "metadata": {},
     "output_type": "display_data"
    },
    {
     "data": {
      "text/html": [
       "<pre>| 22      | 1.05s        | 0.603364               |</pre>"
      ],
      "text/plain": [
       "| 22      | 1.05s        | 0.603364               |"
      ]
     },
     "metadata": {},
     "output_type": "display_data"
    },
    {
     "data": {
      "text/html": [
       "<pre>| 23      | 1.10s        | 0.603364               |</pre>"
      ],
      "text/plain": [
       "| 23      | 1.10s        | 0.603364               |"
      ]
     },
     "metadata": {},
     "output_type": "display_data"
    },
    {
     "data": {
      "text/html": [
       "<pre>| 24      | 1.15s        | 0.603364               |</pre>"
      ],
      "text/plain": [
       "| 24      | 1.15s        | 0.603364               |"
      ]
     },
     "metadata": {},
     "output_type": "display_data"
    },
    {
     "data": {
      "text/html": [
       "<pre>| 25      | 1.19s        | 0.603364               |</pre>"
      ],
      "text/plain": [
       "| 25      | 1.19s        | 0.603364               |"
      ]
     },
     "metadata": {},
     "output_type": "display_data"
    },
    {
     "data": {
      "text/html": [
       "<pre>| 26      | 1.24s        | 0.603364               |</pre>"
      ],
      "text/plain": [
       "| 26      | 1.24s        | 0.603364               |"
      ]
     },
     "metadata": {},
     "output_type": "display_data"
    },
    {
     "data": {
      "text/html": [
       "<pre>| 27      | 1.29s        | 0.603364               |</pre>"
      ],
      "text/plain": [
       "| 27      | 1.29s        | 0.603364               |"
      ]
     },
     "metadata": {},
     "output_type": "display_data"
    },
    {
     "data": {
      "text/html": [
       "<pre>| 28      | 1.33s        | 0.603364               |</pre>"
      ],
      "text/plain": [
       "| 28      | 1.33s        | 0.603364               |"
      ]
     },
     "metadata": {},
     "output_type": "display_data"
    },
    {
     "data": {
      "text/html": [
       "<pre>| 29      | 1.36s        | 0.603364               |</pre>"
      ],
      "text/plain": [
       "| 29      | 1.36s        | 0.603364               |"
      ]
     },
     "metadata": {},
     "output_type": "display_data"
    },
    {
     "data": {
      "text/html": [
       "<pre>| 30      | 1.40s        | 0.603364               |</pre>"
      ],
      "text/plain": [
       "| 30      | 1.40s        | 0.603364               |"
      ]
     },
     "metadata": {},
     "output_type": "display_data"
    },
    {
     "data": {
      "text/html": [
       "<pre>| 31      | 1.44s        | 0.603364               |</pre>"
      ],
      "text/plain": [
       "| 31      | 1.44s        | 0.603364               |"
      ]
     },
     "metadata": {},
     "output_type": "display_data"
    },
    {
     "data": {
      "text/html": [
       "<pre>| 32      | 1.49s        | 0.603364               |</pre>"
      ],
      "text/plain": [
       "| 32      | 1.49s        | 0.603364               |"
      ]
     },
     "metadata": {},
     "output_type": "display_data"
    },
    {
     "data": {
      "text/html": [
       "<pre>| 33      | 1.53s        | 0.603364               |</pre>"
      ],
      "text/plain": [
       "| 33      | 1.53s        | 0.603364               |"
      ]
     },
     "metadata": {},
     "output_type": "display_data"
    },
    {
     "data": {
      "text/html": [
       "<pre>| 34      | 1.56s        | 0.603364               |</pre>"
      ],
      "text/plain": [
       "| 34      | 1.56s        | 0.603364               |"
      ]
     },
     "metadata": {},
     "output_type": "display_data"
    },
    {
     "data": {
      "text/html": [
       "<pre>| 35      | 1.60s        | 0.603364               |</pre>"
      ],
      "text/plain": [
       "| 35      | 1.60s        | 0.603364               |"
      ]
     },
     "metadata": {},
     "output_type": "display_data"
    },
    {
     "data": {
      "text/html": [
       "<pre>| 36      | 1.65s        | 0.603364               |</pre>"
      ],
      "text/plain": [
       "| 36      | 1.65s        | 0.603364               |"
      ]
     },
     "metadata": {},
     "output_type": "display_data"
    },
    {
     "data": {
      "text/html": [
       "<pre>| 37      | 1.69s        | 0.603364               |</pre>"
      ],
      "text/plain": [
       "| 37      | 1.69s        | 0.603364               |"
      ]
     },
     "metadata": {},
     "output_type": "display_data"
    },
    {
     "data": {
      "text/html": [
       "<pre>| 38      | 1.73s        | 0.603364               |</pre>"
      ],
      "text/plain": [
       "| 38      | 1.73s        | 0.603364               |"
      ]
     },
     "metadata": {},
     "output_type": "display_data"
    },
    {
     "data": {
      "text/html": [
       "<pre>| 39      | 1.78s        | 0.603364               |</pre>"
      ],
      "text/plain": [
       "| 39      | 1.78s        | 0.603364               |"
      ]
     },
     "metadata": {},
     "output_type": "display_data"
    },
    {
     "data": {
      "text/html": [
       "<pre>| 40      | 1.82s        | 0.603364               |</pre>"
      ],
      "text/plain": [
       "| 40      | 1.82s        | 0.603364               |"
      ]
     },
     "metadata": {},
     "output_type": "display_data"
    },
    {
     "data": {
      "text/html": [
       "<pre>| 41      | 1.87s        | 0.603364               |</pre>"
      ],
      "text/plain": [
       "| 41      | 1.87s        | 0.603364               |"
      ]
     },
     "metadata": {},
     "output_type": "display_data"
    },
    {
     "data": {
      "text/html": [
       "<pre>| 42      | 1.91s        | 0.603364               |</pre>"
      ],
      "text/plain": [
       "| 42      | 1.91s        | 0.603364               |"
      ]
     },
     "metadata": {},
     "output_type": "display_data"
    },
    {
     "data": {
      "text/html": [
       "<pre>| 43      | 1.94s        | 0.603364               |</pre>"
      ],
      "text/plain": [
       "| 43      | 1.94s        | 0.603364               |"
      ]
     },
     "metadata": {},
     "output_type": "display_data"
    },
    {
     "data": {
      "text/html": [
       "<pre>| 44      | 1.99s        | 0.603364               |</pre>"
      ],
      "text/plain": [
       "| 44      | 1.99s        | 0.603364               |"
      ]
     },
     "metadata": {},
     "output_type": "display_data"
    },
    {
     "data": {
      "text/html": [
       "<pre>| 45      | 2.02s        | 0.603364               |</pre>"
      ],
      "text/plain": [
       "| 45      | 2.02s        | 0.603364               |"
      ]
     },
     "metadata": {},
     "output_type": "display_data"
    },
    {
     "data": {
      "text/html": [
       "<pre>| 46      | 2.06s        | 0.603364               |</pre>"
      ],
      "text/plain": [
       "| 46      | 2.06s        | 0.603364               |"
      ]
     },
     "metadata": {},
     "output_type": "display_data"
    },
    {
     "data": {
      "text/html": [
       "<pre>| 47      | 2.11s        | 0.603364               |</pre>"
      ],
      "text/plain": [
       "| 47      | 2.11s        | 0.603364               |"
      ]
     },
     "metadata": {},
     "output_type": "display_data"
    },
    {
     "data": {
      "text/html": [
       "<pre>| 48      | 2.15s        | 0.603364               |</pre>"
      ],
      "text/plain": [
       "| 48      | 2.15s        | 0.603364               |"
      ]
     },
     "metadata": {},
     "output_type": "display_data"
    },
    {
     "data": {
      "text/html": [
       "<pre>| 49      | 2.18s        | 0.603364               |</pre>"
      ],
      "text/plain": [
       "| 49      | 2.18s        | 0.603364               |"
      ]
     },
     "metadata": {},
     "output_type": "display_data"
    },
    {
     "data": {
      "text/html": [
       "<pre>| FINAL   | 2.18s        | 0.603364               |</pre>"
      ],
      "text/plain": [
       "| FINAL   | 2.18s        | 0.603364               |"
      ]
     },
     "metadata": {},
     "output_type": "display_data"
    },
    {
     "data": {
      "text/html": [
       "<pre>+---------+--------------+------------------------+</pre>"
      ],
      "text/plain": [
       "+---------+--------------+------------------------+"
      ]
     },
     "metadata": {},
     "output_type": "display_data"
    },
    {
     "data": {
      "text/html": [
       "<pre>Optimization Complete: Iteration limit reached.</pre>"
      ],
      "text/plain": [
       "Optimization Complete: Iteration limit reached."
      ]
     },
     "metadata": {},
     "output_type": "display_data"
    },
    {
     "data": {
      "text/html": [
       "<pre>Recsys training: model = factorization_recommender</pre>"
      ],
      "text/plain": [
       "Recsys training: model = factorization_recommender"
      ]
     },
     "metadata": {},
     "output_type": "display_data"
    },
    {
     "data": {
      "text/html": [
       "<pre>Preparing data set.</pre>"
      ],
      "text/plain": [
       "Preparing data set."
      ]
     },
     "metadata": {},
     "output_type": "display_data"
    },
    {
     "data": {
      "text/html": [
       "<pre>    Data has 24756 observations with 12294 users and 886 items.</pre>"
      ],
      "text/plain": [
       "    Data has 24756 observations with 12294 users and 886 items."
      ]
     },
     "metadata": {},
     "output_type": "display_data"
    },
    {
     "data": {
      "text/html": [
       "<pre>    Data prepared in: 0.051448s</pre>"
      ],
      "text/plain": [
       "    Data prepared in: 0.051448s"
      ]
     },
     "metadata": {},
     "output_type": "display_data"
    },
    {
     "data": {
      "text/html": [
       "<pre>Training factorization_recommender for recommendations.</pre>"
      ],
      "text/plain": [
       "Training factorization_recommender for recommendations."
      ]
     },
     "metadata": {},
     "output_type": "display_data"
    },
    {
     "data": {
      "text/html": [
       "<pre>+------------------------------+--------------------------------------------------+----------+</pre>"
      ],
      "text/plain": [
       "+------------------------------+--------------------------------------------------+----------+"
      ]
     },
     "metadata": {},
     "output_type": "display_data"
    },
    {
     "data": {
      "text/html": [
       "<pre>| Parameter                    | Description                                      | Value    |</pre>"
      ],
      "text/plain": [
       "| Parameter                    | Description                                      | Value    |"
      ]
     },
     "metadata": {},
     "output_type": "display_data"
    },
    {
     "data": {
      "text/html": [
       "<pre>+------------------------------+--------------------------------------------------+----------+</pre>"
      ],
      "text/plain": [
       "+------------------------------+--------------------------------------------------+----------+"
      ]
     },
     "metadata": {},
     "output_type": "display_data"
    },
    {
     "data": {
      "text/html": [
       "<pre>| num_factors                  | Factor Dimension                                 | 10       |</pre>"
      ],
      "text/plain": [
       "| num_factors                  | Factor Dimension                                 | 10       |"
      ]
     },
     "metadata": {},
     "output_type": "display_data"
    },
    {
     "data": {
      "text/html": [
       "<pre>| regularization               | L2 Regularization on Factors                     | 0.0001   |</pre>"
      ],
      "text/plain": [
       "| regularization               | L2 Regularization on Factors                     | 0.0001   |"
      ]
     },
     "metadata": {},
     "output_type": "display_data"
    },
    {
     "data": {
      "text/html": [
       "<pre>| max_iterations               | Maximum Number of Iterations                     | 50       |</pre>"
      ],
      "text/plain": [
       "| max_iterations               | Maximum Number of Iterations                     | 50       |"
      ]
     },
     "metadata": {},
     "output_type": "display_data"
    },
    {
     "data": {
      "text/html": [
       "<pre>| solver                       | Solver used for training                         | als      |</pre>"
      ],
      "text/plain": [
       "| solver                       | Solver used for training                         | als      |"
      ]
     },
     "metadata": {},
     "output_type": "display_data"
    },
    {
     "data": {
      "text/html": [
       "<pre>+------------------------------+--------------------------------------------------+----------+</pre>"
      ],
      "text/plain": [
       "+------------------------------+--------------------------------------------------+----------+"
      ]
     },
     "metadata": {},
     "output_type": "display_data"
    },
    {
     "data": {
      "text/html": [
       "<pre>+---------+--------------+------------------------+</pre>"
      ],
      "text/plain": [
       "+---------+--------------+------------------------+"
      ]
     },
     "metadata": {},
     "output_type": "display_data"
    },
    {
     "data": {
      "text/html": [
       "<pre>| Iter.   | Elapsed time | RMSE                   |</pre>"
      ],
      "text/plain": [
       "| Iter.   | Elapsed time | RMSE                   |"
      ]
     },
     "metadata": {},
     "output_type": "display_data"
    },
    {
     "data": {
      "text/html": [
       "<pre>+---------+--------------+------------------------+</pre>"
      ],
      "text/plain": [
       "+---------+--------------+------------------------+"
      ]
     },
     "metadata": {},
     "output_type": "display_data"
    },
    {
     "data": {
      "text/html": [
       "<pre>| Initial | 102us        | NA                     |</pre>"
      ],
      "text/plain": [
       "| Initial | 102us        | NA                     |"
      ]
     },
     "metadata": {},
     "output_type": "display_data"
    },
    {
     "data": {
      "text/html": [
       "<pre>+---------+--------------+------------------------+</pre>"
      ],
      "text/plain": [
       "+---------+--------------+------------------------+"
      ]
     },
     "metadata": {},
     "output_type": "display_data"
    },
    {
     "data": {
      "text/html": [
       "<pre>| 0       | 52.266ms     | 0.603359               |</pre>"
      ],
      "text/plain": [
       "| 0       | 52.266ms     | 0.603359               |"
      ]
     },
     "metadata": {},
     "output_type": "display_data"
    },
    {
     "data": {
      "text/html": [
       "<pre>| 1       | 90.207ms     | 0.601761               |</pre>"
      ],
      "text/plain": [
       "| 1       | 90.207ms     | 0.601761               |"
      ]
     },
     "metadata": {},
     "output_type": "display_data"
    },
    {
     "data": {
      "text/html": [
       "<pre>| 2       | 138.078ms    | 0.52262                |</pre>"
      ],
      "text/plain": [
       "| 2       | 138.078ms    | 0.52262                |"
      ]
     },
     "metadata": {},
     "output_type": "display_data"
    },
    {
     "data": {
      "text/html": [
       "<pre>| 3       | 177.558ms    | 0.428614               |</pre>"
      ],
      "text/plain": [
       "| 3       | 177.558ms    | 0.428614               |"
      ]
     },
     "metadata": {},
     "output_type": "display_data"
    },
    {
     "data": {
      "text/html": [
       "<pre>| 4       | 214.955ms    | 0.37387                |</pre>"
      ],
      "text/plain": [
       "| 4       | 214.955ms    | 0.37387                |"
      ]
     },
     "metadata": {},
     "output_type": "display_data"
    },
    {
     "data": {
      "text/html": [
       "<pre>| 5       | 253.265ms    | 0.346296               |</pre>"
      ],
      "text/plain": [
       "| 5       | 253.265ms    | 0.346296               |"
      ]
     },
     "metadata": {},
     "output_type": "display_data"
    },
    {
     "data": {
      "text/html": [
       "<pre>| 6       | 313.608ms    | 0.330237               |</pre>"
      ],
      "text/plain": [
       "| 6       | 313.608ms    | 0.330237               |"
      ]
     },
     "metadata": {},
     "output_type": "display_data"
    },
    {
     "data": {
      "text/html": [
       "<pre>| 7       | 361.554ms    | 0.322502               |</pre>"
      ],
      "text/plain": [
       "| 7       | 361.554ms    | 0.322502               |"
      ]
     },
     "metadata": {},
     "output_type": "display_data"
    },
    {
     "data": {
      "text/html": [
       "<pre>| 8       | 408.643ms    | 0.318975               |</pre>"
      ],
      "text/plain": [
       "| 8       | 408.643ms    | 0.318975               |"
      ]
     },
     "metadata": {},
     "output_type": "display_data"
    },
    {
     "data": {
      "text/html": [
       "<pre>| 9       | 457.931ms    | 0.317118               |</pre>"
      ],
      "text/plain": [
       "| 9       | 457.931ms    | 0.317118               |"
      ]
     },
     "metadata": {},
     "output_type": "display_data"
    },
    {
     "data": {
      "text/html": [
       "<pre>| 10      | 489.168ms    | 0.316011               |</pre>"
      ],
      "text/plain": [
       "| 10      | 489.168ms    | 0.316011               |"
      ]
     },
     "metadata": {},
     "output_type": "display_data"
    },
    {
     "data": {
      "text/html": [
       "<pre>| 11      | 526.192ms    | 0.31525                |</pre>"
      ],
      "text/plain": [
       "| 11      | 526.192ms    | 0.31525                |"
      ]
     },
     "metadata": {},
     "output_type": "display_data"
    },
    {
     "data": {
      "text/html": [
       "<pre>| 12      | 575.958ms    | 0.314696               |</pre>"
      ],
      "text/plain": [
       "| 12      | 575.958ms    | 0.314696               |"
      ]
     },
     "metadata": {},
     "output_type": "display_data"
    },
    {
     "data": {
      "text/html": [
       "<pre>| 13      | 630.598ms    | 0.314286               |</pre>"
      ],
      "text/plain": [
       "| 13      | 630.598ms    | 0.314286               |"
      ]
     },
     "metadata": {},
     "output_type": "display_data"
    },
    {
     "data": {
      "text/html": [
       "<pre>| 14      | 675.412ms    | 0.313977               |</pre>"
      ],
      "text/plain": [
       "| 14      | 675.412ms    | 0.313977               |"
      ]
     },
     "metadata": {},
     "output_type": "display_data"
    },
    {
     "data": {
      "text/html": [
       "<pre>| 15      | 725.213ms    | 0.313738               |</pre>"
      ],
      "text/plain": [
       "| 15      | 725.213ms    | 0.313738               |"
      ]
     },
     "metadata": {},
     "output_type": "display_data"
    },
    {
     "data": {
      "text/html": [
       "<pre>| 16      | 769.818ms    | 0.313545               |</pre>"
      ],
      "text/plain": [
       "| 16      | 769.818ms    | 0.313545               |"
      ]
     },
     "metadata": {},
     "output_type": "display_data"
    },
    {
     "data": {
      "text/html": [
       "<pre>| 17      | 811.481ms    | 0.313385               |</pre>"
      ],
      "text/plain": [
       "| 17      | 811.481ms    | 0.313385               |"
      ]
     },
     "metadata": {},
     "output_type": "display_data"
    },
    {
     "data": {
      "text/html": [
       "<pre>| 18      | 851.614ms    | 0.313249               |</pre>"
      ],
      "text/plain": [
       "| 18      | 851.614ms    | 0.313249               |"
      ]
     },
     "metadata": {},
     "output_type": "display_data"
    },
    {
     "data": {
      "text/html": [
       "<pre>| 19      | 898.571ms    | 0.313133               |</pre>"
      ],
      "text/plain": [
       "| 19      | 898.571ms    | 0.313133               |"
      ]
     },
     "metadata": {},
     "output_type": "display_data"
    },
    {
     "data": {
      "text/html": [
       "<pre>| 20      | 948.203ms    | 0.313031               |</pre>"
      ],
      "text/plain": [
       "| 20      | 948.203ms    | 0.313031               |"
      ]
     },
     "metadata": {},
     "output_type": "display_data"
    },
    {
     "data": {
      "text/html": [
       "<pre>| 21      | 992.185ms    | 0.31294                |</pre>"
      ],
      "text/plain": [
       "| 21      | 992.185ms    | 0.31294                |"
      ]
     },
     "metadata": {},
     "output_type": "display_data"
    },
    {
     "data": {
      "text/html": [
       "<pre>| 22      | 1.03s        | 0.31286                |</pre>"
      ],
      "text/plain": [
       "| 22      | 1.03s        | 0.31286                |"
      ]
     },
     "metadata": {},
     "output_type": "display_data"
    },
    {
     "data": {
      "text/html": [
       "<pre>| 23      | 1.06s        | 0.312787               |</pre>"
      ],
      "text/plain": [
       "| 23      | 1.06s        | 0.312787               |"
      ]
     },
     "metadata": {},
     "output_type": "display_data"
    },
    {
     "data": {
      "text/html": [
       "<pre>| 24      | 1.13s        | 0.312722               |</pre>"
      ],
      "text/plain": [
       "| 24      | 1.13s        | 0.312722               |"
      ]
     },
     "metadata": {},
     "output_type": "display_data"
    },
    {
     "data": {
      "text/html": [
       "<pre>| 25      | 1.16s        | 0.312662               |</pre>"
      ],
      "text/plain": [
       "| 25      | 1.16s        | 0.312662               |"
      ]
     },
     "metadata": {},
     "output_type": "display_data"
    },
    {
     "data": {
      "text/html": [
       "<pre>| 26      | 1.20s        | 0.312607               |</pre>"
      ],
      "text/plain": [
       "| 26      | 1.20s        | 0.312607               |"
      ]
     },
     "metadata": {},
     "output_type": "display_data"
    },
    {
     "data": {
      "text/html": [
       "<pre>| 27      | 1.25s        | 0.312557               |</pre>"
      ],
      "text/plain": [
       "| 27      | 1.25s        | 0.312557               |"
      ]
     },
     "metadata": {},
     "output_type": "display_data"
    },
    {
     "data": {
      "text/html": [
       "<pre>| 28      | 1.30s        | 0.312511               |</pre>"
      ],
      "text/plain": [
       "| 28      | 1.30s        | 0.312511               |"
      ]
     },
     "metadata": {},
     "output_type": "display_data"
    },
    {
     "data": {
      "text/html": [
       "<pre>| 29      | 1.35s        | 0.312468               |</pre>"
      ],
      "text/plain": [
       "| 29      | 1.35s        | 0.312468               |"
      ]
     },
     "metadata": {},
     "output_type": "display_data"
    },
    {
     "data": {
      "text/html": [
       "<pre>| 30      | 1.38s        | 0.312428               |</pre>"
      ],
      "text/plain": [
       "| 30      | 1.38s        | 0.312428               |"
      ]
     },
     "metadata": {},
     "output_type": "display_data"
    },
    {
     "data": {
      "text/html": [
       "<pre>| 31      | 1.43s        | 0.312391               |</pre>"
      ],
      "text/plain": [
       "| 31      | 1.43s        | 0.312391               |"
      ]
     },
     "metadata": {},
     "output_type": "display_data"
    },
    {
     "data": {
      "text/html": [
       "<pre>| 32      | 1.47s        | 0.312356               |</pre>"
      ],
      "text/plain": [
       "| 32      | 1.47s        | 0.312356               |"
      ]
     },
     "metadata": {},
     "output_type": "display_data"
    },
    {
     "data": {
      "text/html": [
       "<pre>| 33      | 1.51s        | 0.312324               |</pre>"
      ],
      "text/plain": [
       "| 33      | 1.51s        | 0.312324               |"
      ]
     },
     "metadata": {},
     "output_type": "display_data"
    },
    {
     "data": {
      "text/html": [
       "<pre>| 34      | 1.55s        | 0.312293               |</pre>"
      ],
      "text/plain": [
       "| 34      | 1.55s        | 0.312293               |"
      ]
     },
     "metadata": {},
     "output_type": "display_data"
    },
    {
     "data": {
      "text/html": [
       "<pre>| 35      | 1.59s        | 0.312264               |</pre>"
      ],
      "text/plain": [
       "| 35      | 1.59s        | 0.312264               |"
      ]
     },
     "metadata": {},
     "output_type": "display_data"
    },
    {
     "data": {
      "text/html": [
       "<pre>| 36      | 1.65s        | 0.312236               |</pre>"
      ],
      "text/plain": [
       "| 36      | 1.65s        | 0.312236               |"
      ]
     },
     "metadata": {},
     "output_type": "display_data"
    },
    {
     "data": {
      "text/html": [
       "<pre>| 37      | 1.68s        | 0.31221                |</pre>"
      ],
      "text/plain": [
       "| 37      | 1.68s        | 0.31221                |"
      ]
     },
     "metadata": {},
     "output_type": "display_data"
    },
    {
     "data": {
      "text/html": [
       "<pre>| 38      | 1.74s        | 0.312186               |</pre>"
      ],
      "text/plain": [
       "| 38      | 1.74s        | 0.312186               |"
      ]
     },
     "metadata": {},
     "output_type": "display_data"
    },
    {
     "data": {
      "text/html": [
       "<pre>| 39      | 1.79s        | 0.312162               |</pre>"
      ],
      "text/plain": [
       "| 39      | 1.79s        | 0.312162               |"
      ]
     },
     "metadata": {},
     "output_type": "display_data"
    },
    {
     "data": {
      "text/html": [
       "<pre>| 40      | 1.83s        | 0.31214                |</pre>"
      ],
      "text/plain": [
       "| 40      | 1.83s        | 0.31214                |"
      ]
     },
     "metadata": {},
     "output_type": "display_data"
    },
    {
     "data": {
      "text/html": [
       "<pre>| 41      | 1.87s        | 0.312119               |</pre>"
      ],
      "text/plain": [
       "| 41      | 1.87s        | 0.312119               |"
      ]
     },
     "metadata": {},
     "output_type": "display_data"
    },
    {
     "data": {
      "text/html": [
       "<pre>| 42      | 1.92s        | 0.312098               |</pre>"
      ],
      "text/plain": [
       "| 42      | 1.92s        | 0.312098               |"
      ]
     },
     "metadata": {},
     "output_type": "display_data"
    },
    {
     "data": {
      "text/html": [
       "<pre>| 43      | 1.96s        | 0.312079               |</pre>"
      ],
      "text/plain": [
       "| 43      | 1.96s        | 0.312079               |"
      ]
     },
     "metadata": {},
     "output_type": "display_data"
    },
    {
     "data": {
      "text/html": [
       "<pre>| 44      | 2.01s        | 0.31206                |</pre>"
      ],
      "text/plain": [
       "| 44      | 2.01s        | 0.31206                |"
      ]
     },
     "metadata": {},
     "output_type": "display_data"
    },
    {
     "data": {
      "text/html": [
       "<pre>| 45      | 2.05s        | 0.312043               |</pre>"
      ],
      "text/plain": [
       "| 45      | 2.05s        | 0.312043               |"
      ]
     },
     "metadata": {},
     "output_type": "display_data"
    },
    {
     "data": {
      "text/html": [
       "<pre>| 46      | 2.11s        | 0.312026               |</pre>"
      ],
      "text/plain": [
       "| 46      | 2.11s        | 0.312026               |"
      ]
     },
     "metadata": {},
     "output_type": "display_data"
    },
    {
     "data": {
      "text/html": [
       "<pre>| 47      | 2.15s        | 0.312009               |</pre>"
      ],
      "text/plain": [
       "| 47      | 2.15s        | 0.312009               |"
      ]
     },
     "metadata": {},
     "output_type": "display_data"
    },
    {
     "data": {
      "text/html": [
       "<pre>| 48      | 2.19s        | 0.311993               |</pre>"
      ],
      "text/plain": [
       "| 48      | 2.19s        | 0.311993               |"
      ]
     },
     "metadata": {},
     "output_type": "display_data"
    },
    {
     "data": {
      "text/html": [
       "<pre>| 49      | 2.23s        | 0.311978               |</pre>"
      ],
      "text/plain": [
       "| 49      | 2.23s        | 0.311978               |"
      ]
     },
     "metadata": {},
     "output_type": "display_data"
    },
    {
     "data": {
      "text/html": [
       "<pre>| FINAL   | 2.23s        | 0.311978               |</pre>"
      ],
      "text/plain": [
       "| FINAL   | 2.23s        | 0.311978               |"
      ]
     },
     "metadata": {},
     "output_type": "display_data"
    },
    {
     "data": {
      "text/html": [
       "<pre>+---------+--------------+------------------------+</pre>"
      ],
      "text/plain": [
       "+---------+--------------+------------------------+"
      ]
     },
     "metadata": {},
     "output_type": "display_data"
    },
    {
     "data": {
      "text/html": [
       "<pre>Optimization Complete: Iteration limit reached.</pre>"
      ],
      "text/plain": [
       "Optimization Complete: Iteration limit reached."
      ]
     },
     "metadata": {},
     "output_type": "display_data"
    },
    {
     "data": {
      "text/html": [
       "<pre>Recsys training: model = factorization_recommender</pre>"
      ],
      "text/plain": [
       "Recsys training: model = factorization_recommender"
      ]
     },
     "metadata": {},
     "output_type": "display_data"
    },
    {
     "data": {
      "text/html": [
       "<pre>Preparing data set.</pre>"
      ],
      "text/plain": [
       "Preparing data set."
      ]
     },
     "metadata": {},
     "output_type": "display_data"
    },
    {
     "data": {
      "text/html": [
       "<pre>    Data has 24756 observations with 12294 users and 886 items.</pre>"
      ],
      "text/plain": [
       "    Data has 24756 observations with 12294 users and 886 items."
      ]
     },
     "metadata": {},
     "output_type": "display_data"
    },
    {
     "data": {
      "text/html": [
       "<pre>    Data prepared in: 0.05132s</pre>"
      ],
      "text/plain": [
       "    Data prepared in: 0.05132s"
      ]
     },
     "metadata": {},
     "output_type": "display_data"
    },
    {
     "data": {
      "text/html": [
       "<pre>Training factorization_recommender for recommendations.</pre>"
      ],
      "text/plain": [
       "Training factorization_recommender for recommendations."
      ]
     },
     "metadata": {},
     "output_type": "display_data"
    },
    {
     "data": {
      "text/html": [
       "<pre>+------------------------------+--------------------------------------------------+----------+</pre>"
      ],
      "text/plain": [
       "+------------------------------+--------------------------------------------------+----------+"
      ]
     },
     "metadata": {},
     "output_type": "display_data"
    },
    {
     "data": {
      "text/html": [
       "<pre>| Parameter                    | Description                                      | Value    |</pre>"
      ],
      "text/plain": [
       "| Parameter                    | Description                                      | Value    |"
      ]
     },
     "metadata": {},
     "output_type": "display_data"
    },
    {
     "data": {
      "text/html": [
       "<pre>+------------------------------+--------------------------------------------------+----------+</pre>"
      ],
      "text/plain": [
       "+------------------------------+--------------------------------------------------+----------+"
      ]
     },
     "metadata": {},
     "output_type": "display_data"
    },
    {
     "data": {
      "text/html": [
       "<pre>| num_factors                  | Factor Dimension                                 | 10       |</pre>"
      ],
      "text/plain": [
       "| num_factors                  | Factor Dimension                                 | 10       |"
      ]
     },
     "metadata": {},
     "output_type": "display_data"
    },
    {
     "data": {
      "text/html": [
       "<pre>| regularization               | L2 Regularization on Factors                     | 1e-05    |</pre>"
      ],
      "text/plain": [
       "| regularization               | L2 Regularization on Factors                     | 1e-05    |"
      ]
     },
     "metadata": {},
     "output_type": "display_data"
    },
    {
     "data": {
      "text/html": [
       "<pre>| max_iterations               | Maximum Number of Iterations                     | 50       |</pre>"
      ],
      "text/plain": [
       "| max_iterations               | Maximum Number of Iterations                     | 50       |"
      ]
     },
     "metadata": {},
     "output_type": "display_data"
    },
    {
     "data": {
      "text/html": [
       "<pre>| solver                       | Solver used for training                         | als      |</pre>"
      ],
      "text/plain": [
       "| solver                       | Solver used for training                         | als      |"
      ]
     },
     "metadata": {},
     "output_type": "display_data"
    },
    {
     "data": {
      "text/html": [
       "<pre>+------------------------------+--------------------------------------------------+----------+</pre>"
      ],
      "text/plain": [
       "+------------------------------+--------------------------------------------------+----------+"
      ]
     },
     "metadata": {},
     "output_type": "display_data"
    },
    {
     "data": {
      "text/html": [
       "<pre>+---------+--------------+------------------------+</pre>"
      ],
      "text/plain": [
       "+---------+--------------+------------------------+"
      ]
     },
     "metadata": {},
     "output_type": "display_data"
    },
    {
     "data": {
      "text/html": [
       "<pre>| Iter.   | Elapsed time | RMSE                   |</pre>"
      ],
      "text/plain": [
       "| Iter.   | Elapsed time | RMSE                   |"
      ]
     },
     "metadata": {},
     "output_type": "display_data"
    },
    {
     "data": {
      "text/html": [
       "<pre>+---------+--------------+------------------------+</pre>"
      ],
      "text/plain": [
       "+---------+--------------+------------------------+"
      ]
     },
     "metadata": {},
     "output_type": "display_data"
    },
    {
     "data": {
      "text/html": [
       "<pre>| Initial | 48us         | NA                     |</pre>"
      ],
      "text/plain": [
       "| Initial | 48us         | NA                     |"
      ]
     },
     "metadata": {},
     "output_type": "display_data"
    },
    {
     "data": {
      "text/html": [
       "<pre>+---------+--------------+------------------------+</pre>"
      ],
      "text/plain": [
       "+---------+--------------+------------------------+"
      ]
     },
     "metadata": {},
     "output_type": "display_data"
    },
    {
     "data": {
      "text/html": [
       "<pre>| 0       | 61.767ms     | 0.598621               |</pre>"
      ],
      "text/plain": [
       "| 0       | 61.767ms     | 0.598621               |"
      ]
     },
     "metadata": {},
     "output_type": "display_data"
    },
    {
     "data": {
      "text/html": [
       "<pre>| 1       | 112.668ms    | 0.124403               |</pre>"
      ],
      "text/plain": [
       "| 1       | 112.668ms    | 0.124403               |"
      ]
     },
     "metadata": {},
     "output_type": "display_data"
    },
    {
     "data": {
      "text/html": [
       "<pre>| 2       | 143.919ms    | 0.0491857              |</pre>"
      ],
      "text/plain": [
       "| 2       | 143.919ms    | 0.0491857              |"
      ]
     },
     "metadata": {},
     "output_type": "display_data"
    },
    {
     "data": {
      "text/html": [
       "<pre>| 3       | 187.601ms    | 0.0444979              |</pre>"
      ],
      "text/plain": [
       "| 3       | 187.601ms    | 0.0444979              |"
      ]
     },
     "metadata": {},
     "output_type": "display_data"
    },
    {
     "data": {
      "text/html": [
       "<pre>| 4       | 226.71ms     | 0.0433659              |</pre>"
      ],
      "text/plain": [
       "| 4       | 226.71ms     | 0.0433659              |"
      ]
     },
     "metadata": {},
     "output_type": "display_data"
    },
    {
     "data": {
      "text/html": [
       "<pre>| 5       | 278.293ms    | 0.0429958              |</pre>"
      ],
      "text/plain": [
       "| 5       | 278.293ms    | 0.0429958              |"
      ]
     },
     "metadata": {},
     "output_type": "display_data"
    },
    {
     "data": {
      "text/html": [
       "<pre>| 6       | 325.961ms    | 0.0429178              |</pre>"
      ],
      "text/plain": [
       "| 6       | 325.961ms    | 0.0429178              |"
      ]
     },
     "metadata": {},
     "output_type": "display_data"
    },
    {
     "data": {
      "text/html": [
       "<pre>| 7       | 370.459ms    | 0.042969               |</pre>"
      ],
      "text/plain": [
       "| 7       | 370.459ms    | 0.042969               |"
      ]
     },
     "metadata": {},
     "output_type": "display_data"
    },
    {
     "data": {
      "text/html": [
       "<pre>| 8       | 402.111ms    | 0.0430804              |</pre>"
      ],
      "text/plain": [
       "| 8       | 402.111ms    | 0.0430804              |"
      ]
     },
     "metadata": {},
     "output_type": "display_data"
    },
    {
     "data": {
      "text/html": [
       "<pre>| 9       | 447.495ms    | 0.0432121              |</pre>"
      ],
      "text/plain": [
       "| 9       | 447.495ms    | 0.0432121              |"
      ]
     },
     "metadata": {},
     "output_type": "display_data"
    },
    {
     "data": {
      "text/html": [
       "<pre>| 10      | 499.904ms    | 0.0433438              |</pre>"
      ],
      "text/plain": [
       "| 10      | 499.904ms    | 0.0433438              |"
      ]
     },
     "metadata": {},
     "output_type": "display_data"
    },
    {
     "data": {
      "text/html": [
       "<pre>| 11      | 538.15ms     | 0.043469               |</pre>"
      ],
      "text/plain": [
       "| 11      | 538.15ms     | 0.043469               |"
      ]
     },
     "metadata": {},
     "output_type": "display_data"
    },
    {
     "data": {
      "text/html": [
       "<pre>| 12      | 585.761ms    | 0.0435844              |</pre>"
      ],
      "text/plain": [
       "| 12      | 585.761ms    | 0.0435844              |"
      ]
     },
     "metadata": {},
     "output_type": "display_data"
    },
    {
     "data": {
      "text/html": [
       "<pre>| 13      | 611.265ms    | 0.0436869              |</pre>"
      ],
      "text/plain": [
       "| 13      | 611.265ms    | 0.0436869              |"
      ]
     },
     "metadata": {},
     "output_type": "display_data"
    },
    {
     "data": {
      "text/html": [
       "<pre>| 14      | 655.267ms    | 0.0437754              |</pre>"
      ],
      "text/plain": [
       "| 14      | 655.267ms    | 0.0437754              |"
      ]
     },
     "metadata": {},
     "output_type": "display_data"
    },
    {
     "data": {
      "text/html": [
       "<pre>| 15      | 701.51ms     | 0.0438503              |</pre>"
      ],
      "text/plain": [
       "| 15      | 701.51ms     | 0.0438503              |"
      ]
     },
     "metadata": {},
     "output_type": "display_data"
    },
    {
     "data": {
      "text/html": [
       "<pre>| 16      | 745.338ms    | 0.043913               |</pre>"
      ],
      "text/plain": [
       "| 16      | 745.338ms    | 0.043913               |"
      ]
     },
     "metadata": {},
     "output_type": "display_data"
    },
    {
     "data": {
      "text/html": [
       "<pre>| 17      | 771.615ms    | 0.0439653              |</pre>"
      ],
      "text/plain": [
       "| 17      | 771.615ms    | 0.0439653              |"
      ]
     },
     "metadata": {},
     "output_type": "display_data"
    },
    {
     "data": {
      "text/html": [
       "<pre>| 18      | 819.493ms    | 0.0440086              |</pre>"
      ],
      "text/plain": [
       "| 18      | 819.493ms    | 0.0440086              |"
      ]
     },
     "metadata": {},
     "output_type": "display_data"
    },
    {
     "data": {
      "text/html": [
       "<pre>| 19      | 857.53ms     | 0.0440443              |</pre>"
      ],
      "text/plain": [
       "| 19      | 857.53ms     | 0.0440443              |"
      ]
     },
     "metadata": {},
     "output_type": "display_data"
    },
    {
     "data": {
      "text/html": [
       "<pre>| 20      | 897.794ms    | 0.0440735              |</pre>"
      ],
      "text/plain": [
       "| 20      | 897.794ms    | 0.0440735              |"
      ]
     },
     "metadata": {},
     "output_type": "display_data"
    },
    {
     "data": {
      "text/html": [
       "<pre>| 21      | 955.07ms     | 0.0440974              |</pre>"
      ],
      "text/plain": [
       "| 21      | 955.07ms     | 0.0440974              |"
      ]
     },
     "metadata": {},
     "output_type": "display_data"
    },
    {
     "data": {
      "text/html": [
       "<pre>| 22      | 999.97ms     | 0.0441168              |</pre>"
      ],
      "text/plain": [
       "| 22      | 999.97ms     | 0.0441168              |"
      ]
     },
     "metadata": {},
     "output_type": "display_data"
    },
    {
     "data": {
      "text/html": [
       "<pre>| 23      | 1.02s        | 0.0441323              |</pre>"
      ],
      "text/plain": [
       "| 23      | 1.02s        | 0.0441323              |"
      ]
     },
     "metadata": {},
     "output_type": "display_data"
    },
    {
     "data": {
      "text/html": [
       "<pre>| 24      | 1.07s        | 0.0441447              |</pre>"
      ],
      "text/plain": [
       "| 24      | 1.07s        | 0.0441447              |"
      ]
     },
     "metadata": {},
     "output_type": "display_data"
    },
    {
     "data": {
      "text/html": [
       "<pre>| 25      | 1.12s        | 0.0441543              |</pre>"
      ],
      "text/plain": [
       "| 25      | 1.12s        | 0.0441543              |"
      ]
     },
     "metadata": {},
     "output_type": "display_data"
    },
    {
     "data": {
      "text/html": [
       "<pre>| 26      | 1.16s        | 0.0441617              |</pre>"
      ],
      "text/plain": [
       "| 26      | 1.16s        | 0.0441617              |"
      ]
     },
     "metadata": {},
     "output_type": "display_data"
    },
    {
     "data": {
      "text/html": [
       "<pre>| 27      | 1.21s        | 0.0441672              |</pre>"
      ],
      "text/plain": [
       "| 27      | 1.21s        | 0.0441672              |"
      ]
     },
     "metadata": {},
     "output_type": "display_data"
    },
    {
     "data": {
      "text/html": [
       "<pre>| 28      | 1.27s        | 0.0441712              |</pre>"
      ],
      "text/plain": [
       "| 28      | 1.27s        | 0.0441712              |"
      ]
     },
     "metadata": {},
     "output_type": "display_data"
    },
    {
     "data": {
      "text/html": [
       "<pre>| 29      | 1.30s        | 0.044174               |</pre>"
      ],
      "text/plain": [
       "| 29      | 1.30s        | 0.044174               |"
      ]
     },
     "metadata": {},
     "output_type": "display_data"
    },
    {
     "data": {
      "text/html": [
       "<pre>| 30      | 1.35s        | 0.0441757              |</pre>"
      ],
      "text/plain": [
       "| 30      | 1.35s        | 0.0441757              |"
      ]
     },
     "metadata": {},
     "output_type": "display_data"
    },
    {
     "data": {
      "text/html": [
       "<pre>| 31      | 1.40s        | 0.0441767              |</pre>"
      ],
      "text/plain": [
       "| 31      | 1.40s        | 0.0441767              |"
      ]
     },
     "metadata": {},
     "output_type": "display_data"
    },
    {
     "data": {
      "text/html": [
       "<pre>| 32      | 1.44s        | 0.0441769              |</pre>"
      ],
      "text/plain": [
       "| 32      | 1.44s        | 0.0441769              |"
      ]
     },
     "metadata": {},
     "output_type": "display_data"
    },
    {
     "data": {
      "text/html": [
       "<pre>| 33      | 1.48s        | 0.0441766              |</pre>"
      ],
      "text/plain": [
       "| 33      | 1.48s        | 0.0441766              |"
      ]
     },
     "metadata": {},
     "output_type": "display_data"
    },
    {
     "data": {
      "text/html": [
       "<pre>| 34      | 1.51s        | 0.0441758              |</pre>"
      ],
      "text/plain": [
       "| 34      | 1.51s        | 0.0441758              |"
      ]
     },
     "metadata": {},
     "output_type": "display_data"
    },
    {
     "data": {
      "text/html": [
       "<pre>| 35      | 1.55s        | 0.0441747              |</pre>"
      ],
      "text/plain": [
       "| 35      | 1.55s        | 0.0441747              |"
      ]
     },
     "metadata": {},
     "output_type": "display_data"
    },
    {
     "data": {
      "text/html": [
       "<pre>| 36      | 1.58s        | 0.0441732              |</pre>"
      ],
      "text/plain": [
       "| 36      | 1.58s        | 0.0441732              |"
      ]
     },
     "metadata": {},
     "output_type": "display_data"
    },
    {
     "data": {
      "text/html": [
       "<pre>| 37      | 1.62s        | 0.0441716              |</pre>"
      ],
      "text/plain": [
       "| 37      | 1.62s        | 0.0441716              |"
      ]
     },
     "metadata": {},
     "output_type": "display_data"
    },
    {
     "data": {
      "text/html": [
       "<pre>| 38      | 1.67s        | 0.0441697              |</pre>"
      ],
      "text/plain": [
       "| 38      | 1.67s        | 0.0441697              |"
      ]
     },
     "metadata": {},
     "output_type": "display_data"
    },
    {
     "data": {
      "text/html": [
       "<pre>| 39      | 1.72s        | 0.0441676              |</pre>"
      ],
      "text/plain": [
       "| 39      | 1.72s        | 0.0441676              |"
      ]
     },
     "metadata": {},
     "output_type": "display_data"
    },
    {
     "data": {
      "text/html": [
       "<pre>| 40      | 1.76s        | 0.0441654              |</pre>"
      ],
      "text/plain": [
       "| 40      | 1.76s        | 0.0441654              |"
      ]
     },
     "metadata": {},
     "output_type": "display_data"
    },
    {
     "data": {
      "text/html": [
       "<pre>| 41      | 1.79s        | 0.0441632              |</pre>"
      ],
      "text/plain": [
       "| 41      | 1.79s        | 0.0441632              |"
      ]
     },
     "metadata": {},
     "output_type": "display_data"
    },
    {
     "data": {
      "text/html": [
       "<pre>| 42      | 1.82s        | 0.0441608              |</pre>"
      ],
      "text/plain": [
       "| 42      | 1.82s        | 0.0441608              |"
      ]
     },
     "metadata": {},
     "output_type": "display_data"
    },
    {
     "data": {
      "text/html": [
       "<pre>| 43      | 1.86s        | 0.0441584              |</pre>"
      ],
      "text/plain": [
       "| 43      | 1.86s        | 0.0441584              |"
      ]
     },
     "metadata": {},
     "output_type": "display_data"
    },
    {
     "data": {
      "text/html": [
       "<pre>| 44      | 1.91s        | 0.044156               |</pre>"
      ],
      "text/plain": [
       "| 44      | 1.91s        | 0.044156               |"
      ]
     },
     "metadata": {},
     "output_type": "display_data"
    },
    {
     "data": {
      "text/html": [
       "<pre>| 45      | 1.94s        | 0.0441535              |</pre>"
      ],
      "text/plain": [
       "| 45      | 1.94s        | 0.0441535              |"
      ]
     },
     "metadata": {},
     "output_type": "display_data"
    },
    {
     "data": {
      "text/html": [
       "<pre>| 46      | 2.00s        | 0.0441511              |</pre>"
      ],
      "text/plain": [
       "| 46      | 2.00s        | 0.0441511              |"
      ]
     },
     "metadata": {},
     "output_type": "display_data"
    },
    {
     "data": {
      "text/html": [
       "<pre>| 47      | 2.05s        | 0.0441486              |</pre>"
      ],
      "text/plain": [
       "| 47      | 2.05s        | 0.0441486              |"
      ]
     },
     "metadata": {},
     "output_type": "display_data"
    },
    {
     "data": {
      "text/html": [
       "<pre>| 48      | 2.10s        | 0.0441461              |</pre>"
      ],
      "text/plain": [
       "| 48      | 2.10s        | 0.0441461              |"
      ]
     },
     "metadata": {},
     "output_type": "display_data"
    },
    {
     "data": {
      "text/html": [
       "<pre>| 49      | 2.15s        | 0.0441437              |</pre>"
      ],
      "text/plain": [
       "| 49      | 2.15s        | 0.0441437              |"
      ]
     },
     "metadata": {},
     "output_type": "display_data"
    },
    {
     "data": {
      "text/html": [
       "<pre>| FINAL   | 2.15s        | 0.0441437              |</pre>"
      ],
      "text/plain": [
       "| FINAL   | 2.15s        | 0.0441437              |"
      ]
     },
     "metadata": {},
     "output_type": "display_data"
    },
    {
     "data": {
      "text/html": [
       "<pre>+---------+--------------+------------------------+</pre>"
      ],
      "text/plain": [
       "+---------+--------------+------------------------+"
      ]
     },
     "metadata": {},
     "output_type": "display_data"
    },
    {
     "data": {
      "text/html": [
       "<pre>Optimization Complete: Iteration limit reached.</pre>"
      ],
      "text/plain": [
       "Optimization Complete: Iteration limit reached."
      ]
     },
     "metadata": {},
     "output_type": "display_data"
    },
    {
     "data": {
      "text/html": [
       "<pre>Recsys training: model = factorization_recommender</pre>"
      ],
      "text/plain": [
       "Recsys training: model = factorization_recommender"
      ]
     },
     "metadata": {},
     "output_type": "display_data"
    },
    {
     "data": {
      "text/html": [
       "<pre>Preparing data set.</pre>"
      ],
      "text/plain": [
       "Preparing data set."
      ]
     },
     "metadata": {},
     "output_type": "display_data"
    },
    {
     "data": {
      "text/html": [
       "<pre>    Data has 24756 observations with 12294 users and 886 items.</pre>"
      ],
      "text/plain": [
       "    Data has 24756 observations with 12294 users and 886 items."
      ]
     },
     "metadata": {},
     "output_type": "display_data"
    },
    {
     "data": {
      "text/html": [
       "<pre>    Data prepared in: 0.048331s</pre>"
      ],
      "text/plain": [
       "    Data prepared in: 0.048331s"
      ]
     },
     "metadata": {},
     "output_type": "display_data"
    },
    {
     "data": {
      "text/html": [
       "<pre>Training factorization_recommender for recommendations.</pre>"
      ],
      "text/plain": [
       "Training factorization_recommender for recommendations."
      ]
     },
     "metadata": {},
     "output_type": "display_data"
    },
    {
     "data": {
      "text/html": [
       "<pre>+------------------------------+--------------------------------------------------+----------+</pre>"
      ],
      "text/plain": [
       "+------------------------------+--------------------------------------------------+----------+"
      ]
     },
     "metadata": {},
     "output_type": "display_data"
    },
    {
     "data": {
      "text/html": [
       "<pre>| Parameter                    | Description                                      | Value    |</pre>"
      ],
      "text/plain": [
       "| Parameter                    | Description                                      | Value    |"
      ]
     },
     "metadata": {},
     "output_type": "display_data"
    },
    {
     "data": {
      "text/html": [
       "<pre>+------------------------------+--------------------------------------------------+----------+</pre>"
      ],
      "text/plain": [
       "+------------------------------+--------------------------------------------------+----------+"
      ]
     },
     "metadata": {},
     "output_type": "display_data"
    },
    {
     "data": {
      "text/html": [
       "<pre>| num_factors                  | Factor Dimension                                 | 10       |</pre>"
      ],
      "text/plain": [
       "| num_factors                  | Factor Dimension                                 | 10       |"
      ]
     },
     "metadata": {},
     "output_type": "display_data"
    },
    {
     "data": {
      "text/html": [
       "<pre>| regularization               | L2 Regularization on Factors                     | 1e-06    |</pre>"
      ],
      "text/plain": [
       "| regularization               | L2 Regularization on Factors                     | 1e-06    |"
      ]
     },
     "metadata": {},
     "output_type": "display_data"
    },
    {
     "data": {
      "text/html": [
       "<pre>| max_iterations               | Maximum Number of Iterations                     | 50       |</pre>"
      ],
      "text/plain": [
       "| max_iterations               | Maximum Number of Iterations                     | 50       |"
      ]
     },
     "metadata": {},
     "output_type": "display_data"
    },
    {
     "data": {
      "text/html": [
       "<pre>| solver                       | Solver used for training                         | als      |</pre>"
      ],
      "text/plain": [
       "| solver                       | Solver used for training                         | als      |"
      ]
     },
     "metadata": {},
     "output_type": "display_data"
    },
    {
     "data": {
      "text/html": [
       "<pre>+------------------------------+--------------------------------------------------+----------+</pre>"
      ],
      "text/plain": [
       "+------------------------------+--------------------------------------------------+----------+"
      ]
     },
     "metadata": {},
     "output_type": "display_data"
    },
    {
     "data": {
      "text/html": [
       "<pre>+---------+--------------+------------------------+</pre>"
      ],
      "text/plain": [
       "+---------+--------------+------------------------+"
      ]
     },
     "metadata": {},
     "output_type": "display_data"
    },
    {
     "data": {
      "text/html": [
       "<pre>| Iter.   | Elapsed time | RMSE                   |</pre>"
      ],
      "text/plain": [
       "| Iter.   | Elapsed time | RMSE                   |"
      ]
     },
     "metadata": {},
     "output_type": "display_data"
    },
    {
     "data": {
      "text/html": [
       "<pre>+---------+--------------+------------------------+</pre>"
      ],
      "text/plain": [
       "+---------+--------------+------------------------+"
      ]
     },
     "metadata": {},
     "output_type": "display_data"
    },
    {
     "data": {
      "text/html": [
       "<pre>| Initial | 97us         | NA                     |</pre>"
      ],
      "text/plain": [
       "| Initial | 97us         | NA                     |"
      ]
     },
     "metadata": {},
     "output_type": "display_data"
    },
    {
     "data": {
      "text/html": [
       "<pre>+---------+--------------+------------------------+</pre>"
      ],
      "text/plain": [
       "+---------+--------------+------------------------+"
      ]
     },
     "metadata": {},
     "output_type": "display_data"
    },
    {
     "data": {
      "text/html": [
       "<pre>| 0       | 68.671ms     | 0.264583               |</pre>"
      ],
      "text/plain": [
       "| 0       | 68.671ms     | 0.264583               |"
      ]
     },
     "metadata": {},
     "output_type": "display_data"
    },
    {
     "data": {
      "text/html": [
       "<pre>| 1       | 112.945ms    | 0.0746762              |</pre>"
      ],
      "text/plain": [
       "| 1       | 112.945ms    | 0.0746762              |"
      ]
     },
     "metadata": {},
     "output_type": "display_data"
    },
    {
     "data": {
      "text/html": [
       "<pre>| 2       | 147.1ms      | 0.0552346              |</pre>"
      ],
      "text/plain": [
       "| 2       | 147.1ms      | 0.0552346              |"
      ]
     },
     "metadata": {},
     "output_type": "display_data"
    },
    {
     "data": {
      "text/html": [
       "<pre>| 3       | 178.321ms    | 0.0446809              |</pre>"
      ],
      "text/plain": [
       "| 3       | 178.321ms    | 0.0446809              |"
      ]
     },
     "metadata": {},
     "output_type": "display_data"
    },
    {
     "data": {
      "text/html": [
       "<pre>| 4       | 219.527ms    | 0.0378485              |</pre>"
      ],
      "text/plain": [
       "| 4       | 219.527ms    | 0.0378485              |"
      ]
     },
     "metadata": {},
     "output_type": "display_data"
    },
    {
     "data": {
      "text/html": [
       "<pre>| 5       | 268.67ms     | 0.0329928              |</pre>"
      ],
      "text/plain": [
       "| 5       | 268.67ms     | 0.0329928              |"
      ]
     },
     "metadata": {},
     "output_type": "display_data"
    },
    {
     "data": {
      "text/html": [
       "<pre>| 6       | 310.31ms     | 0.0293361              |</pre>"
      ],
      "text/plain": [
       "| 6       | 310.31ms     | 0.0293361              |"
      ]
     },
     "metadata": {},
     "output_type": "display_data"
    },
    {
     "data": {
      "text/html": [
       "<pre>| 7       | 353.249ms    | 0.0264702              |</pre>"
      ],
      "text/plain": [
       "| 7       | 353.249ms    | 0.0264702              |"
      ]
     },
     "metadata": {},
     "output_type": "display_data"
    },
    {
     "data": {
      "text/html": [
       "<pre>| 8       | 401.979ms    | 0.0241574              |</pre>"
      ],
      "text/plain": [
       "| 8       | 401.979ms    | 0.0241574              |"
      ]
     },
     "metadata": {},
     "output_type": "display_data"
    },
    {
     "data": {
      "text/html": [
       "<pre>| 9       | 433.524ms    | 0.02225                |</pre>"
      ],
      "text/plain": [
       "| 9       | 433.524ms    | 0.02225                |"
      ]
     },
     "metadata": {},
     "output_type": "display_data"
    },
    {
     "data": {
      "text/html": [
       "<pre>| 10      | 472.178ms    | 0.0206483              |</pre>"
      ],
      "text/plain": [
       "| 10      | 472.178ms    | 0.0206483              |"
      ]
     },
     "metadata": {},
     "output_type": "display_data"
    },
    {
     "data": {
      "text/html": [
       "<pre>| 11      | 494.553ms    | 0.0192828              |</pre>"
      ],
      "text/plain": [
       "| 11      | 494.553ms    | 0.0192828              |"
      ]
     },
     "metadata": {},
     "output_type": "display_data"
    },
    {
     "data": {
      "text/html": [
       "<pre>| 12      | 536.367ms    | 0.0181043              |</pre>"
      ],
      "text/plain": [
       "| 12      | 536.367ms    | 0.0181043              |"
      ]
     },
     "metadata": {},
     "output_type": "display_data"
    },
    {
     "data": {
      "text/html": [
       "<pre>| 13      | 572.846ms    | 0.0170763              |</pre>"
      ],
      "text/plain": [
       "| 13      | 572.846ms    | 0.0170763              |"
      ]
     },
     "metadata": {},
     "output_type": "display_data"
    },
    {
     "data": {
      "text/html": [
       "<pre>| 14      | 607.502ms    | 0.0161716              |</pre>"
      ],
      "text/plain": [
       "| 14      | 607.502ms    | 0.0161716              |"
      ]
     },
     "metadata": {},
     "output_type": "display_data"
    },
    {
     "data": {
      "text/html": [
       "<pre>| 15      | 658.841ms    | 0.015369               |</pre>"
      ],
      "text/plain": [
       "| 15      | 658.841ms    | 0.015369               |"
      ]
     },
     "metadata": {},
     "output_type": "display_data"
    },
    {
     "data": {
      "text/html": [
       "<pre>| 16      | 711.735ms    | 0.0146519              |</pre>"
      ],
      "text/plain": [
       "| 16      | 711.735ms    | 0.0146519              |"
      ]
     },
     "metadata": {},
     "output_type": "display_data"
    },
    {
     "data": {
      "text/html": [
       "<pre>| 17      | 751.406ms    | 0.0140072              |</pre>"
      ],
      "text/plain": [
       "| 17      | 751.406ms    | 0.0140072              |"
      ]
     },
     "metadata": {},
     "output_type": "display_data"
    },
    {
     "data": {
      "text/html": [
       "<pre>| 18      | 797.209ms    | 0.0134244              |</pre>"
      ],
      "text/plain": [
       "| 18      | 797.209ms    | 0.0134244              |"
      ]
     },
     "metadata": {},
     "output_type": "display_data"
    },
    {
     "data": {
      "text/html": [
       "<pre>| 19      | 841.473ms    | 0.0128946              |</pre>"
      ],
      "text/plain": [
       "| 19      | 841.473ms    | 0.0128946              |"
      ]
     },
     "metadata": {},
     "output_type": "display_data"
    },
    {
     "data": {
      "text/html": [
       "<pre>| 20      | 879.674ms    | 0.0124108              |</pre>"
      ],
      "text/plain": [
       "| 20      | 879.674ms    | 0.0124108              |"
      ]
     },
     "metadata": {},
     "output_type": "display_data"
    },
    {
     "data": {
      "text/html": [
       "<pre>| 21      | 926.162ms    | 0.0119668              |</pre>"
      ],
      "text/plain": [
       "| 21      | 926.162ms    | 0.0119668              |"
      ]
     },
     "metadata": {},
     "output_type": "display_data"
    },
    {
     "data": {
      "text/html": [
       "<pre>| 22      | 954.743ms    | 0.0115576              |</pre>"
      ],
      "text/plain": [
       "| 22      | 954.743ms    | 0.0115576              |"
      ]
     },
     "metadata": {},
     "output_type": "display_data"
    },
    {
     "data": {
      "text/html": [
       "<pre>| 23      | 1.00s        | 0.0111791              |</pre>"
      ],
      "text/plain": [
       "| 23      | 1.00s        | 0.0111791              |"
      ]
     },
     "metadata": {},
     "output_type": "display_data"
    },
    {
     "data": {
      "text/html": [
       "<pre>| 24      | 1.04s        | 0.0108281              |</pre>"
      ],
      "text/plain": [
       "| 24      | 1.04s        | 0.0108281              |"
      ]
     },
     "metadata": {},
     "output_type": "display_data"
    },
    {
     "data": {
      "text/html": [
       "<pre>| 25      | 1.08s        | 0.0105026              |</pre>"
      ],
      "text/plain": [
       "| 25      | 1.08s        | 0.0105026              |"
      ]
     },
     "metadata": {},
     "output_type": "display_data"
    },
    {
     "data": {
      "text/html": [
       "<pre>| 26      | 1.11s        | 0.0102017              |</pre>"
      ],
      "text/plain": [
       "| 26      | 1.11s        | 0.0102017              |"
      ]
     },
     "metadata": {},
     "output_type": "display_data"
    },
    {
     "data": {
      "text/html": [
       "<pre>| 27      | 1.15s        | 0.00992421             |</pre>"
      ],
      "text/plain": [
       "| 27      | 1.15s        | 0.00992421             |"
      ]
     },
     "metadata": {},
     "output_type": "display_data"
    },
    {
     "data": {
      "text/html": [
       "<pre>| 28      | 1.21s        | 0.0096683              |</pre>"
      ],
      "text/plain": [
       "| 28      | 1.21s        | 0.0096683              |"
      ]
     },
     "metadata": {},
     "output_type": "display_data"
    },
    {
     "data": {
      "text/html": [
       "<pre>| 29      | 1.24s        | 0.00943133             |</pre>"
      ],
      "text/plain": [
       "| 29      | 1.24s        | 0.00943133             |"
      ]
     },
     "metadata": {},
     "output_type": "display_data"
    },
    {
     "data": {
      "text/html": [
       "<pre>| 30      | 1.26s        | 0.00921089             |</pre>"
      ],
      "text/plain": [
       "| 30      | 1.26s        | 0.00921089             |"
      ]
     },
     "metadata": {},
     "output_type": "display_data"
    },
    {
     "data": {
      "text/html": [
       "<pre>| 31      | 1.31s        | 0.00900491             |</pre>"
      ],
      "text/plain": [
       "| 31      | 1.31s        | 0.00900491             |"
      ]
     },
     "metadata": {},
     "output_type": "display_data"
    },
    {
     "data": {
      "text/html": [
       "<pre>| 32      | 1.35s        | 0.00881202             |</pre>"
      ],
      "text/plain": [
       "| 32      | 1.35s        | 0.00881202             |"
      ]
     },
     "metadata": {},
     "output_type": "display_data"
    },
    {
     "data": {
      "text/html": [
       "<pre>| 33      | 1.40s        | 0.00863093             |</pre>"
      ],
      "text/plain": [
       "| 33      | 1.40s        | 0.00863093             |"
      ]
     },
     "metadata": {},
     "output_type": "display_data"
    },
    {
     "data": {
      "text/html": [
       "<pre>| 34      | 1.43s        | 0.0084607              |</pre>"
      ],
      "text/plain": [
       "| 34      | 1.43s        | 0.0084607              |"
      ]
     },
     "metadata": {},
     "output_type": "display_data"
    },
    {
     "data": {
      "text/html": [
       "<pre>| 35      | 1.47s        | 0.00830037             |</pre>"
      ],
      "text/plain": [
       "| 35      | 1.47s        | 0.00830037             |"
      ]
     },
     "metadata": {},
     "output_type": "display_data"
    },
    {
     "data": {
      "text/html": [
       "<pre>| 36      | 1.51s        | 0.00814927             |</pre>"
      ],
      "text/plain": [
       "| 36      | 1.51s        | 0.00814927             |"
      ]
     },
     "metadata": {},
     "output_type": "display_data"
    },
    {
     "data": {
      "text/html": [
       "<pre>| 37      | 1.55s        | 0.00800656             |</pre>"
      ],
      "text/plain": [
       "| 37      | 1.55s        | 0.00800656             |"
      ]
     },
     "metadata": {},
     "output_type": "display_data"
    },
    {
     "data": {
      "text/html": [
       "<pre>| 38      | 1.58s        | 0.00787177             |</pre>"
      ],
      "text/plain": [
       "| 38      | 1.58s        | 0.00787177             |"
      ]
     },
     "metadata": {},
     "output_type": "display_data"
    },
    {
     "data": {
      "text/html": [
       "<pre>| 39      | 1.61s        | 0.0077442              |</pre>"
      ],
      "text/plain": [
       "| 39      | 1.61s        | 0.0077442              |"
      ]
     },
     "metadata": {},
     "output_type": "display_data"
    },
    {
     "data": {
      "text/html": [
       "<pre>| 40      | 1.65s        | 0.00762335             |</pre>"
      ],
      "text/plain": [
       "| 40      | 1.65s        | 0.00762335             |"
      ]
     },
     "metadata": {},
     "output_type": "display_data"
    },
    {
     "data": {
      "text/html": [
       "<pre>| 41      | 1.69s        | 0.00750881             |</pre>"
      ],
      "text/plain": [
       "| 41      | 1.69s        | 0.00750881             |"
      ]
     },
     "metadata": {},
     "output_type": "display_data"
    },
    {
     "data": {
      "text/html": [
       "<pre>| 42      | 1.73s        | 0.00740011             |</pre>"
      ],
      "text/plain": [
       "| 42      | 1.73s        | 0.00740011             |"
      ]
     },
     "metadata": {},
     "output_type": "display_data"
    },
    {
     "data": {
      "text/html": [
       "<pre>| 43      | 1.77s        | 0.00729685             |</pre>"
      ],
      "text/plain": [
       "| 43      | 1.77s        | 0.00729685             |"
      ]
     },
     "metadata": {},
     "output_type": "display_data"
    },
    {
     "data": {
      "text/html": [
       "<pre>| 44      | 1.81s        | 0.00719869             |</pre>"
      ],
      "text/plain": [
       "| 44      | 1.81s        | 0.00719869             |"
      ]
     },
     "metadata": {},
     "output_type": "display_data"
    },
    {
     "data": {
      "text/html": [
       "<pre>| 45      | 1.84s        | 0.00710526             |</pre>"
      ],
      "text/plain": [
       "| 45      | 1.84s        | 0.00710526             |"
      ]
     },
     "metadata": {},
     "output_type": "display_data"
    },
    {
     "data": {
      "text/html": [
       "<pre>| 46      | 1.86s        | 0.00701628             |</pre>"
      ],
      "text/plain": [
       "| 46      | 1.86s        | 0.00701628             |"
      ]
     },
     "metadata": {},
     "output_type": "display_data"
    },
    {
     "data": {
      "text/html": [
       "<pre>| 47      | 1.91s        | 0.00693145             |</pre>"
      ],
      "text/plain": [
       "| 47      | 1.91s        | 0.00693145             |"
      ]
     },
     "metadata": {},
     "output_type": "display_data"
    },
    {
     "data": {
      "text/html": [
       "<pre>| 48      | 1.95s        | 0.00685056             |</pre>"
      ],
      "text/plain": [
       "| 48      | 1.95s        | 0.00685056             |"
      ]
     },
     "metadata": {},
     "output_type": "display_data"
    },
    {
     "data": {
      "text/html": [
       "<pre>| 49      | 1.99s        | 0.00677334             |</pre>"
      ],
      "text/plain": [
       "| 49      | 1.99s        | 0.00677334             |"
      ]
     },
     "metadata": {},
     "output_type": "display_data"
    },
    {
     "data": {
      "text/html": [
       "<pre>| FINAL   | 1.99s        | 0.00677334             |</pre>"
      ],
      "text/plain": [
       "| FINAL   | 1.99s        | 0.00677334             |"
      ]
     },
     "metadata": {},
     "output_type": "display_data"
    },
    {
     "data": {
      "text/html": [
       "<pre>+---------+--------------+------------------------+</pre>"
      ],
      "text/plain": [
       "+---------+--------------+------------------------+"
      ]
     },
     "metadata": {},
     "output_type": "display_data"
    },
    {
     "data": {
      "text/html": [
       "<pre>Optimization Complete: Iteration limit reached.</pre>"
      ],
      "text/plain": [
       "Optimization Complete: Iteration limit reached."
      ]
     },
     "metadata": {},
     "output_type": "display_data"
    },
    {
     "data": {
      "text/html": [
       "<pre>Recsys training: model = factorization_recommender</pre>"
      ],
      "text/plain": [
       "Recsys training: model = factorization_recommender"
      ]
     },
     "metadata": {},
     "output_type": "display_data"
    },
    {
     "data": {
      "text/html": [
       "<pre>Preparing data set.</pre>"
      ],
      "text/plain": [
       "Preparing data set."
      ]
     },
     "metadata": {},
     "output_type": "display_data"
    },
    {
     "data": {
      "text/html": [
       "<pre>    Data has 24756 observations with 12294 users and 886 items.</pre>"
      ],
      "text/plain": [
       "    Data has 24756 observations with 12294 users and 886 items."
      ]
     },
     "metadata": {},
     "output_type": "display_data"
    },
    {
     "data": {
      "text/html": [
       "<pre>    Data prepared in: 0.052339s</pre>"
      ],
      "text/plain": [
       "    Data prepared in: 0.052339s"
      ]
     },
     "metadata": {},
     "output_type": "display_data"
    },
    {
     "data": {
      "text/html": [
       "<pre>Training factorization_recommender for recommendations.</pre>"
      ],
      "text/plain": [
       "Training factorization_recommender for recommendations."
      ]
     },
     "metadata": {},
     "output_type": "display_data"
    },
    {
     "data": {
      "text/html": [
       "<pre>+------------------------------+--------------------------------------------------+----------+</pre>"
      ],
      "text/plain": [
       "+------------------------------+--------------------------------------------------+----------+"
      ]
     },
     "metadata": {},
     "output_type": "display_data"
    },
    {
     "data": {
      "text/html": [
       "<pre>| Parameter                    | Description                                      | Value    |</pre>"
      ],
      "text/plain": [
       "| Parameter                    | Description                                      | Value    |"
      ]
     },
     "metadata": {},
     "output_type": "display_data"
    },
    {
     "data": {
      "text/html": [
       "<pre>+------------------------------+--------------------------------------------------+----------+</pre>"
      ],
      "text/plain": [
       "+------------------------------+--------------------------------------------------+----------+"
      ]
     },
     "metadata": {},
     "output_type": "display_data"
    },
    {
     "data": {
      "text/html": [
       "<pre>| num_factors                  | Factor Dimension                                 | 10       |</pre>"
      ],
      "text/plain": [
       "| num_factors                  | Factor Dimension                                 | 10       |"
      ]
     },
     "metadata": {},
     "output_type": "display_data"
    },
    {
     "data": {
      "text/html": [
       "<pre>| regularization               | L2 Regularization on Factors                     | 1e-07    |</pre>"
      ],
      "text/plain": [
       "| regularization               | L2 Regularization on Factors                     | 1e-07    |"
      ]
     },
     "metadata": {},
     "output_type": "display_data"
    },
    {
     "data": {
      "text/html": [
       "<pre>| max_iterations               | Maximum Number of Iterations                     | 50       |</pre>"
      ],
      "text/plain": [
       "| max_iterations               | Maximum Number of Iterations                     | 50       |"
      ]
     },
     "metadata": {},
     "output_type": "display_data"
    },
    {
     "data": {
      "text/html": [
       "<pre>| solver                       | Solver used for training                         | als      |</pre>"
      ],
      "text/plain": [
       "| solver                       | Solver used for training                         | als      |"
      ]
     },
     "metadata": {},
     "output_type": "display_data"
    },
    {
     "data": {
      "text/html": [
       "<pre>+------------------------------+--------------------------------------------------+----------+</pre>"
      ],
      "text/plain": [
       "+------------------------------+--------------------------------------------------+----------+"
      ]
     },
     "metadata": {},
     "output_type": "display_data"
    },
    {
     "data": {
      "text/html": [
       "<pre>+---------+--------------+------------------------+</pre>"
      ],
      "text/plain": [
       "+---------+--------------+------------------------+"
      ]
     },
     "metadata": {},
     "output_type": "display_data"
    },
    {
     "data": {
      "text/html": [
       "<pre>| Iter.   | Elapsed time | RMSE                   |</pre>"
      ],
      "text/plain": [
       "| Iter.   | Elapsed time | RMSE                   |"
      ]
     },
     "metadata": {},
     "output_type": "display_data"
    },
    {
     "data": {
      "text/html": [
       "<pre>+---------+--------------+------------------------+</pre>"
      ],
      "text/plain": [
       "+---------+--------------+------------------------+"
      ]
     },
     "metadata": {},
     "output_type": "display_data"
    },
    {
     "data": {
      "text/html": [
       "<pre>| Initial | 103us        | NA                     |</pre>"
      ],
      "text/plain": [
       "| Initial | 103us        | NA                     |"
      ]
     },
     "metadata": {},
     "output_type": "display_data"
    },
    {
     "data": {
      "text/html": [
       "<pre>+---------+--------------+------------------------+</pre>"
      ],
      "text/plain": [
       "+---------+--------------+------------------------+"
      ]
     },
     "metadata": {},
     "output_type": "display_data"
    },
    {
     "data": {
      "text/html": [
       "<pre>| 0       | 56.824ms     | 0.161766               |</pre>"
      ],
      "text/plain": [
       "| 0       | 56.824ms     | 0.161766               |"
      ]
     },
     "metadata": {},
     "output_type": "display_data"
    },
    {
     "data": {
      "text/html": [
       "<pre>| 1       | 90.585ms     | 0.00764266             |</pre>"
      ],
      "text/plain": [
       "| 1       | 90.585ms     | 0.00764266             |"
      ]
     },
     "metadata": {},
     "output_type": "display_data"
    },
    {
     "data": {
      "text/html": [
       "<pre>| 2       | 146.327ms    | 0.00518569             |</pre>"
      ],
      "text/plain": [
       "| 2       | 146.327ms    | 0.00518569             |"
      ]
     },
     "metadata": {},
     "output_type": "display_data"
    },
    {
     "data": {
      "text/html": [
       "<pre>| 3       | 185.965ms    | 0.00399349             |</pre>"
      ],
      "text/plain": [
       "| 3       | 185.965ms    | 0.00399349             |"
      ]
     },
     "metadata": {},
     "output_type": "display_data"
    },
    {
     "data": {
      "text/html": [
       "<pre>| 4       | 238.29ms     | 0.00333289             |</pre>"
      ],
      "text/plain": [
       "| 4       | 238.29ms     | 0.00333289             |"
      ]
     },
     "metadata": {},
     "output_type": "display_data"
    },
    {
     "data": {
      "text/html": [
       "<pre>| 5       | 270.553ms    | 0.00292384             |</pre>"
      ],
      "text/plain": [
       "| 5       | 270.553ms    | 0.00292384             |"
      ]
     },
     "metadata": {},
     "output_type": "display_data"
    },
    {
     "data": {
      "text/html": [
       "<pre>| 6       | 312.222ms    | 0.00264308             |</pre>"
      ],
      "text/plain": [
       "| 6       | 312.222ms    | 0.00264308             |"
      ]
     },
     "metadata": {},
     "output_type": "display_data"
    },
    {
     "data": {
      "text/html": [
       "<pre>| 7       | 341.606ms    | 0.00243584             |</pre>"
      ],
      "text/plain": [
       "| 7       | 341.606ms    | 0.00243584             |"
      ]
     },
     "metadata": {},
     "output_type": "display_data"
    },
    {
     "data": {
      "text/html": [
       "<pre>| 8       | 393.778ms    | 0.00227526             |</pre>"
      ],
      "text/plain": [
       "| 8       | 393.778ms    | 0.00227526             |"
      ]
     },
     "metadata": {},
     "output_type": "display_data"
    },
    {
     "data": {
      "text/html": [
       "<pre>| 9       | 444.23ms     | 0.00214681             |</pre>"
      ],
      "text/plain": [
       "| 9       | 444.23ms     | 0.00214681             |"
      ]
     },
     "metadata": {},
     "output_type": "display_data"
    },
    {
     "data": {
      "text/html": [
       "<pre>| 10      | 495.559ms    | 0.0020409              |</pre>"
      ],
      "text/plain": [
       "| 10      | 495.559ms    | 0.0020409              |"
      ]
     },
     "metadata": {},
     "output_type": "display_data"
    },
    {
     "data": {
      "text/html": [
       "<pre>| 11      | 532.923ms    | 0.00195134             |</pre>"
      ],
      "text/plain": [
       "| 11      | 532.923ms    | 0.00195134             |"
      ]
     },
     "metadata": {},
     "output_type": "display_data"
    },
    {
     "data": {
      "text/html": [
       "<pre>| 12      | 564.961ms    | 0.00187408             |</pre>"
      ],
      "text/plain": [
       "| 12      | 564.961ms    | 0.00187408             |"
      ]
     },
     "metadata": {},
     "output_type": "display_data"
    },
    {
     "data": {
      "text/html": [
       "<pre>| 13      | 618.323ms    | 0.00180634             |</pre>"
      ],
      "text/plain": [
       "| 13      | 618.323ms    | 0.00180634             |"
      ]
     },
     "metadata": {},
     "output_type": "display_data"
    },
    {
     "data": {
      "text/html": [
       "<pre>| 14      | 687.586ms    | 0.0017463              |</pre>"
      ],
      "text/plain": [
       "| 14      | 687.586ms    | 0.0017463              |"
      ]
     },
     "metadata": {},
     "output_type": "display_data"
    },
    {
     "data": {
      "text/html": [
       "<pre>| 15      | 752.011ms    | 0.00169252             |</pre>"
      ],
      "text/plain": [
       "| 15      | 752.011ms    | 0.00169252             |"
      ]
     },
     "metadata": {},
     "output_type": "display_data"
    },
    {
     "data": {
      "text/html": [
       "<pre>| 16      | 809.034ms    | 0.00164388             |</pre>"
      ],
      "text/plain": [
       "| 16      | 809.034ms    | 0.00164388             |"
      ]
     },
     "metadata": {},
     "output_type": "display_data"
    },
    {
     "data": {
      "text/html": [
       "<pre>| 17      | 840.511ms    | 0.00159954             |</pre>"
      ],
      "text/plain": [
       "| 17      | 840.511ms    | 0.00159954             |"
      ]
     },
     "metadata": {},
     "output_type": "display_data"
    },
    {
     "data": {
      "text/html": [
       "<pre>| 18      | 894.268ms    | 0.00155892             |</pre>"
      ],
      "text/plain": [
       "| 18      | 894.268ms    | 0.00155892             |"
      ]
     },
     "metadata": {},
     "output_type": "display_data"
    },
    {
     "data": {
      "text/html": [
       "<pre>| 19      | 923.106ms    | 0.00152143             |</pre>"
      ],
      "text/plain": [
       "| 19      | 923.106ms    | 0.00152143             |"
      ]
     },
     "metadata": {},
     "output_type": "display_data"
    },
    {
     "data": {
      "text/html": [
       "<pre>| 20      | 986.656ms    | 0.00148671             |</pre>"
      ],
      "text/plain": [
       "| 20      | 986.656ms    | 0.00148671             |"
      ]
     },
     "metadata": {},
     "output_type": "display_data"
    },
    {
     "data": {
      "text/html": [
       "<pre>| 21      | 1.02s        | 0.00145441             |</pre>"
      ],
      "text/plain": [
       "| 21      | 1.02s        | 0.00145441             |"
      ]
     },
     "metadata": {},
     "output_type": "display_data"
    },
    {
     "data": {
      "text/html": [
       "<pre>| 22      | 1.06s        | 0.0014243              |</pre>"
      ],
      "text/plain": [
       "| 22      | 1.06s        | 0.0014243              |"
      ]
     },
     "metadata": {},
     "output_type": "display_data"
    },
    {
     "data": {
      "text/html": [
       "<pre>| 23      | 1.11s        | 0.00139612             |</pre>"
      ],
      "text/plain": [
       "| 23      | 1.11s        | 0.00139612             |"
      ]
     },
     "metadata": {},
     "output_type": "display_data"
    },
    {
     "data": {
      "text/html": [
       "<pre>| 24      | 1.14s        | 0.00136967             |</pre>"
      ],
      "text/plain": [
       "| 24      | 1.14s        | 0.00136967             |"
      ]
     },
     "metadata": {},
     "output_type": "display_data"
    },
    {
     "data": {
      "text/html": [
       "<pre>| 25      | 1.18s        | 0.00134474             |</pre>"
      ],
      "text/plain": [
       "| 25      | 1.18s        | 0.00134474             |"
      ]
     },
     "metadata": {},
     "output_type": "display_data"
    },
    {
     "data": {
      "text/html": [
       "<pre>| 26      | 1.21s        | 0.00132117             |</pre>"
      ],
      "text/plain": [
       "| 26      | 1.21s        | 0.00132117             |"
      ]
     },
     "metadata": {},
     "output_type": "display_data"
    },
    {
     "data": {
      "text/html": [
       "<pre>| 27      | 1.24s        | 0.00129877             |</pre>"
      ],
      "text/plain": [
       "| 27      | 1.24s        | 0.00129877             |"
      ]
     },
     "metadata": {},
     "output_type": "display_data"
    },
    {
     "data": {
      "text/html": [
       "<pre>| 28      | 1.30s        | 0.00127746             |</pre>"
      ],
      "text/plain": [
       "| 28      | 1.30s        | 0.00127746             |"
      ]
     },
     "metadata": {},
     "output_type": "display_data"
    },
    {
     "data": {
      "text/html": [
       "<pre>| 29      | 1.33s        | 0.00125723             |</pre>"
      ],
      "text/plain": [
       "| 29      | 1.33s        | 0.00125723             |"
      ]
     },
     "metadata": {},
     "output_type": "display_data"
    },
    {
     "data": {
      "text/html": [
       "<pre>| 30      | 1.37s        | 0.00123802             |</pre>"
      ],
      "text/plain": [
       "| 30      | 1.37s        | 0.00123802             |"
      ]
     },
     "metadata": {},
     "output_type": "display_data"
    },
    {
     "data": {
      "text/html": [
       "<pre>| 31      | 1.42s        | 0.00121982             |</pre>"
      ],
      "text/plain": [
       "| 31      | 1.42s        | 0.00121982             |"
      ]
     },
     "metadata": {},
     "output_type": "display_data"
    },
    {
     "data": {
      "text/html": [
       "<pre>| 32      | 1.46s        | 0.00120246             |</pre>"
      ],
      "text/plain": [
       "| 32      | 1.46s        | 0.00120246             |"
      ]
     },
     "metadata": {},
     "output_type": "display_data"
    },
    {
     "data": {
      "text/html": [
       "<pre>| 33      | 1.52s        | 0.00118592             |</pre>"
      ],
      "text/plain": [
       "| 33      | 1.52s        | 0.00118592             |"
      ]
     },
     "metadata": {},
     "output_type": "display_data"
    },
    {
     "data": {
      "text/html": [
       "<pre>| 34      | 1.55s        | 0.00117011             |</pre>"
      ],
      "text/plain": [
       "| 34      | 1.55s        | 0.00117011             |"
      ]
     },
     "metadata": {},
     "output_type": "display_data"
    },
    {
     "data": {
      "text/html": [
       "<pre>| 35      | 1.58s        | 0.00115499             |</pre>"
      ],
      "text/plain": [
       "| 35      | 1.58s        | 0.00115499             |"
      ]
     },
     "metadata": {},
     "output_type": "display_data"
    },
    {
     "data": {
      "text/html": [
       "<pre>| 36      | 1.62s        | 0.00114048             |</pre>"
      ],
      "text/plain": [
       "| 36      | 1.62s        | 0.00114048             |"
      ]
     },
     "metadata": {},
     "output_type": "display_data"
    },
    {
     "data": {
      "text/html": [
       "<pre>| 37      | 1.67s        | 0.00112658             |</pre>"
      ],
      "text/plain": [
       "| 37      | 1.67s        | 0.00112658             |"
      ]
     },
     "metadata": {},
     "output_type": "display_data"
    },
    {
     "data": {
      "text/html": [
       "<pre>| 38      | 1.72s        | 0.0011132              |</pre>"
      ],
      "text/plain": [
       "| 38      | 1.72s        | 0.0011132              |"
      ]
     },
     "metadata": {},
     "output_type": "display_data"
    },
    {
     "data": {
      "text/html": [
       "<pre>| 39      | 1.76s        | 0.00110033             |</pre>"
      ],
      "text/plain": [
       "| 39      | 1.76s        | 0.00110033             |"
      ]
     },
     "metadata": {},
     "output_type": "display_data"
    },
    {
     "data": {
      "text/html": [
       "<pre>| 40      | 1.80s        | 0.00108794             |</pre>"
      ],
      "text/plain": [
       "| 40      | 1.80s        | 0.00108794             |"
      ]
     },
     "metadata": {},
     "output_type": "display_data"
    },
    {
     "data": {
      "text/html": [
       "<pre>| 41      | 1.84s        | 0.00107598             |</pre>"
      ],
      "text/plain": [
       "| 41      | 1.84s        | 0.00107598             |"
      ]
     },
     "metadata": {},
     "output_type": "display_data"
    },
    {
     "data": {
      "text/html": [
       "<pre>| 42      | 1.87s        | 0.00106446             |</pre>"
      ],
      "text/plain": [
       "| 42      | 1.87s        | 0.00106446             |"
      ]
     },
     "metadata": {},
     "output_type": "display_data"
    },
    {
     "data": {
      "text/html": [
       "<pre>| 43      | 1.92s        | 0.00105332             |</pre>"
      ],
      "text/plain": [
       "| 43      | 1.92s        | 0.00105332             |"
      ]
     },
     "metadata": {},
     "output_type": "display_data"
    },
    {
     "data": {
      "text/html": [
       "<pre>| 44      | 1.96s        | 0.00104257             |</pre>"
      ],
      "text/plain": [
       "| 44      | 1.96s        | 0.00104257             |"
      ]
     },
     "metadata": {},
     "output_type": "display_data"
    },
    {
     "data": {
      "text/html": [
       "<pre>| 45      | 2.00s        | 0.00103217             |</pre>"
      ],
      "text/plain": [
       "| 45      | 2.00s        | 0.00103217             |"
      ]
     },
     "metadata": {},
     "output_type": "display_data"
    },
    {
     "data": {
      "text/html": [
       "<pre>| 46      | 2.05s        | 0.0010221              |</pre>"
      ],
      "text/plain": [
       "| 46      | 2.05s        | 0.0010221              |"
      ]
     },
     "metadata": {},
     "output_type": "display_data"
    },
    {
     "data": {
      "text/html": [
       "<pre>| 47      | 2.10s        | 0.00101236             |</pre>"
      ],
      "text/plain": [
       "| 47      | 2.10s        | 0.00101236             |"
      ]
     },
     "metadata": {},
     "output_type": "display_data"
    },
    {
     "data": {
      "text/html": [
       "<pre>| 48      | 2.16s        | 0.00100291             |</pre>"
      ],
      "text/plain": [
       "| 48      | 2.16s        | 0.00100291             |"
      ]
     },
     "metadata": {},
     "output_type": "display_data"
    },
    {
     "data": {
      "text/html": [
       "<pre>| 49      | 2.19s        | 0.000993747            |</pre>"
      ],
      "text/plain": [
       "| 49      | 2.19s        | 0.000993747            |"
      ]
     },
     "metadata": {},
     "output_type": "display_data"
    },
    {
     "data": {
      "text/html": [
       "<pre>| FINAL   | 2.19s        | 0.000993747            |</pre>"
      ],
      "text/plain": [
       "| FINAL   | 2.19s        | 0.000993747            |"
      ]
     },
     "metadata": {},
     "output_type": "display_data"
    },
    {
     "data": {
      "text/html": [
       "<pre>+---------+--------------+------------------------+</pre>"
      ],
      "text/plain": [
       "+---------+--------------+------------------------+"
      ]
     },
     "metadata": {},
     "output_type": "display_data"
    },
    {
     "data": {
      "text/html": [
       "<pre>Optimization Complete: Iteration limit reached.</pre>"
      ],
      "text/plain": [
       "Optimization Complete: Iteration limit reached."
      ]
     },
     "metadata": {},
     "output_type": "display_data"
    },
    {
     "data": {
      "text/html": [
       "<pre>Recsys training: model = factorization_recommender</pre>"
      ],
      "text/plain": [
       "Recsys training: model = factorization_recommender"
      ]
     },
     "metadata": {},
     "output_type": "display_data"
    },
    {
     "data": {
      "text/html": [
       "<pre>Preparing data set.</pre>"
      ],
      "text/plain": [
       "Preparing data set."
      ]
     },
     "metadata": {},
     "output_type": "display_data"
    },
    {
     "data": {
      "text/html": [
       "<pre>    Data has 24756 observations with 12294 users and 886 items.</pre>"
      ],
      "text/plain": [
       "    Data has 24756 observations with 12294 users and 886 items."
      ]
     },
     "metadata": {},
     "output_type": "display_data"
    },
    {
     "data": {
      "text/html": [
       "<pre>    Data prepared in: 0.054919s</pre>"
      ],
      "text/plain": [
       "    Data prepared in: 0.054919s"
      ]
     },
     "metadata": {},
     "output_type": "display_data"
    },
    {
     "data": {
      "text/html": [
       "<pre>Training factorization_recommender for recommendations.</pre>"
      ],
      "text/plain": [
       "Training factorization_recommender for recommendations."
      ]
     },
     "metadata": {},
     "output_type": "display_data"
    },
    {
     "data": {
      "text/html": [
       "<pre>+------------------------------+--------------------------------------------------+----------+</pre>"
      ],
      "text/plain": [
       "+------------------------------+--------------------------------------------------+----------+"
      ]
     },
     "metadata": {},
     "output_type": "display_data"
    },
    {
     "data": {
      "text/html": [
       "<pre>| Parameter                    | Description                                      | Value    |</pre>"
      ],
      "text/plain": [
       "| Parameter                    | Description                                      | Value    |"
      ]
     },
     "metadata": {},
     "output_type": "display_data"
    },
    {
     "data": {
      "text/html": [
       "<pre>+------------------------------+--------------------------------------------------+----------+</pre>"
      ],
      "text/plain": [
       "+------------------------------+--------------------------------------------------+----------+"
      ]
     },
     "metadata": {},
     "output_type": "display_data"
    },
    {
     "data": {
      "text/html": [
       "<pre>| num_factors                  | Factor Dimension                                 | 10       |</pre>"
      ],
      "text/plain": [
       "| num_factors                  | Factor Dimension                                 | 10       |"
      ]
     },
     "metadata": {},
     "output_type": "display_data"
    },
    {
     "data": {
      "text/html": [
       "<pre>| regularization               | L2 Regularization on Factors                     | 1e-08    |</pre>"
      ],
      "text/plain": [
       "| regularization               | L2 Regularization on Factors                     | 1e-08    |"
      ]
     },
     "metadata": {},
     "output_type": "display_data"
    },
    {
     "data": {
      "text/html": [
       "<pre>| max_iterations               | Maximum Number of Iterations                     | 50       |</pre>"
      ],
      "text/plain": [
       "| max_iterations               | Maximum Number of Iterations                     | 50       |"
      ]
     },
     "metadata": {},
     "output_type": "display_data"
    },
    {
     "data": {
      "text/html": [
       "<pre>| solver                       | Solver used for training                         | als      |</pre>"
      ],
      "text/plain": [
       "| solver                       | Solver used for training                         | als      |"
      ]
     },
     "metadata": {},
     "output_type": "display_data"
    },
    {
     "data": {
      "text/html": [
       "<pre>+------------------------------+--------------------------------------------------+----------+</pre>"
      ],
      "text/plain": [
       "+------------------------------+--------------------------------------------------+----------+"
      ]
     },
     "metadata": {},
     "output_type": "display_data"
    },
    {
     "data": {
      "text/html": [
       "<pre>+---------+--------------+------------------------+</pre>"
      ],
      "text/plain": [
       "+---------+--------------+------------------------+"
      ]
     },
     "metadata": {},
     "output_type": "display_data"
    },
    {
     "data": {
      "text/html": [
       "<pre>| Iter.   | Elapsed time | RMSE                   |</pre>"
      ],
      "text/plain": [
       "| Iter.   | Elapsed time | RMSE                   |"
      ]
     },
     "metadata": {},
     "output_type": "display_data"
    },
    {
     "data": {
      "text/html": [
       "<pre>+---------+--------------+------------------------+</pre>"
      ],
      "text/plain": [
       "+---------+--------------+------------------------+"
      ]
     },
     "metadata": {},
     "output_type": "display_data"
    },
    {
     "data": {
      "text/html": [
       "<pre>| Initial | 67us         | NA                     |</pre>"
      ],
      "text/plain": [
       "| Initial | 67us         | NA                     |"
      ]
     },
     "metadata": {},
     "output_type": "display_data"
    },
    {
     "data": {
      "text/html": [
       "<pre>+---------+--------------+------------------------+</pre>"
      ],
      "text/plain": [
       "+---------+--------------+------------------------+"
      ]
     },
     "metadata": {},
     "output_type": "display_data"
    },
    {
     "data": {
      "text/html": [
       "<pre>| 0       | 49.236ms     | 0.160725               |</pre>"
      ],
      "text/plain": [
       "| 0       | 49.236ms     | 0.160725               |"
      ]
     },
     "metadata": {},
     "output_type": "display_data"
    },
    {
     "data": {
      "text/html": [
       "<pre>| 1       | 94.587ms     | 0.00729396             |</pre>"
      ],
      "text/plain": [
       "| 1       | 94.587ms     | 0.00729396             |"
      ]
     },
     "metadata": {},
     "output_type": "display_data"
    },
    {
     "data": {
      "text/html": [
       "<pre>| 2       | 118.114ms    | 0.00517558             |</pre>"
      ],
      "text/plain": [
       "| 2       | 118.114ms    | 0.00517558             |"
      ]
     },
     "metadata": {},
     "output_type": "display_data"
    },
    {
     "data": {
      "text/html": [
       "<pre>| 3       | 162.96ms     | 0.00414834             |</pre>"
      ],
      "text/plain": [
       "| 3       | 162.96ms     | 0.00414834             |"
      ]
     },
     "metadata": {},
     "output_type": "display_data"
    },
    {
     "data": {
      "text/html": [
       "<pre>| 4       | 211.891ms    | 0.00351466             |</pre>"
      ],
      "text/plain": [
       "| 4       | 211.891ms    | 0.00351466             |"
      ]
     },
     "metadata": {},
     "output_type": "display_data"
    },
    {
     "data": {
      "text/html": [
       "<pre>| 5       | 258.863ms    | 0.00306943             |</pre>"
      ],
      "text/plain": [
       "| 5       | 258.863ms    | 0.00306943             |"
      ]
     },
     "metadata": {},
     "output_type": "display_data"
    },
    {
     "data": {
      "text/html": [
       "<pre>| 6       | 312.501ms    | 0.00273573             |</pre>"
      ],
      "text/plain": [
       "| 6       | 312.501ms    | 0.00273573             |"
      ]
     },
     "metadata": {},
     "output_type": "display_data"
    },
    {
     "data": {
      "text/html": [
       "<pre>| 7       | 350.208ms    | 0.00247353             |</pre>"
      ],
      "text/plain": [
       "| 7       | 350.208ms    | 0.00247353             |"
      ]
     },
     "metadata": {},
     "output_type": "display_data"
    },
    {
     "data": {
      "text/html": [
       "<pre>| 8       | 378.93ms     | 0.0022624              |</pre>"
      ],
      "text/plain": [
       "| 8       | 378.93ms     | 0.0022624              |"
      ]
     },
     "metadata": {},
     "output_type": "display_data"
    },
    {
     "data": {
      "text/html": [
       "<pre>| 9       | 431.062ms    | 0.00208881             |</pre>"
      ],
      "text/plain": [
       "| 9       | 431.062ms    | 0.00208881             |"
      ]
     },
     "metadata": {},
     "output_type": "display_data"
    },
    {
     "data": {
      "text/html": [
       "<pre>| 10      | 480.942ms    | 0.00194466             |</pre>"
      ],
      "text/plain": [
       "| 10      | 480.942ms    | 0.00194466             |"
      ]
     },
     "metadata": {},
     "output_type": "display_data"
    },
    {
     "data": {
      "text/html": [
       "<pre>| 11      | 517.284ms    | 0.00182349             |</pre>"
      ],
      "text/plain": [
       "| 11      | 517.284ms    | 0.00182349             |"
      ]
     },
     "metadata": {},
     "output_type": "display_data"
    },
    {
     "data": {
      "text/html": [
       "<pre>| 12      | 569.331ms    | 0.0017214              |</pre>"
      ],
      "text/plain": [
       "| 12      | 569.331ms    | 0.0017214              |"
      ]
     },
     "metadata": {},
     "output_type": "display_data"
    },
    {
     "data": {
      "text/html": [
       "<pre>| 13      | 600.1ms      | 0.00163384             |</pre>"
      ],
      "text/plain": [
       "| 13      | 600.1ms      | 0.00163384             |"
      ]
     },
     "metadata": {},
     "output_type": "display_data"
    },
    {
     "data": {
      "text/html": [
       "<pre>| 14      | 651.833ms    | 0.00155815             |</pre>"
      ],
      "text/plain": [
       "| 14      | 651.833ms    | 0.00155815             |"
      ]
     },
     "metadata": {},
     "output_type": "display_data"
    },
    {
     "data": {
      "text/html": [
       "<pre>| 15      | 692.514ms    | 0.00149338             |</pre>"
      ],
      "text/plain": [
       "| 15      | 692.514ms    | 0.00149338             |"
      ]
     },
     "metadata": {},
     "output_type": "display_data"
    },
    {
     "data": {
      "text/html": [
       "<pre>| 16      | 748.195ms    | 0.00143656             |</pre>"
      ],
      "text/plain": [
       "| 16      | 748.195ms    | 0.00143656             |"
      ]
     },
     "metadata": {},
     "output_type": "display_data"
    },
    {
     "data": {
      "text/html": [
       "<pre>| 17      | 789.897ms    | 0.00138616             |</pre>"
      ],
      "text/plain": [
       "| 17      | 789.897ms    | 0.00138616             |"
      ]
     },
     "metadata": {},
     "output_type": "display_data"
    },
    {
     "data": {
      "text/html": [
       "<pre>| 18      | 832.614ms    | 0.00134151             |</pre>"
      ],
      "text/plain": [
       "| 18      | 832.614ms    | 0.00134151             |"
      ]
     },
     "metadata": {},
     "output_type": "display_data"
    },
    {
     "data": {
      "text/html": [
       "<pre>| 19      | 876.4ms      | 0.00130125             |</pre>"
      ],
      "text/plain": [
       "| 19      | 876.4ms      | 0.00130125             |"
      ]
     },
     "metadata": {},
     "output_type": "display_data"
    },
    {
     "data": {
      "text/html": [
       "<pre>| 20      | 931.46ms     | 0.00126472             |</pre>"
      ],
      "text/plain": [
       "| 20      | 931.46ms     | 0.00126472             |"
      ]
     },
     "metadata": {},
     "output_type": "display_data"
    },
    {
     "data": {
      "text/html": [
       "<pre>| 21      | 962.847ms    | 0.00123101             |</pre>"
      ],
      "text/plain": [
       "| 21      | 962.847ms    | 0.00123101             |"
      ]
     },
     "metadata": {},
     "output_type": "display_data"
    },
    {
     "data": {
      "text/html": [
       "<pre>| 22      | 1.00s        | 0.00120023             |</pre>"
      ],
      "text/plain": [
       "| 22      | 1.00s        | 0.00120023             |"
      ]
     },
     "metadata": {},
     "output_type": "display_data"
    },
    {
     "data": {
      "text/html": [
       "<pre>| 23      | 1.04s        | 0.00117167             |</pre>"
      ],
      "text/plain": [
       "| 23      | 1.04s        | 0.00117167             |"
      ]
     },
     "metadata": {},
     "output_type": "display_data"
    },
    {
     "data": {
      "text/html": [
       "<pre>| 24      | 1.09s        | 0.00114474             |</pre>"
      ],
      "text/plain": [
       "| 24      | 1.09s        | 0.00114474             |"
      ]
     },
     "metadata": {},
     "output_type": "display_data"
    },
    {
     "data": {
      "text/html": [
       "<pre>| 25      | 1.13s        | 0.00111971             |</pre>"
      ],
      "text/plain": [
       "| 25      | 1.13s        | 0.00111971             |"
      ]
     },
     "metadata": {},
     "output_type": "display_data"
    },
    {
     "data": {
      "text/html": [
       "<pre>| 26      | 1.18s        | 0.00109613             |</pre>"
      ],
      "text/plain": [
       "| 26      | 1.18s        | 0.00109613             |"
      ]
     },
     "metadata": {},
     "output_type": "display_data"
    },
    {
     "data": {
      "text/html": [
       "<pre>| 27      | 1.23s        | 0.00107364             |</pre>"
      ],
      "text/plain": [
       "| 27      | 1.23s        | 0.00107364             |"
      ]
     },
     "metadata": {},
     "output_type": "display_data"
    },
    {
     "data": {
      "text/html": [
       "<pre>| 28      | 1.26s        | 0.0010524              |</pre>"
      ],
      "text/plain": [
       "| 28      | 1.26s        | 0.0010524              |"
      ]
     },
     "metadata": {},
     "output_type": "display_data"
    },
    {
     "data": {
      "text/html": [
       "<pre>| 29      | 1.31s        | 0.00103211             |</pre>"
      ],
      "text/plain": [
       "| 29      | 1.31s        | 0.00103211             |"
      ]
     },
     "metadata": {},
     "output_type": "display_data"
    },
    {
     "data": {
      "text/html": [
       "<pre>| 30      | 1.36s        | 0.00101272             |</pre>"
      ],
      "text/plain": [
       "| 30      | 1.36s        | 0.00101272             |"
      ]
     },
     "metadata": {},
     "output_type": "display_data"
    },
    {
     "data": {
      "text/html": [
       "<pre>| 31      | 1.38s        | 0.000994402            |</pre>"
      ],
      "text/plain": [
       "| 31      | 1.38s        | 0.000994402            |"
      ]
     },
     "metadata": {},
     "output_type": "display_data"
    },
    {
     "data": {
      "text/html": [
       "<pre>| 32      | 1.43s        | 0.000976714            |</pre>"
      ],
      "text/plain": [
       "| 32      | 1.43s        | 0.000976714            |"
      ]
     },
     "metadata": {},
     "output_type": "display_data"
    },
    {
     "data": {
      "text/html": [
       "<pre>| 33      | 1.47s        | 0.00095984             |</pre>"
      ],
      "text/plain": [
       "| 33      | 1.47s        | 0.00095984             |"
      ]
     },
     "metadata": {},
     "output_type": "display_data"
    },
    {
     "data": {
      "text/html": [
       "<pre>| 34      | 1.52s        | 0.000943491            |</pre>"
      ],
      "text/plain": [
       "| 34      | 1.52s        | 0.000943491            |"
      ]
     },
     "metadata": {},
     "output_type": "display_data"
    },
    {
     "data": {
      "text/html": [
       "<pre>| 35      | 1.56s        | 0.000927641            |</pre>"
      ],
      "text/plain": [
       "| 35      | 1.56s        | 0.000927641            |"
      ]
     },
     "metadata": {},
     "output_type": "display_data"
    },
    {
     "data": {
      "text/html": [
       "<pre>| 36      | 1.62s        | 0.000912613            |</pre>"
      ],
      "text/plain": [
       "| 36      | 1.62s        | 0.000912613            |"
      ]
     },
     "metadata": {},
     "output_type": "display_data"
    },
    {
     "data": {
      "text/html": [
       "<pre>| 37      | 1.66s        | 0.000898049            |</pre>"
      ],
      "text/plain": [
       "| 37      | 1.66s        | 0.000898049            |"
      ]
     },
     "metadata": {},
     "output_type": "display_data"
    },
    {
     "data": {
      "text/html": [
       "<pre>| 38      | 1.71s        | 0.000884014            |</pre>"
      ],
      "text/plain": [
       "| 38      | 1.71s        | 0.000884014            |"
      ]
     },
     "metadata": {},
     "output_type": "display_data"
    },
    {
     "data": {
      "text/html": [
       "<pre>| 39      | 1.75s        | 0.000870358            |</pre>"
      ],
      "text/plain": [
       "| 39      | 1.75s        | 0.000870358            |"
      ]
     },
     "metadata": {},
     "output_type": "display_data"
    },
    {
     "data": {
      "text/html": [
       "<pre>| 40      | 1.78s        | 0.000857083            |</pre>"
      ],
      "text/plain": [
       "| 40      | 1.78s        | 0.000857083            |"
      ]
     },
     "metadata": {},
     "output_type": "display_data"
    },
    {
     "data": {
      "text/html": [
       "<pre>| 41      | 1.82s        | 0.000844331            |</pre>"
      ],
      "text/plain": [
       "| 41      | 1.82s        | 0.000844331            |"
      ]
     },
     "metadata": {},
     "output_type": "display_data"
    },
    {
     "data": {
      "text/html": [
       "<pre>| 42      | 1.88s        | 0.000832096            |</pre>"
      ],
      "text/plain": [
       "| 42      | 1.88s        | 0.000832096            |"
      ]
     },
     "metadata": {},
     "output_type": "display_data"
    },
    {
     "data": {
      "text/html": [
       "<pre>| 43      | 1.93s        | 0.000820131            |</pre>"
      ],
      "text/plain": [
       "| 43      | 1.93s        | 0.000820131            |"
      ]
     },
     "metadata": {},
     "output_type": "display_data"
    },
    {
     "data": {
      "text/html": [
       "<pre>| 44      | 1.98s        | 0.000808455            |</pre>"
      ],
      "text/plain": [
       "| 44      | 1.98s        | 0.000808455            |"
      ]
     },
     "metadata": {},
     "output_type": "display_data"
    },
    {
     "data": {
      "text/html": [
       "<pre>| 45      | 2.01s        | 0.000797168            |</pre>"
      ],
      "text/plain": [
       "| 45      | 2.01s        | 0.000797168            |"
      ]
     },
     "metadata": {},
     "output_type": "display_data"
    },
    {
     "data": {
      "text/html": [
       "<pre>| 46      | 2.06s        | 0.000786173            |</pre>"
      ],
      "text/plain": [
       "| 46      | 2.06s        | 0.000786173            |"
      ]
     },
     "metadata": {},
     "output_type": "display_data"
    },
    {
     "data": {
      "text/html": [
       "<pre>| 47      | 2.09s        | 0.00077556             |</pre>"
      ],
      "text/plain": [
       "| 47      | 2.09s        | 0.00077556             |"
      ]
     },
     "metadata": {},
     "output_type": "display_data"
    },
    {
     "data": {
      "text/html": [
       "<pre>| 48      | 2.12s        | 0.000765213            |</pre>"
      ],
      "text/plain": [
       "| 48      | 2.12s        | 0.000765213            |"
      ]
     },
     "metadata": {},
     "output_type": "display_data"
    },
    {
     "data": {
      "text/html": [
       "<pre>| 49      | 2.16s        | 0.000755196            |</pre>"
      ],
      "text/plain": [
       "| 49      | 2.16s        | 0.000755196            |"
      ]
     },
     "metadata": {},
     "output_type": "display_data"
    },
    {
     "data": {
      "text/html": [
       "<pre>| FINAL   | 2.16s        | 0.000755196            |</pre>"
      ],
      "text/plain": [
       "| FINAL   | 2.16s        | 0.000755196            |"
      ]
     },
     "metadata": {},
     "output_type": "display_data"
    },
    {
     "data": {
      "text/html": [
       "<pre>+---------+--------------+------------------------+</pre>"
      ],
      "text/plain": [
       "+---------+--------------+------------------------+"
      ]
     },
     "metadata": {},
     "output_type": "display_data"
    },
    {
     "data": {
      "text/html": [
       "<pre>Optimization Complete: Iteration limit reached.</pre>"
      ],
      "text/plain": [
       "Optimization Complete: Iteration limit reached."
      ]
     },
     "metadata": {},
     "output_type": "display_data"
    },
    {
     "data": {
      "text/html": [
       "<pre>Recsys training: model = factorization_recommender</pre>"
      ],
      "text/plain": [
       "Recsys training: model = factorization_recommender"
      ]
     },
     "metadata": {},
     "output_type": "display_data"
    },
    {
     "data": {
      "text/html": [
       "<pre>Preparing data set.</pre>"
      ],
      "text/plain": [
       "Preparing data set."
      ]
     },
     "metadata": {},
     "output_type": "display_data"
    },
    {
     "data": {
      "text/html": [
       "<pre>    Data has 24756 observations with 12294 users and 886 items.</pre>"
      ],
      "text/plain": [
       "    Data has 24756 observations with 12294 users and 886 items."
      ]
     },
     "metadata": {},
     "output_type": "display_data"
    },
    {
     "data": {
      "text/html": [
       "<pre>    Data prepared in: 0.047923s</pre>"
      ],
      "text/plain": [
       "    Data prepared in: 0.047923s"
      ]
     },
     "metadata": {},
     "output_type": "display_data"
    },
    {
     "data": {
      "text/html": [
       "<pre>Training factorization_recommender for recommendations.</pre>"
      ],
      "text/plain": [
       "Training factorization_recommender for recommendations."
      ]
     },
     "metadata": {},
     "output_type": "display_data"
    },
    {
     "data": {
      "text/html": [
       "<pre>+------------------------------+--------------------------------------------------+----------+</pre>"
      ],
      "text/plain": [
       "+------------------------------+--------------------------------------------------+----------+"
      ]
     },
     "metadata": {},
     "output_type": "display_data"
    },
    {
     "data": {
      "text/html": [
       "<pre>| Parameter                    | Description                                      | Value    |</pre>"
      ],
      "text/plain": [
       "| Parameter                    | Description                                      | Value    |"
      ]
     },
     "metadata": {},
     "output_type": "display_data"
    },
    {
     "data": {
      "text/html": [
       "<pre>+------------------------------+--------------------------------------------------+----------+</pre>"
      ],
      "text/plain": [
       "+------------------------------+--------------------------------------------------+----------+"
      ]
     },
     "metadata": {},
     "output_type": "display_data"
    },
    {
     "data": {
      "text/html": [
       "<pre>| num_factors                  | Factor Dimension                                 | 10       |</pre>"
      ],
      "text/plain": [
       "| num_factors                  | Factor Dimension                                 | 10       |"
      ]
     },
     "metadata": {},
     "output_type": "display_data"
    },
    {
     "data": {
      "text/html": [
       "<pre>| regularization               | L2 Regularization on Factors                     | 0        |</pre>"
      ],
      "text/plain": [
       "| regularization               | L2 Regularization on Factors                     | 0        |"
      ]
     },
     "metadata": {},
     "output_type": "display_data"
    },
    {
     "data": {
      "text/html": [
       "<pre>| max_iterations               | Maximum Number of Iterations                     | 50       |</pre>"
      ],
      "text/plain": [
       "| max_iterations               | Maximum Number of Iterations                     | 50       |"
      ]
     },
     "metadata": {},
     "output_type": "display_data"
    },
    {
     "data": {
      "text/html": [
       "<pre>| solver                       | Solver used for training                         | als      |</pre>"
      ],
      "text/plain": [
       "| solver                       | Solver used for training                         | als      |"
      ]
     },
     "metadata": {},
     "output_type": "display_data"
    },
    {
     "data": {
      "text/html": [
       "<pre>+------------------------------+--------------------------------------------------+----------+</pre>"
      ],
      "text/plain": [
       "+------------------------------+--------------------------------------------------+----------+"
      ]
     },
     "metadata": {},
     "output_type": "display_data"
    },
    {
     "data": {
      "text/html": [
       "<pre>+---------+--------------+------------------------+</pre>"
      ],
      "text/plain": [
       "+---------+--------------+------------------------+"
      ]
     },
     "metadata": {},
     "output_type": "display_data"
    },
    {
     "data": {
      "text/html": [
       "<pre>| Iter.   | Elapsed time | RMSE                   |</pre>"
      ],
      "text/plain": [
       "| Iter.   | Elapsed time | RMSE                   |"
      ]
     },
     "metadata": {},
     "output_type": "display_data"
    },
    {
     "data": {
      "text/html": [
       "<pre>+---------+--------------+------------------------+</pre>"
      ],
      "text/plain": [
       "+---------+--------------+------------------------+"
      ]
     },
     "metadata": {},
     "output_type": "display_data"
    },
    {
     "data": {
      "text/html": [
       "<pre>| Initial | 61us         | NA                     |</pre>"
      ],
      "text/plain": [
       "| Initial | 61us         | NA                     |"
      ]
     },
     "metadata": {},
     "output_type": "display_data"
    },
    {
     "data": {
      "text/html": [
       "<pre>+---------+--------------+------------------------+</pre>"
      ],
      "text/plain": [
       "+---------+--------------+------------------------+"
      ]
     },
     "metadata": {},
     "output_type": "display_data"
    },
    {
     "data": {
      "text/html": [
       "<pre>| 0       | 61.217ms     | 0.0794743              |</pre>"
      ],
      "text/plain": [
       "| 0       | 61.217ms     | 0.0794743              |"
      ]
     },
     "metadata": {},
     "output_type": "display_data"
    },
    {
     "data": {
      "text/html": [
       "<pre>| 1       | 116.633ms    | 0.0289752              |</pre>"
      ],
      "text/plain": [
       "| 1       | 116.633ms    | 0.0289752              |"
      ]
     },
     "metadata": {},
     "output_type": "display_data"
    },
    {
     "data": {
      "text/html": [
       "<pre>| 2       | 147.576ms    | 0.0192774              |</pre>"
      ],
      "text/plain": [
       "| 2       | 147.576ms    | 0.0192774              |"
      ]
     },
     "metadata": {},
     "output_type": "display_data"
    },
    {
     "data": {
      "text/html": [
       "<pre>| 3       | 181.496ms    | 0.0145351              |</pre>"
      ],
      "text/plain": [
       "| 3       | 181.496ms    | 0.0145351              |"
      ]
     },
     "metadata": {},
     "output_type": "display_data"
    },
    {
     "data": {
      "text/html": [
       "<pre>| 4       | 223.254ms    | 0.0117131              |</pre>"
      ],
      "text/plain": [
       "| 4       | 223.254ms    | 0.0117131              |"
      ]
     },
     "metadata": {},
     "output_type": "display_data"
    },
    {
     "data": {
      "text/html": [
       "<pre>| 5       | 261.78ms     | 0.00979097             |</pre>"
      ],
      "text/plain": [
       "| 5       | 261.78ms     | 0.00979097             |"
      ]
     },
     "metadata": {},
     "output_type": "display_data"
    },
    {
     "data": {
      "text/html": [
       "<pre>| 6       | 312.314ms    | 0.00843022             |</pre>"
      ],
      "text/plain": [
       "| 6       | 312.314ms    | 0.00843022             |"
      ]
     },
     "metadata": {},
     "output_type": "display_data"
    },
    {
     "data": {
      "text/html": [
       "<pre>| 7       | 368.471ms    | 0.00741833             |</pre>"
      ],
      "text/plain": [
       "| 7       | 368.471ms    | 0.00741833             |"
      ]
     },
     "metadata": {},
     "output_type": "display_data"
    },
    {
     "data": {
      "text/html": [
       "<pre>| 8       | 400.332ms    | 0.00662993             |</pre>"
      ],
      "text/plain": [
       "| 8       | 400.332ms    | 0.00662993             |"
      ]
     },
     "metadata": {},
     "output_type": "display_data"
    },
    {
     "data": {
      "text/html": [
       "<pre>| 9       | 445.942ms    | 0.00598799             |</pre>"
      ],
      "text/plain": [
       "| 9       | 445.942ms    | 0.00598799             |"
      ]
     },
     "metadata": {},
     "output_type": "display_data"
    },
    {
     "data": {
      "text/html": [
       "<pre>| 10      | 483.571ms    | 0.00632673             |</pre>"
      ],
      "text/plain": [
       "| 10      | 483.571ms    | 0.00632673             |"
      ]
     },
     "metadata": {},
     "output_type": "display_data"
    },
    {
     "data": {
      "text/html": [
       "<pre>| 11      | 520.376ms    | 0.00790405             |</pre>"
      ],
      "text/plain": [
       "| 11      | 520.376ms    | 0.00790405             |"
      ]
     },
     "metadata": {},
     "output_type": "display_data"
    },
    {
     "data": {
      "text/html": [
       "<pre>| 12      | 573.959ms    | 0.00564025             |</pre>"
      ],
      "text/plain": [
       "| 12      | 573.959ms    | 0.00564025             |"
      ]
     },
     "metadata": {},
     "output_type": "display_data"
    },
    {
     "data": {
      "text/html": [
       "<pre>| 13      | 623.886ms    | 0.00561751             |</pre>"
      ],
      "text/plain": [
       "| 13      | 623.886ms    | 0.00561751             |"
      ]
     },
     "metadata": {},
     "output_type": "display_data"
    },
    {
     "data": {
      "text/html": [
       "<pre>| 14      | 650.325ms    | 0.0073142              |</pre>"
      ],
      "text/plain": [
       "| 14      | 650.325ms    | 0.0073142              |"
      ]
     },
     "metadata": {},
     "output_type": "display_data"
    },
    {
     "data": {
      "text/html": [
       "<pre>| 15      | 689.865ms    | 0.0143345              |</pre>"
      ],
      "text/plain": [
       "| 15      | 689.865ms    | 0.0143345              |"
      ]
     },
     "metadata": {},
     "output_type": "display_data"
    },
    {
     "data": {
      "text/html": [
       "<pre>| 16      | 742.122ms    | 0.015192               |</pre>"
      ],
      "text/plain": [
       "| 16      | 742.122ms    | 0.015192               |"
      ]
     },
     "metadata": {},
     "output_type": "display_data"
    },
    {
     "data": {
      "text/html": [
       "<pre>| 17      | 777.578ms    | 0.0257023              |</pre>"
      ],
      "text/plain": [
       "| 17      | 777.578ms    | 0.0257023              |"
      ]
     },
     "metadata": {},
     "output_type": "display_data"
    },
    {
     "data": {
      "text/html": [
       "<pre>| 18      | 818.661ms    | 0.0249943              |</pre>"
      ],
      "text/plain": [
       "| 18      | 818.661ms    | 0.0249943              |"
      ]
     },
     "metadata": {},
     "output_type": "display_data"
    },
    {
     "data": {
      "text/html": [
       "<pre>| 19      | 851.78ms     | 0.0154389              |</pre>"
      ],
      "text/plain": [
       "| 19      | 851.78ms     | 0.0154389              |"
      ]
     },
     "metadata": {},
     "output_type": "display_data"
    },
    {
     "data": {
      "text/html": [
       "<pre>| 20      | 903.316ms    | 0.00917835             |</pre>"
      ],
      "text/plain": [
       "| 20      | 903.316ms    | 0.00917835             |"
      ]
     },
     "metadata": {},
     "output_type": "display_data"
    },
    {
     "data": {
      "text/html": [
       "<pre>| 21      | 930.498ms    | 0.00813532             |</pre>"
      ],
      "text/plain": [
       "| 21      | 930.498ms    | 0.00813532             |"
      ]
     },
     "metadata": {},
     "output_type": "display_data"
    },
    {
     "data": {
      "text/html": [
       "<pre>| 22      | 988.935ms    | 0.0313455              |</pre>"
      ],
      "text/plain": [
       "| 22      | 988.935ms    | 0.0313455              |"
      ]
     },
     "metadata": {},
     "output_type": "display_data"
    },
    {
     "data": {
      "text/html": [
       "<pre>| 23      | 1.04s        | 0.0247007              |</pre>"
      ],
      "text/plain": [
       "| 23      | 1.04s        | 0.0247007              |"
      ]
     },
     "metadata": {},
     "output_type": "display_data"
    },
    {
     "data": {
      "text/html": [
       "<pre>| 24      | 1.07s        | 0.0224703              |</pre>"
      ],
      "text/plain": [
       "| 24      | 1.07s        | 0.0224703              |"
      ]
     },
     "metadata": {},
     "output_type": "display_data"
    },
    {
     "data": {
      "text/html": [
       "<pre>| 25      | 1.11s        | 0.0277002              |</pre>"
      ],
      "text/plain": [
       "| 25      | 1.11s        | 0.0277002              |"
      ]
     },
     "metadata": {},
     "output_type": "display_data"
    },
    {
     "data": {
      "text/html": [
       "<pre>| 26      | 1.15s        | 0.0255676              |</pre>"
      ],
      "text/plain": [
       "| 26      | 1.15s        | 0.0255676              |"
      ]
     },
     "metadata": {},
     "output_type": "display_data"
    },
    {
     "data": {
      "text/html": [
       "<pre>| 27      | 1.20s        | 0.0225514              |</pre>"
      ],
      "text/plain": [
       "| 27      | 1.20s        | 0.0225514              |"
      ]
     },
     "metadata": {},
     "output_type": "display_data"
    },
    {
     "data": {
      "text/html": [
       "<pre>| 28      | 1.23s        | 0.0191166              |</pre>"
      ],
      "text/plain": [
       "| 28      | 1.23s        | 0.0191166              |"
      ]
     },
     "metadata": {},
     "output_type": "display_data"
    },
    {
     "data": {
      "text/html": [
       "<pre>| 29      | 1.28s        | 0.01897                |</pre>"
      ],
      "text/plain": [
       "| 29      | 1.28s        | 0.01897                |"
      ]
     },
     "metadata": {},
     "output_type": "display_data"
    },
    {
     "data": {
      "text/html": [
       "<pre>| 30      | 1.32s        | 0.0385141              |</pre>"
      ],
      "text/plain": [
       "| 30      | 1.32s        | 0.0385141              |"
      ]
     },
     "metadata": {},
     "output_type": "display_data"
    },
    {
     "data": {
      "text/html": [
       "<pre>| 31      | 1.37s        | 0.0287561              |</pre>"
      ],
      "text/plain": [
       "| 31      | 1.37s        | 0.0287561              |"
      ]
     },
     "metadata": {},
     "output_type": "display_data"
    },
    {
     "data": {
      "text/html": [
       "<pre>| 32      | 1.41s        | 0.0396953              |</pre>"
      ],
      "text/plain": [
       "| 32      | 1.41s        | 0.0396953              |"
      ]
     },
     "metadata": {},
     "output_type": "display_data"
    },
    {
     "data": {
      "text/html": [
       "<pre>| 33      | 1.45s        | 0.0408771              |</pre>"
      ],
      "text/plain": [
       "| 33      | 1.45s        | 0.0408771              |"
      ]
     },
     "metadata": {},
     "output_type": "display_data"
    },
    {
     "data": {
      "text/html": [
       "<pre>| 34      | 1.49s        | 0.0400098              |</pre>"
      ],
      "text/plain": [
       "| 34      | 1.49s        | 0.0400098              |"
      ]
     },
     "metadata": {},
     "output_type": "display_data"
    },
    {
     "data": {
      "text/html": [
       "<pre>| 35      | 1.54s        | 0.0414725              |</pre>"
      ],
      "text/plain": [
       "| 35      | 1.54s        | 0.0414725              |"
      ]
     },
     "metadata": {},
     "output_type": "display_data"
    },
    {
     "data": {
      "text/html": [
       "<pre>| 36      | 1.59s        | 0.0419899              |</pre>"
      ],
      "text/plain": [
       "| 36      | 1.59s        | 0.0419899              |"
      ]
     },
     "metadata": {},
     "output_type": "display_data"
    },
    {
     "data": {
      "text/html": [
       "<pre>| 37      | 1.63s        | 0.202957               |</pre>"
      ],
      "text/plain": [
       "| 37      | 1.63s        | 0.202957               |"
      ]
     },
     "metadata": {},
     "output_type": "display_data"
    },
    {
     "data": {
      "text/html": [
       "<pre>| 38      | 1.68s        | 0.0472917              |</pre>"
      ],
      "text/plain": [
       "| 38      | 1.68s        | 0.0472917              |"
      ]
     },
     "metadata": {},
     "output_type": "display_data"
    },
    {
     "data": {
      "text/html": [
       "<pre>| 39      | 1.72s        | 0.044624               |</pre>"
      ],
      "text/plain": [
       "| 39      | 1.72s        | 0.044624               |"
      ]
     },
     "metadata": {},
     "output_type": "display_data"
    },
    {
     "data": {
      "text/html": [
       "<pre>| 40      | 1.77s        | 0.0448655              |</pre>"
      ],
      "text/plain": [
       "| 40      | 1.77s        | 0.0448655              |"
      ]
     },
     "metadata": {},
     "output_type": "display_data"
    },
    {
     "data": {
      "text/html": [
       "<pre>| 41      | 1.81s        | 0.0451039              |</pre>"
      ],
      "text/plain": [
       "| 41      | 1.81s        | 0.0451039              |"
      ]
     },
     "metadata": {},
     "output_type": "display_data"
    },
    {
     "data": {
      "text/html": [
       "<pre>| 42      | 1.86s        | 0.0446852              |</pre>"
      ],
      "text/plain": [
       "| 42      | 1.86s        | 0.0446852              |"
      ]
     },
     "metadata": {},
     "output_type": "display_data"
    },
    {
     "data": {
      "text/html": [
       "<pre>| 43      | 1.90s        | 0.0451576              |</pre>"
      ],
      "text/plain": [
       "| 43      | 1.90s        | 0.0451576              |"
      ]
     },
     "metadata": {},
     "output_type": "display_data"
    },
    {
     "data": {
      "text/html": [
       "<pre>| 44      | 1.93s        | 0.0487619              |</pre>"
      ],
      "text/plain": [
       "| 44      | 1.93s        | 0.0487619              |"
      ]
     },
     "metadata": {},
     "output_type": "display_data"
    },
    {
     "data": {
      "text/html": [
       "<pre>| 45      | 1.97s        | 0.0554036              |</pre>"
      ],
      "text/plain": [
       "| 45      | 1.97s        | 0.0554036              |"
      ]
     },
     "metadata": {},
     "output_type": "display_data"
    },
    {
     "data": {
      "text/html": [
       "<pre>| 46      | 2.03s        | 0.0511802              |</pre>"
      ],
      "text/plain": [
       "| 46      | 2.03s        | 0.0511802              |"
      ]
     },
     "metadata": {},
     "output_type": "display_data"
    },
    {
     "data": {
      "text/html": [
       "<pre>| 47      | 2.07s        | 0.0475205              |</pre>"
      ],
      "text/plain": [
       "| 47      | 2.07s        | 0.0475205              |"
      ]
     },
     "metadata": {},
     "output_type": "display_data"
    },
    {
     "data": {
      "text/html": [
       "<pre>| 48      | 2.10s        | 0.0456723              |</pre>"
      ],
      "text/plain": [
       "| 48      | 2.10s        | 0.0456723              |"
      ]
     },
     "metadata": {},
     "output_type": "display_data"
    },
    {
     "data": {
      "text/html": [
       "<pre>| 49      | 2.15s        | 0.0566595              |</pre>"
      ],
      "text/plain": [
       "| 49      | 2.15s        | 0.0566595              |"
      ]
     },
     "metadata": {},
     "output_type": "display_data"
    },
    {
     "data": {
      "text/html": [
       "<pre>| FINAL   | 2.15s        | 0.0566595              |</pre>"
      ],
      "text/plain": [
       "| FINAL   | 2.15s        | 0.0566595              |"
      ]
     },
     "metadata": {},
     "output_type": "display_data"
    },
    {
     "data": {
      "text/html": [
       "<pre>+---------+--------------+------------------------+</pre>"
      ],
      "text/plain": [
       "+---------+--------------+------------------------+"
      ]
     },
     "metadata": {},
     "output_type": "display_data"
    },
    {
     "data": {
      "text/html": [
       "<pre>Optimization Complete: Iteration limit reached.</pre>"
      ],
      "text/plain": [
       "Optimization Complete: Iteration limit reached."
      ]
     },
     "metadata": {},
     "output_type": "display_data"
    }
   ],
   "source": [
    "\n",
    "predictions_train_dic = {}\n",
    "predictions_valid_dic = {}\n",
    "\n",
    "for i in [100, 1, 0.1, 0.01, 0.0001, 0.00001, 0.000001, 0.0000001, 0.00000001, 0]:\n",
    "    model = graphlab.recommender.factorization_recommender.create(sf_train, user_id='new_user_id', item_id='new_course_id',target='rating',solver='als',side_data_factorization=False, num_factors = 10, regularization=i)\n",
    "    predictions_train = model.predict(sf_train)\n",
    "    predictions_valid = model.predict(sf_validation)\n",
    "    predictions_train_dic[i] = np.sqrt(mean_squared_error(sf_train['rating'], predictions_train))\n",
    "    predictions_valid_dic[i] = np.sqrt(mean_squared_error(sf_validation['rating'], predictions_valid))\n",
    "    "
   ]
  },
  {
   "cell_type": "code",
   "execution_count": 80,
   "metadata": {},
   "outputs": [
    {
     "data": {
      "text/plain": [
       "<matplotlib.legend.Legend at 0x7f15bd7a9050>"
      ]
     },
     "execution_count": 80,
     "metadata": {},
     "output_type": "execute_result"
    },
    {
     "data": {
      "image/png": "[encoded data removed]",
      "text/plain": [
       "<matplotlib.figure.Figure at 0x7f159c15b810>"
      ]
     },
     "metadata": {},
     "output_type": "display_data"
    }
   ],
   "source": [
    "plt.plot(predictions_train_dic.keys(), predictions_train_dic.values(), color = \"b\", label = \"training error\")\n",
    "plt.plot(predictions_valid_dic.keys(), predictions_valid_dic.values(), color = \"g\", label = \"validation error\")\n",
    "plt.legend()"
   ]
  },
  {
   "cell_type": "code",
   "execution_count": 81,
   "metadata": {},
   "outputs": [
    {
     "data": {
      "text/plain": [
       "{0: 0.056659468774325143,\n",
       " 1e-08: 0.00075519559174910854,\n",
       " 1e-07: 0.0009937474687785621,\n",
       " 1e-06: 0.0067733386626180675,\n",
       " 1e-05: 0.044143697383411944,\n",
       " 0.0001: 0.31197841957888073,\n",
       " 0.01: 0.60336365417370175,\n",
       " 0.1: 0.60336365417370175,\n",
       " 1: 0.60336365417370175,\n",
       " 100: 0.60336365417370175}"
      ]
     },
     "execution_count": 81,
     "metadata": {},
     "output_type": "execute_result"
    }
   ],
   "source": [
    "predictions_train_dic"
   ]
  },
  {
   "cell_type": "code",
   "execution_count": 82,
   "metadata": {},
   "outputs": [
    {
     "data": {
      "text/plain": [
       "{0: 84.761352083084887,\n",
       " 1e-08: 0.67934911532128039,\n",
       " 1e-07: 0.66185357959643032,\n",
       " 1e-06: 0.67640445799141491,\n",
       " 1e-05: 0.62748768384159548,\n",
       " 0.0001: 0.59008933109015393,\n",
       " 0.01: 0.59895196244260707,\n",
       " 0.1: 0.59895196244260707,\n",
       " 1: 0.59895196244260707,\n",
       " 100: 0.59895196244260707}"
      ]
     },
     "execution_count": 82,
     "metadata": {},
     "output_type": "execute_result"
    }
   ],
   "source": [
    "predictions_valid_dic"
   ]
  },
  {
   "cell_type": "code",
   "execution_count": 84,
   "metadata": {},
   "outputs": [
    {
     "data": {
      "text/html": [
       "<pre>Recsys training: model = factorization_recommender</pre>"
      ],
      "text/plain": [
       "Recsys training: model = factorization_recommender"
      ]
     },
     "metadata": {},
     "output_type": "display_data"
    },
    {
     "data": {
      "text/html": [
       "<pre>Preparing data set.</pre>"
      ],
      "text/plain": [
       "Preparing data set."
      ]
     },
     "metadata": {},
     "output_type": "display_data"
    },
    {
     "data": {
      "text/html": [
       "<pre>    Data has 24756 observations with 12294 users and 886 items.</pre>"
      ],
      "text/plain": [
       "    Data has 24756 observations with 12294 users and 886 items."
      ]
     },
     "metadata": {},
     "output_type": "display_data"
    },
    {
     "data": {
      "text/html": [
       "<pre>    Data prepared in: 0.045167s</pre>"
      ],
      "text/plain": [
       "    Data prepared in: 0.045167s"
      ]
     },
     "metadata": {},
     "output_type": "display_data"
    },
    {
     "data": {
      "text/html": [
       "<pre>Training factorization_recommender for recommendations.</pre>"
      ],
      "text/plain": [
       "Training factorization_recommender for recommendations."
      ]
     },
     "metadata": {},
     "output_type": "display_data"
    },
    {
     "data": {
      "text/html": [
       "<pre>+------------------------------+--------------------------------------------------+----------+</pre>"
      ],
      "text/plain": [
       "+------------------------------+--------------------------------------------------+----------+"
      ]
     },
     "metadata": {},
     "output_type": "display_data"
    },
    {
     "data": {
      "text/html": [
       "<pre>| Parameter                    | Description                                      | Value    |</pre>"
      ],
      "text/plain": [
       "| Parameter                    | Description                                      | Value    |"
      ]
     },
     "metadata": {},
     "output_type": "display_data"
    },
    {
     "data": {
      "text/html": [
       "<pre>+------------------------------+--------------------------------------------------+----------+</pre>"
      ],
      "text/plain": [
       "+------------------------------+--------------------------------------------------+----------+"
      ]
     },
     "metadata": {},
     "output_type": "display_data"
    },
    {
     "data": {
      "text/html": [
       "<pre>| num_factors                  | Factor Dimension                                 | 10       |</pre>"
      ],
      "text/plain": [
       "| num_factors                  | Factor Dimension                                 | 10       |"
      ]
     },
     "metadata": {},
     "output_type": "display_data"
    },
    {
     "data": {
      "text/html": [
       "<pre>| regularization               | L2 Regularization on Factors                     | 0.1      |</pre>"
      ],
      "text/plain": [
       "| regularization               | L2 Regularization on Factors                     | 0.1      |"
      ]
     },
     "metadata": {},
     "output_type": "display_data"
    },
    {
     "data": {
      "text/html": [
       "<pre>| max_iterations               | Maximum Number of Iterations                     | 50       |</pre>"
      ],
      "text/plain": [
       "| max_iterations               | Maximum Number of Iterations                     | 50       |"
      ]
     },
     "metadata": {},
     "output_type": "display_data"
    },
    {
     "data": {
      "text/html": [
       "<pre>| solver                       | Solver used for training                         | als      |</pre>"
      ],
      "text/plain": [
       "| solver                       | Solver used for training                         | als      |"
      ]
     },
     "metadata": {},
     "output_type": "display_data"
    },
    {
     "data": {
      "text/html": [
       "<pre>+------------------------------+--------------------------------------------------+----------+</pre>"
      ],
      "text/plain": [
       "+------------------------------+--------------------------------------------------+----------+"
      ]
     },
     "metadata": {},
     "output_type": "display_data"
    },
    {
     "data": {
      "text/html": [
       "<pre>+---------+--------------+------------------------+</pre>"
      ],
      "text/plain": [
       "+---------+--------------+------------------------+"
      ]
     },
     "metadata": {},
     "output_type": "display_data"
    },
    {
     "data": {
      "text/html": [
       "<pre>| Iter.   | Elapsed time | RMSE                   |</pre>"
      ],
      "text/plain": [
       "| Iter.   | Elapsed time | RMSE                   |"
      ]
     },
     "metadata": {},
     "output_type": "display_data"
    },
    {
     "data": {
      "text/html": [
       "<pre>+---------+--------------+------------------------+</pre>"
      ],
      "text/plain": [
       "+---------+--------------+------------------------+"
      ]
     },
     "metadata": {},
     "output_type": "display_data"
    },
    {
     "data": {
      "text/html": [
       "<pre>| Initial | 68us         | NA                     |</pre>"
      ],
      "text/plain": [
       "| Initial | 68us         | NA                     |"
      ]
     },
     "metadata": {},
     "output_type": "display_data"
    },
    {
     "data": {
      "text/html": [
       "<pre>+---------+--------------+------------------------+</pre>"
      ],
      "text/plain": [
       "+---------+--------------+------------------------+"
      ]
     },
     "metadata": {},
     "output_type": "display_data"
    },
    {
     "data": {
      "text/html": [
       "<pre>| 0       | 58.9ms       | 0.603364               |</pre>"
      ],
      "text/plain": [
       "| 0       | 58.9ms       | 0.603364               |"
      ]
     },
     "metadata": {},
     "output_type": "display_data"
    },
    {
     "data": {
      "text/html": [
       "<pre>| 1       | 116.483ms    | 0.603364               |</pre>"
      ],
      "text/plain": [
       "| 1       | 116.483ms    | 0.603364               |"
      ]
     },
     "metadata": {},
     "output_type": "display_data"
    },
    {
     "data": {
      "text/html": [
       "<pre>| 2       | 171.001ms    | 0.603364               |</pre>"
      ],
      "text/plain": [
       "| 2       | 171.001ms    | 0.603364               |"
      ]
     },
     "metadata": {},
     "output_type": "display_data"
    },
    {
     "data": {
      "text/html": [
       "<pre>| 3       | 249.74ms     | 0.603364               |</pre>"
      ],
      "text/plain": [
       "| 3       | 249.74ms     | 0.603364               |"
      ]
     },
     "metadata": {},
     "output_type": "display_data"
    },
    {
     "data": {
      "text/html": [
       "<pre>| 4       | 292.658ms    | 0.603364               |</pre>"
      ],
      "text/plain": [
       "| 4       | 292.658ms    | 0.603364               |"
      ]
     },
     "metadata": {},
     "output_type": "display_data"
    },
    {
     "data": {
      "text/html": [
       "<pre>| 5       | 323.229ms    | 0.603364               |</pre>"
      ],
      "text/plain": [
       "| 5       | 323.229ms    | 0.603364               |"
      ]
     },
     "metadata": {},
     "output_type": "display_data"
    },
    {
     "data": {
      "text/html": [
       "<pre>| 6       | 374.737ms    | 0.603364               |</pre>"
      ],
      "text/plain": [
       "| 6       | 374.737ms    | 0.603364               |"
      ]
     },
     "metadata": {},
     "output_type": "display_data"
    },
    {
     "data": {
      "text/html": [
       "<pre>| 7       | 427.451ms    | 0.603364               |</pre>"
      ],
      "text/plain": [
       "| 7       | 427.451ms    | 0.603364               |"
      ]
     },
     "metadata": {},
     "output_type": "display_data"
    },
    {
     "data": {
      "text/html": [
       "<pre>| 8       | 453.784ms    | 0.603364               |</pre>"
      ],
      "text/plain": [
       "| 8       | 453.784ms    | 0.603364               |"
      ]
     },
     "metadata": {},
     "output_type": "display_data"
    },
    {
     "data": {
      "text/html": [
       "<pre>| 9       | 503.522ms    | 0.603364               |</pre>"
      ],
      "text/plain": [
       "| 9       | 503.522ms    | 0.603364               |"
      ]
     },
     "metadata": {},
     "output_type": "display_data"
    },
    {
     "data": {
      "text/html": [
       "<pre>| 10      | 543.958ms    | 0.603364               |</pre>"
      ],
      "text/plain": [
       "| 10      | 543.958ms    | 0.603364               |"
      ]
     },
     "metadata": {},
     "output_type": "display_data"
    },
    {
     "data": {
      "text/html": [
       "<pre>| 11      | 593.993ms    | 0.603364               |</pre>"
      ],
      "text/plain": [
       "| 11      | 593.993ms    | 0.603364               |"
      ]
     },
     "metadata": {},
     "output_type": "display_data"
    },
    {
     "data": {
      "text/html": [
       "<pre>| 12      | 629.455ms    | 0.603364               |</pre>"
      ],
      "text/plain": [
       "| 12      | 629.455ms    | 0.603364               |"
      ]
     },
     "metadata": {},
     "output_type": "display_data"
    },
    {
     "data": {
      "text/html": [
       "<pre>| 13      | 668.056ms    | 0.603364               |</pre>"
      ],
      "text/plain": [
       "| 13      | 668.056ms    | 0.603364               |"
      ]
     },
     "metadata": {},
     "output_type": "display_data"
    },
    {
     "data": {
      "text/html": [
       "<pre>| 14      | 704.156ms    | 0.603364               |</pre>"
      ],
      "text/plain": [
       "| 14      | 704.156ms    | 0.603364               |"
      ]
     },
     "metadata": {},
     "output_type": "display_data"
    },
    {
     "data": {
      "text/html": [
       "<pre>| 15      | 754.296ms    | 0.603364               |</pre>"
      ],
      "text/plain": [
       "| 15      | 754.296ms    | 0.603364               |"
      ]
     },
     "metadata": {},
     "output_type": "display_data"
    },
    {
     "data": {
      "text/html": [
       "<pre>| 16      | 784.982ms    | 0.603364               |</pre>"
      ],
      "text/plain": [
       "| 16      | 784.982ms    | 0.603364               |"
      ]
     },
     "metadata": {},
     "output_type": "display_data"
    },
    {
     "data": {
      "text/html": [
       "<pre>| 17      | 828.858ms    | 0.603364               |</pre>"
      ],
      "text/plain": [
       "| 17      | 828.858ms    | 0.603364               |"
      ]
     },
     "metadata": {},
     "output_type": "display_data"
    },
    {
     "data": {
      "text/html": [
       "<pre>| 18      | 865.08ms     | 0.603364               |</pre>"
      ],
      "text/plain": [
       "| 18      | 865.08ms     | 0.603364               |"
      ]
     },
     "metadata": {},
     "output_type": "display_data"
    },
    {
     "data": {
      "text/html": [
       "<pre>| 19      | 896.32ms     | 0.603364               |</pre>"
      ],
      "text/plain": [
       "| 19      | 896.32ms     | 0.603364               |"
      ]
     },
     "metadata": {},
     "output_type": "display_data"
    },
    {
     "data": {
      "text/html": [
       "<pre>| 20      | 936.539ms    | 0.603364               |</pre>"
      ],
      "text/plain": [
       "| 20      | 936.539ms    | 0.603364               |"
      ]
     },
     "metadata": {},
     "output_type": "display_data"
    },
    {
     "data": {
      "text/html": [
       "<pre>| 21      | 977.481ms    | 0.603364               |</pre>"
      ],
      "text/plain": [
       "| 21      | 977.481ms    | 0.603364               |"
      ]
     },
     "metadata": {},
     "output_type": "display_data"
    },
    {
     "data": {
      "text/html": [
       "<pre>| 22      | 1.02s        | 0.603364               |</pre>"
      ],
      "text/plain": [
       "| 22      | 1.02s        | 0.603364               |"
      ]
     },
     "metadata": {},
     "output_type": "display_data"
    },
    {
     "data": {
      "text/html": [
       "<pre>| 23      | 1.07s        | 0.603364               |</pre>"
      ],
      "text/plain": [
       "| 23      | 1.07s        | 0.603364               |"
      ]
     },
     "metadata": {},
     "output_type": "display_data"
    },
    {
     "data": {
      "text/html": [
       "<pre>| 24      | 1.10s        | 0.603364               |</pre>"
      ],
      "text/plain": [
       "| 24      | 1.10s        | 0.603364               |"
      ]
     },
     "metadata": {},
     "output_type": "display_data"
    },
    {
     "data": {
      "text/html": [
       "<pre>| 25      | 1.15s        | 0.603364               |</pre>"
      ],
      "text/plain": [
       "| 25      | 1.15s        | 0.603364               |"
      ]
     },
     "metadata": {},
     "output_type": "display_data"
    },
    {
     "data": {
      "text/html": [
       "<pre>| 26      | 1.20s        | 0.603364               |</pre>"
      ],
      "text/plain": [
       "| 26      | 1.20s        | 0.603364               |"
      ]
     },
     "metadata": {},
     "output_type": "display_data"
    },
    {
     "data": {
      "text/html": [
       "<pre>| 27      | 1.25s        | 0.603364               |</pre>"
      ],
      "text/plain": [
       "| 27      | 1.25s        | 0.603364               |"
      ]
     },
     "metadata": {},
     "output_type": "display_data"
    },
    {
     "data": {
      "text/html": [
       "<pre>| 28      | 1.28s        | 0.603364               |</pre>"
      ],
      "text/plain": [
       "| 28      | 1.28s        | 0.603364               |"
      ]
     },
     "metadata": {},
     "output_type": "display_data"
    },
    {
     "data": {
      "text/html": [
       "<pre>| 29      | 1.32s        | 0.603364               |</pre>"
      ],
      "text/plain": [
       "| 29      | 1.32s        | 0.603364               |"
      ]
     },
     "metadata": {},
     "output_type": "display_data"
    },
    {
     "data": {
      "text/html": [
       "<pre>| 30      | 1.35s        | 0.603364               |</pre>"
      ],
      "text/plain": [
       "| 30      | 1.35s        | 0.603364               |"
      ]
     },
     "metadata": {},
     "output_type": "display_data"
    },
    {
     "data": {
      "text/html": [
       "<pre>| 31      | 1.40s        | 0.603364               |</pre>"
      ],
      "text/plain": [
       "| 31      | 1.40s        | 0.603364               |"
      ]
     },
     "metadata": {},
     "output_type": "display_data"
    },
    {
     "data": {
      "text/html": [
       "<pre>| 32      | 1.43s        | 0.603364               |</pre>"
      ],
      "text/plain": [
       "| 32      | 1.43s        | 0.603364               |"
      ]
     },
     "metadata": {},
     "output_type": "display_data"
    },
    {
     "data": {
      "text/html": [
       "<pre>| 33      | 1.48s        | 0.603364               |</pre>"
      ],
      "text/plain": [
       "| 33      | 1.48s        | 0.603364               |"
      ]
     },
     "metadata": {},
     "output_type": "display_data"
    },
    {
     "data": {
      "text/html": [
       "<pre>| 34      | 1.53s        | 0.603364               |</pre>"
      ],
      "text/plain": [
       "| 34      | 1.53s        | 0.603364               |"
      ]
     },
     "metadata": {},
     "output_type": "display_data"
    },
    {
     "data": {
      "text/html": [
       "<pre>| 35      | 1.56s        | 0.603364               |</pre>"
      ],
      "text/plain": [
       "| 35      | 1.56s        | 0.603364               |"
      ]
     },
     "metadata": {},
     "output_type": "display_data"
    },
    {
     "data": {
      "text/html": [
       "<pre>| 36      | 1.61s        | 0.603364               |</pre>"
      ],
      "text/plain": [
       "| 36      | 1.61s        | 0.603364               |"
      ]
     },
     "metadata": {},
     "output_type": "display_data"
    },
    {
     "data": {
      "text/html": [
       "<pre>| 37      | 1.66s        | 0.603364               |</pre>"
      ],
      "text/plain": [
       "| 37      | 1.66s        | 0.603364               |"
      ]
     },
     "metadata": {},
     "output_type": "display_data"
    },
    {
     "data": {
      "text/html": [
       "<pre>| 38      | 1.70s        | 0.603364               |</pre>"
      ],
      "text/plain": [
       "| 38      | 1.70s        | 0.603364               |"
      ]
     },
     "metadata": {},
     "output_type": "display_data"
    },
    {
     "data": {
      "text/html": [
       "<pre>| 39      | 1.75s        | 0.603364               |</pre>"
      ],
      "text/plain": [
       "| 39      | 1.75s        | 0.603364               |"
      ]
     },
     "metadata": {},
     "output_type": "display_data"
    },
    {
     "data": {
      "text/html": [
       "<pre>| 40      | 1.79s        | 0.603364               |</pre>"
      ],
      "text/plain": [
       "| 40      | 1.79s        | 0.603364               |"
      ]
     },
     "metadata": {},
     "output_type": "display_data"
    },
    {
     "data": {
      "text/html": [
       "<pre>| 41      | 1.84s        | 0.603364               |</pre>"
      ],
      "text/plain": [
       "| 41      | 1.84s        | 0.603364               |"
      ]
     },
     "metadata": {},
     "output_type": "display_data"
    },
    {
     "data": {
      "text/html": [
       "<pre>| 42      | 1.89s        | 0.603364               |</pre>"
      ],
      "text/plain": [
       "| 42      | 1.89s        | 0.603364               |"
      ]
     },
     "metadata": {},
     "output_type": "display_data"
    },
    {
     "data": {
      "text/html": [
       "<pre>| 43      | 1.93s        | 0.603364               |</pre>"
      ],
      "text/plain": [
       "| 43      | 1.93s        | 0.603364               |"
      ]
     },
     "metadata": {},
     "output_type": "display_data"
    },
    {
     "data": {
      "text/html": [
       "<pre>| 44      | 1.95s        | 0.603364               |</pre>"
      ],
      "text/plain": [
       "| 44      | 1.95s        | 0.603364               |"
      ]
     },
     "metadata": {},
     "output_type": "display_data"
    },
    {
     "data": {
      "text/html": [
       "<pre>| 45      | 2.00s        | 0.603364               |</pre>"
      ],
      "text/plain": [
       "| 45      | 2.00s        | 0.603364               |"
      ]
     },
     "metadata": {},
     "output_type": "display_data"
    },
    {
     "data": {
      "text/html": [
       "<pre>| 46      | 2.04s        | 0.603364               |</pre>"
      ],
      "text/plain": [
       "| 46      | 2.04s        | 0.603364               |"
      ]
     },
     "metadata": {},
     "output_type": "display_data"
    },
    {
     "data": {
      "text/html": [
       "<pre>| 47      | 2.09s        | 0.603364               |</pre>"
      ],
      "text/plain": [
       "| 47      | 2.09s        | 0.603364               |"
      ]
     },
     "metadata": {},
     "output_type": "display_data"
    },
    {
     "data": {
      "text/html": [
       "<pre>| 48      | 2.12s        | 0.603364               |</pre>"
      ],
      "text/plain": [
       "| 48      | 2.12s        | 0.603364               |"
      ]
     },
     "metadata": {},
     "output_type": "display_data"
    },
    {
     "data": {
      "text/html": [
       "<pre>| 49      | 2.16s        | 0.603364               |</pre>"
      ],
      "text/plain": [
       "| 49      | 2.16s        | 0.603364               |"
      ]
     },
     "metadata": {},
     "output_type": "display_data"
    },
    {
     "data": {
      "text/html": [
       "<pre>| FINAL   | 2.16s        | 0.603364               |</pre>"
      ],
      "text/plain": [
       "| FINAL   | 2.16s        | 0.603364               |"
      ]
     },
     "metadata": {},
     "output_type": "display_data"
    },
    {
     "data": {
      "text/html": [
       "<pre>+---------+--------------+------------------------+</pre>"
      ],
      "text/plain": [
       "+---------+--------------+------------------------+"
      ]
     },
     "metadata": {},
     "output_type": "display_data"
    },
    {
     "data": {
      "text/html": [
       "<pre>Optimization Complete: Iteration limit reached.</pre>"
      ],
      "text/plain": [
       "Optimization Complete: Iteration limit reached."
      ]
     },
     "metadata": {},
     "output_type": "display_data"
    }
   ],
   "source": [
    "model = model = graphlab.recommender.factorization_recommender.create(sf_train, user_id='new_user_id', item_id='new_course_id',target='rating',solver='als',side_data_factorization=False, num_factors = 10, regularization=0.1)"
   ]
  },
  {
   "cell_type": "code",
   "execution_count": 85,
   "metadata": {},
   "outputs": [],
   "source": [
    "predictions_test = model.predict(sf_test)\n",
    "rmse = np.sqrt(mean_squared_error(sf_test['rating'], predictions_test))"
   ]
  },
  {
   "cell_type": "code",
   "execution_count": 86,
   "metadata": {},
   "outputs": [
    {
     "name": "stdout",
     "output_type": "stream",
     "text": [
      "test set rmse:  0.610682911218\n"
     ]
    }
   ],
   "source": [
    "print \"test set rmse: \", rmse"
   ]
  },
  {
   "cell_type": "markdown",
   "metadata": {},
   "source": [
    "### Single value decomposition"
   ]
  },
  {
   "cell_type": "code",
   "execution_count": 87,
   "metadata": {},
   "outputs": [],
   "source": [
    "train_df_matrix = np.zeros((n_users, n_items))\n",
    "for line in train_df.itertuples():\n",
    "    train_df_matrix[line[2]-1, line[1]-1] = line[3]"
   ]
  },
  {
   "cell_type": "code",
   "execution_count": 88,
   "metadata": {
    "collapsed": true
   },
   "outputs": [],
   "source": [
    "validation_df_matrix = np.zeros((n_users, n_items))\n",
    "for line in validate_df.itertuples():\n",
    "    validation_df_matrix[line[2]-1, line[1]-1] = line[3]"
   ]
  },
  {
   "cell_type": "code",
   "execution_count": 89,
   "metadata": {
    "collapsed": true
   },
   "outputs": [],
   "source": [
    "test_df_matrix = np.zeros((n_users, n_items))\n",
    "for line in test_df.itertuples():\n",
    "    test_df_matrix[line[2]-1, line[1]-1] = line[3]"
   ]
  },
  {
   "cell_type": "code",
   "execution_count": 90,
   "metadata": {
    "collapsed": true
   },
   "outputs": [],
   "source": [
    "u, s, vt = svds(train_df_matrix, k = 20)\n",
    "s_diag_matrix=np.diag(s)\n",
    "X_pred = np.dot(np.dot(u, s_diag_matrix), vt)"
   ]
  },
  {
   "cell_type": "code",
   "execution_count": 91,
   "metadata": {
    "collapsed": true
   },
   "outputs": [],
   "source": [
    "def rmse(prediction, ground_truth):\n",
    "    prediction = prediction[ground_truth.nonzero()].flatten() \n",
    "    ground_truth = ground_truth[ground_truth.nonzero()].flatten()\n",
    "    return sqrt(mean_squared_error(prediction, ground_truth))"
   ]
  },
  {
   "cell_type": "code",
   "execution_count": 93,
   "metadata": {},
   "outputs": [
    {
     "name": "stdout",
     "output_type": "stream",
     "text": [
      "User-based CF MSE: 4.70144464693\n"
     ]
    }
   ],
   "source": [
    "print('User-based CF MSE: ' + str(rmse(X_pred, test_df_matrix)))"
   ]
  },
  {
   "cell_type": "code",
   "execution_count": 96,
   "metadata": {
    "collapsed": true
   },
   "outputs": [],
   "source": [
    "predictions_train_svd = {}\n",
    "predictions_valid_svd = {}\n",
    "for i in xrange(2, 22, 2):\n",
    "    u, s, vt = svds(train_df_matrix, k = i)\n",
    "    s_diag_matrix=np.diag(s)\n",
    "    X_pred = np.dot(np.dot(u, s_diag_matrix), vt)\n",
    "    predictions_train_svd[i] = rmse(X_pred, train_df_matrix)\n",
    "    predictions_valid_svd[i] = rmse(X_pred, validation_df_matrix)"
   ]
  },
  {
   "cell_type": "code",
   "execution_count": 97,
   "metadata": {},
   "outputs": [
    {
     "data": {
      "text/plain": [
       "<matplotlib.legend.Legend at 0x7f158865f750>"
      ]
     },
     "execution_count": 97,
     "metadata": {},
     "output_type": "execute_result"
    },
    {
     "data": {
      "image/png": "[encoded data removed]",
      "text/plain": [
       "<matplotlib.figure.Figure at 0x7f159c18ce50>"
      ]
     },
     "metadata": {},
     "output_type": "display_data"
    }
   ],
   "source": [
    "plt.plot(predictions_train_svd.keys(), predictions_train_svd.values(), color = \"b\", label = \"training error\")\n",
    "plt.plot(predictions_valid_svd.keys(), predictions_valid_svd.values(), color = \"g\", label = \"validation error\")\n",
    "plt.legend()"
   ]
  },
  {
   "cell_type": "code",
   "execution_count": 98,
   "metadata": {
    "collapsed": true
   },
   "outputs": [],
   "source": [
    "u, s, vt = svds(train_df_matrix, k = 4)\n",
    "s_diag_matrix=np.diag(s)\n",
    "X_pred = np.dot(np.dot(u, s_diag_matrix), vt)"
   ]
  },
  {
   "cell_type": "code",
   "execution_count": 99,
   "metadata": {},
   "outputs": [
    {
     "name": "stdout",
     "output_type": "stream",
     "text": [
      "User-based CF MSE: 4.73901831329\n"
     ]
    }
   ],
   "source": [
    "print('User-based CF MSE: ' + str(rmse(X_pred, test_df_matrix)))"
   ]
  },
  {
   "cell_type": "code",
   "execution_count": null,
   "metadata": {
    "collapsed": true
   },
   "outputs": [],
   "source": []
  }
 ],
 "metadata": {
  "kernelspec": {
   "display_name": "Python 2",
   "language": "python",
   "name": "python2"
  },
  "language_info": {
   "codemirror_mode": {
    "name": "ipython",
    "version": 2
   },
   "file_extension": ".py",
   "mimetype": "text/x-python",
   "name": "python",
   "nbconvert_exporter": "python",
   "pygments_lexer": "ipython2",
   "version": "2.7.13"
  }
 },
 "nbformat": 4,
 "nbformat_minor": 2
}
