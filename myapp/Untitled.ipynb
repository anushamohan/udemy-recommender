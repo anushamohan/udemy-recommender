{
 "cells": [
  {
   "cell_type": "code",
   "execution_count": 1,
   "metadata": {
    "collapsed": true
   },
   "outputs": [],
   "source": [
    "from flask import Flask\n",
    "import pandas as pd\n",
    "from flask import (request,\n",
    "                   redirect,\n",
    "                   url_for,\n",
    "                   session,\n",
    "                   render_template)\n",
    "\n",
    "categories = [\"sql\", \"programming\", \"web development\", \"art\"]\n",
    "from popularity import popularity_courses, similar_popular\n",
    "import os\n",
    "\n",
    "app = Flask(__name__)"
   ]
  },
  {
   "cell_type": "code",
   "execution_count": 16,
   "metadata": {
    "collapsed": true
   },
   "outputs": [],
   "source": [
    "import numpy as np"
   ]
  },
  {
   "cell_type": "code",
   "execution_count": 2,
   "metadata": {
    "collapsed": true
   },
   "outputs": [],
   "source": [
    "df = pd.read_csv(\"~/galvanize_notes/project/processed_data.csv\")"
   ]
  },
  {
   "cell_type": "code",
   "execution_count": 5,
   "metadata": {},
   "outputs": [
    {
     "data": {
      "text/plain": [
       "Index([u'Unnamed: 0', u'_class_x', u'content', u'course_id', u'created', u'id',\n",
       "       u'modified', u'rating', u'title_x', u'user', u'userid', u'_class_y',\n",
       "       u'image_125_H', u'image_240x135', u'image_480x270', u'input_features',\n",
       "       u'is_paid', u'is_practice_test_course', u'lecture_search_result',\n",
       "       u'predictive_score', u'price', u'published_title', u'relevancy_score',\n",
       "       u'title_y', u'url', u'visible_instructors', u'user_rating_avg',\n",
       "       u'user_review_count', u'course_review_count', u'course_rating_avg',\n",
       "       u'instructor_name', u'instructor_title', u'new_course_id',\n",
       "       u'new_user_id', u'course_category', u'Unnamed: 35'],\n",
       "      dtype='object')"
      ]
     },
     "execution_count": 5,
     "metadata": {},
     "output_type": "execute_result"
    }
   ],
   "source": [
    "df.columns"
   ]
  },
  {
   "cell_type": "code",
   "execution_count": 13,
   "metadata": {
    "collapsed": true
   },
   "outputs": [],
   "source": [
    "def popularity_courses(df):\n",
    "    cold_users = df[df[\"user_review_count\"] <=2]\n",
    "    grouped_rating = pd.DataFrame(cold_users.groupby('published_title')['rating'].mean())\n",
    "    grouped_rating['num of ratings'] = pd.DataFrame(cold_users.groupby('published_title')['rating'].count())\n",
    "    grouped_rating.sort_values('num of ratings',ascending=False, inplace=True)\n",
    "    grouped_rating.reset_index(inplace=True)\n",
    "    top_courses = grouped_rating[\"published_title\"].head(20)\n",
    "    top_courses = pd.DataFrame(top_courses)\n",
    "    top_courses = pd.merge(top_courses, df[[\"published_title\", \"price\"]], on = \"published_title\")\n",
    "    top_courses.drop_duplicates(inplace=True)\n",
    "    return top_courses"
   ]
  },
  {
   "cell_type": "code",
   "execution_count": 14,
   "metadata": {},
   "outputs": [],
   "source": [
    "top_courses = popularity_courses(df)"
   ]
  },
  {
   "cell_type": "code",
   "execution_count": 15,
   "metadata": {},
   "outputs": [
    {
     "data": {
      "text/html": [
       "<div>\n",
       "<style>\n",
       "    .dataframe thead tr:only-child th {\n",
       "        text-align: right;\n",
       "    }\n",
       "\n",
       "    .dataframe thead th {\n",
       "        text-align: left;\n",
       "    }\n",
       "\n",
       "    .dataframe tbody tr th {\n",
       "        vertical-align: top;\n",
       "    }\n",
       "</style>\n",
       "<table border=\"1\" class=\"dataframe\">\n",
       "  <thead>\n",
       "    <tr style=\"text-align: right;\">\n",
       "      <th></th>\n",
       "      <th>published_title</th>\n",
       "      <th>price</th>\n",
       "    </tr>\n",
       "  </thead>\n",
       "  <tbody>\n",
       "    <tr>\n",
       "      <th>0</th>\n",
       "      <td>the-web-developer-bootcamp</td>\n",
       "      <td>$200</td>\n",
       "    </tr>\n",
       "    <tr>\n",
       "      <th>9092</th>\n",
       "      <td>aws-certified-solutions-architect-associate</td>\n",
       "      <td>$180</td>\n",
       "    </tr>\n",
       "    <tr>\n",
       "      <th>17139</th>\n",
       "      <td>unitycourse</td>\n",
       "      <td>$195</td>\n",
       "    </tr>\n",
       "    <tr>\n",
       "      <th>24674</th>\n",
       "      <td>the-complete-web-developer-course-2</td>\n",
       "      <td>$200</td>\n",
       "    </tr>\n",
       "    <tr>\n",
       "      <th>31684</th>\n",
       "      <td>the-complete-guide-to-angular-2</td>\n",
       "      <td>$190</td>\n",
       "    </tr>\n",
       "    <tr>\n",
       "      <th>37410</th>\n",
       "      <td>reikicourse</td>\n",
       "      <td>$195</td>\n",
       "    </tr>\n",
       "    <tr>\n",
       "      <th>42549</th>\n",
       "      <td>understand-javascript</td>\n",
       "      <td>$175</td>\n",
       "    </tr>\n",
       "    <tr>\n",
       "      <th>48443</th>\n",
       "      <td>selenium-with-c</td>\n",
       "      <td>$200</td>\n",
       "    </tr>\n",
       "    <tr>\n",
       "      <th>52790</th>\n",
       "      <td>java-the-complete-java-developer-course</td>\n",
       "      <td>$195</td>\n",
       "    </tr>\n",
       "    <tr>\n",
       "      <th>57577</th>\n",
       "      <td>complete-python-bootcamp</td>\n",
       "      <td>$195</td>\n",
       "    </tr>\n",
       "    <tr>\n",
       "      <th>62148</th>\n",
       "      <td>unrealcourse</td>\n",
       "      <td>$195</td>\n",
       "    </tr>\n",
       "    <tr>\n",
       "      <th>65814</th>\n",
       "      <td>react-redux</td>\n",
       "      <td>$180</td>\n",
       "    </tr>\n",
       "    <tr>\n",
       "      <th>69867</th>\n",
       "      <td>blendertutorial</td>\n",
       "      <td>$195</td>\n",
       "    </tr>\n",
       "    <tr>\n",
       "      <th>73374</th>\n",
       "      <td>the-ultimate-google-adwords-training-course</td>\n",
       "      <td>$195</td>\n",
       "    </tr>\n",
       "    <tr>\n",
       "      <th>76757</th>\n",
       "      <td>selenium-webdriver-page-objects</td>\n",
       "      <td>$75</td>\n",
       "    </tr>\n",
       "    <tr>\n",
       "      <th>79755</th>\n",
       "      <td>learn-digital-marketing-course</td>\n",
       "      <td>$200</td>\n",
       "    </tr>\n",
       "    <tr>\n",
       "      <th>82874</th>\n",
       "      <td>an-entire-mba-in-1-courseaward-winning-busines...</td>\n",
       "      <td>$200</td>\n",
       "    </tr>\n",
       "    <tr>\n",
       "      <th>85948</th>\n",
       "      <td>learn-angularjs</td>\n",
       "      <td>$175</td>\n",
       "    </tr>\n",
       "    <tr>\n",
       "      <th>89545</th>\n",
       "      <td>machinelearning</td>\n",
       "      <td>$200</td>\n",
       "    </tr>\n",
       "    <tr>\n",
       "      <th>92417</th>\n",
       "      <td>pianoforall-incredible-new-way-to-learn-piano-...</td>\n",
       "      <td>$200</td>\n",
       "    </tr>\n",
       "  </tbody>\n",
       "</table>\n",
       "</div>"
      ],
      "text/plain": [
       "                                         published_title price\n",
       "0                             the-web-developer-bootcamp  $200\n",
       "9092         aws-certified-solutions-architect-associate  $180\n",
       "17139                                        unitycourse  $195\n",
       "24674                the-complete-web-developer-course-2  $200\n",
       "31684                    the-complete-guide-to-angular-2  $190\n",
       "37410                                        reikicourse  $195\n",
       "42549                              understand-javascript  $175\n",
       "48443                                    selenium-with-c  $200\n",
       "52790            java-the-complete-java-developer-course  $195\n",
       "57577                           complete-python-bootcamp  $195\n",
       "62148                                       unrealcourse  $195\n",
       "65814                                        react-redux  $180\n",
       "69867                                    blendertutorial  $195\n",
       "73374        the-ultimate-google-adwords-training-course  $195\n",
       "76757                    selenium-webdriver-page-objects   $75\n",
       "79755                     learn-digital-marketing-course  $200\n",
       "82874  an-entire-mba-in-1-courseaward-winning-busines...  $200\n",
       "85948                                    learn-angularjs  $175\n",
       "89545                                    machinelearning  $200\n",
       "92417  pianoforall-incredible-new-way-to-learn-piano-...  $200"
      ]
     },
     "execution_count": 15,
     "metadata": {},
     "output_type": "execute_result"
    }
   ],
   "source": [
    "top_courses"
   ]
  },
  {
   "cell_type": "code",
   "execution_count": 17,
   "metadata": {
    "collapsed": true
   },
   "outputs": [],
   "source": [
    "course = np.random.choice(top_courses[\"published_title\"].unique(), 1)"
   ]
  },
  {
   "cell_type": "code",
   "execution_count": 27,
   "metadata": {
    "collapsed": true
   },
   "outputs": [],
   "source": [
    "def similar_popular(topic, df):\n",
    "    if topic not in popularity_courses(df)[\"published_title\"].unique():\n",
    "        return \"please enter a valid course name from the table above\"\n",
    "    cold_users = df[df[\"user_review_count\"] <=2]\n",
    "    grouped_rating = pd.DataFrame(cold_users.groupby('published_title')['rating'].mean())\n",
    "    grouped_rating['num of ratings'] = pd.DataFrame(cold_users.groupby('published_title')['rating'].count())\n",
    "    course_mat = cold_users.pivot_table(index='userid',columns='published_title',values='rating')\n",
    "    topic_user_ratings = course_mat[topic]\n",
    "    similar_to_topic = course_mat.corrwith(topic_user_ratings)\n",
    "    corr_topic = pd.DataFrame(similar_to_topic,columns=['correlation'])\n",
    "    corr_topic.dropna(inplace=True)\n",
    "    corr_topic.sort_values('correlation',ascending=False, inplace=True)\n",
    "    \n",
    "    corr_topic= corr_topic.join(grouped_rating['num of ratings'])\n",
    "    corr_topic.reset_index(inplace=True)\n",
    "    similar_topic = corr_topic[corr_topic['num of ratings']>100].sort_values('correlation',ascending=False).head()\n",
    "    similar_topic = pd.DataFrame(similar_topic)\n",
    "    similar_topic = pd.merge(similar_topic, df[[\"published_title\", \"price\"]], on = \"published_title\")\n",
    "    similar_topic.drop_duplicates(inplace=True)\n",
    "    return similar_topic[[\"published_title\", \"price\"]]\n",
    "    \n"
   ]
  },
  {
   "cell_type": "code",
   "execution_count": 28,
   "metadata": {},
   "outputs": [
    {
     "data": {
      "text/html": [
       "<div>\n",
       "<style>\n",
       "    .dataframe thead tr:only-child th {\n",
       "        text-align: right;\n",
       "    }\n",
       "\n",
       "    .dataframe thead th {\n",
       "        text-align: left;\n",
       "    }\n",
       "\n",
       "    .dataframe tbody tr th {\n",
       "        vertical-align: top;\n",
       "    }\n",
       "</style>\n",
       "<table border=\"1\" class=\"dataframe\">\n",
       "  <thead>\n",
       "    <tr style=\"text-align: right;\">\n",
       "      <th></th>\n",
       "      <th>published_title</th>\n",
       "      <th>price</th>\n",
       "    </tr>\n",
       "  </thead>\n",
       "  <tbody>\n",
       "    <tr>\n",
       "      <th>0</th>\n",
       "      <td>selenium-webdriver-page-objects</td>\n",
       "      <td>$75</td>\n",
       "    </tr>\n",
       "  </tbody>\n",
       "</table>\n",
       "</div>"
      ],
      "text/plain": [
       "                   published_title price\n",
       "0  selenium-webdriver-page-objects   $75"
      ]
     },
     "execution_count": 28,
     "metadata": {},
     "output_type": "execute_result"
    }
   ],
   "source": [
    "similar_popular(course, df)"
   ]
  },
  {
   "cell_type": "code",
   "execution_count": 30,
   "metadata": {},
   "outputs": [
    {
     "data": {
      "text/plain": [
       "15"
      ]
     },
     "execution_count": 30,
     "metadata": {},
     "output_type": "execute_result"
    }
   ],
   "source": [
    "len(df[\"course_category\"].unique())"
   ]
  },
  {
   "cell_type": "code",
   "execution_count": 33,
   "metadata": {
    "collapsed": true
   },
   "outputs": [],
   "source": [
    "category = np.random.choice(df[\"course_category\"].unique(), 1)"
   ]
  },
  {
   "cell_type": "code",
   "execution_count": 35,
   "metadata": {},
   "outputs": [
    {
     "data": {
      "text/plain": [
       "'math'"
      ]
     },
     "execution_count": 35,
     "metadata": {},
     "output_type": "execute_result"
    }
   ],
   "source": [
    "category[0]"
   ]
  },
  {
   "cell_type": "code",
   "execution_count": 40,
   "metadata": {},
   "outputs": [
    {
     "name": "stdout",
     "output_type": "stream",
     "text": [
      "        published_title    rating  num of ratings\n",
      "0  integralcalc-algebra  4.653846             143\n",
      "1             calculus1  4.694175             103\n"
     ]
    }
   ],
   "source": [
    "catIwant = df[df[\"course_category\"] == category[0]]\n",
    "grouped_cat = pd.DataFrame(catIwant.groupby('published_title')['rating'].mean())\n",
    "grouped_cat['num of ratings'] = pd.DataFrame(catIwant.groupby('published_title')['rating'].count())\n",
    "grouped_cat.sort_values('num of ratings',ascending=False, inplace=True)\n",
    "grouped_cat.reset_index(inplace=True)\n",
    "print grouped_cat\n",
    "grouped_cat = grouped_cat[\"published_title\"].head(10)\n",
    "top_courses = pd.DataFrame(grouped_cat)\n",
    "top_courses = pd.merge(top_courses, df[[\"published_title\", \"price\"]], on = \"published_title\")\n",
    "top_courses.drop_duplicates(inplace=True)\n"
   ]
  },
  {
   "cell_type": "code",
   "execution_count": 49,
   "metadata": {},
   "outputs": [
    {
     "data": {
      "text/plain": [
       "'math'"
      ]
     },
     "execution_count": 49,
     "metadata": {},
     "output_type": "execute_result"
    }
   ],
   "source": [
    "category[0]"
   ]
  },
  {
   "cell_type": "code",
   "execution_count": 69,
   "metadata": {
    "collapsed": true
   },
   "outputs": [],
   "source": [
    "def category_courses(category, df):\n",
    "    catIwant = df[df[\"course_category\"] == category[0]]\n",
    "    grouped_cat = pd.DataFrame(catIwant.groupby('published_title')['rating'].mean())\n",
    "    grouped_cat['num of ratings'] = pd.DataFrame(catIwant.groupby('published_title')['rating'].count())\n",
    "    grouped_cat.sort_values('num of ratings',ascending=False, inplace=True)\n",
    "    grouped_cat.reset_index(inplace=True)\n",
    "    #grouped_cat = grouped_cat[\"published_title\"].head(10)\n",
    "    #cat_courses = pd.DataFrame(grouped_cat)\n",
    "    cat_courses = pd.merge(grouped_cat, df[[\"published_title\", \"price\"]], on = \"published_title\")\n",
    "    cat_courses.drop_duplicates(inplace=True)\n",
    "    return cat_courses[[\"published_title\", \"price\"]].head(10)"
   ]
  },
  {
   "cell_type": "code",
   "execution_count": 70,
   "metadata": {},
   "outputs": [
    {
     "data": {
      "text/html": [
       "<div>\n",
       "<style>\n",
       "    .dataframe thead tr:only-child th {\n",
       "        text-align: right;\n",
       "    }\n",
       "\n",
       "    .dataframe thead th {\n",
       "        text-align: left;\n",
       "    }\n",
       "\n",
       "    .dataframe tbody tr th {\n",
       "        vertical-align: top;\n",
       "    }\n",
       "</style>\n",
       "<table border=\"1\" class=\"dataframe\">\n",
       "  <thead>\n",
       "    <tr style=\"text-align: right;\">\n",
       "      <th></th>\n",
       "      <th>published_title</th>\n",
       "      <th>price</th>\n",
       "    </tr>\n",
       "  </thead>\n",
       "  <tbody>\n",
       "    <tr>\n",
       "      <th>0</th>\n",
       "      <td>integralcalc-algebra</td>\n",
       "      <td>$100</td>\n",
       "    </tr>\n",
       "    <tr>\n",
       "      <th>143</th>\n",
       "      <td>calculus1</td>\n",
       "      <td>$150</td>\n",
       "    </tr>\n",
       "  </tbody>\n",
       "</table>\n",
       "</div>"
      ],
      "text/plain": [
       "          published_title price\n",
       "0    integralcalc-algebra  $100\n",
       "143             calculus1  $150"
      ]
     },
     "execution_count": 70,
     "metadata": {},
     "output_type": "execute_result"
    }
   ],
   "source": [
    "category_courses(category, df)"
   ]
  },
  {
   "cell_type": "code",
   "execution_count": 50,
   "metadata": {
    "collapsed": true
   },
   "outputs": [],
   "source": [
    "catIwant = df[df[\"course_category\"] == category[0]]"
   ]
  },
  {
   "cell_type": "code",
   "execution_count": 53,
   "metadata": {},
   "outputs": [],
   "source": [
    "grouped_cat = pd.DataFrame(catIwant.groupby('published_title')['rating'].mean())"
   ]
  },
  {
   "cell_type": "code",
   "execution_count": 54,
   "metadata": {
    "collapsed": true
   },
   "outputs": [],
   "source": [
    "grouped_cat['num of ratings'] = pd.DataFrame(catIwant.groupby('published_title')['rating'].count())"
   ]
  },
  {
   "cell_type": "code",
   "execution_count": 56,
   "metadata": {},
   "outputs": [],
   "source": [
    "grouped_cat.sort_values('num of ratings',ascending=False, inplace=True)"
   ]
  },
  {
   "cell_type": "code",
   "execution_count": 58,
   "metadata": {},
   "outputs": [],
   "source": [
    "grouped_cat.reset_index(inplace=True)"
   ]
  },
  {
   "cell_type": "code",
   "execution_count": 62,
   "metadata": {},
   "outputs": [],
   "source": [
    "cat_courses = pd.DataFrame(grouped_cat)"
   ]
  },
  {
   "cell_type": "code",
   "execution_count": 64,
   "metadata": {},
   "outputs": [
    {
     "data": {
      "text/html": [
       "<div>\n",
       "<style>\n",
       "    .dataframe thead tr:only-child th {\n",
       "        text-align: right;\n",
       "    }\n",
       "\n",
       "    .dataframe thead th {\n",
       "        text-align: left;\n",
       "    }\n",
       "\n",
       "    .dataframe tbody tr th {\n",
       "        vertical-align: top;\n",
       "    }\n",
       "</style>\n",
       "<table border=\"1\" class=\"dataframe\">\n",
       "  <thead>\n",
       "    <tr style=\"text-align: right;\">\n",
       "      <th></th>\n",
       "      <th>published_title</th>\n",
       "      <th>rating</th>\n",
       "      <th>num of ratings</th>\n",
       "    </tr>\n",
       "  </thead>\n",
       "  <tbody>\n",
       "    <tr>\n",
       "      <th>0</th>\n",
       "      <td>integralcalc-algebra</td>\n",
       "      <td>4.653846</td>\n",
       "      <td>143</td>\n",
       "    </tr>\n",
       "    <tr>\n",
       "      <th>1</th>\n",
       "      <td>calculus1</td>\n",
       "      <td>4.694175</td>\n",
       "      <td>103</td>\n",
       "    </tr>\n",
       "  </tbody>\n",
       "</table>\n",
       "</div>"
      ],
      "text/plain": [
       "        published_title    rating  num of ratings\n",
       "0  integralcalc-algebra  4.653846             143\n",
       "1             calculus1  4.694175             103"
      ]
     },
     "execution_count": 64,
     "metadata": {},
     "output_type": "execute_result"
    }
   ],
   "source": [
    "grouped_cat"
   ]
  },
  {
   "cell_type": "code",
   "execution_count": 73,
   "metadata": {},
   "outputs": [],
   "source": [
    "cat_course = category_courses(category, df)\n",
    "cat_course.columns = [\"Top courses\", \"price\"]"
   ]
  },
  {
   "cell_type": "code",
   "execution_count": 74,
   "metadata": {},
   "outputs": [
    {
     "data": {
      "text/html": [
       "<div>\n",
       "<style>\n",
       "    .dataframe thead tr:only-child th {\n",
       "        text-align: right;\n",
       "    }\n",
       "\n",
       "    .dataframe thead th {\n",
       "        text-align: left;\n",
       "    }\n",
       "\n",
       "    .dataframe tbody tr th {\n",
       "        vertical-align: top;\n",
       "    }\n",
       "</style>\n",
       "<table border=\"1\" class=\"dataframe\">\n",
       "  <thead>\n",
       "    <tr style=\"text-align: right;\">\n",
       "      <th></th>\n",
       "      <th>Top courses</th>\n",
       "      <th>price</th>\n",
       "    </tr>\n",
       "  </thead>\n",
       "  <tbody>\n",
       "    <tr>\n",
       "      <th>0</th>\n",
       "      <td>integralcalc-algebra</td>\n",
       "      <td>$100</td>\n",
       "    </tr>\n",
       "    <tr>\n",
       "      <th>143</th>\n",
       "      <td>calculus1</td>\n",
       "      <td>$150</td>\n",
       "    </tr>\n",
       "  </tbody>\n",
       "</table>\n",
       "</div>"
      ],
      "text/plain": [
       "              Top courses price\n",
       "0    integralcalc-algebra  $100\n",
       "143             calculus1  $150"
      ]
     },
     "execution_count": 74,
     "metadata": {},
     "output_type": "execute_result"
    }
   ],
   "source": [
    "cat_course"
   ]
  },
  {
   "cell_type": "code",
   "execution_count": 80,
   "metadata": {
    "collapsed": true
   },
   "outputs": [],
   "source": [
    "def category_courses(category, df):\n",
    "    catIwant = df[df[\"course_category\"] == category]\n",
    "    grouped_cat = pd.DataFrame(catIwant.groupby('published_title')['rating'].mean())\n",
    "    grouped_cat['num of ratings'] = pd.DataFrame(catIwant.groupby('published_title')['rating'].count())\n",
    "    grouped_cat.sort_values('num of ratings',ascending=False, inplace=True)\n",
    "    grouped_cat.reset_index(inplace=True)\n",
    "    grouped_cat = grouped_cat[\"published_title\"].head(10)\n",
    "    cat_courses = pd.DataFrame(grouped_cat)\n",
    "    cat_courses = pd.merge(cat_courses, df[[\"published_title\", \"price\"]], on = \"published_title\")\n",
    "    cat_courses.drop_duplicates(inplace=True)\n",
    "    return cat_courses[[\"published_title\", \"price\"]].head(10)"
   ]
  },
  {
   "cell_type": "code",
   "execution_count": 85,
   "metadata": {},
   "outputs": [
    {
     "data": {
      "text/plain": [
       "pandas.core.frame.DataFrame"
      ]
     },
     "execution_count": 85,
     "metadata": {},
     "output_type": "execute_result"
    }
   ],
   "source": [
    "type(category_courses(\"sql\", df))"
   ]
  },
  {
   "cell_type": "code",
   "execution_count": 78,
   "metadata": {},
   "outputs": [
    {
     "data": {
      "text/plain": [
       "array(['web development', 'programming', 'sql', 'other', 'art',\n",
       "       'data science', 'information technology',\n",
       "       'software development / mobile application', 'business', 'adobe',\n",
       "       'excel', 'math', 'writing', 'accounting', 'language'], dtype=object)"
      ]
     },
     "execution_count": 78,
     "metadata": {},
     "output_type": "execute_result"
    }
   ],
   "source": [
    "df[\"course_category\"].unique()"
   ]
  },
  {
   "cell_type": "code",
   "execution_count": null,
   "metadata": {
    "collapsed": true
   },
   "outputs": [],
   "source": []
  }
 ],
 "metadata": {
  "kernelspec": {
   "display_name": "Python 2",
   "language": "python",
   "name": "python2"
  },
  "language_info": {
   "codemirror_mode": {
    "name": "ipython",
    "version": 2
   },
   "file_extension": ".py",
   "mimetype": "text/x-python",
   "name": "python",
   "nbconvert_exporter": "python",
   "pygments_lexer": "ipython2",
   "version": "2.7.13"
  }
 },
 "nbformat": 4,
 "nbformat_minor": 2
}
