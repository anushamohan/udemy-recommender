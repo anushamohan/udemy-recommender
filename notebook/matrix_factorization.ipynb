{
 "cells": [
  {
   "cell_type": "code",
   "execution_count": 1,
   "metadata": {},
   "outputs": [
    {
     "name": "stderr",
     "output_type": "stream",
     "text": [
      "/home/anusha/anaconda2/lib/python2.7/site-packages/sklearn/cross_validation.py:44: DeprecationWarning: This module was deprecated in version 0.18 in favor of the model_selection module into which all the refactored classes and functions are moved. Also note that the interface of the new CV iterators are different from that of this module. This module will be removed in 0.20.\n",
      "  \"This module will be removed in 0.20.\", DeprecationWarning)\n"
     ]
    }
   ],
   "source": [
    "import numpy as np\n",
    "import pandas as pd\n",
    "import matplotlib.pyplot as plt\n",
    "import scipy.sparse as sp\n",
    "from time import time\n",
    "from sklearn.metrics import mean_squared_error\n",
    "from sklearn.metrics.pairwise import pairwise_distances\n",
    "from scipy.stats.stats import pearsonr\n",
    "import graphlab\n",
    "from sklearn.cross_validation import train_test_split\n",
    "from math import sqrt\n",
    "import scipy.sparse as sp\n",
    "from scipy.sparse.linalg import svds\n",
    "%matplotlib inline"
   ]
  },
  {
   "cell_type": "code",
   "execution_count": 2,
   "metadata": {},
   "outputs": [
    {
     "name": "stdout",
     "output_type": "stream",
     "text": [
      "This non-commercial license of GraphLab Create for academic use is assigned to anushadevimohan@gmail.com and will expire on July 27, 2018.\n"
     ]
    },
    {
     "name": "stderr",
     "output_type": "stream",
     "text": [
      "[INFO] graphlab.cython.cy_server: GraphLab Create v2.1 started. Logging: /tmp/graphlab_server_1504546205.log\n",
      "Using TensorFlow backend.\n"
     ]
    }
   ],
   "source": [
    "from pattern.vector import stem, PORTER, LEMMA\n",
    "punctuation = list(\".,;:!?()[]{}`'\\\"@#$^&*+-|=~_\")\n",
    "from mrjob.job import MRJob\n",
    "from collections import Counter, defaultdict\n",
    "import nltk\n",
    "from sklearn.feature_extraction.text import CountVectorizer\n",
    "from sklearn.feature_extraction.text import TfidfTransformer\n",
    "import gensim\n",
    "import string\n",
    "from nltk.corpus import stopwords\n",
    "from nltk.stem.wordnet import WordNetLemmatizer\n",
    "import string\n",
    "from gensim import corpora\n",
    "from sklearn.utils import shuffle"
   ]
  },
  {
   "cell_type": "code",
   "execution_count": 3,
   "metadata": {
    "collapsed": true
   },
   "outputs": [],
   "source": [
    "df = pd.read_csv(\"processed_data.csv\")"
   ]
  },
  {
   "cell_type": "code",
   "execution_count": 4,
   "metadata": {},
   "outputs": [
    {
     "data": {
      "text/plain": [
       "(47583, 36)"
      ]
     },
     "execution_count": 4,
     "metadata": {},
     "output_type": "execute_result"
    }
   ],
   "source": [
    "reg = df[df[\"user_review_count\"] > 2]\n",
    "reg.shape"
   ]
  },
  {
   "cell_type": "code",
   "execution_count": 5,
   "metadata": {
    "collapsed": true
   },
   "outputs": [],
   "source": [
    "n_users = reg.userid.nunique()\n",
    "n_items = reg.course_id.nunique()"
   ]
  },
  {
   "cell_type": "code",
   "execution_count": 6,
   "metadata": {
    "collapsed": true
   },
   "outputs": [],
   "source": [
    "train_df = pd.read_csv(\"train.csv\")\n",
    "test_df = pd.read_csv(\"test.csv\")\n",
    "validate_df = pd.read_csv(\"validation.csv\")"
   ]
  },
  {
   "cell_type": "code",
   "execution_count": 7,
   "metadata": {
    "collapsed": true
   },
   "outputs": [],
   "source": [
    "train_df = train_df[[\"new_course_id\", \"new_user_id\", \"rating\"]]\n",
    "validate_df = validate_df[[\"new_course_id\", \"new_user_id\", \"rating\"]]\n",
    "test_df = test_df[[\"new_course_id\", \"new_user_id\", \"rating\"]]"
   ]
  },
  {
   "cell_type": "code",
   "execution_count": 8,
   "metadata": {
    "collapsed": true
   },
   "outputs": [],
   "source": [
    "sf_train = graphlab.SFrame(train_df)\n",
    "sf_validation = graphlab.SFrame(validate_df)\n",
    "sf_test = graphlab.SFrame(test_df)"
   ]
  },
  {
   "cell_type": "code",
   "execution_count": 9,
   "metadata": {},
   "outputs": [
    {
     "data": {
      "text/html": [
       "<pre>Recsys training: model = factorization_recommender</pre>"
      ],
      "text/plain": [
       "Recsys training: model = factorization_recommender"
      ]
     },
     "metadata": {},
     "output_type": "display_data"
    },
    {
     "data": {
      "text/html": [
       "<pre>Preparing data set.</pre>"
      ],
      "text/plain": [
       "Preparing data set."
      ]
     },
     "metadata": {},
     "output_type": "display_data"
    },
    {
     "data": {
      "text/html": [
       "<pre>    Data has 24756 observations with 12294 users and 894 items.</pre>"
      ],
      "text/plain": [
       "    Data has 24756 observations with 12294 users and 894 items."
      ]
     },
     "metadata": {},
     "output_type": "display_data"
    },
    {
     "data": {
      "text/html": [
       "<pre>    Data prepared in: 0.033825s</pre>"
      ],
      "text/plain": [
       "    Data prepared in: 0.033825s"
      ]
     },
     "metadata": {},
     "output_type": "display_data"
    },
    {
     "data": {
      "text/html": [
       "<pre>Training factorization_recommender for recommendations.</pre>"
      ],
      "text/plain": [
       "Training factorization_recommender for recommendations."
      ]
     },
     "metadata": {},
     "output_type": "display_data"
    },
    {
     "data": {
      "text/html": [
       "<pre>+------------------------------+--------------------------------------------------+----------+</pre>"
      ],
      "text/plain": [
       "+------------------------------+--------------------------------------------------+----------+"
      ]
     },
     "metadata": {},
     "output_type": "display_data"
    },
    {
     "data": {
      "text/html": [
       "<pre>| Parameter                    | Description                                      | Value    |</pre>"
      ],
      "text/plain": [
       "| Parameter                    | Description                                      | Value    |"
      ]
     },
     "metadata": {},
     "output_type": "display_data"
    },
    {
     "data": {
      "text/html": [
       "<pre>+------------------------------+--------------------------------------------------+----------+</pre>"
      ],
      "text/plain": [
       "+------------------------------+--------------------------------------------------+----------+"
      ]
     },
     "metadata": {},
     "output_type": "display_data"
    },
    {
     "data": {
      "text/html": [
       "<pre>| num_factors                  | Factor Dimension                                 | 4        |</pre>"
      ],
      "text/plain": [
       "| num_factors                  | Factor Dimension                                 | 4        |"
      ]
     },
     "metadata": {},
     "output_type": "display_data"
    },
    {
     "data": {
      "text/html": [
       "<pre>| regularization               | L2 Regularization on Factors                     | 1e-08    |</pre>"
      ],
      "text/plain": [
       "| regularization               | L2 Regularization on Factors                     | 1e-08    |"
      ]
     },
     "metadata": {},
     "output_type": "display_data"
    },
    {
     "data": {
      "text/html": [
       "<pre>| max_iterations               | Maximum Number of Iterations                     | 50       |</pre>"
      ],
      "text/plain": [
       "| max_iterations               | Maximum Number of Iterations                     | 50       |"
      ]
     },
     "metadata": {},
     "output_type": "display_data"
    },
    {
     "data": {
      "text/html": [
       "<pre>| solver                       | Solver used for training                         | als      |</pre>"
      ],
      "text/plain": [
       "| solver                       | Solver used for training                         | als      |"
      ]
     },
     "metadata": {},
     "output_type": "display_data"
    },
    {
     "data": {
      "text/html": [
       "<pre>+------------------------------+--------------------------------------------------+----------+</pre>"
      ],
      "text/plain": [
       "+------------------------------+--------------------------------------------------+----------+"
      ]
     },
     "metadata": {},
     "output_type": "display_data"
    },
    {
     "data": {
      "text/html": [
       "<pre>+---------+--------------+------------------------+</pre>"
      ],
      "text/plain": [
       "+---------+--------------+------------------------+"
      ]
     },
     "metadata": {},
     "output_type": "display_data"
    },
    {
     "data": {
      "text/html": [
       "<pre>| Iter.   | Elapsed time | RMSE                   |</pre>"
      ],
      "text/plain": [
       "| Iter.   | Elapsed time | RMSE                   |"
      ]
     },
     "metadata": {},
     "output_type": "display_data"
    },
    {
     "data": {
      "text/html": [
       "<pre>+---------+--------------+------------------------+</pre>"
      ],
      "text/plain": [
       "+---------+--------------+------------------------+"
      ]
     },
     "metadata": {},
     "output_type": "display_data"
    },
    {
     "data": {
      "text/html": [
       "<pre>| Initial | 75us         | NA                     |</pre>"
      ],
      "text/plain": [
       "| Initial | 75us         | NA                     |"
      ]
     },
     "metadata": {},
     "output_type": "display_data"
    },
    {
     "data": {
      "text/html": [
       "<pre>+---------+--------------+------------------------+</pre>"
      ],
      "text/plain": [
       "+---------+--------------+------------------------+"
      ]
     },
     "metadata": {},
     "output_type": "display_data"
    },
    {
     "data": {
      "text/html": [
       "<pre>| 0       | 39.083ms     | 0.285221               |</pre>"
      ],
      "text/plain": [
       "| 0       | 39.083ms     | 0.285221               |"
      ]
     },
     "metadata": {},
     "output_type": "display_data"
    },
    {
     "data": {
      "text/html": [
       "<pre>| 1       | 48.849ms     | 0.0775431              |</pre>"
      ],
      "text/plain": [
       "| 1       | 48.849ms     | 0.0775431              |"
      ]
     },
     "metadata": {},
     "output_type": "display_data"
    },
    {
     "data": {
      "text/html": [
       "<pre>| 2       | 84.732ms     | 0.0680248              |</pre>"
      ],
      "text/plain": [
       "| 2       | 84.732ms     | 0.0680248              |"
      ]
     },
     "metadata": {},
     "output_type": "display_data"
    },
    {
     "data": {
      "text/html": [
       "<pre>| 3       | 99.749ms     | 0.0623174              |</pre>"
      ],
      "text/plain": [
       "| 3       | 99.749ms     | 0.0623174              |"
      ]
     },
     "metadata": {},
     "output_type": "display_data"
    },
    {
     "data": {
      "text/html": [
       "<pre>| 4       | 127.248ms    | 0.0585538              |</pre>"
      ],
      "text/plain": [
       "| 4       | 127.248ms    | 0.0585538              |"
      ]
     },
     "metadata": {},
     "output_type": "display_data"
    },
    {
     "data": {
      "text/html": [
       "<pre>| 5       | 158.354ms    | 0.0558004              |</pre>"
      ],
      "text/plain": [
       "| 5       | 158.354ms    | 0.0558004              |"
      ]
     },
     "metadata": {},
     "output_type": "display_data"
    },
    {
     "data": {
      "text/html": [
       "<pre>| 6       | 177.799ms    | 0.0535762              |</pre>"
      ],
      "text/plain": [
       "| 6       | 177.799ms    | 0.0535762              |"
      ]
     },
     "metadata": {},
     "output_type": "display_data"
    },
    {
     "data": {
      "text/html": [
       "<pre>| 7       | 193.5ms      | 0.0514471              |</pre>"
      ],
      "text/plain": [
       "| 7       | 193.5ms      | 0.0514471              |"
      ]
     },
     "metadata": {},
     "output_type": "display_data"
    },
    {
     "data": {
      "text/html": [
       "<pre>| 8       | 215.762ms    | 0.0495568              |</pre>"
      ],
      "text/plain": [
       "| 8       | 215.762ms    | 0.0495568              |"
      ]
     },
     "metadata": {},
     "output_type": "display_data"
    },
    {
     "data": {
      "text/html": [
       "<pre>| 9       | 239.763ms    | 0.0481039              |</pre>"
      ],
      "text/plain": [
       "| 9       | 239.763ms    | 0.0481039              |"
      ]
     },
     "metadata": {},
     "output_type": "display_data"
    },
    {
     "data": {
      "text/html": [
       "<pre>| 10      | 267.264ms    | 0.0469125              |</pre>"
      ],
      "text/plain": [
       "| 10      | 267.264ms    | 0.0469125              |"
      ]
     },
     "metadata": {},
     "output_type": "display_data"
    },
    {
     "data": {
      "text/html": [
       "<pre>| 11      | 297.594ms    | 0.0458987              |</pre>"
      ],
      "text/plain": [
       "| 11      | 297.594ms    | 0.0458987              |"
      ]
     },
     "metadata": {},
     "output_type": "display_data"
    },
    {
     "data": {
      "text/html": [
       "<pre>| 12      | 319.566ms    | 0.0450104              |</pre>"
      ],
      "text/plain": [
       "| 12      | 319.566ms    | 0.0450104              |"
      ]
     },
     "metadata": {},
     "output_type": "display_data"
    },
    {
     "data": {
      "text/html": [
       "<pre>| 13      | 339.53ms     | 0.0442184              |</pre>"
      ],
      "text/plain": [
       "| 13      | 339.53ms     | 0.0442184              |"
      ]
     },
     "metadata": {},
     "output_type": "display_data"
    },
    {
     "data": {
      "text/html": [
       "<pre>| 14      | 358.066ms    | 0.0435007              |</pre>"
      ],
      "text/plain": [
       "| 14      | 358.066ms    | 0.0435007              |"
      ]
     },
     "metadata": {},
     "output_type": "display_data"
    },
    {
     "data": {
      "text/html": [
       "<pre>| 15      | 385.51ms     | 0.0428381              |</pre>"
      ],
      "text/plain": [
       "| 15      | 385.51ms     | 0.0428381              |"
      ]
     },
     "metadata": {},
     "output_type": "display_data"
    },
    {
     "data": {
      "text/html": [
       "<pre>| 16      | 413.787ms    | 0.0422151              |</pre>"
      ],
      "text/plain": [
       "| 16      | 413.787ms    | 0.0422151              |"
      ]
     },
     "metadata": {},
     "output_type": "display_data"
    },
    {
     "data": {
      "text/html": [
       "<pre>| 17      | 440.648ms    | 0.0416332              |</pre>"
      ],
      "text/plain": [
       "| 17      | 440.648ms    | 0.0416332              |"
      ]
     },
     "metadata": {},
     "output_type": "display_data"
    },
    {
     "data": {
      "text/html": [
       "<pre>| 18      | 467.767ms    | 0.0410789              |</pre>"
      ],
      "text/plain": [
       "| 18      | 467.767ms    | 0.0410789              |"
      ]
     },
     "metadata": {},
     "output_type": "display_data"
    },
    {
     "data": {
      "text/html": [
       "<pre>| 19      | 495.255ms    | 0.0405381              |</pre>"
      ],
      "text/plain": [
       "| 19      | 495.255ms    | 0.0405381              |"
      ]
     },
     "metadata": {},
     "output_type": "display_data"
    },
    {
     "data": {
      "text/html": [
       "<pre>| 20      | 527.988ms    | 0.0399978              |</pre>"
      ],
      "text/plain": [
       "| 20      | 527.988ms    | 0.0399978              |"
      ]
     },
     "metadata": {},
     "output_type": "display_data"
    },
    {
     "data": {
      "text/html": [
       "<pre>| 21      | 541.125ms    | 0.0394473              |</pre>"
      ],
      "text/plain": [
       "| 21      | 541.125ms    | 0.0394473              |"
      ]
     },
     "metadata": {},
     "output_type": "display_data"
    },
    {
     "data": {
      "text/html": [
       "<pre>| 22      | 574.993ms    | 0.0388857              |</pre>"
      ],
      "text/plain": [
       "| 22      | 574.993ms    | 0.0388857              |"
      ]
     },
     "metadata": {},
     "output_type": "display_data"
    },
    {
     "data": {
      "text/html": [
       "<pre>| 23      | 594.168ms    | 0.0383426              |</pre>"
      ],
      "text/plain": [
       "| 23      | 594.168ms    | 0.0383426              |"
      ]
     },
     "metadata": {},
     "output_type": "display_data"
    },
    {
     "data": {
      "text/html": [
       "<pre>| 24      | 619.264ms    | 0.0378688              |</pre>"
      ],
      "text/plain": [
       "| 24      | 619.264ms    | 0.0378688              |"
      ]
     },
     "metadata": {},
     "output_type": "display_data"
    },
    {
     "data": {
      "text/html": [
       "<pre>| 25      | 634.196ms    | 0.0374748              |</pre>"
      ],
      "text/plain": [
       "| 25      | 634.196ms    | 0.0374748              |"
      ]
     },
     "metadata": {},
     "output_type": "display_data"
    },
    {
     "data": {
      "text/html": [
       "<pre>| 26      | 654.702ms    | 0.0371316              |</pre>"
      ],
      "text/plain": [
       "| 26      | 654.702ms    | 0.0371316              |"
      ]
     },
     "metadata": {},
     "output_type": "display_data"
    },
    {
     "data": {
      "text/html": [
       "<pre>| 27      | 669.588ms    | 0.0368155              |</pre>"
      ],
      "text/plain": [
       "| 27      | 669.588ms    | 0.0368155              |"
      ]
     },
     "metadata": {},
     "output_type": "display_data"
    },
    {
     "data": {
      "text/html": [
       "<pre>| 28      | 692.307ms    | 0.0365155              |</pre>"
      ],
      "text/plain": [
       "| 28      | 692.307ms    | 0.0365155              |"
      ]
     },
     "metadata": {},
     "output_type": "display_data"
    },
    {
     "data": {
      "text/html": [
       "<pre>| 29      | 712.005ms    | 0.0362264              |</pre>"
      ],
      "text/plain": [
       "| 29      | 712.005ms    | 0.0362264              |"
      ]
     },
     "metadata": {},
     "output_type": "display_data"
    },
    {
     "data": {
      "text/html": [
       "<pre>| 30      | 730.313ms    | 0.0359443              |</pre>"
      ],
      "text/plain": [
       "| 30      | 730.313ms    | 0.0359443              |"
      ]
     },
     "metadata": {},
     "output_type": "display_data"
    },
    {
     "data": {
      "text/html": [
       "<pre>| 31      | 754.734ms    | 0.0356668              |</pre>"
      ],
      "text/plain": [
       "| 31      | 754.734ms    | 0.0356668              |"
      ]
     },
     "metadata": {},
     "output_type": "display_data"
    },
    {
     "data": {
      "text/html": [
       "<pre>| 32      | 774.838ms    | 0.0353926              |</pre>"
      ],
      "text/plain": [
       "| 32      | 774.838ms    | 0.0353926              |"
      ]
     },
     "metadata": {},
     "output_type": "display_data"
    },
    {
     "data": {
      "text/html": [
       "<pre>| 33      | 790.959ms    | 0.0351239              |</pre>"
      ],
      "text/plain": [
       "| 33      | 790.959ms    | 0.0351239              |"
      ]
     },
     "metadata": {},
     "output_type": "display_data"
    },
    {
     "data": {
      "text/html": [
       "<pre>| 34      | 812.498ms    | 0.0348629              |</pre>"
      ],
      "text/plain": [
       "| 34      | 812.498ms    | 0.0348629              |"
      ]
     },
     "metadata": {},
     "output_type": "display_data"
    },
    {
     "data": {
      "text/html": [
       "<pre>| 35      | 832.119ms    | 0.0346109              |</pre>"
      ],
      "text/plain": [
       "| 35      | 832.119ms    | 0.0346109              |"
      ]
     },
     "metadata": {},
     "output_type": "display_data"
    },
    {
     "data": {
      "text/html": [
       "<pre>| 36      | 854.399ms    | 0.0343664              |</pre>"
      ],
      "text/plain": [
       "| 36      | 854.399ms    | 0.0343664              |"
      ]
     },
     "metadata": {},
     "output_type": "display_data"
    },
    {
     "data": {
      "text/html": [
       "<pre>| 37      | 884.892ms    | 0.0341281              |</pre>"
      ],
      "text/plain": [
       "| 37      | 884.892ms    | 0.0341281              |"
      ]
     },
     "metadata": {},
     "output_type": "display_data"
    },
    {
     "data": {
      "text/html": [
       "<pre>| 38      | 907.62ms     | 0.0338948              |</pre>"
      ],
      "text/plain": [
       "| 38      | 907.62ms     | 0.0338948              |"
      ]
     },
     "metadata": {},
     "output_type": "display_data"
    },
    {
     "data": {
      "text/html": [
       "<pre>| 39      | 932.689ms    | 0.0336661              |</pre>"
      ],
      "text/plain": [
       "| 39      | 932.689ms    | 0.0336661              |"
      ]
     },
     "metadata": {},
     "output_type": "display_data"
    },
    {
     "data": {
      "text/html": [
       "<pre>| 40      | 945.96ms     | 0.033442               |</pre>"
      ],
      "text/plain": [
       "| 40      | 945.96ms     | 0.033442               |"
      ]
     },
     "metadata": {},
     "output_type": "display_data"
    },
    {
     "data": {
      "text/html": [
       "<pre>| 41      | 972.775ms    | 0.0332221              |</pre>"
      ],
      "text/plain": [
       "| 41      | 972.775ms    | 0.0332221              |"
      ]
     },
     "metadata": {},
     "output_type": "display_data"
    },
    {
     "data": {
      "text/html": [
       "<pre>| 42      | 1.00s        | 0.0330056              |</pre>"
      ],
      "text/plain": [
       "| 42      | 1.00s        | 0.0330056              |"
      ]
     },
     "metadata": {},
     "output_type": "display_data"
    },
    {
     "data": {
      "text/html": [
       "<pre>| 43      | 1.03s        | 0.0327911              |</pre>"
      ],
      "text/plain": [
       "| 43      | 1.03s        | 0.0327911              |"
      ]
     },
     "metadata": {},
     "output_type": "display_data"
    },
    {
     "data": {
      "text/html": [
       "<pre>| 44      | 1.05s        | 0.0325777              |</pre>"
      ],
      "text/plain": [
       "| 44      | 1.05s        | 0.0325777              |"
      ]
     },
     "metadata": {},
     "output_type": "display_data"
    },
    {
     "data": {
      "text/html": [
       "<pre>| 45      | 1.07s        | 0.0323649              |</pre>"
      ],
      "text/plain": [
       "| 45      | 1.07s        | 0.0323649              |"
      ]
     },
     "metadata": {},
     "output_type": "display_data"
    },
    {
     "data": {
      "text/html": [
       "<pre>| 46      | 1.09s        | 0.0321528              |</pre>"
      ],
      "text/plain": [
       "| 46      | 1.09s        | 0.0321528              |"
      ]
     },
     "metadata": {},
     "output_type": "display_data"
    },
    {
     "data": {
      "text/html": [
       "<pre>| 47      | 1.11s        | 0.0319418              |</pre>"
      ],
      "text/plain": [
       "| 47      | 1.11s        | 0.0319418              |"
      ]
     },
     "metadata": {},
     "output_type": "display_data"
    },
    {
     "data": {
      "text/html": [
       "<pre>| 48      | 1.13s        | 0.0317322              |</pre>"
      ],
      "text/plain": [
       "| 48      | 1.13s        | 0.0317322              |"
      ]
     },
     "metadata": {},
     "output_type": "display_data"
    },
    {
     "data": {
      "text/html": [
       "<pre>| 49      | 1.16s        | 0.031522               |</pre>"
      ],
      "text/plain": [
       "| 49      | 1.16s        | 0.031522               |"
      ]
     },
     "metadata": {},
     "output_type": "display_data"
    },
    {
     "data": {
      "text/html": [
       "<pre>| FINAL   | 1.16s        | 0.031522               |</pre>"
      ],
      "text/plain": [
       "| FINAL   | 1.16s        | 0.031522               |"
      ]
     },
     "metadata": {},
     "output_type": "display_data"
    },
    {
     "data": {
      "text/html": [
       "<pre>+---------+--------------+------------------------+</pre>"
      ],
      "text/plain": [
       "+---------+--------------+------------------------+"
      ]
     },
     "metadata": {},
     "output_type": "display_data"
    },
    {
     "data": {
      "text/html": [
       "<pre>Optimization Complete: Iteration limit reached.</pre>"
      ],
      "text/plain": [
       "Optimization Complete: Iteration limit reached."
      ]
     },
     "metadata": {},
     "output_type": "display_data"
    },
    {
     "data": {
      "text/html": [
       "<pre>Recsys training: model = factorization_recommender</pre>"
      ],
      "text/plain": [
       "Recsys training: model = factorization_recommender"
      ]
     },
     "metadata": {},
     "output_type": "display_data"
    },
    {
     "data": {
      "text/html": [
       "<pre>Preparing data set.</pre>"
      ],
      "text/plain": [
       "Preparing data set."
      ]
     },
     "metadata": {},
     "output_type": "display_data"
    },
    {
     "data": {
      "text/html": [
       "<pre>    Data has 24756 observations with 12294 users and 894 items.</pre>"
      ],
      "text/plain": [
       "    Data has 24756 observations with 12294 users and 894 items."
      ]
     },
     "metadata": {},
     "output_type": "display_data"
    },
    {
     "data": {
      "text/html": [
       "<pre>    Data prepared in: 0.03115s</pre>"
      ],
      "text/plain": [
       "    Data prepared in: 0.03115s"
      ]
     },
     "metadata": {},
     "output_type": "display_data"
    },
    {
     "data": {
      "text/html": [
       "<pre>Training factorization_recommender for recommendations.</pre>"
      ],
      "text/plain": [
       "Training factorization_recommender for recommendations."
      ]
     },
     "metadata": {},
     "output_type": "display_data"
    },
    {
     "data": {
      "text/html": [
       "<pre>+------------------------------+--------------------------------------------------+----------+</pre>"
      ],
      "text/plain": [
       "+------------------------------+--------------------------------------------------+----------+"
      ]
     },
     "metadata": {},
     "output_type": "display_data"
    },
    {
     "data": {
      "text/html": [
       "<pre>| Parameter                    | Description                                      | Value    |</pre>"
      ],
      "text/plain": [
       "| Parameter                    | Description                                      | Value    |"
      ]
     },
     "metadata": {},
     "output_type": "display_data"
    },
    {
     "data": {
      "text/html": [
       "<pre>+------------------------------+--------------------------------------------------+----------+</pre>"
      ],
      "text/plain": [
       "+------------------------------+--------------------------------------------------+----------+"
      ]
     },
     "metadata": {},
     "output_type": "display_data"
    },
    {
     "data": {
      "text/html": [
       "<pre>| num_factors                  | Factor Dimension                                 | 6        |</pre>"
      ],
      "text/plain": [
       "| num_factors                  | Factor Dimension                                 | 6        |"
      ]
     },
     "metadata": {},
     "output_type": "display_data"
    },
    {
     "data": {
      "text/html": [
       "<pre>| regularization               | L2 Regularization on Factors                     | 1e-08    |</pre>"
      ],
      "text/plain": [
       "| regularization               | L2 Regularization on Factors                     | 1e-08    |"
      ]
     },
     "metadata": {},
     "output_type": "display_data"
    },
    {
     "data": {
      "text/html": [
       "<pre>| max_iterations               | Maximum Number of Iterations                     | 50       |</pre>"
      ],
      "text/plain": [
       "| max_iterations               | Maximum Number of Iterations                     | 50       |"
      ]
     },
     "metadata": {},
     "output_type": "display_data"
    },
    {
     "data": {
      "text/html": [
       "<pre>| solver                       | Solver used for training                         | als      |</pre>"
      ],
      "text/plain": [
       "| solver                       | Solver used for training                         | als      |"
      ]
     },
     "metadata": {},
     "output_type": "display_data"
    },
    {
     "data": {
      "text/html": [
       "<pre>+------------------------------+--------------------------------------------------+----------+</pre>"
      ],
      "text/plain": [
       "+------------------------------+--------------------------------------------------+----------+"
      ]
     },
     "metadata": {},
     "output_type": "display_data"
    },
    {
     "data": {
      "text/html": [
       "<pre>+---------+--------------+------------------------+</pre>"
      ],
      "text/plain": [
       "+---------+--------------+------------------------+"
      ]
     },
     "metadata": {},
     "output_type": "display_data"
    },
    {
     "data": {
      "text/html": [
       "<pre>| Iter.   | Elapsed time | RMSE                   |</pre>"
      ],
      "text/plain": [
       "| Iter.   | Elapsed time | RMSE                   |"
      ]
     },
     "metadata": {},
     "output_type": "display_data"
    },
    {
     "data": {
      "text/html": [
       "<pre>+---------+--------------+------------------------+</pre>"
      ],
      "text/plain": [
       "+---------+--------------+------------------------+"
      ]
     },
     "metadata": {},
     "output_type": "display_data"
    },
    {
     "data": {
      "text/html": [
       "<pre>| Initial | 41us         | NA                     |</pre>"
      ],
      "text/plain": [
       "| Initial | 41us         | NA                     |"
      ]
     },
     "metadata": {},
     "output_type": "display_data"
    },
    {
     "data": {
      "text/html": [
       "<pre>+---------+--------------+------------------------+</pre>"
      ],
      "text/plain": [
       "+---------+--------------+------------------------+"
      ]
     },
     "metadata": {},
     "output_type": "display_data"
    },
    {
     "data": {
      "text/html": [
       "<pre>| 0       | 31.083ms     | 0.227184               |</pre>"
      ],
      "text/plain": [
       "| 0       | 31.083ms     | 0.227184               |"
      ]
     },
     "metadata": {},
     "output_type": "display_data"
    },
    {
     "data": {
      "text/html": [
       "<pre>| 1       | 48.571ms     | 0.0311389              |</pre>"
      ],
      "text/plain": [
       "| 1       | 48.571ms     | 0.0311389              |"
      ]
     },
     "metadata": {},
     "output_type": "display_data"
    },
    {
     "data": {
      "text/html": [
       "<pre>| 2       | 76.91ms      | 0.0257707              |</pre>"
      ],
      "text/plain": [
       "| 2       | 76.91ms      | 0.0257707              |"
      ]
     },
     "metadata": {},
     "output_type": "display_data"
    },
    {
     "data": {
      "text/html": [
       "<pre>| 3       | 98.39ms      | 0.0228111              |</pre>"
      ],
      "text/plain": [
       "| 3       | 98.39ms      | 0.0228111              |"
      ]
     },
     "metadata": {},
     "output_type": "display_data"
    },
    {
     "data": {
      "text/html": [
       "<pre>| 4       | 127.585ms    | 0.0206829              |</pre>"
      ],
      "text/plain": [
       "| 4       | 127.585ms    | 0.0206829              |"
      ]
     },
     "metadata": {},
     "output_type": "display_data"
    },
    {
     "data": {
      "text/html": [
       "<pre>| 5       | 155.259ms    | 0.019059               |</pre>"
      ],
      "text/plain": [
       "| 5       | 155.259ms    | 0.019059               |"
      ]
     },
     "metadata": {},
     "output_type": "display_data"
    },
    {
     "data": {
      "text/html": [
       "<pre>| 6       | 182.144ms    | 0.0177285              |</pre>"
      ],
      "text/plain": [
       "| 6       | 182.144ms    | 0.0177285              |"
      ]
     },
     "metadata": {},
     "output_type": "display_data"
    },
    {
     "data": {
      "text/html": [
       "<pre>| 7       | 198.984ms    | 0.016588               |</pre>"
      ],
      "text/plain": [
       "| 7       | 198.984ms    | 0.016588               |"
      ]
     },
     "metadata": {},
     "output_type": "display_data"
    },
    {
     "data": {
      "text/html": [
       "<pre>| 8       | 220.44ms     | 0.0155784              |</pre>"
      ],
      "text/plain": [
       "| 8       | 220.44ms     | 0.0155784              |"
      ]
     },
     "metadata": {},
     "output_type": "display_data"
    },
    {
     "data": {
      "text/html": [
       "<pre>| 9       | 242.148ms    | 0.0146798              |</pre>"
      ],
      "text/plain": [
       "| 9       | 242.148ms    | 0.0146798              |"
      ]
     },
     "metadata": {},
     "output_type": "display_data"
    },
    {
     "data": {
      "text/html": [
       "<pre>| 10      | 268.853ms    | 0.0138813              |</pre>"
      ],
      "text/plain": [
       "| 10      | 268.853ms    | 0.0138813              |"
      ]
     },
     "metadata": {},
     "output_type": "display_data"
    },
    {
     "data": {
      "text/html": [
       "<pre>| 11      | 292.741ms    | 0.013171               |</pre>"
      ],
      "text/plain": [
       "| 11      | 292.741ms    | 0.013171               |"
      ]
     },
     "metadata": {},
     "output_type": "display_data"
    },
    {
     "data": {
      "text/html": [
       "<pre>| 12      | 316.216ms    | 0.0125415              |</pre>"
      ],
      "text/plain": [
       "| 12      | 316.216ms    | 0.0125415              |"
      ]
     },
     "metadata": {},
     "output_type": "display_data"
    },
    {
     "data": {
      "text/html": [
       "<pre>| 13      | 340.77ms     | 0.0119914              |</pre>"
      ],
      "text/plain": [
       "| 13      | 340.77ms     | 0.0119914              |"
      ]
     },
     "metadata": {},
     "output_type": "display_data"
    },
    {
     "data": {
      "text/html": [
       "<pre>| 14      | 364.614ms    | 0.011503               |</pre>"
      ],
      "text/plain": [
       "| 14      | 364.614ms    | 0.011503               |"
      ]
     },
     "metadata": {},
     "output_type": "display_data"
    },
    {
     "data": {
      "text/html": [
       "<pre>| 15      | 403.746ms    | 0.0110676              |</pre>"
      ],
      "text/plain": [
       "| 15      | 403.746ms    | 0.0110676              |"
      ]
     },
     "metadata": {},
     "output_type": "display_data"
    },
    {
     "data": {
      "text/html": [
       "<pre>| 16      | 433.016ms    | 0.0106741              |</pre>"
      ],
      "text/plain": [
       "| 16      | 433.016ms    | 0.0106741              |"
      ]
     },
     "metadata": {},
     "output_type": "display_data"
    },
    {
     "data": {
      "text/html": [
       "<pre>| 17      | 449.268ms    | 0.0103157              |</pre>"
      ],
      "text/plain": [
       "| 17      | 449.268ms    | 0.0103157              |"
      ]
     },
     "metadata": {},
     "output_type": "display_data"
    },
    {
     "data": {
      "text/html": [
       "<pre>| 18      | 468.742ms    | 0.00998614             |</pre>"
      ],
      "text/plain": [
       "| 18      | 468.742ms    | 0.00998614             |"
      ]
     },
     "metadata": {},
     "output_type": "display_data"
    },
    {
     "data": {
      "text/html": [
       "<pre>| 19      | 490.15ms     | 0.00968157             |</pre>"
      ],
      "text/plain": [
       "| 19      | 490.15ms     | 0.00968157             |"
      ]
     },
     "metadata": {},
     "output_type": "display_data"
    },
    {
     "data": {
      "text/html": [
       "<pre>| 20      | 517.102ms    | 0.00939814             |</pre>"
      ],
      "text/plain": [
       "| 20      | 517.102ms    | 0.00939814             |"
      ]
     },
     "metadata": {},
     "output_type": "display_data"
    },
    {
     "data": {
      "text/html": [
       "<pre>| 21      | 541.56ms     | 0.00913468             |</pre>"
      ],
      "text/plain": [
       "| 21      | 541.56ms     | 0.00913468             |"
      ]
     },
     "metadata": {},
     "output_type": "display_data"
    },
    {
     "data": {
      "text/html": [
       "<pre>| 22      | 560.104ms    | 0.00888909             |</pre>"
      ],
      "text/plain": [
       "| 22      | 560.104ms    | 0.00888909             |"
      ]
     },
     "metadata": {},
     "output_type": "display_data"
    },
    {
     "data": {
      "text/html": [
       "<pre>| 23      | 587.278ms    | 0.0086595              |</pre>"
      ],
      "text/plain": [
       "| 23      | 587.278ms    | 0.0086595              |"
      ]
     },
     "metadata": {},
     "output_type": "display_data"
    },
    {
     "data": {
      "text/html": [
       "<pre>| 24      | 607.715ms    | 0.00844439             |</pre>"
      ],
      "text/plain": [
       "| 24      | 607.715ms    | 0.00844439             |"
      ]
     },
     "metadata": {},
     "output_type": "display_data"
    },
    {
     "data": {
      "text/html": [
       "<pre>| 25      | 631.551ms    | 0.00824352             |</pre>"
      ],
      "text/plain": [
       "| 25      | 631.551ms    | 0.00824352             |"
      ]
     },
     "metadata": {},
     "output_type": "display_data"
    },
    {
     "data": {
      "text/html": [
       "<pre>| 26      | 653.833ms    | 0.00805543             |</pre>"
      ],
      "text/plain": [
       "| 26      | 653.833ms    | 0.00805543             |"
      ]
     },
     "metadata": {},
     "output_type": "display_data"
    },
    {
     "data": {
      "text/html": [
       "<pre>| 27      | 677.629ms    | 0.00787923             |</pre>"
      ],
      "text/plain": [
       "| 27      | 677.629ms    | 0.00787923             |"
      ]
     },
     "metadata": {},
     "output_type": "display_data"
    },
    {
     "data": {
      "text/html": [
       "<pre>| 28      | 704.75ms     | 0.00771343             |</pre>"
      ],
      "text/plain": [
       "| 28      | 704.75ms     | 0.00771343             |"
      ]
     },
     "metadata": {},
     "output_type": "display_data"
    },
    {
     "data": {
      "text/html": [
       "<pre>| 29      | 723.109ms    | 0.00755816             |</pre>"
      ],
      "text/plain": [
       "| 29      | 723.109ms    | 0.00755816             |"
      ]
     },
     "metadata": {},
     "output_type": "display_data"
    },
    {
     "data": {
      "text/html": [
       "<pre>| 30      | 747.503ms    | 0.00741148             |</pre>"
      ],
      "text/plain": [
       "| 30      | 747.503ms    | 0.00741148             |"
      ]
     },
     "metadata": {},
     "output_type": "display_data"
    },
    {
     "data": {
      "text/html": [
       "<pre>| 31      | 771.712ms    | 0.00727308             |</pre>"
      ],
      "text/plain": [
       "| 31      | 771.712ms    | 0.00727308             |"
      ]
     },
     "metadata": {},
     "output_type": "display_data"
    },
    {
     "data": {
      "text/html": [
       "<pre>| 32      | 796.748ms    | 0.00714238             |</pre>"
      ],
      "text/plain": [
       "| 32      | 796.748ms    | 0.00714238             |"
      ]
     },
     "metadata": {},
     "output_type": "display_data"
    },
    {
     "data": {
      "text/html": [
       "<pre>| 33      | 821.248ms    | 0.00701846             |</pre>"
      ],
      "text/plain": [
       "| 33      | 821.248ms    | 0.00701846             |"
      ]
     },
     "metadata": {},
     "output_type": "display_data"
    },
    {
     "data": {
      "text/html": [
       "<pre>| 34      | 848.863ms    | 0.00690091             |</pre>"
      ],
      "text/plain": [
       "| 34      | 848.863ms    | 0.00690091             |"
      ]
     },
     "metadata": {},
     "output_type": "display_data"
    },
    {
     "data": {
      "text/html": [
       "<pre>| 35      | 875.335ms    | 0.00678908             |</pre>"
      ],
      "text/plain": [
       "| 35      | 875.335ms    | 0.00678908             |"
      ]
     },
     "metadata": {},
     "output_type": "display_data"
    },
    {
     "data": {
      "text/html": [
       "<pre>| 36      | 898.363ms    | 0.00668246             |</pre>"
      ],
      "text/plain": [
       "| 36      | 898.363ms    | 0.00668246             |"
      ]
     },
     "metadata": {},
     "output_type": "display_data"
    },
    {
     "data": {
      "text/html": [
       "<pre>| 37      | 926.154ms    | 0.00658071             |</pre>"
      ],
      "text/plain": [
       "| 37      | 926.154ms    | 0.00658071             |"
      ]
     },
     "metadata": {},
     "output_type": "display_data"
    },
    {
     "data": {
      "text/html": [
       "<pre>| 38      | 960.006ms    | 0.00648351             |</pre>"
      ],
      "text/plain": [
       "| 38      | 960.006ms    | 0.00648351             |"
      ]
     },
     "metadata": {},
     "output_type": "display_data"
    },
    {
     "data": {
      "text/html": [
       "<pre>| 39      | 979.433ms    | 0.00639028             |</pre>"
      ],
      "text/plain": [
       "| 39      | 979.433ms    | 0.00639028             |"
      ]
     },
     "metadata": {},
     "output_type": "display_data"
    },
    {
     "data": {
      "text/html": [
       "<pre>| 40      | 1.00s        | 0.00630053             |</pre>"
      ],
      "text/plain": [
       "| 40      | 1.00s        | 0.00630053             |"
      ]
     },
     "metadata": {},
     "output_type": "display_data"
    },
    {
     "data": {
      "text/html": [
       "<pre>| 41      | 1.02s        | 0.00621407             |</pre>"
      ],
      "text/plain": [
       "| 41      | 1.02s        | 0.00621407             |"
      ]
     },
     "metadata": {},
     "output_type": "display_data"
    },
    {
     "data": {
      "text/html": [
       "<pre>| 42      | 1.05s        | 0.00613076             |</pre>"
      ],
      "text/plain": [
       "| 42      | 1.05s        | 0.00613076             |"
      ]
     },
     "metadata": {},
     "output_type": "display_data"
    },
    {
     "data": {
      "text/html": [
       "<pre>| 43      | 1.08s        | 0.00605018             |</pre>"
      ],
      "text/plain": [
       "| 43      | 1.08s        | 0.00605018             |"
      ]
     },
     "metadata": {},
     "output_type": "display_data"
    },
    {
     "data": {
      "text/html": [
       "<pre>| 44      | 1.10s        | 0.00597218             |</pre>"
      ],
      "text/plain": [
       "| 44      | 1.10s        | 0.00597218             |"
      ]
     },
     "metadata": {},
     "output_type": "display_data"
    },
    {
     "data": {
      "text/html": [
       "<pre>| 45      | 1.12s        | 0.00589655             |</pre>"
      ],
      "text/plain": [
       "| 45      | 1.12s        | 0.00589655             |"
      ]
     },
     "metadata": {},
     "output_type": "display_data"
    },
    {
     "data": {
      "text/html": [
       "<pre>| 46      | 1.14s        | 0.00582294             |</pre>"
      ],
      "text/plain": [
       "| 46      | 1.14s        | 0.00582294             |"
      ]
     },
     "metadata": {},
     "output_type": "display_data"
    },
    {
     "data": {
      "text/html": [
       "<pre>| 47      | 1.18s        | 0.00575128             |</pre>"
      ],
      "text/plain": [
       "| 47      | 1.18s        | 0.00575128             |"
      ]
     },
     "metadata": {},
     "output_type": "display_data"
    },
    {
     "data": {
      "text/html": [
       "<pre>| 48      | 1.21s        | 0.0056813              |</pre>"
      ],
      "text/plain": [
       "| 48      | 1.21s        | 0.0056813              |"
      ]
     },
     "metadata": {},
     "output_type": "display_data"
    },
    {
     "data": {
      "text/html": [
       "<pre>| 49      | 1.24s        | 0.00561295             |</pre>"
      ],
      "text/plain": [
       "| 49      | 1.24s        | 0.00561295             |"
      ]
     },
     "metadata": {},
     "output_type": "display_data"
    },
    {
     "data": {
      "text/html": [
       "<pre>| FINAL   | 1.24s        | 0.00561295             |</pre>"
      ],
      "text/plain": [
       "| FINAL   | 1.24s        | 0.00561295             |"
      ]
     },
     "metadata": {},
     "output_type": "display_data"
    },
    {
     "data": {
      "text/html": [
       "<pre>+---------+--------------+------------------------+</pre>"
      ],
      "text/plain": [
       "+---------+--------------+------------------------+"
      ]
     },
     "metadata": {},
     "output_type": "display_data"
    },
    {
     "data": {
      "text/html": [
       "<pre>Optimization Complete: Iteration limit reached.</pre>"
      ],
      "text/plain": [
       "Optimization Complete: Iteration limit reached."
      ]
     },
     "metadata": {},
     "output_type": "display_data"
    },
    {
     "data": {
      "text/html": [
       "<pre>Recsys training: model = factorization_recommender</pre>"
      ],
      "text/plain": [
       "Recsys training: model = factorization_recommender"
      ]
     },
     "metadata": {},
     "output_type": "display_data"
    },
    {
     "data": {
      "text/html": [
       "<pre>Preparing data set.</pre>"
      ],
      "text/plain": [
       "Preparing data set."
      ]
     },
     "metadata": {},
     "output_type": "display_data"
    },
    {
     "data": {
      "text/html": [
       "<pre>    Data has 24756 observations with 12294 users and 894 items.</pre>"
      ],
      "text/plain": [
       "    Data has 24756 observations with 12294 users and 894 items."
      ]
     },
     "metadata": {},
     "output_type": "display_data"
    },
    {
     "data": {
      "text/html": [
       "<pre>    Data prepared in: 0.036399s</pre>"
      ],
      "text/plain": [
       "    Data prepared in: 0.036399s"
      ]
     },
     "metadata": {},
     "output_type": "display_data"
    },
    {
     "data": {
      "text/html": [
       "<pre>Training factorization_recommender for recommendations.</pre>"
      ],
      "text/plain": [
       "Training factorization_recommender for recommendations."
      ]
     },
     "metadata": {},
     "output_type": "display_data"
    },
    {
     "data": {
      "text/html": [
       "<pre>+------------------------------+--------------------------------------------------+----------+</pre>"
      ],
      "text/plain": [
       "+------------------------------+--------------------------------------------------+----------+"
      ]
     },
     "metadata": {},
     "output_type": "display_data"
    },
    {
     "data": {
      "text/html": [
       "<pre>| Parameter                    | Description                                      | Value    |</pre>"
      ],
      "text/plain": [
       "| Parameter                    | Description                                      | Value    |"
      ]
     },
     "metadata": {},
     "output_type": "display_data"
    },
    {
     "data": {
      "text/html": [
       "<pre>+------------------------------+--------------------------------------------------+----------+</pre>"
      ],
      "text/plain": [
       "+------------------------------+--------------------------------------------------+----------+"
      ]
     },
     "metadata": {},
     "output_type": "display_data"
    },
    {
     "data": {
      "text/html": [
       "<pre>| num_factors                  | Factor Dimension                                 | 8        |</pre>"
      ],
      "text/plain": [
       "| num_factors                  | Factor Dimension                                 | 8        |"
      ]
     },
     "metadata": {},
     "output_type": "display_data"
    },
    {
     "data": {
      "text/html": [
       "<pre>| regularization               | L2 Regularization on Factors                     | 1e-08    |</pre>"
      ],
      "text/plain": [
       "| regularization               | L2 Regularization on Factors                     | 1e-08    |"
      ]
     },
     "metadata": {},
     "output_type": "display_data"
    },
    {
     "data": {
      "text/html": [
       "<pre>| max_iterations               | Maximum Number of Iterations                     | 50       |</pre>"
      ],
      "text/plain": [
       "| max_iterations               | Maximum Number of Iterations                     | 50       |"
      ]
     },
     "metadata": {},
     "output_type": "display_data"
    },
    {
     "data": {
      "text/html": [
       "<pre>| solver                       | Solver used for training                         | als      |</pre>"
      ],
      "text/plain": [
       "| solver                       | Solver used for training                         | als      |"
      ]
     },
     "metadata": {},
     "output_type": "display_data"
    },
    {
     "data": {
      "text/html": [
       "<pre>+------------------------------+--------------------------------------------------+----------+</pre>"
      ],
      "text/plain": [
       "+------------------------------+--------------------------------------------------+----------+"
      ]
     },
     "metadata": {},
     "output_type": "display_data"
    },
    {
     "data": {
      "text/html": [
       "<pre>+---------+--------------+------------------------+</pre>"
      ],
      "text/plain": [
       "+---------+--------------+------------------------+"
      ]
     },
     "metadata": {},
     "output_type": "display_data"
    },
    {
     "data": {
      "text/html": [
       "<pre>| Iter.   | Elapsed time | RMSE                   |</pre>"
      ],
      "text/plain": [
       "| Iter.   | Elapsed time | RMSE                   |"
      ]
     },
     "metadata": {},
     "output_type": "display_data"
    },
    {
     "data": {
      "text/html": [
       "<pre>+---------+--------------+------------------------+</pre>"
      ],
      "text/plain": [
       "+---------+--------------+------------------------+"
      ]
     },
     "metadata": {},
     "output_type": "display_data"
    },
    {
     "data": {
      "text/html": [
       "<pre>| Initial | 46us         | NA                     |</pre>"
      ],
      "text/plain": [
       "| Initial | 46us         | NA                     |"
      ]
     },
     "metadata": {},
     "output_type": "display_data"
    },
    {
     "data": {
      "text/html": [
       "<pre>+---------+--------------+------------------------+</pre>"
      ],
      "text/plain": [
       "+---------+--------------+------------------------+"
      ]
     },
     "metadata": {},
     "output_type": "display_data"
    },
    {
     "data": {
      "text/html": [
       "<pre>| 0       | 41.775ms     | 0.182218               |</pre>"
      ],
      "text/plain": [
       "| 0       | 41.775ms     | 0.182218               |"
      ]
     },
     "metadata": {},
     "output_type": "display_data"
    },
    {
     "data": {
      "text/html": [
       "<pre>| 1       | 68.938ms     | 0.0142136              |</pre>"
      ],
      "text/plain": [
       "| 1       | 68.938ms     | 0.0142136              |"
      ]
     },
     "metadata": {},
     "output_type": "display_data"
    },
    {
     "data": {
      "text/html": [
       "<pre>| 2       | 102.951ms    | 0.0104969              |</pre>"
      ],
      "text/plain": [
       "| 2       | 102.951ms    | 0.0104969              |"
      ]
     },
     "metadata": {},
     "output_type": "display_data"
    },
    {
     "data": {
      "text/html": [
       "<pre>| 3       | 123.471ms    | 0.00897523             |</pre>"
      ],
      "text/plain": [
       "| 3       | 123.471ms    | 0.00897523             |"
      ]
     },
     "metadata": {},
     "output_type": "display_data"
    },
    {
     "data": {
      "text/html": [
       "<pre>| 4       | 143.432ms    | 0.00796631             |</pre>"
      ],
      "text/plain": [
       "| 4       | 143.432ms    | 0.00796631             |"
      ]
     },
     "metadata": {},
     "output_type": "display_data"
    },
    {
     "data": {
      "text/html": [
       "<pre>| 5       | 159.761ms    | 0.00722346             |</pre>"
      ],
      "text/plain": [
       "| 5       | 159.761ms    | 0.00722346             |"
      ]
     },
     "metadata": {},
     "output_type": "display_data"
    },
    {
     "data": {
      "text/html": [
       "<pre>| 6       | 192.597ms    | 0.00663719             |</pre>"
      ],
      "text/plain": [
       "| 6       | 192.597ms    | 0.00663719             |"
      ]
     },
     "metadata": {},
     "output_type": "display_data"
    },
    {
     "data": {
      "text/html": [
       "<pre>| 7       | 219.605ms    | 0.00614906             |</pre>"
      ],
      "text/plain": [
       "| 7       | 219.605ms    | 0.00614906             |"
      ]
     },
     "metadata": {},
     "output_type": "display_data"
    },
    {
     "data": {
      "text/html": [
       "<pre>| 8       | 258.932ms    | 0.00573376             |</pre>"
      ],
      "text/plain": [
       "| 8       | 258.932ms    | 0.00573376             |"
      ]
     },
     "metadata": {},
     "output_type": "display_data"
    },
    {
     "data": {
      "text/html": [
       "<pre>| 9       | 273.1ms      | 0.00536908             |</pre>"
      ],
      "text/plain": [
       "| 9       | 273.1ms      | 0.00536908             |"
      ]
     },
     "metadata": {},
     "output_type": "display_data"
    },
    {
     "data": {
      "text/html": [
       "<pre>| 10      | 294.509ms    | 0.00504813             |</pre>"
      ],
      "text/plain": [
       "| 10      | 294.509ms    | 0.00504813             |"
      ]
     },
     "metadata": {},
     "output_type": "display_data"
    },
    {
     "data": {
      "text/html": [
       "<pre>| 11      | 314.824ms    | 0.00476112             |</pre>"
      ],
      "text/plain": [
       "| 11      | 314.824ms    | 0.00476112             |"
      ]
     },
     "metadata": {},
     "output_type": "display_data"
    },
    {
     "data": {
      "text/html": [
       "<pre>| 12      | 339.788ms    | 0.00450599             |</pre>"
      ],
      "text/plain": [
       "| 12      | 339.788ms    | 0.00450599             |"
      ]
     },
     "metadata": {},
     "output_type": "display_data"
    },
    {
     "data": {
      "text/html": [
       "<pre>| 13      | 363.875ms    | 0.00427527             |</pre>"
      ],
      "text/plain": [
       "| 13      | 363.875ms    | 0.00427527             |"
      ]
     },
     "metadata": {},
     "output_type": "display_data"
    },
    {
     "data": {
      "text/html": [
       "<pre>| 14      | 382.542ms    | 0.00406529             |</pre>"
      ],
      "text/plain": [
       "| 14      | 382.542ms    | 0.00406529             |"
      ]
     },
     "metadata": {},
     "output_type": "display_data"
    },
    {
     "data": {
      "text/html": [
       "<pre>| 15      | 400.136ms    | 0.00387359             |</pre>"
      ],
      "text/plain": [
       "| 15      | 400.136ms    | 0.00387359             |"
      ]
     },
     "metadata": {},
     "output_type": "display_data"
    },
    {
     "data": {
      "text/html": [
       "<pre>| 16      | 432.526ms    | 0.00369666             |</pre>"
      ],
      "text/plain": [
       "| 16      | 432.526ms    | 0.00369666             |"
      ]
     },
     "metadata": {},
     "output_type": "display_data"
    },
    {
     "data": {
      "text/html": [
       "<pre>| 17      | 462.271ms    | 0.00353214             |</pre>"
      ],
      "text/plain": [
       "| 17      | 462.271ms    | 0.00353214             |"
      ]
     },
     "metadata": {},
     "output_type": "display_data"
    },
    {
     "data": {
      "text/html": [
       "<pre>| 18      | 493.2ms      | 0.00337846             |</pre>"
      ],
      "text/plain": [
       "| 18      | 493.2ms      | 0.00337846             |"
      ]
     },
     "metadata": {},
     "output_type": "display_data"
    },
    {
     "data": {
      "text/html": [
       "<pre>| 19      | 511.691ms    | 0.0032346              |</pre>"
      ],
      "text/plain": [
       "| 19      | 511.691ms    | 0.0032346              |"
      ]
     },
     "metadata": {},
     "output_type": "display_data"
    },
    {
     "data": {
      "text/html": [
       "<pre>| 20      | 537.418ms    | 0.00309877             |</pre>"
      ],
      "text/plain": [
       "| 20      | 537.418ms    | 0.00309877             |"
      ]
     },
     "metadata": {},
     "output_type": "display_data"
    },
    {
     "data": {
      "text/html": [
       "<pre>| 21      | 570.11ms     | 0.00297181             |</pre>"
      ],
      "text/plain": [
       "| 21      | 570.11ms     | 0.00297181             |"
      ]
     },
     "metadata": {},
     "output_type": "display_data"
    },
    {
     "data": {
      "text/html": [
       "<pre>| 22      | 598.534ms    | 0.00285204             |</pre>"
      ],
      "text/plain": [
       "| 22      | 598.534ms    | 0.00285204             |"
      ]
     },
     "metadata": {},
     "output_type": "display_data"
    },
    {
     "data": {
      "text/html": [
       "<pre>| 23      | 621.505ms    | 0.00273939             |</pre>"
      ],
      "text/plain": [
       "| 23      | 621.505ms    | 0.00273939             |"
      ]
     },
     "metadata": {},
     "output_type": "display_data"
    },
    {
     "data": {
      "text/html": [
       "<pre>| 24      | 648.094ms    | 0.00263287             |</pre>"
      ],
      "text/plain": [
       "| 24      | 648.094ms    | 0.00263287             |"
      ]
     },
     "metadata": {},
     "output_type": "display_data"
    },
    {
     "data": {
      "text/html": [
       "<pre>| 25      | 672.246ms    | 0.00253319             |</pre>"
      ],
      "text/plain": [
       "| 25      | 672.246ms    | 0.00253319             |"
      ]
     },
     "metadata": {},
     "output_type": "display_data"
    },
    {
     "data": {
      "text/html": [
       "<pre>| 26      | 700.955ms    | 0.00243973             |</pre>"
      ],
      "text/plain": [
       "| 26      | 700.955ms    | 0.00243973             |"
      ]
     },
     "metadata": {},
     "output_type": "display_data"
    },
    {
     "data": {
      "text/html": [
       "<pre>| 27      | 718.525ms    | 0.00235216             |</pre>"
      ],
      "text/plain": [
       "| 27      | 718.525ms    | 0.00235216             |"
      ]
     },
     "metadata": {},
     "output_type": "display_data"
    },
    {
     "data": {
      "text/html": [
       "<pre>| 28      | 734.355ms    | 0.00227052             |</pre>"
      ],
      "text/plain": [
       "| 28      | 734.355ms    | 0.00227052             |"
      ]
     },
     "metadata": {},
     "output_type": "display_data"
    },
    {
     "data": {
      "text/html": [
       "<pre>| 29      | 765.041ms    | 0.0021938              |</pre>"
      ],
      "text/plain": [
       "| 29      | 765.041ms    | 0.0021938              |"
      ]
     },
     "metadata": {},
     "output_type": "display_data"
    },
    {
     "data": {
      "text/html": [
       "<pre>| 30      | 789.825ms    | 0.00212153             |</pre>"
      ],
      "text/plain": [
       "| 30      | 789.825ms    | 0.00212153             |"
      ]
     },
     "metadata": {},
     "output_type": "display_data"
    },
    {
     "data": {
      "text/html": [
       "<pre>| 31      | 816.219ms    | 0.00205437             |</pre>"
      ],
      "text/plain": [
       "| 31      | 816.219ms    | 0.00205437             |"
      ]
     },
     "metadata": {},
     "output_type": "display_data"
    },
    {
     "data": {
      "text/html": [
       "<pre>| 32      | 834.574ms    | 0.0019915              |</pre>"
      ],
      "text/plain": [
       "| 32      | 834.574ms    | 0.0019915              |"
      ]
     },
     "metadata": {},
     "output_type": "display_data"
    },
    {
     "data": {
      "text/html": [
       "<pre>| 33      | 857.643ms    | 0.00193251             |</pre>"
      ],
      "text/plain": [
       "| 33      | 857.643ms    | 0.00193251             |"
      ]
     },
     "metadata": {},
     "output_type": "display_data"
    },
    {
     "data": {
      "text/html": [
       "<pre>| 34      | 882.379ms    | 0.00187746             |</pre>"
      ],
      "text/plain": [
       "| 34      | 882.379ms    | 0.00187746             |"
      ]
     },
     "metadata": {},
     "output_type": "display_data"
    },
    {
     "data": {
      "text/html": [
       "<pre>| 35      | 907.012ms    | 0.00182547             |</pre>"
      ],
      "text/plain": [
       "| 35      | 907.012ms    | 0.00182547             |"
      ]
     },
     "metadata": {},
     "output_type": "display_data"
    },
    {
     "data": {
      "text/html": [
       "<pre>| 36      | 918.405ms    | 0.00177667             |</pre>"
      ],
      "text/plain": [
       "| 36      | 918.405ms    | 0.00177667             |"
      ]
     },
     "metadata": {},
     "output_type": "display_data"
    },
    {
     "data": {
      "text/html": [
       "<pre>| 37      | 941.76ms     | 0.00173073             |</pre>"
      ],
      "text/plain": [
       "| 37      | 941.76ms     | 0.00173073             |"
      ]
     },
     "metadata": {},
     "output_type": "display_data"
    },
    {
     "data": {
      "text/html": [
       "<pre>| 38      | 970.474ms    | 0.0016875              |</pre>"
      ],
      "text/plain": [
       "| 38      | 970.474ms    | 0.0016875              |"
      ]
     },
     "metadata": {},
     "output_type": "display_data"
    },
    {
     "data": {
      "text/html": [
       "<pre>| 39      | 1.00s        | 0.00164678             |</pre>"
      ],
      "text/plain": [
       "| 39      | 1.00s        | 0.00164678             |"
      ]
     },
     "metadata": {},
     "output_type": "display_data"
    },
    {
     "data": {
      "text/html": [
       "<pre>| 40      | 1.01s        | 0.0016081              |</pre>"
      ],
      "text/plain": [
       "| 40      | 1.01s        | 0.0016081              |"
      ]
     },
     "metadata": {},
     "output_type": "display_data"
    },
    {
     "data": {
      "text/html": [
       "<pre>| 41      | 1.05s        | 0.00157148             |</pre>"
      ],
      "text/plain": [
       "| 41      | 1.05s        | 0.00157148             |"
      ]
     },
     "metadata": {},
     "output_type": "display_data"
    },
    {
     "data": {
      "text/html": [
       "<pre>| 42      | 1.06s        | 0.00153693             |</pre>"
      ],
      "text/plain": [
       "| 42      | 1.06s        | 0.00153693             |"
      ]
     },
     "metadata": {},
     "output_type": "display_data"
    },
    {
     "data": {
      "text/html": [
       "<pre>| 43      | 1.09s        | 0.00150395             |</pre>"
      ],
      "text/plain": [
       "| 43      | 1.09s        | 0.00150395             |"
      ]
     },
     "metadata": {},
     "output_type": "display_data"
    },
    {
     "data": {
      "text/html": [
       "<pre>| 44      | 1.11s        | 0.00147265             |</pre>"
      ],
      "text/plain": [
       "| 44      | 1.11s        | 0.00147265             |"
      ]
     },
     "metadata": {},
     "output_type": "display_data"
    },
    {
     "data": {
      "text/html": [
       "<pre>| 45      | 1.13s        | 0.00144279             |</pre>"
      ],
      "text/plain": [
       "| 45      | 1.13s        | 0.00144279             |"
      ]
     },
     "metadata": {},
     "output_type": "display_data"
    },
    {
     "data": {
      "text/html": [
       "<pre>| 46      | 1.16s        | 0.00141426             |</pre>"
      ],
      "text/plain": [
       "| 46      | 1.16s        | 0.00141426             |"
      ]
     },
     "metadata": {},
     "output_type": "display_data"
    },
    {
     "data": {
      "text/html": [
       "<pre>| 47      | 1.19s        | 0.00138665             |</pre>"
      ],
      "text/plain": [
       "| 47      | 1.19s        | 0.00138665             |"
      ]
     },
     "metadata": {},
     "output_type": "display_data"
    },
    {
     "data": {
      "text/html": [
       "<pre>| 48      | 1.22s        | 0.00136058             |</pre>"
      ],
      "text/plain": [
       "| 48      | 1.22s        | 0.00136058             |"
      ]
     },
     "metadata": {},
     "output_type": "display_data"
    },
    {
     "data": {
      "text/html": [
       "<pre>| 49      | 1.25s        | 0.00133571             |</pre>"
      ],
      "text/plain": [
       "| 49      | 1.25s        | 0.00133571             |"
      ]
     },
     "metadata": {},
     "output_type": "display_data"
    },
    {
     "data": {
      "text/html": [
       "<pre>| FINAL   | 1.25s        | 0.00133571             |</pre>"
      ],
      "text/plain": [
       "| FINAL   | 1.25s        | 0.00133571             |"
      ]
     },
     "metadata": {},
     "output_type": "display_data"
    },
    {
     "data": {
      "text/html": [
       "<pre>+---------+--------------+------------------------+</pre>"
      ],
      "text/plain": [
       "+---------+--------------+------------------------+"
      ]
     },
     "metadata": {},
     "output_type": "display_data"
    },
    {
     "data": {
      "text/html": [
       "<pre>Optimization Complete: Iteration limit reached.</pre>"
      ],
      "text/plain": [
       "Optimization Complete: Iteration limit reached."
      ]
     },
     "metadata": {},
     "output_type": "display_data"
    },
    {
     "data": {
      "text/html": [
       "<pre>Recsys training: model = factorization_recommender</pre>"
      ],
      "text/plain": [
       "Recsys training: model = factorization_recommender"
      ]
     },
     "metadata": {},
     "output_type": "display_data"
    },
    {
     "data": {
      "text/html": [
       "<pre>Preparing data set.</pre>"
      ],
      "text/plain": [
       "Preparing data set."
      ]
     },
     "metadata": {},
     "output_type": "display_data"
    },
    {
     "data": {
      "text/html": [
       "<pre>    Data has 24756 observations with 12294 users and 894 items.</pre>"
      ],
      "text/plain": [
       "    Data has 24756 observations with 12294 users and 894 items."
      ]
     },
     "metadata": {},
     "output_type": "display_data"
    },
    {
     "data": {
      "text/html": [
       "<pre>    Data prepared in: 0.02992s</pre>"
      ],
      "text/plain": [
       "    Data prepared in: 0.02992s"
      ]
     },
     "metadata": {},
     "output_type": "display_data"
    },
    {
     "data": {
      "text/html": [
       "<pre>Training factorization_recommender for recommendations.</pre>"
      ],
      "text/plain": [
       "Training factorization_recommender for recommendations."
      ]
     },
     "metadata": {},
     "output_type": "display_data"
    },
    {
     "data": {
      "text/html": [
       "<pre>+------------------------------+--------------------------------------------------+----------+</pre>"
      ],
      "text/plain": [
       "+------------------------------+--------------------------------------------------+----------+"
      ]
     },
     "metadata": {},
     "output_type": "display_data"
    },
    {
     "data": {
      "text/html": [
       "<pre>| Parameter                    | Description                                      | Value    |</pre>"
      ],
      "text/plain": [
       "| Parameter                    | Description                                      | Value    |"
      ]
     },
     "metadata": {},
     "output_type": "display_data"
    },
    {
     "data": {
      "text/html": [
       "<pre>+------------------------------+--------------------------------------------------+----------+</pre>"
      ],
      "text/plain": [
       "+------------------------------+--------------------------------------------------+----------+"
      ]
     },
     "metadata": {},
     "output_type": "display_data"
    },
    {
     "data": {
      "text/html": [
       "<pre>| num_factors                  | Factor Dimension                                 | 10       |</pre>"
      ],
      "text/plain": [
       "| num_factors                  | Factor Dimension                                 | 10       |"
      ]
     },
     "metadata": {},
     "output_type": "display_data"
    },
    {
     "data": {
      "text/html": [
       "<pre>| regularization               | L2 Regularization on Factors                     | 1e-08    |</pre>"
      ],
      "text/plain": [
       "| regularization               | L2 Regularization on Factors                     | 1e-08    |"
      ]
     },
     "metadata": {},
     "output_type": "display_data"
    },
    {
     "data": {
      "text/html": [
       "<pre>| max_iterations               | Maximum Number of Iterations                     | 50       |</pre>"
      ],
      "text/plain": [
       "| max_iterations               | Maximum Number of Iterations                     | 50       |"
      ]
     },
     "metadata": {},
     "output_type": "display_data"
    },
    {
     "data": {
      "text/html": [
       "<pre>| solver                       | Solver used for training                         | als      |</pre>"
      ],
      "text/plain": [
       "| solver                       | Solver used for training                         | als      |"
      ]
     },
     "metadata": {},
     "output_type": "display_data"
    },
    {
     "data": {
      "text/html": [
       "<pre>+------------------------------+--------------------------------------------------+----------+</pre>"
      ],
      "text/plain": [
       "+------------------------------+--------------------------------------------------+----------+"
      ]
     },
     "metadata": {},
     "output_type": "display_data"
    },
    {
     "data": {
      "text/html": [
       "<pre>+---------+--------------+------------------------+</pre>"
      ],
      "text/plain": [
       "+---------+--------------+------------------------+"
      ]
     },
     "metadata": {},
     "output_type": "display_data"
    },
    {
     "data": {
      "text/html": [
       "<pre>| Iter.   | Elapsed time | RMSE                   |</pre>"
      ],
      "text/plain": [
       "| Iter.   | Elapsed time | RMSE                   |"
      ]
     },
     "metadata": {},
     "output_type": "display_data"
    },
    {
     "data": {
      "text/html": [
       "<pre>+---------+--------------+------------------------+</pre>"
      ],
      "text/plain": [
       "+---------+--------------+------------------------+"
      ]
     },
     "metadata": {},
     "output_type": "display_data"
    },
    {
     "data": {
      "text/html": [
       "<pre>| Initial | 43us         | NA                     |</pre>"
      ],
      "text/plain": [
       "| Initial | 43us         | NA                     |"
      ]
     },
     "metadata": {},
     "output_type": "display_data"
    },
    {
     "data": {
      "text/html": [
       "<pre>+---------+--------------+------------------------+</pre>"
      ],
      "text/plain": [
       "+---------+--------------+------------------------+"
      ]
     },
     "metadata": {},
     "output_type": "display_data"
    },
    {
     "data": {
      "text/html": [
       "<pre>| 0       | 50.929ms     | 0.152221               |</pre>"
      ],
      "text/plain": [
       "| 0       | 50.929ms     | 0.152221               |"
      ]
     },
     "metadata": {},
     "output_type": "display_data"
    },
    {
     "data": {
      "text/html": [
       "<pre>| 1       | 72.774ms     | 0.00589157             |</pre>"
      ],
      "text/plain": [
       "| 1       | 72.774ms     | 0.00589157             |"
      ]
     },
     "metadata": {},
     "output_type": "display_data"
    },
    {
     "data": {
      "text/html": [
       "<pre>| 2       | 107.562ms    | 0.00414235             |</pre>"
      ],
      "text/plain": [
       "| 2       | 107.562ms    | 0.00414235             |"
      ]
     },
     "metadata": {},
     "output_type": "display_data"
    },
    {
     "data": {
      "text/html": [
       "<pre>| 3       | 136.489ms    | 0.00328787             |</pre>"
      ],
      "text/plain": [
       "| 3       | 136.489ms    | 0.00328787             |"
      ]
     },
     "metadata": {},
     "output_type": "display_data"
    },
    {
     "data": {
      "text/html": [
       "<pre>| 4       | 163.083ms    | 0.00273528             |</pre>"
      ],
      "text/plain": [
       "| 4       | 163.083ms    | 0.00273528             |"
      ]
     },
     "metadata": {},
     "output_type": "display_data"
    },
    {
     "data": {
      "text/html": [
       "<pre>| 5       | 191.017ms    | 0.00235629             |</pre>"
      ],
      "text/plain": [
       "| 5       | 191.017ms    | 0.00235629             |"
      ]
     },
     "metadata": {},
     "output_type": "display_data"
    },
    {
     "data": {
      "text/html": [
       "<pre>| 6       | 218.329ms    | 0.00209075             |</pre>"
      ],
      "text/plain": [
       "| 6       | 218.329ms    | 0.00209075             |"
      ]
     },
     "metadata": {},
     "output_type": "display_data"
    },
    {
     "data": {
      "text/html": [
       "<pre>| 7       | 246.679ms    | 0.00190271             |</pre>"
      ],
      "text/plain": [
       "| 7       | 246.679ms    | 0.00190271             |"
      ]
     },
     "metadata": {},
     "output_type": "display_data"
    },
    {
     "data": {
      "text/html": [
       "<pre>| 8       | 276.444ms    | 0.00176579             |</pre>"
      ],
      "text/plain": [
       "| 8       | 276.444ms    | 0.00176579             |"
      ]
     },
     "metadata": {},
     "output_type": "display_data"
    },
    {
     "data": {
      "text/html": [
       "<pre>| 9       | 298.004ms    | 0.00166311             |</pre>"
      ],
      "text/plain": [
       "| 9       | 298.004ms    | 0.00166311             |"
      ]
     },
     "metadata": {},
     "output_type": "display_data"
    },
    {
     "data": {
      "text/html": [
       "<pre>| 10      | 326.893ms    | 0.00158102             |</pre>"
      ],
      "text/plain": [
       "| 10      | 326.893ms    | 0.00158102             |"
      ]
     },
     "metadata": {},
     "output_type": "display_data"
    },
    {
     "data": {
      "text/html": [
       "<pre>| 11      | 350.321ms    | 0.00151304             |</pre>"
      ],
      "text/plain": [
       "| 11      | 350.321ms    | 0.00151304             |"
      ]
     },
     "metadata": {},
     "output_type": "display_data"
    },
    {
     "data": {
      "text/html": [
       "<pre>| 12      | 379.116ms    | 0.0014556              |</pre>"
      ],
      "text/plain": [
       "| 12      | 379.116ms    | 0.0014556              |"
      ]
     },
     "metadata": {},
     "output_type": "display_data"
    },
    {
     "data": {
      "text/html": [
       "<pre>| 13      | 400.178ms    | 0.00140542             |</pre>"
      ],
      "text/plain": [
       "| 13      | 400.178ms    | 0.00140542             |"
      ]
     },
     "metadata": {},
     "output_type": "display_data"
    },
    {
     "data": {
      "text/html": [
       "<pre>| 14      | 429.289ms    | 0.00136098             |</pre>"
      ],
      "text/plain": [
       "| 14      | 429.289ms    | 0.00136098             |"
      ]
     },
     "metadata": {},
     "output_type": "display_data"
    },
    {
     "data": {
      "text/html": [
       "<pre>| 15      | 466.921ms    | 0.00132008             |</pre>"
      ],
      "text/plain": [
       "| 15      | 466.921ms    | 0.00132008             |"
      ]
     },
     "metadata": {},
     "output_type": "display_data"
    },
    {
     "data": {
      "text/html": [
       "<pre>| 16      | 488.014ms    | 0.00128325             |</pre>"
      ],
      "text/plain": [
       "| 16      | 488.014ms    | 0.00128325             |"
      ]
     },
     "metadata": {},
     "output_type": "display_data"
    },
    {
     "data": {
      "text/html": [
       "<pre>| 17      | 514.482ms    | 0.00124898             |</pre>"
      ],
      "text/plain": [
       "| 17      | 514.482ms    | 0.00124898             |"
      ]
     },
     "metadata": {},
     "output_type": "display_data"
    },
    {
     "data": {
      "text/html": [
       "<pre>| 18      | 533.472ms    | 0.00121708             |</pre>"
      ],
      "text/plain": [
       "| 18      | 533.472ms    | 0.00121708             |"
      ]
     },
     "metadata": {},
     "output_type": "display_data"
    },
    {
     "data": {
      "text/html": [
       "<pre>| 19      | 557.8ms      | 0.00118721             |</pre>"
      ],
      "text/plain": [
       "| 19      | 557.8ms      | 0.00118721             |"
      ]
     },
     "metadata": {},
     "output_type": "display_data"
    },
    {
     "data": {
      "text/html": [
       "<pre>| 20      | 588.889ms    | 0.00115964             |</pre>"
      ],
      "text/plain": [
       "| 20      | 588.889ms    | 0.00115964             |"
      ]
     },
     "metadata": {},
     "output_type": "display_data"
    },
    {
     "data": {
      "text/html": [
       "<pre>| 21      | 615.883ms    | 0.00113314             |</pre>"
      ],
      "text/plain": [
       "| 21      | 615.883ms    | 0.00113314             |"
      ]
     },
     "metadata": {},
     "output_type": "display_data"
    },
    {
     "data": {
      "text/html": [
       "<pre>| 22      | 641.4ms      | 0.00110826             |</pre>"
      ],
      "text/plain": [
       "| 22      | 641.4ms      | 0.00110826             |"
      ]
     },
     "metadata": {},
     "output_type": "display_data"
    },
    {
     "data": {
      "text/html": [
       "<pre>| 23      | 668.437ms    | 0.00108541             |</pre>"
      ],
      "text/plain": [
       "| 23      | 668.437ms    | 0.00108541             |"
      ]
     },
     "metadata": {},
     "output_type": "display_data"
    },
    {
     "data": {
      "text/html": [
       "<pre>| 24      | 692.087ms    | 0.00106297             |</pre>"
      ],
      "text/plain": [
       "| 24      | 692.087ms    | 0.00106297             |"
      ]
     },
     "metadata": {},
     "output_type": "display_data"
    },
    {
     "data": {
      "text/html": [
       "<pre>| 25      | 711.263ms    | 0.00104163             |</pre>"
      ],
      "text/plain": [
       "| 25      | 711.263ms    | 0.00104163             |"
      ]
     },
     "metadata": {},
     "output_type": "display_data"
    },
    {
     "data": {
      "text/html": [
       "<pre>| 26      | 740.166ms    | 0.00102154             |</pre>"
      ],
      "text/plain": [
       "| 26      | 740.166ms    | 0.00102154             |"
      ]
     },
     "metadata": {},
     "output_type": "display_data"
    },
    {
     "data": {
      "text/html": [
       "<pre>| 27      | 762.564ms    | 0.00100217             |</pre>"
      ],
      "text/plain": [
       "| 27      | 762.564ms    | 0.00100217             |"
      ]
     },
     "metadata": {},
     "output_type": "display_data"
    },
    {
     "data": {
      "text/html": [
       "<pre>| 28      | 788.142ms    | 0.000983897            |</pre>"
      ],
      "text/plain": [
       "| 28      | 788.142ms    | 0.000983897            |"
      ]
     },
     "metadata": {},
     "output_type": "display_data"
    },
    {
     "data": {
      "text/html": [
       "<pre>| 29      | 808.437ms    | 0.000966291            |</pre>"
      ],
      "text/plain": [
       "| 29      | 808.437ms    | 0.000966291            |"
      ]
     },
     "metadata": {},
     "output_type": "display_data"
    },
    {
     "data": {
      "text/html": [
       "<pre>| 30      | 834.57ms     | 0.00094907             |</pre>"
      ],
      "text/plain": [
       "| 30      | 834.57ms     | 0.00094907             |"
      ]
     },
     "metadata": {},
     "output_type": "display_data"
    },
    {
     "data": {
      "text/html": [
       "<pre>| 31      | 864.447ms    | 0.000933228            |</pre>"
      ],
      "text/plain": [
       "| 31      | 864.447ms    | 0.000933228            |"
      ]
     },
     "metadata": {},
     "output_type": "display_data"
    },
    {
     "data": {
      "text/html": [
       "<pre>| 32      | 892.134ms    | 0.000917505            |</pre>"
      ],
      "text/plain": [
       "| 32      | 892.134ms    | 0.000917505            |"
      ]
     },
     "metadata": {},
     "output_type": "display_data"
    },
    {
     "data": {
      "text/html": [
       "<pre>| 33      | 909.52ms     | 0.000902254            |</pre>"
      ],
      "text/plain": [
       "| 33      | 909.52ms     | 0.000902254            |"
      ]
     },
     "metadata": {},
     "output_type": "display_data"
    },
    {
     "data": {
      "text/html": [
       "<pre>| 34      | 942.556ms    | 0.000887824            |</pre>"
      ],
      "text/plain": [
       "| 34      | 942.556ms    | 0.000887824            |"
      ]
     },
     "metadata": {},
     "output_type": "display_data"
    },
    {
     "data": {
      "text/html": [
       "<pre>| 35      | 966.447ms    | 0.000873879            |</pre>"
      ],
      "text/plain": [
       "| 35      | 966.447ms    | 0.000873879            |"
      ]
     },
     "metadata": {},
     "output_type": "display_data"
    },
    {
     "data": {
      "text/html": [
       "<pre>| 36      | 990.605ms    | 0.000860697            |</pre>"
      ],
      "text/plain": [
       "| 36      | 990.605ms    | 0.000860697            |"
      ]
     },
     "metadata": {},
     "output_type": "display_data"
    },
    {
     "data": {
      "text/html": [
       "<pre>| 37      | 1.01s        | 0.000847613            |</pre>"
      ],
      "text/plain": [
       "| 37      | 1.01s        | 0.000847613            |"
      ]
     },
     "metadata": {},
     "output_type": "display_data"
    },
    {
     "data": {
      "text/html": [
       "<pre>| 38      | 1.04s        | 0.000835206            |</pre>"
      ],
      "text/plain": [
       "| 38      | 1.04s        | 0.000835206            |"
      ]
     },
     "metadata": {},
     "output_type": "display_data"
    },
    {
     "data": {
      "text/html": [
       "<pre>| 39      | 1.07s        | 0.000822972            |</pre>"
      ],
      "text/plain": [
       "| 39      | 1.07s        | 0.000822972            |"
      ]
     },
     "metadata": {},
     "output_type": "display_data"
    },
    {
     "data": {
      "text/html": [
       "<pre>| 40      | 1.10s        | 0.000811238            |</pre>"
      ],
      "text/plain": [
       "| 40      | 1.10s        | 0.000811238            |"
      ]
     },
     "metadata": {},
     "output_type": "display_data"
    },
    {
     "data": {
      "text/html": [
       "<pre>| 41      | 1.12s        | 0.000799823            |</pre>"
      ],
      "text/plain": [
       "| 41      | 1.12s        | 0.000799823            |"
      ]
     },
     "metadata": {},
     "output_type": "display_data"
    },
    {
     "data": {
      "text/html": [
       "<pre>| 42      | 1.17s        | 0.000788845            |</pre>"
      ],
      "text/plain": [
       "| 42      | 1.17s        | 0.000788845            |"
      ]
     },
     "metadata": {},
     "output_type": "display_data"
    },
    {
     "data": {
      "text/html": [
       "<pre>| 43      | 1.20s        | 0.00077807             |</pre>"
      ],
      "text/plain": [
       "| 43      | 1.20s        | 0.00077807             |"
      ]
     },
     "metadata": {},
     "output_type": "display_data"
    },
    {
     "data": {
      "text/html": [
       "<pre>| 44      | 1.23s        | 0.000767752            |</pre>"
      ],
      "text/plain": [
       "| 44      | 1.23s        | 0.000767752            |"
      ]
     },
     "metadata": {},
     "output_type": "display_data"
    },
    {
     "data": {
      "text/html": [
       "<pre>| 45      | 1.26s        | 0.000757541            |</pre>"
      ],
      "text/plain": [
       "| 45      | 1.26s        | 0.000757541            |"
      ]
     },
     "metadata": {},
     "output_type": "display_data"
    },
    {
     "data": {
      "text/html": [
       "<pre>| 46      | 1.29s        | 0.000747738            |</pre>"
      ],
      "text/plain": [
       "| 46      | 1.29s        | 0.000747738            |"
      ]
     },
     "metadata": {},
     "output_type": "display_data"
    },
    {
     "data": {
      "text/html": [
       "<pre>| 47      | 1.31s        | 0.000738258            |</pre>"
      ],
      "text/plain": [
       "| 47      | 1.31s        | 0.000738258            |"
      ]
     },
     "metadata": {},
     "output_type": "display_data"
    },
    {
     "data": {
      "text/html": [
       "<pre>| 48      | 1.33s        | 0.00072915             |</pre>"
      ],
      "text/plain": [
       "| 48      | 1.33s        | 0.00072915             |"
      ]
     },
     "metadata": {},
     "output_type": "display_data"
    },
    {
     "data": {
      "text/html": [
       "<pre>| 49      | 1.36s        | 0.000720103            |</pre>"
      ],
      "text/plain": [
       "| 49      | 1.36s        | 0.000720103            |"
      ]
     },
     "metadata": {},
     "output_type": "display_data"
    },
    {
     "data": {
      "text/html": [
       "<pre>| FINAL   | 1.36s        | 0.000720103            |</pre>"
      ],
      "text/plain": [
       "| FINAL   | 1.36s        | 0.000720103            |"
      ]
     },
     "metadata": {},
     "output_type": "display_data"
    },
    {
     "data": {
      "text/html": [
       "<pre>+---------+--------------+------------------------+</pre>"
      ],
      "text/plain": [
       "+---------+--------------+------------------------+"
      ]
     },
     "metadata": {},
     "output_type": "display_data"
    },
    {
     "data": {
      "text/html": [
       "<pre>Optimization Complete: Iteration limit reached.</pre>"
      ],
      "text/plain": [
       "Optimization Complete: Iteration limit reached."
      ]
     },
     "metadata": {},
     "output_type": "display_data"
    },
    {
     "data": {
      "text/html": [
       "<pre>Recsys training: model = factorization_recommender</pre>"
      ],
      "text/plain": [
       "Recsys training: model = factorization_recommender"
      ]
     },
     "metadata": {},
     "output_type": "display_data"
    },
    {
     "data": {
      "text/html": [
       "<pre>Preparing data set.</pre>"
      ],
      "text/plain": [
       "Preparing data set."
      ]
     },
     "metadata": {},
     "output_type": "display_data"
    },
    {
     "data": {
      "text/html": [
       "<pre>    Data has 24756 observations with 12294 users and 894 items.</pre>"
      ],
      "text/plain": [
       "    Data has 24756 observations with 12294 users and 894 items."
      ]
     },
     "metadata": {},
     "output_type": "display_data"
    },
    {
     "data": {
      "text/html": [
       "<pre>    Data prepared in: 0.033964s</pre>"
      ],
      "text/plain": [
       "    Data prepared in: 0.033964s"
      ]
     },
     "metadata": {},
     "output_type": "display_data"
    },
    {
     "data": {
      "text/html": [
       "<pre>Training factorization_recommender for recommendations.</pre>"
      ],
      "text/plain": [
       "Training factorization_recommender for recommendations."
      ]
     },
     "metadata": {},
     "output_type": "display_data"
    },
    {
     "data": {
      "text/html": [
       "<pre>+------------------------------+--------------------------------------------------+----------+</pre>"
      ],
      "text/plain": [
       "+------------------------------+--------------------------------------------------+----------+"
      ]
     },
     "metadata": {},
     "output_type": "display_data"
    },
    {
     "data": {
      "text/html": [
       "<pre>| Parameter                    | Description                                      | Value    |</pre>"
      ],
      "text/plain": [
       "| Parameter                    | Description                                      | Value    |"
      ]
     },
     "metadata": {},
     "output_type": "display_data"
    },
    {
     "data": {
      "text/html": [
       "<pre>+------------------------------+--------------------------------------------------+----------+</pre>"
      ],
      "text/plain": [
       "+------------------------------+--------------------------------------------------+----------+"
      ]
     },
     "metadata": {},
     "output_type": "display_data"
    },
    {
     "data": {
      "text/html": [
       "<pre>| num_factors                  | Factor Dimension                                 | 12       |</pre>"
      ],
      "text/plain": [
       "| num_factors                  | Factor Dimension                                 | 12       |"
      ]
     },
     "metadata": {},
     "output_type": "display_data"
    },
    {
     "data": {
      "text/html": [
       "<pre>| regularization               | L2 Regularization on Factors                     | 1e-08    |</pre>"
      ],
      "text/plain": [
       "| regularization               | L2 Regularization on Factors                     | 1e-08    |"
      ]
     },
     "metadata": {},
     "output_type": "display_data"
    },
    {
     "data": {
      "text/html": [
       "<pre>| max_iterations               | Maximum Number of Iterations                     | 50       |</pre>"
      ],
      "text/plain": [
       "| max_iterations               | Maximum Number of Iterations                     | 50       |"
      ]
     },
     "metadata": {},
     "output_type": "display_data"
    },
    {
     "data": {
      "text/html": [
       "<pre>| solver                       | Solver used for training                         | als      |</pre>"
      ],
      "text/plain": [
       "| solver                       | Solver used for training                         | als      |"
      ]
     },
     "metadata": {},
     "output_type": "display_data"
    },
    {
     "data": {
      "text/html": [
       "<pre>+------------------------------+--------------------------------------------------+----------+</pre>"
      ],
      "text/plain": [
       "+------------------------------+--------------------------------------------------+----------+"
      ]
     },
     "metadata": {},
     "output_type": "display_data"
    },
    {
     "data": {
      "text/html": [
       "<pre>+---------+--------------+------------------------+</pre>"
      ],
      "text/plain": [
       "+---------+--------------+------------------------+"
      ]
     },
     "metadata": {},
     "output_type": "display_data"
    },
    {
     "data": {
      "text/html": [
       "<pre>| Iter.   | Elapsed time | RMSE                   |</pre>"
      ],
      "text/plain": [
       "| Iter.   | Elapsed time | RMSE                   |"
      ]
     },
     "metadata": {},
     "output_type": "display_data"
    },
    {
     "data": {
      "text/html": [
       "<pre>+---------+--------------+------------------------+</pre>"
      ],
      "text/plain": [
       "+---------+--------------+------------------------+"
      ]
     },
     "metadata": {},
     "output_type": "display_data"
    },
    {
     "data": {
      "text/html": [
       "<pre>| Initial | 54us         | NA                     |</pre>"
      ],
      "text/plain": [
       "| Initial | 54us         | NA                     |"
      ]
     },
     "metadata": {},
     "output_type": "display_data"
    },
    {
     "data": {
      "text/html": [
       "<pre>+---------+--------------+------------------------+</pre>"
      ],
      "text/plain": [
       "+---------+--------------+------------------------+"
      ]
     },
     "metadata": {},
     "output_type": "display_data"
    },
    {
     "data": {
      "text/html": [
       "<pre>| 0       | 29.406ms     | 0.138457               |</pre>"
      ],
      "text/plain": [
       "| 0       | 29.406ms     | 0.138457               |"
      ]
     },
     "metadata": {},
     "output_type": "display_data"
    },
    {
     "data": {
      "text/html": [
       "<pre>| 1       | 61.047ms     | 0.00398714             |</pre>"
      ],
      "text/plain": [
       "| 1       | 61.047ms     | 0.00398714             |"
      ]
     },
     "metadata": {},
     "output_type": "display_data"
    },
    {
     "data": {
      "text/html": [
       "<pre>| 2       | 97.477ms     | 0.00193213             |</pre>"
      ],
      "text/plain": [
       "| 2       | 97.477ms     | 0.00193213             |"
      ]
     },
     "metadata": {},
     "output_type": "display_data"
    },
    {
     "data": {
      "text/html": [
       "<pre>| 3       | 137.589ms    | 0.00145303             |</pre>"
      ],
      "text/plain": [
       "| 3       | 137.589ms    | 0.00145303             |"
      ]
     },
     "metadata": {},
     "output_type": "display_data"
    },
    {
     "data": {
      "text/html": [
       "<pre>| 4       | 169.865ms    | 0.00126047             |</pre>"
      ],
      "text/plain": [
       "| 4       | 169.865ms    | 0.00126047             |"
      ]
     },
     "metadata": {},
     "output_type": "display_data"
    },
    {
     "data": {
      "text/html": [
       "<pre>| 5       | 200.551ms    | 0.00115107             |</pre>"
      ],
      "text/plain": [
       "| 5       | 200.551ms    | 0.00115107             |"
      ]
     },
     "metadata": {},
     "output_type": "display_data"
    },
    {
     "data": {
      "text/html": [
       "<pre>| 6       | 226.064ms    | 0.00108162             |</pre>"
      ],
      "text/plain": [
       "| 6       | 226.064ms    | 0.00108162             |"
      ]
     },
     "metadata": {},
     "output_type": "display_data"
    },
    {
     "data": {
      "text/html": [
       "<pre>| 7       | 250.73ms     | 0.00103027             |</pre>"
      ],
      "text/plain": [
       "| 7       | 250.73ms     | 0.00103027             |"
      ]
     },
     "metadata": {},
     "output_type": "display_data"
    },
    {
     "data": {
      "text/html": [
       "<pre>| 8       | 278.402ms    | 0.000988678            |</pre>"
      ],
      "text/plain": [
       "| 8       | 278.402ms    | 0.000988678            |"
      ]
     },
     "metadata": {},
     "output_type": "display_data"
    },
    {
     "data": {
      "text/html": [
       "<pre>| 9       | 306.343ms    | 0.000953125            |</pre>"
      ],
      "text/plain": [
       "| 9       | 306.343ms    | 0.000953125            |"
      ]
     },
     "metadata": {},
     "output_type": "display_data"
    },
    {
     "data": {
      "text/html": [
       "<pre>| 10      | 332.26ms     | 0.000923887            |</pre>"
      ],
      "text/plain": [
       "| 10      | 332.26ms     | 0.000923887            |"
      ]
     },
     "metadata": {},
     "output_type": "display_data"
    },
    {
     "data": {
      "text/html": [
       "<pre>| 11      | 357.025ms    | 0.000896041            |</pre>"
      ],
      "text/plain": [
       "| 11      | 357.025ms    | 0.000896041            |"
      ]
     },
     "metadata": {},
     "output_type": "display_data"
    },
    {
     "data": {
      "text/html": [
       "<pre>| 12      | 390.56ms     | 0.000872665            |</pre>"
      ],
      "text/plain": [
       "| 12      | 390.56ms     | 0.000872665            |"
      ]
     },
     "metadata": {},
     "output_type": "display_data"
    },
    {
     "data": {
      "text/html": [
       "<pre>| 13      | 424.438ms    | 0.00085033             |</pre>"
      ],
      "text/plain": [
       "| 13      | 424.438ms    | 0.00085033             |"
      ]
     },
     "metadata": {},
     "output_type": "display_data"
    },
    {
     "data": {
      "text/html": [
       "<pre>| 14      | 449.042ms    | 0.000828817            |</pre>"
      ],
      "text/plain": [
       "| 14      | 449.042ms    | 0.000828817            |"
      ]
     },
     "metadata": {},
     "output_type": "display_data"
    },
    {
     "data": {
      "text/html": [
       "<pre>| 15      | 479.781ms    | 0.000809643            |</pre>"
      ],
      "text/plain": [
       "| 15      | 479.781ms    | 0.000809643            |"
      ]
     },
     "metadata": {},
     "output_type": "display_data"
    },
    {
     "data": {
      "text/html": [
       "<pre>| 16      | 512.575ms    | 0.000791121            |</pre>"
      ],
      "text/plain": [
       "| 16      | 512.575ms    | 0.000791121            |"
      ]
     },
     "metadata": {},
     "output_type": "display_data"
    },
    {
     "data": {
      "text/html": [
       "<pre>| 17      | 547.489ms    | 0.000773971            |</pre>"
      ],
      "text/plain": [
       "| 17      | 547.489ms    | 0.000773971            |"
      ]
     },
     "metadata": {},
     "output_type": "display_data"
    },
    {
     "data": {
      "text/html": [
       "<pre>| 18      | 569.922ms    | 0.000758705            |</pre>"
      ],
      "text/plain": [
       "| 18      | 569.922ms    | 0.000758705            |"
      ]
     },
     "metadata": {},
     "output_type": "display_data"
    },
    {
     "data": {
      "text/html": [
       "<pre>| 19      | 602.913ms    | 0.00074341             |</pre>"
      ],
      "text/plain": [
       "| 19      | 602.913ms    | 0.00074341             |"
      ]
     },
     "metadata": {},
     "output_type": "display_data"
    },
    {
     "data": {
      "text/html": [
       "<pre>| 20      | 638.625ms    | 0.000728805            |</pre>"
      ],
      "text/plain": [
       "| 20      | 638.625ms    | 0.000728805            |"
      ]
     },
     "metadata": {},
     "output_type": "display_data"
    },
    {
     "data": {
      "text/html": [
       "<pre>| 21      | 670.175ms    | 0.000715393            |</pre>"
      ],
      "text/plain": [
       "| 21      | 670.175ms    | 0.000715393            |"
      ]
     },
     "metadata": {},
     "output_type": "display_data"
    },
    {
     "data": {
      "text/html": [
       "<pre>| 22      | 692.331ms    | 0.00070201             |</pre>"
      ],
      "text/plain": [
       "| 22      | 692.331ms    | 0.00070201             |"
      ]
     },
     "metadata": {},
     "output_type": "display_data"
    },
    {
     "data": {
      "text/html": [
       "<pre>| 23      | 725.79ms     | 0.000689984            |</pre>"
      ],
      "text/plain": [
       "| 23      | 725.79ms     | 0.000689984            |"
      ]
     },
     "metadata": {},
     "output_type": "display_data"
    },
    {
     "data": {
      "text/html": [
       "<pre>| 24      | 742.869ms    | 0.00067804             |</pre>"
      ],
      "text/plain": [
       "| 24      | 742.869ms    | 0.00067804             |"
      ]
     },
     "metadata": {},
     "output_type": "display_data"
    },
    {
     "data": {
      "text/html": [
       "<pre>| 25      | 769.191ms    | 0.000666739            |</pre>"
      ],
      "text/plain": [
       "| 25      | 769.191ms    | 0.000666739            |"
      ]
     },
     "metadata": {},
     "output_type": "display_data"
    },
    {
     "data": {
      "text/html": [
       "<pre>| 26      | 803.273ms    | 0.000655797            |</pre>"
      ],
      "text/plain": [
       "| 26      | 803.273ms    | 0.000655797            |"
      ]
     },
     "metadata": {},
     "output_type": "display_data"
    },
    {
     "data": {
      "text/html": [
       "<pre>| 27      | 831.322ms    | 0.000645233            |</pre>"
      ],
      "text/plain": [
       "| 27      | 831.322ms    | 0.000645233            |"
      ]
     },
     "metadata": {},
     "output_type": "display_data"
    },
    {
     "data": {
      "text/html": [
       "<pre>| 28      | 862.559ms    | 0.000635484            |</pre>"
      ],
      "text/plain": [
       "| 28      | 862.559ms    | 0.000635484            |"
      ]
     },
     "metadata": {},
     "output_type": "display_data"
    },
    {
     "data": {
      "text/html": [
       "<pre>| 29      | 901.592ms    | 0.000626142            |</pre>"
      ],
      "text/plain": [
       "| 29      | 901.592ms    | 0.000626142            |"
      ]
     },
     "metadata": {},
     "output_type": "display_data"
    },
    {
     "data": {
      "text/html": [
       "<pre>| 30      | 920.689ms    | 0.000616146            |</pre>"
      ],
      "text/plain": [
       "| 30      | 920.689ms    | 0.000616146            |"
      ]
     },
     "metadata": {},
     "output_type": "display_data"
    },
    {
     "data": {
      "text/html": [
       "<pre>| 31      | 937.907ms    | 0.000606608            |</pre>"
      ],
      "text/plain": [
       "| 31      | 937.907ms    | 0.000606608            |"
      ]
     },
     "metadata": {},
     "output_type": "display_data"
    },
    {
     "data": {
      "text/html": [
       "<pre>| 32      | 965.677ms    | 0.000597366            |</pre>"
      ],
      "text/plain": [
       "| 32      | 965.677ms    | 0.000597366            |"
      ]
     },
     "metadata": {},
     "output_type": "display_data"
    },
    {
     "data": {
      "text/html": [
       "<pre>| 33      | 999.471ms    | 0.000588896            |</pre>"
      ],
      "text/plain": [
       "| 33      | 999.471ms    | 0.000588896            |"
      ]
     },
     "metadata": {},
     "output_type": "display_data"
    },
    {
     "data": {
      "text/html": [
       "<pre>| 34      | 1.02s        | 0.000580535            |</pre>"
      ],
      "text/plain": [
       "| 34      | 1.02s        | 0.000580535            |"
      ]
     },
     "metadata": {},
     "output_type": "display_data"
    },
    {
     "data": {
      "text/html": [
       "<pre>| 35      | 1.05s        | 0.000572355            |</pre>"
      ],
      "text/plain": [
       "| 35      | 1.05s        | 0.000572355            |"
      ]
     },
     "metadata": {},
     "output_type": "display_data"
    },
    {
     "data": {
      "text/html": [
       "<pre>| 36      | 1.07s        | 0.000564581            |</pre>"
      ],
      "text/plain": [
       "| 36      | 1.07s        | 0.000564581            |"
      ]
     },
     "metadata": {},
     "output_type": "display_data"
    },
    {
     "data": {
      "text/html": [
       "<pre>| 37      | 1.10s        | 0.000556503            |</pre>"
      ],
      "text/plain": [
       "| 37      | 1.10s        | 0.000556503            |"
      ]
     },
     "metadata": {},
     "output_type": "display_data"
    },
    {
     "data": {
      "text/html": [
       "<pre>| 38      | 1.12s        | 0.00054907             |</pre>"
      ],
      "text/plain": [
       "| 38      | 1.12s        | 0.00054907             |"
      ]
     },
     "metadata": {},
     "output_type": "display_data"
    },
    {
     "data": {
      "text/html": [
       "<pre>| 39      | 1.16s        | 0.000542083            |</pre>"
      ],
      "text/plain": [
       "| 39      | 1.16s        | 0.000542083            |"
      ]
     },
     "metadata": {},
     "output_type": "display_data"
    },
    {
     "data": {
      "text/html": [
       "<pre>| 40      | 1.19s        | 0.000535474            |</pre>"
      ],
      "text/plain": [
       "| 40      | 1.19s        | 0.000535474            |"
      ]
     },
     "metadata": {},
     "output_type": "display_data"
    },
    {
     "data": {
      "text/html": [
       "<pre>| 41      | 1.21s        | 0.00052861             |</pre>"
      ],
      "text/plain": [
       "| 41      | 1.21s        | 0.00052861             |"
      ]
     },
     "metadata": {},
     "output_type": "display_data"
    },
    {
     "data": {
      "text/html": [
       "<pre>| 42      | 1.25s        | 0.000521989            |</pre>"
      ],
      "text/plain": [
       "| 42      | 1.25s        | 0.000521989            |"
      ]
     },
     "metadata": {},
     "output_type": "display_data"
    },
    {
     "data": {
      "text/html": [
       "<pre>| 43      | 1.27s        | 0.000515688            |</pre>"
      ],
      "text/plain": [
       "| 43      | 1.27s        | 0.000515688            |"
      ]
     },
     "metadata": {},
     "output_type": "display_data"
    },
    {
     "data": {
      "text/html": [
       "<pre>| 44      | 1.31s        | 0.000509875            |</pre>"
      ],
      "text/plain": [
       "| 44      | 1.31s        | 0.000509875            |"
      ]
     },
     "metadata": {},
     "output_type": "display_data"
    },
    {
     "data": {
      "text/html": [
       "<pre>| 45      | 1.34s        | 0.000503968            |</pre>"
      ],
      "text/plain": [
       "| 45      | 1.34s        | 0.000503968            |"
      ]
     },
     "metadata": {},
     "output_type": "display_data"
    },
    {
     "data": {
      "text/html": [
       "<pre>| 46      | 1.36s        | 0.000498233            |</pre>"
      ],
      "text/plain": [
       "| 46      | 1.36s        | 0.000498233            |"
      ]
     },
     "metadata": {},
     "output_type": "display_data"
    },
    {
     "data": {
      "text/html": [
       "<pre>| 47      | 1.38s        | 0.000492814            |</pre>"
      ],
      "text/plain": [
       "| 47      | 1.38s        | 0.000492814            |"
      ]
     },
     "metadata": {},
     "output_type": "display_data"
    },
    {
     "data": {
      "text/html": [
       "<pre>| 48      | 1.41s        | 0.000487392            |</pre>"
      ],
      "text/plain": [
       "| 48      | 1.41s        | 0.000487392            |"
      ]
     },
     "metadata": {},
     "output_type": "display_data"
    },
    {
     "data": {
      "text/html": [
       "<pre>| 49      | 1.44s        | 0.000482397            |</pre>"
      ],
      "text/plain": [
       "| 49      | 1.44s        | 0.000482397            |"
      ]
     },
     "metadata": {},
     "output_type": "display_data"
    },
    {
     "data": {
      "text/html": [
       "<pre>| FINAL   | 1.44s        | 0.000482397            |</pre>"
      ],
      "text/plain": [
       "| FINAL   | 1.44s        | 0.000482397            |"
      ]
     },
     "metadata": {},
     "output_type": "display_data"
    },
    {
     "data": {
      "text/html": [
       "<pre>+---------+--------------+------------------------+</pre>"
      ],
      "text/plain": [
       "+---------+--------------+------------------------+"
      ]
     },
     "metadata": {},
     "output_type": "display_data"
    },
    {
     "data": {
      "text/html": [
       "<pre>Optimization Complete: Iteration limit reached.</pre>"
      ],
      "text/plain": [
       "Optimization Complete: Iteration limit reached."
      ]
     },
     "metadata": {},
     "output_type": "display_data"
    },
    {
     "data": {
      "text/html": [
       "<pre>Recsys training: model = factorization_recommender</pre>"
      ],
      "text/plain": [
       "Recsys training: model = factorization_recommender"
      ]
     },
     "metadata": {},
     "output_type": "display_data"
    },
    {
     "data": {
      "text/html": [
       "<pre>Preparing data set.</pre>"
      ],
      "text/plain": [
       "Preparing data set."
      ]
     },
     "metadata": {},
     "output_type": "display_data"
    },
    {
     "data": {
      "text/html": [
       "<pre>    Data has 24756 observations with 12294 users and 894 items.</pre>"
      ],
      "text/plain": [
       "    Data has 24756 observations with 12294 users and 894 items."
      ]
     },
     "metadata": {},
     "output_type": "display_data"
    },
    {
     "data": {
      "text/html": [
       "<pre>    Data prepared in: 0.032297s</pre>"
      ],
      "text/plain": [
       "    Data prepared in: 0.032297s"
      ]
     },
     "metadata": {},
     "output_type": "display_data"
    },
    {
     "data": {
      "text/html": [
       "<pre>Training factorization_recommender for recommendations.</pre>"
      ],
      "text/plain": [
       "Training factorization_recommender for recommendations."
      ]
     },
     "metadata": {},
     "output_type": "display_data"
    },
    {
     "data": {
      "text/html": [
       "<pre>+------------------------------+--------------------------------------------------+----------+</pre>"
      ],
      "text/plain": [
       "+------------------------------+--------------------------------------------------+----------+"
      ]
     },
     "metadata": {},
     "output_type": "display_data"
    },
    {
     "data": {
      "text/html": [
       "<pre>| Parameter                    | Description                                      | Value    |</pre>"
      ],
      "text/plain": [
       "| Parameter                    | Description                                      | Value    |"
      ]
     },
     "metadata": {},
     "output_type": "display_data"
    },
    {
     "data": {
      "text/html": [
       "<pre>+------------------------------+--------------------------------------------------+----------+</pre>"
      ],
      "text/plain": [
       "+------------------------------+--------------------------------------------------+----------+"
      ]
     },
     "metadata": {},
     "output_type": "display_data"
    },
    {
     "data": {
      "text/html": [
       "<pre>| num_factors                  | Factor Dimension                                 | 14       |</pre>"
      ],
      "text/plain": [
       "| num_factors                  | Factor Dimension                                 | 14       |"
      ]
     },
     "metadata": {},
     "output_type": "display_data"
    },
    {
     "data": {
      "text/html": [
       "<pre>| regularization               | L2 Regularization on Factors                     | 1e-08    |</pre>"
      ],
      "text/plain": [
       "| regularization               | L2 Regularization on Factors                     | 1e-08    |"
      ]
     },
     "metadata": {},
     "output_type": "display_data"
    },
    {
     "data": {
      "text/html": [
       "<pre>| max_iterations               | Maximum Number of Iterations                     | 50       |</pre>"
      ],
      "text/plain": [
       "| max_iterations               | Maximum Number of Iterations                     | 50       |"
      ]
     },
     "metadata": {},
     "output_type": "display_data"
    },
    {
     "data": {
      "text/html": [
       "<pre>| solver                       | Solver used for training                         | als      |</pre>"
      ],
      "text/plain": [
       "| solver                       | Solver used for training                         | als      |"
      ]
     },
     "metadata": {},
     "output_type": "display_data"
    },
    {
     "data": {
      "text/html": [
       "<pre>+------------------------------+--------------------------------------------------+----------+</pre>"
      ],
      "text/plain": [
       "+------------------------------+--------------------------------------------------+----------+"
      ]
     },
     "metadata": {},
     "output_type": "display_data"
    },
    {
     "data": {
      "text/html": [
       "<pre>+---------+--------------+------------------------+</pre>"
      ],
      "text/plain": [
       "+---------+--------------+------------------------+"
      ]
     },
     "metadata": {},
     "output_type": "display_data"
    },
    {
     "data": {
      "text/html": [
       "<pre>| Iter.   | Elapsed time | RMSE                   |</pre>"
      ],
      "text/plain": [
       "| Iter.   | Elapsed time | RMSE                   |"
      ]
     },
     "metadata": {},
     "output_type": "display_data"
    },
    {
     "data": {
      "text/html": [
       "<pre>+---------+--------------+------------------------+</pre>"
      ],
      "text/plain": [
       "+---------+--------------+------------------------+"
      ]
     },
     "metadata": {},
     "output_type": "display_data"
    },
    {
     "data": {
      "text/html": [
       "<pre>| Initial | 77us         | NA                     |</pre>"
      ],
      "text/plain": [
       "| Initial | 77us         | NA                     |"
      ]
     },
     "metadata": {},
     "output_type": "display_data"
    },
    {
     "data": {
      "text/html": [
       "<pre>+---------+--------------+------------------------+</pre>"
      ],
      "text/plain": [
       "+---------+--------------+------------------------+"
      ]
     },
     "metadata": {},
     "output_type": "display_data"
    },
    {
     "data": {
      "text/html": [
       "<pre>| 0       | 42.504ms     | 0.124015               |</pre>"
      ],
      "text/plain": [
       "| 0       | 42.504ms     | 0.124015               |"
      ]
     },
     "metadata": {},
     "output_type": "display_data"
    },
    {
     "data": {
      "text/html": [
       "<pre>| 1       | 80.9ms       | 0.0025368              |</pre>"
      ],
      "text/plain": [
       "| 1       | 80.9ms       | 0.0025368              |"
      ]
     },
     "metadata": {},
     "output_type": "display_data"
    },
    {
     "data": {
      "text/html": [
       "<pre>| 2       | 113.366ms    | 0.00135453             |</pre>"
      ],
      "text/plain": [
       "| 2       | 113.366ms    | 0.00135453             |"
      ]
     },
     "metadata": {},
     "output_type": "display_data"
    },
    {
     "data": {
      "text/html": [
       "<pre>| 3       | 147.756ms    | 0.00107859             |</pre>"
      ],
      "text/plain": [
       "| 3       | 147.756ms    | 0.00107859             |"
      ]
     },
     "metadata": {},
     "output_type": "display_data"
    },
    {
     "data": {
      "text/html": [
       "<pre>| 4       | 187.956ms    | 0.000958341            |</pre>"
      ],
      "text/plain": [
       "| 4       | 187.956ms    | 0.000958341            |"
      ]
     },
     "metadata": {},
     "output_type": "display_data"
    },
    {
     "data": {
      "text/html": [
       "<pre>| 5       | 213.848ms    | 0.000883806            |</pre>"
      ],
      "text/plain": [
       "| 5       | 213.848ms    | 0.000883806            |"
      ]
     },
     "metadata": {},
     "output_type": "display_data"
    },
    {
     "data": {
      "text/html": [
       "<pre>| 6       | 252.422ms    | 0.000829975            |</pre>"
      ],
      "text/plain": [
       "| 6       | 252.422ms    | 0.000829975            |"
      ]
     },
     "metadata": {},
     "output_type": "display_data"
    },
    {
     "data": {
      "text/html": [
       "<pre>| 7       | 275.338ms    | 0.000786785            |</pre>"
      ],
      "text/plain": [
       "| 7       | 275.338ms    | 0.000786785            |"
      ]
     },
     "metadata": {},
     "output_type": "display_data"
    },
    {
     "data": {
      "text/html": [
       "<pre>| 8       | 318.244ms    | 0.000749963            |</pre>"
      ],
      "text/plain": [
       "| 8       | 318.244ms    | 0.000749963            |"
      ]
     },
     "metadata": {},
     "output_type": "display_data"
    },
    {
     "data": {
      "text/html": [
       "<pre>| 9       | 344.905ms    | 0.000719503            |</pre>"
      ],
      "text/plain": [
       "| 9       | 344.905ms    | 0.000719503            |"
      ]
     },
     "metadata": {},
     "output_type": "display_data"
    },
    {
     "data": {
      "text/html": [
       "<pre>| 10      | 365.997ms    | 0.000690994            |</pre>"
      ],
      "text/plain": [
       "| 10      | 365.997ms    | 0.000690994            |"
      ]
     },
     "metadata": {},
     "output_type": "display_data"
    },
    {
     "data": {
      "text/html": [
       "<pre>| 11      | 402.107ms    | 0.000668516            |</pre>"
      ],
      "text/plain": [
       "| 11      | 402.107ms    | 0.000668516            |"
      ]
     },
     "metadata": {},
     "output_type": "display_data"
    },
    {
     "data": {
      "text/html": [
       "<pre>| 12      | 429.396ms    | 0.000647586            |</pre>"
      ],
      "text/plain": [
       "| 12      | 429.396ms    | 0.000647586            |"
      ]
     },
     "metadata": {},
     "output_type": "display_data"
    },
    {
     "data": {
      "text/html": [
       "<pre>| 13      | 461.02ms     | 0.00062808             |</pre>"
      ],
      "text/plain": [
       "| 13      | 461.02ms     | 0.00062808             |"
      ]
     },
     "metadata": {},
     "output_type": "display_data"
    },
    {
     "data": {
      "text/html": [
       "<pre>| 14      | 488.582ms    | 0.000610692            |</pre>"
      ],
      "text/plain": [
       "| 14      | 488.582ms    | 0.000610692            |"
      ]
     },
     "metadata": {},
     "output_type": "display_data"
    },
    {
     "data": {
      "text/html": [
       "<pre>| 15      | 527.291ms    | 0.000595225            |</pre>"
      ],
      "text/plain": [
       "| 15      | 527.291ms    | 0.000595225            |"
      ]
     },
     "metadata": {},
     "output_type": "display_data"
    },
    {
     "data": {
      "text/html": [
       "<pre>| 16      | 548.492ms    | 0.000578896            |</pre>"
      ],
      "text/plain": [
       "| 16      | 548.492ms    | 0.000578896            |"
      ]
     },
     "metadata": {},
     "output_type": "display_data"
    },
    {
     "data": {
      "text/html": [
       "<pre>| 17      | 587.629ms    | 0.000564703            |</pre>"
      ],
      "text/plain": [
       "| 17      | 587.629ms    | 0.000564703            |"
      ]
     },
     "metadata": {},
     "output_type": "display_data"
    },
    {
     "data": {
      "text/html": [
       "<pre>| 18      | 627.018ms    | 0.000550804            |</pre>"
      ],
      "text/plain": [
       "| 18      | 627.018ms    | 0.000550804            |"
      ]
     },
     "metadata": {},
     "output_type": "display_data"
    },
    {
     "data": {
      "text/html": [
       "<pre>| 19      | 665.643ms    | 0.000538479            |</pre>"
      ],
      "text/plain": [
       "| 19      | 665.643ms    | 0.000538479            |"
      ]
     },
     "metadata": {},
     "output_type": "display_data"
    },
    {
     "data": {
      "text/html": [
       "<pre>| 20      | 705.305ms    | 0.000528009            |</pre>"
      ],
      "text/plain": [
       "| 20      | 705.305ms    | 0.000528009            |"
      ]
     },
     "metadata": {},
     "output_type": "display_data"
    },
    {
     "data": {
      "text/html": [
       "<pre>| 21      | 752.09ms     | 0.000517961            |</pre>"
      ],
      "text/plain": [
       "| 21      | 752.09ms     | 0.000517961            |"
      ]
     },
     "metadata": {},
     "output_type": "display_data"
    },
    {
     "data": {
      "text/html": [
       "<pre>| 22      | 796.215ms    | 0.00051085             |</pre>"
      ],
      "text/plain": [
       "| 22      | 796.215ms    | 0.00051085             |"
      ]
     },
     "metadata": {},
     "output_type": "display_data"
    },
    {
     "data": {
      "text/html": [
       "<pre>| 23      | 842.793ms    | 0.000496867            |</pre>"
      ],
      "text/plain": [
       "| 23      | 842.793ms    | 0.000496867            |"
      ]
     },
     "metadata": {},
     "output_type": "display_data"
    },
    {
     "data": {
      "text/html": [
       "<pre>| 24      | 880.284ms    | 0.000486702            |</pre>"
      ],
      "text/plain": [
       "| 24      | 880.284ms    | 0.000486702            |"
      ]
     },
     "metadata": {},
     "output_type": "display_data"
    },
    {
     "data": {
      "text/html": [
       "<pre>| 25      | 911.09ms     | 0.000477901            |</pre>"
      ],
      "text/plain": [
       "| 25      | 911.09ms     | 0.000477901            |"
      ]
     },
     "metadata": {},
     "output_type": "display_data"
    },
    {
     "data": {
      "text/html": [
       "<pre>| 26      | 950.721ms    | 0.000470025            |</pre>"
      ],
      "text/plain": [
       "| 26      | 950.721ms    | 0.000470025            |"
      ]
     },
     "metadata": {},
     "output_type": "display_data"
    },
    {
     "data": {
      "text/html": [
       "<pre>| 27      | 989.372ms    | 0.000460868            |</pre>"
      ],
      "text/plain": [
       "| 27      | 989.372ms    | 0.000460868            |"
      ]
     },
     "metadata": {},
     "output_type": "display_data"
    },
    {
     "data": {
      "text/html": [
       "<pre>| 28      | 1.02s        | 0.000453352            |</pre>"
      ],
      "text/plain": [
       "| 28      | 1.02s        | 0.000453352            |"
      ]
     },
     "metadata": {},
     "output_type": "display_data"
    },
    {
     "data": {
      "text/html": [
       "<pre>| 29      | 1.04s        | 0.000448503            |</pre>"
      ],
      "text/plain": [
       "| 29      | 1.04s        | 0.000448503            |"
      ]
     },
     "metadata": {},
     "output_type": "display_data"
    },
    {
     "data": {
      "text/html": [
       "<pre>| 30      | 1.08s        | 0.000441389            |</pre>"
      ],
      "text/plain": [
       "| 30      | 1.08s        | 0.000441389            |"
      ]
     },
     "metadata": {},
     "output_type": "display_data"
    },
    {
     "data": {
      "text/html": [
       "<pre>| 31      | 1.13s        | 0.000435164            |</pre>"
      ],
      "text/plain": [
       "| 31      | 1.13s        | 0.000435164            |"
      ]
     },
     "metadata": {},
     "output_type": "display_data"
    },
    {
     "data": {
      "text/html": [
       "<pre>| 32      | 1.16s        | 0.000428929            |</pre>"
      ],
      "text/plain": [
       "| 32      | 1.16s        | 0.000428929            |"
      ]
     },
     "metadata": {},
     "output_type": "display_data"
    },
    {
     "data": {
      "text/html": [
       "<pre>| 33      | 1.19s        | 0.000422539            |</pre>"
      ],
      "text/plain": [
       "| 33      | 1.19s        | 0.000422539            |"
      ]
     },
     "metadata": {},
     "output_type": "display_data"
    },
    {
     "data": {
      "text/html": [
       "<pre>| 34      | 1.23s        | 0.000418263            |</pre>"
      ],
      "text/plain": [
       "| 34      | 1.23s        | 0.000418263            |"
      ]
     },
     "metadata": {},
     "output_type": "display_data"
    },
    {
     "data": {
      "text/html": [
       "<pre>| 35      | 1.27s        | 0.000411499            |</pre>"
      ],
      "text/plain": [
       "| 35      | 1.27s        | 0.000411499            |"
      ]
     },
     "metadata": {},
     "output_type": "display_data"
    },
    {
     "data": {
      "text/html": [
       "<pre>| 36      | 1.30s        | 0.000405291            |</pre>"
      ],
      "text/plain": [
       "| 36      | 1.30s        | 0.000405291            |"
      ]
     },
     "metadata": {},
     "output_type": "display_data"
    },
    {
     "data": {
      "text/html": [
       "<pre>| 37      | 1.35s        | 0.000399126            |</pre>"
      ],
      "text/plain": [
       "| 37      | 1.35s        | 0.000399126            |"
      ]
     },
     "metadata": {},
     "output_type": "display_data"
    },
    {
     "data": {
      "text/html": [
       "<pre>| 38      | 1.39s        | 0.000393805            |</pre>"
      ],
      "text/plain": [
       "| 38      | 1.39s        | 0.000393805            |"
      ]
     },
     "metadata": {},
     "output_type": "display_data"
    },
    {
     "data": {
      "text/html": [
       "<pre>| 39      | 1.43s        | 0.000389024            |</pre>"
      ],
      "text/plain": [
       "| 39      | 1.43s        | 0.000389024            |"
      ]
     },
     "metadata": {},
     "output_type": "display_data"
    },
    {
     "data": {
      "text/html": [
       "<pre>| 40      | 1.47s        | 0.000384476            |</pre>"
      ],
      "text/plain": [
       "| 40      | 1.47s        | 0.000384476            |"
      ]
     },
     "metadata": {},
     "output_type": "display_data"
    },
    {
     "data": {
      "text/html": [
       "<pre>| 41      | 1.51s        | 0.00037966             |</pre>"
      ],
      "text/plain": [
       "| 41      | 1.51s        | 0.00037966             |"
      ]
     },
     "metadata": {},
     "output_type": "display_data"
    },
    {
     "data": {
      "text/html": [
       "<pre>| 42      | 1.56s        | 0.000374964            |</pre>"
      ],
      "text/plain": [
       "| 42      | 1.56s        | 0.000374964            |"
      ]
     },
     "metadata": {},
     "output_type": "display_data"
    },
    {
     "data": {
      "text/html": [
       "<pre>| 43      | 1.59s        | 0.000370337            |</pre>"
      ],
      "text/plain": [
       "| 43      | 1.59s        | 0.000370337            |"
      ]
     },
     "metadata": {},
     "output_type": "display_data"
    },
    {
     "data": {
      "text/html": [
       "<pre>| 44      | 1.62s        | 0.000365823            |</pre>"
      ],
      "text/plain": [
       "| 44      | 1.62s        | 0.000365823            |"
      ]
     },
     "metadata": {},
     "output_type": "display_data"
    },
    {
     "data": {
      "text/html": [
       "<pre>| 45      | 1.66s        | 0.000362413            |</pre>"
      ],
      "text/plain": [
       "| 45      | 1.66s        | 0.000362413            |"
      ]
     },
     "metadata": {},
     "output_type": "display_data"
    },
    {
     "data": {
      "text/html": [
       "<pre>| 46      | 1.68s        | 0.000357805            |</pre>"
      ],
      "text/plain": [
       "| 46      | 1.68s        | 0.000357805            |"
      ]
     },
     "metadata": {},
     "output_type": "display_data"
    },
    {
     "data": {
      "text/html": [
       "<pre>| 47      | 1.73s        | 0.00035346             |</pre>"
      ],
      "text/plain": [
       "| 47      | 1.73s        | 0.00035346             |"
      ]
     },
     "metadata": {},
     "output_type": "display_data"
    },
    {
     "data": {
      "text/html": [
       "<pre>| 48      | 1.76s        | 0.000349579            |</pre>"
      ],
      "text/plain": [
       "| 48      | 1.76s        | 0.000349579            |"
      ]
     },
     "metadata": {},
     "output_type": "display_data"
    },
    {
     "data": {
      "text/html": [
       "<pre>| 49      | 1.78s        | 0.000345556            |</pre>"
      ],
      "text/plain": [
       "| 49      | 1.78s        | 0.000345556            |"
      ]
     },
     "metadata": {},
     "output_type": "display_data"
    },
    {
     "data": {
      "text/html": [
       "<pre>| FINAL   | 1.78s        | 0.000345556            |</pre>"
      ],
      "text/plain": [
       "| FINAL   | 1.78s        | 0.000345556            |"
      ]
     },
     "metadata": {},
     "output_type": "display_data"
    },
    {
     "data": {
      "text/html": [
       "<pre>+---------+--------------+------------------------+</pre>"
      ],
      "text/plain": [
       "+---------+--------------+------------------------+"
      ]
     },
     "metadata": {},
     "output_type": "display_data"
    },
    {
     "data": {
      "text/html": [
       "<pre>Optimization Complete: Iteration limit reached.</pre>"
      ],
      "text/plain": [
       "Optimization Complete: Iteration limit reached."
      ]
     },
     "metadata": {},
     "output_type": "display_data"
    },
    {
     "data": {
      "text/html": [
       "<pre>Recsys training: model = factorization_recommender</pre>"
      ],
      "text/plain": [
       "Recsys training: model = factorization_recommender"
      ]
     },
     "metadata": {},
     "output_type": "display_data"
    },
    {
     "data": {
      "text/html": [
       "<pre>Preparing data set.</pre>"
      ],
      "text/plain": [
       "Preparing data set."
      ]
     },
     "metadata": {},
     "output_type": "display_data"
    },
    {
     "data": {
      "text/html": [
       "<pre>    Data has 24756 observations with 12294 users and 894 items.</pre>"
      ],
      "text/plain": [
       "    Data has 24756 observations with 12294 users and 894 items."
      ]
     },
     "metadata": {},
     "output_type": "display_data"
    },
    {
     "data": {
      "text/html": [
       "<pre>    Data prepared in: 0.03489s</pre>"
      ],
      "text/plain": [
       "    Data prepared in: 0.03489s"
      ]
     },
     "metadata": {},
     "output_type": "display_data"
    },
    {
     "data": {
      "text/html": [
       "<pre>Training factorization_recommender for recommendations.</pre>"
      ],
      "text/plain": [
       "Training factorization_recommender for recommendations."
      ]
     },
     "metadata": {},
     "output_type": "display_data"
    },
    {
     "data": {
      "text/html": [
       "<pre>+------------------------------+--------------------------------------------------+----------+</pre>"
      ],
      "text/plain": [
       "+------------------------------+--------------------------------------------------+----------+"
      ]
     },
     "metadata": {},
     "output_type": "display_data"
    },
    {
     "data": {
      "text/html": [
       "<pre>| Parameter                    | Description                                      | Value    |</pre>"
      ],
      "text/plain": [
       "| Parameter                    | Description                                      | Value    |"
      ]
     },
     "metadata": {},
     "output_type": "display_data"
    },
    {
     "data": {
      "text/html": [
       "<pre>+------------------------------+--------------------------------------------------+----------+</pre>"
      ],
      "text/plain": [
       "+------------------------------+--------------------------------------------------+----------+"
      ]
     },
     "metadata": {},
     "output_type": "display_data"
    },
    {
     "data": {
      "text/html": [
       "<pre>| num_factors                  | Factor Dimension                                 | 16       |</pre>"
      ],
      "text/plain": [
       "| num_factors                  | Factor Dimension                                 | 16       |"
      ]
     },
     "metadata": {},
     "output_type": "display_data"
    },
    {
     "data": {
      "text/html": [
       "<pre>| regularization               | L2 Regularization on Factors                     | 1e-08    |</pre>"
      ],
      "text/plain": [
       "| regularization               | L2 Regularization on Factors                     | 1e-08    |"
      ]
     },
     "metadata": {},
     "output_type": "display_data"
    },
    {
     "data": {
      "text/html": [
       "<pre>| max_iterations               | Maximum Number of Iterations                     | 50       |</pre>"
      ],
      "text/plain": [
       "| max_iterations               | Maximum Number of Iterations                     | 50       |"
      ]
     },
     "metadata": {},
     "output_type": "display_data"
    },
    {
     "data": {
      "text/html": [
       "<pre>| solver                       | Solver used for training                         | als      |</pre>"
      ],
      "text/plain": [
       "| solver                       | Solver used for training                         | als      |"
      ]
     },
     "metadata": {},
     "output_type": "display_data"
    },
    {
     "data": {
      "text/html": [
       "<pre>+------------------------------+--------------------------------------------------+----------+</pre>"
      ],
      "text/plain": [
       "+------------------------------+--------------------------------------------------+----------+"
      ]
     },
     "metadata": {},
     "output_type": "display_data"
    },
    {
     "data": {
      "text/html": [
       "<pre>+---------+--------------+------------------------+</pre>"
      ],
      "text/plain": [
       "+---------+--------------+------------------------+"
      ]
     },
     "metadata": {},
     "output_type": "display_data"
    },
    {
     "data": {
      "text/html": [
       "<pre>| Iter.   | Elapsed time | RMSE                   |</pre>"
      ],
      "text/plain": [
       "| Iter.   | Elapsed time | RMSE                   |"
      ]
     },
     "metadata": {},
     "output_type": "display_data"
    },
    {
     "data": {
      "text/html": [
       "<pre>+---------+--------------+------------------------+</pre>"
      ],
      "text/plain": [
       "+---------+--------------+------------------------+"
      ]
     },
     "metadata": {},
     "output_type": "display_data"
    },
    {
     "data": {
      "text/html": [
       "<pre>| Initial | 82us         | NA                     |</pre>"
      ],
      "text/plain": [
       "| Initial | 82us         | NA                     |"
      ]
     },
     "metadata": {},
     "output_type": "display_data"
    },
    {
     "data": {
      "text/html": [
       "<pre>+---------+--------------+------------------------+</pre>"
      ],
      "text/plain": [
       "+---------+--------------+------------------------+"
      ]
     },
     "metadata": {},
     "output_type": "display_data"
    },
    {
     "data": {
      "text/html": [
       "<pre>| 0       | 44.022ms     | 0.107556               |</pre>"
      ],
      "text/plain": [
       "| 0       | 44.022ms     | 0.107556               |"
      ]
     },
     "metadata": {},
     "output_type": "display_data"
    },
    {
     "data": {
      "text/html": [
       "<pre>| 1       | 88.088ms     | 0.00094262             |</pre>"
      ],
      "text/plain": [
       "| 1       | 88.088ms     | 0.00094262             |"
      ]
     },
     "metadata": {},
     "output_type": "display_data"
    },
    {
     "data": {
      "text/html": [
       "<pre>| 2       | 131.193ms    | 0.000940644            |</pre>"
      ],
      "text/plain": [
       "| 2       | 131.193ms    | 0.000940644            |"
      ]
     },
     "metadata": {},
     "output_type": "display_data"
    },
    {
     "data": {
      "text/html": [
       "<pre>| 3       | 169.637ms    | 0.000848247            |</pre>"
      ],
      "text/plain": [
       "| 3       | 169.637ms    | 0.000848247            |"
      ]
     },
     "metadata": {},
     "output_type": "display_data"
    },
    {
     "data": {
      "text/html": [
       "<pre>| 4       | 208.187ms    | 0.000777893            |</pre>"
      ],
      "text/plain": [
       "| 4       | 208.187ms    | 0.000777893            |"
      ]
     },
     "metadata": {},
     "output_type": "display_data"
    },
    {
     "data": {
      "text/html": [
       "<pre>| 5       | 242.37ms     | 0.000725183            |</pre>"
      ],
      "text/plain": [
       "| 5       | 242.37ms     | 0.000725183            |"
      ]
     },
     "metadata": {},
     "output_type": "display_data"
    },
    {
     "data": {
      "text/html": [
       "<pre>| 6       | 278.675ms    | 0.000694462            |</pre>"
      ],
      "text/plain": [
       "| 6       | 278.675ms    | 0.000694462            |"
      ]
     },
     "metadata": {},
     "output_type": "display_data"
    },
    {
     "data": {
      "text/html": [
       "<pre>| 7       | 318.242ms    | 0.000735692            |</pre>"
      ],
      "text/plain": [
       "| 7       | 318.242ms    | 0.000735692            |"
      ]
     },
     "metadata": {},
     "output_type": "display_data"
    },
    {
     "data": {
      "text/html": [
       "<pre>| 8       | 364.733ms    | 0.000605605            |</pre>"
      ],
      "text/plain": [
       "| 8       | 364.733ms    | 0.000605605            |"
      ]
     },
     "metadata": {},
     "output_type": "display_data"
    },
    {
     "data": {
      "text/html": [
       "<pre>| 9       | 400.143ms    | 0.000566889            |</pre>"
      ],
      "text/plain": [
       "| 9       | 400.143ms    | 0.000566889            |"
      ]
     },
     "metadata": {},
     "output_type": "display_data"
    },
    {
     "data": {
      "text/html": [
       "<pre>| 10      | 444.823ms    | 0.000571259            |</pre>"
      ],
      "text/plain": [
       "| 10      | 444.823ms    | 0.000571259            |"
      ]
     },
     "metadata": {},
     "output_type": "display_data"
    },
    {
     "data": {
      "text/html": [
       "<pre>| 11      | 469.411ms    | 0.000507481            |</pre>"
      ],
      "text/plain": [
       "| 11      | 469.411ms    | 0.000507481            |"
      ]
     },
     "metadata": {},
     "output_type": "display_data"
    },
    {
     "data": {
      "text/html": [
       "<pre>| 12      | 489.348ms    | 0.000550595            |</pre>"
      ],
      "text/plain": [
       "| 12      | 489.348ms    | 0.000550595            |"
      ]
     },
     "metadata": {},
     "output_type": "display_data"
    },
    {
     "data": {
      "text/html": [
       "<pre>| 13      | 522.228ms    | 0.000521861            |</pre>"
      ],
      "text/plain": [
       "| 13      | 522.228ms    | 0.000521861            |"
      ]
     },
     "metadata": {},
     "output_type": "display_data"
    },
    {
     "data": {
      "text/html": [
       "<pre>| 14      | 560.165ms    | 0.000546289            |</pre>"
      ],
      "text/plain": [
       "| 14      | 560.165ms    | 0.000546289            |"
      ]
     },
     "metadata": {},
     "output_type": "display_data"
    },
    {
     "data": {
      "text/html": [
       "<pre>| 15      | 595.169ms    | 0.00048638             |</pre>"
      ],
      "text/plain": [
       "| 15      | 595.169ms    | 0.00048638             |"
      ]
     },
     "metadata": {},
     "output_type": "display_data"
    },
    {
     "data": {
      "text/html": [
       "<pre>| 16      | 630.644ms    | 0.00049756             |</pre>"
      ],
      "text/plain": [
       "| 16      | 630.644ms    | 0.00049756             |"
      ]
     },
     "metadata": {},
     "output_type": "display_data"
    },
    {
     "data": {
      "text/html": [
       "<pre>| 17      | 675.837ms    | 0.000488504            |</pre>"
      ],
      "text/plain": [
       "| 17      | 675.837ms    | 0.000488504            |"
      ]
     },
     "metadata": {},
     "output_type": "display_data"
    },
    {
     "data": {
      "text/html": [
       "<pre>| 18      | 706.463ms    | 0.000432499            |</pre>"
      ],
      "text/plain": [
       "| 18      | 706.463ms    | 0.000432499            |"
      ]
     },
     "metadata": {},
     "output_type": "display_data"
    },
    {
     "data": {
      "text/html": [
       "<pre>| 19      | 740.829ms    | 0.000489278            |</pre>"
      ],
      "text/plain": [
       "| 19      | 740.829ms    | 0.000489278            |"
      ]
     },
     "metadata": {},
     "output_type": "display_data"
    },
    {
     "data": {
      "text/html": [
       "<pre>| 20      | 772.267ms    | 0.000470022            |</pre>"
      ],
      "text/plain": [
       "| 20      | 772.267ms    | 0.000470022            |"
      ]
     },
     "metadata": {},
     "output_type": "display_data"
    },
    {
     "data": {
      "text/html": [
       "<pre>| 21      | 805.791ms    | 0.000470517            |</pre>"
      ],
      "text/plain": [
       "| 21      | 805.791ms    | 0.000470517            |"
      ]
     },
     "metadata": {},
     "output_type": "display_data"
    },
    {
     "data": {
      "text/html": [
       "<pre>| 22      | 840.745ms    | 0.000471074            |</pre>"
      ],
      "text/plain": [
       "| 22      | 840.745ms    | 0.000471074            |"
      ]
     },
     "metadata": {},
     "output_type": "display_data"
    },
    {
     "data": {
      "text/html": [
       "<pre>| 23      | 884.269ms    | 0.00040388             |</pre>"
      ],
      "text/plain": [
       "| 23      | 884.269ms    | 0.00040388             |"
      ]
     },
     "metadata": {},
     "output_type": "display_data"
    },
    {
     "data": {
      "text/html": [
       "<pre>| 24      | 911.565ms    | 0.000407874            |</pre>"
      ],
      "text/plain": [
       "| 24      | 911.565ms    | 0.000407874            |"
      ]
     },
     "metadata": {},
     "output_type": "display_data"
    },
    {
     "data": {
      "text/html": [
       "<pre>| 25      | 942.33ms     | 0.000414113            |</pre>"
      ],
      "text/plain": [
       "| 25      | 942.33ms     | 0.000414113            |"
      ]
     },
     "metadata": {},
     "output_type": "display_data"
    },
    {
     "data": {
      "text/html": [
       "<pre>| 26      | 978.134ms    | 0.000424863            |</pre>"
      ],
      "text/plain": [
       "| 26      | 978.134ms    | 0.000424863            |"
      ]
     },
     "metadata": {},
     "output_type": "display_data"
    },
    {
     "data": {
      "text/html": [
       "<pre>| 27      | 1.01s        | 0.000401334            |</pre>"
      ],
      "text/plain": [
       "| 27      | 1.01s        | 0.000401334            |"
      ]
     },
     "metadata": {},
     "output_type": "display_data"
    },
    {
     "data": {
      "text/html": [
       "<pre>| 28      | 1.04s        | 0.000396081            |</pre>"
      ],
      "text/plain": [
       "| 28      | 1.04s        | 0.000396081            |"
      ]
     },
     "metadata": {},
     "output_type": "display_data"
    },
    {
     "data": {
      "text/html": [
       "<pre>| 29      | 1.08s        | 0.000387569            |</pre>"
      ],
      "text/plain": [
       "| 29      | 1.08s        | 0.000387569            |"
      ]
     },
     "metadata": {},
     "output_type": "display_data"
    },
    {
     "data": {
      "text/html": [
       "<pre>| 30      | 1.12s        | 0.0003629              |</pre>"
      ],
      "text/plain": [
       "| 30      | 1.12s        | 0.0003629              |"
      ]
     },
     "metadata": {},
     "output_type": "display_data"
    },
    {
     "data": {
      "text/html": [
       "<pre>| 31      | 1.15s        | 0.000370275            |</pre>"
      ],
      "text/plain": [
       "| 31      | 1.15s        | 0.000370275            |"
      ]
     },
     "metadata": {},
     "output_type": "display_data"
    },
    {
     "data": {
      "text/html": [
       "<pre>| 32      | 1.18s        | 0.000365041            |</pre>"
      ],
      "text/plain": [
       "| 32      | 1.18s        | 0.000365041            |"
      ]
     },
     "metadata": {},
     "output_type": "display_data"
    },
    {
     "data": {
      "text/html": [
       "<pre>| 33      | 1.22s        | 0.000356151            |</pre>"
      ],
      "text/plain": [
       "| 33      | 1.22s        | 0.000356151            |"
      ]
     },
     "metadata": {},
     "output_type": "display_data"
    },
    {
     "data": {
      "text/html": [
       "<pre>| 34      | 1.26s        | 0.000358784            |</pre>"
      ],
      "text/plain": [
       "| 34      | 1.26s        | 0.000358784            |"
      ]
     },
     "metadata": {},
     "output_type": "display_data"
    },
    {
     "data": {
      "text/html": [
       "<pre>| 35      | 1.29s        | 0.000344363            |</pre>"
      ],
      "text/plain": [
       "| 35      | 1.29s        | 0.000344363            |"
      ]
     },
     "metadata": {},
     "output_type": "display_data"
    },
    {
     "data": {
      "text/html": [
       "<pre>| 36      | 1.32s        | 0.000349075            |</pre>"
      ],
      "text/plain": [
       "| 36      | 1.32s        | 0.000349075            |"
      ]
     },
     "metadata": {},
     "output_type": "display_data"
    },
    {
     "data": {
      "text/html": [
       "<pre>| 37      | 1.35s        | 0.000336973            |</pre>"
      ],
      "text/plain": [
       "| 37      | 1.35s        | 0.000336973            |"
      ]
     },
     "metadata": {},
     "output_type": "display_data"
    },
    {
     "data": {
      "text/html": [
       "<pre>| 38      | 1.39s        | 0.000325811            |</pre>"
      ],
      "text/plain": [
       "| 38      | 1.39s        | 0.000325811            |"
      ]
     },
     "metadata": {},
     "output_type": "display_data"
    },
    {
     "data": {
      "text/html": [
       "<pre>| 39      | 1.43s        | 0.000333693            |</pre>"
      ],
      "text/plain": [
       "| 39      | 1.43s        | 0.000333693            |"
      ]
     },
     "metadata": {},
     "output_type": "display_data"
    },
    {
     "data": {
      "text/html": [
       "<pre>| 40      | 1.47s        | 0.000320483            |</pre>"
      ],
      "text/plain": [
       "| 40      | 1.47s        | 0.000320483            |"
      ]
     },
     "metadata": {},
     "output_type": "display_data"
    },
    {
     "data": {
      "text/html": [
       "<pre>| 41      | 1.50s        | 0.000319946            |</pre>"
      ],
      "text/plain": [
       "| 41      | 1.50s        | 0.000319946            |"
      ]
     },
     "metadata": {},
     "output_type": "display_data"
    },
    {
     "data": {
      "text/html": [
       "<pre>| 42      | 1.54s        | 0.000321154            |</pre>"
      ],
      "text/plain": [
       "| 42      | 1.54s        | 0.000321154            |"
      ]
     },
     "metadata": {},
     "output_type": "display_data"
    },
    {
     "data": {
      "text/html": [
       "<pre>| 43      | 1.57s        | 0.000318972            |</pre>"
      ],
      "text/plain": [
       "| 43      | 1.57s        | 0.000318972            |"
      ]
     },
     "metadata": {},
     "output_type": "display_data"
    },
    {
     "data": {
      "text/html": [
       "<pre>| 44      | 1.61s        | 0.000309053            |</pre>"
      ],
      "text/plain": [
       "| 44      | 1.61s        | 0.000309053            |"
      ]
     },
     "metadata": {},
     "output_type": "display_data"
    },
    {
     "data": {
      "text/html": [
       "<pre>| 45      | 1.64s        | 0.000301896            |</pre>"
      ],
      "text/plain": [
       "| 45      | 1.64s        | 0.000301896            |"
      ]
     },
     "metadata": {},
     "output_type": "display_data"
    },
    {
     "data": {
      "text/html": [
       "<pre>| 46      | 1.67s        | 0.000298974            |</pre>"
      ],
      "text/plain": [
       "| 46      | 1.67s        | 0.000298974            |"
      ]
     },
     "metadata": {},
     "output_type": "display_data"
    },
    {
     "data": {
      "text/html": [
       "<pre>| 47      | 1.71s        | 0.000293733            |</pre>"
      ],
      "text/plain": [
       "| 47      | 1.71s        | 0.000293733            |"
      ]
     },
     "metadata": {},
     "output_type": "display_data"
    },
    {
     "data": {
      "text/html": [
       "<pre>| 48      | 1.74s        | 0.000299787            |</pre>"
      ],
      "text/plain": [
       "| 48      | 1.74s        | 0.000299787            |"
      ]
     },
     "metadata": {},
     "output_type": "display_data"
    },
    {
     "data": {
      "text/html": [
       "<pre>| 49      | 1.77s        | 0.000290319            |</pre>"
      ],
      "text/plain": [
       "| 49      | 1.77s        | 0.000290319            |"
      ]
     },
     "metadata": {},
     "output_type": "display_data"
    },
    {
     "data": {
      "text/html": [
       "<pre>| FINAL   | 1.77s        | 0.000290319            |</pre>"
      ],
      "text/plain": [
       "| FINAL   | 1.77s        | 0.000290319            |"
      ]
     },
     "metadata": {},
     "output_type": "display_data"
    },
    {
     "data": {
      "text/html": [
       "<pre>+---------+--------------+------------------------+</pre>"
      ],
      "text/plain": [
       "+---------+--------------+------------------------+"
      ]
     },
     "metadata": {},
     "output_type": "display_data"
    },
    {
     "data": {
      "text/html": [
       "<pre>Optimization Complete: Iteration limit reached.</pre>"
      ],
      "text/plain": [
       "Optimization Complete: Iteration limit reached."
      ]
     },
     "metadata": {},
     "output_type": "display_data"
    },
    {
     "data": {
      "text/html": [
       "<pre>Recsys training: model = factorization_recommender</pre>"
      ],
      "text/plain": [
       "Recsys training: model = factorization_recommender"
      ]
     },
     "metadata": {},
     "output_type": "display_data"
    },
    {
     "data": {
      "text/html": [
       "<pre>Preparing data set.</pre>"
      ],
      "text/plain": [
       "Preparing data set."
      ]
     },
     "metadata": {},
     "output_type": "display_data"
    },
    {
     "data": {
      "text/html": [
       "<pre>    Data has 24756 observations with 12294 users and 894 items.</pre>"
      ],
      "text/plain": [
       "    Data has 24756 observations with 12294 users and 894 items."
      ]
     },
     "metadata": {},
     "output_type": "display_data"
    },
    {
     "data": {
      "text/html": [
       "<pre>    Data prepared in: 0.036755s</pre>"
      ],
      "text/plain": [
       "    Data prepared in: 0.036755s"
      ]
     },
     "metadata": {},
     "output_type": "display_data"
    },
    {
     "data": {
      "text/html": [
       "<pre>Training factorization_recommender for recommendations.</pre>"
      ],
      "text/plain": [
       "Training factorization_recommender for recommendations."
      ]
     },
     "metadata": {},
     "output_type": "display_data"
    },
    {
     "data": {
      "text/html": [
       "<pre>+------------------------------+--------------------------------------------------+----------+</pre>"
      ],
      "text/plain": [
       "+------------------------------+--------------------------------------------------+----------+"
      ]
     },
     "metadata": {},
     "output_type": "display_data"
    },
    {
     "data": {
      "text/html": [
       "<pre>| Parameter                    | Description                                      | Value    |</pre>"
      ],
      "text/plain": [
       "| Parameter                    | Description                                      | Value    |"
      ]
     },
     "metadata": {},
     "output_type": "display_data"
    },
    {
     "data": {
      "text/html": [
       "<pre>+------------------------------+--------------------------------------------------+----------+</pre>"
      ],
      "text/plain": [
       "+------------------------------+--------------------------------------------------+----------+"
      ]
     },
     "metadata": {},
     "output_type": "display_data"
    },
    {
     "data": {
      "text/html": [
       "<pre>| num_factors                  | Factor Dimension                                 | 18       |</pre>"
      ],
      "text/plain": [
       "| num_factors                  | Factor Dimension                                 | 18       |"
      ]
     },
     "metadata": {},
     "output_type": "display_data"
    },
    {
     "data": {
      "text/html": [
       "<pre>| regularization               | L2 Regularization on Factors                     | 1e-08    |</pre>"
      ],
      "text/plain": [
       "| regularization               | L2 Regularization on Factors                     | 1e-08    |"
      ]
     },
     "metadata": {},
     "output_type": "display_data"
    },
    {
     "data": {
      "text/html": [
       "<pre>| max_iterations               | Maximum Number of Iterations                     | 50       |</pre>"
      ],
      "text/plain": [
       "| max_iterations               | Maximum Number of Iterations                     | 50       |"
      ]
     },
     "metadata": {},
     "output_type": "display_data"
    },
    {
     "data": {
      "text/html": [
       "<pre>| solver                       | Solver used for training                         | als      |</pre>"
      ],
      "text/plain": [
       "| solver                       | Solver used for training                         | als      |"
      ]
     },
     "metadata": {},
     "output_type": "display_data"
    },
    {
     "data": {
      "text/html": [
       "<pre>+------------------------------+--------------------------------------------------+----------+</pre>"
      ],
      "text/plain": [
       "+------------------------------+--------------------------------------------------+----------+"
      ]
     },
     "metadata": {},
     "output_type": "display_data"
    },
    {
     "data": {
      "text/html": [
       "<pre>+---------+--------------+------------------------+</pre>"
      ],
      "text/plain": [
       "+---------+--------------+------------------------+"
      ]
     },
     "metadata": {},
     "output_type": "display_data"
    },
    {
     "data": {
      "text/html": [
       "<pre>| Iter.   | Elapsed time | RMSE                   |</pre>"
      ],
      "text/plain": [
       "| Iter.   | Elapsed time | RMSE                   |"
      ]
     },
     "metadata": {},
     "output_type": "display_data"
    },
    {
     "data": {
      "text/html": [
       "<pre>+---------+--------------+------------------------+</pre>"
      ],
      "text/plain": [
       "+---------+--------------+------------------------+"
      ]
     },
     "metadata": {},
     "output_type": "display_data"
    },
    {
     "data": {
      "text/html": [
       "<pre>| Initial | 52us         | NA                     |</pre>"
      ],
      "text/plain": [
       "| Initial | 52us         | NA                     |"
      ]
     },
     "metadata": {},
     "output_type": "display_data"
    },
    {
     "data": {
      "text/html": [
       "<pre>+---------+--------------+------------------------+</pre>"
      ],
      "text/plain": [
       "+---------+--------------+------------------------+"
      ]
     },
     "metadata": {},
     "output_type": "display_data"
    },
    {
     "data": {
      "text/html": [
       "<pre>| 0       | 55.093ms     | 0.10494                |</pre>"
      ],
      "text/plain": [
       "| 0       | 55.093ms     | 0.10494                |"
      ]
     },
     "metadata": {},
     "output_type": "display_data"
    },
    {
     "data": {
      "text/html": [
       "<pre>| 1       | 96.625ms     | 0.000653137            |</pre>"
      ],
      "text/plain": [
       "| 1       | 96.625ms     | 0.000653137            |"
      ]
     },
     "metadata": {},
     "output_type": "display_data"
    },
    {
     "data": {
      "text/html": [
       "<pre>| 2       | 131.916ms    | 0.000510546            |</pre>"
      ],
      "text/plain": [
       "| 2       | 131.916ms    | 0.000510546            |"
      ]
     },
     "metadata": {},
     "output_type": "display_data"
    },
    {
     "data": {
      "text/html": [
       "<pre>| 3       | 177.344ms    | 0.000465243            |</pre>"
      ],
      "text/plain": [
       "| 3       | 177.344ms    | 0.000465243            |"
      ]
     },
     "metadata": {},
     "output_type": "display_data"
    },
    {
     "data": {
      "text/html": [
       "<pre>| 4       | 213.051ms    | 0.000431588            |</pre>"
      ],
      "text/plain": [
       "| 4       | 213.051ms    | 0.000431588            |"
      ]
     },
     "metadata": {},
     "output_type": "display_data"
    },
    {
     "data": {
      "text/html": [
       "<pre>| 5       | 253.52ms     | 0.00040759             |</pre>"
      ],
      "text/plain": [
       "| 5       | 253.52ms     | 0.00040759             |"
      ]
     },
     "metadata": {},
     "output_type": "display_data"
    },
    {
     "data": {
      "text/html": [
       "<pre>| 6       | 276.049ms    | 0.000385346            |</pre>"
      ],
      "text/plain": [
       "| 6       | 276.049ms    | 0.000385346            |"
      ]
     },
     "metadata": {},
     "output_type": "display_data"
    },
    {
     "data": {
      "text/html": [
       "<pre>| 7       | 318.325ms    | 0.000360088            |</pre>"
      ],
      "text/plain": [
       "| 7       | 318.325ms    | 0.000360088            |"
      ]
     },
     "metadata": {},
     "output_type": "display_data"
    },
    {
     "data": {
      "text/html": [
       "<pre>| 8       | 349.194ms    | 0.000346961            |</pre>"
      ],
      "text/plain": [
       "| 8       | 349.194ms    | 0.000346961            |"
      ]
     },
     "metadata": {},
     "output_type": "display_data"
    },
    {
     "data": {
      "text/html": [
       "<pre>| 9       | 380.545ms    | 0.000337476            |</pre>"
      ],
      "text/plain": [
       "| 9       | 380.545ms    | 0.000337476            |"
      ]
     },
     "metadata": {},
     "output_type": "display_data"
    },
    {
     "data": {
      "text/html": [
       "<pre>| 10      | 413.551ms    | 0.000329213            |</pre>"
      ],
      "text/plain": [
       "| 10      | 413.551ms    | 0.000329213            |"
      ]
     },
     "metadata": {},
     "output_type": "display_data"
    },
    {
     "data": {
      "text/html": [
       "<pre>| 11      | 454.03ms     | 0.000321651            |</pre>"
      ],
      "text/plain": [
       "| 11      | 454.03ms     | 0.000321651            |"
      ]
     },
     "metadata": {},
     "output_type": "display_data"
    },
    {
     "data": {
      "text/html": [
       "<pre>| 12      | 496.279ms    | 0.000315334            |</pre>"
      ],
      "text/plain": [
       "| 12      | 496.279ms    | 0.000315334            |"
      ]
     },
     "metadata": {},
     "output_type": "display_data"
    },
    {
     "data": {
      "text/html": [
       "<pre>| 13      | 530.899ms    | 0.000308954            |</pre>"
      ],
      "text/plain": [
       "| 13      | 530.899ms    | 0.000308954            |"
      ]
     },
     "metadata": {},
     "output_type": "display_data"
    },
    {
     "data": {
      "text/html": [
       "<pre>| 14      | 565.815ms    | 0.000303               |</pre>"
      ],
      "text/plain": [
       "| 14      | 565.815ms    | 0.000303               |"
      ]
     },
     "metadata": {},
     "output_type": "display_data"
    },
    {
     "data": {
      "text/html": [
       "<pre>| 15      | 606.76ms     | 0.000297996            |</pre>"
      ],
      "text/plain": [
       "| 15      | 606.76ms     | 0.000297996            |"
      ]
     },
     "metadata": {},
     "output_type": "display_data"
    },
    {
     "data": {
      "text/html": [
       "<pre>| 16      | 649.567ms    | 0.000293334            |</pre>"
      ],
      "text/plain": [
       "| 16      | 649.567ms    | 0.000293334            |"
      ]
     },
     "metadata": {},
     "output_type": "display_data"
    },
    {
     "data": {
      "text/html": [
       "<pre>| 17      | 689.636ms    | 0.000288997            |</pre>"
      ],
      "text/plain": [
       "| 17      | 689.636ms    | 0.000288997            |"
      ]
     },
     "metadata": {},
     "output_type": "display_data"
    },
    {
     "data": {
      "text/html": [
       "<pre>| 18      | 720.757ms    | 0.000284841            |</pre>"
      ],
      "text/plain": [
       "| 18      | 720.757ms    | 0.000284841            |"
      ]
     },
     "metadata": {},
     "output_type": "display_data"
    },
    {
     "data": {
      "text/html": [
       "<pre>| 19      | 766.688ms    | 0.000281263            |</pre>"
      ],
      "text/plain": [
       "| 19      | 766.688ms    | 0.000281263            |"
      ]
     },
     "metadata": {},
     "output_type": "display_data"
    },
    {
     "data": {
      "text/html": [
       "<pre>| 20      | 822.422ms    | 0.000277233            |</pre>"
      ],
      "text/plain": [
       "| 20      | 822.422ms    | 0.000277233            |"
      ]
     },
     "metadata": {},
     "output_type": "display_data"
    },
    {
     "data": {
      "text/html": [
       "<pre>| 21      | 867.06ms     | 0.000273042            |</pre>"
      ],
      "text/plain": [
       "| 21      | 867.06ms     | 0.000273042            |"
      ]
     },
     "metadata": {},
     "output_type": "display_data"
    },
    {
     "data": {
      "text/html": [
       "<pre>| 22      | 921.071ms    | 0.000269568            |</pre>"
      ],
      "text/plain": [
       "| 22      | 921.071ms    | 0.000269568            |"
      ]
     },
     "metadata": {},
     "output_type": "display_data"
    },
    {
     "data": {
      "text/html": [
       "<pre>| 23      | 966.791ms    | 0.000265667            |</pre>"
      ],
      "text/plain": [
       "| 23      | 966.791ms    | 0.000265667            |"
      ]
     },
     "metadata": {},
     "output_type": "display_data"
    },
    {
     "data": {
      "text/html": [
       "<pre>| 24      | 1.00s        | 0.000262104            |</pre>"
      ],
      "text/plain": [
       "| 24      | 1.00s        | 0.000262104            |"
      ]
     },
     "metadata": {},
     "output_type": "display_data"
    },
    {
     "data": {
      "text/html": [
       "<pre>| 25      | 1.04s        | 0.000259099            |</pre>"
      ],
      "text/plain": [
       "| 25      | 1.04s        | 0.000259099            |"
      ]
     },
     "metadata": {},
     "output_type": "display_data"
    },
    {
     "data": {
      "text/html": [
       "<pre>| 26      | 1.08s        | 0.000256047            |</pre>"
      ],
      "text/plain": [
       "| 26      | 1.08s        | 0.000256047            |"
      ]
     },
     "metadata": {},
     "output_type": "display_data"
    },
    {
     "data": {
      "text/html": [
       "<pre>| 27      | 1.12s        | 0.00025272             |</pre>"
      ],
      "text/plain": [
       "| 27      | 1.12s        | 0.00025272             |"
      ]
     },
     "metadata": {},
     "output_type": "display_data"
    },
    {
     "data": {
      "text/html": [
       "<pre>| 28      | 1.15s        | 0.000250057            |</pre>"
      ],
      "text/plain": [
       "| 28      | 1.15s        | 0.000250057            |"
      ]
     },
     "metadata": {},
     "output_type": "display_data"
    },
    {
     "data": {
      "text/html": [
       "<pre>| 29      | 1.19s        | 0.000247491            |</pre>"
      ],
      "text/plain": [
       "| 29      | 1.19s        | 0.000247491            |"
      ]
     },
     "metadata": {},
     "output_type": "display_data"
    },
    {
     "data": {
      "text/html": [
       "<pre>| 30      | 1.23s        | 0.000245156            |</pre>"
      ],
      "text/plain": [
       "| 30      | 1.23s        | 0.000245156            |"
      ]
     },
     "metadata": {},
     "output_type": "display_data"
    },
    {
     "data": {
      "text/html": [
       "<pre>| 31      | 1.27s        | 0.00024257             |</pre>"
      ],
      "text/plain": [
       "| 31      | 1.27s        | 0.00024257             |"
      ]
     },
     "metadata": {},
     "output_type": "display_data"
    },
    {
     "data": {
      "text/html": [
       "<pre>| 32      | 1.30s        | 0.000239846            |</pre>"
      ],
      "text/plain": [
       "| 32      | 1.30s        | 0.000239846            |"
      ]
     },
     "metadata": {},
     "output_type": "display_data"
    },
    {
     "data": {
      "text/html": [
       "<pre>| 33      | 1.34s        | 0.000237246            |</pre>"
      ],
      "text/plain": [
       "| 33      | 1.34s        | 0.000237246            |"
      ]
     },
     "metadata": {},
     "output_type": "display_data"
    },
    {
     "data": {
      "text/html": [
       "<pre>| 34      | 1.38s        | 0.00023481             |</pre>"
      ],
      "text/plain": [
       "| 34      | 1.38s        | 0.00023481             |"
      ]
     },
     "metadata": {},
     "output_type": "display_data"
    },
    {
     "data": {
      "text/html": [
       "<pre>| 35      | 1.42s        | 0.000232371            |</pre>"
      ],
      "text/plain": [
       "| 35      | 1.42s        | 0.000232371            |"
      ]
     },
     "metadata": {},
     "output_type": "display_data"
    },
    {
     "data": {
      "text/html": [
       "<pre>| 36      | 1.46s        | 0.000230002            |</pre>"
      ],
      "text/plain": [
       "| 36      | 1.46s        | 0.000230002            |"
      ]
     },
     "metadata": {},
     "output_type": "display_data"
    },
    {
     "data": {
      "text/html": [
       "<pre>| 37      | 1.50s        | 0.000227669            |</pre>"
      ],
      "text/plain": [
       "| 37      | 1.50s        | 0.000227669            |"
      ]
     },
     "metadata": {},
     "output_type": "display_data"
    },
    {
     "data": {
      "text/html": [
       "<pre>| 38      | 1.53s        | 0.000225631            |</pre>"
      ],
      "text/plain": [
       "| 38      | 1.53s        | 0.000225631            |"
      ]
     },
     "metadata": {},
     "output_type": "display_data"
    },
    {
     "data": {
      "text/html": [
       "<pre>| 39      | 1.56s        | 0.000223397            |</pre>"
      ],
      "text/plain": [
       "| 39      | 1.56s        | 0.000223397            |"
      ]
     },
     "metadata": {},
     "output_type": "display_data"
    },
    {
     "data": {
      "text/html": [
       "<pre>| 40      | 1.59s        | 0.000221711            |</pre>"
      ],
      "text/plain": [
       "| 40      | 1.59s        | 0.000221711            |"
      ]
     },
     "metadata": {},
     "output_type": "display_data"
    },
    {
     "data": {
      "text/html": [
       "<pre>| 41      | 1.63s        | 0.00021944             |</pre>"
      ],
      "text/plain": [
       "| 41      | 1.63s        | 0.00021944             |"
      ]
     },
     "metadata": {},
     "output_type": "display_data"
    },
    {
     "data": {
      "text/html": [
       "<pre>| 42      | 1.67s        | 0.000217624            |</pre>"
      ],
      "text/plain": [
       "| 42      | 1.67s        | 0.000217624            |"
      ]
     },
     "metadata": {},
     "output_type": "display_data"
    },
    {
     "data": {
      "text/html": [
       "<pre>| 43      | 1.70s        | 0.000215491            |</pre>"
      ],
      "text/plain": [
       "| 43      | 1.70s        | 0.000215491            |"
      ]
     },
     "metadata": {},
     "output_type": "display_data"
    },
    {
     "data": {
      "text/html": [
       "<pre>| 44      | 1.74s        | 0.000213703            |</pre>"
      ],
      "text/plain": [
       "| 44      | 1.74s        | 0.000213703            |"
      ]
     },
     "metadata": {},
     "output_type": "display_data"
    },
    {
     "data": {
      "text/html": [
       "<pre>| 45      | 1.78s        | 0.000212159            |</pre>"
      ],
      "text/plain": [
       "| 45      | 1.78s        | 0.000212159            |"
      ]
     },
     "metadata": {},
     "output_type": "display_data"
    },
    {
     "data": {
      "text/html": [
       "<pre>| 46      | 1.82s        | 0.00021002             |</pre>"
      ],
      "text/plain": [
       "| 46      | 1.82s        | 0.00021002             |"
      ]
     },
     "metadata": {},
     "output_type": "display_data"
    },
    {
     "data": {
      "text/html": [
       "<pre>| 47      | 1.85s        | 0.000208018            |</pre>"
      ],
      "text/plain": [
       "| 47      | 1.85s        | 0.000208018            |"
      ]
     },
     "metadata": {},
     "output_type": "display_data"
    },
    {
     "data": {
      "text/html": [
       "<pre>| 48      | 1.89s        | 0.000206397            |</pre>"
      ],
      "text/plain": [
       "| 48      | 1.89s        | 0.000206397            |"
      ]
     },
     "metadata": {},
     "output_type": "display_data"
    },
    {
     "data": {
      "text/html": [
       "<pre>| 49      | 1.93s        | 0.000204791            |</pre>"
      ],
      "text/plain": [
       "| 49      | 1.93s        | 0.000204791            |"
      ]
     },
     "metadata": {},
     "output_type": "display_data"
    },
    {
     "data": {
      "text/html": [
       "<pre>| FINAL   | 1.93s        | 0.000204791            |</pre>"
      ],
      "text/plain": [
       "| FINAL   | 1.93s        | 0.000204791            |"
      ]
     },
     "metadata": {},
     "output_type": "display_data"
    },
    {
     "data": {
      "text/html": [
       "<pre>+---------+--------------+------------------------+</pre>"
      ],
      "text/plain": [
       "+---------+--------------+------------------------+"
      ]
     },
     "metadata": {},
     "output_type": "display_data"
    },
    {
     "data": {
      "text/html": [
       "<pre>Optimization Complete: Iteration limit reached.</pre>"
      ],
      "text/plain": [
       "Optimization Complete: Iteration limit reached."
      ]
     },
     "metadata": {},
     "output_type": "display_data"
    }
   ],
   "source": [
    "predictions_train_dic = {}\n",
    "predictions_valid_dic = {}\n",
    "\n",
    "for i in xrange(4, 20, 2):\n",
    "    model = graphlab.recommender.factorization_recommender.create(sf_train, user_id='new_user_id', item_id='new_course_id',target='rating',solver='als',side_data_factorization=False, num_factors = i)\n",
    "    predictions_train = model.predict(sf_train)\n",
    "    predictions_valid = model.predict(sf_validation)\n",
    "    predictions_train_dic[i] = np.sqrt(mean_squared_error(sf_train['rating'], predictions_train))\n",
    "    predictions_valid_dic[i] = np.sqrt(mean_squared_error(sf_validation['rating'], predictions_valid))"
   ]
  },
  {
   "cell_type": "code",
   "execution_count": 10,
   "metadata": {},
   "outputs": [
    {
     "data": {
      "text/plain": [
       "{4: 0.03152200045102501,\n",
       " 6: 0.0056129473090075089,\n",
       " 8: 0.0013357143238090208,\n",
       " 10: 0.00072010302151401728,\n",
       " 12: 0.00048239722951299533,\n",
       " 14: 0.00034555613852417554,\n",
       " 16: 0.00029031852761791758,\n",
       " 18: 0.0002047907401923988}"
      ]
     },
     "execution_count": 10,
     "metadata": {},
     "output_type": "execute_result"
    }
   ],
   "source": [
    "predictions_train_dic"
   ]
  },
  {
   "cell_type": "code",
   "execution_count": 11,
   "metadata": {},
   "outputs": [
    {
     "data": {
      "text/plain": [
       "{4: 0.82280316490371674,\n",
       " 6: 0.73761529643646651,\n",
       " 8: 0.74598745649919951,\n",
       " 10: 0.70722984018991419,\n",
       " 12: 0.68364321170700992,\n",
       " 14: 0.73393361604101703,\n",
       " 16: 0.71287624266101868,\n",
       " 18: 0.78426904536002107}"
      ]
     },
     "execution_count": 11,
     "metadata": {},
     "output_type": "execute_result"
    }
   ],
   "source": [
    "predictions_valid_dic"
   ]
  },
  {
   "cell_type": "code",
   "execution_count": 12,
   "metadata": {},
   "outputs": [
    {
     "data": {
      "text/plain": [
       "<matplotlib.legend.Legend at 0x7f432990e950>"
      ]
     },
     "execution_count": 12,
     "metadata": {},
     "output_type": "execute_result"
    },
    {
     "data": {
      "image/png": "[encoded data removed]",
      "text/plain": [
       "<matplotlib.figure.Figure at 0x7f432990e2d0>"
      ]
     },
     "metadata": {},
     "output_type": "display_data"
    }
   ],
   "source": [
    "plt.plot(predictions_train_dic.keys(), predictions_train_dic.values(), color = \"b\", label = \"training error\")\n",
    "plt.plot(predictions_valid_dic.keys(), predictions_valid_dic.values(), color = \"g\", label = \"validation error\")\n",
    "plt.legend()"
   ]
  },
  {
   "cell_type": "code",
   "execution_count": 13,
   "metadata": {},
   "outputs": [
    {
     "data": {
      "text/html": [
       "<pre>Recsys training: model = factorization_recommender</pre>"
      ],
      "text/plain": [
       "Recsys training: model = factorization_recommender"
      ]
     },
     "metadata": {},
     "output_type": "display_data"
    },
    {
     "data": {
      "text/html": [
       "<pre>Preparing data set.</pre>"
      ],
      "text/plain": [
       "Preparing data set."
      ]
     },
     "metadata": {},
     "output_type": "display_data"
    },
    {
     "data": {
      "text/html": [
       "<pre>    Data has 24756 observations with 12294 users and 894 items.</pre>"
      ],
      "text/plain": [
       "    Data has 24756 observations with 12294 users and 894 items."
      ]
     },
     "metadata": {},
     "output_type": "display_data"
    },
    {
     "data": {
      "text/html": [
       "<pre>    Data prepared in: 0.036264s</pre>"
      ],
      "text/plain": [
       "    Data prepared in: 0.036264s"
      ]
     },
     "metadata": {},
     "output_type": "display_data"
    },
    {
     "data": {
      "text/html": [
       "<pre>Training factorization_recommender for recommendations.</pre>"
      ],
      "text/plain": [
       "Training factorization_recommender for recommendations."
      ]
     },
     "metadata": {},
     "output_type": "display_data"
    },
    {
     "data": {
      "text/html": [
       "<pre>+------------------------------+--------------------------------------------------+----------+</pre>"
      ],
      "text/plain": [
       "+------------------------------+--------------------------------------------------+----------+"
      ]
     },
     "metadata": {},
     "output_type": "display_data"
    },
    {
     "data": {
      "text/html": [
       "<pre>| Parameter                    | Description                                      | Value    |</pre>"
      ],
      "text/plain": [
       "| Parameter                    | Description                                      | Value    |"
      ]
     },
     "metadata": {},
     "output_type": "display_data"
    },
    {
     "data": {
      "text/html": [
       "<pre>+------------------------------+--------------------------------------------------+----------+</pre>"
      ],
      "text/plain": [
       "+------------------------------+--------------------------------------------------+----------+"
      ]
     },
     "metadata": {},
     "output_type": "display_data"
    },
    {
     "data": {
      "text/html": [
       "<pre>| num_factors                  | Factor Dimension                                 | 10       |</pre>"
      ],
      "text/plain": [
       "| num_factors                  | Factor Dimension                                 | 10       |"
      ]
     },
     "metadata": {},
     "output_type": "display_data"
    },
    {
     "data": {
      "text/html": [
       "<pre>| regularization               | L2 Regularization on Factors                     | 100      |</pre>"
      ],
      "text/plain": [
       "| regularization               | L2 Regularization on Factors                     | 100      |"
      ]
     },
     "metadata": {},
     "output_type": "display_data"
    },
    {
     "data": {
      "text/html": [
       "<pre>| max_iterations               | Maximum Number of Iterations                     | 50       |</pre>"
      ],
      "text/plain": [
       "| max_iterations               | Maximum Number of Iterations                     | 50       |"
      ]
     },
     "metadata": {},
     "output_type": "display_data"
    },
    {
     "data": {
      "text/html": [
       "<pre>| solver                       | Solver used for training                         | als      |</pre>"
      ],
      "text/plain": [
       "| solver                       | Solver used for training                         | als      |"
      ]
     },
     "metadata": {},
     "output_type": "display_data"
    },
    {
     "data": {
      "text/html": [
       "<pre>+------------------------------+--------------------------------------------------+----------+</pre>"
      ],
      "text/plain": [
       "+------------------------------+--------------------------------------------------+----------+"
      ]
     },
     "metadata": {},
     "output_type": "display_data"
    },
    {
     "data": {
      "text/html": [
       "<pre>+---------+--------------+------------------------+</pre>"
      ],
      "text/plain": [
       "+---------+--------------+------------------------+"
      ]
     },
     "metadata": {},
     "output_type": "display_data"
    },
    {
     "data": {
      "text/html": [
       "<pre>| Iter.   | Elapsed time | RMSE                   |</pre>"
      ],
      "text/plain": [
       "| Iter.   | Elapsed time | RMSE                   |"
      ]
     },
     "metadata": {},
     "output_type": "display_data"
    },
    {
     "data": {
      "text/html": [
       "<pre>+---------+--------------+------------------------+</pre>"
      ],
      "text/plain": [
       "+---------+--------------+------------------------+"
      ]
     },
     "metadata": {},
     "output_type": "display_data"
    },
    {
     "data": {
      "text/html": [
       "<pre>| Initial | 53us         | NA                     |</pre>"
      ],
      "text/plain": [
       "| Initial | 53us         | NA                     |"
      ]
     },
     "metadata": {},
     "output_type": "display_data"
    },
    {
     "data": {
      "text/html": [
       "<pre>+---------+--------------+------------------------+</pre>"
      ],
      "text/plain": [
       "+---------+--------------+------------------------+"
      ]
     },
     "metadata": {},
     "output_type": "display_data"
    },
    {
     "data": {
      "text/html": [
       "<pre>| 0       | 33.954ms     | 0.598309               |</pre>"
      ],
      "text/plain": [
       "| 0       | 33.954ms     | 0.598309               |"
      ]
     },
     "metadata": {},
     "output_type": "display_data"
    },
    {
     "data": {
      "text/html": [
       "<pre>| 1       | 71.892ms     | 0.598309               |</pre>"
      ],
      "text/plain": [
       "| 1       | 71.892ms     | 0.598309               |"
      ]
     },
     "metadata": {},
     "output_type": "display_data"
    },
    {
     "data": {
      "text/html": [
       "<pre>| 2       | 99.866ms     | 0.598309               |</pre>"
      ],
      "text/plain": [
       "| 2       | 99.866ms     | 0.598309               |"
      ]
     },
     "metadata": {},
     "output_type": "display_data"
    },
    {
     "data": {
      "text/html": [
       "<pre>| 3       | 134.919ms    | 0.598309               |</pre>"
      ],
      "text/plain": [
       "| 3       | 134.919ms    | 0.598309               |"
      ]
     },
     "metadata": {},
     "output_type": "display_data"
    },
    {
     "data": {
      "text/html": [
       "<pre>| 4       | 161.099ms    | 0.598309               |</pre>"
      ],
      "text/plain": [
       "| 4       | 161.099ms    | 0.598309               |"
      ]
     },
     "metadata": {},
     "output_type": "display_data"
    },
    {
     "data": {
      "text/html": [
       "<pre>| 5       | 189.479ms    | 0.598309               |</pre>"
      ],
      "text/plain": [
       "| 5       | 189.479ms    | 0.598309               |"
      ]
     },
     "metadata": {},
     "output_type": "display_data"
    },
    {
     "data": {
      "text/html": [
       "<pre>| 6       | 223.599ms    | 0.598309               |</pre>"
      ],
      "text/plain": [
       "| 6       | 223.599ms    | 0.598309               |"
      ]
     },
     "metadata": {},
     "output_type": "display_data"
    },
    {
     "data": {
      "text/html": [
       "<pre>| 7       | 249.042ms    | 0.598309               |</pre>"
      ],
      "text/plain": [
       "| 7       | 249.042ms    | 0.598309               |"
      ]
     },
     "metadata": {},
     "output_type": "display_data"
    },
    {
     "data": {
      "text/html": [
       "<pre>| 8       | 281.819ms    | 0.598309               |</pre>"
      ],
      "text/plain": [
       "| 8       | 281.819ms    | 0.598309               |"
      ]
     },
     "metadata": {},
     "output_type": "display_data"
    },
    {
     "data": {
      "text/html": [
       "<pre>| 9       | 307.465ms    | 0.598309               |</pre>"
      ],
      "text/plain": [
       "| 9       | 307.465ms    | 0.598309               |"
      ]
     },
     "metadata": {},
     "output_type": "display_data"
    },
    {
     "data": {
      "text/html": [
       "<pre>| 10      | 338.441ms    | 0.598309               |</pre>"
      ],
      "text/plain": [
       "| 10      | 338.441ms    | 0.598309               |"
      ]
     },
     "metadata": {},
     "output_type": "display_data"
    },
    {
     "data": {
      "text/html": [
       "<pre>| 11      | 370.553ms    | 0.598309               |</pre>"
      ],
      "text/plain": [
       "| 11      | 370.553ms    | 0.598309               |"
      ]
     },
     "metadata": {},
     "output_type": "display_data"
    },
    {
     "data": {
      "text/html": [
       "<pre>| 12      | 387.028ms    | 0.598309               |</pre>"
      ],
      "text/plain": [
       "| 12      | 387.028ms    | 0.598309               |"
      ]
     },
     "metadata": {},
     "output_type": "display_data"
    },
    {
     "data": {
      "text/html": [
       "<pre>| 13      | 404.808ms    | 0.598309               |</pre>"
      ],
      "text/plain": [
       "| 13      | 404.808ms    | 0.598309               |"
      ]
     },
     "metadata": {},
     "output_type": "display_data"
    },
    {
     "data": {
      "text/html": [
       "<pre>| 14      | 442.317ms    | 0.598309               |</pre>"
      ],
      "text/plain": [
       "| 14      | 442.317ms    | 0.598309               |"
      ]
     },
     "metadata": {},
     "output_type": "display_data"
    },
    {
     "data": {
      "text/html": [
       "<pre>| 15      | 471.606ms    | 0.598309               |</pre>"
      ],
      "text/plain": [
       "| 15      | 471.606ms    | 0.598309               |"
      ]
     },
     "metadata": {},
     "output_type": "display_data"
    },
    {
     "data": {
      "text/html": [
       "<pre>| 16      | 497.521ms    | 0.598309               |</pre>"
      ],
      "text/plain": [
       "| 16      | 497.521ms    | 0.598309               |"
      ]
     },
     "metadata": {},
     "output_type": "display_data"
    },
    {
     "data": {
      "text/html": [
       "<pre>| 17      | 519.726ms    | 0.598309               |</pre>"
      ],
      "text/plain": [
       "| 17      | 519.726ms    | 0.598309               |"
      ]
     },
     "metadata": {},
     "output_type": "display_data"
    },
    {
     "data": {
      "text/html": [
       "<pre>| 18      | 535.11ms     | 0.598309               |</pre>"
      ],
      "text/plain": [
       "| 18      | 535.11ms     | 0.598309               |"
      ]
     },
     "metadata": {},
     "output_type": "display_data"
    },
    {
     "data": {
      "text/html": [
       "<pre>| 19      | 559.917ms    | 0.598309               |</pre>"
      ],
      "text/plain": [
       "| 19      | 559.917ms    | 0.598309               |"
      ]
     },
     "metadata": {},
     "output_type": "display_data"
    },
    {
     "data": {
      "text/html": [
       "<pre>| 20      | 590.004ms    | 0.598309               |</pre>"
      ],
      "text/plain": [
       "| 20      | 590.004ms    | 0.598309               |"
      ]
     },
     "metadata": {},
     "output_type": "display_data"
    },
    {
     "data": {
      "text/html": [
       "<pre>| 21      | 611.095ms    | 0.598309               |</pre>"
      ],
      "text/plain": [
       "| 21      | 611.095ms    | 0.598309               |"
      ]
     },
     "metadata": {},
     "output_type": "display_data"
    },
    {
     "data": {
      "text/html": [
       "<pre>| 22      | 641.302ms    | 0.598309               |</pre>"
      ],
      "text/plain": [
       "| 22      | 641.302ms    | 0.598309               |"
      ]
     },
     "metadata": {},
     "output_type": "display_data"
    },
    {
     "data": {
      "text/html": [
       "<pre>| 23      | 661.009ms    | 0.598309               |</pre>"
      ],
      "text/plain": [
       "| 23      | 661.009ms    | 0.598309               |"
      ]
     },
     "metadata": {},
     "output_type": "display_data"
    },
    {
     "data": {
      "text/html": [
       "<pre>| 24      | 681.73ms     | 0.598309               |</pre>"
      ],
      "text/plain": [
       "| 24      | 681.73ms     | 0.598309               |"
      ]
     },
     "metadata": {},
     "output_type": "display_data"
    },
    {
     "data": {
      "text/html": [
       "<pre>| 25      | 711.987ms    | 0.598309               |</pre>"
      ],
      "text/plain": [
       "| 25      | 711.987ms    | 0.598309               |"
      ]
     },
     "metadata": {},
     "output_type": "display_data"
    },
    {
     "data": {
      "text/html": [
       "<pre>| 26      | 750.625ms    | 0.598309               |</pre>"
      ],
      "text/plain": [
       "| 26      | 750.625ms    | 0.598309               |"
      ]
     },
     "metadata": {},
     "output_type": "display_data"
    },
    {
     "data": {
      "text/html": [
       "<pre>| 27      | 784.597ms    | 0.598309               |</pre>"
      ],
      "text/plain": [
       "| 27      | 784.597ms    | 0.598309               |"
      ]
     },
     "metadata": {},
     "output_type": "display_data"
    },
    {
     "data": {
      "text/html": [
       "<pre>| 28      | 808.397ms    | 0.598309               |</pre>"
      ],
      "text/plain": [
       "| 28      | 808.397ms    | 0.598309               |"
      ]
     },
     "metadata": {},
     "output_type": "display_data"
    },
    {
     "data": {
      "text/html": [
       "<pre>| 29      | 826.42ms     | 0.598309               |</pre>"
      ],
      "text/plain": [
       "| 29      | 826.42ms     | 0.598309               |"
      ]
     },
     "metadata": {},
     "output_type": "display_data"
    },
    {
     "data": {
      "text/html": [
       "<pre>| 30      | 866.638ms    | 0.598309               |</pre>"
      ],
      "text/plain": [
       "| 30      | 866.638ms    | 0.598309               |"
      ]
     },
     "metadata": {},
     "output_type": "display_data"
    },
    {
     "data": {
      "text/html": [
       "<pre>| 31      | 900.886ms    | 0.598309               |</pre>"
      ],
      "text/plain": [
       "| 31      | 900.886ms    | 0.598309               |"
      ]
     },
     "metadata": {},
     "output_type": "display_data"
    },
    {
     "data": {
      "text/html": [
       "<pre>| 32      | 936.252ms    | 0.598309               |</pre>"
      ],
      "text/plain": [
       "| 32      | 936.252ms    | 0.598309               |"
      ]
     },
     "metadata": {},
     "output_type": "display_data"
    },
    {
     "data": {
      "text/html": [
       "<pre>| 33      | 976.245ms    | 0.598309               |</pre>"
      ],
      "text/plain": [
       "| 33      | 976.245ms    | 0.598309               |"
      ]
     },
     "metadata": {},
     "output_type": "display_data"
    },
    {
     "data": {
      "text/html": [
       "<pre>| 34      | 1.01s        | 0.598309               |</pre>"
      ],
      "text/plain": [
       "| 34      | 1.01s        | 0.598309               |"
      ]
     },
     "metadata": {},
     "output_type": "display_data"
    },
    {
     "data": {
      "text/html": [
       "<pre>| 35      | 1.04s        | 0.598309               |</pre>"
      ],
      "text/plain": [
       "| 35      | 1.04s        | 0.598309               |"
      ]
     },
     "metadata": {},
     "output_type": "display_data"
    },
    {
     "data": {
      "text/html": [
       "<pre>| 36      | 1.05s        | 0.598309               |</pre>"
      ],
      "text/plain": [
       "| 36      | 1.05s        | 0.598309               |"
      ]
     },
     "metadata": {},
     "output_type": "display_data"
    },
    {
     "data": {
      "text/html": [
       "<pre>| 37      | 1.08s        | 0.598309               |</pre>"
      ],
      "text/plain": [
       "| 37      | 1.08s        | 0.598309               |"
      ]
     },
     "metadata": {},
     "output_type": "display_data"
    },
    {
     "data": {
      "text/html": [
       "<pre>| 38      | 1.11s        | 0.598309               |</pre>"
      ],
      "text/plain": [
       "| 38      | 1.11s        | 0.598309               |"
      ]
     },
     "metadata": {},
     "output_type": "display_data"
    },
    {
     "data": {
      "text/html": [
       "<pre>| 39      | 1.15s        | 0.598309               |</pre>"
      ],
      "text/plain": [
       "| 39      | 1.15s        | 0.598309               |"
      ]
     },
     "metadata": {},
     "output_type": "display_data"
    },
    {
     "data": {
      "text/html": [
       "<pre>| 40      | 1.17s        | 0.598309               |</pre>"
      ],
      "text/plain": [
       "| 40      | 1.17s        | 0.598309               |"
      ]
     },
     "metadata": {},
     "output_type": "display_data"
    },
    {
     "data": {
      "text/html": [
       "<pre>| 41      | 1.20s        | 0.598309               |</pre>"
      ],
      "text/plain": [
       "| 41      | 1.20s        | 0.598309               |"
      ]
     },
     "metadata": {},
     "output_type": "display_data"
    },
    {
     "data": {
      "text/html": [
       "<pre>| 42      | 1.23s        | 0.598309               |</pre>"
      ],
      "text/plain": [
       "| 42      | 1.23s        | 0.598309               |"
      ]
     },
     "metadata": {},
     "output_type": "display_data"
    },
    {
     "data": {
      "text/html": [
       "<pre>| 43      | 1.25s        | 0.598309               |</pre>"
      ],
      "text/plain": [
       "| 43      | 1.25s        | 0.598309               |"
      ]
     },
     "metadata": {},
     "output_type": "display_data"
    },
    {
     "data": {
      "text/html": [
       "<pre>| 44      | 1.28s        | 0.598309               |</pre>"
      ],
      "text/plain": [
       "| 44      | 1.28s        | 0.598309               |"
      ]
     },
     "metadata": {},
     "output_type": "display_data"
    },
    {
     "data": {
      "text/html": [
       "<pre>| 45      | 1.29s        | 0.598309               |</pre>"
      ],
      "text/plain": [
       "| 45      | 1.29s        | 0.598309               |"
      ]
     },
     "metadata": {},
     "output_type": "display_data"
    },
    {
     "data": {
      "text/html": [
       "<pre>| 46      | 1.32s        | 0.598309               |</pre>"
      ],
      "text/plain": [
       "| 46      | 1.32s        | 0.598309               |"
      ]
     },
     "metadata": {},
     "output_type": "display_data"
    },
    {
     "data": {
      "text/html": [
       "<pre>| 47      | 1.35s        | 0.598309               |</pre>"
      ],
      "text/plain": [
       "| 47      | 1.35s        | 0.598309               |"
      ]
     },
     "metadata": {},
     "output_type": "display_data"
    },
    {
     "data": {
      "text/html": [
       "<pre>| 48      | 1.37s        | 0.598309               |</pre>"
      ],
      "text/plain": [
       "| 48      | 1.37s        | 0.598309               |"
      ]
     },
     "metadata": {},
     "output_type": "display_data"
    },
    {
     "data": {
      "text/html": [
       "<pre>| 49      | 1.40s        | 0.598309               |</pre>"
      ],
      "text/plain": [
       "| 49      | 1.40s        | 0.598309               |"
      ]
     },
     "metadata": {},
     "output_type": "display_data"
    },
    {
     "data": {
      "text/html": [
       "<pre>| FINAL   | 1.40s        | 0.598309               |</pre>"
      ],
      "text/plain": [
       "| FINAL   | 1.40s        | 0.598309               |"
      ]
     },
     "metadata": {},
     "output_type": "display_data"
    },
    {
     "data": {
      "text/html": [
       "<pre>+---------+--------------+------------------------+</pre>"
      ],
      "text/plain": [
       "+---------+--------------+------------------------+"
      ]
     },
     "metadata": {},
     "output_type": "display_data"
    },
    {
     "data": {
      "text/html": [
       "<pre>Optimization Complete: Iteration limit reached.</pre>"
      ],
      "text/plain": [
       "Optimization Complete: Iteration limit reached."
      ]
     },
     "metadata": {},
     "output_type": "display_data"
    },
    {
     "data": {
      "text/html": [
       "<pre>Recsys training: model = factorization_recommender</pre>"
      ],
      "text/plain": [
       "Recsys training: model = factorization_recommender"
      ]
     },
     "metadata": {},
     "output_type": "display_data"
    },
    {
     "data": {
      "text/html": [
       "<pre>Preparing data set.</pre>"
      ],
      "text/plain": [
       "Preparing data set."
      ]
     },
     "metadata": {},
     "output_type": "display_data"
    },
    {
     "data": {
      "text/html": [
       "<pre>    Data has 24756 observations with 12294 users and 894 items.</pre>"
      ],
      "text/plain": [
       "    Data has 24756 observations with 12294 users and 894 items."
      ]
     },
     "metadata": {},
     "output_type": "display_data"
    },
    {
     "data": {
      "text/html": [
       "<pre>    Data prepared in: 0.031131s</pre>"
      ],
      "text/plain": [
       "    Data prepared in: 0.031131s"
      ]
     },
     "metadata": {},
     "output_type": "display_data"
    },
    {
     "data": {
      "text/html": [
       "<pre>Training factorization_recommender for recommendations.</pre>"
      ],
      "text/plain": [
       "Training factorization_recommender for recommendations."
      ]
     },
     "metadata": {},
     "output_type": "display_data"
    },
    {
     "data": {
      "text/html": [
       "<pre>+------------------------------+--------------------------------------------------+----------+</pre>"
      ],
      "text/plain": [
       "+------------------------------+--------------------------------------------------+----------+"
      ]
     },
     "metadata": {},
     "output_type": "display_data"
    },
    {
     "data": {
      "text/html": [
       "<pre>| Parameter                    | Description                                      | Value    |</pre>"
      ],
      "text/plain": [
       "| Parameter                    | Description                                      | Value    |"
      ]
     },
     "metadata": {},
     "output_type": "display_data"
    },
    {
     "data": {
      "text/html": [
       "<pre>+------------------------------+--------------------------------------------------+----------+</pre>"
      ],
      "text/plain": [
       "+------------------------------+--------------------------------------------------+----------+"
      ]
     },
     "metadata": {},
     "output_type": "display_data"
    },
    {
     "data": {
      "text/html": [
       "<pre>| num_factors                  | Factor Dimension                                 | 10       |</pre>"
      ],
      "text/plain": [
       "| num_factors                  | Factor Dimension                                 | 10       |"
      ]
     },
     "metadata": {},
     "output_type": "display_data"
    },
    {
     "data": {
      "text/html": [
       "<pre>| regularization               | L2 Regularization on Factors                     | 1        |</pre>"
      ],
      "text/plain": [
       "| regularization               | L2 Regularization on Factors                     | 1        |"
      ]
     },
     "metadata": {},
     "output_type": "display_data"
    },
    {
     "data": {
      "text/html": [
       "<pre>| max_iterations               | Maximum Number of Iterations                     | 50       |</pre>"
      ],
      "text/plain": [
       "| max_iterations               | Maximum Number of Iterations                     | 50       |"
      ]
     },
     "metadata": {},
     "output_type": "display_data"
    },
    {
     "data": {
      "text/html": [
       "<pre>| solver                       | Solver used for training                         | als      |</pre>"
      ],
      "text/plain": [
       "| solver                       | Solver used for training                         | als      |"
      ]
     },
     "metadata": {},
     "output_type": "display_data"
    },
    {
     "data": {
      "text/html": [
       "<pre>+------------------------------+--------------------------------------------------+----------+</pre>"
      ],
      "text/plain": [
       "+------------------------------+--------------------------------------------------+----------+"
      ]
     },
     "metadata": {},
     "output_type": "display_data"
    },
    {
     "data": {
      "text/html": [
       "<pre>+---------+--------------+------------------------+</pre>"
      ],
      "text/plain": [
       "+---------+--------------+------------------------+"
      ]
     },
     "metadata": {},
     "output_type": "display_data"
    },
    {
     "data": {
      "text/html": [
       "<pre>| Iter.   | Elapsed time | RMSE                   |</pre>"
      ],
      "text/plain": [
       "| Iter.   | Elapsed time | RMSE                   |"
      ]
     },
     "metadata": {},
     "output_type": "display_data"
    },
    {
     "data": {
      "text/html": [
       "<pre>+---------+--------------+------------------------+</pre>"
      ],
      "text/plain": [
       "+---------+--------------+------------------------+"
      ]
     },
     "metadata": {},
     "output_type": "display_data"
    },
    {
     "data": {
      "text/html": [
       "<pre>| Initial | 51us         | NA                     |</pre>"
      ],
      "text/plain": [
       "| Initial | 51us         | NA                     |"
      ]
     },
     "metadata": {},
     "output_type": "display_data"
    },
    {
     "data": {
      "text/html": [
       "<pre>+---------+--------------+------------------------+</pre>"
      ],
      "text/plain": [
       "+---------+--------------+------------------------+"
      ]
     },
     "metadata": {},
     "output_type": "display_data"
    },
    {
     "data": {
      "text/html": [
       "<pre>| 0       | 30.229ms     | 0.598309               |</pre>"
      ],
      "text/plain": [
       "| 0       | 30.229ms     | 0.598309               |"
      ]
     },
     "metadata": {},
     "output_type": "display_data"
    },
    {
     "data": {
      "text/html": [
       "<pre>| 1       | 53.069ms     | 0.598309               |</pre>"
      ],
      "text/plain": [
       "| 1       | 53.069ms     | 0.598309               |"
      ]
     },
     "metadata": {},
     "output_type": "display_data"
    },
    {
     "data": {
      "text/html": [
       "<pre>| 2       | 99.907ms     | 0.598309               |</pre>"
      ],
      "text/plain": [
       "| 2       | 99.907ms     | 0.598309               |"
      ]
     },
     "metadata": {},
     "output_type": "display_data"
    },
    {
     "data": {
      "text/html": [
       "<pre>| 3       | 124.814ms    | 0.598309               |</pre>"
      ],
      "text/plain": [
       "| 3       | 124.814ms    | 0.598309               |"
      ]
     },
     "metadata": {},
     "output_type": "display_data"
    },
    {
     "data": {
      "text/html": [
       "<pre>| 4       | 157.424ms    | 0.598309               |</pre>"
      ],
      "text/plain": [
       "| 4       | 157.424ms    | 0.598309               |"
      ]
     },
     "metadata": {},
     "output_type": "display_data"
    },
    {
     "data": {
      "text/html": [
       "<pre>| 5       | 196.484ms    | 0.598309               |</pre>"
      ],
      "text/plain": [
       "| 5       | 196.484ms    | 0.598309               |"
      ]
     },
     "metadata": {},
     "output_type": "display_data"
    },
    {
     "data": {
      "text/html": [
       "<pre>| 6       | 226.128ms    | 0.598309               |</pre>"
      ],
      "text/plain": [
       "| 6       | 226.128ms    | 0.598309               |"
      ]
     },
     "metadata": {},
     "output_type": "display_data"
    },
    {
     "data": {
      "text/html": [
       "<pre>| 7       | 250.278ms    | 0.598309               |</pre>"
      ],
      "text/plain": [
       "| 7       | 250.278ms    | 0.598309               |"
      ]
     },
     "metadata": {},
     "output_type": "display_data"
    },
    {
     "data": {
      "text/html": [
       "<pre>| 8       | 282.179ms    | 0.598309               |</pre>"
      ],
      "text/plain": [
       "| 8       | 282.179ms    | 0.598309               |"
      ]
     },
     "metadata": {},
     "output_type": "display_data"
    },
    {
     "data": {
      "text/html": [
       "<pre>| 9       | 301.461ms    | 0.598309               |</pre>"
      ],
      "text/plain": [
       "| 9       | 301.461ms    | 0.598309               |"
      ]
     },
     "metadata": {},
     "output_type": "display_data"
    },
    {
     "data": {
      "text/html": [
       "<pre>| 10      | 338.264ms    | 0.598309               |</pre>"
      ],
      "text/plain": [
       "| 10      | 338.264ms    | 0.598309               |"
      ]
     },
     "metadata": {},
     "output_type": "display_data"
    },
    {
     "data": {
      "text/html": [
       "<pre>| 11      | 366.208ms    | 0.598309               |</pre>"
      ],
      "text/plain": [
       "| 11      | 366.208ms    | 0.598309               |"
      ]
     },
     "metadata": {},
     "output_type": "display_data"
    },
    {
     "data": {
      "text/html": [
       "<pre>| 12      | 407.911ms    | 0.598309               |</pre>"
      ],
      "text/plain": [
       "| 12      | 407.911ms    | 0.598309               |"
      ]
     },
     "metadata": {},
     "output_type": "display_data"
    },
    {
     "data": {
      "text/html": [
       "<pre>| 13      | 440.188ms    | 0.598309               |</pre>"
      ],
      "text/plain": [
       "| 13      | 440.188ms    | 0.598309               |"
      ]
     },
     "metadata": {},
     "output_type": "display_data"
    },
    {
     "data": {
      "text/html": [
       "<pre>| 14      | 493.304ms    | 0.598309               |</pre>"
      ],
      "text/plain": [
       "| 14      | 493.304ms    | 0.598309               |"
      ]
     },
     "metadata": {},
     "output_type": "display_data"
    },
    {
     "data": {
      "text/html": [
       "<pre>| 15      | 520.877ms    | 0.598309               |</pre>"
      ],
      "text/plain": [
       "| 15      | 520.877ms    | 0.598309               |"
      ]
     },
     "metadata": {},
     "output_type": "display_data"
    },
    {
     "data": {
      "text/html": [
       "<pre>| 16      | 556.896ms    | 0.598309               |</pre>"
      ],
      "text/plain": [
       "| 16      | 556.896ms    | 0.598309               |"
      ]
     },
     "metadata": {},
     "output_type": "display_data"
    },
    {
     "data": {
      "text/html": [
       "<pre>| 17      | 583.56ms     | 0.598309               |</pre>"
      ],
      "text/plain": [
       "| 17      | 583.56ms     | 0.598309               |"
      ]
     },
     "metadata": {},
     "output_type": "display_data"
    },
    {
     "data": {
      "text/html": [
       "<pre>| 18      | 610.09ms     | 0.598309               |</pre>"
      ],
      "text/plain": [
       "| 18      | 610.09ms     | 0.598309               |"
      ]
     },
     "metadata": {},
     "output_type": "display_data"
    },
    {
     "data": {
      "text/html": [
       "<pre>| 19      | 647.481ms    | 0.598309               |</pre>"
      ],
      "text/plain": [
       "| 19      | 647.481ms    | 0.598309               |"
      ]
     },
     "metadata": {},
     "output_type": "display_data"
    },
    {
     "data": {
      "text/html": [
       "<pre>| 20      | 681.599ms    | 0.598309               |</pre>"
      ],
      "text/plain": [
       "| 20      | 681.599ms    | 0.598309               |"
      ]
     },
     "metadata": {},
     "output_type": "display_data"
    },
    {
     "data": {
      "text/html": [
       "<pre>| 21      | 713.707ms    | 0.598309               |</pre>"
      ],
      "text/plain": [
       "| 21      | 713.707ms    | 0.598309               |"
      ]
     },
     "metadata": {},
     "output_type": "display_data"
    },
    {
     "data": {
      "text/html": [
       "<pre>| 22      | 738.407ms    | 0.598309               |</pre>"
      ],
      "text/plain": [
       "| 22      | 738.407ms    | 0.598309               |"
      ]
     },
     "metadata": {},
     "output_type": "display_data"
    },
    {
     "data": {
      "text/html": [
       "<pre>| 23      | 764.678ms    | 0.598309               |</pre>"
      ],
      "text/plain": [
       "| 23      | 764.678ms    | 0.598309               |"
      ]
     },
     "metadata": {},
     "output_type": "display_data"
    },
    {
     "data": {
      "text/html": [
       "<pre>| 24      | 816.409ms    | 0.598309               |</pre>"
      ],
      "text/plain": [
       "| 24      | 816.409ms    | 0.598309               |"
      ]
     },
     "metadata": {},
     "output_type": "display_data"
    },
    {
     "data": {
      "text/html": [
       "<pre>| 25      | 840.59ms     | 0.598309               |</pre>"
      ],
      "text/plain": [
       "| 25      | 840.59ms     | 0.598309               |"
      ]
     },
     "metadata": {},
     "output_type": "display_data"
    },
    {
     "data": {
      "text/html": [
       "<pre>| 26      | 863.447ms    | 0.598309               |</pre>"
      ],
      "text/plain": [
       "| 26      | 863.447ms    | 0.598309               |"
      ]
     },
     "metadata": {},
     "output_type": "display_data"
    },
    {
     "data": {
      "text/html": [
       "<pre>| 27      | 897.407ms    | 0.598309               |</pre>"
      ],
      "text/plain": [
       "| 27      | 897.407ms    | 0.598309               |"
      ]
     },
     "metadata": {},
     "output_type": "display_data"
    },
    {
     "data": {
      "text/html": [
       "<pre>| 28      | 925.78ms     | 0.598309               |</pre>"
      ],
      "text/plain": [
       "| 28      | 925.78ms     | 0.598309               |"
      ]
     },
     "metadata": {},
     "output_type": "display_data"
    },
    {
     "data": {
      "text/html": [
       "<pre>| 29      | 958.593ms    | 0.598309               |</pre>"
      ],
      "text/plain": [
       "| 29      | 958.593ms    | 0.598309               |"
      ]
     },
     "metadata": {},
     "output_type": "display_data"
    },
    {
     "data": {
      "text/html": [
       "<pre>| 30      | 995.462ms    | 0.598309               |</pre>"
      ],
      "text/plain": [
       "| 30      | 995.462ms    | 0.598309               |"
      ]
     },
     "metadata": {},
     "output_type": "display_data"
    },
    {
     "data": {
      "text/html": [
       "<pre>| 31      | 1.02s        | 0.598309               |</pre>"
      ],
      "text/plain": [
       "| 31      | 1.02s        | 0.598309               |"
      ]
     },
     "metadata": {},
     "output_type": "display_data"
    },
    {
     "data": {
      "text/html": [
       "<pre>| 32      | 1.05s        | 0.598309               |</pre>"
      ],
      "text/plain": [
       "| 32      | 1.05s        | 0.598309               |"
      ]
     },
     "metadata": {},
     "output_type": "display_data"
    },
    {
     "data": {
      "text/html": [
       "<pre>| 33      | 1.07s        | 0.598309               |</pre>"
      ],
      "text/plain": [
       "| 33      | 1.07s        | 0.598309               |"
      ]
     },
     "metadata": {},
     "output_type": "display_data"
    },
    {
     "data": {
      "text/html": [
       "<pre>| 34      | 1.11s        | 0.598309               |</pre>"
      ],
      "text/plain": [
       "| 34      | 1.11s        | 0.598309               |"
      ]
     },
     "metadata": {},
     "output_type": "display_data"
    },
    {
     "data": {
      "text/html": [
       "<pre>| 35      | 1.14s        | 0.598309               |</pre>"
      ],
      "text/plain": [
       "| 35      | 1.14s        | 0.598309               |"
      ]
     },
     "metadata": {},
     "output_type": "display_data"
    },
    {
     "data": {
      "text/html": [
       "<pre>| 36      | 1.17s        | 0.598309               |</pre>"
      ],
      "text/plain": [
       "| 36      | 1.17s        | 0.598309               |"
      ]
     },
     "metadata": {},
     "output_type": "display_data"
    },
    {
     "data": {
      "text/html": [
       "<pre>| 37      | 1.20s        | 0.598309               |</pre>"
      ],
      "text/plain": [
       "| 37      | 1.20s        | 0.598309               |"
      ]
     },
     "metadata": {},
     "output_type": "display_data"
    },
    {
     "data": {
      "text/html": [
       "<pre>| 38      | 1.23s        | 0.598309               |</pre>"
      ],
      "text/plain": [
       "| 38      | 1.23s        | 0.598309               |"
      ]
     },
     "metadata": {},
     "output_type": "display_data"
    },
    {
     "data": {
      "text/html": [
       "<pre>| 39      | 1.25s        | 0.598309               |</pre>"
      ],
      "text/plain": [
       "| 39      | 1.25s        | 0.598309               |"
      ]
     },
     "metadata": {},
     "output_type": "display_data"
    },
    {
     "data": {
      "text/html": [
       "<pre>| 40      | 1.29s        | 0.598309               |</pre>"
      ],
      "text/plain": [
       "| 40      | 1.29s        | 0.598309               |"
      ]
     },
     "metadata": {},
     "output_type": "display_data"
    },
    {
     "data": {
      "text/html": [
       "<pre>| 41      | 1.32s        | 0.598309               |</pre>"
      ],
      "text/plain": [
       "| 41      | 1.32s        | 0.598309               |"
      ]
     },
     "metadata": {},
     "output_type": "display_data"
    },
    {
     "data": {
      "text/html": [
       "<pre>| 42      | 1.35s        | 0.598309               |</pre>"
      ],
      "text/plain": [
       "| 42      | 1.35s        | 0.598309               |"
      ]
     },
     "metadata": {},
     "output_type": "display_data"
    },
    {
     "data": {
      "text/html": [
       "<pre>| 43      | 1.37s        | 0.598309               |</pre>"
      ],
      "text/plain": [
       "| 43      | 1.37s        | 0.598309               |"
      ]
     },
     "metadata": {},
     "output_type": "display_data"
    },
    {
     "data": {
      "text/html": [
       "<pre>| 44      | 1.41s        | 0.598309               |</pre>"
      ],
      "text/plain": [
       "| 44      | 1.41s        | 0.598309               |"
      ]
     },
     "metadata": {},
     "output_type": "display_data"
    },
    {
     "data": {
      "text/html": [
       "<pre>| 45      | 1.44s        | 0.598309               |</pre>"
      ],
      "text/plain": [
       "| 45      | 1.44s        | 0.598309               |"
      ]
     },
     "metadata": {},
     "output_type": "display_data"
    },
    {
     "data": {
      "text/html": [
       "<pre>| 46      | 1.48s        | 0.598309               |</pre>"
      ],
      "text/plain": [
       "| 46      | 1.48s        | 0.598309               |"
      ]
     },
     "metadata": {},
     "output_type": "display_data"
    },
    {
     "data": {
      "text/html": [
       "<pre>| 47      | 1.51s        | 0.598309               |</pre>"
      ],
      "text/plain": [
       "| 47      | 1.51s        | 0.598309               |"
      ]
     },
     "metadata": {},
     "output_type": "display_data"
    },
    {
     "data": {
      "text/html": [
       "<pre>| 48      | 1.55s        | 0.598309               |</pre>"
      ],
      "text/plain": [
       "| 48      | 1.55s        | 0.598309               |"
      ]
     },
     "metadata": {},
     "output_type": "display_data"
    },
    {
     "data": {
      "text/html": [
       "<pre>| 49      | 1.58s        | 0.598309               |</pre>"
      ],
      "text/plain": [
       "| 49      | 1.58s        | 0.598309               |"
      ]
     },
     "metadata": {},
     "output_type": "display_data"
    },
    {
     "data": {
      "text/html": [
       "<pre>| FINAL   | 1.58s        | 0.598309               |</pre>"
      ],
      "text/plain": [
       "| FINAL   | 1.58s        | 0.598309               |"
      ]
     },
     "metadata": {},
     "output_type": "display_data"
    },
    {
     "data": {
      "text/html": [
       "<pre>+---------+--------------+------------------------+</pre>"
      ],
      "text/plain": [
       "+---------+--------------+------------------------+"
      ]
     },
     "metadata": {},
     "output_type": "display_data"
    },
    {
     "data": {
      "text/html": [
       "<pre>Optimization Complete: Iteration limit reached.</pre>"
      ],
      "text/plain": [
       "Optimization Complete: Iteration limit reached."
      ]
     },
     "metadata": {},
     "output_type": "display_data"
    },
    {
     "data": {
      "text/html": [
       "<pre>Recsys training: model = factorization_recommender</pre>"
      ],
      "text/plain": [
       "Recsys training: model = factorization_recommender"
      ]
     },
     "metadata": {},
     "output_type": "display_data"
    },
    {
     "data": {
      "text/html": [
       "<pre>Preparing data set.</pre>"
      ],
      "text/plain": [
       "Preparing data set."
      ]
     },
     "metadata": {},
     "output_type": "display_data"
    },
    {
     "data": {
      "text/html": [
       "<pre>    Data has 24756 observations with 12294 users and 894 items.</pre>"
      ],
      "text/plain": [
       "    Data has 24756 observations with 12294 users and 894 items."
      ]
     },
     "metadata": {},
     "output_type": "display_data"
    },
    {
     "data": {
      "text/html": [
       "<pre>    Data prepared in: 0.034653s</pre>"
      ],
      "text/plain": [
       "    Data prepared in: 0.034653s"
      ]
     },
     "metadata": {},
     "output_type": "display_data"
    },
    {
     "data": {
      "text/html": [
       "<pre>Training factorization_recommender for recommendations.</pre>"
      ],
      "text/plain": [
       "Training factorization_recommender for recommendations."
      ]
     },
     "metadata": {},
     "output_type": "display_data"
    },
    {
     "data": {
      "text/html": [
       "<pre>+------------------------------+--------------------------------------------------+----------+</pre>"
      ],
      "text/plain": [
       "+------------------------------+--------------------------------------------------+----------+"
      ]
     },
     "metadata": {},
     "output_type": "display_data"
    },
    {
     "data": {
      "text/html": [
       "<pre>| Parameter                    | Description                                      | Value    |</pre>"
      ],
      "text/plain": [
       "| Parameter                    | Description                                      | Value    |"
      ]
     },
     "metadata": {},
     "output_type": "display_data"
    },
    {
     "data": {
      "text/html": [
       "<pre>+------------------------------+--------------------------------------------------+----------+</pre>"
      ],
      "text/plain": [
       "+------------------------------+--------------------------------------------------+----------+"
      ]
     },
     "metadata": {},
     "output_type": "display_data"
    },
    {
     "data": {
      "text/html": [
       "<pre>| num_factors                  | Factor Dimension                                 | 10       |</pre>"
      ],
      "text/plain": [
       "| num_factors                  | Factor Dimension                                 | 10       |"
      ]
     },
     "metadata": {},
     "output_type": "display_data"
    },
    {
     "data": {
      "text/html": [
       "<pre>| regularization               | L2 Regularization on Factors                     | 0.1      |</pre>"
      ],
      "text/plain": [
       "| regularization               | L2 Regularization on Factors                     | 0.1      |"
      ]
     },
     "metadata": {},
     "output_type": "display_data"
    },
    {
     "data": {
      "text/html": [
       "<pre>| max_iterations               | Maximum Number of Iterations                     | 50       |</pre>"
      ],
      "text/plain": [
       "| max_iterations               | Maximum Number of Iterations                     | 50       |"
      ]
     },
     "metadata": {},
     "output_type": "display_data"
    },
    {
     "data": {
      "text/html": [
       "<pre>| solver                       | Solver used for training                         | als      |</pre>"
      ],
      "text/plain": [
       "| solver                       | Solver used for training                         | als      |"
      ]
     },
     "metadata": {},
     "output_type": "display_data"
    },
    {
     "data": {
      "text/html": [
       "<pre>+------------------------------+--------------------------------------------------+----------+</pre>"
      ],
      "text/plain": [
       "+------------------------------+--------------------------------------------------+----------+"
      ]
     },
     "metadata": {},
     "output_type": "display_data"
    },
    {
     "data": {
      "text/html": [
       "<pre>+---------+--------------+------------------------+</pre>"
      ],
      "text/plain": [
       "+---------+--------------+------------------------+"
      ]
     },
     "metadata": {},
     "output_type": "display_data"
    },
    {
     "data": {
      "text/html": [
       "<pre>| Iter.   | Elapsed time | RMSE                   |</pre>"
      ],
      "text/plain": [
       "| Iter.   | Elapsed time | RMSE                   |"
      ]
     },
     "metadata": {},
     "output_type": "display_data"
    },
    {
     "data": {
      "text/html": [
       "<pre>+---------+--------------+------------------------+</pre>"
      ],
      "text/plain": [
       "+---------+--------------+------------------------+"
      ]
     },
     "metadata": {},
     "output_type": "display_data"
    },
    {
     "data": {
      "text/html": [
       "<pre>| Initial | 56us         | NA                     |</pre>"
      ],
      "text/plain": [
       "| Initial | 56us         | NA                     |"
      ]
     },
     "metadata": {},
     "output_type": "display_data"
    },
    {
     "data": {
      "text/html": [
       "<pre>+---------+--------------+------------------------+</pre>"
      ],
      "text/plain": [
       "+---------+--------------+------------------------+"
      ]
     },
     "metadata": {},
     "output_type": "display_data"
    },
    {
     "data": {
      "text/html": [
       "<pre>| 0       | 46.831ms     | 0.598309               |</pre>"
      ],
      "text/plain": [
       "| 0       | 46.831ms     | 0.598309               |"
      ]
     },
     "metadata": {},
     "output_type": "display_data"
    },
    {
     "data": {
      "text/html": [
       "<pre>| 1       | 98.983ms     | 0.598309               |</pre>"
      ],
      "text/plain": [
       "| 1       | 98.983ms     | 0.598309               |"
      ]
     },
     "metadata": {},
     "output_type": "display_data"
    },
    {
     "data": {
      "text/html": [
       "<pre>| 2       | 145.603ms    | 0.598309               |</pre>"
      ],
      "text/plain": [
       "| 2       | 145.603ms    | 0.598309               |"
      ]
     },
     "metadata": {},
     "output_type": "display_data"
    },
    {
     "data": {
      "text/html": [
       "<pre>| 3       | 188.255ms    | 0.598309               |</pre>"
      ],
      "text/plain": [
       "| 3       | 188.255ms    | 0.598309               |"
      ]
     },
     "metadata": {},
     "output_type": "display_data"
    },
    {
     "data": {
      "text/html": [
       "<pre>| 4       | 228.366ms    | 0.598309               |</pre>"
      ],
      "text/plain": [
       "| 4       | 228.366ms    | 0.598309               |"
      ]
     },
     "metadata": {},
     "output_type": "display_data"
    },
    {
     "data": {
      "text/html": [
       "<pre>| 5       | 255.158ms    | 0.598309               |</pre>"
      ],
      "text/plain": [
       "| 5       | 255.158ms    | 0.598309               |"
      ]
     },
     "metadata": {},
     "output_type": "display_data"
    },
    {
     "data": {
      "text/html": [
       "<pre>| 6       | 282.71ms     | 0.598309               |</pre>"
      ],
      "text/plain": [
       "| 6       | 282.71ms     | 0.598309               |"
      ]
     },
     "metadata": {},
     "output_type": "display_data"
    },
    {
     "data": {
      "text/html": [
       "<pre>| 7       | 324.762ms    | 0.598309               |</pre>"
      ],
      "text/plain": [
       "| 7       | 324.762ms    | 0.598309               |"
      ]
     },
     "metadata": {},
     "output_type": "display_data"
    },
    {
     "data": {
      "text/html": [
       "<pre>| 8       | 355.171ms    | 0.598309               |</pre>"
      ],
      "text/plain": [
       "| 8       | 355.171ms    | 0.598309               |"
      ]
     },
     "metadata": {},
     "output_type": "display_data"
    },
    {
     "data": {
      "text/html": [
       "<pre>| 9       | 387.057ms    | 0.598309               |</pre>"
      ],
      "text/plain": [
       "| 9       | 387.057ms    | 0.598309               |"
      ]
     },
     "metadata": {},
     "output_type": "display_data"
    },
    {
     "data": {
      "text/html": [
       "<pre>| 10      | 428.755ms    | 0.598309               |</pre>"
      ],
      "text/plain": [
       "| 10      | 428.755ms    | 0.598309               |"
      ]
     },
     "metadata": {},
     "output_type": "display_data"
    },
    {
     "data": {
      "text/html": [
       "<pre>| 11      | 452.115ms    | 0.598309               |</pre>"
      ],
      "text/plain": [
       "| 11      | 452.115ms    | 0.598309               |"
      ]
     },
     "metadata": {},
     "output_type": "display_data"
    },
    {
     "data": {
      "text/html": [
       "<pre>| 12      | 485.097ms    | 0.598309               |</pre>"
      ],
      "text/plain": [
       "| 12      | 485.097ms    | 0.598309               |"
      ]
     },
     "metadata": {},
     "output_type": "display_data"
    },
    {
     "data": {
      "text/html": [
       "<pre>| 13      | 515.736ms    | 0.598309               |</pre>"
      ],
      "text/plain": [
       "| 13      | 515.736ms    | 0.598309               |"
      ]
     },
     "metadata": {},
     "output_type": "display_data"
    },
    {
     "data": {
      "text/html": [
       "<pre>| 14      | 545.391ms    | 0.598309               |</pre>"
      ],
      "text/plain": [
       "| 14      | 545.391ms    | 0.598309               |"
      ]
     },
     "metadata": {},
     "output_type": "display_data"
    },
    {
     "data": {
      "text/html": [
       "<pre>| 15      | 574.773ms    | 0.598309               |</pre>"
      ],
      "text/plain": [
       "| 15      | 574.773ms    | 0.598309               |"
      ]
     },
     "metadata": {},
     "output_type": "display_data"
    },
    {
     "data": {
      "text/html": [
       "<pre>| 16      | 603.537ms    | 0.598309               |</pre>"
      ],
      "text/plain": [
       "| 16      | 603.537ms    | 0.598309               |"
      ]
     },
     "metadata": {},
     "output_type": "display_data"
    },
    {
     "data": {
      "text/html": [
       "<pre>| 17      | 628.529ms    | 0.598309               |</pre>"
      ],
      "text/plain": [
       "| 17      | 628.529ms    | 0.598309               |"
      ]
     },
     "metadata": {},
     "output_type": "display_data"
    },
    {
     "data": {
      "text/html": [
       "<pre>| 18      | 673.515ms    | 0.598309               |</pre>"
      ],
      "text/plain": [
       "| 18      | 673.515ms    | 0.598309               |"
      ]
     },
     "metadata": {},
     "output_type": "display_data"
    },
    {
     "data": {
      "text/html": [
       "<pre>| 19      | 709.572ms    | 0.598309               |</pre>"
      ],
      "text/plain": [
       "| 19      | 709.572ms    | 0.598309               |"
      ]
     },
     "metadata": {},
     "output_type": "display_data"
    },
    {
     "data": {
      "text/html": [
       "<pre>| 20      | 740.143ms    | 0.598309               |</pre>"
      ],
      "text/plain": [
       "| 20      | 740.143ms    | 0.598309               |"
      ]
     },
     "metadata": {},
     "output_type": "display_data"
    },
    {
     "data": {
      "text/html": [
       "<pre>| 21      | 773.402ms    | 0.598309               |</pre>"
      ],
      "text/plain": [
       "| 21      | 773.402ms    | 0.598309               |"
      ]
     },
     "metadata": {},
     "output_type": "display_data"
    },
    {
     "data": {
      "text/html": [
       "<pre>| 22      | 821.372ms    | 0.598309               |</pre>"
      ],
      "text/plain": [
       "| 22      | 821.372ms    | 0.598309               |"
      ]
     },
     "metadata": {},
     "output_type": "display_data"
    },
    {
     "data": {
      "text/html": [
       "<pre>| 23      | 849.28ms     | 0.598309               |</pre>"
      ],
      "text/plain": [
       "| 23      | 849.28ms     | 0.598309               |"
      ]
     },
     "metadata": {},
     "output_type": "display_data"
    },
    {
     "data": {
      "text/html": [
       "<pre>| 24      | 884.551ms    | 0.598309               |</pre>"
      ],
      "text/plain": [
       "| 24      | 884.551ms    | 0.598309               |"
      ]
     },
     "metadata": {},
     "output_type": "display_data"
    },
    {
     "data": {
      "text/html": [
       "<pre>| 25      | 902.538ms    | 0.598309               |</pre>"
      ],
      "text/plain": [
       "| 25      | 902.538ms    | 0.598309               |"
      ]
     },
     "metadata": {},
     "output_type": "display_data"
    },
    {
     "data": {
      "text/html": [
       "<pre>| 26      | 932.045ms    | 0.598309               |</pre>"
      ],
      "text/plain": [
       "| 26      | 932.045ms    | 0.598309               |"
      ]
     },
     "metadata": {},
     "output_type": "display_data"
    },
    {
     "data": {
      "text/html": [
       "<pre>| 27      | 960.51ms     | 0.598309               |</pre>"
      ],
      "text/plain": [
       "| 27      | 960.51ms     | 0.598309               |"
      ]
     },
     "metadata": {},
     "output_type": "display_data"
    },
    {
     "data": {
      "text/html": [
       "<pre>| 28      | 989.809ms    | 0.598309               |</pre>"
      ],
      "text/plain": [
       "| 28      | 989.809ms    | 0.598309               |"
      ]
     },
     "metadata": {},
     "output_type": "display_data"
    },
    {
     "data": {
      "text/html": [
       "<pre>| 29      | 1.01s        | 0.598309               |</pre>"
      ],
      "text/plain": [
       "| 29      | 1.01s        | 0.598309               |"
      ]
     },
     "metadata": {},
     "output_type": "display_data"
    },
    {
     "data": {
      "text/html": [
       "<pre>| 30      | 1.04s        | 0.598309               |</pre>"
      ],
      "text/plain": [
       "| 30      | 1.04s        | 0.598309               |"
      ]
     },
     "metadata": {},
     "output_type": "display_data"
    },
    {
     "data": {
      "text/html": [
       "<pre>| 31      | 1.05s        | 0.598309               |</pre>"
      ],
      "text/plain": [
       "| 31      | 1.05s        | 0.598309               |"
      ]
     },
     "metadata": {},
     "output_type": "display_data"
    },
    {
     "data": {
      "text/html": [
       "<pre>| 32      | 1.09s        | 0.598309               |</pre>"
      ],
      "text/plain": [
       "| 32      | 1.09s        | 0.598309               |"
      ]
     },
     "metadata": {},
     "output_type": "display_data"
    },
    {
     "data": {
      "text/html": [
       "<pre>| 33      | 1.11s        | 0.598309               |</pre>"
      ],
      "text/plain": [
       "| 33      | 1.11s        | 0.598309               |"
      ]
     },
     "metadata": {},
     "output_type": "display_data"
    },
    {
     "data": {
      "text/html": [
       "<pre>| 34      | 1.14s        | 0.598309               |</pre>"
      ],
      "text/plain": [
       "| 34      | 1.14s        | 0.598309               |"
      ]
     },
     "metadata": {},
     "output_type": "display_data"
    },
    {
     "data": {
      "text/html": [
       "<pre>| 35      | 1.17s        | 0.598309               |</pre>"
      ],
      "text/plain": [
       "| 35      | 1.17s        | 0.598309               |"
      ]
     },
     "metadata": {},
     "output_type": "display_data"
    },
    {
     "data": {
      "text/html": [
       "<pre>| 36      | 1.19s        | 0.598309               |</pre>"
      ],
      "text/plain": [
       "| 36      | 1.19s        | 0.598309               |"
      ]
     },
     "metadata": {},
     "output_type": "display_data"
    },
    {
     "data": {
      "text/html": [
       "<pre>| 37      | 1.22s        | 0.598309               |</pre>"
      ],
      "text/plain": [
       "| 37      | 1.22s        | 0.598309               |"
      ]
     },
     "metadata": {},
     "output_type": "display_data"
    },
    {
     "data": {
      "text/html": [
       "<pre>| 38      | 1.25s        | 0.598309               |</pre>"
      ],
      "text/plain": [
       "| 38      | 1.25s        | 0.598309               |"
      ]
     },
     "metadata": {},
     "output_type": "display_data"
    },
    {
     "data": {
      "text/html": [
       "<pre>| 39      | 1.29s        | 0.598309               |</pre>"
      ],
      "text/plain": [
       "| 39      | 1.29s        | 0.598309               |"
      ]
     },
     "metadata": {},
     "output_type": "display_data"
    },
    {
     "data": {
      "text/html": [
       "<pre>| 40      | 1.32s        | 0.598309               |</pre>"
      ],
      "text/plain": [
       "| 40      | 1.32s        | 0.598309               |"
      ]
     },
     "metadata": {},
     "output_type": "display_data"
    },
    {
     "data": {
      "text/html": [
       "<pre>| 41      | 1.35s        | 0.598309               |</pre>"
      ],
      "text/plain": [
       "| 41      | 1.35s        | 0.598309               |"
      ]
     },
     "metadata": {},
     "output_type": "display_data"
    },
    {
     "data": {
      "text/html": [
       "<pre>| 42      | 1.39s        | 0.598309               |</pre>"
      ],
      "text/plain": [
       "| 42      | 1.39s        | 0.598309               |"
      ]
     },
     "metadata": {},
     "output_type": "display_data"
    },
    {
     "data": {
      "text/html": [
       "<pre>| 43      | 1.42s        | 0.598309               |</pre>"
      ],
      "text/plain": [
       "| 43      | 1.42s        | 0.598309               |"
      ]
     },
     "metadata": {},
     "output_type": "display_data"
    },
    {
     "data": {
      "text/html": [
       "<pre>| 44      | 1.45s        | 0.598309               |</pre>"
      ],
      "text/plain": [
       "| 44      | 1.45s        | 0.598309               |"
      ]
     },
     "metadata": {},
     "output_type": "display_data"
    },
    {
     "data": {
      "text/html": [
       "<pre>| 45      | 1.48s        | 0.598309               |</pre>"
      ],
      "text/plain": [
       "| 45      | 1.48s        | 0.598309               |"
      ]
     },
     "metadata": {},
     "output_type": "display_data"
    },
    {
     "data": {
      "text/html": [
       "<pre>| 46      | 1.51s        | 0.598309               |</pre>"
      ],
      "text/plain": [
       "| 46      | 1.51s        | 0.598309               |"
      ]
     },
     "metadata": {},
     "output_type": "display_data"
    },
    {
     "data": {
      "text/html": [
       "<pre>| 47      | 1.55s        | 0.598309               |</pre>"
      ],
      "text/plain": [
       "| 47      | 1.55s        | 0.598309               |"
      ]
     },
     "metadata": {},
     "output_type": "display_data"
    },
    {
     "data": {
      "text/html": [
       "<pre>| 48      | 1.59s        | 0.598309               |</pre>"
      ],
      "text/plain": [
       "| 48      | 1.59s        | 0.598309               |"
      ]
     },
     "metadata": {},
     "output_type": "display_data"
    },
    {
     "data": {
      "text/html": [
       "<pre>| 49      | 1.62s        | 0.598309               |</pre>"
      ],
      "text/plain": [
       "| 49      | 1.62s        | 0.598309               |"
      ]
     },
     "metadata": {},
     "output_type": "display_data"
    },
    {
     "data": {
      "text/html": [
       "<pre>| FINAL   | 1.62s        | 0.598309               |</pre>"
      ],
      "text/plain": [
       "| FINAL   | 1.62s        | 0.598309               |"
      ]
     },
     "metadata": {},
     "output_type": "display_data"
    },
    {
     "data": {
      "text/html": [
       "<pre>+---------+--------------+------------------------+</pre>"
      ],
      "text/plain": [
       "+---------+--------------+------------------------+"
      ]
     },
     "metadata": {},
     "output_type": "display_data"
    },
    {
     "data": {
      "text/html": [
       "<pre>Optimization Complete: Iteration limit reached.</pre>"
      ],
      "text/plain": [
       "Optimization Complete: Iteration limit reached."
      ]
     },
     "metadata": {},
     "output_type": "display_data"
    },
    {
     "data": {
      "text/html": [
       "<pre>Recsys training: model = factorization_recommender</pre>"
      ],
      "text/plain": [
       "Recsys training: model = factorization_recommender"
      ]
     },
     "metadata": {},
     "output_type": "display_data"
    },
    {
     "data": {
      "text/html": [
       "<pre>Preparing data set.</pre>"
      ],
      "text/plain": [
       "Preparing data set."
      ]
     },
     "metadata": {},
     "output_type": "display_data"
    },
    {
     "data": {
      "text/html": [
       "<pre>    Data has 24756 observations with 12294 users and 894 items.</pre>"
      ],
      "text/plain": [
       "    Data has 24756 observations with 12294 users and 894 items."
      ]
     },
     "metadata": {},
     "output_type": "display_data"
    },
    {
     "data": {
      "text/html": [
       "<pre>    Data prepared in: 0.035774s</pre>"
      ],
      "text/plain": [
       "    Data prepared in: 0.035774s"
      ]
     },
     "metadata": {},
     "output_type": "display_data"
    },
    {
     "data": {
      "text/html": [
       "<pre>Training factorization_recommender for recommendations.</pre>"
      ],
      "text/plain": [
       "Training factorization_recommender for recommendations."
      ]
     },
     "metadata": {},
     "output_type": "display_data"
    },
    {
     "data": {
      "text/html": [
       "<pre>+------------------------------+--------------------------------------------------+----------+</pre>"
      ],
      "text/plain": [
       "+------------------------------+--------------------------------------------------+----------+"
      ]
     },
     "metadata": {},
     "output_type": "display_data"
    },
    {
     "data": {
      "text/html": [
       "<pre>| Parameter                    | Description                                      | Value    |</pre>"
      ],
      "text/plain": [
       "| Parameter                    | Description                                      | Value    |"
      ]
     },
     "metadata": {},
     "output_type": "display_data"
    },
    {
     "data": {
      "text/html": [
       "<pre>+------------------------------+--------------------------------------------------+----------+</pre>"
      ],
      "text/plain": [
       "+------------------------------+--------------------------------------------------+----------+"
      ]
     },
     "metadata": {},
     "output_type": "display_data"
    },
    {
     "data": {
      "text/html": [
       "<pre>| num_factors                  | Factor Dimension                                 | 10       |</pre>"
      ],
      "text/plain": [
       "| num_factors                  | Factor Dimension                                 | 10       |"
      ]
     },
     "metadata": {},
     "output_type": "display_data"
    },
    {
     "data": {
      "text/html": [
       "<pre>| regularization               | L2 Regularization on Factors                     | 0.01     |</pre>"
      ],
      "text/plain": [
       "| regularization               | L2 Regularization on Factors                     | 0.01     |"
      ]
     },
     "metadata": {},
     "output_type": "display_data"
    },
    {
     "data": {
      "text/html": [
       "<pre>| max_iterations               | Maximum Number of Iterations                     | 50       |</pre>"
      ],
      "text/plain": [
       "| max_iterations               | Maximum Number of Iterations                     | 50       |"
      ]
     },
     "metadata": {},
     "output_type": "display_data"
    },
    {
     "data": {
      "text/html": [
       "<pre>| solver                       | Solver used for training                         | als      |</pre>"
      ],
      "text/plain": [
       "| solver                       | Solver used for training                         | als      |"
      ]
     },
     "metadata": {},
     "output_type": "display_data"
    },
    {
     "data": {
      "text/html": [
       "<pre>+------------------------------+--------------------------------------------------+----------+</pre>"
      ],
      "text/plain": [
       "+------------------------------+--------------------------------------------------+----------+"
      ]
     },
     "metadata": {},
     "output_type": "display_data"
    },
    {
     "data": {
      "text/html": [
       "<pre>+---------+--------------+------------------------+</pre>"
      ],
      "text/plain": [
       "+---------+--------------+------------------------+"
      ]
     },
     "metadata": {},
     "output_type": "display_data"
    },
    {
     "data": {
      "text/html": [
       "<pre>| Iter.   | Elapsed time | RMSE                   |</pre>"
      ],
      "text/plain": [
       "| Iter.   | Elapsed time | RMSE                   |"
      ]
     },
     "metadata": {},
     "output_type": "display_data"
    },
    {
     "data": {
      "text/html": [
       "<pre>+---------+--------------+------------------------+</pre>"
      ],
      "text/plain": [
       "+---------+--------------+------------------------+"
      ]
     },
     "metadata": {},
     "output_type": "display_data"
    },
    {
     "data": {
      "text/html": [
       "<pre>| Initial | 45us         | NA                     |</pre>"
      ],
      "text/plain": [
       "| Initial | 45us         | NA                     |"
      ]
     },
     "metadata": {},
     "output_type": "display_data"
    },
    {
     "data": {
      "text/html": [
       "<pre>+---------+--------------+------------------------+</pre>"
      ],
      "text/plain": [
       "+---------+--------------+------------------------+"
      ]
     },
     "metadata": {},
     "output_type": "display_data"
    },
    {
     "data": {
      "text/html": [
       "<pre>| 0       | 46.411ms     | 0.598309               |</pre>"
      ],
      "text/plain": [
       "| 0       | 46.411ms     | 0.598309               |"
      ]
     },
     "metadata": {},
     "output_type": "display_data"
    },
    {
     "data": {
      "text/html": [
       "<pre>| 1       | 78.725ms     | 0.598309               |</pre>"
      ],
      "text/plain": [
       "| 1       | 78.725ms     | 0.598309               |"
      ]
     },
     "metadata": {},
     "output_type": "display_data"
    },
    {
     "data": {
      "text/html": [
       "<pre>| 2       | 123.362ms    | 0.598309               |</pre>"
      ],
      "text/plain": [
       "| 2       | 123.362ms    | 0.598309               |"
      ]
     },
     "metadata": {},
     "output_type": "display_data"
    },
    {
     "data": {
      "text/html": [
       "<pre>| 3       | 169.247ms    | 0.598309               |</pre>"
      ],
      "text/plain": [
       "| 3       | 169.247ms    | 0.598309               |"
      ]
     },
     "metadata": {},
     "output_type": "display_data"
    },
    {
     "data": {
      "text/html": [
       "<pre>| 4       | 205.976ms    | 0.598309               |</pre>"
      ],
      "text/plain": [
       "| 4       | 205.976ms    | 0.598309               |"
      ]
     },
     "metadata": {},
     "output_type": "display_data"
    },
    {
     "data": {
      "text/html": [
       "<pre>| 5       | 253.399ms    | 0.598309               |</pre>"
      ],
      "text/plain": [
       "| 5       | 253.399ms    | 0.598309               |"
      ]
     },
     "metadata": {},
     "output_type": "display_data"
    },
    {
     "data": {
      "text/html": [
       "<pre>| 6       | 301.839ms    | 0.598309               |</pre>"
      ],
      "text/plain": [
       "| 6       | 301.839ms    | 0.598309               |"
      ]
     },
     "metadata": {},
     "output_type": "display_data"
    },
    {
     "data": {
      "text/html": [
       "<pre>| 7       | 338.158ms    | 0.598309               |</pre>"
      ],
      "text/plain": [
       "| 7       | 338.158ms    | 0.598309               |"
      ]
     },
     "metadata": {},
     "output_type": "display_data"
    },
    {
     "data": {
      "text/html": [
       "<pre>| 8       | 361.875ms    | 0.598309               |</pre>"
      ],
      "text/plain": [
       "| 8       | 361.875ms    | 0.598309               |"
      ]
     },
     "metadata": {},
     "output_type": "display_data"
    },
    {
     "data": {
      "text/html": [
       "<pre>| 9       | 379.014ms    | 0.598309               |</pre>"
      ],
      "text/plain": [
       "| 9       | 379.014ms    | 0.598309               |"
      ]
     },
     "metadata": {},
     "output_type": "display_data"
    },
    {
     "data": {
      "text/html": [
       "<pre>| 10      | 405.768ms    | 0.598309               |</pre>"
      ],
      "text/plain": [
       "| 10      | 405.768ms    | 0.598309               |"
      ]
     },
     "metadata": {},
     "output_type": "display_data"
    },
    {
     "data": {
      "text/html": [
       "<pre>| 11      | 441.282ms    | 0.598309               |</pre>"
      ],
      "text/plain": [
       "| 11      | 441.282ms    | 0.598309               |"
      ]
     },
     "metadata": {},
     "output_type": "display_data"
    },
    {
     "data": {
      "text/html": [
       "<pre>| 12      | 489.029ms    | 0.598309               |</pre>"
      ],
      "text/plain": [
       "| 12      | 489.029ms    | 0.598309               |"
      ]
     },
     "metadata": {},
     "output_type": "display_data"
    },
    {
     "data": {
      "text/html": [
       "<pre>| 13      | 535.615ms    | 0.598309               |</pre>"
      ],
      "text/plain": [
       "| 13      | 535.615ms    | 0.598309               |"
      ]
     },
     "metadata": {},
     "output_type": "display_data"
    },
    {
     "data": {
      "text/html": [
       "<pre>| 14      | 576.789ms    | 0.598309               |</pre>"
      ],
      "text/plain": [
       "| 14      | 576.789ms    | 0.598309               |"
      ]
     },
     "metadata": {},
     "output_type": "display_data"
    },
    {
     "data": {
      "text/html": [
       "<pre>| 15      | 620.442ms    | 0.598309               |</pre>"
      ],
      "text/plain": [
       "| 15      | 620.442ms    | 0.598309               |"
      ]
     },
     "metadata": {},
     "output_type": "display_data"
    },
    {
     "data": {
      "text/html": [
       "<pre>| 16      | 660.615ms    | 0.598309               |</pre>"
      ],
      "text/plain": [
       "| 16      | 660.615ms    | 0.598309               |"
      ]
     },
     "metadata": {},
     "output_type": "display_data"
    },
    {
     "data": {
      "text/html": [
       "<pre>| 17      | 689.891ms    | 0.598309               |</pre>"
      ],
      "text/plain": [
       "| 17      | 689.891ms    | 0.598309               |"
      ]
     },
     "metadata": {},
     "output_type": "display_data"
    },
    {
     "data": {
      "text/html": [
       "<pre>| 18      | 717.715ms    | 0.598309               |</pre>"
      ],
      "text/plain": [
       "| 18      | 717.715ms    | 0.598309               |"
      ]
     },
     "metadata": {},
     "output_type": "display_data"
    },
    {
     "data": {
      "text/html": [
       "<pre>| 19      | 749.349ms    | 0.598309               |</pre>"
      ],
      "text/plain": [
       "| 19      | 749.349ms    | 0.598309               |"
      ]
     },
     "metadata": {},
     "output_type": "display_data"
    },
    {
     "data": {
      "text/html": [
       "<pre>| 20      | 776.775ms    | 0.598309               |</pre>"
      ],
      "text/plain": [
       "| 20      | 776.775ms    | 0.598309               |"
      ]
     },
     "metadata": {},
     "output_type": "display_data"
    },
    {
     "data": {
      "text/html": [
       "<pre>| 21      | 809.625ms    | 0.598309               |</pre>"
      ],
      "text/plain": [
       "| 21      | 809.625ms    | 0.598309               |"
      ]
     },
     "metadata": {},
     "output_type": "display_data"
    },
    {
     "data": {
      "text/html": [
       "<pre>| 22      | 836.779ms    | 0.598309               |</pre>"
      ],
      "text/plain": [
       "| 22      | 836.779ms    | 0.598309               |"
      ]
     },
     "metadata": {},
     "output_type": "display_data"
    },
    {
     "data": {
      "text/html": [
       "<pre>| 23      | 866.79ms     | 0.598309               |</pre>"
      ],
      "text/plain": [
       "| 23      | 866.79ms     | 0.598309               |"
      ]
     },
     "metadata": {},
     "output_type": "display_data"
    },
    {
     "data": {
      "text/html": [
       "<pre>| 24      | 887.633ms    | 0.598309               |</pre>"
      ],
      "text/plain": [
       "| 24      | 887.633ms    | 0.598309               |"
      ]
     },
     "metadata": {},
     "output_type": "display_data"
    },
    {
     "data": {
      "text/html": [
       "<pre>| 25      | 920.1ms      | 0.598309               |</pre>"
      ],
      "text/plain": [
       "| 25      | 920.1ms      | 0.598309               |"
      ]
     },
     "metadata": {},
     "output_type": "display_data"
    },
    {
     "data": {
      "text/html": [
       "<pre>| 26      | 951.273ms    | 0.598309               |</pre>"
      ],
      "text/plain": [
       "| 26      | 951.273ms    | 0.598309               |"
      ]
     },
     "metadata": {},
     "output_type": "display_data"
    },
    {
     "data": {
      "text/html": [
       "<pre>| 27      | 975.443ms    | 0.598309               |</pre>"
      ],
      "text/plain": [
       "| 27      | 975.443ms    | 0.598309               |"
      ]
     },
     "metadata": {},
     "output_type": "display_data"
    },
    {
     "data": {
      "text/html": [
       "<pre>| 28      | 1.00s        | 0.598309               |</pre>"
      ],
      "text/plain": [
       "| 28      | 1.00s        | 0.598309               |"
      ]
     },
     "metadata": {},
     "output_type": "display_data"
    },
    {
     "data": {
      "text/html": [
       "<pre>| 29      | 1.02s        | 0.598309               |</pre>"
      ],
      "text/plain": [
       "| 29      | 1.02s        | 0.598309               |"
      ]
     },
     "metadata": {},
     "output_type": "display_data"
    },
    {
     "data": {
      "text/html": [
       "<pre>| 30      | 1.05s        | 0.598309               |</pre>"
      ],
      "text/plain": [
       "| 30      | 1.05s        | 0.598309               |"
      ]
     },
     "metadata": {},
     "output_type": "display_data"
    },
    {
     "data": {
      "text/html": [
       "<pre>| 31      | 1.07s        | 0.598309               |</pre>"
      ],
      "text/plain": [
       "| 31      | 1.07s        | 0.598309               |"
      ]
     },
     "metadata": {},
     "output_type": "display_data"
    },
    {
     "data": {
      "text/html": [
       "<pre>| 32      | 1.10s        | 0.598309               |</pre>"
      ],
      "text/plain": [
       "| 32      | 1.10s        | 0.598309               |"
      ]
     },
     "metadata": {},
     "output_type": "display_data"
    },
    {
     "data": {
      "text/html": [
       "<pre>| 33      | 1.12s        | 0.598309               |</pre>"
      ],
      "text/plain": [
       "| 33      | 1.12s        | 0.598309               |"
      ]
     },
     "metadata": {},
     "output_type": "display_data"
    },
    {
     "data": {
      "text/html": [
       "<pre>| 34      | 1.15s        | 0.598309               |</pre>"
      ],
      "text/plain": [
       "| 34      | 1.15s        | 0.598309               |"
      ]
     },
     "metadata": {},
     "output_type": "display_data"
    },
    {
     "data": {
      "text/html": [
       "<pre>| 35      | 1.19s        | 0.598309               |</pre>"
      ],
      "text/plain": [
       "| 35      | 1.19s        | 0.598309               |"
      ]
     },
     "metadata": {},
     "output_type": "display_data"
    },
    {
     "data": {
      "text/html": [
       "<pre>| 36      | 1.22s        | 0.598309               |</pre>"
      ],
      "text/plain": [
       "| 36      | 1.22s        | 0.598309               |"
      ]
     },
     "metadata": {},
     "output_type": "display_data"
    },
    {
     "data": {
      "text/html": [
       "<pre>| 37      | 1.25s        | 0.598309               |</pre>"
      ],
      "text/plain": [
       "| 37      | 1.25s        | 0.598309               |"
      ]
     },
     "metadata": {},
     "output_type": "display_data"
    },
    {
     "data": {
      "text/html": [
       "<pre>| 38      | 1.27s        | 0.598309               |</pre>"
      ],
      "text/plain": [
       "| 38      | 1.27s        | 0.598309               |"
      ]
     },
     "metadata": {},
     "output_type": "display_data"
    },
    {
     "data": {
      "text/html": [
       "<pre>| 39      | 1.31s        | 0.598309               |</pre>"
      ],
      "text/plain": [
       "| 39      | 1.31s        | 0.598309               |"
      ]
     },
     "metadata": {},
     "output_type": "display_data"
    },
    {
     "data": {
      "text/html": [
       "<pre>| 40      | 1.34s        | 0.598309               |</pre>"
      ],
      "text/plain": [
       "| 40      | 1.34s        | 0.598309               |"
      ]
     },
     "metadata": {},
     "output_type": "display_data"
    },
    {
     "data": {
      "text/html": [
       "<pre>| 41      | 1.38s        | 0.598309               |</pre>"
      ],
      "text/plain": [
       "| 41      | 1.38s        | 0.598309               |"
      ]
     },
     "metadata": {},
     "output_type": "display_data"
    },
    {
     "data": {
      "text/html": [
       "<pre>| 42      | 1.40s        | 0.598309               |</pre>"
      ],
      "text/plain": [
       "| 42      | 1.40s        | 0.598309               |"
      ]
     },
     "metadata": {},
     "output_type": "display_data"
    },
    {
     "data": {
      "text/html": [
       "<pre>| 43      | 1.43s        | 0.598309               |</pre>"
      ],
      "text/plain": [
       "| 43      | 1.43s        | 0.598309               |"
      ]
     },
     "metadata": {},
     "output_type": "display_data"
    },
    {
     "data": {
      "text/html": [
       "<pre>| 44      | 1.45s        | 0.598309               |</pre>"
      ],
      "text/plain": [
       "| 44      | 1.45s        | 0.598309               |"
      ]
     },
     "metadata": {},
     "output_type": "display_data"
    },
    {
     "data": {
      "text/html": [
       "<pre>| 45      | 1.48s        | 0.598309               |</pre>"
      ],
      "text/plain": [
       "| 45      | 1.48s        | 0.598309               |"
      ]
     },
     "metadata": {},
     "output_type": "display_data"
    },
    {
     "data": {
      "text/html": [
       "<pre>| 46      | 1.51s        | 0.598309               |</pre>"
      ],
      "text/plain": [
       "| 46      | 1.51s        | 0.598309               |"
      ]
     },
     "metadata": {},
     "output_type": "display_data"
    },
    {
     "data": {
      "text/html": [
       "<pre>| 47      | 1.53s        | 0.598309               |</pre>"
      ],
      "text/plain": [
       "| 47      | 1.53s        | 0.598309               |"
      ]
     },
     "metadata": {},
     "output_type": "display_data"
    },
    {
     "data": {
      "text/html": [
       "<pre>| 48      | 1.57s        | 0.598309               |</pre>"
      ],
      "text/plain": [
       "| 48      | 1.57s        | 0.598309               |"
      ]
     },
     "metadata": {},
     "output_type": "display_data"
    },
    {
     "data": {
      "text/html": [
       "<pre>| 49      | 1.59s        | 0.598309               |</pre>"
      ],
      "text/plain": [
       "| 49      | 1.59s        | 0.598309               |"
      ]
     },
     "metadata": {},
     "output_type": "display_data"
    },
    {
     "data": {
      "text/html": [
       "<pre>| FINAL   | 1.59s        | 0.598309               |</pre>"
      ],
      "text/plain": [
       "| FINAL   | 1.59s        | 0.598309               |"
      ]
     },
     "metadata": {},
     "output_type": "display_data"
    },
    {
     "data": {
      "text/html": [
       "<pre>+---------+--------------+------------------------+</pre>"
      ],
      "text/plain": [
       "+---------+--------------+------------------------+"
      ]
     },
     "metadata": {},
     "output_type": "display_data"
    },
    {
     "data": {
      "text/html": [
       "<pre>Optimization Complete: Iteration limit reached.</pre>"
      ],
      "text/plain": [
       "Optimization Complete: Iteration limit reached."
      ]
     },
     "metadata": {},
     "output_type": "display_data"
    },
    {
     "data": {
      "text/html": [
       "<pre>Recsys training: model = factorization_recommender</pre>"
      ],
      "text/plain": [
       "Recsys training: model = factorization_recommender"
      ]
     },
     "metadata": {},
     "output_type": "display_data"
    },
    {
     "data": {
      "text/html": [
       "<pre>Preparing data set.</pre>"
      ],
      "text/plain": [
       "Preparing data set."
      ]
     },
     "metadata": {},
     "output_type": "display_data"
    },
    {
     "data": {
      "text/html": [
       "<pre>    Data has 24756 observations with 12294 users and 894 items.</pre>"
      ],
      "text/plain": [
       "    Data has 24756 observations with 12294 users and 894 items."
      ]
     },
     "metadata": {},
     "output_type": "display_data"
    },
    {
     "data": {
      "text/html": [
       "<pre>    Data prepared in: 0.032334s</pre>"
      ],
      "text/plain": [
       "    Data prepared in: 0.032334s"
      ]
     },
     "metadata": {},
     "output_type": "display_data"
    },
    {
     "data": {
      "text/html": [
       "<pre>Training factorization_recommender for recommendations.</pre>"
      ],
      "text/plain": [
       "Training factorization_recommender for recommendations."
      ]
     },
     "metadata": {},
     "output_type": "display_data"
    },
    {
     "data": {
      "text/html": [
       "<pre>+------------------------------+--------------------------------------------------+----------+</pre>"
      ],
      "text/plain": [
       "+------------------------------+--------------------------------------------------+----------+"
      ]
     },
     "metadata": {},
     "output_type": "display_data"
    },
    {
     "data": {
      "text/html": [
       "<pre>| Parameter                    | Description                                      | Value    |</pre>"
      ],
      "text/plain": [
       "| Parameter                    | Description                                      | Value    |"
      ]
     },
     "metadata": {},
     "output_type": "display_data"
    },
    {
     "data": {
      "text/html": [
       "<pre>+------------------------------+--------------------------------------------------+----------+</pre>"
      ],
      "text/plain": [
       "+------------------------------+--------------------------------------------------+----------+"
      ]
     },
     "metadata": {},
     "output_type": "display_data"
    },
    {
     "data": {
      "text/html": [
       "<pre>| num_factors                  | Factor Dimension                                 | 10       |</pre>"
      ],
      "text/plain": [
       "| num_factors                  | Factor Dimension                                 | 10       |"
      ]
     },
     "metadata": {},
     "output_type": "display_data"
    },
    {
     "data": {
      "text/html": [
       "<pre>| regularization               | L2 Regularization on Factors                     | 0.0001   |</pre>"
      ],
      "text/plain": [
       "| regularization               | L2 Regularization on Factors                     | 0.0001   |"
      ]
     },
     "metadata": {},
     "output_type": "display_data"
    },
    {
     "data": {
      "text/html": [
       "<pre>| max_iterations               | Maximum Number of Iterations                     | 50       |</pre>"
      ],
      "text/plain": [
       "| max_iterations               | Maximum Number of Iterations                     | 50       |"
      ]
     },
     "metadata": {},
     "output_type": "display_data"
    },
    {
     "data": {
      "text/html": [
       "<pre>| solver                       | Solver used for training                         | als      |</pre>"
      ],
      "text/plain": [
       "| solver                       | Solver used for training                         | als      |"
      ]
     },
     "metadata": {},
     "output_type": "display_data"
    },
    {
     "data": {
      "text/html": [
       "<pre>+------------------------------+--------------------------------------------------+----------+</pre>"
      ],
      "text/plain": [
       "+------------------------------+--------------------------------------------------+----------+"
      ]
     },
     "metadata": {},
     "output_type": "display_data"
    },
    {
     "data": {
      "text/html": [
       "<pre>+---------+--------------+------------------------+</pre>"
      ],
      "text/plain": [
       "+---------+--------------+------------------------+"
      ]
     },
     "metadata": {},
     "output_type": "display_data"
    },
    {
     "data": {
      "text/html": [
       "<pre>| Iter.   | Elapsed time | RMSE                   |</pre>"
      ],
      "text/plain": [
       "| Iter.   | Elapsed time | RMSE                   |"
      ]
     },
     "metadata": {},
     "output_type": "display_data"
    },
    {
     "data": {
      "text/html": [
       "<pre>+---------+--------------+------------------------+</pre>"
      ],
      "text/plain": [
       "+---------+--------------+------------------------+"
      ]
     },
     "metadata": {},
     "output_type": "display_data"
    },
    {
     "data": {
      "text/html": [
       "<pre>| Initial | 47us         | NA                     |</pre>"
      ],
      "text/plain": [
       "| Initial | 47us         | NA                     |"
      ]
     },
     "metadata": {},
     "output_type": "display_data"
    },
    {
     "data": {
      "text/html": [
       "<pre>+---------+--------------+------------------------+</pre>"
      ],
      "text/plain": [
       "+---------+--------------+------------------------+"
      ]
     },
     "metadata": {},
     "output_type": "display_data"
    },
    {
     "data": {
      "text/html": [
       "<pre>| 0       | 41.392ms     | 0.598304               |</pre>"
      ],
      "text/plain": [
       "| 0       | 41.392ms     | 0.598304               |"
      ]
     },
     "metadata": {},
     "output_type": "display_data"
    },
    {
     "data": {
      "text/html": [
       "<pre>| 1       | 67.109ms     | 0.596966               |</pre>"
      ],
      "text/plain": [
       "| 1       | 67.109ms     | 0.596966               |"
      ]
     },
     "metadata": {},
     "output_type": "display_data"
    },
    {
     "data": {
      "text/html": [
       "<pre>| 2       | 92.509ms     | 0.52085                |</pre>"
      ],
      "text/plain": [
       "| 2       | 92.509ms     | 0.52085                |"
      ]
     },
     "metadata": {},
     "output_type": "display_data"
    },
    {
     "data": {
      "text/html": [
       "<pre>| 3       | 125.009ms    | 0.419792               |</pre>"
      ],
      "text/plain": [
       "| 3       | 125.009ms    | 0.419792               |"
      ]
     },
     "metadata": {},
     "output_type": "display_data"
    },
    {
     "data": {
      "text/html": [
       "<pre>| 4       | 157.147ms    | 0.370086               |</pre>"
      ],
      "text/plain": [
       "| 4       | 157.147ms    | 0.370086               |"
      ]
     },
     "metadata": {},
     "output_type": "display_data"
    },
    {
     "data": {
      "text/html": [
       "<pre>| 5       | 177.02ms     | 0.345143               |</pre>"
      ],
      "text/plain": [
       "| 5       | 177.02ms     | 0.345143               |"
      ]
     },
     "metadata": {},
     "output_type": "display_data"
    },
    {
     "data": {
      "text/html": [
       "<pre>| 6       | 203.792ms    | 0.330144               |</pre>"
      ],
      "text/plain": [
       "| 6       | 203.792ms    | 0.330144               |"
      ]
     },
     "metadata": {},
     "output_type": "display_data"
    },
    {
     "data": {
      "text/html": [
       "<pre>| 7       | 230.331ms    | 0.323206               |</pre>"
      ],
      "text/plain": [
       "| 7       | 230.331ms    | 0.323206               |"
      ]
     },
     "metadata": {},
     "output_type": "display_data"
    },
    {
     "data": {
      "text/html": [
       "<pre>| 8       | 265.404ms    | 0.319561               |</pre>"
      ],
      "text/plain": [
       "| 8       | 265.404ms    | 0.319561               |"
      ]
     },
     "metadata": {},
     "output_type": "display_data"
    },
    {
     "data": {
      "text/html": [
       "<pre>| 9       | 290.737ms    | 0.317601               |</pre>"
      ],
      "text/plain": [
       "| 9       | 290.737ms    | 0.317601               |"
      ]
     },
     "metadata": {},
     "output_type": "display_data"
    },
    {
     "data": {
      "text/html": [
       "<pre>| 10      | 326.552ms    | 0.316373               |</pre>"
      ],
      "text/plain": [
       "| 10      | 326.552ms    | 0.316373               |"
      ]
     },
     "metadata": {},
     "output_type": "display_data"
    },
    {
     "data": {
      "text/html": [
       "<pre>| 11      | 356.725ms    | 0.315504               |</pre>"
      ],
      "text/plain": [
       "| 11      | 356.725ms    | 0.315504               |"
      ]
     },
     "metadata": {},
     "output_type": "display_data"
    },
    {
     "data": {
      "text/html": [
       "<pre>| 12      | 388.754ms    | 0.314883               |</pre>"
      ],
      "text/plain": [
       "| 12      | 388.754ms    | 0.314883               |"
      ]
     },
     "metadata": {},
     "output_type": "display_data"
    },
    {
     "data": {
      "text/html": [
       "<pre>| 13      | 413.694ms    | 0.314446               |</pre>"
      ],
      "text/plain": [
       "| 13      | 413.694ms    | 0.314446               |"
      ]
     },
     "metadata": {},
     "output_type": "display_data"
    },
    {
     "data": {
      "text/html": [
       "<pre>| 14      | 446.714ms    | 0.314134               |</pre>"
      ],
      "text/plain": [
       "| 14      | 446.714ms    | 0.314134               |"
      ]
     },
     "metadata": {},
     "output_type": "display_data"
    },
    {
     "data": {
      "text/html": [
       "<pre>| 15      | 463.81ms     | 0.313903               |</pre>"
      ],
      "text/plain": [
       "| 15      | 463.81ms     | 0.313903               |"
      ]
     },
     "metadata": {},
     "output_type": "display_data"
    },
    {
     "data": {
      "text/html": [
       "<pre>| 16      | 487.113ms    | 0.313724               |</pre>"
      ],
      "text/plain": [
       "| 16      | 487.113ms    | 0.313724               |"
      ]
     },
     "metadata": {},
     "output_type": "display_data"
    },
    {
     "data": {
      "text/html": [
       "<pre>| 17      | 509.381ms    | 0.313579               |</pre>"
      ],
      "text/plain": [
       "| 17      | 509.381ms    | 0.313579               |"
      ]
     },
     "metadata": {},
     "output_type": "display_data"
    },
    {
     "data": {
      "text/html": [
       "<pre>| 18      | 544.159ms    | 0.313458               |</pre>"
      ],
      "text/plain": [
       "| 18      | 544.159ms    | 0.313458               |"
      ]
     },
     "metadata": {},
     "output_type": "display_data"
    },
    {
     "data": {
      "text/html": [
       "<pre>| 19      | 573.221ms    | 0.313355               |</pre>"
      ],
      "text/plain": [
       "| 19      | 573.221ms    | 0.313355               |"
      ]
     },
     "metadata": {},
     "output_type": "display_data"
    },
    {
     "data": {
      "text/html": [
       "<pre>| 20      | 593.139ms    | 0.313265               |</pre>"
      ],
      "text/plain": [
       "| 20      | 593.139ms    | 0.313265               |"
      ]
     },
     "metadata": {},
     "output_type": "display_data"
    },
    {
     "data": {
      "text/html": [
       "<pre>| 21      | 615.38ms     | 0.313186               |</pre>"
      ],
      "text/plain": [
       "| 21      | 615.38ms     | 0.313186               |"
      ]
     },
     "metadata": {},
     "output_type": "display_data"
    },
    {
     "data": {
      "text/html": [
       "<pre>| 22      | 634.416ms    | 0.313116               |</pre>"
      ],
      "text/plain": [
       "| 22      | 634.416ms    | 0.313116               |"
      ]
     },
     "metadata": {},
     "output_type": "display_data"
    },
    {
     "data": {
      "text/html": [
       "<pre>| 23      | 666.315ms    | 0.313052               |</pre>"
      ],
      "text/plain": [
       "| 23      | 666.315ms    | 0.313052               |"
      ]
     },
     "metadata": {},
     "output_type": "display_data"
    },
    {
     "data": {
      "text/html": [
       "<pre>| 24      | 686.21ms     | 0.312994               |</pre>"
      ],
      "text/plain": [
       "| 24      | 686.21ms     | 0.312994               |"
      ]
     },
     "metadata": {},
     "output_type": "display_data"
    },
    {
     "data": {
      "text/html": [
       "<pre>| 25      | 712.84ms     | 0.312942               |</pre>"
      ],
      "text/plain": [
       "| 25      | 712.84ms     | 0.312942               |"
      ]
     },
     "metadata": {},
     "output_type": "display_data"
    },
    {
     "data": {
      "text/html": [
       "<pre>| 26      | 741.209ms    | 0.312893               |</pre>"
      ],
      "text/plain": [
       "| 26      | 741.209ms    | 0.312893               |"
      ]
     },
     "metadata": {},
     "output_type": "display_data"
    },
    {
     "data": {
      "text/html": [
       "<pre>| 27      | 770.667ms    | 0.312848               |</pre>"
      ],
      "text/plain": [
       "| 27      | 770.667ms    | 0.312848               |"
      ]
     },
     "metadata": {},
     "output_type": "display_data"
    },
    {
     "data": {
      "text/html": [
       "<pre>| 28      | 799.398ms    | 0.312806               |</pre>"
      ],
      "text/plain": [
       "| 28      | 799.398ms    | 0.312806               |"
      ]
     },
     "metadata": {},
     "output_type": "display_data"
    },
    {
     "data": {
      "text/html": [
       "<pre>| 29      | 839.638ms    | 0.312768               |</pre>"
      ],
      "text/plain": [
       "| 29      | 839.638ms    | 0.312768               |"
      ]
     },
     "metadata": {},
     "output_type": "display_data"
    },
    {
     "data": {
      "text/html": [
       "<pre>| 30      | 868.257ms    | 0.312731               |</pre>"
      ],
      "text/plain": [
       "| 30      | 868.257ms    | 0.312731               |"
      ]
     },
     "metadata": {},
     "output_type": "display_data"
    },
    {
     "data": {
      "text/html": [
       "<pre>| 31      | 903.196ms    | 0.312697               |</pre>"
      ],
      "text/plain": [
       "| 31      | 903.196ms    | 0.312697               |"
      ]
     },
     "metadata": {},
     "output_type": "display_data"
    },
    {
     "data": {
      "text/html": [
       "<pre>| 32      | 932.55ms     | 0.312665               |</pre>"
      ],
      "text/plain": [
       "| 32      | 932.55ms     | 0.312665               |"
      ]
     },
     "metadata": {},
     "output_type": "display_data"
    },
    {
     "data": {
      "text/html": [
       "<pre>| 33      | 963.373ms    | 0.312635               |</pre>"
      ],
      "text/plain": [
       "| 33      | 963.373ms    | 0.312635               |"
      ]
     },
     "metadata": {},
     "output_type": "display_data"
    },
    {
     "data": {
      "text/html": [
       "<pre>| 34      | 997.669ms    | 0.312606               |</pre>"
      ],
      "text/plain": [
       "| 34      | 997.669ms    | 0.312606               |"
      ]
     },
     "metadata": {},
     "output_type": "display_data"
    },
    {
     "data": {
      "text/html": [
       "<pre>| 35      | 1.02s        | 0.312579               |</pre>"
      ],
      "text/plain": [
       "| 35      | 1.02s        | 0.312579               |"
      ]
     },
     "metadata": {},
     "output_type": "display_data"
    },
    {
     "data": {
      "text/html": [
       "<pre>| 36      | 1.05s        | 0.312553               |</pre>"
      ],
      "text/plain": [
       "| 36      | 1.05s        | 0.312553               |"
      ]
     },
     "metadata": {},
     "output_type": "display_data"
    },
    {
     "data": {
      "text/html": [
       "<pre>| 37      | 1.07s        | 0.312528               |</pre>"
      ],
      "text/plain": [
       "| 37      | 1.07s        | 0.312528               |"
      ]
     },
     "metadata": {},
     "output_type": "display_data"
    },
    {
     "data": {
      "text/html": [
       "<pre>| 38      | 1.09s        | 0.312505               |</pre>"
      ],
      "text/plain": [
       "| 38      | 1.09s        | 0.312505               |"
      ]
     },
     "metadata": {},
     "output_type": "display_data"
    },
    {
     "data": {
      "text/html": [
       "<pre>| 39      | 1.12s        | 0.312482               |</pre>"
      ],
      "text/plain": [
       "| 39      | 1.12s        | 0.312482               |"
      ]
     },
     "metadata": {},
     "output_type": "display_data"
    },
    {
     "data": {
      "text/html": [
       "<pre>| 40      | 1.14s        | 0.312461               |</pre>"
      ],
      "text/plain": [
       "| 40      | 1.14s        | 0.312461               |"
      ]
     },
     "metadata": {},
     "output_type": "display_data"
    },
    {
     "data": {
      "text/html": [
       "<pre>| 41      | 1.18s        | 0.31244                |</pre>"
      ],
      "text/plain": [
       "| 41      | 1.18s        | 0.31244                |"
      ]
     },
     "metadata": {},
     "output_type": "display_data"
    },
    {
     "data": {
      "text/html": [
       "<pre>| 42      | 1.19s        | 0.31242                |</pre>"
      ],
      "text/plain": [
       "| 42      | 1.19s        | 0.31242                |"
      ]
     },
     "metadata": {},
     "output_type": "display_data"
    },
    {
     "data": {
      "text/html": [
       "<pre>| 43      | 1.21s        | 0.312401               |</pre>"
      ],
      "text/plain": [
       "| 43      | 1.21s        | 0.312401               |"
      ]
     },
     "metadata": {},
     "output_type": "display_data"
    },
    {
     "data": {
      "text/html": [
       "<pre>| 44      | 1.24s        | 0.312382               |</pre>"
      ],
      "text/plain": [
       "| 44      | 1.24s        | 0.312382               |"
      ]
     },
     "metadata": {},
     "output_type": "display_data"
    },
    {
     "data": {
      "text/html": [
       "<pre>| 45      | 1.27s        | 0.312365               |</pre>"
      ],
      "text/plain": [
       "| 45      | 1.27s        | 0.312365               |"
      ]
     },
     "metadata": {},
     "output_type": "display_data"
    },
    {
     "data": {
      "text/html": [
       "<pre>| 46      | 1.30s        | 0.312347               |</pre>"
      ],
      "text/plain": [
       "| 46      | 1.30s        | 0.312347               |"
      ]
     },
     "metadata": {},
     "output_type": "display_data"
    },
    {
     "data": {
      "text/html": [
       "<pre>| 47      | 1.32s        | 0.312331               |</pre>"
      ],
      "text/plain": [
       "| 47      | 1.32s        | 0.312331               |"
      ]
     },
     "metadata": {},
     "output_type": "display_data"
    },
    {
     "data": {
      "text/html": [
       "<pre>| 48      | 1.34s        | 0.312315               |</pre>"
      ],
      "text/plain": [
       "| 48      | 1.34s        | 0.312315               |"
      ]
     },
     "metadata": {},
     "output_type": "display_data"
    },
    {
     "data": {
      "text/html": [
       "<pre>| 49      | 1.38s        | 0.312299               |</pre>"
      ],
      "text/plain": [
       "| 49      | 1.38s        | 0.312299               |"
      ]
     },
     "metadata": {},
     "output_type": "display_data"
    },
    {
     "data": {
      "text/html": [
       "<pre>| FINAL   | 1.38s        | 0.312299               |</pre>"
      ],
      "text/plain": [
       "| FINAL   | 1.38s        | 0.312299               |"
      ]
     },
     "metadata": {},
     "output_type": "display_data"
    },
    {
     "data": {
      "text/html": [
       "<pre>+---------+--------------+------------------------+</pre>"
      ],
      "text/plain": [
       "+---------+--------------+------------------------+"
      ]
     },
     "metadata": {},
     "output_type": "display_data"
    },
    {
     "data": {
      "text/html": [
       "<pre>Optimization Complete: Iteration limit reached.</pre>"
      ],
      "text/plain": [
       "Optimization Complete: Iteration limit reached."
      ]
     },
     "metadata": {},
     "output_type": "display_data"
    },
    {
     "data": {
      "text/html": [
       "<pre>Recsys training: model = factorization_recommender</pre>"
      ],
      "text/plain": [
       "Recsys training: model = factorization_recommender"
      ]
     },
     "metadata": {},
     "output_type": "display_data"
    },
    {
     "data": {
      "text/html": [
       "<pre>Preparing data set.</pre>"
      ],
      "text/plain": [
       "Preparing data set."
      ]
     },
     "metadata": {},
     "output_type": "display_data"
    },
    {
     "data": {
      "text/html": [
       "<pre>    Data has 24756 observations with 12294 users and 894 items.</pre>"
      ],
      "text/plain": [
       "    Data has 24756 observations with 12294 users and 894 items."
      ]
     },
     "metadata": {},
     "output_type": "display_data"
    },
    {
     "data": {
      "text/html": [
       "<pre>    Data prepared in: 0.0411s</pre>"
      ],
      "text/plain": [
       "    Data prepared in: 0.0411s"
      ]
     },
     "metadata": {},
     "output_type": "display_data"
    },
    {
     "data": {
      "text/html": [
       "<pre>Training factorization_recommender for recommendations.</pre>"
      ],
      "text/plain": [
       "Training factorization_recommender for recommendations."
      ]
     },
     "metadata": {},
     "output_type": "display_data"
    },
    {
     "data": {
      "text/html": [
       "<pre>+------------------------------+--------------------------------------------------+----------+</pre>"
      ],
      "text/plain": [
       "+------------------------------+--------------------------------------------------+----------+"
      ]
     },
     "metadata": {},
     "output_type": "display_data"
    },
    {
     "data": {
      "text/html": [
       "<pre>| Parameter                    | Description                                      | Value    |</pre>"
      ],
      "text/plain": [
       "| Parameter                    | Description                                      | Value    |"
      ]
     },
     "metadata": {},
     "output_type": "display_data"
    },
    {
     "data": {
      "text/html": [
       "<pre>+------------------------------+--------------------------------------------------+----------+</pre>"
      ],
      "text/plain": [
       "+------------------------------+--------------------------------------------------+----------+"
      ]
     },
     "metadata": {},
     "output_type": "display_data"
    },
    {
     "data": {
      "text/html": [
       "<pre>| num_factors                  | Factor Dimension                                 | 10       |</pre>"
      ],
      "text/plain": [
       "| num_factors                  | Factor Dimension                                 | 10       |"
      ]
     },
     "metadata": {},
     "output_type": "display_data"
    },
    {
     "data": {
      "text/html": [
       "<pre>| regularization               | L2 Regularization on Factors                     | 1e-05    |</pre>"
      ],
      "text/plain": [
       "| regularization               | L2 Regularization on Factors                     | 1e-05    |"
      ]
     },
     "metadata": {},
     "output_type": "display_data"
    },
    {
     "data": {
      "text/html": [
       "<pre>| max_iterations               | Maximum Number of Iterations                     | 50       |</pre>"
      ],
      "text/plain": [
       "| max_iterations               | Maximum Number of Iterations                     | 50       |"
      ]
     },
     "metadata": {},
     "output_type": "display_data"
    },
    {
     "data": {
      "text/html": [
       "<pre>| solver                       | Solver used for training                         | als      |</pre>"
      ],
      "text/plain": [
       "| solver                       | Solver used for training                         | als      |"
      ]
     },
     "metadata": {},
     "output_type": "display_data"
    },
    {
     "data": {
      "text/html": [
       "<pre>+------------------------------+--------------------------------------------------+----------+</pre>"
      ],
      "text/plain": [
       "+------------------------------+--------------------------------------------------+----------+"
      ]
     },
     "metadata": {},
     "output_type": "display_data"
    },
    {
     "data": {
      "text/html": [
       "<pre>+---------+--------------+------------------------+</pre>"
      ],
      "text/plain": [
       "+---------+--------------+------------------------+"
      ]
     },
     "metadata": {},
     "output_type": "display_data"
    },
    {
     "data": {
      "text/html": [
       "<pre>| Iter.   | Elapsed time | RMSE                   |</pre>"
      ],
      "text/plain": [
       "| Iter.   | Elapsed time | RMSE                   |"
      ]
     },
     "metadata": {},
     "output_type": "display_data"
    },
    {
     "data": {
      "text/html": [
       "<pre>+---------+--------------+------------------------+</pre>"
      ],
      "text/plain": [
       "+---------+--------------+------------------------+"
      ]
     },
     "metadata": {},
     "output_type": "display_data"
    },
    {
     "data": {
      "text/html": [
       "<pre>| Initial | 75us         | NA                     |</pre>"
      ],
      "text/plain": [
       "| Initial | 75us         | NA                     |"
      ]
     },
     "metadata": {},
     "output_type": "display_data"
    },
    {
     "data": {
      "text/html": [
       "<pre>+---------+--------------+------------------------+</pre>"
      ],
      "text/plain": [
       "+---------+--------------+------------------------+"
      ]
     },
     "metadata": {},
     "output_type": "display_data"
    },
    {
     "data": {
      "text/html": [
       "<pre>| 0       | 32.285ms     | 0.594127               |</pre>"
      ],
      "text/plain": [
       "| 0       | 32.285ms     | 0.594127               |"
      ]
     },
     "metadata": {},
     "output_type": "display_data"
    },
    {
     "data": {
      "text/html": [
       "<pre>| 1       | 66.456ms     | 0.123062               |</pre>"
      ],
      "text/plain": [
       "| 1       | 66.456ms     | 0.123062               |"
      ]
     },
     "metadata": {},
     "output_type": "display_data"
    },
    {
     "data": {
      "text/html": [
       "<pre>| 2       | 92.961ms     | 0.0491651              |</pre>"
      ],
      "text/plain": [
       "| 2       | 92.961ms     | 0.0491651              |"
      ]
     },
     "metadata": {},
     "output_type": "display_data"
    },
    {
     "data": {
      "text/html": [
       "<pre>| 3       | 113.87ms     | 0.0446619              |</pre>"
      ],
      "text/plain": [
       "| 3       | 113.87ms     | 0.0446619              |"
      ]
     },
     "metadata": {},
     "output_type": "display_data"
    },
    {
     "data": {
      "text/html": [
       "<pre>| 4       | 147.569ms    | 0.0435146              |</pre>"
      ],
      "text/plain": [
       "| 4       | 147.569ms    | 0.0435146              |"
      ]
     },
     "metadata": {},
     "output_type": "display_data"
    },
    {
     "data": {
      "text/html": [
       "<pre>| 5       | 172.09ms     | 0.0431458              |</pre>"
      ],
      "text/plain": [
       "| 5       | 172.09ms     | 0.0431458              |"
      ]
     },
     "metadata": {},
     "output_type": "display_data"
    },
    {
     "data": {
      "text/html": [
       "<pre>| 6       | 200.438ms    | 0.0430806              |</pre>"
      ],
      "text/plain": [
       "| 6       | 200.438ms    | 0.0430806              |"
      ]
     },
     "metadata": {},
     "output_type": "display_data"
    },
    {
     "data": {
      "text/html": [
       "<pre>| 7       | 232.886ms    | 0.0431547              |</pre>"
      ],
      "text/plain": [
       "| 7       | 232.886ms    | 0.0431547              |"
      ]
     },
     "metadata": {},
     "output_type": "display_data"
    },
    {
     "data": {
      "text/html": [
       "<pre>| 8       | 262.411ms    | 0.0432759              |</pre>"
      ],
      "text/plain": [
       "| 8       | 262.411ms    | 0.0432759              |"
      ]
     },
     "metadata": {},
     "output_type": "display_data"
    },
    {
     "data": {
      "text/html": [
       "<pre>| 9       | 288.372ms    | 0.0434018              |</pre>"
      ],
      "text/plain": [
       "| 9       | 288.372ms    | 0.0434018              |"
      ]
     },
     "metadata": {},
     "output_type": "display_data"
    },
    {
     "data": {
      "text/html": [
       "<pre>| 10      | 306.665ms    | 0.0435206              |</pre>"
      ],
      "text/plain": [
       "| 10      | 306.665ms    | 0.0435206              |"
      ]
     },
     "metadata": {},
     "output_type": "display_data"
    },
    {
     "data": {
      "text/html": [
       "<pre>| 11      | 337.631ms    | 0.0436338              |</pre>"
      ],
      "text/plain": [
       "| 11      | 337.631ms    | 0.0436338              |"
      ]
     },
     "metadata": {},
     "output_type": "display_data"
    },
    {
     "data": {
      "text/html": [
       "<pre>| 12      | 372.338ms    | 0.0437403              |</pre>"
      ],
      "text/plain": [
       "| 12      | 372.338ms    | 0.0437403              |"
      ]
     },
     "metadata": {},
     "output_type": "display_data"
    },
    {
     "data": {
      "text/html": [
       "<pre>| 13      | 401.928ms    | 0.0438373              |</pre>"
      ],
      "text/plain": [
       "| 13      | 401.928ms    | 0.0438373              |"
      ]
     },
     "metadata": {},
     "output_type": "display_data"
    },
    {
     "data": {
      "text/html": [
       "<pre>| 14      | 426.98ms     | 0.0439226              |</pre>"
      ],
      "text/plain": [
       "| 14      | 426.98ms     | 0.0439226              |"
      ]
     },
     "metadata": {},
     "output_type": "display_data"
    },
    {
     "data": {
      "text/html": [
       "<pre>| 15      | 454.564ms    | 0.0439956              |</pre>"
      ],
      "text/plain": [
       "| 15      | 454.564ms    | 0.0439956              |"
      ]
     },
     "metadata": {},
     "output_type": "display_data"
    },
    {
     "data": {
      "text/html": [
       "<pre>| 16      | 480.808ms    | 0.0440573              |</pre>"
      ],
      "text/plain": [
       "| 16      | 480.808ms    | 0.0440573              |"
      ]
     },
     "metadata": {},
     "output_type": "display_data"
    },
    {
     "data": {
      "text/html": [
       "<pre>| 17      | 506.43ms     | 0.0441088              |</pre>"
      ],
      "text/plain": [
       "| 17      | 506.43ms     | 0.0441088              |"
      ]
     },
     "metadata": {},
     "output_type": "display_data"
    },
    {
     "data": {
      "text/html": [
       "<pre>| 18      | 534.736ms    | 0.0441513              |</pre>"
      ],
      "text/plain": [
       "| 18      | 534.736ms    | 0.0441513              |"
      ]
     },
     "metadata": {},
     "output_type": "display_data"
    },
    {
     "data": {
      "text/html": [
       "<pre>| 19      | 562.96ms     | 0.044186               |</pre>"
      ],
      "text/plain": [
       "| 19      | 562.96ms     | 0.044186               |"
      ]
     },
     "metadata": {},
     "output_type": "display_data"
    },
    {
     "data": {
      "text/html": [
       "<pre>| 20      | 592.25ms     | 0.0442141              |</pre>"
      ],
      "text/plain": [
       "| 20      | 592.25ms     | 0.0442141              |"
      ]
     },
     "metadata": {},
     "output_type": "display_data"
    },
    {
     "data": {
      "text/html": [
       "<pre>| 21      | 618.702ms    | 0.0442365              |</pre>"
      ],
      "text/plain": [
       "| 21      | 618.702ms    | 0.0442365              |"
      ]
     },
     "metadata": {},
     "output_type": "display_data"
    },
    {
     "data": {
      "text/html": [
       "<pre>| 22      | 653.571ms    | 0.044254               |</pre>"
      ],
      "text/plain": [
       "| 22      | 653.571ms    | 0.044254               |"
      ]
     },
     "metadata": {},
     "output_type": "display_data"
    },
    {
     "data": {
      "text/html": [
       "<pre>| 23      | 679.241ms    | 0.0442677              |</pre>"
      ],
      "text/plain": [
       "| 23      | 679.241ms    | 0.0442677              |"
      ]
     },
     "metadata": {},
     "output_type": "display_data"
    },
    {
     "data": {
      "text/html": [
       "<pre>| 24      | 707.017ms    | 0.0442781              |</pre>"
      ],
      "text/plain": [
       "| 24      | 707.017ms    | 0.0442781              |"
      ]
     },
     "metadata": {},
     "output_type": "display_data"
    },
    {
     "data": {
      "text/html": [
       "<pre>| 25      | 729.95ms     | 0.0442859              |</pre>"
      ],
      "text/plain": [
       "| 25      | 729.95ms     | 0.0442859              |"
      ]
     },
     "metadata": {},
     "output_type": "display_data"
    },
    {
     "data": {
      "text/html": [
       "<pre>| 26      | 761.859ms    | 0.0442917              |</pre>"
      ],
      "text/plain": [
       "| 26      | 761.859ms    | 0.0442917              |"
      ]
     },
     "metadata": {},
     "output_type": "display_data"
    },
    {
     "data": {
      "text/html": [
       "<pre>| 27      | 805.17ms     | 0.0442958              |</pre>"
      ],
      "text/plain": [
       "| 27      | 805.17ms     | 0.0442958              |"
      ]
     },
     "metadata": {},
     "output_type": "display_data"
    },
    {
     "data": {
      "text/html": [
       "<pre>| 28      | 839.175ms    | 0.0442985              |</pre>"
      ],
      "text/plain": [
       "| 28      | 839.175ms    | 0.0442985              |"
      ]
     },
     "metadata": {},
     "output_type": "display_data"
    },
    {
     "data": {
      "text/html": [
       "<pre>| 29      | 871.569ms    | 0.0443001              |</pre>"
      ],
      "text/plain": [
       "| 29      | 871.569ms    | 0.0443001              |"
      ]
     },
     "metadata": {},
     "output_type": "display_data"
    },
    {
     "data": {
      "text/html": [
       "<pre>| 30      | 905.176ms    | 0.0443009              |</pre>"
      ],
      "text/plain": [
       "| 30      | 905.176ms    | 0.0443009              |"
      ]
     },
     "metadata": {},
     "output_type": "display_data"
    },
    {
     "data": {
      "text/html": [
       "<pre>| 31      | 938.211ms    | 0.0443008              |</pre>"
      ],
      "text/plain": [
       "| 31      | 938.211ms    | 0.0443008              |"
      ]
     },
     "metadata": {},
     "output_type": "display_data"
    },
    {
     "data": {
      "text/html": [
       "<pre>| 32      | 961.652ms    | 0.0443001              |</pre>"
      ],
      "text/plain": [
       "| 32      | 961.652ms    | 0.0443001              |"
      ]
     },
     "metadata": {},
     "output_type": "display_data"
    },
    {
     "data": {
      "text/html": [
       "<pre>| 33      | 998.578ms    | 0.0442989              |</pre>"
      ],
      "text/plain": [
       "| 33      | 998.578ms    | 0.0442989              |"
      ]
     },
     "metadata": {},
     "output_type": "display_data"
    },
    {
     "data": {
      "text/html": [
       "<pre>| 34      | 1.03s        | 0.0442973              |</pre>"
      ],
      "text/plain": [
       "| 34      | 1.03s        | 0.0442973              |"
      ]
     },
     "metadata": {},
     "output_type": "display_data"
    },
    {
     "data": {
      "text/html": [
       "<pre>| 35      | 1.06s        | 0.0442953              |</pre>"
      ],
      "text/plain": [
       "| 35      | 1.06s        | 0.0442953              |"
      ]
     },
     "metadata": {},
     "output_type": "display_data"
    },
    {
     "data": {
      "text/html": [
       "<pre>| 36      | 1.10s        | 0.0442931              |</pre>"
      ],
      "text/plain": [
       "| 36      | 1.10s        | 0.0442931              |"
      ]
     },
     "metadata": {},
     "output_type": "display_data"
    },
    {
     "data": {
      "text/html": [
       "<pre>| 37      | 1.13s        | 0.0442906              |</pre>"
      ],
      "text/plain": [
       "| 37      | 1.13s        | 0.0442906              |"
      ]
     },
     "metadata": {},
     "output_type": "display_data"
    },
    {
     "data": {
      "text/html": [
       "<pre>| 38      | 1.15s        | 0.044288               |</pre>"
      ],
      "text/plain": [
       "| 38      | 1.15s        | 0.044288               |"
      ]
     },
     "metadata": {},
     "output_type": "display_data"
    },
    {
     "data": {
      "text/html": [
       "<pre>| 39      | 1.18s        | 0.0442852              |</pre>"
      ],
      "text/plain": [
       "| 39      | 1.18s        | 0.0442852              |"
      ]
     },
     "metadata": {},
     "output_type": "display_data"
    },
    {
     "data": {
      "text/html": [
       "<pre>| 40      | 1.20s        | 0.0442824              |</pre>"
      ],
      "text/plain": [
       "| 40      | 1.20s        | 0.0442824              |"
      ]
     },
     "metadata": {},
     "output_type": "display_data"
    },
    {
     "data": {
      "text/html": [
       "<pre>| 41      | 1.23s        | 0.0442796              |</pre>"
      ],
      "text/plain": [
       "| 41      | 1.23s        | 0.0442796              |"
      ]
     },
     "metadata": {},
     "output_type": "display_data"
    },
    {
     "data": {
      "text/html": [
       "<pre>| 42      | 1.26s        | 0.0442768              |</pre>"
      ],
      "text/plain": [
       "| 42      | 1.26s        | 0.0442768              |"
      ]
     },
     "metadata": {},
     "output_type": "display_data"
    },
    {
     "data": {
      "text/html": [
       "<pre>| 43      | 1.29s        | 0.044274               |</pre>"
      ],
      "text/plain": [
       "| 43      | 1.29s        | 0.044274               |"
      ]
     },
     "metadata": {},
     "output_type": "display_data"
    },
    {
     "data": {
      "text/html": [
       "<pre>| 44      | 1.32s        | 0.0442712              |</pre>"
      ],
      "text/plain": [
       "| 44      | 1.32s        | 0.0442712              |"
      ]
     },
     "metadata": {},
     "output_type": "display_data"
    },
    {
     "data": {
      "text/html": [
       "<pre>| 45      | 1.35s        | 0.0442685              |</pre>"
      ],
      "text/plain": [
       "| 45      | 1.35s        | 0.0442685              |"
      ]
     },
     "metadata": {},
     "output_type": "display_data"
    },
    {
     "data": {
      "text/html": [
       "<pre>| 46      | 1.37s        | 0.0442657              |</pre>"
      ],
      "text/plain": [
       "| 46      | 1.37s        | 0.0442657              |"
      ]
     },
     "metadata": {},
     "output_type": "display_data"
    },
    {
     "data": {
      "text/html": [
       "<pre>| 47      | 1.42s        | 0.0442631              |</pre>"
      ],
      "text/plain": [
       "| 47      | 1.42s        | 0.0442631              |"
      ]
     },
     "metadata": {},
     "output_type": "display_data"
    },
    {
     "data": {
      "text/html": [
       "<pre>| 48      | 1.43s        | 0.0442605              |</pre>"
      ],
      "text/plain": [
       "| 48      | 1.43s        | 0.0442605              |"
      ]
     },
     "metadata": {},
     "output_type": "display_data"
    },
    {
     "data": {
      "text/html": [
       "<pre>| 49      | 1.45s        | 0.044258               |</pre>"
      ],
      "text/plain": [
       "| 49      | 1.45s        | 0.044258               |"
      ]
     },
     "metadata": {},
     "output_type": "display_data"
    },
    {
     "data": {
      "text/html": [
       "<pre>| FINAL   | 1.45s        | 0.044258               |</pre>"
      ],
      "text/plain": [
       "| FINAL   | 1.45s        | 0.044258               |"
      ]
     },
     "metadata": {},
     "output_type": "display_data"
    },
    {
     "data": {
      "text/html": [
       "<pre>+---------+--------------+------------------------+</pre>"
      ],
      "text/plain": [
       "+---------+--------------+------------------------+"
      ]
     },
     "metadata": {},
     "output_type": "display_data"
    },
    {
     "data": {
      "text/html": [
       "<pre>Optimization Complete: Iteration limit reached.</pre>"
      ],
      "text/plain": [
       "Optimization Complete: Iteration limit reached."
      ]
     },
     "metadata": {},
     "output_type": "display_data"
    },
    {
     "data": {
      "text/html": [
       "<pre>Recsys training: model = factorization_recommender</pre>"
      ],
      "text/plain": [
       "Recsys training: model = factorization_recommender"
      ]
     },
     "metadata": {},
     "output_type": "display_data"
    },
    {
     "data": {
      "text/html": [
       "<pre>Preparing data set.</pre>"
      ],
      "text/plain": [
       "Preparing data set."
      ]
     },
     "metadata": {},
     "output_type": "display_data"
    },
    {
     "data": {
      "text/html": [
       "<pre>    Data has 24756 observations with 12294 users and 894 items.</pre>"
      ],
      "text/plain": [
       "    Data has 24756 observations with 12294 users and 894 items."
      ]
     },
     "metadata": {},
     "output_type": "display_data"
    },
    {
     "data": {
      "text/html": [
       "<pre>    Data prepared in: 0.036429s</pre>"
      ],
      "text/plain": [
       "    Data prepared in: 0.036429s"
      ]
     },
     "metadata": {},
     "output_type": "display_data"
    },
    {
     "data": {
      "text/html": [
       "<pre>Training factorization_recommender for recommendations.</pre>"
      ],
      "text/plain": [
       "Training factorization_recommender for recommendations."
      ]
     },
     "metadata": {},
     "output_type": "display_data"
    },
    {
     "data": {
      "text/html": [
       "<pre>+------------------------------+--------------------------------------------------+----------+</pre>"
      ],
      "text/plain": [
       "+------------------------------+--------------------------------------------------+----------+"
      ]
     },
     "metadata": {},
     "output_type": "display_data"
    },
    {
     "data": {
      "text/html": [
       "<pre>| Parameter                    | Description                                      | Value    |</pre>"
      ],
      "text/plain": [
       "| Parameter                    | Description                                      | Value    |"
      ]
     },
     "metadata": {},
     "output_type": "display_data"
    },
    {
     "data": {
      "text/html": [
       "<pre>+------------------------------+--------------------------------------------------+----------+</pre>"
      ],
      "text/plain": [
       "+------------------------------+--------------------------------------------------+----------+"
      ]
     },
     "metadata": {},
     "output_type": "display_data"
    },
    {
     "data": {
      "text/html": [
       "<pre>| num_factors                  | Factor Dimension                                 | 10       |</pre>"
      ],
      "text/plain": [
       "| num_factors                  | Factor Dimension                                 | 10       |"
      ]
     },
     "metadata": {},
     "output_type": "display_data"
    },
    {
     "data": {
      "text/html": [
       "<pre>| regularization               | L2 Regularization on Factors                     | 1e-06    |</pre>"
      ],
      "text/plain": [
       "| regularization               | L2 Regularization on Factors                     | 1e-06    |"
      ]
     },
     "metadata": {},
     "output_type": "display_data"
    },
    {
     "data": {
      "text/html": [
       "<pre>| max_iterations               | Maximum Number of Iterations                     | 50       |</pre>"
      ],
      "text/plain": [
       "| max_iterations               | Maximum Number of Iterations                     | 50       |"
      ]
     },
     "metadata": {},
     "output_type": "display_data"
    },
    {
     "data": {
      "text/html": [
       "<pre>| solver                       | Solver used for training                         | als      |</pre>"
      ],
      "text/plain": [
       "| solver                       | Solver used for training                         | als      |"
      ]
     },
     "metadata": {},
     "output_type": "display_data"
    },
    {
     "data": {
      "text/html": [
       "<pre>+------------------------------+--------------------------------------------------+----------+</pre>"
      ],
      "text/plain": [
       "+------------------------------+--------------------------------------------------+----------+"
      ]
     },
     "metadata": {},
     "output_type": "display_data"
    },
    {
     "data": {
      "text/html": [
       "<pre>+---------+--------------+------------------------+</pre>"
      ],
      "text/plain": [
       "+---------+--------------+------------------------+"
      ]
     },
     "metadata": {},
     "output_type": "display_data"
    },
    {
     "data": {
      "text/html": [
       "<pre>| Iter.   | Elapsed time | RMSE                   |</pre>"
      ],
      "text/plain": [
       "| Iter.   | Elapsed time | RMSE                   |"
      ]
     },
     "metadata": {},
     "output_type": "display_data"
    },
    {
     "data": {
      "text/html": [
       "<pre>+---------+--------------+------------------------+</pre>"
      ],
      "text/plain": [
       "+---------+--------------+------------------------+"
      ]
     },
     "metadata": {},
     "output_type": "display_data"
    },
    {
     "data": {
      "text/html": [
       "<pre>| Initial | 77us         | NA                     |</pre>"
      ],
      "text/plain": [
       "| Initial | 77us         | NA                     |"
      ]
     },
     "metadata": {},
     "output_type": "display_data"
    },
    {
     "data": {
      "text/html": [
       "<pre>+---------+--------------+------------------------+</pre>"
      ],
      "text/plain": [
       "+---------+--------------+------------------------+"
      ]
     },
     "metadata": {},
     "output_type": "display_data"
    },
    {
     "data": {
      "text/html": [
       "<pre>| 0       | 28.308ms     | 0.262351               |</pre>"
      ],
      "text/plain": [
       "| 0       | 28.308ms     | 0.262351               |"
      ]
     },
     "metadata": {},
     "output_type": "display_data"
    },
    {
     "data": {
      "text/html": [
       "<pre>| 1       | 62.581ms     | 0.0746613              |</pre>"
      ],
      "text/plain": [
       "| 1       | 62.581ms     | 0.0746613              |"
      ]
     },
     "metadata": {},
     "output_type": "display_data"
    },
    {
     "data": {
      "text/html": [
       "<pre>| 2       | 103.993ms    | 0.055413               |</pre>"
      ],
      "text/plain": [
       "| 2       | 103.993ms    | 0.055413               |"
      ]
     },
     "metadata": {},
     "output_type": "display_data"
    },
    {
     "data": {
      "text/html": [
       "<pre>| 3       | 122.393ms    | 0.0449107              |</pre>"
      ],
      "text/plain": [
       "| 3       | 122.393ms    | 0.0449107              |"
      ]
     },
     "metadata": {},
     "output_type": "display_data"
    },
    {
     "data": {
      "text/html": [
       "<pre>| 4       | 162.447ms    | 0.0380611              |</pre>"
      ],
      "text/plain": [
       "| 4       | 162.447ms    | 0.0380611              |"
      ]
     },
     "metadata": {},
     "output_type": "display_data"
    },
    {
     "data": {
      "text/html": [
       "<pre>| 5       | 198.402ms    | 0.0331656              |</pre>"
      ],
      "text/plain": [
       "| 5       | 198.402ms    | 0.0331656              |"
      ]
     },
     "metadata": {},
     "output_type": "display_data"
    },
    {
     "data": {
      "text/html": [
       "<pre>| 6       | 221.82ms     | 0.0294587              |</pre>"
      ],
      "text/plain": [
       "| 6       | 221.82ms     | 0.0294587              |"
      ]
     },
     "metadata": {},
     "output_type": "display_data"
    },
    {
     "data": {
      "text/html": [
       "<pre>| 7       | 254.148ms    | 0.0265525              |</pre>"
      ],
      "text/plain": [
       "| 7       | 254.148ms    | 0.0265525              |"
      ]
     },
     "metadata": {},
     "output_type": "display_data"
    },
    {
     "data": {
      "text/html": [
       "<pre>| 8       | 284.808ms    | 0.0242109              |</pre>"
      ],
      "text/plain": [
       "| 8       | 284.808ms    | 0.0242109              |"
      ]
     },
     "metadata": {},
     "output_type": "display_data"
    },
    {
     "data": {
      "text/html": [
       "<pre>| 9       | 323.395ms    | 0.0222806              |</pre>"
      ],
      "text/plain": [
       "| 9       | 323.395ms    | 0.0222806              |"
      ]
     },
     "metadata": {},
     "output_type": "display_data"
    },
    {
     "data": {
      "text/html": [
       "<pre>| 10      | 357.572ms    | 0.0206603              |</pre>"
      ],
      "text/plain": [
       "| 10      | 357.572ms    | 0.0206603              |"
      ]
     },
     "metadata": {},
     "output_type": "display_data"
    },
    {
     "data": {
      "text/html": [
       "<pre>| 11      | 385.498ms    | 0.0192799              |</pre>"
      ],
      "text/plain": [
       "| 11      | 385.498ms    | 0.0192799              |"
      ]
     },
     "metadata": {},
     "output_type": "display_data"
    },
    {
     "data": {
      "text/html": [
       "<pre>| 12      | 422.805ms    | 0.0180895              |</pre>"
      ],
      "text/plain": [
       "| 12      | 422.805ms    | 0.0180895              |"
      ]
     },
     "metadata": {},
     "output_type": "display_data"
    },
    {
     "data": {
      "text/html": [
       "<pre>| 13      | 454.579ms    | 0.0170523              |</pre>"
      ],
      "text/plain": [
       "| 13      | 454.579ms    | 0.0170523              |"
      ]
     },
     "metadata": {},
     "output_type": "display_data"
    },
    {
     "data": {
      "text/html": [
       "<pre>| 14      | 476.723ms    | 0.0161404              |</pre>"
      ],
      "text/plain": [
       "| 14      | 476.723ms    | 0.0161404              |"
      ]
     },
     "metadata": {},
     "output_type": "display_data"
    },
    {
     "data": {
      "text/html": [
       "<pre>| 15      | 512.247ms    | 0.0153325              |</pre>"
      ],
      "text/plain": [
       "| 15      | 512.247ms    | 0.0153325              |"
      ]
     },
     "metadata": {},
     "output_type": "display_data"
    },
    {
     "data": {
      "text/html": [
       "<pre>| 16      | 547.841ms    | 0.0146119              |</pre>"
      ],
      "text/plain": [
       "| 16      | 547.841ms    | 0.0146119              |"
      ]
     },
     "metadata": {},
     "output_type": "display_data"
    },
    {
     "data": {
      "text/html": [
       "<pre>| 17      | 575.808ms    | 0.0139652              |</pre>"
      ],
      "text/plain": [
       "| 17      | 575.808ms    | 0.0139652              |"
      ]
     },
     "metadata": {},
     "output_type": "display_data"
    },
    {
     "data": {
      "text/html": [
       "<pre>| 18      | 602.894ms    | 0.013382               |</pre>"
      ],
      "text/plain": [
       "| 18      | 602.894ms    | 0.013382               |"
      ]
     },
     "metadata": {},
     "output_type": "display_data"
    },
    {
     "data": {
      "text/html": [
       "<pre>| 19      | 638.641ms    | 0.0128533              |</pre>"
      ],
      "text/plain": [
       "| 19      | 638.641ms    | 0.0128533              |"
      ]
     },
     "metadata": {},
     "output_type": "display_data"
    },
    {
     "data": {
      "text/html": [
       "<pre>| 20      | 668.48ms     | 0.0123722              |</pre>"
      ],
      "text/plain": [
       "| 20      | 668.48ms     | 0.0123722              |"
      ]
     },
     "metadata": {},
     "output_type": "display_data"
    },
    {
     "data": {
      "text/html": [
       "<pre>| 21      | 692.382ms    | 0.0119326              |</pre>"
      ],
      "text/plain": [
       "| 21      | 692.382ms    | 0.0119326              |"
      ]
     },
     "metadata": {},
     "output_type": "display_data"
    },
    {
     "data": {
      "text/html": [
       "<pre>| 22      | 725.102ms    | 0.0115297              |</pre>"
      ],
      "text/plain": [
       "| 22      | 725.102ms    | 0.0115297              |"
      ]
     },
     "metadata": {},
     "output_type": "display_data"
    },
    {
     "data": {
      "text/html": [
       "<pre>| 23      | 762.633ms    | 0.0111591              |</pre>"
      ],
      "text/plain": [
       "| 23      | 762.633ms    | 0.0111591              |"
      ]
     },
     "metadata": {},
     "output_type": "display_data"
    },
    {
     "data": {
      "text/html": [
       "<pre>| 24      | 793.684ms    | 0.0108173              |</pre>"
      ],
      "text/plain": [
       "| 24      | 793.684ms    | 0.0108173              |"
      ]
     },
     "metadata": {},
     "output_type": "display_data"
    },
    {
     "data": {
      "text/html": [
       "<pre>| 25      | 828.95ms     | 0.0105012              |</pre>"
      ],
      "text/plain": [
       "| 25      | 828.95ms     | 0.0105012              |"
      ]
     },
     "metadata": {},
     "output_type": "display_data"
    },
    {
     "data": {
      "text/html": [
       "<pre>| 26      | 850.449ms    | 0.0102082              |</pre>"
      ],
      "text/plain": [
       "| 26      | 850.449ms    | 0.0102082              |"
      ]
     },
     "metadata": {},
     "output_type": "display_data"
    },
    {
     "data": {
      "text/html": [
       "<pre>| 27      | 885.211ms    | 0.00993598             |</pre>"
      ],
      "text/plain": [
       "| 27      | 885.211ms    | 0.00993598             |"
      ]
     },
     "metadata": {},
     "output_type": "display_data"
    },
    {
     "data": {
      "text/html": [
       "<pre>| 28      | 917.604ms    | 0.00968256             |</pre>"
      ],
      "text/plain": [
       "| 28      | 917.604ms    | 0.00968256             |"
      ]
     },
     "metadata": {},
     "output_type": "display_data"
    },
    {
     "data": {
      "text/html": [
       "<pre>| 29      | 946.721ms    | 0.0094462              |</pre>"
      ],
      "text/plain": [
       "| 29      | 946.721ms    | 0.0094462              |"
      ]
     },
     "metadata": {},
     "output_type": "display_data"
    },
    {
     "data": {
      "text/html": [
       "<pre>| 30      | 976.399ms    | 0.00922526             |</pre>"
      ],
      "text/plain": [
       "| 30      | 976.399ms    | 0.00922526             |"
      ]
     },
     "metadata": {},
     "output_type": "display_data"
    },
    {
     "data": {
      "text/html": [
       "<pre>| 31      | 1.01s        | 0.00901847             |</pre>"
      ],
      "text/plain": [
       "| 31      | 1.01s        | 0.00901847             |"
      ]
     },
     "metadata": {},
     "output_type": "display_data"
    },
    {
     "data": {
      "text/html": [
       "<pre>| 32      | 1.03s        | 0.00882465             |</pre>"
      ],
      "text/plain": [
       "| 32      | 1.03s        | 0.00882465             |"
      ]
     },
     "metadata": {},
     "output_type": "display_data"
    },
    {
     "data": {
      "text/html": [
       "<pre>| 33      | 1.05s        | 0.00864262             |</pre>"
      ],
      "text/plain": [
       "| 33      | 1.05s        | 0.00864262             |"
      ]
     },
     "metadata": {},
     "output_type": "display_data"
    },
    {
     "data": {
      "text/html": [
       "<pre>| 34      | 1.09s        | 0.00847145             |</pre>"
      ],
      "text/plain": [
       "| 34      | 1.09s        | 0.00847145             |"
      ]
     },
     "metadata": {},
     "output_type": "display_data"
    },
    {
     "data": {
      "text/html": [
       "<pre>| 35      | 1.12s        | 0.0083103              |</pre>"
      ],
      "text/plain": [
       "| 35      | 1.12s        | 0.0083103              |"
      ]
     },
     "metadata": {},
     "output_type": "display_data"
    },
    {
     "data": {
      "text/html": [
       "<pre>| 36      | 1.15s        | 0.00815835             |</pre>"
      ],
      "text/plain": [
       "| 36      | 1.15s        | 0.00815835             |"
      ]
     },
     "metadata": {},
     "output_type": "display_data"
    },
    {
     "data": {
      "text/html": [
       "<pre>| 37      | 1.18s        | 0.00801498             |</pre>"
      ],
      "text/plain": [
       "| 37      | 1.18s        | 0.00801498             |"
      ]
     },
     "metadata": {},
     "output_type": "display_data"
    },
    {
     "data": {
      "text/html": [
       "<pre>| 38      | 1.20s        | 0.00787941             |</pre>"
      ],
      "text/plain": [
       "| 38      | 1.20s        | 0.00787941             |"
      ]
     },
     "metadata": {},
     "output_type": "display_data"
    },
    {
     "data": {
      "text/html": [
       "<pre>| 39      | 1.23s        | 0.00775123             |</pre>"
      ],
      "text/plain": [
       "| 39      | 1.23s        | 0.00775123             |"
      ]
     },
     "metadata": {},
     "output_type": "display_data"
    },
    {
     "data": {
      "text/html": [
       "<pre>| 40      | 1.26s        | 0.00762981             |</pre>"
      ],
      "text/plain": [
       "| 40      | 1.26s        | 0.00762981             |"
      ]
     },
     "metadata": {},
     "output_type": "display_data"
    },
    {
     "data": {
      "text/html": [
       "<pre>| 41      | 1.29s        | 0.00751465             |</pre>"
      ],
      "text/plain": [
       "| 41      | 1.29s        | 0.00751465             |"
      ]
     },
     "metadata": {},
     "output_type": "display_data"
    },
    {
     "data": {
      "text/html": [
       "<pre>| 42      | 1.32s        | 0.00740535             |</pre>"
      ],
      "text/plain": [
       "| 42      | 1.32s        | 0.00740535             |"
      ]
     },
     "metadata": {},
     "output_type": "display_data"
    },
    {
     "data": {
      "text/html": [
       "<pre>| 43      | 1.36s        | 0.00730148             |</pre>"
      ],
      "text/plain": [
       "| 43      | 1.36s        | 0.00730148             |"
      ]
     },
     "metadata": {},
     "output_type": "display_data"
    },
    {
     "data": {
      "text/html": [
       "<pre>| 44      | 1.39s        | 0.00720279             |</pre>"
      ],
      "text/plain": [
       "| 44      | 1.39s        | 0.00720279             |"
      ]
     },
     "metadata": {},
     "output_type": "display_data"
    },
    {
     "data": {
      "text/html": [
       "<pre>| 45      | 1.43s        | 0.00710887             |</pre>"
      ],
      "text/plain": [
       "| 45      | 1.43s        | 0.00710887             |"
      ]
     },
     "metadata": {},
     "output_type": "display_data"
    },
    {
     "data": {
      "text/html": [
       "<pre>| 46      | 1.45s        | 0.00701942             |</pre>"
      ],
      "text/plain": [
       "| 46      | 1.45s        | 0.00701942             |"
      ]
     },
     "metadata": {},
     "output_type": "display_data"
    },
    {
     "data": {
      "text/html": [
       "<pre>| 47      | 1.49s        | 0.00693427             |</pre>"
      ],
      "text/plain": [
       "| 47      | 1.49s        | 0.00693427             |"
      ]
     },
     "metadata": {},
     "output_type": "display_data"
    },
    {
     "data": {
      "text/html": [
       "<pre>| 48      | 1.51s        | 0.00685304             |</pre>"
      ],
      "text/plain": [
       "| 48      | 1.51s        | 0.00685304             |"
      ]
     },
     "metadata": {},
     "output_type": "display_data"
    },
    {
     "data": {
      "text/html": [
       "<pre>| 49      | 1.54s        | 0.0067756              |</pre>"
      ],
      "text/plain": [
       "| 49      | 1.54s        | 0.0067756              |"
      ]
     },
     "metadata": {},
     "output_type": "display_data"
    },
    {
     "data": {
      "text/html": [
       "<pre>| FINAL   | 1.54s        | 0.0067756              |</pre>"
      ],
      "text/plain": [
       "| FINAL   | 1.54s        | 0.0067756              |"
      ]
     },
     "metadata": {},
     "output_type": "display_data"
    },
    {
     "data": {
      "text/html": [
       "<pre>+---------+--------------+------------------------+</pre>"
      ],
      "text/plain": [
       "+---------+--------------+------------------------+"
      ]
     },
     "metadata": {},
     "output_type": "display_data"
    },
    {
     "data": {
      "text/html": [
       "<pre>Optimization Complete: Iteration limit reached.</pre>"
      ],
      "text/plain": [
       "Optimization Complete: Iteration limit reached."
      ]
     },
     "metadata": {},
     "output_type": "display_data"
    },
    {
     "data": {
      "text/html": [
       "<pre>Recsys training: model = factorization_recommender</pre>"
      ],
      "text/plain": [
       "Recsys training: model = factorization_recommender"
      ]
     },
     "metadata": {},
     "output_type": "display_data"
    },
    {
     "data": {
      "text/html": [
       "<pre>Preparing data set.</pre>"
      ],
      "text/plain": [
       "Preparing data set."
      ]
     },
     "metadata": {},
     "output_type": "display_data"
    },
    {
     "data": {
      "text/html": [
       "<pre>    Data has 24756 observations with 12294 users and 894 items.</pre>"
      ],
      "text/plain": [
       "    Data has 24756 observations with 12294 users and 894 items."
      ]
     },
     "metadata": {},
     "output_type": "display_data"
    },
    {
     "data": {
      "text/html": [
       "<pre>    Data prepared in: 0.034778s</pre>"
      ],
      "text/plain": [
       "    Data prepared in: 0.034778s"
      ]
     },
     "metadata": {},
     "output_type": "display_data"
    },
    {
     "data": {
      "text/html": [
       "<pre>Training factorization_recommender for recommendations.</pre>"
      ],
      "text/plain": [
       "Training factorization_recommender for recommendations."
      ]
     },
     "metadata": {},
     "output_type": "display_data"
    },
    {
     "data": {
      "text/html": [
       "<pre>+------------------------------+--------------------------------------------------+----------+</pre>"
      ],
      "text/plain": [
       "+------------------------------+--------------------------------------------------+----------+"
      ]
     },
     "metadata": {},
     "output_type": "display_data"
    },
    {
     "data": {
      "text/html": [
       "<pre>| Parameter                    | Description                                      | Value    |</pre>"
      ],
      "text/plain": [
       "| Parameter                    | Description                                      | Value    |"
      ]
     },
     "metadata": {},
     "output_type": "display_data"
    },
    {
     "data": {
      "text/html": [
       "<pre>+------------------------------+--------------------------------------------------+----------+</pre>"
      ],
      "text/plain": [
       "+------------------------------+--------------------------------------------------+----------+"
      ]
     },
     "metadata": {},
     "output_type": "display_data"
    },
    {
     "data": {
      "text/html": [
       "<pre>| num_factors                  | Factor Dimension                                 | 10       |</pre>"
      ],
      "text/plain": [
       "| num_factors                  | Factor Dimension                                 | 10       |"
      ]
     },
     "metadata": {},
     "output_type": "display_data"
    },
    {
     "data": {
      "text/html": [
       "<pre>| regularization               | L2 Regularization on Factors                     | 1e-07    |</pre>"
      ],
      "text/plain": [
       "| regularization               | L2 Regularization on Factors                     | 1e-07    |"
      ]
     },
     "metadata": {},
     "output_type": "display_data"
    },
    {
     "data": {
      "text/html": [
       "<pre>| max_iterations               | Maximum Number of Iterations                     | 50       |</pre>"
      ],
      "text/plain": [
       "| max_iterations               | Maximum Number of Iterations                     | 50       |"
      ]
     },
     "metadata": {},
     "output_type": "display_data"
    },
    {
     "data": {
      "text/html": [
       "<pre>| solver                       | Solver used for training                         | als      |</pre>"
      ],
      "text/plain": [
       "| solver                       | Solver used for training                         | als      |"
      ]
     },
     "metadata": {},
     "output_type": "display_data"
    },
    {
     "data": {
      "text/html": [
       "<pre>+------------------------------+--------------------------------------------------+----------+</pre>"
      ],
      "text/plain": [
       "+------------------------------+--------------------------------------------------+----------+"
      ]
     },
     "metadata": {},
     "output_type": "display_data"
    },
    {
     "data": {
      "text/html": [
       "<pre>+---------+--------------+------------------------+</pre>"
      ],
      "text/plain": [
       "+---------+--------------+------------------------+"
      ]
     },
     "metadata": {},
     "output_type": "display_data"
    },
    {
     "data": {
      "text/html": [
       "<pre>| Iter.   | Elapsed time | RMSE                   |</pre>"
      ],
      "text/plain": [
       "| Iter.   | Elapsed time | RMSE                   |"
      ]
     },
     "metadata": {},
     "output_type": "display_data"
    },
    {
     "data": {
      "text/html": [
       "<pre>+---------+--------------+------------------------+</pre>"
      ],
      "text/plain": [
       "+---------+--------------+------------------------+"
      ]
     },
     "metadata": {},
     "output_type": "display_data"
    },
    {
     "data": {
      "text/html": [
       "<pre>| Initial | 46us         | NA                     |</pre>"
      ],
      "text/plain": [
       "| Initial | 46us         | NA                     |"
      ]
     },
     "metadata": {},
     "output_type": "display_data"
    },
    {
     "data": {
      "text/html": [
       "<pre>+---------+--------------+------------------------+</pre>"
      ],
      "text/plain": [
       "+---------+--------------+------------------------+"
      ]
     },
     "metadata": {},
     "output_type": "display_data"
    },
    {
     "data": {
      "text/html": [
       "<pre>| 0       | 46.983ms     | 0.15318                |</pre>"
      ],
      "text/plain": [
       "| 0       | 46.983ms     | 0.15318                |"
      ]
     },
     "metadata": {},
     "output_type": "display_data"
    },
    {
     "data": {
      "text/html": [
       "<pre>| 1       | 85.425ms     | 0.0074692              |</pre>"
      ],
      "text/plain": [
       "| 1       | 85.425ms     | 0.0074692              |"
      ]
     },
     "metadata": {},
     "output_type": "display_data"
    },
    {
     "data": {
      "text/html": [
       "<pre>| 2       | 110.664ms    | 0.00523534             |</pre>"
      ],
      "text/plain": [
       "| 2       | 110.664ms    | 0.00523534             |"
      ]
     },
     "metadata": {},
     "output_type": "display_data"
    },
    {
     "data": {
      "text/html": [
       "<pre>| 3       | 136.902ms    | 0.00434882             |</pre>"
      ],
      "text/plain": [
       "| 3       | 136.902ms    | 0.00434882             |"
      ]
     },
     "metadata": {},
     "output_type": "display_data"
    },
    {
     "data": {
      "text/html": [
       "<pre>| 4       | 171.095ms    | 0.00374842             |</pre>"
      ],
      "text/plain": [
       "| 4       | 171.095ms    | 0.00374842             |"
      ]
     },
     "metadata": {},
     "output_type": "display_data"
    },
    {
     "data": {
      "text/html": [
       "<pre>| 5       | 189.551ms    | 0.00330809             |</pre>"
      ],
      "text/plain": [
       "| 5       | 189.551ms    | 0.00330809             |"
      ]
     },
     "metadata": {},
     "output_type": "display_data"
    },
    {
     "data": {
      "text/html": [
       "<pre>| 6       | 218.572ms    | 0.00297599             |</pre>"
      ],
      "text/plain": [
       "| 6       | 218.572ms    | 0.00297599             |"
      ]
     },
     "metadata": {},
     "output_type": "display_data"
    },
    {
     "data": {
      "text/html": [
       "<pre>| 7       | 247.767ms    | 0.00272262             |</pre>"
      ],
      "text/plain": [
       "| 7       | 247.767ms    | 0.00272262             |"
      ]
     },
     "metadata": {},
     "output_type": "display_data"
    },
    {
     "data": {
      "text/html": [
       "<pre>| 8       | 282.296ms    | 0.00252408             |</pre>"
      ],
      "text/plain": [
       "| 8       | 282.296ms    | 0.00252408             |"
      ]
     },
     "metadata": {},
     "output_type": "display_data"
    },
    {
     "data": {
      "text/html": [
       "<pre>| 9       | 302.072ms    | 0.00236505             |</pre>"
      ],
      "text/plain": [
       "| 9       | 302.072ms    | 0.00236505             |"
      ]
     },
     "metadata": {},
     "output_type": "display_data"
    },
    {
     "data": {
      "text/html": [
       "<pre>| 10      | 331.618ms    | 0.00223371             |</pre>"
      ],
      "text/plain": [
       "| 10      | 331.618ms    | 0.00223371             |"
      ]
     },
     "metadata": {},
     "output_type": "display_data"
    },
    {
     "data": {
      "text/html": [
       "<pre>| 11      | 362.413ms    | 0.00212344             |</pre>"
      ],
      "text/plain": [
       "| 11      | 362.413ms    | 0.00212344             |"
      ]
     },
     "metadata": {},
     "output_type": "display_data"
    },
    {
     "data": {
      "text/html": [
       "<pre>| 12      | 391.684ms    | 0.00202979             |</pre>"
      ],
      "text/plain": [
       "| 12      | 391.684ms    | 0.00202979             |"
      ]
     },
     "metadata": {},
     "output_type": "display_data"
    },
    {
     "data": {
      "text/html": [
       "<pre>| 13      | 418.201ms    | 0.00194915             |</pre>"
      ],
      "text/plain": [
       "| 13      | 418.201ms    | 0.00194915             |"
      ]
     },
     "metadata": {},
     "output_type": "display_data"
    },
    {
     "data": {
      "text/html": [
       "<pre>| 14      | 449.403ms    | 0.0018784              |</pre>"
      ],
      "text/plain": [
       "| 14      | 449.403ms    | 0.0018784              |"
      ]
     },
     "metadata": {},
     "output_type": "display_data"
    },
    {
     "data": {
      "text/html": [
       "<pre>| 15      | 486.118ms    | 0.00181524             |</pre>"
      ],
      "text/plain": [
       "| 15      | 486.118ms    | 0.00181524             |"
      ]
     },
     "metadata": {},
     "output_type": "display_data"
    },
    {
     "data": {
      "text/html": [
       "<pre>| 16      | 515.58ms     | 0.0017585              |</pre>"
      ],
      "text/plain": [
       "| 16      | 515.58ms     | 0.0017585              |"
      ]
     },
     "metadata": {},
     "output_type": "display_data"
    },
    {
     "data": {
      "text/html": [
       "<pre>| 17      | 540.206ms    | 0.00170715             |</pre>"
      ],
      "text/plain": [
       "| 17      | 540.206ms    | 0.00170715             |"
      ]
     },
     "metadata": {},
     "output_type": "display_data"
    },
    {
     "data": {
      "text/html": [
       "<pre>| 18      | 566.369ms    | 0.00166013             |</pre>"
      ],
      "text/plain": [
       "| 18      | 566.369ms    | 0.00166013             |"
      ]
     },
     "metadata": {},
     "output_type": "display_data"
    },
    {
     "data": {
      "text/html": [
       "<pre>| 19      | 601.998ms    | 0.00161718             |</pre>"
      ],
      "text/plain": [
       "| 19      | 601.998ms    | 0.00161718             |"
      ]
     },
     "metadata": {},
     "output_type": "display_data"
    },
    {
     "data": {
      "text/html": [
       "<pre>| 20      | 628.515ms    | 0.00157748             |</pre>"
      ],
      "text/plain": [
       "| 20      | 628.515ms    | 0.00157748             |"
      ]
     },
     "metadata": {},
     "output_type": "display_data"
    },
    {
     "data": {
      "text/html": [
       "<pre>| 21      | 659.043ms    | 0.00154088             |</pre>"
      ],
      "text/plain": [
       "| 21      | 659.043ms    | 0.00154088             |"
      ]
     },
     "metadata": {},
     "output_type": "display_data"
    },
    {
     "data": {
      "text/html": [
       "<pre>| 22      | 686.315ms    | 0.00150686             |</pre>"
      ],
      "text/plain": [
       "| 22      | 686.315ms    | 0.00150686             |"
      ]
     },
     "metadata": {},
     "output_type": "display_data"
    },
    {
     "data": {
      "text/html": [
       "<pre>| 23      | 706.819ms    | 0.00147506             |</pre>"
      ],
      "text/plain": [
       "| 23      | 706.819ms    | 0.00147506             |"
      ]
     },
     "metadata": {},
     "output_type": "display_data"
    },
    {
     "data": {
      "text/html": [
       "<pre>| 24      | 740.746ms    | 0.00144528             |</pre>"
      ],
      "text/plain": [
       "| 24      | 740.746ms    | 0.00144528             |"
      ]
     },
     "metadata": {},
     "output_type": "display_data"
    },
    {
     "data": {
      "text/html": [
       "<pre>| 25      | 766.398ms    | 0.00141741             |</pre>"
      ],
      "text/plain": [
       "| 25      | 766.398ms    | 0.00141741             |"
      ]
     },
     "metadata": {},
     "output_type": "display_data"
    },
    {
     "data": {
      "text/html": [
       "<pre>| 26      | 789.786ms    | 0.00139102             |</pre>"
      ],
      "text/plain": [
       "| 26      | 789.786ms    | 0.00139102             |"
      ]
     },
     "metadata": {},
     "output_type": "display_data"
    },
    {
     "data": {
      "text/html": [
       "<pre>| 27      | 819.707ms    | 0.00136609             |</pre>"
      ],
      "text/plain": [
       "| 27      | 819.707ms    | 0.00136609             |"
      ]
     },
     "metadata": {},
     "output_type": "display_data"
    },
    {
     "data": {
      "text/html": [
       "<pre>| 28      | 839.802ms    | 0.00134253             |</pre>"
      ],
      "text/plain": [
       "| 28      | 839.802ms    | 0.00134253             |"
      ]
     },
     "metadata": {},
     "output_type": "display_data"
    },
    {
     "data": {
      "text/html": [
       "<pre>| 29      | 875.543ms    | 0.00132018             |</pre>"
      ],
      "text/plain": [
       "| 29      | 875.543ms    | 0.00132018             |"
      ]
     },
     "metadata": {},
     "output_type": "display_data"
    },
    {
     "data": {
      "text/html": [
       "<pre>| 30      | 896.697ms    | 0.00129908             |</pre>"
      ],
      "text/plain": [
       "| 30      | 896.697ms    | 0.00129908             |"
      ]
     },
     "metadata": {},
     "output_type": "display_data"
    },
    {
     "data": {
      "text/html": [
       "<pre>| 31      | 924.736ms    | 0.00127901             |</pre>"
      ],
      "text/plain": [
       "| 31      | 924.736ms    | 0.00127901             |"
      ]
     },
     "metadata": {},
     "output_type": "display_data"
    },
    {
     "data": {
      "text/html": [
       "<pre>| 32      | 947.338ms    | 0.0012599              |</pre>"
      ],
      "text/plain": [
       "| 32      | 947.338ms    | 0.0012599              |"
      ]
     },
     "metadata": {},
     "output_type": "display_data"
    },
    {
     "data": {
      "text/html": [
       "<pre>| 33      | 980.01ms     | 0.00124173             |</pre>"
      ],
      "text/plain": [
       "| 33      | 980.01ms     | 0.00124173             |"
      ]
     },
     "metadata": {},
     "output_type": "display_data"
    },
    {
     "data": {
      "text/html": [
       "<pre>| 34      | 1.02s        | 0.00122432             |</pre>"
      ],
      "text/plain": [
       "| 34      | 1.02s        | 0.00122432             |"
      ]
     },
     "metadata": {},
     "output_type": "display_data"
    },
    {
     "data": {
      "text/html": [
       "<pre>| 35      | 1.05s        | 0.00120772             |</pre>"
      ],
      "text/plain": [
       "| 35      | 1.05s        | 0.00120772             |"
      ]
     },
     "metadata": {},
     "output_type": "display_data"
    },
    {
     "data": {
      "text/html": [
       "<pre>| 36      | 1.08s        | 0.00119181             |</pre>"
      ],
      "text/plain": [
       "| 36      | 1.08s        | 0.00119181             |"
      ]
     },
     "metadata": {},
     "output_type": "display_data"
    },
    {
     "data": {
      "text/html": [
       "<pre>| 37      | 1.09s        | 0.00117654             |</pre>"
      ],
      "text/plain": [
       "| 37      | 1.09s        | 0.00117654             |"
      ]
     },
     "metadata": {},
     "output_type": "display_data"
    },
    {
     "data": {
      "text/html": [
       "<pre>| 38      | 1.12s        | 0.0011619              |</pre>"
      ],
      "text/plain": [
       "| 38      | 1.12s        | 0.0011619              |"
      ]
     },
     "metadata": {},
     "output_type": "display_data"
    },
    {
     "data": {
      "text/html": [
       "<pre>| 39      | 1.15s        | 0.00114788             |</pre>"
      ],
      "text/plain": [
       "| 39      | 1.15s        | 0.00114788             |"
      ]
     },
     "metadata": {},
     "output_type": "display_data"
    },
    {
     "data": {
      "text/html": [
       "<pre>| 40      | 1.19s        | 0.00113438             |</pre>"
      ],
      "text/plain": [
       "| 40      | 1.19s        | 0.00113438             |"
      ]
     },
     "metadata": {},
     "output_type": "display_data"
    },
    {
     "data": {
      "text/html": [
       "<pre>| 41      | 1.22s        | 0.00112138             |</pre>"
      ],
      "text/plain": [
       "| 41      | 1.22s        | 0.00112138             |"
      ]
     },
     "metadata": {},
     "output_type": "display_data"
    },
    {
     "data": {
      "text/html": [
       "<pre>| 42      | 1.25s        | 0.00110885             |</pre>"
      ],
      "text/plain": [
       "| 42      | 1.25s        | 0.00110885             |"
      ]
     },
     "metadata": {},
     "output_type": "display_data"
    },
    {
     "data": {
      "text/html": [
       "<pre>| 43      | 1.26s        | 0.00109675             |</pre>"
      ],
      "text/plain": [
       "| 43      | 1.26s        | 0.00109675             |"
      ]
     },
     "metadata": {},
     "output_type": "display_data"
    },
    {
     "data": {
      "text/html": [
       "<pre>| 44      | 1.29s        | 0.00108508             |</pre>"
      ],
      "text/plain": [
       "| 44      | 1.29s        | 0.00108508             |"
      ]
     },
     "metadata": {},
     "output_type": "display_data"
    },
    {
     "data": {
      "text/html": [
       "<pre>| 45      | 1.32s        | 0.00107382             |</pre>"
      ],
      "text/plain": [
       "| 45      | 1.32s        | 0.00107382             |"
      ]
     },
     "metadata": {},
     "output_type": "display_data"
    },
    {
     "data": {
      "text/html": [
       "<pre>| 46      | 1.34s        | 0.00106291             |</pre>"
      ],
      "text/plain": [
       "| 46      | 1.34s        | 0.00106291             |"
      ]
     },
     "metadata": {},
     "output_type": "display_data"
    },
    {
     "data": {
      "text/html": [
       "<pre>| 47      | 1.37s        | 0.00105239             |</pre>"
      ],
      "text/plain": [
       "| 47      | 1.37s        | 0.00105239             |"
      ]
     },
     "metadata": {},
     "output_type": "display_data"
    },
    {
     "data": {
      "text/html": [
       "<pre>| 48      | 1.40s        | 0.0010422              |</pre>"
      ],
      "text/plain": [
       "| 48      | 1.40s        | 0.0010422              |"
      ]
     },
     "metadata": {},
     "output_type": "display_data"
    },
    {
     "data": {
      "text/html": [
       "<pre>| 49      | 1.43s        | 0.00103231             |</pre>"
      ],
      "text/plain": [
       "| 49      | 1.43s        | 0.00103231             |"
      ]
     },
     "metadata": {},
     "output_type": "display_data"
    },
    {
     "data": {
      "text/html": [
       "<pre>| FINAL   | 1.43s        | 0.00103231             |</pre>"
      ],
      "text/plain": [
       "| FINAL   | 1.43s        | 0.00103231             |"
      ]
     },
     "metadata": {},
     "output_type": "display_data"
    },
    {
     "data": {
      "text/html": [
       "<pre>+---------+--------------+------------------------+</pre>"
      ],
      "text/plain": [
       "+---------+--------------+------------------------+"
      ]
     },
     "metadata": {},
     "output_type": "display_data"
    },
    {
     "data": {
      "text/html": [
       "<pre>Optimization Complete: Iteration limit reached.</pre>"
      ],
      "text/plain": [
       "Optimization Complete: Iteration limit reached."
      ]
     },
     "metadata": {},
     "output_type": "display_data"
    },
    {
     "data": {
      "text/html": [
       "<pre>Recsys training: model = factorization_recommender</pre>"
      ],
      "text/plain": [
       "Recsys training: model = factorization_recommender"
      ]
     },
     "metadata": {},
     "output_type": "display_data"
    },
    {
     "data": {
      "text/html": [
       "<pre>Preparing data set.</pre>"
      ],
      "text/plain": [
       "Preparing data set."
      ]
     },
     "metadata": {},
     "output_type": "display_data"
    },
    {
     "data": {
      "text/html": [
       "<pre>    Data has 24756 observations with 12294 users and 894 items.</pre>"
      ],
      "text/plain": [
       "    Data has 24756 observations with 12294 users and 894 items."
      ]
     },
     "metadata": {},
     "output_type": "display_data"
    },
    {
     "data": {
      "text/html": [
       "<pre>    Data prepared in: 0.038527s</pre>"
      ],
      "text/plain": [
       "    Data prepared in: 0.038527s"
      ]
     },
     "metadata": {},
     "output_type": "display_data"
    },
    {
     "data": {
      "text/html": [
       "<pre>Training factorization_recommender for recommendations.</pre>"
      ],
      "text/plain": [
       "Training factorization_recommender for recommendations."
      ]
     },
     "metadata": {},
     "output_type": "display_data"
    },
    {
     "data": {
      "text/html": [
       "<pre>+------------------------------+--------------------------------------------------+----------+</pre>"
      ],
      "text/plain": [
       "+------------------------------+--------------------------------------------------+----------+"
      ]
     },
     "metadata": {},
     "output_type": "display_data"
    },
    {
     "data": {
      "text/html": [
       "<pre>| Parameter                    | Description                                      | Value    |</pre>"
      ],
      "text/plain": [
       "| Parameter                    | Description                                      | Value    |"
      ]
     },
     "metadata": {},
     "output_type": "display_data"
    },
    {
     "data": {
      "text/html": [
       "<pre>+------------------------------+--------------------------------------------------+----------+</pre>"
      ],
      "text/plain": [
       "+------------------------------+--------------------------------------------------+----------+"
      ]
     },
     "metadata": {},
     "output_type": "display_data"
    },
    {
     "data": {
      "text/html": [
       "<pre>| num_factors                  | Factor Dimension                                 | 10       |</pre>"
      ],
      "text/plain": [
       "| num_factors                  | Factor Dimension                                 | 10       |"
      ]
     },
     "metadata": {},
     "output_type": "display_data"
    },
    {
     "data": {
      "text/html": [
       "<pre>| regularization               | L2 Regularization on Factors                     | 1e-08    |</pre>"
      ],
      "text/plain": [
       "| regularization               | L2 Regularization on Factors                     | 1e-08    |"
      ]
     },
     "metadata": {},
     "output_type": "display_data"
    },
    {
     "data": {
      "text/html": [
       "<pre>| max_iterations               | Maximum Number of Iterations                     | 50       |</pre>"
      ],
      "text/plain": [
       "| max_iterations               | Maximum Number of Iterations                     | 50       |"
      ]
     },
     "metadata": {},
     "output_type": "display_data"
    },
    {
     "data": {
      "text/html": [
       "<pre>| solver                       | Solver used for training                         | als      |</pre>"
      ],
      "text/plain": [
       "| solver                       | Solver used for training                         | als      |"
      ]
     },
     "metadata": {},
     "output_type": "display_data"
    },
    {
     "data": {
      "text/html": [
       "<pre>+------------------------------+--------------------------------------------------+----------+</pre>"
      ],
      "text/plain": [
       "+------------------------------+--------------------------------------------------+----------+"
      ]
     },
     "metadata": {},
     "output_type": "display_data"
    },
    {
     "data": {
      "text/html": [
       "<pre>+---------+--------------+------------------------+</pre>"
      ],
      "text/plain": [
       "+---------+--------------+------------------------+"
      ]
     },
     "metadata": {},
     "output_type": "display_data"
    },
    {
     "data": {
      "text/html": [
       "<pre>| Iter.   | Elapsed time | RMSE                   |</pre>"
      ],
      "text/plain": [
       "| Iter.   | Elapsed time | RMSE                   |"
      ]
     },
     "metadata": {},
     "output_type": "display_data"
    },
    {
     "data": {
      "text/html": [
       "<pre>+---------+--------------+------------------------+</pre>"
      ],
      "text/plain": [
       "+---------+--------------+------------------------+"
      ]
     },
     "metadata": {},
     "output_type": "display_data"
    },
    {
     "data": {
      "text/html": [
       "<pre>| Initial | 59us         | NA                     |</pre>"
      ],
      "text/plain": [
       "| Initial | 59us         | NA                     |"
      ]
     },
     "metadata": {},
     "output_type": "display_data"
    },
    {
     "data": {
      "text/html": [
       "<pre>+---------+--------------+------------------------+</pre>"
      ],
      "text/plain": [
       "+---------+--------------+------------------------+"
      ]
     },
     "metadata": {},
     "output_type": "display_data"
    },
    {
     "data": {
      "text/html": [
       "<pre>| 0       | 41.297ms     | 0.152117               |</pre>"
      ],
      "text/plain": [
       "| 0       | 41.297ms     | 0.152117               |"
      ]
     },
     "metadata": {},
     "output_type": "display_data"
    },
    {
     "data": {
      "text/html": [
       "<pre>| 1       | 79.491ms     | 0.00627626             |</pre>"
      ],
      "text/plain": [
       "| 1       | 79.491ms     | 0.00627626             |"
      ]
     },
     "metadata": {},
     "output_type": "display_data"
    },
    {
     "data": {
      "text/html": [
       "<pre>| 2       | 106.878ms    | 0.00390396             |</pre>"
      ],
      "text/plain": [
       "| 2       | 106.878ms    | 0.00390396             |"
      ]
     },
     "metadata": {},
     "output_type": "display_data"
    },
    {
     "data": {
      "text/html": [
       "<pre>| 3       | 137.16ms     | 0.00308235             |</pre>"
      ],
      "text/plain": [
       "| 3       | 137.16ms     | 0.00308235             |"
      ]
     },
     "metadata": {},
     "output_type": "display_data"
    },
    {
     "data": {
      "text/html": [
       "<pre>| 4       | 167.556ms    | 0.00258897             |</pre>"
      ],
      "text/plain": [
       "| 4       | 167.556ms    | 0.00258897             |"
      ]
     },
     "metadata": {},
     "output_type": "display_data"
    },
    {
     "data": {
      "text/html": [
       "<pre>| 5       | 199.578ms    | 0.00225643             |</pre>"
      ],
      "text/plain": [
       "| 5       | 199.578ms    | 0.00225643             |"
      ]
     },
     "metadata": {},
     "output_type": "display_data"
    },
    {
     "data": {
      "text/html": [
       "<pre>| 6       | 233.281ms    | 0.00202386             |</pre>"
      ],
      "text/plain": [
       "| 6       | 233.281ms    | 0.00202386             |"
      ]
     },
     "metadata": {},
     "output_type": "display_data"
    },
    {
     "data": {
      "text/html": [
       "<pre>| 7       | 267.03ms     | 0.00185526             |</pre>"
      ],
      "text/plain": [
       "| 7       | 267.03ms     | 0.00185526             |"
      ]
     },
     "metadata": {},
     "output_type": "display_data"
    },
    {
     "data": {
      "text/html": [
       "<pre>| 8       | 292.073ms    | 0.00172945             |</pre>"
      ],
      "text/plain": [
       "| 8       | 292.073ms    | 0.00172945             |"
      ]
     },
     "metadata": {},
     "output_type": "display_data"
    },
    {
     "data": {
      "text/html": [
       "<pre>| 9       | 316.21ms     | 0.00163196             |</pre>"
      ],
      "text/plain": [
       "| 9       | 316.21ms     | 0.00163196             |"
      ]
     },
     "metadata": {},
     "output_type": "display_data"
    },
    {
     "data": {
      "text/html": [
       "<pre>| 10      | 351.595ms    | 0.00155338             |</pre>"
      ],
      "text/plain": [
       "| 10      | 351.595ms    | 0.00155338             |"
      ]
     },
     "metadata": {},
     "output_type": "display_data"
    },
    {
     "data": {
      "text/html": [
       "<pre>| 11      | 372.731ms    | 0.00148792             |</pre>"
      ],
      "text/plain": [
       "| 11      | 372.731ms    | 0.00148792             |"
      ]
     },
     "metadata": {},
     "output_type": "display_data"
    },
    {
     "data": {
      "text/html": [
       "<pre>| 12      | 396.421ms    | 0.00143091             |</pre>"
      ],
      "text/plain": [
       "| 12      | 396.421ms    | 0.00143091             |"
      ]
     },
     "metadata": {},
     "output_type": "display_data"
    },
    {
     "data": {
      "text/html": [
       "<pre>| 13      | 432.023ms    | 0.00138196             |</pre>"
      ],
      "text/plain": [
       "| 13      | 432.023ms    | 0.00138196             |"
      ]
     },
     "metadata": {},
     "output_type": "display_data"
    },
    {
     "data": {
      "text/html": [
       "<pre>| 14      | 464.747ms    | 0.00133775             |</pre>"
      ],
      "text/plain": [
       "| 14      | 464.747ms    | 0.00133775             |"
      ]
     },
     "metadata": {},
     "output_type": "display_data"
    },
    {
     "data": {
      "text/html": [
       "<pre>| 15      | 499.404ms    | 0.00129732             |</pre>"
      ],
      "text/plain": [
       "| 15      | 499.404ms    | 0.00129732             |"
      ]
     },
     "metadata": {},
     "output_type": "display_data"
    },
    {
     "data": {
      "text/html": [
       "<pre>| 16      | 528.008ms    | 0.00126057             |</pre>"
      ],
      "text/plain": [
       "| 16      | 528.008ms    | 0.00126057             |"
      ]
     },
     "metadata": {},
     "output_type": "display_data"
    },
    {
     "data": {
      "text/html": [
       "<pre>| 17      | 557.779ms    | 0.00122655             |</pre>"
      ],
      "text/plain": [
       "| 17      | 557.779ms    | 0.00122655             |"
      ]
     },
     "metadata": {},
     "output_type": "display_data"
    },
    {
     "data": {
      "text/html": [
       "<pre>| 18      | 582.513ms    | 0.00119496             |</pre>"
      ],
      "text/plain": [
       "| 18      | 582.513ms    | 0.00119496             |"
      ]
     },
     "metadata": {},
     "output_type": "display_data"
    },
    {
     "data": {
      "text/html": [
       "<pre>| 19      | 626.575ms    | 0.00116524             |</pre>"
      ],
      "text/plain": [
       "| 19      | 626.575ms    | 0.00116524             |"
      ]
     },
     "metadata": {},
     "output_type": "display_data"
    },
    {
     "data": {
      "text/html": [
       "<pre>| 20      | 658.479ms    | 0.00113743             |</pre>"
      ],
      "text/plain": [
       "| 20      | 658.479ms    | 0.00113743             |"
      ]
     },
     "metadata": {},
     "output_type": "display_data"
    },
    {
     "data": {
      "text/html": [
       "<pre>| 21      | 697.448ms    | 0.00111108             |</pre>"
      ],
      "text/plain": [
       "| 21      | 697.448ms    | 0.00111108             |"
      ]
     },
     "metadata": {},
     "output_type": "display_data"
    },
    {
     "data": {
      "text/html": [
       "<pre>| 22      | 707.933ms    | 0.00108595             |</pre>"
      ],
      "text/plain": [
       "| 22      | 707.933ms    | 0.00108595             |"
      ]
     },
     "metadata": {},
     "output_type": "display_data"
    },
    {
     "data": {
      "text/html": [
       "<pre>| 23      | 735.562ms    | 0.00106254             |</pre>"
      ],
      "text/plain": [
       "| 23      | 735.562ms    | 0.00106254             |"
      ]
     },
     "metadata": {},
     "output_type": "display_data"
    },
    {
     "data": {
      "text/html": [
       "<pre>| 24      | 770.777ms    | 0.00104032             |</pre>"
      ],
      "text/plain": [
       "| 24      | 770.777ms    | 0.00104032             |"
      ]
     },
     "metadata": {},
     "output_type": "display_data"
    },
    {
     "data": {
      "text/html": [
       "<pre>| 25      | 799.1ms      | 0.00101935             |</pre>"
      ],
      "text/plain": [
       "| 25      | 799.1ms      | 0.00101935             |"
      ]
     },
     "metadata": {},
     "output_type": "display_data"
    },
    {
     "data": {
      "text/html": [
       "<pre>| 26      | 834.445ms    | 0.000999034            |</pre>"
      ],
      "text/plain": [
       "| 26      | 834.445ms    | 0.000999034            |"
      ]
     },
     "metadata": {},
     "output_type": "display_data"
    },
    {
     "data": {
      "text/html": [
       "<pre>| 27      | 861.01ms     | 0.000979558            |</pre>"
      ],
      "text/plain": [
       "| 27      | 861.01ms     | 0.000979558            |"
      ]
     },
     "metadata": {},
     "output_type": "display_data"
    },
    {
     "data": {
      "text/html": [
       "<pre>| 28      | 892.75ms     | 0.000960975            |</pre>"
      ],
      "text/plain": [
       "| 28      | 892.75ms     | 0.000960975            |"
      ]
     },
     "metadata": {},
     "output_type": "display_data"
    },
    {
     "data": {
      "text/html": [
       "<pre>| 29      | 929.585ms    | 0.000943185            |</pre>"
      ],
      "text/plain": [
       "| 29      | 929.585ms    | 0.000943185            |"
      ]
     },
     "metadata": {},
     "output_type": "display_data"
    },
    {
     "data": {
      "text/html": [
       "<pre>| 30      | 959.42ms     | 0.000926152            |</pre>"
      ],
      "text/plain": [
       "| 30      | 959.42ms     | 0.000926152            |"
      ]
     },
     "metadata": {},
     "output_type": "display_data"
    },
    {
     "data": {
      "text/html": [
       "<pre>| 31      | 994.455ms    | 0.000909922            |</pre>"
      ],
      "text/plain": [
       "| 31      | 994.455ms    | 0.000909922            |"
      ]
     },
     "metadata": {},
     "output_type": "display_data"
    },
    {
     "data": {
      "text/html": [
       "<pre>| 32      | 1.03s        | 0.000894391            |</pre>"
      ],
      "text/plain": [
       "| 32      | 1.03s        | 0.000894391            |"
      ]
     },
     "metadata": {},
     "output_type": "display_data"
    },
    {
     "data": {
      "text/html": [
       "<pre>| 33      | 1.06s        | 0.000879383            |</pre>"
      ],
      "text/plain": [
       "| 33      | 1.06s        | 0.000879383            |"
      ]
     },
     "metadata": {},
     "output_type": "display_data"
    },
    {
     "data": {
      "text/html": [
       "<pre>| 34      | 1.10s        | 0.000864767            |</pre>"
      ],
      "text/plain": [
       "| 34      | 1.10s        | 0.000864767            |"
      ]
     },
     "metadata": {},
     "output_type": "display_data"
    },
    {
     "data": {
      "text/html": [
       "<pre>| 35      | 1.13s        | 0.000850772            |</pre>"
      ],
      "text/plain": [
       "| 35      | 1.13s        | 0.000850772            |"
      ]
     },
     "metadata": {},
     "output_type": "display_data"
    },
    {
     "data": {
      "text/html": [
       "<pre>| 36      | 1.15s        | 0.000837347            |</pre>"
      ],
      "text/plain": [
       "| 36      | 1.15s        | 0.000837347            |"
      ]
     },
     "metadata": {},
     "output_type": "display_data"
    },
    {
     "data": {
      "text/html": [
       "<pre>| 37      | 1.18s        | 0.000824272            |</pre>"
      ],
      "text/plain": [
       "| 37      | 1.18s        | 0.000824272            |"
      ]
     },
     "metadata": {},
     "output_type": "display_data"
    },
    {
     "data": {
      "text/html": [
       "<pre>| 38      | 1.20s        | 0.000811572            |</pre>"
      ],
      "text/plain": [
       "| 38      | 1.20s        | 0.000811572            |"
      ]
     },
     "metadata": {},
     "output_type": "display_data"
    },
    {
     "data": {
      "text/html": [
       "<pre>| 39      | 1.23s        | 0.000799434            |</pre>"
      ],
      "text/plain": [
       "| 39      | 1.23s        | 0.000799434            |"
      ]
     },
     "metadata": {},
     "output_type": "display_data"
    },
    {
     "data": {
      "text/html": [
       "<pre>| 40      | 1.28s        | 0.000787502            |</pre>"
      ],
      "text/plain": [
       "| 40      | 1.28s        | 0.000787502            |"
      ]
     },
     "metadata": {},
     "output_type": "display_data"
    },
    {
     "data": {
      "text/html": [
       "<pre>| 41      | 1.31s        | 0.00077602             |</pre>"
      ],
      "text/plain": [
       "| 41      | 1.31s        | 0.00077602             |"
      ]
     },
     "metadata": {},
     "output_type": "display_data"
    },
    {
     "data": {
      "text/html": [
       "<pre>| 42      | 1.33s        | 0.000764923            |</pre>"
      ],
      "text/plain": [
       "| 42      | 1.33s        | 0.000764923            |"
      ]
     },
     "metadata": {},
     "output_type": "display_data"
    },
    {
     "data": {
      "text/html": [
       "<pre>| 43      | 1.36s        | 0.000754204            |</pre>"
      ],
      "text/plain": [
       "| 43      | 1.36s        | 0.000754204            |"
      ]
     },
     "metadata": {},
     "output_type": "display_data"
    },
    {
     "data": {
      "text/html": [
       "<pre>| 44      | 1.40s        | 0.000743919            |</pre>"
      ],
      "text/plain": [
       "| 44      | 1.40s        | 0.000743919            |"
      ]
     },
     "metadata": {},
     "output_type": "display_data"
    },
    {
     "data": {
      "text/html": [
       "<pre>| 45      | 1.44s        | 0.000733851            |</pre>"
      ],
      "text/plain": [
       "| 45      | 1.44s        | 0.000733851            |"
      ]
     },
     "metadata": {},
     "output_type": "display_data"
    },
    {
     "data": {
      "text/html": [
       "<pre>| 46      | 1.47s        | 0.000724021            |</pre>"
      ],
      "text/plain": [
       "| 46      | 1.47s        | 0.000724021            |"
      ]
     },
     "metadata": {},
     "output_type": "display_data"
    },
    {
     "data": {
      "text/html": [
       "<pre>| 47      | 1.49s        | 0.000714606            |</pre>"
      ],
      "text/plain": [
       "| 47      | 1.49s        | 0.000714606            |"
      ]
     },
     "metadata": {},
     "output_type": "display_data"
    },
    {
     "data": {
      "text/html": [
       "<pre>| 48      | 1.51s        | 0.000705451            |</pre>"
      ],
      "text/plain": [
       "| 48      | 1.51s        | 0.000705451            |"
      ]
     },
     "metadata": {},
     "output_type": "display_data"
    },
    {
     "data": {
      "text/html": [
       "<pre>| 49      | 1.55s        | 0.000696518            |</pre>"
      ],
      "text/plain": [
       "| 49      | 1.55s        | 0.000696518            |"
      ]
     },
     "metadata": {},
     "output_type": "display_data"
    },
    {
     "data": {
      "text/html": [
       "<pre>| FINAL   | 1.55s        | 0.000696518            |</pre>"
      ],
      "text/plain": [
       "| FINAL   | 1.55s        | 0.000696518            |"
      ]
     },
     "metadata": {},
     "output_type": "display_data"
    },
    {
     "data": {
      "text/html": [
       "<pre>+---------+--------------+------------------------+</pre>"
      ],
      "text/plain": [
       "+---------+--------------+------------------------+"
      ]
     },
     "metadata": {},
     "output_type": "display_data"
    },
    {
     "data": {
      "text/html": [
       "<pre>Optimization Complete: Iteration limit reached.</pre>"
      ],
      "text/plain": [
       "Optimization Complete: Iteration limit reached."
      ]
     },
     "metadata": {},
     "output_type": "display_data"
    },
    {
     "data": {
      "text/html": [
       "<pre>Recsys training: model = factorization_recommender</pre>"
      ],
      "text/plain": [
       "Recsys training: model = factorization_recommender"
      ]
     },
     "metadata": {},
     "output_type": "display_data"
    },
    {
     "data": {
      "text/html": [
       "<pre>Preparing data set.</pre>"
      ],
      "text/plain": [
       "Preparing data set."
      ]
     },
     "metadata": {},
     "output_type": "display_data"
    },
    {
     "data": {
      "text/html": [
       "<pre>    Data has 24756 observations with 12294 users and 894 items.</pre>"
      ],
      "text/plain": [
       "    Data has 24756 observations with 12294 users and 894 items."
      ]
     },
     "metadata": {},
     "output_type": "display_data"
    },
    {
     "data": {
      "text/html": [
       "<pre>    Data prepared in: 0.031345s</pre>"
      ],
      "text/plain": [
       "    Data prepared in: 0.031345s"
      ]
     },
     "metadata": {},
     "output_type": "display_data"
    },
    {
     "data": {
      "text/html": [
       "<pre>Training factorization_recommender for recommendations.</pre>"
      ],
      "text/plain": [
       "Training factorization_recommender for recommendations."
      ]
     },
     "metadata": {},
     "output_type": "display_data"
    },
    {
     "data": {
      "text/html": [
       "<pre>+------------------------------+--------------------------------------------------+----------+</pre>"
      ],
      "text/plain": [
       "+------------------------------+--------------------------------------------------+----------+"
      ]
     },
     "metadata": {},
     "output_type": "display_data"
    },
    {
     "data": {
      "text/html": [
       "<pre>| Parameter                    | Description                                      | Value    |</pre>"
      ],
      "text/plain": [
       "| Parameter                    | Description                                      | Value    |"
      ]
     },
     "metadata": {},
     "output_type": "display_data"
    },
    {
     "data": {
      "text/html": [
       "<pre>+------------------------------+--------------------------------------------------+----------+</pre>"
      ],
      "text/plain": [
       "+------------------------------+--------------------------------------------------+----------+"
      ]
     },
     "metadata": {},
     "output_type": "display_data"
    },
    {
     "data": {
      "text/html": [
       "<pre>| num_factors                  | Factor Dimension                                 | 10       |</pre>"
      ],
      "text/plain": [
       "| num_factors                  | Factor Dimension                                 | 10       |"
      ]
     },
     "metadata": {},
     "output_type": "display_data"
    },
    {
     "data": {
      "text/html": [
       "<pre>| regularization               | L2 Regularization on Factors                     | 0        |</pre>"
      ],
      "text/plain": [
       "| regularization               | L2 Regularization on Factors                     | 0        |"
      ]
     },
     "metadata": {},
     "output_type": "display_data"
    },
    {
     "data": {
      "text/html": [
       "<pre>| max_iterations               | Maximum Number of Iterations                     | 50       |</pre>"
      ],
      "text/plain": [
       "| max_iterations               | Maximum Number of Iterations                     | 50       |"
      ]
     },
     "metadata": {},
     "output_type": "display_data"
    },
    {
     "data": {
      "text/html": [
       "<pre>| solver                       | Solver used for training                         | als      |</pre>"
      ],
      "text/plain": [
       "| solver                       | Solver used for training                         | als      |"
      ]
     },
     "metadata": {},
     "output_type": "display_data"
    },
    {
     "data": {
      "text/html": [
       "<pre>+------------------------------+--------------------------------------------------+----------+</pre>"
      ],
      "text/plain": [
       "+------------------------------+--------------------------------------------------+----------+"
      ]
     },
     "metadata": {},
     "output_type": "display_data"
    },
    {
     "data": {
      "text/html": [
       "<pre>+---------+--------------+------------------------+</pre>"
      ],
      "text/plain": [
       "+---------+--------------+------------------------+"
      ]
     },
     "metadata": {},
     "output_type": "display_data"
    },
    {
     "data": {
      "text/html": [
       "<pre>| Iter.   | Elapsed time | RMSE                   |</pre>"
      ],
      "text/plain": [
       "| Iter.   | Elapsed time | RMSE                   |"
      ]
     },
     "metadata": {},
     "output_type": "display_data"
    },
    {
     "data": {
      "text/html": [
       "<pre>+---------+--------------+------------------------+</pre>"
      ],
      "text/plain": [
       "+---------+--------------+------------------------+"
      ]
     },
     "metadata": {},
     "output_type": "display_data"
    },
    {
     "data": {
      "text/html": [
       "<pre>| Initial | 47us         | NA                     |</pre>"
      ],
      "text/plain": [
       "| Initial | 47us         | NA                     |"
      ]
     },
     "metadata": {},
     "output_type": "display_data"
    },
    {
     "data": {
      "text/html": [
       "<pre>+---------+--------------+------------------------+</pre>"
      ],
      "text/plain": [
       "+---------+--------------+------------------------+"
      ]
     },
     "metadata": {},
     "output_type": "display_data"
    },
    {
     "data": {
      "text/html": [
       "<pre>| 0       | 39.472ms     | 0.0748815              |</pre>"
      ],
      "text/plain": [
       "| 0       | 39.472ms     | 0.0748815              |"
      ]
     },
     "metadata": {},
     "output_type": "display_data"
    },
    {
     "data": {
      "text/html": [
       "<pre>| 1       | 63.185ms     | 0.0255629              |</pre>"
      ],
      "text/plain": [
       "| 1       | 63.185ms     | 0.0255629              |"
      ]
     },
     "metadata": {},
     "output_type": "display_data"
    },
    {
     "data": {
      "text/html": [
       "<pre>| 2       | 104.69ms     | 0.0172886              |</pre>"
      ],
      "text/plain": [
       "| 2       | 104.69ms     | 0.0172886              |"
      ]
     },
     "metadata": {},
     "output_type": "display_data"
    },
    {
     "data": {
      "text/html": [
       "<pre>| 3       | 134.01ms     | 0.0132925              |</pre>"
      ],
      "text/plain": [
       "| 3       | 134.01ms     | 0.0132925              |"
      ]
     },
     "metadata": {},
     "output_type": "display_data"
    },
    {
     "data": {
      "text/html": [
       "<pre>| 4       | 160.058ms    | 0.010812               |</pre>"
      ],
      "text/plain": [
       "| 4       | 160.058ms    | 0.010812               |"
      ]
     },
     "metadata": {},
     "output_type": "display_data"
    },
    {
     "data": {
      "text/html": [
       "<pre>| 5       | 184.745ms    | 0.0092062              |</pre>"
      ],
      "text/plain": [
       "| 5       | 184.745ms    | 0.0092062              |"
      ]
     },
     "metadata": {},
     "output_type": "display_data"
    },
    {
     "data": {
      "text/html": [
       "<pre>| 6       | 211.926ms    | 0.0080126              |</pre>"
      ],
      "text/plain": [
       "| 6       | 211.926ms    | 0.0080126              |"
      ]
     },
     "metadata": {},
     "output_type": "display_data"
    },
    {
     "data": {
      "text/html": [
       "<pre>| 7       | 248.072ms    | 0.00704223             |</pre>"
      ],
      "text/plain": [
       "| 7       | 248.072ms    | 0.00704223             |"
      ]
     },
     "metadata": {},
     "output_type": "display_data"
    },
    {
     "data": {
      "text/html": [
       "<pre>| 8       | 280.796ms    | 0.00629025             |</pre>"
      ],
      "text/plain": [
       "| 8       | 280.796ms    | 0.00629025             |"
      ]
     },
     "metadata": {},
     "output_type": "display_data"
    },
    {
     "data": {
      "text/html": [
       "<pre>| 9       | 308.683ms    | 0.00572074             |</pre>"
      ],
      "text/plain": [
       "| 9       | 308.683ms    | 0.00572074             |"
      ]
     },
     "metadata": {},
     "output_type": "display_data"
    },
    {
     "data": {
      "text/html": [
       "<pre>| 10      | 341.686ms    | 0.00633368             |</pre>"
      ],
      "text/plain": [
       "| 10      | 341.686ms    | 0.00633368             |"
      ]
     },
     "metadata": {},
     "output_type": "display_data"
    },
    {
     "data": {
      "text/html": [
       "<pre>| 11      | 362.313ms    | 0.00603047             |</pre>"
      ],
      "text/plain": [
       "| 11      | 362.313ms    | 0.00603047             |"
      ]
     },
     "metadata": {},
     "output_type": "display_data"
    },
    {
     "data": {
      "text/html": [
       "<pre>| 12      | 394.754ms    | 0.00518329             |</pre>"
      ],
      "text/plain": [
       "| 12      | 394.754ms    | 0.00518329             |"
      ]
     },
     "metadata": {},
     "output_type": "display_data"
    },
    {
     "data": {
      "text/html": [
       "<pre>| 13      | 415.982ms    | 0.00828949             |</pre>"
      ],
      "text/plain": [
       "| 13      | 415.982ms    | 0.00828949             |"
      ]
     },
     "metadata": {},
     "output_type": "display_data"
    },
    {
     "data": {
      "text/html": [
       "<pre>| 14      | 446.742ms    | 0.00978989             |</pre>"
      ],
      "text/plain": [
       "| 14      | 446.742ms    | 0.00978989             |"
      ]
     },
     "metadata": {},
     "output_type": "display_data"
    },
    {
     "data": {
      "text/html": [
       "<pre>| 15      | 477.558ms    | 0.0148253              |</pre>"
      ],
      "text/plain": [
       "| 15      | 477.558ms    | 0.0148253              |"
      ]
     },
     "metadata": {},
     "output_type": "display_data"
    },
    {
     "data": {
      "text/html": [
       "<pre>| 16      | 505.232ms    | 0.0243128              |</pre>"
      ],
      "text/plain": [
       "| 16      | 505.232ms    | 0.0243128              |"
      ]
     },
     "metadata": {},
     "output_type": "display_data"
    },
    {
     "data": {
      "text/html": [
       "<pre>| 17      | 534.445ms    | 0.0217147              |</pre>"
      ],
      "text/plain": [
       "| 17      | 534.445ms    | 0.0217147              |"
      ]
     },
     "metadata": {},
     "output_type": "display_data"
    },
    {
     "data": {
      "text/html": [
       "<pre>| 18      | 568.566ms    | 0.0158329              |</pre>"
      ],
      "text/plain": [
       "| 18      | 568.566ms    | 0.0158329              |"
      ]
     },
     "metadata": {},
     "output_type": "display_data"
    },
    {
     "data": {
      "text/html": [
       "<pre>| 19      | 595.024ms    | 0.0221203              |</pre>"
      ],
      "text/plain": [
       "| 19      | 595.024ms    | 0.0221203              |"
      ]
     },
     "metadata": {},
     "output_type": "display_data"
    },
    {
     "data": {
      "text/html": [
       "<pre>| 20      | 615.394ms    | 0.0191286              |</pre>"
      ],
      "text/plain": [
       "| 20      | 615.394ms    | 0.0191286              |"
      ]
     },
     "metadata": {},
     "output_type": "display_data"
    },
    {
     "data": {
      "text/html": [
       "<pre>| 21      | 644.564ms    | 0.0173134              |</pre>"
      ],
      "text/plain": [
       "| 21      | 644.564ms    | 0.0173134              |"
      ]
     },
     "metadata": {},
     "output_type": "display_data"
    },
    {
     "data": {
      "text/html": [
       "<pre>| 22      | 666.163ms    | 0.0698195              |</pre>"
      ],
      "text/plain": [
       "| 22      | 666.163ms    | 0.0698195              |"
      ]
     },
     "metadata": {},
     "output_type": "display_data"
    },
    {
     "data": {
      "text/html": [
       "<pre>| 23      | 700.264ms    | 0.0211138              |</pre>"
      ],
      "text/plain": [
       "| 23      | 700.264ms    | 0.0211138              |"
      ]
     },
     "metadata": {},
     "output_type": "display_data"
    },
    {
     "data": {
      "text/html": [
       "<pre>| 24      | 730.11ms     | 0.02316                |</pre>"
      ],
      "text/plain": [
       "| 24      | 730.11ms     | 0.02316                |"
      ]
     },
     "metadata": {},
     "output_type": "display_data"
    },
    {
     "data": {
      "text/html": [
       "<pre>| 25      | 747.487ms    | 0.0249415              |</pre>"
      ],
      "text/plain": [
       "| 25      | 747.487ms    | 0.0249415              |"
      ]
     },
     "metadata": {},
     "output_type": "display_data"
    },
    {
     "data": {
      "text/html": [
       "<pre>| 26      | 782.952ms    | 0.0258151              |</pre>"
      ],
      "text/plain": [
       "| 26      | 782.952ms    | 0.0258151              |"
      ]
     },
     "metadata": {},
     "output_type": "display_data"
    },
    {
     "data": {
      "text/html": [
       "<pre>| 27      | 807.333ms    | 0.0278098              |</pre>"
      ],
      "text/plain": [
       "| 27      | 807.333ms    | 0.0278098              |"
      ]
     },
     "metadata": {},
     "output_type": "display_data"
    },
    {
     "data": {
      "text/html": [
       "<pre>| 28      | 835.183ms    | 0.0256328              |</pre>"
      ],
      "text/plain": [
       "| 28      | 835.183ms    | 0.0256328              |"
      ]
     },
     "metadata": {},
     "output_type": "display_data"
    },
    {
     "data": {
      "text/html": [
       "<pre>| 29      | 873.389ms    | 0.0862007              |</pre>"
      ],
      "text/plain": [
       "| 29      | 873.389ms    | 0.0862007              |"
      ]
     },
     "metadata": {},
     "output_type": "display_data"
    },
    {
     "data": {
      "text/html": [
       "<pre>| 30      | 898.659ms    | 0.557438               |</pre>"
      ],
      "text/plain": [
       "| 30      | 898.659ms    | 0.557438               |"
      ]
     },
     "metadata": {},
     "output_type": "display_data"
    },
    {
     "data": {
      "text/html": [
       "<pre>| 31      | 936.424ms    | 0.0440734              |</pre>"
      ],
      "text/plain": [
       "| 31      | 936.424ms    | 0.0440734              |"
      ]
     },
     "metadata": {},
     "output_type": "display_data"
    },
    {
     "data": {
      "text/html": [
       "<pre>| 32      | 954.632ms    | 0.039457               |</pre>"
      ],
      "text/plain": [
       "| 32      | 954.632ms    | 0.039457               |"
      ]
     },
     "metadata": {},
     "output_type": "display_data"
    },
    {
     "data": {
      "text/html": [
       "<pre>| 33      | 985.121ms    | 0.0434941              |</pre>"
      ],
      "text/plain": [
       "| 33      | 985.121ms    | 0.0434941              |"
      ]
     },
     "metadata": {},
     "output_type": "display_data"
    },
    {
     "data": {
      "text/html": [
       "<pre>| 34      | 1.01s        | 0.04249                |</pre>"
      ],
      "text/plain": [
       "| 34      | 1.01s        | 0.04249                |"
      ]
     },
     "metadata": {},
     "output_type": "display_data"
    },
    {
     "data": {
      "text/html": [
       "<pre>| 35      | 1.04s        | 0.0501378              |</pre>"
      ],
      "text/plain": [
       "| 35      | 1.04s        | 0.0501378              |"
      ]
     },
     "metadata": {},
     "output_type": "display_data"
    },
    {
     "data": {
      "text/html": [
       "<pre>| 36      | 1.06s        | 0.0456678              |</pre>"
      ],
      "text/plain": [
       "| 36      | 1.06s        | 0.0456678              |"
      ]
     },
     "metadata": {},
     "output_type": "display_data"
    },
    {
     "data": {
      "text/html": [
       "<pre>| 37      | 1.09s        | 0.0455841              |</pre>"
      ],
      "text/plain": [
       "| 37      | 1.09s        | 0.0455841              |"
      ]
     },
     "metadata": {},
     "output_type": "display_data"
    },
    {
     "data": {
      "text/html": [
       "<pre>| 38      | 1.12s        | 0.0834712              |</pre>"
      ],
      "text/plain": [
       "| 38      | 1.12s        | 0.0834712              |"
      ]
     },
     "metadata": {},
     "output_type": "display_data"
    },
    {
     "data": {
      "text/html": [
       "<pre>| 39      | 1.14s        | 0.0451186              |</pre>"
      ],
      "text/plain": [
       "| 39      | 1.14s        | 0.0451186              |"
      ]
     },
     "metadata": {},
     "output_type": "display_data"
    },
    {
     "data": {
      "text/html": [
       "<pre>| 40      | 1.17s        | 0.0429949              |</pre>"
      ],
      "text/plain": [
       "| 40      | 1.17s        | 0.0429949              |"
      ]
     },
     "metadata": {},
     "output_type": "display_data"
    },
    {
     "data": {
      "text/html": [
       "<pre>| 41      | 1.21s        | 0.0437152              |</pre>"
      ],
      "text/plain": [
       "| 41      | 1.21s        | 0.0437152              |"
      ]
     },
     "metadata": {},
     "output_type": "display_data"
    },
    {
     "data": {
      "text/html": [
       "<pre>| 42      | 1.23s        | 0.0419715              |</pre>"
      ],
      "text/plain": [
       "| 42      | 1.23s        | 0.0419715              |"
      ]
     },
     "metadata": {},
     "output_type": "display_data"
    },
    {
     "data": {
      "text/html": [
       "<pre>| 43      | 1.25s        | 0.0423573              |</pre>"
      ],
      "text/plain": [
       "| 43      | 1.25s        | 0.0423573              |"
      ]
     },
     "metadata": {},
     "output_type": "display_data"
    },
    {
     "data": {
      "text/html": [
       "<pre>| 44      | 1.27s        | 0.0437664              |</pre>"
      ],
      "text/plain": [
       "| 44      | 1.27s        | 0.0437664              |"
      ]
     },
     "metadata": {},
     "output_type": "display_data"
    },
    {
     "data": {
      "text/html": [
       "<pre>| 45      | 1.30s        | 0.0423739              |</pre>"
      ],
      "text/plain": [
       "| 45      | 1.30s        | 0.0423739              |"
      ]
     },
     "metadata": {},
     "output_type": "display_data"
    },
    {
     "data": {
      "text/html": [
       "<pre>| 46      | 1.32s        | 0.0436532              |</pre>"
      ],
      "text/plain": [
       "| 46      | 1.32s        | 0.0436532              |"
      ]
     },
     "metadata": {},
     "output_type": "display_data"
    },
    {
     "data": {
      "text/html": [
       "<pre>| 47      | 1.34s        | 0.0478006              |</pre>"
      ],
      "text/plain": [
       "| 47      | 1.34s        | 0.0478006              |"
      ]
     },
     "metadata": {},
     "output_type": "display_data"
    },
    {
     "data": {
      "text/html": [
       "<pre>| 48      | 1.36s        | 0.0460831              |</pre>"
      ],
      "text/plain": [
       "| 48      | 1.36s        | 0.0460831              |"
      ]
     },
     "metadata": {},
     "output_type": "display_data"
    },
    {
     "data": {
      "text/html": [
       "<pre>| 49      | 1.39s        | 0.0447127              |</pre>"
      ],
      "text/plain": [
       "| 49      | 1.39s        | 0.0447127              |"
      ]
     },
     "metadata": {},
     "output_type": "display_data"
    },
    {
     "data": {
      "text/html": [
       "<pre>| FINAL   | 1.39s        | 0.0447127              |</pre>"
      ],
      "text/plain": [
       "| FINAL   | 1.39s        | 0.0447127              |"
      ]
     },
     "metadata": {},
     "output_type": "display_data"
    },
    {
     "data": {
      "text/html": [
       "<pre>+---------+--------------+------------------------+</pre>"
      ],
      "text/plain": [
       "+---------+--------------+------------------------+"
      ]
     },
     "metadata": {},
     "output_type": "display_data"
    },
    {
     "data": {
      "text/html": [
       "<pre>Optimization Complete: Iteration limit reached.</pre>"
      ],
      "text/plain": [
       "Optimization Complete: Iteration limit reached."
      ]
     },
     "metadata": {},
     "output_type": "display_data"
    }
   ],
   "source": [
    "\n",
    "predictions_train_dic = {}\n",
    "predictions_valid_dic = {}\n",
    "\n",
    "for i in [100, 1, 0.1, 0.01, 0.0001, 0.00001, 0.000001, 0.0000001, 0.00000001, 0]:\n",
    "    model = graphlab.recommender.factorization_recommender.create(sf_train, user_id='new_user_id', item_id='new_course_id',target='rating',solver='als',side_data_factorization=False, num_factors = 10, regularization=i)\n",
    "    predictions_train = model.predict(sf_train)\n",
    "    predictions_valid = model.predict(sf_validation)\n",
    "    predictions_train_dic[i] = np.sqrt(mean_squared_error(sf_train['rating'], predictions_train))\n",
    "    predictions_valid_dic[i] = np.sqrt(mean_squared_error(sf_validation['rating'], predictions_valid))\n",
    "    "
   ]
  },
  {
   "cell_type": "code",
   "execution_count": 14,
   "metadata": {},
   "outputs": [
    {
     "data": {
      "text/plain": [
       "<matplotlib.legend.Legend at 0x7f4329fb16d0>"
      ]
     },
     "execution_count": 14,
     "metadata": {},
     "output_type": "execute_result"
    },
    {
     "data": {
      "image/png": "[encoded data removed]",
      "text/plain": [
       "<matplotlib.figure.Figure at 0x7f4329fb49d0>"
      ]
     },
     "metadata": {},
     "output_type": "display_data"
    }
   ],
   "source": [
    "plt.plot(predictions_train_dic.keys(), predictions_train_dic.values(), color = \"b\", label = \"training error\")\n",
    "plt.plot(predictions_valid_dic.keys(), predictions_valid_dic.values(), color = \"g\", label = \"validation error\")\n",
    "plt.legend()"
   ]
  },
  {
   "cell_type": "code",
   "execution_count": 15,
   "metadata": {},
   "outputs": [
    {
     "data": {
      "text/plain": [
       "{0: 0.044712733655801959,\n",
       " 1e-08: 0.00069651782626978687,\n",
       " 1e-07: 0.001032308438438383,\n",
       " 1e-06: 0.0067756009865905156,\n",
       " 1e-05: 0.044258013407265831,\n",
       " 0.0001: 0.31229898365172948,\n",
       " 0.01: 0.59830867430699919,\n",
       " 0.1: 0.59830867430699919,\n",
       " 1: 0.59830867430699919,\n",
       " 100: 0.59830867430699919}"
      ]
     },
     "execution_count": 15,
     "metadata": {},
     "output_type": "execute_result"
    }
   ],
   "source": [
    "predictions_train_dic"
   ]
  },
  {
   "cell_type": "code",
   "execution_count": 16,
   "metadata": {},
   "outputs": [
    {
     "data": {
      "text/plain": [
       "{0: 69.287952861701882,\n",
       " 1e-08: 0.74101583923459069,\n",
       " 1e-07: 0.65357875820647238,\n",
       " 1e-06: 0.65693401312469457,\n",
       " 1e-05: 0.62380879122696387,\n",
       " 0.0001: 0.60131901519764552,\n",
       " 0.01: 0.60431792617409408,\n",
       " 0.1: 0.60431792617409408,\n",
       " 1: 0.60431792617409408,\n",
       " 100: 0.60431792617409397}"
      ]
     },
     "execution_count": 16,
     "metadata": {},
     "output_type": "execute_result"
    }
   ],
   "source": [
    "predictions_valid_dic"
   ]
  },
  {
   "cell_type": "code",
   "execution_count": 17,
   "metadata": {},
   "outputs": [
    {
     "data": {
      "text/html": [
       "<pre>Recsys training: model = factorization_recommender</pre>"
      ],
      "text/plain": [
       "Recsys training: model = factorization_recommender"
      ]
     },
     "metadata": {},
     "output_type": "display_data"
    },
    {
     "data": {
      "text/html": [
       "<pre>Preparing data set.</pre>"
      ],
      "text/plain": [
       "Preparing data set."
      ]
     },
     "metadata": {},
     "output_type": "display_data"
    },
    {
     "data": {
      "text/html": [
       "<pre>    Data has 24756 observations with 12294 users and 894 items.</pre>"
      ],
      "text/plain": [
       "    Data has 24756 observations with 12294 users and 894 items."
      ]
     },
     "metadata": {},
     "output_type": "display_data"
    },
    {
     "data": {
      "text/html": [
       "<pre>    Data prepared in: 0.031964s</pre>"
      ],
      "text/plain": [
       "    Data prepared in: 0.031964s"
      ]
     },
     "metadata": {},
     "output_type": "display_data"
    },
    {
     "data": {
      "text/html": [
       "<pre>Training factorization_recommender for recommendations.</pre>"
      ],
      "text/plain": [
       "Training factorization_recommender for recommendations."
      ]
     },
     "metadata": {},
     "output_type": "display_data"
    },
    {
     "data": {
      "text/html": [
       "<pre>+------------------------------+--------------------------------------------------+----------+</pre>"
      ],
      "text/plain": [
       "+------------------------------+--------------------------------------------------+----------+"
      ]
     },
     "metadata": {},
     "output_type": "display_data"
    },
    {
     "data": {
      "text/html": [
       "<pre>| Parameter                    | Description                                      | Value    |</pre>"
      ],
      "text/plain": [
       "| Parameter                    | Description                                      | Value    |"
      ]
     },
     "metadata": {},
     "output_type": "display_data"
    },
    {
     "data": {
      "text/html": [
       "<pre>+------------------------------+--------------------------------------------------+----------+</pre>"
      ],
      "text/plain": [
       "+------------------------------+--------------------------------------------------+----------+"
      ]
     },
     "metadata": {},
     "output_type": "display_data"
    },
    {
     "data": {
      "text/html": [
       "<pre>| num_factors                  | Factor Dimension                                 | 10       |</pre>"
      ],
      "text/plain": [
       "| num_factors                  | Factor Dimension                                 | 10       |"
      ]
     },
     "metadata": {},
     "output_type": "display_data"
    },
    {
     "data": {
      "text/html": [
       "<pre>| regularization               | L2 Regularization on Factors                     | 0.1      |</pre>"
      ],
      "text/plain": [
       "| regularization               | L2 Regularization on Factors                     | 0.1      |"
      ]
     },
     "metadata": {},
     "output_type": "display_data"
    },
    {
     "data": {
      "text/html": [
       "<pre>| max_iterations               | Maximum Number of Iterations                     | 50       |</pre>"
      ],
      "text/plain": [
       "| max_iterations               | Maximum Number of Iterations                     | 50       |"
      ]
     },
     "metadata": {},
     "output_type": "display_data"
    },
    {
     "data": {
      "text/html": [
       "<pre>| solver                       | Solver used for training                         | als      |</pre>"
      ],
      "text/plain": [
       "| solver                       | Solver used for training                         | als      |"
      ]
     },
     "metadata": {},
     "output_type": "display_data"
    },
    {
     "data": {
      "text/html": [
       "<pre>+------------------------------+--------------------------------------------------+----------+</pre>"
      ],
      "text/plain": [
       "+------------------------------+--------------------------------------------------+----------+"
      ]
     },
     "metadata": {},
     "output_type": "display_data"
    },
    {
     "data": {
      "text/html": [
       "<pre>+---------+--------------+------------------------+</pre>"
      ],
      "text/plain": [
       "+---------+--------------+------------------------+"
      ]
     },
     "metadata": {},
     "output_type": "display_data"
    },
    {
     "data": {
      "text/html": [
       "<pre>| Iter.   | Elapsed time | RMSE                   |</pre>"
      ],
      "text/plain": [
       "| Iter.   | Elapsed time | RMSE                   |"
      ]
     },
     "metadata": {},
     "output_type": "display_data"
    },
    {
     "data": {
      "text/html": [
       "<pre>+---------+--------------+------------------------+</pre>"
      ],
      "text/plain": [
       "+---------+--------------+------------------------+"
      ]
     },
     "metadata": {},
     "output_type": "display_data"
    },
    {
     "data": {
      "text/html": [
       "<pre>| Initial | 53us         | NA                     |</pre>"
      ],
      "text/plain": [
       "| Initial | 53us         | NA                     |"
      ]
     },
     "metadata": {},
     "output_type": "display_data"
    },
    {
     "data": {
      "text/html": [
       "<pre>+---------+--------------+------------------------+</pre>"
      ],
      "text/plain": [
       "+---------+--------------+------------------------+"
      ]
     },
     "metadata": {},
     "output_type": "display_data"
    },
    {
     "data": {
      "text/html": [
       "<pre>| 0       | 34ms         | 0.598309               |</pre>"
      ],
      "text/plain": [
       "| 0       | 34ms         | 0.598309               |"
      ]
     },
     "metadata": {},
     "output_type": "display_data"
    },
    {
     "data": {
      "text/html": [
       "<pre>| 1       | 72.083ms     | 0.598309               |</pre>"
      ],
      "text/plain": [
       "| 1       | 72.083ms     | 0.598309               |"
      ]
     },
     "metadata": {},
     "output_type": "display_data"
    },
    {
     "data": {
      "text/html": [
       "<pre>| 2       | 100.405ms    | 0.598309               |</pre>"
      ],
      "text/plain": [
       "| 2       | 100.405ms    | 0.598309               |"
      ]
     },
     "metadata": {},
     "output_type": "display_data"
    },
    {
     "data": {
      "text/html": [
       "<pre>| 3       | 148.187ms    | 0.598309               |</pre>"
      ],
      "text/plain": [
       "| 3       | 148.187ms    | 0.598309               |"
      ]
     },
     "metadata": {},
     "output_type": "display_data"
    },
    {
     "data": {
      "text/html": [
       "<pre>| 4       | 189.413ms    | 0.598309               |</pre>"
      ],
      "text/plain": [
       "| 4       | 189.413ms    | 0.598309               |"
      ]
     },
     "metadata": {},
     "output_type": "display_data"
    },
    {
     "data": {
      "text/html": [
       "<pre>| 5       | 207.756ms    | 0.598309               |</pre>"
      ],
      "text/plain": [
       "| 5       | 207.756ms    | 0.598309               |"
      ]
     },
     "metadata": {},
     "output_type": "display_data"
    },
    {
     "data": {
      "text/html": [
       "<pre>| 6       | 230.166ms    | 0.598309               |</pre>"
      ],
      "text/plain": [
       "| 6       | 230.166ms    | 0.598309               |"
      ]
     },
     "metadata": {},
     "output_type": "display_data"
    },
    {
     "data": {
      "text/html": [
       "<pre>| 7       | 262.763ms    | 0.598309               |</pre>"
      ],
      "text/plain": [
       "| 7       | 262.763ms    | 0.598309               |"
      ]
     },
     "metadata": {},
     "output_type": "display_data"
    },
    {
     "data": {
      "text/html": [
       "<pre>| 8       | 301.814ms    | 0.598309               |</pre>"
      ],
      "text/plain": [
       "| 8       | 301.814ms    | 0.598309               |"
      ]
     },
     "metadata": {},
     "output_type": "display_data"
    },
    {
     "data": {
      "text/html": [
       "<pre>| 9       | 337.179ms    | 0.598309               |</pre>"
      ],
      "text/plain": [
       "| 9       | 337.179ms    | 0.598309               |"
      ]
     },
     "metadata": {},
     "output_type": "display_data"
    },
    {
     "data": {
      "text/html": [
       "<pre>| 10      | 371.202ms    | 0.598309               |</pre>"
      ],
      "text/plain": [
       "| 10      | 371.202ms    | 0.598309               |"
      ]
     },
     "metadata": {},
     "output_type": "display_data"
    },
    {
     "data": {
      "text/html": [
       "<pre>| 11      | 395.981ms    | 0.598309               |</pre>"
      ],
      "text/plain": [
       "| 11      | 395.981ms    | 0.598309               |"
      ]
     },
     "metadata": {},
     "output_type": "display_data"
    },
    {
     "data": {
      "text/html": [
       "<pre>| 12      | 418.525ms    | 0.598309               |</pre>"
      ],
      "text/plain": [
       "| 12      | 418.525ms    | 0.598309               |"
      ]
     },
     "metadata": {},
     "output_type": "display_data"
    },
    {
     "data": {
      "text/html": [
       "<pre>| 13      | 442.323ms    | 0.598309               |</pre>"
      ],
      "text/plain": [
       "| 13      | 442.323ms    | 0.598309               |"
      ]
     },
     "metadata": {},
     "output_type": "display_data"
    },
    {
     "data": {
      "text/html": [
       "<pre>| 14      | 470.159ms    | 0.598309               |</pre>"
      ],
      "text/plain": [
       "| 14      | 470.159ms    | 0.598309               |"
      ]
     },
     "metadata": {},
     "output_type": "display_data"
    },
    {
     "data": {
      "text/html": [
       "<pre>| 15      | 503.83ms     | 0.598309               |</pre>"
      ],
      "text/plain": [
       "| 15      | 503.83ms     | 0.598309               |"
      ]
     },
     "metadata": {},
     "output_type": "display_data"
    },
    {
     "data": {
      "text/html": [
       "<pre>| 16      | 534.978ms    | 0.598309               |</pre>"
      ],
      "text/plain": [
       "| 16      | 534.978ms    | 0.598309               |"
      ]
     },
     "metadata": {},
     "output_type": "display_data"
    },
    {
     "data": {
      "text/html": [
       "<pre>| 17      | 562.684ms    | 0.598309               |</pre>"
      ],
      "text/plain": [
       "| 17      | 562.684ms    | 0.598309               |"
      ]
     },
     "metadata": {},
     "output_type": "display_data"
    },
    {
     "data": {
      "text/html": [
       "<pre>| 18      | 596.105ms    | 0.598309               |</pre>"
      ],
      "text/plain": [
       "| 18      | 596.105ms    | 0.598309               |"
      ]
     },
     "metadata": {},
     "output_type": "display_data"
    },
    {
     "data": {
      "text/html": [
       "<pre>| 19      | 616.679ms    | 0.598309               |</pre>"
      ],
      "text/plain": [
       "| 19      | 616.679ms    | 0.598309               |"
      ]
     },
     "metadata": {},
     "output_type": "display_data"
    },
    {
     "data": {
      "text/html": [
       "<pre>| 20      | 638.337ms    | 0.598309               |</pre>"
      ],
      "text/plain": [
       "| 20      | 638.337ms    | 0.598309               |"
      ]
     },
     "metadata": {},
     "output_type": "display_data"
    },
    {
     "data": {
      "text/html": [
       "<pre>| 21      | 662.42ms     | 0.598309               |</pre>"
      ],
      "text/plain": [
       "| 21      | 662.42ms     | 0.598309               |"
      ]
     },
     "metadata": {},
     "output_type": "display_data"
    },
    {
     "data": {
      "text/html": [
       "<pre>| 22      | 692.586ms    | 0.598309               |</pre>"
      ],
      "text/plain": [
       "| 22      | 692.586ms    | 0.598309               |"
      ]
     },
     "metadata": {},
     "output_type": "display_data"
    },
    {
     "data": {
      "text/html": [
       "<pre>| 23      | 705.736ms    | 0.598309               |</pre>"
      ],
      "text/plain": [
       "| 23      | 705.736ms    | 0.598309               |"
      ]
     },
     "metadata": {},
     "output_type": "display_data"
    },
    {
     "data": {
      "text/html": [
       "<pre>| 24      | 733.598ms    | 0.598309               |</pre>"
      ],
      "text/plain": [
       "| 24      | 733.598ms    | 0.598309               |"
      ]
     },
     "metadata": {},
     "output_type": "display_data"
    },
    {
     "data": {
      "text/html": [
       "<pre>| 25      | 767.566ms    | 0.598309               |</pre>"
      ],
      "text/plain": [
       "| 25      | 767.566ms    | 0.598309               |"
      ]
     },
     "metadata": {},
     "output_type": "display_data"
    },
    {
     "data": {
      "text/html": [
       "<pre>| 26      | 794.962ms    | 0.598309               |</pre>"
      ],
      "text/plain": [
       "| 26      | 794.962ms    | 0.598309               |"
      ]
     },
     "metadata": {},
     "output_type": "display_data"
    },
    {
     "data": {
      "text/html": [
       "<pre>| 27      | 824.277ms    | 0.598309               |</pre>"
      ],
      "text/plain": [
       "| 27      | 824.277ms    | 0.598309               |"
      ]
     },
     "metadata": {},
     "output_type": "display_data"
    },
    {
     "data": {
      "text/html": [
       "<pre>| 28      | 853.946ms    | 0.598309               |</pre>"
      ],
      "text/plain": [
       "| 28      | 853.946ms    | 0.598309               |"
      ]
     },
     "metadata": {},
     "output_type": "display_data"
    },
    {
     "data": {
      "text/html": [
       "<pre>| 29      | 878.054ms    | 0.598309               |</pre>"
      ],
      "text/plain": [
       "| 29      | 878.054ms    | 0.598309               |"
      ]
     },
     "metadata": {},
     "output_type": "display_data"
    },
    {
     "data": {
      "text/html": [
       "<pre>| 30      | 905.453ms    | 0.598309               |</pre>"
      ],
      "text/plain": [
       "| 30      | 905.453ms    | 0.598309               |"
      ]
     },
     "metadata": {},
     "output_type": "display_data"
    },
    {
     "data": {
      "text/html": [
       "<pre>| 31      | 929.015ms    | 0.598309               |</pre>"
      ],
      "text/plain": [
       "| 31      | 929.015ms    | 0.598309               |"
      ]
     },
     "metadata": {},
     "output_type": "display_data"
    },
    {
     "data": {
      "text/html": [
       "<pre>| 32      | 968.029ms    | 0.598309               |</pre>"
      ],
      "text/plain": [
       "| 32      | 968.029ms    | 0.598309               |"
      ]
     },
     "metadata": {},
     "output_type": "display_data"
    },
    {
     "data": {
      "text/html": [
       "<pre>| 33      | 980.776ms    | 0.598309               |</pre>"
      ],
      "text/plain": [
       "| 33      | 980.776ms    | 0.598309               |"
      ]
     },
     "metadata": {},
     "output_type": "display_data"
    },
    {
     "data": {
      "text/html": [
       "<pre>| 34      | 1.01s        | 0.598309               |</pre>"
      ],
      "text/plain": [
       "| 34      | 1.01s        | 0.598309               |"
      ]
     },
     "metadata": {},
     "output_type": "display_data"
    },
    {
     "data": {
      "text/html": [
       "<pre>| 35      | 1.04s        | 0.598309               |</pre>"
      ],
      "text/plain": [
       "| 35      | 1.04s        | 0.598309               |"
      ]
     },
     "metadata": {},
     "output_type": "display_data"
    },
    {
     "data": {
      "text/html": [
       "<pre>| 36      | 1.07s        | 0.598309               |</pre>"
      ],
      "text/plain": [
       "| 36      | 1.07s        | 0.598309               |"
      ]
     },
     "metadata": {},
     "output_type": "display_data"
    },
    {
     "data": {
      "text/html": [
       "<pre>| 37      | 1.10s        | 0.598309               |</pre>"
      ],
      "text/plain": [
       "| 37      | 1.10s        | 0.598309               |"
      ]
     },
     "metadata": {},
     "output_type": "display_data"
    },
    {
     "data": {
      "text/html": [
       "<pre>| 38      | 1.13s        | 0.598309               |</pre>"
      ],
      "text/plain": [
       "| 38      | 1.13s        | 0.598309               |"
      ]
     },
     "metadata": {},
     "output_type": "display_data"
    },
    {
     "data": {
      "text/html": [
       "<pre>| 39      | 1.16s        | 0.598309               |</pre>"
      ],
      "text/plain": [
       "| 39      | 1.16s        | 0.598309               |"
      ]
     },
     "metadata": {},
     "output_type": "display_data"
    },
    {
     "data": {
      "text/html": [
       "<pre>| 40      | 1.17s        | 0.598309               |</pre>"
      ],
      "text/plain": [
       "| 40      | 1.17s        | 0.598309               |"
      ]
     },
     "metadata": {},
     "output_type": "display_data"
    },
    {
     "data": {
      "text/html": [
       "<pre>| 41      | 1.20s        | 0.598309               |</pre>"
      ],
      "text/plain": [
       "| 41      | 1.20s        | 0.598309               |"
      ]
     },
     "metadata": {},
     "output_type": "display_data"
    },
    {
     "data": {
      "text/html": [
       "<pre>| 42      | 1.23s        | 0.598309               |</pre>"
      ],
      "text/plain": [
       "| 42      | 1.23s        | 0.598309               |"
      ]
     },
     "metadata": {},
     "output_type": "display_data"
    },
    {
     "data": {
      "text/html": [
       "<pre>| 43      | 1.26s        | 0.598309               |</pre>"
      ],
      "text/plain": [
       "| 43      | 1.26s        | 0.598309               |"
      ]
     },
     "metadata": {},
     "output_type": "display_data"
    },
    {
     "data": {
      "text/html": [
       "<pre>| 44      | 1.30s        | 0.598309               |</pre>"
      ],
      "text/plain": [
       "| 44      | 1.30s        | 0.598309               |"
      ]
     },
     "metadata": {},
     "output_type": "display_data"
    },
    {
     "data": {
      "text/html": [
       "<pre>| 45      | 1.33s        | 0.598309               |</pre>"
      ],
      "text/plain": [
       "| 45      | 1.33s        | 0.598309               |"
      ]
     },
     "metadata": {},
     "output_type": "display_data"
    },
    {
     "data": {
      "text/html": [
       "<pre>| 46      | 1.35s        | 0.598309               |</pre>"
      ],
      "text/plain": [
       "| 46      | 1.35s        | 0.598309               |"
      ]
     },
     "metadata": {},
     "output_type": "display_data"
    },
    {
     "data": {
      "text/html": [
       "<pre>| 47      | 1.38s        | 0.598309               |</pre>"
      ],
      "text/plain": [
       "| 47      | 1.38s        | 0.598309               |"
      ]
     },
     "metadata": {},
     "output_type": "display_data"
    },
    {
     "data": {
      "text/html": [
       "<pre>| 48      | 1.42s        | 0.598309               |</pre>"
      ],
      "text/plain": [
       "| 48      | 1.42s        | 0.598309               |"
      ]
     },
     "metadata": {},
     "output_type": "display_data"
    },
    {
     "data": {
      "text/html": [
       "<pre>| 49      | 1.46s        | 0.598309               |</pre>"
      ],
      "text/plain": [
       "| 49      | 1.46s        | 0.598309               |"
      ]
     },
     "metadata": {},
     "output_type": "display_data"
    },
    {
     "data": {
      "text/html": [
       "<pre>| FINAL   | 1.46s        | 0.598309               |</pre>"
      ],
      "text/plain": [
       "| FINAL   | 1.46s        | 0.598309               |"
      ]
     },
     "metadata": {},
     "output_type": "display_data"
    },
    {
     "data": {
      "text/html": [
       "<pre>+---------+--------------+------------------------+</pre>"
      ],
      "text/plain": [
       "+---------+--------------+------------------------+"
      ]
     },
     "metadata": {},
     "output_type": "display_data"
    },
    {
     "data": {
      "text/html": [
       "<pre>Optimization Complete: Iteration limit reached.</pre>"
      ],
      "text/plain": [
       "Optimization Complete: Iteration limit reached."
      ]
     },
     "metadata": {},
     "output_type": "display_data"
    }
   ],
   "source": [
    "model = graphlab.recommender.factorization_recommender.create(sf_train, user_id='new_user_id', item_id='new_course_id',target='rating',solver='als',side_data_factorization=False, num_factors = 10, regularization=0.1)"
   ]
  },
  {
   "cell_type": "code",
   "execution_count": 18,
   "metadata": {
    "collapsed": true
   },
   "outputs": [],
   "source": [
    "predictions_test = model.predict(sf_test)\n",
    "rmse = np.sqrt(mean_squared_error(sf_test['rating'], predictions_test))"
   ]
  },
  {
   "cell_type": "code",
   "execution_count": 19,
   "metadata": {},
   "outputs": [
    {
     "data": {
      "text/html": [
       "<pre>recommendations finished on 1000/12294 queries. users per second: 6636.18</pre>"
      ],
      "text/plain": [
       "recommendations finished on 1000/12294 queries. users per second: 6636.18"
      ]
     },
     "metadata": {},
     "output_type": "display_data"
    },
    {
     "data": {
      "text/html": [
       "<pre>recommendations finished on 2000/12294 queries. users per second: 13030.6</pre>"
      ],
      "text/plain": [
       "recommendations finished on 2000/12294 queries. users per second: 13030.6"
      ]
     },
     "metadata": {},
     "output_type": "display_data"
    },
    {
     "data": {
      "text/html": [
       "<pre>recommendations finished on 3000/12294 queries. users per second: 19168</pre>"
      ],
      "text/plain": [
       "recommendations finished on 3000/12294 queries. users per second: 19168"
      ]
     },
     "metadata": {},
     "output_type": "display_data"
    },
    {
     "data": {
      "text/html": [
       "<pre>recommendations finished on 4000/12294 queries. users per second: 25111</pre>"
      ],
      "text/plain": [
       "recommendations finished on 4000/12294 queries. users per second: 25111"
      ]
     },
     "metadata": {},
     "output_type": "display_data"
    },
    {
     "data": {
      "text/html": [
       "<pre>recommendations finished on 5000/12294 queries. users per second: 30842.9</pre>"
      ],
      "text/plain": [
       "recommendations finished on 5000/12294 queries. users per second: 30842.9"
      ]
     },
     "metadata": {},
     "output_type": "display_data"
    },
    {
     "data": {
      "text/html": [
       "<pre>recommendations finished on 6000/12294 queries. users per second: 36385.5</pre>"
      ],
      "text/plain": [
       "recommendations finished on 6000/12294 queries. users per second: 36385.5"
      ]
     },
     "metadata": {},
     "output_type": "display_data"
    },
    {
     "data": {
      "text/html": [
       "<pre>recommendations finished on 7000/12294 queries. users per second: 41655</pre>"
      ],
      "text/plain": [
       "recommendations finished on 7000/12294 queries. users per second: 41655"
      ]
     },
     "metadata": {},
     "output_type": "display_data"
    },
    {
     "data": {
      "text/html": [
       "<pre>recommendations finished on 8000/12294 queries. users per second: 46778.2</pre>"
      ],
      "text/plain": [
       "recommendations finished on 8000/12294 queries. users per second: 46778.2"
      ]
     },
     "metadata": {},
     "output_type": "display_data"
    },
    {
     "data": {
      "text/html": [
       "<pre>recommendations finished on 9000/12294 queries. users per second: 51754.8</pre>"
      ],
      "text/plain": [
       "recommendations finished on 9000/12294 queries. users per second: 51754.8"
      ]
     },
     "metadata": {},
     "output_type": "display_data"
    },
    {
     "data": {
      "text/html": [
       "<pre>recommendations finished on 10000/12294 queries. users per second: 56597.9</pre>"
      ],
      "text/plain": [
       "recommendations finished on 10000/12294 queries. users per second: 56597.9"
      ]
     },
     "metadata": {},
     "output_type": "display_data"
    },
    {
     "data": {
      "text/html": [
       "<pre>recommendations finished on 11000/12294 queries. users per second: 61303.2</pre>"
      ],
      "text/plain": [
       "recommendations finished on 11000/12294 queries. users per second: 61303.2"
      ]
     },
     "metadata": {},
     "output_type": "display_data"
    },
    {
     "data": {
      "text/html": [
       "<pre>recommendations finished on 12000/12294 queries. users per second: 65150.5</pre>"
      ],
      "text/plain": [
       "recommendations finished on 12000/12294 queries. users per second: 65150.5"
      ]
     },
     "metadata": {},
     "output_type": "display_data"
    },
    {
     "data": {
      "text/html": [
       "<div style=\"max-height:1000px;max-width:1500px;overflow:auto;\"><table frame=\"box\" rules=\"cols\">\n",
       "    <tr>\n",
       "        <th style=\"padding-left: 1em; padding-right: 1em; text-align: center\">new_user_id</th>\n",
       "        <th style=\"padding-left: 1em; padding-right: 1em; text-align: center\">new_course_id</th>\n",
       "        <th style=\"padding-left: 1em; padding-right: 1em; text-align: center\">score</th>\n",
       "        <th style=\"padding-left: 1em; padding-right: 1em; text-align: center\">rank</th>\n",
       "    </tr>\n",
       "    <tr>\n",
       "        <td style=\"padding-left: 1em; padding-right: 1em; text-align: center; vertical-align: top\">90879</td>\n",
       "        <td style=\"padding-left: 1em; padding-right: 1em; text-align: center; vertical-align: top\">495</td>\n",
       "        <td style=\"padding-left: 1em; padding-right: 1em; text-align: center; vertical-align: top\">4.77225723057</td>\n",
       "        <td style=\"padding-left: 1em; padding-right: 1em; text-align: center; vertical-align: top\">1</td>\n",
       "    </tr>\n",
       "    <tr>\n",
       "        <td style=\"padding-left: 1em; padding-right: 1em; text-align: center; vertical-align: top\">90879</td>\n",
       "        <td style=\"padding-left: 1em; padding-right: 1em; text-align: center; vertical-align: top\">555</td>\n",
       "        <td style=\"padding-left: 1em; padding-right: 1em; text-align: center; vertical-align: top\">4.77225723057</td>\n",
       "        <td style=\"padding-left: 1em; padding-right: 1em; text-align: center; vertical-align: top\">2</td>\n",
       "    </tr>\n",
       "    <tr>\n",
       "        <td style=\"padding-left: 1em; padding-right: 1em; text-align: center; vertical-align: top\">90879</td>\n",
       "        <td style=\"padding-left: 1em; padding-right: 1em; text-align: center; vertical-align: top\">594</td>\n",
       "        <td style=\"padding-left: 1em; padding-right: 1em; text-align: center; vertical-align: top\">4.77225723057</td>\n",
       "        <td style=\"padding-left: 1em; padding-right: 1em; text-align: center; vertical-align: top\">3</td>\n",
       "    </tr>\n",
       "    <tr>\n",
       "        <td style=\"padding-left: 1em; padding-right: 1em; text-align: center; vertical-align: top\">90879</td>\n",
       "        <td style=\"padding-left: 1em; padding-right: 1em; text-align: center; vertical-align: top\">342</td>\n",
       "        <td style=\"padding-left: 1em; padding-right: 1em; text-align: center; vertical-align: top\">4.77225723057</td>\n",
       "        <td style=\"padding-left: 1em; padding-right: 1em; text-align: center; vertical-align: top\">4</td>\n",
       "    </tr>\n",
       "    <tr>\n",
       "        <td style=\"padding-left: 1em; padding-right: 1em; text-align: center; vertical-align: top\">90879</td>\n",
       "        <td style=\"padding-left: 1em; padding-right: 1em; text-align: center; vertical-align: top\">803</td>\n",
       "        <td style=\"padding-left: 1em; padding-right: 1em; text-align: center; vertical-align: top\">4.77225723057</td>\n",
       "        <td style=\"padding-left: 1em; padding-right: 1em; text-align: center; vertical-align: top\">5</td>\n",
       "    </tr>\n",
       "    <tr>\n",
       "        <td style=\"padding-left: 1em; padding-right: 1em; text-align: center; vertical-align: top\">90879</td>\n",
       "        <td style=\"padding-left: 1em; padding-right: 1em; text-align: center; vertical-align: top\">614</td>\n",
       "        <td style=\"padding-left: 1em; padding-right: 1em; text-align: center; vertical-align: top\">4.77225723057</td>\n",
       "        <td style=\"padding-left: 1em; padding-right: 1em; text-align: center; vertical-align: top\">6</td>\n",
       "    </tr>\n",
       "    <tr>\n",
       "        <td style=\"padding-left: 1em; padding-right: 1em; text-align: center; vertical-align: top\">90879</td>\n",
       "        <td style=\"padding-left: 1em; padding-right: 1em; text-align: center; vertical-align: top\">418</td>\n",
       "        <td style=\"padding-left: 1em; padding-right: 1em; text-align: center; vertical-align: top\">4.77225723057</td>\n",
       "        <td style=\"padding-left: 1em; padding-right: 1em; text-align: center; vertical-align: top\">7</td>\n",
       "    </tr>\n",
       "    <tr>\n",
       "        <td style=\"padding-left: 1em; padding-right: 1em; text-align: center; vertical-align: top\">90879</td>\n",
       "        <td style=\"padding-left: 1em; padding-right: 1em; text-align: center; vertical-align: top\">644</td>\n",
       "        <td style=\"padding-left: 1em; padding-right: 1em; text-align: center; vertical-align: top\">4.77225723057</td>\n",
       "        <td style=\"padding-left: 1em; padding-right: 1em; text-align: center; vertical-align: top\">8</td>\n",
       "    </tr>\n",
       "    <tr>\n",
       "        <td style=\"padding-left: 1em; padding-right: 1em; text-align: center; vertical-align: top\">90879</td>\n",
       "        <td style=\"padding-left: 1em; padding-right: 1em; text-align: center; vertical-align: top\">266</td>\n",
       "        <td style=\"padding-left: 1em; padding-right: 1em; text-align: center; vertical-align: top\">4.77225723057</td>\n",
       "        <td style=\"padding-left: 1em; padding-right: 1em; text-align: center; vertical-align: top\">9</td>\n",
       "    </tr>\n",
       "    <tr>\n",
       "        <td style=\"padding-left: 1em; padding-right: 1em; text-align: center; vertical-align: top\">90879</td>\n",
       "        <td style=\"padding-left: 1em; padding-right: 1em; text-align: center; vertical-align: top\">365</td>\n",
       "        <td style=\"padding-left: 1em; padding-right: 1em; text-align: center; vertical-align: top\">4.77225723057</td>\n",
       "        <td style=\"padding-left: 1em; padding-right: 1em; text-align: center; vertical-align: top\">10</td>\n",
       "    </tr>\n",
       "</table>\n",
       "[122940 rows x 4 columns]<br/>Note: Only the head of the SFrame is printed.<br/>You can use print_rows(num_rows=m, num_columns=n) to print more rows and columns.\n",
       "</div>"
      ],
      "text/plain": [
       "Columns:\n",
       "\tnew_user_id\tint\n",
       "\tnew_course_id\tint\n",
       "\tscore\tfloat\n",
       "\trank\tint\n",
       "\n",
       "Rows: 122940\n",
       "\n",
       "Data:\n",
       "+-------------+---------------+---------------+------+\n",
       "| new_user_id | new_course_id |     score     | rank |\n",
       "+-------------+---------------+---------------+------+\n",
       "|    90879    |      495      | 4.77225723057 |  1   |\n",
       "|    90879    |      555      | 4.77225723057 |  2   |\n",
       "|    90879    |      594      | 4.77225723057 |  3   |\n",
       "|    90879    |      342      | 4.77225723057 |  4   |\n",
       "|    90879    |      803      | 4.77225723057 |  5   |\n",
       "|    90879    |      614      | 4.77225723057 |  6   |\n",
       "|    90879    |      418      | 4.77225723057 |  7   |\n",
       "|    90879    |      644      | 4.77225723057 |  8   |\n",
       "|    90879    |      266      | 4.77225723057 |  9   |\n",
       "|    90879    |      365      | 4.77225723057 |  10  |\n",
       "+-------------+---------------+---------------+------+\n",
       "[122940 rows x 4 columns]\n",
       "Note: Only the head of the SFrame is printed.\n",
       "You can use print_rows(num_rows=m, num_columns=n) to print more rows and columns."
      ]
     },
     "execution_count": 19,
     "metadata": {},
     "output_type": "execute_result"
    }
   ],
   "source": [
    "model.recommend()"
   ]
  },
  {
   "cell_type": "code",
   "execution_count": 20,
   "metadata": {},
   "outputs": [
    {
     "data": {
      "text/plain": [
       "dtype: float\n",
       "Rows: 12867\n",
       "[4.772257230570364, 4.772257230570364, 4.772257230570364, 4.772257230570364, 4.772257230570364, 4.772257230570364, 4.772257230570364, 4.772257230570364, 4.772257230570364, 4.772257230570364, 4.772257230570364, 4.772257230570364, 4.772257230570364, 4.772257230570364, 4.772257230570364, 4.772257230570364, 4.772257230570364, 4.772257230570364, 4.772257230570364, 4.772257230570364, 4.772257230570364, 4.772257230570364, 4.772257230570364, 4.772257230570364, 4.772257230570364, 4.772257230570364, 4.772257230570364, 4.772257230570364, 4.772257230570364, 4.772257230570364, 4.772257230570364, 4.772257230570364, 4.772257230570364, 4.772257230570364, 4.772257230570364, 4.772257230570364, 4.772257230570364, 4.772257230570364, 4.772257230570364, 4.772257230570364, 4.772257230570364, 4.772257230570364, 4.772257230570364, 4.772257230570364, 4.772257230570364, 4.772257230570364, 4.772257230570364, 4.772257230570364, 4.772257230570364, 4.772257230570364, 4.772257230570364, 4.772257230570364, 4.772257230570364, 4.772257230570364, 4.772257230570364, 4.772257230570364, 4.772257230570364, 4.772257230570364, 4.772257230570364, 4.772257230570364, 4.772257230570364, 4.772257230570364, 4.772257230570364, 4.772257230570364, 4.772257230570364, 4.772257230570364, 4.772257230570364, 4.772257230570364, 4.772257230570364, 4.772257230570364, 4.772257230570364, 4.772257230570364, 4.772257230570364, 4.772257230570364, 4.772257230570364, 4.772257230570364, 4.772257230570364, 4.772257230570364, 4.772257230570364, 4.772257230570364, 4.772257230570364, 4.772257230570364, 4.772257230570364, 4.772257230570364, 4.772257230570364, 4.772257230570364, 4.772257230570364, 4.772257230570364, 4.772257230570364, 4.772257230570364, 4.772257230570364, 4.772257230570364, 4.772257230570364, 4.772257230570364, 4.772257230570364, 4.772257230570364, 4.772257230570364, 4.772257230570364, 4.772257230570364, 4.772257230570364, ... ]"
      ]
     },
     "execution_count": 20,
     "metadata": {},
     "output_type": "execute_result"
    }
   ],
   "source": [
    "predictions_test"
   ]
  },
  {
   "cell_type": "code",
   "execution_count": 21,
   "metadata": {},
   "outputs": [
    {
     "name": "stdout",
     "output_type": "stream",
     "text": [
      "test set rmse:  0.616235861638\n"
     ]
    }
   ],
   "source": [
    "print \"test set rmse: \", rmse"
   ]
  },
  {
   "cell_type": "code",
   "execution_count": null,
   "metadata": {
    "collapsed": true
   },
   "outputs": [],
   "source": []
  }
 ],
 "metadata": {
  "kernelspec": {
   "display_name": "Python 2",
   "language": "python",
   "name": "python2"
  },
  "language_info": {
   "codemirror_mode": {
    "name": "ipython",
    "version": 2
   },
   "file_extension": ".py",
   "mimetype": "text/x-python",
   "name": "python",
   "nbconvert_exporter": "python",
   "pygments_lexer": "ipython2",
   "version": "2.7.13"
  }
 },
 "nbformat": 4,
 "nbformat_minor": 2
}
