{
 "cells": [
  {
   "cell_type": "code",
   "execution_count": 1,
   "metadata": {},
   "outputs": [
    {
     "name": "stderr",
     "output_type": "stream",
     "text": [
      "/home/anusha/anaconda2/lib/python2.7/site-packages/sklearn/cross_validation.py:44: DeprecationWarning: This module was deprecated in version 0.18 in favor of the model_selection module into which all the refactored classes and functions are moved. Also note that the interface of the new CV iterators are different from that of this module. This module will be removed in 0.20.\n",
      "  \"This module will be removed in 0.20.\", DeprecationWarning)\n"
     ]
    }
   ],
   "source": [
    "import numpy as np\n",
    "import pandas as pd\n",
    "import matplotlib.pyplot as plt\n",
    "import scipy.sparse as sp\n",
    "from time import time\n",
    "from sklearn.metrics import mean_squared_error\n",
    "from sklearn.metrics.pairwise import cosine_similarity\n",
    "from scipy.stats.stats import pearsonr\n",
    "import graphlab\n",
    "from sklearn.cross_validation import train_test_split\n",
    "%matplotlib inline"
   ]
  },
  {
   "cell_type": "code",
   "execution_count": 2,
   "metadata": {
    "collapsed": true
   },
   "outputs": [],
   "source": [
    "df = pd.read_csv(\"processed_data.csv\")"
   ]
  },
  {
   "cell_type": "code",
   "execution_count": 3,
   "metadata": {
    "collapsed": true
   },
   "outputs": [],
   "source": [
    "n_users = df.userid.nunique()\n",
    "n_items = df.course_id.nunique()"
   ]
  },
  {
   "cell_type": "code",
   "execution_count": 4,
   "metadata": {},
   "outputs": [
    {
     "data": {
      "text/plain": [
       "(289628, 36)"
      ]
     },
     "execution_count": 4,
     "metadata": {},
     "output_type": "execute_result"
    }
   ],
   "source": [
    "cold_users = df[df[\"user_review_count\"] <=2]\n",
    "cold_users.shape"
   ]
  },
  {
   "cell_type": "code",
   "execution_count": 5,
   "metadata": {},
   "outputs": [
    {
     "data": {
      "text/plain": [
       "(47583, 36)"
      ]
     },
     "execution_count": 5,
     "metadata": {},
     "output_type": "execute_result"
    }
   ],
   "source": [
    "reg = df[df[\"user_review_count\"] > 2]\n",
    "reg.shape"
   ]
  },
  {
   "cell_type": "code",
   "execution_count": 6,
   "metadata": {
    "collapsed": true
   },
   "outputs": [],
   "source": [
    "train_df = pd.read_csv(\"train.csv\")\n",
    "test_df = pd.read_csv(\"test.csv\")\n",
    "validate_df = pd.read_csv(\"validation.csv\")"
   ]
  },
  {
   "cell_type": "code",
   "execution_count": 7,
   "metadata": {},
   "outputs": [
    {
     "name": "stdout",
     "output_type": "stream",
     "text": [
      "4.77225723057\n"
     ]
    }
   ],
   "source": [
    "ybar = train_df[\"rating\"].mean()\n",
    "print ybar"
   ]
  },
  {
   "cell_type": "code",
   "execution_count": 8,
   "metadata": {
    "collapsed": true
   },
   "outputs": [],
   "source": [
    "predictions_train_base = [ybar]*train_df.shape[0]\n",
    "predictions_test_base = [ybar]*test_df.shape[0]\n",
    "predictions_validation_base = [ybar]*validate_df.shape[0]"
   ]
  },
  {
   "cell_type": "code",
   "execution_count": 9,
   "metadata": {
    "collapsed": true
   },
   "outputs": [],
   "source": [
    "def get_rmse(s, s_predict):\n",
    "    mse = mean_squared_error(s, s_predict)\n",
    "    return np.sqrt(mse)"
   ]
  },
  {
   "cell_type": "code",
   "execution_count": 10,
   "metadata": {
    "collapsed": true
   },
   "outputs": [],
   "source": [
    "train_base_rmse = get_rmse(train_df[\"rating\"], predictions_train_base)\n",
    "test_base_rmse = get_rmse(test_df[\"rating\"], predictions_test_base)\n",
    "validation_base_rmse = get_rmse(validate_df[\"rating\"], predictions_validation_base)"
   ]
  },
  {
   "cell_type": "code",
   "execution_count": 11,
   "metadata": {},
   "outputs": [
    {
     "name": "stdout",
     "output_type": "stream",
     "text": [
      "base model training rmse:  0.598308674307\n",
      "base model validation rmse:  0.604317926174\n",
      "base model test rmse:  0.616235861638\n"
     ]
    }
   ],
   "source": [
    "print \"base model training rmse: \", train_base_rmse\n",
    "print \"base model validation rmse: \", validation_base_rmse\n",
    "print \"base model test rmse: \", test_base_rmse"
   ]
  },
  {
   "cell_type": "code",
   "execution_count": 12,
   "metadata": {
    "collapsed": true
   },
   "outputs": [],
   "source": [
    "train_userids_dic = {}\n",
    "for i in train_df[\"userid\"].unique():\n",
    "    train_userids_dic[i] = (train_df[train_df[\"userid\"]==i].rating.mean())-ybar"
   ]
  },
  {
   "cell_type": "code",
   "execution_count": 13,
   "metadata": {
    "collapsed": true
   },
   "outputs": [],
   "source": [
    "train_courseids_dic = {}\n",
    "for i in train_df[\"course_id\"].unique():\n",
    "    train_courseids_dic[i] = (train_df[train_df[\"course_id\"]==i].rating.mean())-ybar"
   ]
  },
  {
   "cell_type": "code",
   "execution_count": 14,
   "metadata": {
    "collapsed": true
   },
   "outputs": [],
   "source": [
    "train_avgs={'mean':ybar, 'users':train_userids_dic, 'items':train_courseids_dic}"
   ]
  },
  {
   "cell_type": "code",
   "execution_count": 15,
   "metadata": {
    "collapsed": true
   },
   "outputs": [],
   "source": [
    "def bias_baseline(df):\n",
    "    predictions = []\n",
    "    for i in xrange(len(df)):\n",
    "        row = df.iloc[i]\n",
    "        user = row[\"userid\"]\n",
    "        course = row[\"course_id\"]\n",
    "        if course not in train_courseids_dic.keys() and user not in train_userids_dic.keys():\n",
    "            predictions.append(ybar)\n",
    "        elif course not in train_courseids_dic.keys():\n",
    "            predictions.append(ybar+train_userids_dic[user])\n",
    "        elif user not in train_userids_dic.keys():\n",
    "            predictions.append(ybar+train_courseids_dic[course])\n",
    "        else:\n",
    "            predictions.append(ybar+train_userids_dic[user]+train_courseids_dic[course])\n",
    "            \n",
    "    return predictions"
   ]
  },
  {
   "cell_type": "code",
   "execution_count": 16,
   "metadata": {
    "collapsed": true
   },
   "outputs": [],
   "source": [
    "predictions_train_biasmodel = bias_baseline(train_df)\n",
    "predictions_test_biasmodel = bias_baseline(test_df)\n",
    "predictions_validation_biasmodel = bias_baseline(validate_df)"
   ]
  },
  {
   "cell_type": "code",
   "execution_count": 17,
   "metadata": {
    "collapsed": true
   },
   "outputs": [],
   "source": [
    "train_bias_rmse = get_rmse(train_df[\"rating\"], predictions_train_biasmodel)\n",
    "test_bias_rmse = get_rmse(test_df[\"rating\"], predictions_test_biasmodel)\n",
    "validation_bias_rmse = get_rmse(validate_df[\"rating\"], predictions_validation_biasmodel)"
   ]
  },
  {
   "cell_type": "code",
   "execution_count": 18,
   "metadata": {},
   "outputs": [
    {
     "name": "stdout",
     "output_type": "stream",
     "text": [
      "bias model training rmse:  0.365101642064\n",
      "bias model validation rmse:  0.735938573011\n",
      "bias model test rmse:  0.707701339847\n"
     ]
    }
   ],
   "source": [
    "print \"bias model training rmse: \", train_bias_rmse\n",
    "print \"bias model validation rmse: \", validation_bias_rmse\n",
    "print \"bias model test rmse: \", test_bias_rmse"
   ]
  },
  {
   "cell_type": "markdown",
   "metadata": {},
   "source": [
    "#### Random train test split"
   ]
  },
  {
   "cell_type": "code",
   "execution_count": 19,
   "metadata": {
    "collapsed": true
   },
   "outputs": [],
   "source": [
    "train_data, test_data = train_test_split(reg, test_size=0.25)"
   ]
  },
  {
   "cell_type": "code",
   "execution_count": 20,
   "metadata": {
    "collapsed": true
   },
   "outputs": [],
   "source": [
    "train_data, validation_data = train_test_split(train_data, train_size=0.75)"
   ]
  },
  {
   "cell_type": "code",
   "execution_count": 21,
   "metadata": {},
   "outputs": [
    {
     "name": "stdout",
     "output_type": "stream",
     "text": [
      "4.76256304876\n"
     ]
    }
   ],
   "source": [
    "ybar_random = train_data[\"rating\"].mean()\n",
    "print ybar_random"
   ]
  },
  {
   "cell_type": "code",
   "execution_count": 22,
   "metadata": {
    "collapsed": true
   },
   "outputs": [],
   "source": [
    "predictions_train_random_base = [ybar_random]*train_data.shape[0]\n",
    "predictions_test_random_base = [ybar_random]*test_data.shape[0]\n",
    "predictions_validation_random_base = [ybar_random]*validation_data.shape[0]"
   ]
  },
  {
   "cell_type": "code",
   "execution_count": 23,
   "metadata": {
    "collapsed": true
   },
   "outputs": [],
   "source": [
    "train_base_random_rmse = get_rmse(train_data[\"rating\"], predictions_train_random_base)\n",
    "test_base_random_rmse = get_rmse(test_data[\"rating\"], predictions_test_random_base)\n",
    "validation_base_random_rmse = get_rmse(validation_data[\"rating\"], predictions_validation_random_base)"
   ]
  },
  {
   "cell_type": "code",
   "execution_count": 24,
   "metadata": {},
   "outputs": [
    {
     "name": "stdout",
     "output_type": "stream",
     "text": [
      "random base model training rmse:  0.606185445945\n",
      "random base model validation rmse:  0.592666298427\n",
      "random base model test rmse:  0.609199399768\n"
     ]
    }
   ],
   "source": [
    "print \"random base model training rmse: \", train_base_random_rmse\n",
    "print \"random base model validation rmse: \", validation_base_random_rmse\n",
    "print \"random base model test rmse: \", test_base_random_rmse"
   ]
  },
  {
   "cell_type": "code",
   "execution_count": 25,
   "metadata": {
    "collapsed": true
   },
   "outputs": [],
   "source": [
    "train_userids_dic_random = {}\n",
    "for i in train_data[\"userid\"].unique():\n",
    "    train_userids_dic_random[i] = (train_data[train_data[\"userid\"]==i].rating.mean())-ybar_random"
   ]
  },
  {
   "cell_type": "code",
   "execution_count": 26,
   "metadata": {
    "collapsed": true
   },
   "outputs": [],
   "source": [
    "train_courseids_dic_random = {}\n",
    "for i in train_data[\"course_id\"].unique():\n",
    "    train_courseids_dic_random[i] = (train_data[train_data[\"course_id\"]==i].rating.mean())-ybar_random"
   ]
  },
  {
   "cell_type": "code",
   "execution_count": 27,
   "metadata": {
    "collapsed": true
   },
   "outputs": [],
   "source": [
    "train_avgs_random={'mean':ybar_random, 'users':train_userids_dic_random, 'items':train_courseids_dic_random}"
   ]
  },
  {
   "cell_type": "code",
   "execution_count": 28,
   "metadata": {
    "collapsed": true
   },
   "outputs": [],
   "source": [
    "def bias_baseline_random(df):\n",
    "    predictions = []\n",
    "    for i in xrange(len(df)):\n",
    "        row = df.iloc[i]\n",
    "        user = row[\"userid\"]\n",
    "        course = row[\"course_id\"]\n",
    "        if course not in train_courseids_dic_random.keys() and user not in train_userids_dic_random.keys():\n",
    "            predictions.append(ybar_random)\n",
    "        elif course not in train_courseids_dic_random.keys():\n",
    "            predictions.append(ybar_random+train_userids_dic_random[user])\n",
    "        elif user not in train_userids_dic_random.keys():\n",
    "            predictions.append(ybar_random+train_courseids_dic_random[course])\n",
    "        else:\n",
    "            predictions.append(ybar_random+train_userids_dic_random[user]+train_courseids_dic_random[course])\n",
    "            \n",
    "    return predictions"
   ]
  },
  {
   "cell_type": "code",
   "execution_count": 29,
   "metadata": {
    "collapsed": true
   },
   "outputs": [],
   "source": [
    "predictions_train_biasmodel_random = bias_baseline_random(train_data)\n",
    "predictions_test_biasmodel_random = bias_baseline_random(test_data)\n",
    "predictions_validation_biasmodel_random = bias_baseline_random(validation_data)"
   ]
  },
  {
   "cell_type": "code",
   "execution_count": 30,
   "metadata": {
    "collapsed": true
   },
   "outputs": [],
   "source": [
    "train_bias_rmse_random = get_rmse(train_data[\"rating\"], predictions_train_biasmodel_random)\n",
    "test_bias_rmse_random = get_rmse(test_data[\"rating\"], predictions_test_biasmodel_random)\n",
    "validation_bias_rmse_random = get_rmse(validation_data[\"rating\"], predictions_validation_biasmodel_random)"
   ]
  },
  {
   "cell_type": "code",
   "execution_count": 31,
   "metadata": {},
   "outputs": [
    {
     "name": "stdout",
     "output_type": "stream",
     "text": [
      "bias model training rmse random:  0.400233964998\n",
      "bias model validation rmse random:  0.645229978019\n",
      "bias model test rmse random:  0.669751988115\n"
     ]
    }
   ],
   "source": [
    "print \"bias model training rmse random: \", train_bias_rmse_random\n",
    "print \"bias model validation rmse random: \", validation_bias_rmse_random\n",
    "print \"bias model test rmse random: \", test_bias_rmse_random"
   ]
  },
  {
   "cell_type": "code",
   "execution_count": 32,
   "metadata": {
    "collapsed": true
   },
   "outputs": [],
   "source": [
    "similarities_dictionary = np.load('similarities_corr.npy').item()"
   ]
  },
  {
   "cell_type": "code",
   "execution_count": 33,
   "metadata": {},
   "outputs": [
    {
     "data": {
      "text/plain": [
       "475800"
      ]
     },
     "execution_count": 33,
     "metadata": {},
     "output_type": "execute_result"
    }
   ],
   "source": [
    "len(similarities_dictionary.keys())"
   ]
  },
  {
   "cell_type": "code",
   "execution_count": null,
   "metadata": {
    "collapsed": true
   },
   "outputs": [],
   "source": []
  }
 ],
 "metadata": {
  "kernelspec": {
   "display_name": "Python 2",
   "language": "python",
   "name": "python2"
  },
  "language_info": {
   "codemirror_mode": {
    "name": "ipython",
    "version": 2
   },
   "file_extension": ".py",
   "mimetype": "text/x-python",
   "name": "python",
   "nbconvert_exporter": "python",
   "pygments_lexer": "ipython2",
   "version": "2.7.13"
  }
 },
 "nbformat": 4,
 "nbformat_minor": 2
}
