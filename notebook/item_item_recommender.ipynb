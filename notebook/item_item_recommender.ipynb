{
 "cells": [
  {
   "cell_type": "code",
   "execution_count": 31,
   "metadata": {},
   "outputs": [],
   "source": [
    "import numpy as np\n",
    "import pandas as pd\n",
    "import matplotlib.pyplot as plt\n",
    "import scipy.sparse as sp\n",
    "from time import time\n",
    "from sklearn.metrics import mean_squared_error\n",
    "from sklearn.metrics.pairwise import pairwise_distances\n",
    "from sklearn.metrics.pairwise import cosine_similarity\n",
    "from sklearn.metrics import mean_squared_error\n",
    "from scipy.stats.stats import pearsonr\n",
    "import graphlab\n",
    "from sklearn.cross_validation import train_test_split\n",
    "from math import sqrt\n",
    "%matplotlib inline"
   ]
  },
  {
   "cell_type": "code",
   "execution_count": 32,
   "metadata": {
    "collapsed": true
   },
   "outputs": [],
   "source": [
    "df = pd.read_csv(\"processed_data.csv\")"
   ]
  },
  {
   "cell_type": "code",
   "execution_count": 33,
   "metadata": {},
   "outputs": [
    {
     "data": {
      "text/plain": [
       "(47583, 36)"
      ]
     },
     "execution_count": 33,
     "metadata": {},
     "output_type": "execute_result"
    }
   ],
   "source": [
    "reg = df[df[\"user_review_count\"] > 2]\n",
    "reg.shape"
   ]
  },
  {
   "cell_type": "code",
   "execution_count": 34,
   "metadata": {
    "collapsed": true
   },
   "outputs": [],
   "source": [
    "high_user = reg.new_user_id.max()\n",
    "high_item = reg.new_course_id.max()"
   ]
  },
  {
   "cell_type": "code",
   "execution_count": 35,
   "metadata": {
    "collapsed": true
   },
   "outputs": [],
   "source": [
    "train_df = pd.read_csv(\"train.csv\")\n",
    "test_df = pd.read_csv(\"test.csv\")\n",
    "validate_df = pd.read_csv(\"validation.csv\")"
   ]
  },
  {
   "cell_type": "code",
   "execution_count": 36,
   "metadata": {
    "collapsed": true
   },
   "outputs": [],
   "source": [
    "train_df = train_df[[\"new_course_id\", \"new_user_id\", \"rating\"]]\n",
    "validate_df = validate_df[[\"new_course_id\", \"new_user_id\", \"rating\"]]\n",
    "test_df = test_df[[\"new_course_id\", \"new_user_id\", \"rating\"]]"
   ]
  },
  {
   "cell_type": "code",
   "execution_count": 37,
   "metadata": {},
   "outputs": [
    {
     "data": {
      "text/html": [
       "<div>\n",
       "<style>\n",
       "    .dataframe thead tr:only-child th {\n",
       "        text-align: right;\n",
       "    }\n",
       "\n",
       "    .dataframe thead th {\n",
       "        text-align: left;\n",
       "    }\n",
       "\n",
       "    .dataframe tbody tr th {\n",
       "        vertical-align: top;\n",
       "    }\n",
       "</style>\n",
       "<table border=\"1\" class=\"dataframe\">\n",
       "  <thead>\n",
       "    <tr style=\"text-align: right;\">\n",
       "      <th></th>\n",
       "      <th>new_course_id</th>\n",
       "      <th>new_user_id</th>\n",
       "      <th>rating</th>\n",
       "    </tr>\n",
       "  </thead>\n",
       "  <tbody>\n",
       "    <tr>\n",
       "      <th>0</th>\n",
       "      <td>198</td>\n",
       "      <td>90879</td>\n",
       "      <td>5.0</td>\n",
       "    </tr>\n",
       "    <tr>\n",
       "      <th>1</th>\n",
       "      <td>643</td>\n",
       "      <td>90879</td>\n",
       "      <td>5.0</td>\n",
       "    </tr>\n",
       "    <tr>\n",
       "      <th>2</th>\n",
       "      <td>79</td>\n",
       "      <td>90879</td>\n",
       "      <td>5.0</td>\n",
       "    </tr>\n",
       "    <tr>\n",
       "      <th>3</th>\n",
       "      <td>365</td>\n",
       "      <td>257277</td>\n",
       "      <td>5.0</td>\n",
       "    </tr>\n",
       "    <tr>\n",
       "      <th>4</th>\n",
       "      <td>198</td>\n",
       "      <td>124321</td>\n",
       "      <td>5.0</td>\n",
       "    </tr>\n",
       "  </tbody>\n",
       "</table>\n",
       "</div>"
      ],
      "text/plain": [
       "   new_course_id  new_user_id  rating\n",
       "0            198        90879     5.0\n",
       "1            643        90879     5.0\n",
       "2             79        90879     5.0\n",
       "3            365       257277     5.0\n",
       "4            198       124321     5.0"
      ]
     },
     "execution_count": 37,
     "metadata": {},
     "output_type": "execute_result"
    }
   ],
   "source": [
    "train_df.head()"
   ]
  },
  {
   "cell_type": "code",
   "execution_count": 38,
   "metadata": {
    "collapsed": true
   },
   "outputs": [],
   "source": [
    "train_df_matrix = np.zeros((high_user, high_item))\n",
    "for line in train_df.itertuples():\n",
    "    train_df_matrix[line[2]-1, line[1]-1] = line[3]"
   ]
  },
  {
   "cell_type": "code",
   "execution_count": 39,
   "metadata": {
    "collapsed": true
   },
   "outputs": [],
   "source": [
    "validation_df_matrix = np.zeros((high_user, high_item))\n",
    "for line in validate_df.itertuples():\n",
    "    validation_df_matrix[line[2]-1, line[1]-1] = line[3]"
   ]
  },
  {
   "cell_type": "code",
   "execution_count": 40,
   "metadata": {
    "collapsed": true
   },
   "outputs": [],
   "source": [
    "test_df_matrix = np.zeros((high_user, high_item))\n",
    "for line in test_df.itertuples():\n",
    "    test_df_matrix[line[2]-1, line[1]-1] = line[3]"
   ]
  },
  {
   "cell_type": "code",
   "execution_count": 41,
   "metadata": {},
   "outputs": [],
   "source": [
    "items_sim = cosine_similarity(train_df_matrix.T)\n",
    "least_to_most = np.argsort(items_sim,1)\n",
    "neighborhood = least_to_most[:, -75:]"
   ]
  },
  {
   "cell_type": "code",
   "execution_count": 42,
   "metadata": {
    "collapsed": true
   },
   "outputs": [],
   "source": [
    "n_items = reg[\"new_course_id\"].nunique()\n",
    "userid = 90879"
   ]
  },
  {
   "cell_type": "code",
   "execution_count": 43,
   "metadata": {
    "collapsed": true
   },
   "outputs": [],
   "source": [
    "items_rated_by_user = train_df_matrix[userid-1].nonzero()"
   ]
  },
  {
   "cell_type": "code",
   "execution_count": 44,
   "metadata": {},
   "outputs": [
    {
     "data": {
      "text/plain": [
       "(array([ 78, 197, 642]),)"
      ]
     },
     "execution_count": 44,
     "metadata": {},
     "output_type": "execute_result"
    }
   ],
   "source": [
    "items_rated_by_user"
   ]
  },
  {
   "cell_type": "code",
   "execution_count": 45,
   "metadata": {
    "collapsed": true
   },
   "outputs": [],
   "source": [
    "def pred_one_user(userid):\n",
    "    items_rated_by_user = train_df_matrix[userid-1].nonzero()[0]\n",
    "    out = np.zeros(n_items)\n",
    "    for item_to_rate in range(n_items):\n",
    "        #print item_to_rate\n",
    "        relevant_items = np.intersect1d(neighborhood[item_to_rate],items_rated_by_user, assume_unique=True)\n",
    "        \n",
    "        out[item_to_rate] = np.mean((train_df_matrix[userid-1, relevant_items] * items_sim[item_to_rate, relevant_items]) / items_sim[item_to_rate, relevant_items].sum())\n",
    "    cleaned_out = np.nan_to_num(out)\n",
    "    return np.where(cleaned_out > 0)[0], cleaned_out[cleaned_out > 0]"
   ]
  },
  {
   "cell_type": "code",
   "execution_count": 46,
   "metadata": {},
   "outputs": [
    {
     "data": {
      "text/plain": [
       "(array([  5,   7,  12,  15,  16,  21,  24,  28,  30,  37,  38,  43,  44,\n",
       "         47,  53,  54,  59,  64,  68,  71,  72,  73,  78,  82,  86,  87,\n",
       "         88,  94,  96,  98,  99, 103, 104, 110, 112, 119, 128, 129, 133,\n",
       "        145, 150, 153, 154, 155, 156, 157, 167, 168, 170, 174, 182, 184,\n",
       "        185, 187, 197, 206, 207, 210, 211, 213, 214, 216, 217, 222, 224,\n",
       "        229, 230, 232, 233, 235, 237, 238, 245, 247, 251, 254, 256, 257,\n",
       "        259, 262, 263, 265, 268, 270, 271, 276, 285, 286, 287, 288, 289,\n",
       "        293, 295, 298, 301, 302, 303, 306, 307, 310, 312, 318, 323, 328,\n",
       "        331, 333, 341, 342, 345, 346, 348, 351, 353, 357, 360, 363, 364,\n",
       "        366, 368, 369, 371, 374, 375, 377, 380, 381, 385, 386, 387, 390,\n",
       "        393, 395, 397, 398, 402, 410, 413, 416, 417, 419, 420, 422, 423,\n",
       "        424, 429, 430, 431, 434, 438, 439, 440, 442, 452, 459, 464, 470,\n",
       "        471, 480, 483, 484, 485, 486, 489, 490, 493, 494, 499, 501, 506,\n",
       "        511, 512, 515, 524, 529, 531, 533, 534, 537, 545, 549, 550, 553,\n",
       "        554, 557, 560, 565, 567, 573, 576, 577, 583, 585, 589, 593, 596,\n",
       "        602, 603, 608, 610, 613, 615, 617, 620, 621, 631, 634, 638, 641,\n",
       "        642, 643, 645, 648, 655, 656, 658, 669, 670, 674, 677, 678, 679,\n",
       "        682, 686, 692, 694, 695, 704, 706, 709, 719, 721, 736, 739, 742,\n",
       "        744, 748, 749, 761, 763, 765, 768, 772, 773, 775, 776, 784, 789,\n",
       "        790, 795, 800, 802, 804, 805, 809, 811, 812, 814, 816, 821, 824,\n",
       "        825, 828, 829, 830, 832, 833, 839, 844, 848, 852, 856, 857, 858,\n",
       "        859, 860, 880, 881, 883, 891, 894, 895, 898, 906, 909, 919, 922, 925]),\n",
       " array([ 2.5       ,  5.        ,  2.5       ,  5.        ,  5.        ,\n",
       "         2.5       ,  2.5       ,  5.        ,  5.        ,  5.        ,\n",
       "         2.5       ,  2.5       ,  2.5       ,  2.5       ,  2.5       ,\n",
       "         5.        ,  5.        ,  5.        ,  2.5       ,  5.        ,\n",
       "         5.        ,  5.        ,  1.66666667,  5.        ,  2.5       ,\n",
       "         2.5       ,  5.        ,  5.        ,  5.        ,  5.        ,\n",
       "         2.5       ,  5.        ,  5.        ,  5.        ,  2.5       ,\n",
       "         5.        ,  5.        ,  2.5       ,  5.        ,  5.        ,\n",
       "         5.        ,  5.        ,  5.        ,  2.5       ,  2.5       ,\n",
       "         5.        ,  2.5       ,  5.        ,  5.        ,  2.5       ,\n",
       "         5.        ,  5.        ,  2.5       ,  5.        ,  2.5       ,\n",
       "         5.        ,  5.        ,  5.        ,  5.        ,  5.        ,\n",
       "         5.        ,  5.        ,  5.        ,  5.        ,  5.        ,\n",
       "         5.        ,  2.5       ,  1.66666667,  5.        ,  5.        ,\n",
       "         2.5       ,  2.5       ,  5.        ,  2.5       ,  2.5       ,\n",
       "         2.5       ,  5.        ,  2.5       ,  5.        ,  5.        ,\n",
       "         5.        ,  5.        ,  5.        ,  5.        ,  5.        ,\n",
       "         5.        ,  5.        ,  2.5       ,  5.        ,  5.        ,\n",
       "         5.        ,  5.        ,  2.5       ,  5.        ,  1.66666667,\n",
       "         5.        ,  5.        ,  5.        ,  5.        ,  5.        ,\n",
       "         5.        ,  5.        ,  5.        ,  5.        ,  5.        ,\n",
       "         5.        ,  5.        ,  5.        ,  5.        ,  5.        ,\n",
       "         5.        ,  5.        ,  2.5       ,  5.        ,  2.5       ,\n",
       "         5.        ,  5.        ,  5.        ,  5.        ,  5.        ,\n",
       "         5.        ,  2.5       ,  2.5       ,  5.        ,  2.5       ,\n",
       "         5.        ,  2.5       ,  5.        ,  5.        ,  5.        ,\n",
       "         5.        ,  5.        ,  5.        ,  5.        ,  5.        ,\n",
       "         5.        ,  5.        ,  5.        ,  2.5       ,  2.5       ,\n",
       "         5.        ,  2.5       ,  5.        ,  5.        ,  5.        ,\n",
       "         2.5       ,  5.        ,  5.        ,  2.5       ,  5.        ,\n",
       "         5.        ,  5.        ,  5.        ,  5.        ,  5.        ,\n",
       "         5.        ,  2.5       ,  5.        ,  5.        ,  5.        ,\n",
       "         1.66666667,  5.        ,  5.        ,  5.        ,  5.        ,\n",
       "         2.5       ,  2.5       ,  5.        ,  5.        ,  2.5       ,\n",
       "         5.        ,  5.        ,  5.        ,  2.5       ,  5.        ,\n",
       "         1.66666667,  2.5       ,  5.        ,  5.        ,  5.        ,\n",
       "         5.        ,  5.        ,  5.        ,  5.        ,  5.        ,\n",
       "         5.        ,  5.        ,  5.        ,  2.5       ,  5.        ,\n",
       "         5.        ,  5.        ,  5.        ,  5.        ,  5.        ,\n",
       "         2.5       ,  2.5       ,  5.        ,  5.        ,  5.        ,\n",
       "         2.5       ,  5.        ,  2.5       ,  5.        ,  5.        ,\n",
       "         5.        ,  5.        ,  5.        ,  5.        ,  5.        ,\n",
       "         5.        ,  5.        ,  5.        ,  5.        ,  5.        ,\n",
       "         5.        ,  5.        ,  2.5       ,  2.5       ,  2.5       ,\n",
       "         2.5       ,  5.        ,  5.        ,  5.        ,  5.        ,\n",
       "         2.5       ,  5.        ,  1.66666667,  2.5       ,  5.        ,\n",
       "         5.        ,  5.        ,  5.        ,  2.5       ,  5.        ,\n",
       "         2.5       ,  5.        ,  5.        ,  5.        ,  5.        ,\n",
       "         5.        ,  5.        ,  2.5       ,  5.        ,  2.5       ,\n",
       "         2.5       ,  5.        ,  2.5       ,  1.66666667,  5.        ,\n",
       "         2.5       ,  5.        ,  5.        ,  5.        ,  5.        ,\n",
       "         5.        ,  5.        ,  5.        ,  5.        ,  2.5       ,\n",
       "         5.        ,  5.        ,  5.        ,  2.5       ,  1.66666667,\n",
       "         5.        ,  5.        ,  2.5       ,  5.        ,  5.        ,\n",
       "         5.        ,  2.5       ,  5.        ,  5.        ,  5.        ,\n",
       "         5.        ,  5.        ,  5.        ,  5.        ,  5.        ,\n",
       "         5.        ,  5.        ,  5.        ,  2.5       ,  5.        ,\n",
       "         2.5       ,  5.        ]))"
      ]
     },
     "execution_count": 46,
     "metadata": {},
     "output_type": "execute_result"
    }
   ],
   "source": [
    "pred_one_user(userid)"
   ]
  },
  {
   "cell_type": "code",
   "execution_count": 47,
   "metadata": {},
   "outputs": [
    {
     "name": "stderr",
     "output_type": "stream",
     "text": [
      "/home/anusha/anaconda2/lib/python2.7/site-packages/ipykernel_launcher.py:8: RuntimeWarning: invalid value encountered in divide\n",
      "  \n"
     ]
    }
   ],
   "source": [
    "item_item_pred = {}\n",
    "for i in test_df[\"new_user_id\"].unique():\n",
    "    #print i\n",
    "    item_item_pred[i] = pred_one_user(i)"
   ]
  },
  {
   "cell_type": "code",
   "execution_count": 48,
   "metadata": {},
   "outputs": [
    {
     "data": {
      "text/plain": [
       "(array([  2,   6,   7,  21,  27,  28,  37,  40,  41,  47,  49,  54,  55,\n",
       "         59,  65,  66,  75,  76,  85,  86,  87,  94,  96,  98, 104, 107,\n",
       "        110, 115, 123, 128, 129, 133, 150, 151, 153, 154, 155, 163, 170,\n",
       "        172, 174, 175, 180, 182, 184, 185, 187, 197, 201, 206, 210, 211,\n",
       "        217, 219, 223, 224, 226, 231, 233, 235, 236, 237, 239, 249, 250,\n",
       "        251, 252, 254, 256, 259, 260, 265, 272, 275, 276, 282, 285, 286,\n",
       "        289, 293, 294, 298, 303, 306, 309, 311, 318, 326, 330, 333, 341,\n",
       "        344, 345, 350, 351, 360, 364, 366, 368, 369, 371, 374, 375, 380,\n",
       "        388, 390, 392, 395, 396, 397, 398, 402, 406, 407, 410, 413, 415,\n",
       "        417, 418, 419, 422, 423, 425, 430, 431, 433, 434, 438, 441, 450,\n",
       "        452, 464, 467, 469, 472, 474, 480, 482, 484, 485, 489, 494, 496,\n",
       "        498, 499, 500, 501, 506, 509, 511, 512, 513, 516, 525, 526, 539,\n",
       "        541, 542, 545, 546, 549, 552, 553, 555, 557, 559, 565, 567, 575,\n",
       "        577, 580, 583, 585, 593, 594, 601, 603, 605, 608, 609, 612, 614,\n",
       "        615, 620, 624, 626, 628, 632, 634, 636, 641, 642, 643, 645, 652,\n",
       "        653, 655, 656, 658, 660, 665, 670, 677, 682, 686, 692, 693, 695,\n",
       "        698, 703, 705, 706, 709, 711, 719, 726, 728, 735, 736, 737, 738,\n",
       "        742, 754, 759, 761, 763, 764, 765, 768, 770, 772, 773, 775, 776,\n",
       "        780, 783, 785, 789, 790, 793, 795, 798, 799, 800, 802, 804, 805,\n",
       "        814, 825, 828, 832, 833, 836, 837, 839, 840, 844, 845, 856, 857,\n",
       "        861, 866, 875, 880, 881, 882, 883, 884, 886, 887, 890, 891, 894,\n",
       "        895, 899, 905, 906, 907, 909, 912, 913, 916, 917, 919, 922, 932, 935]),\n",
       " array([ 5.,  5.,  5.,  5.,  5.,  5.,  5.,  5.,  5.,  5.,  5.,  5.,  5.,\n",
       "         5.,  5.,  5.,  5.,  5.,  5.,  5.,  5.,  5.,  5.,  5.,  5.,  5.,\n",
       "         5.,  5.,  5.,  5.,  5.,  5.,  5.,  5.,  5.,  5.,  5.,  5.,  5.,\n",
       "         5.,  5.,  5.,  5.,  5.,  5.,  5.,  5.,  5.,  5.,  5.,  5.,  5.,\n",
       "         5.,  5.,  5.,  5.,  5.,  5.,  5.,  5.,  5.,  5.,  5.,  5.,  5.,\n",
       "         5.,  5.,  5.,  5.,  5.,  5.,  5.,  5.,  5.,  5.,  5.,  5.,  5.,\n",
       "         5.,  5.,  5.,  5.,  5.,  5.,  5.,  5.,  5.,  5.,  5.,  5.,  5.,\n",
       "         5.,  5.,  5.,  5.,  5.,  5.,  5.,  5.,  5.,  5.,  5.,  5.,  5.,\n",
       "         5.,  5.,  5.,  5.,  5.,  5.,  5.,  5.,  5.,  5.,  5.,  5.,  5.,\n",
       "         5.,  5.,  5.,  5.,  5.,  5.,  5.,  5.,  5.,  5.,  5.,  5.,  5.,\n",
       "         5.,  5.,  5.,  5.,  5.,  5.,  5.,  5.,  5.,  5.,  5.,  5.,  5.,\n",
       "         5.,  5.,  5.,  5.,  5.,  5.,  5.,  5.,  5.,  5.,  5.,  5.,  5.,\n",
       "         5.,  5.,  5.,  5.,  5.,  5.,  5.,  5.,  5.,  5.,  5.,  5.,  5.,\n",
       "         5.,  5.,  5.,  5.,  5.,  5.,  5.,  5.,  5.,  5.,  5.,  5.,  5.,\n",
       "         5.,  5.,  5.,  5.,  5.,  5.,  5.,  5.,  5.,  5.,  5.,  5.,  5.,\n",
       "         5.,  5.,  5.,  5.,  5.,  5.,  5.,  5.,  5.,  5.,  5.,  5.,  5.,\n",
       "         5.,  5.,  5.,  5.,  5.,  5.,  5.,  5.,  5.,  5.,  5.,  5.,  5.,\n",
       "         5.,  5.,  5.,  5.,  5.,  5.,  5.,  5.,  5.,  5.,  5.,  5.,  5.,\n",
       "         5.,  5.,  5.,  5.,  5.,  5.,  5.,  5.,  5.,  5.,  5.,  5.,  5.,\n",
       "         5.,  5.,  5.,  5.,  5.,  5.,  5.,  5.,  5.,  5.,  5.,  5.,  5.,\n",
       "         5.,  5.,  5.,  5.,  5.,  5.,  5.,  5.,  5.,  5.,  5.,  5.,  5.,\n",
       "         5.,  5.,  5.,  5.,  5.,  5.,  5.,  5.,  5.,  5.,  5.,  5.,  5.,  5.]))"
      ]
     },
     "execution_count": 48,
     "metadata": {},
     "output_type": "execute_result"
    }
   ],
   "source": [
    "item_item_pred[229383]"
   ]
  },
  {
   "cell_type": "code",
   "execution_count": 49,
   "metadata": {
    "collapsed": true
   },
   "outputs": [],
   "source": [
    "ybar = train_df.rating.mean()"
   ]
  },
  {
   "cell_type": "code",
   "execution_count": 50,
   "metadata": {
    "collapsed": true
   },
   "outputs": [],
   "source": [
    "predictions = []\n",
    "for i in xrange(len(test_df)):\n",
    "    userid = test_df.iloc[i][\"new_user_id\"]\n",
    "    item_not_rated = test_df.iloc[i][\"new_course_id\"]\n",
    "    rel_items = item_item_pred[userid][0]\n",
    "    if item_not_rated in rel_items:\n",
    "        idx = np.where(item_item_pred[userid][0] == item_not_rated)\n",
    "        predictions.append(item_item_pred[userid][1][idx])\n",
    "    else:\n",
    "        if item_not_rated in train_df.new_course_id.unique():\n",
    "            predictions.append(train_df[train_df[\"new_course_id\"] == item_not_rated][\"rating\"].mean())\n",
    "        else:\n",
    "            predictions.append(ybar)"
   ]
  },
  {
   "cell_type": "code",
   "execution_count": 51,
   "metadata": {},
   "outputs": [
    {
     "data": {
      "text/plain": [
       "12867"
      ]
     },
     "execution_count": 51,
     "metadata": {},
     "output_type": "execute_result"
    }
   ],
   "source": [
    "len(predictions)"
   ]
  },
  {
   "cell_type": "code",
   "execution_count": 52,
   "metadata": {},
   "outputs": [
    {
     "data": {
      "text/html": [
       "<div>\n",
       "<style>\n",
       "    .dataframe thead tr:only-child th {\n",
       "        text-align: right;\n",
       "    }\n",
       "\n",
       "    .dataframe thead th {\n",
       "        text-align: left;\n",
       "    }\n",
       "\n",
       "    .dataframe tbody tr th {\n",
       "        vertical-align: top;\n",
       "    }\n",
       "</style>\n",
       "<table border=\"1\" class=\"dataframe\">\n",
       "  <thead>\n",
       "    <tr style=\"text-align: right;\">\n",
       "      <th></th>\n",
       "      <th>new_course_id</th>\n",
       "      <th>new_user_id</th>\n",
       "      <th>rating</th>\n",
       "    </tr>\n",
       "  </thead>\n",
       "  <tbody>\n",
       "    <tr>\n",
       "      <th>2342</th>\n",
       "      <td>342</td>\n",
       "      <td>229383</td>\n",
       "      <td>5.0</td>\n",
       "    </tr>\n",
       "  </tbody>\n",
       "</table>\n",
       "</div>"
      ],
      "text/plain": [
       "      new_course_id  new_user_id  rating\n",
       "2342            342       229383     5.0"
      ]
     },
     "execution_count": 52,
     "metadata": {},
     "output_type": "execute_result"
    }
   ],
   "source": [
    "test_df[test_df[\"new_user_id\"] == 229383]"
   ]
  },
  {
   "cell_type": "code",
   "execution_count": 53,
   "metadata": {
    "collapsed": true
   },
   "outputs": [],
   "source": [
    "def get_rmse(true_rat, predictions):\n",
    "    return np.sqrt(mean_squared_error(true_rat, predictions))"
   ]
  },
  {
   "cell_type": "code",
   "execution_count": 54,
   "metadata": {},
   "outputs": [
    {
     "data": {
      "text/plain": [
       "0.83251624505910471"
      ]
     },
     "execution_count": 54,
     "metadata": {},
     "output_type": "execute_result"
    }
   ],
   "source": [
    "get_rmse(test_df[\"rating\"], predictions)"
   ]
  },
  {
   "cell_type": "code",
   "execution_count": null,
   "metadata": {
    "collapsed": true
   },
   "outputs": [],
   "source": []
  }
 ],
 "metadata": {
  "kernelspec": {
   "display_name": "Python 2",
   "language": "python",
   "name": "python2"
  },
  "language_info": {
   "codemirror_mode": {
    "name": "ipython",
    "version": 2
   },
   "file_extension": ".py",
   "mimetype": "text/x-python",
   "name": "python",
   "nbconvert_exporter": "python",
   "pygments_lexer": "ipython2",
   "version": "2.7.13"
  }
 },
 "nbformat": 4,
 "nbformat_minor": 2
}
