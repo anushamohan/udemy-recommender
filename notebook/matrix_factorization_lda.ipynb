{
 "cells": [
  {
   "cell_type": "code",
   "execution_count": 25,
   "metadata": {
    "collapsed": true
   },
   "outputs": [],
   "source": [
    "import numpy as np\n",
    "import pandas as pd\n",
    "import matplotlib.pyplot as plt\n",
    "import scipy.sparse as sp\n",
    "from time import time\n",
    "from sklearn.metrics import mean_squared_error\n",
    "from sklearn.metrics.pairwise import pairwise_distances\n",
    "from scipy.stats.stats import pearsonr\n",
    "import graphlab\n",
    "from sklearn.cross_validation import train_test_split\n",
    "from math import sqrt\n",
    "import scipy.sparse as sp\n",
    "from scipy.sparse.linalg import svds\n",
    "%matplotlib inline"
   ]
  },
  {
   "cell_type": "code",
   "execution_count": 26,
   "metadata": {
    "collapsed": true
   },
   "outputs": [],
   "source": [
    "from pattern.vector import stem, PORTER, LEMMA\n",
    "punctuation = list(\".,;:!?()[]{}`'\\\"@#$^&*+-|=~_\")\n",
    "from mrjob.job import MRJob\n",
    "from collections import Counter, defaultdict\n",
    "import nltk\n",
    "from sklearn.feature_extraction.text import CountVectorizer\n",
    "from sklearn.feature_extraction.text import TfidfTransformer\n",
    "from collections import Counter\n",
    "import gensim\n",
    "import string\n",
    "from nltk.corpus import stopwords\n",
    "from nltk.stem.wordnet import WordNetLemmatizer\n",
    "import string\n",
    "from gensim import corpora\n",
    "import operator"
   ]
  },
  {
   "cell_type": "code",
   "execution_count": 27,
   "metadata": {
    "collapsed": true
   },
   "outputs": [],
   "source": [
    "df = pd.read_csv(\"processed_data.csv\")"
   ]
  },
  {
   "cell_type": "code",
   "execution_count": 28,
   "metadata": {},
   "outputs": [
    {
     "data": {
      "text/plain": [
       "(47583, 36)"
      ]
     },
     "execution_count": 28,
     "metadata": {},
     "output_type": "execute_result"
    }
   ],
   "source": [
    "reg = df[df[\"user_review_count\"] > 2]\n",
    "reg.shape"
   ]
  },
  {
   "cell_type": "code",
   "execution_count": 29,
   "metadata": {
    "collapsed": true
   },
   "outputs": [],
   "source": [
    "n_users = reg.userid.nunique()\n",
    "n_items = reg.course_id.nunique()"
   ]
  },
  {
   "cell_type": "code",
   "execution_count": 30,
   "metadata": {
    "collapsed": true
   },
   "outputs": [],
   "source": [
    "train_df = pd.read_csv(\"train.csv\")\n",
    "test_df = pd.read_csv(\"test.csv\")\n",
    "validate_df = pd.read_csv(\"validation.csv\")"
   ]
  },
  {
   "cell_type": "code",
   "execution_count": 9,
   "metadata": {
    "collapsed": true
   },
   "outputs": [],
   "source": [
    "train_df = train_df[[\"new_course_id\", \"new_user_id\", \"rating\"]]\n",
    "validate_df = validate_df[[\"new_course_id\", \"new_user_id\", \"rating\"]]\n",
    "test_df = test_df[[\"new_course_id\", \"new_user_id\", \"rating\"]]"
   ]
  },
  {
   "cell_type": "code",
   "execution_count": 8,
   "metadata": {
    "collapsed": true
   },
   "outputs": [],
   "source": [
    "sf_train = graphlab.SFrame(train_df)\n",
    "sf_validation = graphlab.SFrame(validate_df)\n",
    "sf_test = graphlab.SFrame(test_df)"
   ]
  },
  {
   "cell_type": "code",
   "execution_count": 8,
   "metadata": {},
   "outputs": [
    {
     "data": {
      "text/html": [
       "<pre>Recsys training: model = factorization_recommender</pre>"
      ],
      "text/plain": [
       "Recsys training: model = factorization_recommender"
      ]
     },
     "metadata": {},
     "output_type": "display_data"
    },
    {
     "data": {
      "text/html": [
       "<pre>Preparing data set.</pre>"
      ],
      "text/plain": [
       "Preparing data set."
      ]
     },
     "metadata": {},
     "output_type": "display_data"
    },
    {
     "data": {
      "text/html": [
       "<pre>    Data has 24756 observations with 12294 users and 894 items.</pre>"
      ],
      "text/plain": [
       "    Data has 24756 observations with 12294 users and 894 items."
      ]
     },
     "metadata": {},
     "output_type": "display_data"
    },
    {
     "data": {
      "text/html": [
       "<pre>    Data prepared in: 0.298951s</pre>"
      ],
      "text/plain": [
       "    Data prepared in: 0.298951s"
      ]
     },
     "metadata": {},
     "output_type": "display_data"
    },
    {
     "data": {
      "text/html": [
       "<pre>Training factorization_recommender for recommendations.</pre>"
      ],
      "text/plain": [
       "Training factorization_recommender for recommendations."
      ]
     },
     "metadata": {},
     "output_type": "display_data"
    },
    {
     "data": {
      "text/html": [
       "<pre>+------------------------------+--------------------------------------------------+----------+</pre>"
      ],
      "text/plain": [
       "+------------------------------+--------------------------------------------------+----------+"
      ]
     },
     "metadata": {},
     "output_type": "display_data"
    },
    {
     "data": {
      "text/html": [
       "<pre>| Parameter                    | Description                                      | Value    |</pre>"
      ],
      "text/plain": [
       "| Parameter                    | Description                                      | Value    |"
      ]
     },
     "metadata": {},
     "output_type": "display_data"
    },
    {
     "data": {
      "text/html": [
       "<pre>+------------------------------+--------------------------------------------------+----------+</pre>"
      ],
      "text/plain": [
       "+------------------------------+--------------------------------------------------+----------+"
      ]
     },
     "metadata": {},
     "output_type": "display_data"
    },
    {
     "data": {
      "text/html": [
       "<pre>| num_factors                  | Factor Dimension                                 | 4        |</pre>"
      ],
      "text/plain": [
       "| num_factors                  | Factor Dimension                                 | 4        |"
      ]
     },
     "metadata": {},
     "output_type": "display_data"
    },
    {
     "data": {
      "text/html": [
       "<pre>| regularization               | L2 Regularization on Factors                     | 1e-08    |</pre>"
      ],
      "text/plain": [
       "| regularization               | L2 Regularization on Factors                     | 1e-08    |"
      ]
     },
     "metadata": {},
     "output_type": "display_data"
    },
    {
     "data": {
      "text/html": [
       "<pre>| max_iterations               | Maximum Number of Iterations                     | 50       |</pre>"
      ],
      "text/plain": [
       "| max_iterations               | Maximum Number of Iterations                     | 50       |"
      ]
     },
     "metadata": {},
     "output_type": "display_data"
    },
    {
     "data": {
      "text/html": [
       "<pre>| solver                       | Solver used for training                         | als      |</pre>"
      ],
      "text/plain": [
       "| solver                       | Solver used for training                         | als      |"
      ]
     },
     "metadata": {},
     "output_type": "display_data"
    },
    {
     "data": {
      "text/html": [
       "<pre>+------------------------------+--------------------------------------------------+----------+</pre>"
      ],
      "text/plain": [
       "+------------------------------+--------------------------------------------------+----------+"
      ]
     },
     "metadata": {},
     "output_type": "display_data"
    },
    {
     "data": {
      "text/html": [
       "<pre>+---------+--------------+------------------------+</pre>"
      ],
      "text/plain": [
       "+---------+--------------+------------------------+"
      ]
     },
     "metadata": {},
     "output_type": "display_data"
    },
    {
     "data": {
      "text/html": [
       "<pre>| Iter.   | Elapsed time | RMSE                   |</pre>"
      ],
      "text/plain": [
       "| Iter.   | Elapsed time | RMSE                   |"
      ]
     },
     "metadata": {},
     "output_type": "display_data"
    },
    {
     "data": {
      "text/html": [
       "<pre>+---------+--------------+------------------------+</pre>"
      ],
      "text/plain": [
       "+---------+--------------+------------------------+"
      ]
     },
     "metadata": {},
     "output_type": "display_data"
    },
    {
     "data": {
      "text/html": [
       "<pre>| Initial | 87us         | NA                     |</pre>"
      ],
      "text/plain": [
       "| Initial | 87us         | NA                     |"
      ]
     },
     "metadata": {},
     "output_type": "display_data"
    },
    {
     "data": {
      "text/html": [
       "<pre>+---------+--------------+------------------------+</pre>"
      ],
      "text/plain": [
       "+---------+--------------+------------------------+"
      ]
     },
     "metadata": {},
     "output_type": "display_data"
    },
    {
     "data": {
      "text/html": [
       "<pre>| 0       | 51.616ms     | 0.285356               |</pre>"
      ],
      "text/plain": [
       "| 0       | 51.616ms     | 0.285356               |"
      ]
     },
     "metadata": {},
     "output_type": "display_data"
    },
    {
     "data": {
      "text/html": [
       "<pre>| 1       | 89.88ms      | 0.0772764              |</pre>"
      ],
      "text/plain": [
       "| 1       | 89.88ms      | 0.0772764              |"
      ]
     },
     "metadata": {},
     "output_type": "display_data"
    },
    {
     "data": {
      "text/html": [
       "<pre>| 2       | 124.781ms    | 0.0676727              |</pre>"
      ],
      "text/plain": [
       "| 2       | 124.781ms    | 0.0676727              |"
      ]
     },
     "metadata": {},
     "output_type": "display_data"
    },
    {
     "data": {
      "text/html": [
       "<pre>| 3       | 147.103ms    | 0.0620156              |</pre>"
      ],
      "text/plain": [
       "| 3       | 147.103ms    | 0.0620156              |"
      ]
     },
     "metadata": {},
     "output_type": "display_data"
    },
    {
     "data": {
      "text/html": [
       "<pre>| 4       | 193.544ms    | 0.0583208              |</pre>"
      ],
      "text/plain": [
       "| 4       | 193.544ms    | 0.0583208              |"
      ]
     },
     "metadata": {},
     "output_type": "display_data"
    },
    {
     "data": {
      "text/html": [
       "<pre>| 5       | 223.281ms    | 0.0554799              |</pre>"
      ],
      "text/plain": [
       "| 5       | 223.281ms    | 0.0554799              |"
      ]
     },
     "metadata": {},
     "output_type": "display_data"
    },
    {
     "data": {
      "text/html": [
       "<pre>| 6       | 263.036ms    | 0.052985               |</pre>"
      ],
      "text/plain": [
       "| 6       | 263.036ms    | 0.052985               |"
      ]
     },
     "metadata": {},
     "output_type": "display_data"
    },
    {
     "data": {
      "text/html": [
       "<pre>| 7       | 299.594ms    | 0.050928               |</pre>"
      ],
      "text/plain": [
       "| 7       | 299.594ms    | 0.050928               |"
      ]
     },
     "metadata": {},
     "output_type": "display_data"
    },
    {
     "data": {
      "text/html": [
       "<pre>| 8       | 341.056ms    | 0.0493376              |</pre>"
      ],
      "text/plain": [
       "| 8       | 341.056ms    | 0.0493376              |"
      ]
     },
     "metadata": {},
     "output_type": "display_data"
    },
    {
     "data": {
      "text/html": [
       "<pre>| 9       | 388.507ms    | 0.0480092              |</pre>"
      ],
      "text/plain": [
       "| 9       | 388.507ms    | 0.0480092              |"
      ]
     },
     "metadata": {},
     "output_type": "display_data"
    },
    {
     "data": {
      "text/html": [
       "<pre>| 10      | 430.941ms    | 0.0468701              |</pre>"
      ],
      "text/plain": [
       "| 10      | 430.941ms    | 0.0468701              |"
      ]
     },
     "metadata": {},
     "output_type": "display_data"
    },
    {
     "data": {
      "text/html": [
       "<pre>| 11      | 466.809ms    | 0.045877               |</pre>"
      ],
      "text/plain": [
       "| 11      | 466.809ms    | 0.045877               |"
      ]
     },
     "metadata": {},
     "output_type": "display_data"
    },
    {
     "data": {
      "text/html": [
       "<pre>| 12      | 502.392ms    | 0.044998               |</pre>"
      ],
      "text/plain": [
       "| 12      | 502.392ms    | 0.044998               |"
      ]
     },
     "metadata": {},
     "output_type": "display_data"
    },
    {
     "data": {
      "text/html": [
       "<pre>| 13      | 542.935ms    | 0.0442022              |</pre>"
      ],
      "text/plain": [
       "| 13      | 542.935ms    | 0.0442022              |"
      ]
     },
     "metadata": {},
     "output_type": "display_data"
    },
    {
     "data": {
      "text/html": [
       "<pre>| 14      | 591.163ms    | 0.0434609              |</pre>"
      ],
      "text/plain": [
       "| 14      | 591.163ms    | 0.0434609              |"
      ]
     },
     "metadata": {},
     "output_type": "display_data"
    },
    {
     "data": {
      "text/html": [
       "<pre>| 15      | 625.971ms    | 0.0427473              |</pre>"
      ],
      "text/plain": [
       "| 15      | 625.971ms    | 0.0427473              |"
      ]
     },
     "metadata": {},
     "output_type": "display_data"
    },
    {
     "data": {
      "text/html": [
       "<pre>| 16      | 659.712ms    | 0.0420816              |</pre>"
      ],
      "text/plain": [
       "| 16      | 659.712ms    | 0.0420816              |"
      ]
     },
     "metadata": {},
     "output_type": "display_data"
    },
    {
     "data": {
      "text/html": [
       "<pre>| 17      | 706.747ms    | 0.041456               |</pre>"
      ],
      "text/plain": [
       "| 17      | 706.747ms    | 0.041456               |"
      ]
     },
     "metadata": {},
     "output_type": "display_data"
    },
    {
     "data": {
      "text/html": [
       "<pre>| 18      | 749.816ms    | 0.0408516              |</pre>"
      ],
      "text/plain": [
       "| 18      | 749.816ms    | 0.0408516              |"
      ]
     },
     "metadata": {},
     "output_type": "display_data"
    },
    {
     "data": {
      "text/html": [
       "<pre>| 19      | 790.579ms    | 0.0402658              |</pre>"
      ],
      "text/plain": [
       "| 19      | 790.579ms    | 0.0402658              |"
      ]
     },
     "metadata": {},
     "output_type": "display_data"
    },
    {
     "data": {
      "text/html": [
       "<pre>| 20      | 836.629ms    | 0.0396891              |</pre>"
      ],
      "text/plain": [
       "| 20      | 836.629ms    | 0.0396891              |"
      ]
     },
     "metadata": {},
     "output_type": "display_data"
    },
    {
     "data": {
      "text/html": [
       "<pre>| 21      | 855.471ms    | 0.0391157              |</pre>"
      ],
      "text/plain": [
       "| 21      | 855.471ms    | 0.0391157              |"
      ]
     },
     "metadata": {},
     "output_type": "display_data"
    },
    {
     "data": {
      "text/html": [
       "<pre>| 22      | 899.214ms    | 0.0385327              |</pre>"
      ],
      "text/plain": [
       "| 22      | 899.214ms    | 0.0385327              |"
      ]
     },
     "metadata": {},
     "output_type": "display_data"
    },
    {
     "data": {
      "text/html": [
       "<pre>| 23      | 936.26ms     | 0.0379433              |</pre>"
      ],
      "text/plain": [
       "| 23      | 936.26ms     | 0.0379433              |"
      ]
     },
     "metadata": {},
     "output_type": "display_data"
    },
    {
     "data": {
      "text/html": [
       "<pre>| 24      | 976.367ms    | 0.0373851              |</pre>"
      ],
      "text/plain": [
       "| 24      | 976.367ms    | 0.0373851              |"
      ]
     },
     "metadata": {},
     "output_type": "display_data"
    },
    {
     "data": {
      "text/html": [
       "<pre>| 25      | 1.01s        | 0.0368944              |</pre>"
      ],
      "text/plain": [
       "| 25      | 1.01s        | 0.0368944              |"
      ]
     },
     "metadata": {},
     "output_type": "display_data"
    },
    {
     "data": {
      "text/html": [
       "<pre>| 26      | 1.05s        | 0.036464               |</pre>"
      ],
      "text/plain": [
       "| 26      | 1.05s        | 0.036464               |"
      ]
     },
     "metadata": {},
     "output_type": "display_data"
    },
    {
     "data": {
      "text/html": [
       "<pre>| 27      | 1.08s        | 0.0360673              |</pre>"
      ],
      "text/plain": [
       "| 27      | 1.08s        | 0.0360673              |"
      ]
     },
     "metadata": {},
     "output_type": "display_data"
    },
    {
     "data": {
      "text/html": [
       "<pre>| 28      | 1.10s        | 0.0356857              |</pre>"
      ],
      "text/plain": [
       "| 28      | 1.10s        | 0.0356857              |"
      ]
     },
     "metadata": {},
     "output_type": "display_data"
    },
    {
     "data": {
      "text/html": [
       "<pre>| 29      | 1.12s        | 0.0353174              |</pre>"
      ],
      "text/plain": [
       "| 29      | 1.12s        | 0.0353174              |"
      ]
     },
     "metadata": {},
     "output_type": "display_data"
    },
    {
     "data": {
      "text/html": [
       "<pre>| 30      | 1.17s        | 0.034958               |</pre>"
      ],
      "text/plain": [
       "| 30      | 1.17s        | 0.034958               |"
      ]
     },
     "metadata": {},
     "output_type": "display_data"
    },
    {
     "data": {
      "text/html": [
       "<pre>| 31      | 1.22s        | 0.0346071              |</pre>"
      ],
      "text/plain": [
       "| 31      | 1.22s        | 0.0346071              |"
      ]
     },
     "metadata": {},
     "output_type": "display_data"
    },
    {
     "data": {
      "text/html": [
       "<pre>| 32      | 1.25s        | 0.0342643              |</pre>"
      ],
      "text/plain": [
       "| 32      | 1.25s        | 0.0342643              |"
      ]
     },
     "metadata": {},
     "output_type": "display_data"
    },
    {
     "data": {
      "text/html": [
       "<pre>| 33      | 1.29s        | 0.0339288              |</pre>"
      ],
      "text/plain": [
       "| 33      | 1.29s        | 0.0339288              |"
      ]
     },
     "metadata": {},
     "output_type": "display_data"
    },
    {
     "data": {
      "text/html": [
       "<pre>| 34      | 1.33s        | 0.0335995              |</pre>"
      ],
      "text/plain": [
       "| 34      | 1.33s        | 0.0335995              |"
      ]
     },
     "metadata": {},
     "output_type": "display_data"
    },
    {
     "data": {
      "text/html": [
       "<pre>| 35      | 1.37s        | 0.0332757              |</pre>"
      ],
      "text/plain": [
       "| 35      | 1.37s        | 0.0332757              |"
      ]
     },
     "metadata": {},
     "output_type": "display_data"
    },
    {
     "data": {
      "text/html": [
       "<pre>| 36      | 1.40s        | 0.0329576              |</pre>"
      ],
      "text/plain": [
       "| 36      | 1.40s        | 0.0329576              |"
      ]
     },
     "metadata": {},
     "output_type": "display_data"
    },
    {
     "data": {
      "text/html": [
       "<pre>| 37      | 1.44s        | 0.0326484              |</pre>"
      ],
      "text/plain": [
       "| 37      | 1.44s        | 0.0326484              |"
      ]
     },
     "metadata": {},
     "output_type": "display_data"
    },
    {
     "data": {
      "text/html": [
       "<pre>| 38      | 1.49s        | 0.0323512              |</pre>"
      ],
      "text/plain": [
       "| 38      | 1.49s        | 0.0323512              |"
      ]
     },
     "metadata": {},
     "output_type": "display_data"
    },
    {
     "data": {
      "text/html": [
       "<pre>| 39      | 1.51s        | 0.0320675              |</pre>"
      ],
      "text/plain": [
       "| 39      | 1.51s        | 0.0320675              |"
      ]
     },
     "metadata": {},
     "output_type": "display_data"
    },
    {
     "data": {
      "text/html": [
       "<pre>| 40      | 1.56s        | 0.0317966              |</pre>"
      ],
      "text/plain": [
       "| 40      | 1.56s        | 0.0317966              |"
      ]
     },
     "metadata": {},
     "output_type": "display_data"
    },
    {
     "data": {
      "text/html": [
       "<pre>| 41      | 1.60s        | 0.0315367              |</pre>"
      ],
      "text/plain": [
       "| 41      | 1.60s        | 0.0315367              |"
      ]
     },
     "metadata": {},
     "output_type": "display_data"
    },
    {
     "data": {
      "text/html": [
       "<pre>| 42      | 1.63s        | 0.0312868              |</pre>"
      ],
      "text/plain": [
       "| 42      | 1.63s        | 0.0312868              |"
      ]
     },
     "metadata": {},
     "output_type": "display_data"
    },
    {
     "data": {
      "text/html": [
       "<pre>| 43      | 1.68s        | 0.0310453              |</pre>"
      ],
      "text/plain": [
       "| 43      | 1.68s        | 0.0310453              |"
      ]
     },
     "metadata": {},
     "output_type": "display_data"
    },
    {
     "data": {
      "text/html": [
       "<pre>| 44      | 1.72s        | 0.0308123              |</pre>"
      ],
      "text/plain": [
       "| 44      | 1.72s        | 0.0308123              |"
      ]
     },
     "metadata": {},
     "output_type": "display_data"
    },
    {
     "data": {
      "text/html": [
       "<pre>| 45      | 1.74s        | 0.030588               |</pre>"
      ],
      "text/plain": [
       "| 45      | 1.74s        | 0.030588               |"
      ]
     },
     "metadata": {},
     "output_type": "display_data"
    },
    {
     "data": {
      "text/html": [
       "<pre>| 46      | 1.78s        | 0.0303715              |</pre>"
      ],
      "text/plain": [
       "| 46      | 1.78s        | 0.0303715              |"
      ]
     },
     "metadata": {},
     "output_type": "display_data"
    },
    {
     "data": {
      "text/html": [
       "<pre>| 47      | 1.82s        | 0.0301645              |</pre>"
      ],
      "text/plain": [
       "| 47      | 1.82s        | 0.0301645              |"
      ]
     },
     "metadata": {},
     "output_type": "display_data"
    },
    {
     "data": {
      "text/html": [
       "<pre>| 48      | 1.86s        | 0.0299671              |</pre>"
      ],
      "text/plain": [
       "| 48      | 1.86s        | 0.0299671              |"
      ]
     },
     "metadata": {},
     "output_type": "display_data"
    },
    {
     "data": {
      "text/html": [
       "<pre>| 49      | 1.87s        | 0.0297773              |</pre>"
      ],
      "text/plain": [
       "| 49      | 1.87s        | 0.0297773              |"
      ]
     },
     "metadata": {},
     "output_type": "display_data"
    },
    {
     "data": {
      "text/html": [
       "<pre>| FINAL   | 1.87s        | 0.0297773              |</pre>"
      ],
      "text/plain": [
       "| FINAL   | 1.87s        | 0.0297773              |"
      ]
     },
     "metadata": {},
     "output_type": "display_data"
    },
    {
     "data": {
      "text/html": [
       "<pre>+---------+--------------+------------------------+</pre>"
      ],
      "text/plain": [
       "+---------+--------------+------------------------+"
      ]
     },
     "metadata": {},
     "output_type": "display_data"
    },
    {
     "data": {
      "text/html": [
       "<pre>Optimization Complete: Iteration limit reached.</pre>"
      ],
      "text/plain": [
       "Optimization Complete: Iteration limit reached."
      ]
     },
     "metadata": {},
     "output_type": "display_data"
    },
    {
     "data": {
      "text/html": [
       "<pre>Recsys training: model = factorization_recommender</pre>"
      ],
      "text/plain": [
       "Recsys training: model = factorization_recommender"
      ]
     },
     "metadata": {},
     "output_type": "display_data"
    },
    {
     "data": {
      "text/html": [
       "<pre>Preparing data set.</pre>"
      ],
      "text/plain": [
       "Preparing data set."
      ]
     },
     "metadata": {},
     "output_type": "display_data"
    },
    {
     "data": {
      "text/html": [
       "<pre>    Data has 24756 observations with 12294 users and 894 items.</pre>"
      ],
      "text/plain": [
       "    Data has 24756 observations with 12294 users and 894 items."
      ]
     },
     "metadata": {},
     "output_type": "display_data"
    },
    {
     "data": {
      "text/html": [
       "<pre>    Data prepared in: 0.046999s</pre>"
      ],
      "text/plain": [
       "    Data prepared in: 0.046999s"
      ]
     },
     "metadata": {},
     "output_type": "display_data"
    },
    {
     "data": {
      "text/html": [
       "<pre>Training factorization_recommender for recommendations.</pre>"
      ],
      "text/plain": [
       "Training factorization_recommender for recommendations."
      ]
     },
     "metadata": {},
     "output_type": "display_data"
    },
    {
     "data": {
      "text/html": [
       "<pre>+------------------------------+--------------------------------------------------+----------+</pre>"
      ],
      "text/plain": [
       "+------------------------------+--------------------------------------------------+----------+"
      ]
     },
     "metadata": {},
     "output_type": "display_data"
    },
    {
     "data": {
      "text/html": [
       "<pre>| Parameter                    | Description                                      | Value    |</pre>"
      ],
      "text/plain": [
       "| Parameter                    | Description                                      | Value    |"
      ]
     },
     "metadata": {},
     "output_type": "display_data"
    },
    {
     "data": {
      "text/html": [
       "<pre>+------------------------------+--------------------------------------------------+----------+</pre>"
      ],
      "text/plain": [
       "+------------------------------+--------------------------------------------------+----------+"
      ]
     },
     "metadata": {},
     "output_type": "display_data"
    },
    {
     "data": {
      "text/html": [
       "<pre>| num_factors                  | Factor Dimension                                 | 6        |</pre>"
      ],
      "text/plain": [
       "| num_factors                  | Factor Dimension                                 | 6        |"
      ]
     },
     "metadata": {},
     "output_type": "display_data"
    },
    {
     "data": {
      "text/html": [
       "<pre>| regularization               | L2 Regularization on Factors                     | 1e-08    |</pre>"
      ],
      "text/plain": [
       "| regularization               | L2 Regularization on Factors                     | 1e-08    |"
      ]
     },
     "metadata": {},
     "output_type": "display_data"
    },
    {
     "data": {
      "text/html": [
       "<pre>| max_iterations               | Maximum Number of Iterations                     | 50       |</pre>"
      ],
      "text/plain": [
       "| max_iterations               | Maximum Number of Iterations                     | 50       |"
      ]
     },
     "metadata": {},
     "output_type": "display_data"
    },
    {
     "data": {
      "text/html": [
       "<pre>| solver                       | Solver used for training                         | als      |</pre>"
      ],
      "text/plain": [
       "| solver                       | Solver used for training                         | als      |"
      ]
     },
     "metadata": {},
     "output_type": "display_data"
    },
    {
     "data": {
      "text/html": [
       "<pre>+------------------------------+--------------------------------------------------+----------+</pre>"
      ],
      "text/plain": [
       "+------------------------------+--------------------------------------------------+----------+"
      ]
     },
     "metadata": {},
     "output_type": "display_data"
    },
    {
     "data": {
      "text/html": [
       "<pre>+---------+--------------+------------------------+</pre>"
      ],
      "text/plain": [
       "+---------+--------------+------------------------+"
      ]
     },
     "metadata": {},
     "output_type": "display_data"
    },
    {
     "data": {
      "text/html": [
       "<pre>| Iter.   | Elapsed time | RMSE                   |</pre>"
      ],
      "text/plain": [
       "| Iter.   | Elapsed time | RMSE                   |"
      ]
     },
     "metadata": {},
     "output_type": "display_data"
    },
    {
     "data": {
      "text/html": [
       "<pre>+---------+--------------+------------------------+</pre>"
      ],
      "text/plain": [
       "+---------+--------------+------------------------+"
      ]
     },
     "metadata": {},
     "output_type": "display_data"
    },
    {
     "data": {
      "text/html": [
       "<pre>| Initial | 92us         | NA                     |</pre>"
      ],
      "text/plain": [
       "| Initial | 92us         | NA                     |"
      ]
     },
     "metadata": {},
     "output_type": "display_data"
    },
    {
     "data": {
      "text/html": [
       "<pre>+---------+--------------+------------------------+</pre>"
      ],
      "text/plain": [
       "+---------+--------------+------------------------+"
      ]
     },
     "metadata": {},
     "output_type": "display_data"
    },
    {
     "data": {
      "text/html": [
       "<pre>| 0       | 51.841ms     | 0.226915               |</pre>"
      ],
      "text/plain": [
       "| 0       | 51.841ms     | 0.226915               |"
      ]
     },
     "metadata": {},
     "output_type": "display_data"
    },
    {
     "data": {
      "text/html": [
       "<pre>| 1       | 66.656ms     | 0.0311369              |</pre>"
      ],
      "text/plain": [
       "| 1       | 66.656ms     | 0.0311369              |"
      ]
     },
     "metadata": {},
     "output_type": "display_data"
    },
    {
     "data": {
      "text/html": [
       "<pre>| 2       | 99.054ms     | 0.0257699              |</pre>"
      ],
      "text/plain": [
       "| 2       | 99.054ms     | 0.0257699              |"
      ]
     },
     "metadata": {},
     "output_type": "display_data"
    },
    {
     "data": {
      "text/html": [
       "<pre>| 3       | 140.33ms     | 0.0228252              |</pre>"
      ],
      "text/plain": [
       "| 3       | 140.33ms     | 0.0228252              |"
      ]
     },
     "metadata": {},
     "output_type": "display_data"
    },
    {
     "data": {
      "text/html": [
       "<pre>| 4       | 192.969ms    | 0.0207068              |</pre>"
      ],
      "text/plain": [
       "| 4       | 192.969ms    | 0.0207068              |"
      ]
     },
     "metadata": {},
     "output_type": "display_data"
    },
    {
     "data": {
      "text/html": [
       "<pre>| 5       | 215.496ms    | 0.0190934              |</pre>"
      ],
      "text/plain": [
       "| 5       | 215.496ms    | 0.0190934              |"
      ]
     },
     "metadata": {},
     "output_type": "display_data"
    },
    {
     "data": {
      "text/html": [
       "<pre>| 6       | 265.478ms    | 0.0177862              |</pre>"
      ],
      "text/plain": [
       "| 6       | 265.478ms    | 0.0177862              |"
      ]
     },
     "metadata": {},
     "output_type": "display_data"
    },
    {
     "data": {
      "text/html": [
       "<pre>| 7       | 306.631ms    | 0.016667               |</pre>"
      ],
      "text/plain": [
       "| 7       | 306.631ms    | 0.016667               |"
      ]
     },
     "metadata": {},
     "output_type": "display_data"
    },
    {
     "data": {
      "text/html": [
       "<pre>| 8       | 331.907ms    | 0.015686               |</pre>"
      ],
      "text/plain": [
       "| 8       | 331.907ms    | 0.015686               |"
      ]
     },
     "metadata": {},
     "output_type": "display_data"
    },
    {
     "data": {
      "text/html": [
       "<pre>| 9       | 367.938ms    | 0.0148163              |</pre>"
      ],
      "text/plain": [
       "| 9       | 367.938ms    | 0.0148163              |"
      ]
     },
     "metadata": {},
     "output_type": "display_data"
    },
    {
     "data": {
      "text/html": [
       "<pre>| 10      | 405.508ms    | 0.0140372              |</pre>"
      ],
      "text/plain": [
       "| 10      | 405.508ms    | 0.0140372              |"
      ]
     },
     "metadata": {},
     "output_type": "display_data"
    },
    {
     "data": {
      "text/html": [
       "<pre>| 11      | 444.334ms    | 0.0133475              |</pre>"
      ],
      "text/plain": [
       "| 11      | 444.334ms    | 0.0133475              |"
      ]
     },
     "metadata": {},
     "output_type": "display_data"
    },
    {
     "data": {
      "text/html": [
       "<pre>| 12      | 495.909ms    | 0.0127379              |</pre>"
      ],
      "text/plain": [
       "| 12      | 495.909ms    | 0.0127379              |"
      ]
     },
     "metadata": {},
     "output_type": "display_data"
    },
    {
     "data": {
      "text/html": [
       "<pre>| 13      | 517.488ms    | 0.0122023              |</pre>"
      ],
      "text/plain": [
       "| 13      | 517.488ms    | 0.0122023              |"
      ]
     },
     "metadata": {},
     "output_type": "display_data"
    },
    {
     "data": {
      "text/html": [
       "<pre>| 14      | 533.647ms    | 0.0117253              |</pre>"
      ],
      "text/plain": [
       "| 14      | 533.647ms    | 0.0117253              |"
      ]
     },
     "metadata": {},
     "output_type": "display_data"
    },
    {
     "data": {
      "text/html": [
       "<pre>| 15      | 563.213ms    | 0.0112961              |</pre>"
      ],
      "text/plain": [
       "| 15      | 563.213ms    | 0.0112961              |"
      ]
     },
     "metadata": {},
     "output_type": "display_data"
    },
    {
     "data": {
      "text/html": [
       "<pre>| 16      | 596.962ms    | 0.0109043              |</pre>"
      ],
      "text/plain": [
       "| 16      | 596.962ms    | 0.0109043              |"
      ]
     },
     "metadata": {},
     "output_type": "display_data"
    },
    {
     "data": {
      "text/html": [
       "<pre>| 17      | 636.616ms    | 0.0105444              |</pre>"
      ],
      "text/plain": [
       "| 17      | 636.616ms    | 0.0105444              |"
      ]
     },
     "metadata": {},
     "output_type": "display_data"
    },
    {
     "data": {
      "text/html": [
       "<pre>| 18      | 677.804ms    | 0.0102124              |</pre>"
      ],
      "text/plain": [
       "| 18      | 677.804ms    | 0.0102124              |"
      ]
     },
     "metadata": {},
     "output_type": "display_data"
    },
    {
     "data": {
      "text/html": [
       "<pre>| 19      | 730.467ms    | 0.0099034              |</pre>"
      ],
      "text/plain": [
       "| 19      | 730.467ms    | 0.0099034              |"
      ]
     },
     "metadata": {},
     "output_type": "display_data"
    },
    {
     "data": {
      "text/html": [
       "<pre>| 20      | 755.598ms    | 0.00961596             |</pre>"
      ],
      "text/plain": [
       "| 20      | 755.598ms    | 0.00961596             |"
      ]
     },
     "metadata": {},
     "output_type": "display_data"
    },
    {
     "data": {
      "text/html": [
       "<pre>| 21      | 806.271ms    | 0.00934721             |</pre>"
      ],
      "text/plain": [
       "| 21      | 806.271ms    | 0.00934721             |"
      ]
     },
     "metadata": {},
     "output_type": "display_data"
    },
    {
     "data": {
      "text/html": [
       "<pre>| 22      | 837.426ms    | 0.00909593             |</pre>"
      ],
      "text/plain": [
       "| 22      | 837.426ms    | 0.00909593             |"
      ]
     },
     "metadata": {},
     "output_type": "display_data"
    },
    {
     "data": {
      "text/html": [
       "<pre>| 23      | 867.633ms    | 0.00885932             |</pre>"
      ],
      "text/plain": [
       "| 23      | 867.633ms    | 0.00885932             |"
      ]
     },
     "metadata": {},
     "output_type": "display_data"
    },
    {
     "data": {
      "text/html": [
       "<pre>| 24      | 899.883ms    | 0.00863717             |</pre>"
      ],
      "text/plain": [
       "| 24      | 899.883ms    | 0.00863717             |"
      ]
     },
     "metadata": {},
     "output_type": "display_data"
    },
    {
     "data": {
      "text/html": [
       "<pre>| 25      | 927.173ms    | 0.00842784             |</pre>"
      ],
      "text/plain": [
       "| 25      | 927.173ms    | 0.00842784             |"
      ]
     },
     "metadata": {},
     "output_type": "display_data"
    },
    {
     "data": {
      "text/html": [
       "<pre>| 26      | 965.062ms    | 0.00823142             |</pre>"
      ],
      "text/plain": [
       "| 26      | 965.062ms    | 0.00823142             |"
      ]
     },
     "metadata": {},
     "output_type": "display_data"
    },
    {
     "data": {
      "text/html": [
       "<pre>| 27      | 1.00s        | 0.00804673             |</pre>"
      ],
      "text/plain": [
       "| 27      | 1.00s        | 0.00804673             |"
      ]
     },
     "metadata": {},
     "output_type": "display_data"
    },
    {
     "data": {
      "text/html": [
       "<pre>| 28      | 1.04s        | 0.00787247             |</pre>"
      ],
      "text/plain": [
       "| 28      | 1.04s        | 0.00787247             |"
      ]
     },
     "metadata": {},
     "output_type": "display_data"
    },
    {
     "data": {
      "text/html": [
       "<pre>| 29      | 1.07s        | 0.00770774             |</pre>"
      ],
      "text/plain": [
       "| 29      | 1.07s        | 0.00770774             |"
      ]
     },
     "metadata": {},
     "output_type": "display_data"
    },
    {
     "data": {
      "text/html": [
       "<pre>| 30      | 1.11s        | 0.00755261             |</pre>"
      ],
      "text/plain": [
       "| 30      | 1.11s        | 0.00755261             |"
      ]
     },
     "metadata": {},
     "output_type": "display_data"
    },
    {
     "data": {
      "text/html": [
       "<pre>| 31      | 1.15s        | 0.00740633             |</pre>"
      ],
      "text/plain": [
       "| 31      | 1.15s        | 0.00740633             |"
      ]
     },
     "metadata": {},
     "output_type": "display_data"
    },
    {
     "data": {
      "text/html": [
       "<pre>| 32      | 1.18s        | 0.0072677              |</pre>"
      ],
      "text/plain": [
       "| 32      | 1.18s        | 0.0072677              |"
      ]
     },
     "metadata": {},
     "output_type": "display_data"
    },
    {
     "data": {
      "text/html": [
       "<pre>| 33      | 1.21s        | 0.00713633             |</pre>"
      ],
      "text/plain": [
       "| 33      | 1.21s        | 0.00713633             |"
      ]
     },
     "metadata": {},
     "output_type": "display_data"
    },
    {
     "data": {
      "text/html": [
       "<pre>| 34      | 1.25s        | 0.00701174             |</pre>"
      ],
      "text/plain": [
       "| 34      | 1.25s        | 0.00701174             |"
      ]
     },
     "metadata": {},
     "output_type": "display_data"
    },
    {
     "data": {
      "text/html": [
       "<pre>| 35      | 1.26s        | 0.00689371             |</pre>"
      ],
      "text/plain": [
       "| 35      | 1.26s        | 0.00689371             |"
      ]
     },
     "metadata": {},
     "output_type": "display_data"
    },
    {
     "data": {
      "text/html": [
       "<pre>| 36      | 1.30s        | 0.00678088             |</pre>"
      ],
      "text/plain": [
       "| 36      | 1.30s        | 0.00678088             |"
      ]
     },
     "metadata": {},
     "output_type": "display_data"
    },
    {
     "data": {
      "text/html": [
       "<pre>| 37      | 1.36s        | 0.00667321             |</pre>"
      ],
      "text/plain": [
       "| 37      | 1.36s        | 0.00667321             |"
      ]
     },
     "metadata": {},
     "output_type": "display_data"
    },
    {
     "data": {
      "text/html": [
       "<pre>| 38      | 1.38s        | 0.00657034             |</pre>"
      ],
      "text/plain": [
       "| 38      | 1.38s        | 0.00657034             |"
      ]
     },
     "metadata": {},
     "output_type": "display_data"
    },
    {
     "data": {
      "text/html": [
       "<pre>| 39      | 1.43s        | 0.0064715              |</pre>"
      ],
      "text/plain": [
       "| 39      | 1.43s        | 0.0064715              |"
      ]
     },
     "metadata": {},
     "output_type": "display_data"
    },
    {
     "data": {
      "text/html": [
       "<pre>| 40      | 1.46s        | 0.0063766              |</pre>"
      ],
      "text/plain": [
       "| 40      | 1.46s        | 0.0063766              |"
      ]
     },
     "metadata": {},
     "output_type": "display_data"
    },
    {
     "data": {
      "text/html": [
       "<pre>| 41      | 1.48s        | 0.00628518             |</pre>"
      ],
      "text/plain": [
       "| 41      | 1.48s        | 0.00628518             |"
      ]
     },
     "metadata": {},
     "output_type": "display_data"
    },
    {
     "data": {
      "text/html": [
       "<pre>| 42      | 1.52s        | 0.00619663             |</pre>"
      ],
      "text/plain": [
       "| 42      | 1.52s        | 0.00619663             |"
      ]
     },
     "metadata": {},
     "output_type": "display_data"
    },
    {
     "data": {
      "text/html": [
       "<pre>| 43      | 1.55s        | 0.00611059             |</pre>"
      ],
      "text/plain": [
       "| 43      | 1.55s        | 0.00611059             |"
      ]
     },
     "metadata": {},
     "output_type": "display_data"
    },
    {
     "data": {
      "text/html": [
       "<pre>| 44      | 1.58s        | 0.0060275              |</pre>"
      ],
      "text/plain": [
       "| 44      | 1.58s        | 0.0060275              |"
      ]
     },
     "metadata": {},
     "output_type": "display_data"
    },
    {
     "data": {
      "text/html": [
       "<pre>| 45      | 1.62s        | 0.00594643             |</pre>"
      ],
      "text/plain": [
       "| 45      | 1.62s        | 0.00594643             |"
      ]
     },
     "metadata": {},
     "output_type": "display_data"
    },
    {
     "data": {
      "text/html": [
       "<pre>| 46      | 1.68s        | 0.00586754             |</pre>"
      ],
      "text/plain": [
       "| 46      | 1.68s        | 0.00586754             |"
      ]
     },
     "metadata": {},
     "output_type": "display_data"
    },
    {
     "data": {
      "text/html": [
       "<pre>| 47      | 1.72s        | 0.00579054             |</pre>"
      ],
      "text/plain": [
       "| 47      | 1.72s        | 0.00579054             |"
      ]
     },
     "metadata": {},
     "output_type": "display_data"
    },
    {
     "data": {
      "text/html": [
       "<pre>| 48      | 1.76s        | 0.00571474             |</pre>"
      ],
      "text/plain": [
       "| 48      | 1.76s        | 0.00571474             |"
      ]
     },
     "metadata": {},
     "output_type": "display_data"
    },
    {
     "data": {
      "text/html": [
       "<pre>| 49      | 1.79s        | 0.00564066             |</pre>"
      ],
      "text/plain": [
       "| 49      | 1.79s        | 0.00564066             |"
      ]
     },
     "metadata": {},
     "output_type": "display_data"
    },
    {
     "data": {
      "text/html": [
       "<pre>| FINAL   | 1.79s        | 0.00564066             |</pre>"
      ],
      "text/plain": [
       "| FINAL   | 1.79s        | 0.00564066             |"
      ]
     },
     "metadata": {},
     "output_type": "display_data"
    },
    {
     "data": {
      "text/html": [
       "<pre>+---------+--------------+------------------------+</pre>"
      ],
      "text/plain": [
       "+---------+--------------+------------------------+"
      ]
     },
     "metadata": {},
     "output_type": "display_data"
    },
    {
     "data": {
      "text/html": [
       "<pre>Optimization Complete: Iteration limit reached.</pre>"
      ],
      "text/plain": [
       "Optimization Complete: Iteration limit reached."
      ]
     },
     "metadata": {},
     "output_type": "display_data"
    },
    {
     "data": {
      "text/html": [
       "<pre>Recsys training: model = factorization_recommender</pre>"
      ],
      "text/plain": [
       "Recsys training: model = factorization_recommender"
      ]
     },
     "metadata": {},
     "output_type": "display_data"
    },
    {
     "data": {
      "text/html": [
       "<pre>Preparing data set.</pre>"
      ],
      "text/plain": [
       "Preparing data set."
      ]
     },
     "metadata": {},
     "output_type": "display_data"
    },
    {
     "data": {
      "text/html": [
       "<pre>    Data has 24756 observations with 12294 users and 894 items.</pre>"
      ],
      "text/plain": [
       "    Data has 24756 observations with 12294 users and 894 items."
      ]
     },
     "metadata": {},
     "output_type": "display_data"
    },
    {
     "data": {
      "text/html": [
       "<pre>    Data prepared in: 0.054292s</pre>"
      ],
      "text/plain": [
       "    Data prepared in: 0.054292s"
      ]
     },
     "metadata": {},
     "output_type": "display_data"
    },
    {
     "data": {
      "text/html": [
       "<pre>Training factorization_recommender for recommendations.</pre>"
      ],
      "text/plain": [
       "Training factorization_recommender for recommendations."
      ]
     },
     "metadata": {},
     "output_type": "display_data"
    },
    {
     "data": {
      "text/html": [
       "<pre>+------------------------------+--------------------------------------------------+----------+</pre>"
      ],
      "text/plain": [
       "+------------------------------+--------------------------------------------------+----------+"
      ]
     },
     "metadata": {},
     "output_type": "display_data"
    },
    {
     "data": {
      "text/html": [
       "<pre>| Parameter                    | Description                                      | Value    |</pre>"
      ],
      "text/plain": [
       "| Parameter                    | Description                                      | Value    |"
      ]
     },
     "metadata": {},
     "output_type": "display_data"
    },
    {
     "data": {
      "text/html": [
       "<pre>+------------------------------+--------------------------------------------------+----------+</pre>"
      ],
      "text/plain": [
       "+------------------------------+--------------------------------------------------+----------+"
      ]
     },
     "metadata": {},
     "output_type": "display_data"
    },
    {
     "data": {
      "text/html": [
       "<pre>| num_factors                  | Factor Dimension                                 | 8        |</pre>"
      ],
      "text/plain": [
       "| num_factors                  | Factor Dimension                                 | 8        |"
      ]
     },
     "metadata": {},
     "output_type": "display_data"
    },
    {
     "data": {
      "text/html": [
       "<pre>| regularization               | L2 Regularization on Factors                     | 1e-08    |</pre>"
      ],
      "text/plain": [
       "| regularization               | L2 Regularization on Factors                     | 1e-08    |"
      ]
     },
     "metadata": {},
     "output_type": "display_data"
    },
    {
     "data": {
      "text/html": [
       "<pre>| max_iterations               | Maximum Number of Iterations                     | 50       |</pre>"
      ],
      "text/plain": [
       "| max_iterations               | Maximum Number of Iterations                     | 50       |"
      ]
     },
     "metadata": {},
     "output_type": "display_data"
    },
    {
     "data": {
      "text/html": [
       "<pre>| solver                       | Solver used for training                         | als      |</pre>"
      ],
      "text/plain": [
       "| solver                       | Solver used for training                         | als      |"
      ]
     },
     "metadata": {},
     "output_type": "display_data"
    },
    {
     "data": {
      "text/html": [
       "<pre>+------------------------------+--------------------------------------------------+----------+</pre>"
      ],
      "text/plain": [
       "+------------------------------+--------------------------------------------------+----------+"
      ]
     },
     "metadata": {},
     "output_type": "display_data"
    },
    {
     "data": {
      "text/html": [
       "<pre>+---------+--------------+------------------------+</pre>"
      ],
      "text/plain": [
       "+---------+--------------+------------------------+"
      ]
     },
     "metadata": {},
     "output_type": "display_data"
    },
    {
     "data": {
      "text/html": [
       "<pre>| Iter.   | Elapsed time | RMSE                   |</pre>"
      ],
      "text/plain": [
       "| Iter.   | Elapsed time | RMSE                   |"
      ]
     },
     "metadata": {},
     "output_type": "display_data"
    },
    {
     "data": {
      "text/html": [
       "<pre>+---------+--------------+------------------------+</pre>"
      ],
      "text/plain": [
       "+---------+--------------+------------------------+"
      ]
     },
     "metadata": {},
     "output_type": "display_data"
    },
    {
     "data": {
      "text/html": [
       "<pre>| Initial | 69us         | NA                     |</pre>"
      ],
      "text/plain": [
       "| Initial | 69us         | NA                     |"
      ]
     },
     "metadata": {},
     "output_type": "display_data"
    },
    {
     "data": {
      "text/html": [
       "<pre>+---------+--------------+------------------------+</pre>"
      ],
      "text/plain": [
       "+---------+--------------+------------------------+"
      ]
     },
     "metadata": {},
     "output_type": "display_data"
    },
    {
     "data": {
      "text/html": [
       "<pre>| 0       | 41.127ms     | 0.182557               |</pre>"
      ],
      "text/plain": [
       "| 0       | 41.127ms     | 0.182557               |"
      ]
     },
     "metadata": {},
     "output_type": "display_data"
    },
    {
     "data": {
      "text/html": [
       "<pre>| 1       | 89.991ms     | 0.0158824              |</pre>"
      ],
      "text/plain": [
       "| 1       | 89.991ms     | 0.0158824              |"
      ]
     },
     "metadata": {},
     "output_type": "display_data"
    },
    {
     "data": {
      "text/html": [
       "<pre>| 2       | 133.572ms    | 0.0119321              |</pre>"
      ],
      "text/plain": [
       "| 2       | 133.572ms    | 0.0119321              |"
      ]
     },
     "metadata": {},
     "output_type": "display_data"
    },
    {
     "data": {
      "text/html": [
       "<pre>| 3       | 171.848ms    | 0.00975066             |</pre>"
      ],
      "text/plain": [
       "| 3       | 171.848ms    | 0.00975066             |"
      ]
     },
     "metadata": {},
     "output_type": "display_data"
    },
    {
     "data": {
      "text/html": [
       "<pre>| 4       | 228.46ms     | 0.00842659             |</pre>"
      ],
      "text/plain": [
       "| 4       | 228.46ms     | 0.00842659             |"
      ]
     },
     "metadata": {},
     "output_type": "display_data"
    },
    {
     "data": {
      "text/html": [
       "<pre>| 5       | 276.741ms    | 0.00749789             |</pre>"
      ],
      "text/plain": [
       "| 5       | 276.741ms    | 0.00749789             |"
      ]
     },
     "metadata": {},
     "output_type": "display_data"
    },
    {
     "data": {
      "text/html": [
       "<pre>| 6       | 304.457ms    | 0.00678409             |</pre>"
      ],
      "text/plain": [
       "| 6       | 304.457ms    | 0.00678409             |"
      ]
     },
     "metadata": {},
     "output_type": "display_data"
    },
    {
     "data": {
      "text/html": [
       "<pre>| 7       | 339.815ms    | 0.00620268             |</pre>"
      ],
      "text/plain": [
       "| 7       | 339.815ms    | 0.00620268             |"
      ]
     },
     "metadata": {},
     "output_type": "display_data"
    },
    {
     "data": {
      "text/html": [
       "<pre>| 8       | 352.331ms    | 0.00572014             |</pre>"
      ],
      "text/plain": [
       "| 8       | 352.331ms    | 0.00572014             |"
      ]
     },
     "metadata": {},
     "output_type": "display_data"
    },
    {
     "data": {
      "text/html": [
       "<pre>| 9       | 402.607ms    | 0.00531367             |</pre>"
      ],
      "text/plain": [
       "| 9       | 402.607ms    | 0.00531367             |"
      ]
     },
     "metadata": {},
     "output_type": "display_data"
    },
    {
     "data": {
      "text/html": [
       "<pre>| 10      | 432.846ms    | 0.00496946             |</pre>"
      ],
      "text/plain": [
       "| 10      | 432.846ms    | 0.00496946             |"
      ]
     },
     "metadata": {},
     "output_type": "display_data"
    },
    {
     "data": {
      "text/html": [
       "<pre>| 11      | 486.07ms     | 0.00467529             |</pre>"
      ],
      "text/plain": [
       "| 11      | 486.07ms     | 0.00467529             |"
      ]
     },
     "metadata": {},
     "output_type": "display_data"
    },
    {
     "data": {
      "text/html": [
       "<pre>| 12      | 523.825ms    | 0.00441911             |</pre>"
      ],
      "text/plain": [
       "| 12      | 523.825ms    | 0.00441911             |"
      ]
     },
     "metadata": {},
     "output_type": "display_data"
    },
    {
     "data": {
      "text/html": [
       "<pre>| 13      | 569.566ms    | 0.00419202             |</pre>"
      ],
      "text/plain": [
       "| 13      | 569.566ms    | 0.00419202             |"
      ]
     },
     "metadata": {},
     "output_type": "display_data"
    },
    {
     "data": {
      "text/html": [
       "<pre>| 14      | 620.172ms    | 0.00398933             |</pre>"
      ],
      "text/plain": [
       "| 14      | 620.172ms    | 0.00398933             |"
      ]
     },
     "metadata": {},
     "output_type": "display_data"
    },
    {
     "data": {
      "text/html": [
       "<pre>| 15      | 657.545ms    | 0.00380428             |</pre>"
      ],
      "text/plain": [
       "| 15      | 657.545ms    | 0.00380428             |"
      ]
     },
     "metadata": {},
     "output_type": "display_data"
    },
    {
     "data": {
      "text/html": [
       "<pre>| 16      | 737.445ms    | 0.00363455             |</pre>"
      ],
      "text/plain": [
       "| 16      | 737.445ms    | 0.00363455             |"
      ]
     },
     "metadata": {},
     "output_type": "display_data"
    },
    {
     "data": {
      "text/html": [
       "<pre>| 17      | 783.029ms    | 0.0034769              |</pre>"
      ],
      "text/plain": [
       "| 17      | 783.029ms    | 0.0034769              |"
      ]
     },
     "metadata": {},
     "output_type": "display_data"
    },
    {
     "data": {
      "text/html": [
       "<pre>| 18      | 844.32ms     | 0.00333043             |</pre>"
      ],
      "text/plain": [
       "| 18      | 844.32ms     | 0.00333043             |"
      ]
     },
     "metadata": {},
     "output_type": "display_data"
    },
    {
     "data": {
      "text/html": [
       "<pre>| 19      | 877.806ms    | 0.00319184             |</pre>"
      ],
      "text/plain": [
       "| 19      | 877.806ms    | 0.00319184             |"
      ]
     },
     "metadata": {},
     "output_type": "display_data"
    },
    {
     "data": {
      "text/html": [
       "<pre>| 20      | 912.201ms    | 0.0030613              |</pre>"
      ],
      "text/plain": [
       "| 20      | 912.201ms    | 0.0030613              |"
      ]
     },
     "metadata": {},
     "output_type": "display_data"
    },
    {
     "data": {
      "text/html": [
       "<pre>| 21      | 964.292ms    | 0.00293722             |</pre>"
      ],
      "text/plain": [
       "| 21      | 964.292ms    | 0.00293722             |"
      ]
     },
     "metadata": {},
     "output_type": "display_data"
    },
    {
     "data": {
      "text/html": [
       "<pre>| 22      | 1.00s        | 0.00281899             |</pre>"
      ],
      "text/plain": [
       "| 22      | 1.00s        | 0.00281899             |"
      ]
     },
     "metadata": {},
     "output_type": "display_data"
    },
    {
     "data": {
      "text/html": [
       "<pre>| 23      | 1.05s        | 0.00270583             |</pre>"
      ],
      "text/plain": [
       "| 23      | 1.05s        | 0.00270583             |"
      ]
     },
     "metadata": {},
     "output_type": "display_data"
    },
    {
     "data": {
      "text/html": [
       "<pre>| 24      | 1.09s        | 0.00259819             |</pre>"
      ],
      "text/plain": [
       "| 24      | 1.09s        | 0.00259819             |"
      ]
     },
     "metadata": {},
     "output_type": "display_data"
    },
    {
     "data": {
      "text/html": [
       "<pre>| 25      | 1.13s        | 0.00249542             |</pre>"
      ],
      "text/plain": [
       "| 25      | 1.13s        | 0.00249542             |"
      ]
     },
     "metadata": {},
     "output_type": "display_data"
    },
    {
     "data": {
      "text/html": [
       "<pre>| 26      | 1.17s        | 0.00239982             |</pre>"
      ],
      "text/plain": [
       "| 26      | 1.17s        | 0.00239982             |"
      ]
     },
     "metadata": {},
     "output_type": "display_data"
    },
    {
     "data": {
      "text/html": [
       "<pre>| 27      | 1.20s        | 0.00230964             |</pre>"
      ],
      "text/plain": [
       "| 27      | 1.20s        | 0.00230964             |"
      ]
     },
     "metadata": {},
     "output_type": "display_data"
    },
    {
     "data": {
      "text/html": [
       "<pre>| 28      | 1.23s        | 0.00222479             |</pre>"
      ],
      "text/plain": [
       "| 28      | 1.23s        | 0.00222479             |"
      ]
     },
     "metadata": {},
     "output_type": "display_data"
    },
    {
     "data": {
      "text/html": [
       "<pre>| 29      | 1.26s        | 0.00214619             |</pre>"
      ],
      "text/plain": [
       "| 29      | 1.26s        | 0.00214619             |"
      ]
     },
     "metadata": {},
     "output_type": "display_data"
    },
    {
     "data": {
      "text/html": [
       "<pre>| 30      | 1.29s        | 0.0020737              |</pre>"
      ],
      "text/plain": [
       "| 30      | 1.29s        | 0.0020737              |"
      ]
     },
     "metadata": {},
     "output_type": "display_data"
    },
    {
     "data": {
      "text/html": [
       "<pre>| 31      | 1.34s        | 0.00200668             |</pre>"
      ],
      "text/plain": [
       "| 31      | 1.34s        | 0.00200668             |"
      ]
     },
     "metadata": {},
     "output_type": "display_data"
    },
    {
     "data": {
      "text/html": [
       "<pre>| 32      | 1.36s        | 0.00194548             |</pre>"
      ],
      "text/plain": [
       "| 32      | 1.36s        | 0.00194548             |"
      ]
     },
     "metadata": {},
     "output_type": "display_data"
    },
    {
     "data": {
      "text/html": [
       "<pre>| 33      | 1.41s        | 0.00188908             |</pre>"
      ],
      "text/plain": [
       "| 33      | 1.41s        | 0.00188908             |"
      ]
     },
     "metadata": {},
     "output_type": "display_data"
    },
    {
     "data": {
      "text/html": [
       "<pre>| 34      | 1.44s        | 0.00183632             |</pre>"
      ],
      "text/plain": [
       "| 34      | 1.44s        | 0.00183632             |"
      ]
     },
     "metadata": {},
     "output_type": "display_data"
    },
    {
     "data": {
      "text/html": [
       "<pre>| 35      | 1.47s        | 0.00178786             |</pre>"
      ],
      "text/plain": [
       "| 35      | 1.47s        | 0.00178786             |"
      ]
     },
     "metadata": {},
     "output_type": "display_data"
    },
    {
     "data": {
      "text/html": [
       "<pre>| 36      | 1.51s        | 0.00174254             |</pre>"
      ],
      "text/plain": [
       "| 36      | 1.51s        | 0.00174254             |"
      ]
     },
     "metadata": {},
     "output_type": "display_data"
    },
    {
     "data": {
      "text/html": [
       "<pre>| 37      | 1.55s        | 0.00170037             |</pre>"
      ],
      "text/plain": [
       "| 37      | 1.55s        | 0.00170037             |"
      ]
     },
     "metadata": {},
     "output_type": "display_data"
    },
    {
     "data": {
      "text/html": [
       "<pre>| 38      | 1.59s        | 0.00166062             |</pre>"
      ],
      "text/plain": [
       "| 38      | 1.59s        | 0.00166062             |"
      ]
     },
     "metadata": {},
     "output_type": "display_data"
    },
    {
     "data": {
      "text/html": [
       "<pre>| 39      | 1.63s        | 0.00162351             |</pre>"
      ],
      "text/plain": [
       "| 39      | 1.63s        | 0.00162351             |"
      ]
     },
     "metadata": {},
     "output_type": "display_data"
    },
    {
     "data": {
      "text/html": [
       "<pre>| 40      | 1.67s        | 0.00158817             |</pre>"
      ],
      "text/plain": [
       "| 40      | 1.67s        | 0.00158817             |"
      ]
     },
     "metadata": {},
     "output_type": "display_data"
    },
    {
     "data": {
      "text/html": [
       "<pre>| 41      | 1.71s        | 0.00155455             |</pre>"
      ],
      "text/plain": [
       "| 41      | 1.71s        | 0.00155455             |"
      ]
     },
     "metadata": {},
     "output_type": "display_data"
    },
    {
     "data": {
      "text/html": [
       "<pre>| 42      | 1.73s        | 0.00152268             |</pre>"
      ],
      "text/plain": [
       "| 42      | 1.73s        | 0.00152268             |"
      ]
     },
     "metadata": {},
     "output_type": "display_data"
    },
    {
     "data": {
      "text/html": [
       "<pre>| 43      | 1.78s        | 0.00149207             |</pre>"
      ],
      "text/plain": [
       "| 43      | 1.78s        | 0.00149207             |"
      ]
     },
     "metadata": {},
     "output_type": "display_data"
    },
    {
     "data": {
      "text/html": [
       "<pre>| 44      | 1.83s        | 0.00146331             |</pre>"
      ],
      "text/plain": [
       "| 44      | 1.83s        | 0.00146331             |"
      ]
     },
     "metadata": {},
     "output_type": "display_data"
    },
    {
     "data": {
      "text/html": [
       "<pre>| 45      | 1.86s        | 0.00143581             |</pre>"
      ],
      "text/plain": [
       "| 45      | 1.86s        | 0.00143581             |"
      ]
     },
     "metadata": {},
     "output_type": "display_data"
    },
    {
     "data": {
      "text/html": [
       "<pre>| 46      | 1.89s        | 0.00140953             |</pre>"
      ],
      "text/plain": [
       "| 46      | 1.89s        | 0.00140953             |"
      ]
     },
     "metadata": {},
     "output_type": "display_data"
    },
    {
     "data": {
      "text/html": [
       "<pre>| 47      | 1.93s        | 0.00138435             |</pre>"
      ],
      "text/plain": [
       "| 47      | 1.93s        | 0.00138435             |"
      ]
     },
     "metadata": {},
     "output_type": "display_data"
    },
    {
     "data": {
      "text/html": [
       "<pre>| 48      | 1.97s        | 0.00136064             |</pre>"
      ],
      "text/plain": [
       "| 48      | 1.97s        | 0.00136064             |"
      ]
     },
     "metadata": {},
     "output_type": "display_data"
    },
    {
     "data": {
      "text/html": [
       "<pre>| 49      | 2.00s        | 0.0013375              |</pre>"
      ],
      "text/plain": [
       "| 49      | 2.00s        | 0.0013375              |"
      ]
     },
     "metadata": {},
     "output_type": "display_data"
    },
    {
     "data": {
      "text/html": [
       "<pre>| FINAL   | 2.00s        | 0.0013375              |</pre>"
      ],
      "text/plain": [
       "| FINAL   | 2.00s        | 0.0013375              |"
      ]
     },
     "metadata": {},
     "output_type": "display_data"
    },
    {
     "data": {
      "text/html": [
       "<pre>+---------+--------------+------------------------+</pre>"
      ],
      "text/plain": [
       "+---------+--------------+------------------------+"
      ]
     },
     "metadata": {},
     "output_type": "display_data"
    },
    {
     "data": {
      "text/html": [
       "<pre>Optimization Complete: Iteration limit reached.</pre>"
      ],
      "text/plain": [
       "Optimization Complete: Iteration limit reached."
      ]
     },
     "metadata": {},
     "output_type": "display_data"
    },
    {
     "data": {
      "text/html": [
       "<pre>Recsys training: model = factorization_recommender</pre>"
      ],
      "text/plain": [
       "Recsys training: model = factorization_recommender"
      ]
     },
     "metadata": {},
     "output_type": "display_data"
    },
    {
     "data": {
      "text/html": [
       "<pre>Preparing data set.</pre>"
      ],
      "text/plain": [
       "Preparing data set."
      ]
     },
     "metadata": {},
     "output_type": "display_data"
    },
    {
     "data": {
      "text/html": [
       "<pre>    Data has 24756 observations with 12294 users and 894 items.</pre>"
      ],
      "text/plain": [
       "    Data has 24756 observations with 12294 users and 894 items."
      ]
     },
     "metadata": {},
     "output_type": "display_data"
    },
    {
     "data": {
      "text/html": [
       "<pre>    Data prepared in: 0.047968s</pre>"
      ],
      "text/plain": [
       "    Data prepared in: 0.047968s"
      ]
     },
     "metadata": {},
     "output_type": "display_data"
    },
    {
     "data": {
      "text/html": [
       "<pre>Training factorization_recommender for recommendations.</pre>"
      ],
      "text/plain": [
       "Training factorization_recommender for recommendations."
      ]
     },
     "metadata": {},
     "output_type": "display_data"
    },
    {
     "data": {
      "text/html": [
       "<pre>+------------------------------+--------------------------------------------------+----------+</pre>"
      ],
      "text/plain": [
       "+------------------------------+--------------------------------------------------+----------+"
      ]
     },
     "metadata": {},
     "output_type": "display_data"
    },
    {
     "data": {
      "text/html": [
       "<pre>| Parameter                    | Description                                      | Value    |</pre>"
      ],
      "text/plain": [
       "| Parameter                    | Description                                      | Value    |"
      ]
     },
     "metadata": {},
     "output_type": "display_data"
    },
    {
     "data": {
      "text/html": [
       "<pre>+------------------------------+--------------------------------------------------+----------+</pre>"
      ],
      "text/plain": [
       "+------------------------------+--------------------------------------------------+----------+"
      ]
     },
     "metadata": {},
     "output_type": "display_data"
    },
    {
     "data": {
      "text/html": [
       "<pre>| num_factors                  | Factor Dimension                                 | 10       |</pre>"
      ],
      "text/plain": [
       "| num_factors                  | Factor Dimension                                 | 10       |"
      ]
     },
     "metadata": {},
     "output_type": "display_data"
    },
    {
     "data": {
      "text/html": [
       "<pre>| regularization               | L2 Regularization on Factors                     | 1e-08    |</pre>"
      ],
      "text/plain": [
       "| regularization               | L2 Regularization on Factors                     | 1e-08    |"
      ]
     },
     "metadata": {},
     "output_type": "display_data"
    },
    {
     "data": {
      "text/html": [
       "<pre>| max_iterations               | Maximum Number of Iterations                     | 50       |</pre>"
      ],
      "text/plain": [
       "| max_iterations               | Maximum Number of Iterations                     | 50       |"
      ]
     },
     "metadata": {},
     "output_type": "display_data"
    },
    {
     "data": {
      "text/html": [
       "<pre>| solver                       | Solver used for training                         | als      |</pre>"
      ],
      "text/plain": [
       "| solver                       | Solver used for training                         | als      |"
      ]
     },
     "metadata": {},
     "output_type": "display_data"
    },
    {
     "data": {
      "text/html": [
       "<pre>+------------------------------+--------------------------------------------------+----------+</pre>"
      ],
      "text/plain": [
       "+------------------------------+--------------------------------------------------+----------+"
      ]
     },
     "metadata": {},
     "output_type": "display_data"
    },
    {
     "data": {
      "text/html": [
       "<pre>+---------+--------------+------------------------+</pre>"
      ],
      "text/plain": [
       "+---------+--------------+------------------------+"
      ]
     },
     "metadata": {},
     "output_type": "display_data"
    },
    {
     "data": {
      "text/html": [
       "<pre>| Iter.   | Elapsed time | RMSE                   |</pre>"
      ],
      "text/plain": [
       "| Iter.   | Elapsed time | RMSE                   |"
      ]
     },
     "metadata": {},
     "output_type": "display_data"
    },
    {
     "data": {
      "text/html": [
       "<pre>+---------+--------------+------------------------+</pre>"
      ],
      "text/plain": [
       "+---------+--------------+------------------------+"
      ]
     },
     "metadata": {},
     "output_type": "display_data"
    },
    {
     "data": {
      "text/html": [
       "<pre>| Initial | 89us         | NA                     |</pre>"
      ],
      "text/plain": [
       "| Initial | 89us         | NA                     |"
      ]
     },
     "metadata": {},
     "output_type": "display_data"
    },
    {
     "data": {
      "text/html": [
       "<pre>+---------+--------------+------------------------+</pre>"
      ],
      "text/plain": [
       "+---------+--------------+------------------------+"
      ]
     },
     "metadata": {},
     "output_type": "display_data"
    },
    {
     "data": {
      "text/html": [
       "<pre>| 0       | 52.18ms      | 0.151387               |</pre>"
      ],
      "text/plain": [
       "| 0       | 52.18ms      | 0.151387               |"
      ]
     },
     "metadata": {},
     "output_type": "display_data"
    },
    {
     "data": {
      "text/html": [
       "<pre>| 1       | 85.745ms     | 0.00646065             |</pre>"
      ],
      "text/plain": [
       "| 1       | 85.745ms     | 0.00646065             |"
      ]
     },
     "metadata": {},
     "output_type": "display_data"
    },
    {
     "data": {
      "text/html": [
       "<pre>| 2       | 129.348ms    | 0.00464662             |</pre>"
      ],
      "text/plain": [
       "| 2       | 129.348ms    | 0.00464662             |"
      ]
     },
     "metadata": {},
     "output_type": "display_data"
    },
    {
     "data": {
      "text/html": [
       "<pre>| 3       | 162.055ms    | 0.00367914             |</pre>"
      ],
      "text/plain": [
       "| 3       | 162.055ms    | 0.00367914             |"
      ]
     },
     "metadata": {},
     "output_type": "display_data"
    },
    {
     "data": {
      "text/html": [
       "<pre>| 4       | 213.447ms    | 0.00300112             |</pre>"
      ],
      "text/plain": [
       "| 4       | 213.447ms    | 0.00300112             |"
      ]
     },
     "metadata": {},
     "output_type": "display_data"
    },
    {
     "data": {
      "text/html": [
       "<pre>| 5       | 261.401ms    | 0.00251833             |</pre>"
      ],
      "text/plain": [
       "| 5       | 261.401ms    | 0.00251833             |"
      ]
     },
     "metadata": {},
     "output_type": "display_data"
    },
    {
     "data": {
      "text/html": [
       "<pre>| 6       | 302.988ms    | 0.00218049             |</pre>"
      ],
      "text/plain": [
       "| 6       | 302.988ms    | 0.00218049             |"
      ]
     },
     "metadata": {},
     "output_type": "display_data"
    },
    {
     "data": {
      "text/html": [
       "<pre>| 7       | 334.561ms    | 0.00193988             |</pre>"
      ],
      "text/plain": [
       "| 7       | 334.561ms    | 0.00193988             |"
      ]
     },
     "metadata": {},
     "output_type": "display_data"
    },
    {
     "data": {
      "text/html": [
       "<pre>| 8       | 375.165ms    | 0.0017693              |</pre>"
      ],
      "text/plain": [
       "| 8       | 375.165ms    | 0.0017693              |"
      ]
     },
     "metadata": {},
     "output_type": "display_data"
    },
    {
     "data": {
      "text/html": [
       "<pre>| 9       | 411.401ms    | 0.00164837             |</pre>"
      ],
      "text/plain": [
       "| 9       | 411.401ms    | 0.00164837             |"
      ]
     },
     "metadata": {},
     "output_type": "display_data"
    },
    {
     "data": {
      "text/html": [
       "<pre>| 10      | 444.476ms    | 0.00155866             |</pre>"
      ],
      "text/plain": [
       "| 10      | 444.476ms    | 0.00155866             |"
      ]
     },
     "metadata": {},
     "output_type": "display_data"
    },
    {
     "data": {
      "text/html": [
       "<pre>| 11      | 465.43ms     | 0.00148868             |</pre>"
      ],
      "text/plain": [
       "| 11      | 465.43ms     | 0.00148868             |"
      ]
     },
     "metadata": {},
     "output_type": "display_data"
    },
    {
     "data": {
      "text/html": [
       "<pre>| 12      | 517.806ms    | 0.00143001             |</pre>"
      ],
      "text/plain": [
       "| 12      | 517.806ms    | 0.00143001             |"
      ]
     },
     "metadata": {},
     "output_type": "display_data"
    },
    {
     "data": {
      "text/html": [
       "<pre>| 13      | 550.629ms    | 0.00137952             |</pre>"
      ],
      "text/plain": [
       "| 13      | 550.629ms    | 0.00137952             |"
      ]
     },
     "metadata": {},
     "output_type": "display_data"
    },
    {
     "data": {
      "text/html": [
       "<pre>| 14      | 598.685ms    | 0.00133532             |</pre>"
      ],
      "text/plain": [
       "| 14      | 598.685ms    | 0.00133532             |"
      ]
     },
     "metadata": {},
     "output_type": "display_data"
    },
    {
     "data": {
      "text/html": [
       "<pre>| 15      | 646.543ms    | 0.00129518             |</pre>"
      ],
      "text/plain": [
       "| 15      | 646.543ms    | 0.00129518             |"
      ]
     },
     "metadata": {},
     "output_type": "display_data"
    },
    {
     "data": {
      "text/html": [
       "<pre>| 16      | 679.143ms    | 0.00125854             |</pre>"
      ],
      "text/plain": [
       "| 16      | 679.143ms    | 0.00125854             |"
      ]
     },
     "metadata": {},
     "output_type": "display_data"
    },
    {
     "data": {
      "text/html": [
       "<pre>| 17      | 699.172ms    | 0.00122443             |</pre>"
      ],
      "text/plain": [
       "| 17      | 699.172ms    | 0.00122443             |"
      ]
     },
     "metadata": {},
     "output_type": "display_data"
    },
    {
     "data": {
      "text/html": [
       "<pre>| 18      | 747.225ms    | 0.00119331             |</pre>"
      ],
      "text/plain": [
       "| 18      | 747.225ms    | 0.00119331             |"
      ]
     },
     "metadata": {},
     "output_type": "display_data"
    },
    {
     "data": {
      "text/html": [
       "<pre>| 19      | 798.459ms    | 0.00116429             |</pre>"
      ],
      "text/plain": [
       "| 19      | 798.459ms    | 0.00116429             |"
      ]
     },
     "metadata": {},
     "output_type": "display_data"
    },
    {
     "data": {
      "text/html": [
       "<pre>| 20      | 840.106ms    | 0.00113745             |</pre>"
      ],
      "text/plain": [
       "| 20      | 840.106ms    | 0.00113745             |"
      ]
     },
     "metadata": {},
     "output_type": "display_data"
    },
    {
     "data": {
      "text/html": [
       "<pre>| 21      | 870.474ms    | 0.00111185             |</pre>"
      ],
      "text/plain": [
       "| 21      | 870.474ms    | 0.00111185             |"
      ]
     },
     "metadata": {},
     "output_type": "display_data"
    },
    {
     "data": {
      "text/html": [
       "<pre>| 22      | 917.137ms    | 0.00108786             |</pre>"
      ],
      "text/plain": [
       "| 22      | 917.137ms    | 0.00108786             |"
      ]
     },
     "metadata": {},
     "output_type": "display_data"
    },
    {
     "data": {
      "text/html": [
       "<pre>| 23      | 972.002ms    | 0.00106506             |</pre>"
      ],
      "text/plain": [
       "| 23      | 972.002ms    | 0.00106506             |"
      ]
     },
     "metadata": {},
     "output_type": "display_data"
    },
    {
     "data": {
      "text/html": [
       "<pre>| 24      | 1.01s        | 0.00104345             |</pre>"
      ],
      "text/plain": [
       "| 24      | 1.01s        | 0.00104345             |"
      ]
     },
     "metadata": {},
     "output_type": "display_data"
    },
    {
     "data": {
      "text/html": [
       "<pre>| 25      | 1.06s        | 0.00102297             |</pre>"
      ],
      "text/plain": [
       "| 25      | 1.06s        | 0.00102297             |"
      ]
     },
     "metadata": {},
     "output_type": "display_data"
    },
    {
     "data": {
      "text/html": [
       "<pre>| 26      | 1.10s        | 0.0010039              |</pre>"
      ],
      "text/plain": [
       "| 26      | 1.10s        | 0.0010039              |"
      ]
     },
     "metadata": {},
     "output_type": "display_data"
    },
    {
     "data": {
      "text/html": [
       "<pre>| 27      | 1.15s        | 0.000985263            |</pre>"
      ],
      "text/plain": [
       "| 27      | 1.15s        | 0.000985263            |"
      ]
     },
     "metadata": {},
     "output_type": "display_data"
    },
    {
     "data": {
      "text/html": [
       "<pre>| 28      | 1.18s        | 0.000967328            |</pre>"
      ],
      "text/plain": [
       "| 28      | 1.18s        | 0.000967328            |"
      ]
     },
     "metadata": {},
     "output_type": "display_data"
    },
    {
     "data": {
      "text/html": [
       "<pre>| 29      | 1.23s        | 0.000950193            |</pre>"
      ],
      "text/plain": [
       "| 29      | 1.23s        | 0.000950193            |"
      ]
     },
     "metadata": {},
     "output_type": "display_data"
    },
    {
     "data": {
      "text/html": [
       "<pre>| 30      | 1.27s        | 0.000933673            |</pre>"
      ],
      "text/plain": [
       "| 30      | 1.27s        | 0.000933673            |"
      ]
     },
     "metadata": {},
     "output_type": "display_data"
    },
    {
     "data": {
      "text/html": [
       "<pre>| 31      | 1.30s        | 0.000918017            |</pre>"
      ],
      "text/plain": [
       "| 31      | 1.30s        | 0.000918017            |"
      ]
     },
     "metadata": {},
     "output_type": "display_data"
    },
    {
     "data": {
      "text/html": [
       "<pre>| 32      | 1.35s        | 0.000902981            |</pre>"
      ],
      "text/plain": [
       "| 32      | 1.35s        | 0.000902981            |"
      ]
     },
     "metadata": {},
     "output_type": "display_data"
    },
    {
     "data": {
      "text/html": [
       "<pre>| 33      | 1.39s        | 0.000888276            |</pre>"
      ],
      "text/plain": [
       "| 33      | 1.39s        | 0.000888276            |"
      ]
     },
     "metadata": {},
     "output_type": "display_data"
    },
    {
     "data": {
      "text/html": [
       "<pre>| 34      | 1.43s        | 0.000874489            |</pre>"
      ],
      "text/plain": [
       "| 34      | 1.43s        | 0.000874489            |"
      ]
     },
     "metadata": {},
     "output_type": "display_data"
    },
    {
     "data": {
      "text/html": [
       "<pre>| 35      | 1.47s        | 0.000860763            |</pre>"
      ],
      "text/plain": [
       "| 35      | 1.47s        | 0.000860763            |"
      ]
     },
     "metadata": {},
     "output_type": "display_data"
    },
    {
     "data": {
      "text/html": [
       "<pre>| 36      | 1.51s        | 0.000847716            |</pre>"
      ],
      "text/plain": [
       "| 36      | 1.51s        | 0.000847716            |"
      ]
     },
     "metadata": {},
     "output_type": "display_data"
    },
    {
     "data": {
      "text/html": [
       "<pre>| 37      | 1.55s        | 0.000835345            |</pre>"
      ],
      "text/plain": [
       "| 37      | 1.55s        | 0.000835345            |"
      ]
     },
     "metadata": {},
     "output_type": "display_data"
    },
    {
     "data": {
      "text/html": [
       "<pre>| 38      | 1.60s        | 0.000822904            |</pre>"
      ],
      "text/plain": [
       "| 38      | 1.60s        | 0.000822904            |"
      ]
     },
     "metadata": {},
     "output_type": "display_data"
    },
    {
     "data": {
      "text/html": [
       "<pre>| 39      | 1.64s        | 0.000810897            |</pre>"
      ],
      "text/plain": [
       "| 39      | 1.64s        | 0.000810897            |"
      ]
     },
     "metadata": {},
     "output_type": "display_data"
    },
    {
     "data": {
      "text/html": [
       "<pre>| 40      | 1.67s        | 0.000799736            |</pre>"
      ],
      "text/plain": [
       "| 40      | 1.67s        | 0.000799736            |"
      ]
     },
     "metadata": {},
     "output_type": "display_data"
    },
    {
     "data": {
      "text/html": [
       "<pre>| 41      | 1.72s        | 0.000788478            |</pre>"
      ],
      "text/plain": [
       "| 41      | 1.72s        | 0.000788478            |"
      ]
     },
     "metadata": {},
     "output_type": "display_data"
    },
    {
     "data": {
      "text/html": [
       "<pre>| 42      | 1.75s        | 0.000777666            |</pre>"
      ],
      "text/plain": [
       "| 42      | 1.75s        | 0.000777666            |"
      ]
     },
     "metadata": {},
     "output_type": "display_data"
    },
    {
     "data": {
      "text/html": [
       "<pre>| 43      | 1.80s        | 0.000767242            |</pre>"
      ],
      "text/plain": [
       "| 43      | 1.80s        | 0.000767242            |"
      ]
     },
     "metadata": {},
     "output_type": "display_data"
    },
    {
     "data": {
      "text/html": [
       "<pre>| 44      | 1.86s        | 0.000756794            |</pre>"
      ],
      "text/plain": [
       "| 44      | 1.86s        | 0.000756794            |"
      ]
     },
     "metadata": {},
     "output_type": "display_data"
    },
    {
     "data": {
      "text/html": [
       "<pre>| 45      | 1.90s        | 0.000746716            |</pre>"
      ],
      "text/plain": [
       "| 45      | 1.90s        | 0.000746716            |"
      ]
     },
     "metadata": {},
     "output_type": "display_data"
    },
    {
     "data": {
      "text/html": [
       "<pre>| 46      | 1.94s        | 0.000737231            |</pre>"
      ],
      "text/plain": [
       "| 46      | 1.94s        | 0.000737231            |"
      ]
     },
     "metadata": {},
     "output_type": "display_data"
    },
    {
     "data": {
      "text/html": [
       "<pre>| 47      | 1.98s        | 0.000728037            |</pre>"
      ],
      "text/plain": [
       "| 47      | 1.98s        | 0.000728037            |"
      ]
     },
     "metadata": {},
     "output_type": "display_data"
    },
    {
     "data": {
      "text/html": [
       "<pre>| 48      | 2.02s        | 0.000719075            |</pre>"
      ],
      "text/plain": [
       "| 48      | 2.02s        | 0.000719075            |"
      ]
     },
     "metadata": {},
     "output_type": "display_data"
    },
    {
     "data": {
      "text/html": [
       "<pre>| 49      | 2.05s        | 0.000710371            |</pre>"
      ],
      "text/plain": [
       "| 49      | 2.05s        | 0.000710371            |"
      ]
     },
     "metadata": {},
     "output_type": "display_data"
    },
    {
     "data": {
      "text/html": [
       "<pre>| FINAL   | 2.05s        | 0.000710371            |</pre>"
      ],
      "text/plain": [
       "| FINAL   | 2.05s        | 0.000710371            |"
      ]
     },
     "metadata": {},
     "output_type": "display_data"
    },
    {
     "data": {
      "text/html": [
       "<pre>+---------+--------------+------------------------+</pre>"
      ],
      "text/plain": [
       "+---------+--------------+------------------------+"
      ]
     },
     "metadata": {},
     "output_type": "display_data"
    },
    {
     "data": {
      "text/html": [
       "<pre>Optimization Complete: Iteration limit reached.</pre>"
      ],
      "text/plain": [
       "Optimization Complete: Iteration limit reached."
      ]
     },
     "metadata": {},
     "output_type": "display_data"
    },
    {
     "data": {
      "text/html": [
       "<pre>Recsys training: model = factorization_recommender</pre>"
      ],
      "text/plain": [
       "Recsys training: model = factorization_recommender"
      ]
     },
     "metadata": {},
     "output_type": "display_data"
    },
    {
     "data": {
      "text/html": [
       "<pre>Preparing data set.</pre>"
      ],
      "text/plain": [
       "Preparing data set."
      ]
     },
     "metadata": {},
     "output_type": "display_data"
    },
    {
     "data": {
      "text/html": [
       "<pre>    Data has 24756 observations with 12294 users and 894 items.</pre>"
      ],
      "text/plain": [
       "    Data has 24756 observations with 12294 users and 894 items."
      ]
     },
     "metadata": {},
     "output_type": "display_data"
    },
    {
     "data": {
      "text/html": [
       "<pre>    Data prepared in: 0.049725s</pre>"
      ],
      "text/plain": [
       "    Data prepared in: 0.049725s"
      ]
     },
     "metadata": {},
     "output_type": "display_data"
    },
    {
     "data": {
      "text/html": [
       "<pre>Training factorization_recommender for recommendations.</pre>"
      ],
      "text/plain": [
       "Training factorization_recommender for recommendations."
      ]
     },
     "metadata": {},
     "output_type": "display_data"
    },
    {
     "data": {
      "text/html": [
       "<pre>+------------------------------+--------------------------------------------------+----------+</pre>"
      ],
      "text/plain": [
       "+------------------------------+--------------------------------------------------+----------+"
      ]
     },
     "metadata": {},
     "output_type": "display_data"
    },
    {
     "data": {
      "text/html": [
       "<pre>| Parameter                    | Description                                      | Value    |</pre>"
      ],
      "text/plain": [
       "| Parameter                    | Description                                      | Value    |"
      ]
     },
     "metadata": {},
     "output_type": "display_data"
    },
    {
     "data": {
      "text/html": [
       "<pre>+------------------------------+--------------------------------------------------+----------+</pre>"
      ],
      "text/plain": [
       "+------------------------------+--------------------------------------------------+----------+"
      ]
     },
     "metadata": {},
     "output_type": "display_data"
    },
    {
     "data": {
      "text/html": [
       "<pre>| num_factors                  | Factor Dimension                                 | 12       |</pre>"
      ],
      "text/plain": [
       "| num_factors                  | Factor Dimension                                 | 12       |"
      ]
     },
     "metadata": {},
     "output_type": "display_data"
    },
    {
     "data": {
      "text/html": [
       "<pre>| regularization               | L2 Regularization on Factors                     | 1e-08    |</pre>"
      ],
      "text/plain": [
       "| regularization               | L2 Regularization on Factors                     | 1e-08    |"
      ]
     },
     "metadata": {},
     "output_type": "display_data"
    },
    {
     "data": {
      "text/html": [
       "<pre>| max_iterations               | Maximum Number of Iterations                     | 50       |</pre>"
      ],
      "text/plain": [
       "| max_iterations               | Maximum Number of Iterations                     | 50       |"
      ]
     },
     "metadata": {},
     "output_type": "display_data"
    },
    {
     "data": {
      "text/html": [
       "<pre>| solver                       | Solver used for training                         | als      |</pre>"
      ],
      "text/plain": [
       "| solver                       | Solver used for training                         | als      |"
      ]
     },
     "metadata": {},
     "output_type": "display_data"
    },
    {
     "data": {
      "text/html": [
       "<pre>+------------------------------+--------------------------------------------------+----------+</pre>"
      ],
      "text/plain": [
       "+------------------------------+--------------------------------------------------+----------+"
      ]
     },
     "metadata": {},
     "output_type": "display_data"
    },
    {
     "data": {
      "text/html": [
       "<pre>+---------+--------------+------------------------+</pre>"
      ],
      "text/plain": [
       "+---------+--------------+------------------------+"
      ]
     },
     "metadata": {},
     "output_type": "display_data"
    },
    {
     "data": {
      "text/html": [
       "<pre>| Iter.   | Elapsed time | RMSE                   |</pre>"
      ],
      "text/plain": [
       "| Iter.   | Elapsed time | RMSE                   |"
      ]
     },
     "metadata": {},
     "output_type": "display_data"
    },
    {
     "data": {
      "text/html": [
       "<pre>+---------+--------------+------------------------+</pre>"
      ],
      "text/plain": [
       "+---------+--------------+------------------------+"
      ]
     },
     "metadata": {},
     "output_type": "display_data"
    },
    {
     "data": {
      "text/html": [
       "<pre>| Initial | 70us         | NA                     |</pre>"
      ],
      "text/plain": [
       "| Initial | 70us         | NA                     |"
      ]
     },
     "metadata": {},
     "output_type": "display_data"
    },
    {
     "data": {
      "text/html": [
       "<pre>+---------+--------------+------------------------+</pre>"
      ],
      "text/plain": [
       "+---------+--------------+------------------------+"
      ]
     },
     "metadata": {},
     "output_type": "display_data"
    },
    {
     "data": {
      "text/html": [
       "<pre>| 0       | 59.805ms     | 0.137975               |</pre>"
      ],
      "text/plain": [
       "| 0       | 59.805ms     | 0.137975               |"
      ]
     },
     "metadata": {},
     "output_type": "display_data"
    },
    {
     "data": {
      "text/html": [
       "<pre>| 1       | 89.621ms     | 0.0035646              |</pre>"
      ],
      "text/plain": [
       "| 1       | 89.621ms     | 0.0035646              |"
      ]
     },
     "metadata": {},
     "output_type": "display_data"
    },
    {
     "data": {
      "text/html": [
       "<pre>| 2       | 141.884ms    | 0.00191137             |</pre>"
      ],
      "text/plain": [
       "| 2       | 141.884ms    | 0.00191137             |"
      ]
     },
     "metadata": {},
     "output_type": "display_data"
    },
    {
     "data": {
      "text/html": [
       "<pre>| 3       | 183.374ms    | 0.0014605              |</pre>"
      ],
      "text/plain": [
       "| 3       | 183.374ms    | 0.0014605              |"
      ]
     },
     "metadata": {},
     "output_type": "display_data"
    },
    {
     "data": {
      "text/html": [
       "<pre>| 4       | 227.511ms    | 0.00126832             |</pre>"
      ],
      "text/plain": [
       "| 4       | 227.511ms    | 0.00126832             |"
      ]
     },
     "metadata": {},
     "output_type": "display_data"
    },
    {
     "data": {
      "text/html": [
       "<pre>| 5       | 266.846ms    | 0.00116294             |</pre>"
      ],
      "text/plain": [
       "| 5       | 266.846ms    | 0.00116294             |"
      ]
     },
     "metadata": {},
     "output_type": "display_data"
    },
    {
     "data": {
      "text/html": [
       "<pre>| 6       | 317.846ms    | 0.00109502             |</pre>"
      ],
      "text/plain": [
       "| 6       | 317.846ms    | 0.00109502             |"
      ]
     },
     "metadata": {},
     "output_type": "display_data"
    },
    {
     "data": {
      "text/html": [
       "<pre>| 7       | 366.426ms    | 0.00104195             |</pre>"
      ],
      "text/plain": [
       "| 7       | 366.426ms    | 0.00104195             |"
      ]
     },
     "metadata": {},
     "output_type": "display_data"
    },
    {
     "data": {
      "text/html": [
       "<pre>| 8       | 414.753ms    | 0.00099971             |</pre>"
      ],
      "text/plain": [
       "| 8       | 414.753ms    | 0.00099971             |"
      ]
     },
     "metadata": {},
     "output_type": "display_data"
    },
    {
     "data": {
      "text/html": [
       "<pre>| 9       | 462.418ms    | 0.000963801            |</pre>"
      ],
      "text/plain": [
       "| 9       | 462.418ms    | 0.000963801            |"
      ]
     },
     "metadata": {},
     "output_type": "display_data"
    },
    {
     "data": {
      "text/html": [
       "<pre>| 10      | 501.785ms    | 0.000932925            |</pre>"
      ],
      "text/plain": [
       "| 10      | 501.785ms    | 0.000932925            |"
      ]
     },
     "metadata": {},
     "output_type": "display_data"
    },
    {
     "data": {
      "text/html": [
       "<pre>| 11      | 555.414ms    | 0.000905021            |</pre>"
      ],
      "text/plain": [
       "| 11      | 555.414ms    | 0.000905021            |"
      ]
     },
     "metadata": {},
     "output_type": "display_data"
    },
    {
     "data": {
      "text/html": [
       "<pre>| 12      | 604.723ms    | 0.000878855            |</pre>"
      ],
      "text/plain": [
       "| 12      | 604.723ms    | 0.000878855            |"
      ]
     },
     "metadata": {},
     "output_type": "display_data"
    },
    {
     "data": {
      "text/html": [
       "<pre>| 13      | 634.332ms    | 0.000856372            |</pre>"
      ],
      "text/plain": [
       "| 13      | 634.332ms    | 0.000856372            |"
      ]
     },
     "metadata": {},
     "output_type": "display_data"
    },
    {
     "data": {
      "text/html": [
       "<pre>| 14      | 691.333ms    | 0.000834489            |</pre>"
      ],
      "text/plain": [
       "| 14      | 691.333ms    | 0.000834489            |"
      ]
     },
     "metadata": {},
     "output_type": "display_data"
    },
    {
     "data": {
      "text/html": [
       "<pre>| 15      | 730.181ms    | 0.000815099            |</pre>"
      ],
      "text/plain": [
       "| 15      | 730.181ms    | 0.000815099            |"
      ]
     },
     "metadata": {},
     "output_type": "display_data"
    },
    {
     "data": {
      "text/html": [
       "<pre>| 16      | 774.993ms    | 0.000797163            |</pre>"
      ],
      "text/plain": [
       "| 16      | 774.993ms    | 0.000797163            |"
      ]
     },
     "metadata": {},
     "output_type": "display_data"
    },
    {
     "data": {
      "text/html": [
       "<pre>| 17      | 815.391ms    | 0.000779263            |</pre>"
      ],
      "text/plain": [
       "| 17      | 815.391ms    | 0.000779263            |"
      ]
     },
     "metadata": {},
     "output_type": "display_data"
    },
    {
     "data": {
      "text/html": [
       "<pre>| 18      | 860.554ms    | 0.000763459            |</pre>"
      ],
      "text/plain": [
       "| 18      | 860.554ms    | 0.000763459            |"
      ]
     },
     "metadata": {},
     "output_type": "display_data"
    },
    {
     "data": {
      "text/html": [
       "<pre>| 19      | 912.038ms    | 0.000748148            |</pre>"
      ],
      "text/plain": [
       "| 19      | 912.038ms    | 0.000748148            |"
      ]
     },
     "metadata": {},
     "output_type": "display_data"
    },
    {
     "data": {
      "text/html": [
       "<pre>| 20      | 950.107ms    | 0.000733363            |</pre>"
      ],
      "text/plain": [
       "| 20      | 950.107ms    | 0.000733363            |"
      ]
     },
     "metadata": {},
     "output_type": "display_data"
    },
    {
     "data": {
      "text/html": [
       "<pre>| 21      | 979.306ms    | 0.000719318            |</pre>"
      ],
      "text/plain": [
       "| 21      | 979.306ms    | 0.000719318            |"
      ]
     },
     "metadata": {},
     "output_type": "display_data"
    },
    {
     "data": {
      "text/html": [
       "<pre>| 22      | 1.02s        | 0.000706357            |</pre>"
      ],
      "text/plain": [
       "| 22      | 1.02s        | 0.000706357            |"
      ]
     },
     "metadata": {},
     "output_type": "display_data"
    },
    {
     "data": {
      "text/html": [
       "<pre>| 23      | 1.05s        | 0.000693648            |</pre>"
      ],
      "text/plain": [
       "| 23      | 1.05s        | 0.000693648            |"
      ]
     },
     "metadata": {},
     "output_type": "display_data"
    },
    {
     "data": {
      "text/html": [
       "<pre>| 24      | 1.11s        | 0.000681669            |</pre>"
      ],
      "text/plain": [
       "| 24      | 1.11s        | 0.000681669            |"
      ]
     },
     "metadata": {},
     "output_type": "display_data"
    },
    {
     "data": {
      "text/html": [
       "<pre>| 25      | 1.15s        | 0.000669827            |</pre>"
      ],
      "text/plain": [
       "| 25      | 1.15s        | 0.000669827            |"
      ]
     },
     "metadata": {},
     "output_type": "display_data"
    },
    {
     "data": {
      "text/html": [
       "<pre>| 26      | 1.20s        | 0.000658339            |</pre>"
      ],
      "text/plain": [
       "| 26      | 1.20s        | 0.000658339            |"
      ]
     },
     "metadata": {},
     "output_type": "display_data"
    },
    {
     "data": {
      "text/html": [
       "<pre>| 27      | 1.24s        | 0.000647651            |</pre>"
      ],
      "text/plain": [
       "| 27      | 1.24s        | 0.000647651            |"
      ]
     },
     "metadata": {},
     "output_type": "display_data"
    },
    {
     "data": {
      "text/html": [
       "<pre>| 28      | 1.28s        | 0.000637224            |</pre>"
      ],
      "text/plain": [
       "| 28      | 1.28s        | 0.000637224            |"
      ]
     },
     "metadata": {},
     "output_type": "display_data"
    },
    {
     "data": {
      "text/html": [
       "<pre>| 29      | 1.33s        | 0.000627039            |</pre>"
      ],
      "text/plain": [
       "| 29      | 1.33s        | 0.000627039            |"
      ]
     },
     "metadata": {},
     "output_type": "display_data"
    },
    {
     "data": {
      "text/html": [
       "<pre>| 30      | 1.38s        | 0.000617492            |</pre>"
      ],
      "text/plain": [
       "| 30      | 1.38s        | 0.000617492            |"
      ]
     },
     "metadata": {},
     "output_type": "display_data"
    },
    {
     "data": {
      "text/html": [
       "<pre>| 31      | 1.43s        | 0.000608124            |</pre>"
      ],
      "text/plain": [
       "| 31      | 1.43s        | 0.000608124            |"
      ]
     },
     "metadata": {},
     "output_type": "display_data"
    },
    {
     "data": {
      "text/html": [
       "<pre>| 32      | 1.49s        | 0.000599242            |</pre>"
      ],
      "text/plain": [
       "| 32      | 1.49s        | 0.000599242            |"
      ]
     },
     "metadata": {},
     "output_type": "display_data"
    },
    {
     "data": {
      "text/html": [
       "<pre>| 33      | 1.53s        | 0.000590154            |</pre>"
      ],
      "text/plain": [
       "| 33      | 1.53s        | 0.000590154            |"
      ]
     },
     "metadata": {},
     "output_type": "display_data"
    },
    {
     "data": {
      "text/html": [
       "<pre>| 34      | 1.57s        | 0.000582147            |</pre>"
      ],
      "text/plain": [
       "| 34      | 1.57s        | 0.000582147            |"
      ]
     },
     "metadata": {},
     "output_type": "display_data"
    },
    {
     "data": {
      "text/html": [
       "<pre>| 35      | 1.62s        | 0.000574076            |</pre>"
      ],
      "text/plain": [
       "| 35      | 1.62s        | 0.000574076            |"
      ]
     },
     "metadata": {},
     "output_type": "display_data"
    },
    {
     "data": {
      "text/html": [
       "<pre>| 36      | 1.68s        | 0.000565959            |</pre>"
      ],
      "text/plain": [
       "| 36      | 1.68s        | 0.000565959            |"
      ]
     },
     "metadata": {},
     "output_type": "display_data"
    },
    {
     "data": {
      "text/html": [
       "<pre>| 37      | 1.71s        | 0.000558583            |</pre>"
      ],
      "text/plain": [
       "| 37      | 1.71s        | 0.000558583            |"
      ]
     },
     "metadata": {},
     "output_type": "display_data"
    },
    {
     "data": {
      "text/html": [
       "<pre>| 38      | 1.76s        | 0.000551011            |</pre>"
      ],
      "text/plain": [
       "| 38      | 1.76s        | 0.000551011            |"
      ]
     },
     "metadata": {},
     "output_type": "display_data"
    },
    {
     "data": {
      "text/html": [
       "<pre>| 39      | 1.82s        | 0.000543801            |</pre>"
      ],
      "text/plain": [
       "| 39      | 1.82s        | 0.000543801            |"
      ]
     },
     "metadata": {},
     "output_type": "display_data"
    },
    {
     "data": {
      "text/html": [
       "<pre>| 40      | 1.85s        | 0.000536567            |</pre>"
      ],
      "text/plain": [
       "| 40      | 1.85s        | 0.000536567            |"
      ]
     },
     "metadata": {},
     "output_type": "display_data"
    },
    {
     "data": {
      "text/html": [
       "<pre>| 41      | 1.90s        | 0.000529522            |</pre>"
      ],
      "text/plain": [
       "| 41      | 1.90s        | 0.000529522            |"
      ]
     },
     "metadata": {},
     "output_type": "display_data"
    },
    {
     "data": {
      "text/html": [
       "<pre>| 42      | 1.93s        | 0.000523424            |</pre>"
      ],
      "text/plain": [
       "| 42      | 1.93s        | 0.000523424            |"
      ]
     },
     "metadata": {},
     "output_type": "display_data"
    },
    {
     "data": {
      "text/html": [
       "<pre>| 43      | 1.97s        | 0.000516776            |</pre>"
      ],
      "text/plain": [
       "| 43      | 1.97s        | 0.000516776            |"
      ]
     },
     "metadata": {},
     "output_type": "display_data"
    },
    {
     "data": {
      "text/html": [
       "<pre>| 44      | 2.02s        | 0.000510977            |</pre>"
      ],
      "text/plain": [
       "| 44      | 2.02s        | 0.000510977            |"
      ]
     },
     "metadata": {},
     "output_type": "display_data"
    },
    {
     "data": {
      "text/html": [
       "<pre>| 45      | 2.09s        | 0.00050464             |</pre>"
      ],
      "text/plain": [
       "| 45      | 2.09s        | 0.00050464             |"
      ]
     },
     "metadata": {},
     "output_type": "display_data"
    },
    {
     "data": {
      "text/html": [
       "<pre>| 46      | 2.14s        | 0.000498682            |</pre>"
      ],
      "text/plain": [
       "| 46      | 2.14s        | 0.000498682            |"
      ]
     },
     "metadata": {},
     "output_type": "display_data"
    },
    {
     "data": {
      "text/html": [
       "<pre>| 47      | 2.16s        | 0.000493087            |</pre>"
      ],
      "text/plain": [
       "| 47      | 2.16s        | 0.000493087            |"
      ]
     },
     "metadata": {},
     "output_type": "display_data"
    },
    {
     "data": {
      "text/html": [
       "<pre>| 48      | 2.21s        | 0.000487499            |</pre>"
      ],
      "text/plain": [
       "| 48      | 2.21s        | 0.000487499            |"
      ]
     },
     "metadata": {},
     "output_type": "display_data"
    },
    {
     "data": {
      "text/html": [
       "<pre>| 49      | 2.25s        | 0.000481968            |</pre>"
      ],
      "text/plain": [
       "| 49      | 2.25s        | 0.000481968            |"
      ]
     },
     "metadata": {},
     "output_type": "display_data"
    },
    {
     "data": {
      "text/html": [
       "<pre>| FINAL   | 2.25s        | 0.000481968            |</pre>"
      ],
      "text/plain": [
       "| FINAL   | 2.25s        | 0.000481968            |"
      ]
     },
     "metadata": {},
     "output_type": "display_data"
    },
    {
     "data": {
      "text/html": [
       "<pre>+---------+--------------+------------------------+</pre>"
      ],
      "text/plain": [
       "+---------+--------------+------------------------+"
      ]
     },
     "metadata": {},
     "output_type": "display_data"
    },
    {
     "data": {
      "text/html": [
       "<pre>Optimization Complete: Iteration limit reached.</pre>"
      ],
      "text/plain": [
       "Optimization Complete: Iteration limit reached."
      ]
     },
     "metadata": {},
     "output_type": "display_data"
    },
    {
     "data": {
      "text/html": [
       "<pre>Recsys training: model = factorization_recommender</pre>"
      ],
      "text/plain": [
       "Recsys training: model = factorization_recommender"
      ]
     },
     "metadata": {},
     "output_type": "display_data"
    },
    {
     "data": {
      "text/html": [
       "<pre>Preparing data set.</pre>"
      ],
      "text/plain": [
       "Preparing data set."
      ]
     },
     "metadata": {},
     "output_type": "display_data"
    },
    {
     "data": {
      "text/html": [
       "<pre>    Data has 24756 observations with 12294 users and 894 items.</pre>"
      ],
      "text/plain": [
       "    Data has 24756 observations with 12294 users and 894 items."
      ]
     },
     "metadata": {},
     "output_type": "display_data"
    },
    {
     "data": {
      "text/html": [
       "<pre>    Data prepared in: 0.047571s</pre>"
      ],
      "text/plain": [
       "    Data prepared in: 0.047571s"
      ]
     },
     "metadata": {},
     "output_type": "display_data"
    },
    {
     "data": {
      "text/html": [
       "<pre>Training factorization_recommender for recommendations.</pre>"
      ],
      "text/plain": [
       "Training factorization_recommender for recommendations."
      ]
     },
     "metadata": {},
     "output_type": "display_data"
    },
    {
     "data": {
      "text/html": [
       "<pre>+------------------------------+--------------------------------------------------+----------+</pre>"
      ],
      "text/plain": [
       "+------------------------------+--------------------------------------------------+----------+"
      ]
     },
     "metadata": {},
     "output_type": "display_data"
    },
    {
     "data": {
      "text/html": [
       "<pre>| Parameter                    | Description                                      | Value    |</pre>"
      ],
      "text/plain": [
       "| Parameter                    | Description                                      | Value    |"
      ]
     },
     "metadata": {},
     "output_type": "display_data"
    },
    {
     "data": {
      "text/html": [
       "<pre>+------------------------------+--------------------------------------------------+----------+</pre>"
      ],
      "text/plain": [
       "+------------------------------+--------------------------------------------------+----------+"
      ]
     },
     "metadata": {},
     "output_type": "display_data"
    },
    {
     "data": {
      "text/html": [
       "<pre>| num_factors                  | Factor Dimension                                 | 14       |</pre>"
      ],
      "text/plain": [
       "| num_factors                  | Factor Dimension                                 | 14       |"
      ]
     },
     "metadata": {},
     "output_type": "display_data"
    },
    {
     "data": {
      "text/html": [
       "<pre>| regularization               | L2 Regularization on Factors                     | 1e-08    |</pre>"
      ],
      "text/plain": [
       "| regularization               | L2 Regularization on Factors                     | 1e-08    |"
      ]
     },
     "metadata": {},
     "output_type": "display_data"
    },
    {
     "data": {
      "text/html": [
       "<pre>| max_iterations               | Maximum Number of Iterations                     | 50       |</pre>"
      ],
      "text/plain": [
       "| max_iterations               | Maximum Number of Iterations                     | 50       |"
      ]
     },
     "metadata": {},
     "output_type": "display_data"
    },
    {
     "data": {
      "text/html": [
       "<pre>| solver                       | Solver used for training                         | als      |</pre>"
      ],
      "text/plain": [
       "| solver                       | Solver used for training                         | als      |"
      ]
     },
     "metadata": {},
     "output_type": "display_data"
    },
    {
     "data": {
      "text/html": [
       "<pre>+------------------------------+--------------------------------------------------+----------+</pre>"
      ],
      "text/plain": [
       "+------------------------------+--------------------------------------------------+----------+"
      ]
     },
     "metadata": {},
     "output_type": "display_data"
    },
    {
     "data": {
      "text/html": [
       "<pre>+---------+--------------+------------------------+</pre>"
      ],
      "text/plain": [
       "+---------+--------------+------------------------+"
      ]
     },
     "metadata": {},
     "output_type": "display_data"
    },
    {
     "data": {
      "text/html": [
       "<pre>| Iter.   | Elapsed time | RMSE                   |</pre>"
      ],
      "text/plain": [
       "| Iter.   | Elapsed time | RMSE                   |"
      ]
     },
     "metadata": {},
     "output_type": "display_data"
    },
    {
     "data": {
      "text/html": [
       "<pre>+---------+--------------+------------------------+</pre>"
      ],
      "text/plain": [
       "+---------+--------------+------------------------+"
      ]
     },
     "metadata": {},
     "output_type": "display_data"
    },
    {
     "data": {
      "text/html": [
       "<pre>| Initial | 57us         | NA                     |</pre>"
      ],
      "text/plain": [
       "| Initial | 57us         | NA                     |"
      ]
     },
     "metadata": {},
     "output_type": "display_data"
    },
    {
     "data": {
      "text/html": [
       "<pre>+---------+--------------+------------------------+</pre>"
      ],
      "text/plain": [
       "+---------+--------------+------------------------+"
      ]
     },
     "metadata": {},
     "output_type": "display_data"
    },
    {
     "data": {
      "text/html": [
       "<pre>| 0       | 72.433ms     | 0.124801               |</pre>"
      ],
      "text/plain": [
       "| 0       | 72.433ms     | 0.124801               |"
      ]
     },
     "metadata": {},
     "output_type": "display_data"
    },
    {
     "data": {
      "text/html": [
       "<pre>| 1       | 123.776ms    | 0.00284211             |</pre>"
      ],
      "text/plain": [
       "| 1       | 123.776ms    | 0.00284211             |"
      ]
     },
     "metadata": {},
     "output_type": "display_data"
    },
    {
     "data": {
      "text/html": [
       "<pre>| 2       | 183.515ms    | 0.00141101             |</pre>"
      ],
      "text/plain": [
       "| 2       | 183.515ms    | 0.00141101             |"
      ]
     },
     "metadata": {},
     "output_type": "display_data"
    },
    {
     "data": {
      "text/html": [
       "<pre>| 3       | 237.416ms    | 0.00116495             |</pre>"
      ],
      "text/plain": [
       "| 3       | 237.416ms    | 0.00116495             |"
      ]
     },
     "metadata": {},
     "output_type": "display_data"
    },
    {
     "data": {
      "text/html": [
       "<pre>| 4       | 285.819ms    | 0.00103754             |</pre>"
      ],
      "text/plain": [
       "| 4       | 285.819ms    | 0.00103754             |"
      ]
     },
     "metadata": {},
     "output_type": "display_data"
    },
    {
     "data": {
      "text/html": [
       "<pre>| 5       | 336.382ms    | 0.000948397            |</pre>"
      ],
      "text/plain": [
       "| 5       | 336.382ms    | 0.000948397            |"
      ]
     },
     "metadata": {},
     "output_type": "display_data"
    },
    {
     "data": {
      "text/html": [
       "<pre>| 6       | 388.722ms    | 0.000882239            |</pre>"
      ],
      "text/plain": [
       "| 6       | 388.722ms    | 0.000882239            |"
      ]
     },
     "metadata": {},
     "output_type": "display_data"
    },
    {
     "data": {
      "text/html": [
       "<pre>| 7       | 418.07ms     | 0.000828763            |</pre>"
      ],
      "text/plain": [
       "| 7       | 418.07ms     | 0.000828763            |"
      ]
     },
     "metadata": {},
     "output_type": "display_data"
    },
    {
     "data": {
      "text/html": [
       "<pre>| 8       | 472.737ms    | 0.000787289            |</pre>"
      ],
      "text/plain": [
       "| 8       | 472.737ms    | 0.000787289            |"
      ]
     },
     "metadata": {},
     "output_type": "display_data"
    },
    {
     "data": {
      "text/html": [
       "<pre>| 9       | 520.72ms     | 0.000752597            |</pre>"
      ],
      "text/plain": [
       "| 9       | 520.72ms     | 0.000752597            |"
      ]
     },
     "metadata": {},
     "output_type": "display_data"
    },
    {
     "data": {
      "text/html": [
       "<pre>| 10      | 552.894ms    | 0.000723836            |</pre>"
      ],
      "text/plain": [
       "| 10      | 552.894ms    | 0.000723836            |"
      ]
     },
     "metadata": {},
     "output_type": "display_data"
    },
    {
     "data": {
      "text/html": [
       "<pre>| 11      | 595.951ms    | 0.000696702            |</pre>"
      ],
      "text/plain": [
       "| 11      | 595.951ms    | 0.000696702            |"
      ]
     },
     "metadata": {},
     "output_type": "display_data"
    },
    {
     "data": {
      "text/html": [
       "<pre>| 12      | 628.824ms    | 0.000672861            |</pre>"
      ],
      "text/plain": [
       "| 12      | 628.824ms    | 0.000672861            |"
      ]
     },
     "metadata": {},
     "output_type": "display_data"
    },
    {
     "data": {
      "text/html": [
       "<pre>| 13      | 673.26ms     | 0.000649909            |</pre>"
      ],
      "text/plain": [
       "| 13      | 673.26ms     | 0.000649909            |"
      ]
     },
     "metadata": {},
     "output_type": "display_data"
    },
    {
     "data": {
      "text/html": [
       "<pre>| 14      | 719.486ms    | 0.000631518            |</pre>"
      ],
      "text/plain": [
       "| 14      | 719.486ms    | 0.000631518            |"
      ]
     },
     "metadata": {},
     "output_type": "display_data"
    },
    {
     "data": {
      "text/html": [
       "<pre>| 15      | 754.921ms    | 0.000614708            |</pre>"
      ],
      "text/plain": [
       "| 15      | 754.921ms    | 0.000614708            |"
      ]
     },
     "metadata": {},
     "output_type": "display_data"
    },
    {
     "data": {
      "text/html": [
       "<pre>| 16      | 804.916ms    | 0.000598248            |</pre>"
      ],
      "text/plain": [
       "| 16      | 804.916ms    | 0.000598248            |"
      ]
     },
     "metadata": {},
     "output_type": "display_data"
    },
    {
     "data": {
      "text/html": [
       "<pre>| 17      | 847.552ms    | 0.000584952            |</pre>"
      ],
      "text/plain": [
       "| 17      | 847.552ms    | 0.000584952            |"
      ]
     },
     "metadata": {},
     "output_type": "display_data"
    },
    {
     "data": {
      "text/html": [
       "<pre>| 18      | 900.081ms    | 0.000569344            |</pre>"
      ],
      "text/plain": [
       "| 18      | 900.081ms    | 0.000569344            |"
      ]
     },
     "metadata": {},
     "output_type": "display_data"
    },
    {
     "data": {
      "text/html": [
       "<pre>| 19      | 960.12ms     | 0.000558569            |</pre>"
      ],
      "text/plain": [
       "| 19      | 960.12ms     | 0.000558569            |"
      ]
     },
     "metadata": {},
     "output_type": "display_data"
    },
    {
     "data": {
      "text/html": [
       "<pre>| 20      | 994.867ms    | 0.000546366            |</pre>"
      ],
      "text/plain": [
       "| 20      | 994.867ms    | 0.000546366            |"
      ]
     },
     "metadata": {},
     "output_type": "display_data"
    },
    {
     "data": {
      "text/html": [
       "<pre>| 21      | 1.05s        | 0.000535258            |</pre>"
      ],
      "text/plain": [
       "| 21      | 1.05s        | 0.000535258            |"
      ]
     },
     "metadata": {},
     "output_type": "display_data"
    },
    {
     "data": {
      "text/html": [
       "<pre>| 22      | 1.11s        | 0.000524691            |</pre>"
      ],
      "text/plain": [
       "| 22      | 1.11s        | 0.000524691            |"
      ]
     },
     "metadata": {},
     "output_type": "display_data"
    },
    {
     "data": {
      "text/html": [
       "<pre>| 23      | 1.16s        | 0.000513866            |</pre>"
      ],
      "text/plain": [
       "| 23      | 1.16s        | 0.000513866            |"
      ]
     },
     "metadata": {},
     "output_type": "display_data"
    },
    {
     "data": {
      "text/html": [
       "<pre>| 24      | 1.21s        | 0.000503892            |</pre>"
      ],
      "text/plain": [
       "| 24      | 1.21s        | 0.000503892            |"
      ]
     },
     "metadata": {},
     "output_type": "display_data"
    },
    {
     "data": {
      "text/html": [
       "<pre>| 25      | 1.25s        | 0.000494541            |</pre>"
      ],
      "text/plain": [
       "| 25      | 1.25s        | 0.000494541            |"
      ]
     },
     "metadata": {},
     "output_type": "display_data"
    },
    {
     "data": {
      "text/html": [
       "<pre>| 26      | 1.28s        | 0.000485417            |</pre>"
      ],
      "text/plain": [
       "| 26      | 1.28s        | 0.000485417            |"
      ]
     },
     "metadata": {},
     "output_type": "display_data"
    },
    {
     "data": {
      "text/html": [
       "<pre>| 27      | 1.33s        | 0.000475698            |</pre>"
      ],
      "text/plain": [
       "| 27      | 1.33s        | 0.000475698            |"
      ]
     },
     "metadata": {},
     "output_type": "display_data"
    },
    {
     "data": {
      "text/html": [
       "<pre>| 28      | 1.38s        | 0.000465963            |</pre>"
      ],
      "text/plain": [
       "| 28      | 1.38s        | 0.000465963            |"
      ]
     },
     "metadata": {},
     "output_type": "display_data"
    },
    {
     "data": {
      "text/html": [
       "<pre>| 29      | 1.44s        | 0.000457743            |</pre>"
      ],
      "text/plain": [
       "| 29      | 1.44s        | 0.000457743            |"
      ]
     },
     "metadata": {},
     "output_type": "display_data"
    },
    {
     "data": {
      "text/html": [
       "<pre>| 30      | 1.50s        | 0.000450432            |</pre>"
      ],
      "text/plain": [
       "| 30      | 1.50s        | 0.000450432            |"
      ]
     },
     "metadata": {},
     "output_type": "display_data"
    },
    {
     "data": {
      "text/html": [
       "<pre>| 31      | 1.54s        | 0.000443624            |</pre>"
      ],
      "text/plain": [
       "| 31      | 1.54s        | 0.000443624            |"
      ]
     },
     "metadata": {},
     "output_type": "display_data"
    },
    {
     "data": {
      "text/html": [
       "<pre>| 32      | 1.60s        | 0.000437003            |</pre>"
      ],
      "text/plain": [
       "| 32      | 1.60s        | 0.000437003            |"
      ]
     },
     "metadata": {},
     "output_type": "display_data"
    },
    {
     "data": {
      "text/html": [
       "<pre>| 33      | 1.63s        | 0.000430459            |</pre>"
      ],
      "text/plain": [
       "| 33      | 1.63s        | 0.000430459            |"
      ]
     },
     "metadata": {},
     "output_type": "display_data"
    },
    {
     "data": {
      "text/html": [
       "<pre>| 34      | 1.69s        | 0.000424629            |</pre>"
      ],
      "text/plain": [
       "| 34      | 1.69s        | 0.000424629            |"
      ]
     },
     "metadata": {},
     "output_type": "display_data"
    },
    {
     "data": {
      "text/html": [
       "<pre>| 35      | 1.73s        | 0.000418824            |</pre>"
      ],
      "text/plain": [
       "| 35      | 1.73s        | 0.000418824            |"
      ]
     },
     "metadata": {},
     "output_type": "display_data"
    },
    {
     "data": {
      "text/html": [
       "<pre>| 36      | 1.79s        | 0.000412489            |</pre>"
      ],
      "text/plain": [
       "| 36      | 1.79s        | 0.000412489            |"
      ]
     },
     "metadata": {},
     "output_type": "display_data"
    },
    {
     "data": {
      "text/html": [
       "<pre>| 37      | 1.83s        | 0.000407178            |</pre>"
      ],
      "text/plain": [
       "| 37      | 1.83s        | 0.000407178            |"
      ]
     },
     "metadata": {},
     "output_type": "display_data"
    },
    {
     "data": {
      "text/html": [
       "<pre>| 38      | 1.87s        | 0.000401494            |</pre>"
      ],
      "text/plain": [
       "| 38      | 1.87s        | 0.000401494            |"
      ]
     },
     "metadata": {},
     "output_type": "display_data"
    },
    {
     "data": {
      "text/html": [
       "<pre>| 39      | 1.93s        | 0.00039646             |</pre>"
      ],
      "text/plain": [
       "| 39      | 1.93s        | 0.00039646             |"
      ]
     },
     "metadata": {},
     "output_type": "display_data"
    },
    {
     "data": {
      "text/html": [
       "<pre>| 40      | 1.98s        | 0.000391639            |</pre>"
      ],
      "text/plain": [
       "| 40      | 1.98s        | 0.000391639            |"
      ]
     },
     "metadata": {},
     "output_type": "display_data"
    },
    {
     "data": {
      "text/html": [
       "<pre>| 41      | 2.03s        | 0.000387089            |</pre>"
      ],
      "text/plain": [
       "| 41      | 2.03s        | 0.000387089            |"
      ]
     },
     "metadata": {},
     "output_type": "display_data"
    },
    {
     "data": {
      "text/html": [
       "<pre>| 42      | 2.08s        | 0.000382243            |</pre>"
      ],
      "text/plain": [
       "| 42      | 2.08s        | 0.000382243            |"
      ]
     },
     "metadata": {},
     "output_type": "display_data"
    },
    {
     "data": {
      "text/html": [
       "<pre>| 43      | 2.12s        | 0.000377615            |</pre>"
      ],
      "text/plain": [
       "| 43      | 2.12s        | 0.000377615            |"
      ]
     },
     "metadata": {},
     "output_type": "display_data"
    },
    {
     "data": {
      "text/html": [
       "<pre>| 44      | 2.17s        | 0.000373069            |</pre>"
      ],
      "text/plain": [
       "| 44      | 2.17s        | 0.000373069            |"
      ]
     },
     "metadata": {},
     "output_type": "display_data"
    },
    {
     "data": {
      "text/html": [
       "<pre>| 45      | 2.22s        | 0.000368861            |</pre>"
      ],
      "text/plain": [
       "| 45      | 2.22s        | 0.000368861            |"
      ]
     },
     "metadata": {},
     "output_type": "display_data"
    },
    {
     "data": {
      "text/html": [
       "<pre>| 46      | 2.26s        | 0.000364836            |</pre>"
      ],
      "text/plain": [
       "| 46      | 2.26s        | 0.000364836            |"
      ]
     },
     "metadata": {},
     "output_type": "display_data"
    },
    {
     "data": {
      "text/html": [
       "<pre>| 47      | 2.30s        | 0.00036055             |</pre>"
      ],
      "text/plain": [
       "| 47      | 2.30s        | 0.00036055             |"
      ]
     },
     "metadata": {},
     "output_type": "display_data"
    },
    {
     "data": {
      "text/html": [
       "<pre>| 48      | 2.34s        | 0.000356601            |</pre>"
      ],
      "text/plain": [
       "| 48      | 2.34s        | 0.000356601            |"
      ]
     },
     "metadata": {},
     "output_type": "display_data"
    },
    {
     "data": {
      "text/html": [
       "<pre>| 49      | 2.40s        | 0.000352883            |</pre>"
      ],
      "text/plain": [
       "| 49      | 2.40s        | 0.000352883            |"
      ]
     },
     "metadata": {},
     "output_type": "display_data"
    },
    {
     "data": {
      "text/html": [
       "<pre>| FINAL   | 2.40s        | 0.000352883            |</pre>"
      ],
      "text/plain": [
       "| FINAL   | 2.40s        | 0.000352883            |"
      ]
     },
     "metadata": {},
     "output_type": "display_data"
    },
    {
     "data": {
      "text/html": [
       "<pre>+---------+--------------+------------------------+</pre>"
      ],
      "text/plain": [
       "+---------+--------------+------------------------+"
      ]
     },
     "metadata": {},
     "output_type": "display_data"
    },
    {
     "data": {
      "text/html": [
       "<pre>Optimization Complete: Iteration limit reached.</pre>"
      ],
      "text/plain": [
       "Optimization Complete: Iteration limit reached."
      ]
     },
     "metadata": {},
     "output_type": "display_data"
    },
    {
     "data": {
      "text/html": [
       "<pre>Recsys training: model = factorization_recommender</pre>"
      ],
      "text/plain": [
       "Recsys training: model = factorization_recommender"
      ]
     },
     "metadata": {},
     "output_type": "display_data"
    },
    {
     "data": {
      "text/html": [
       "<pre>Preparing data set.</pre>"
      ],
      "text/plain": [
       "Preparing data set."
      ]
     },
     "metadata": {},
     "output_type": "display_data"
    },
    {
     "data": {
      "text/html": [
       "<pre>    Data has 24756 observations with 12294 users and 894 items.</pre>"
      ],
      "text/plain": [
       "    Data has 24756 observations with 12294 users and 894 items."
      ]
     },
     "metadata": {},
     "output_type": "display_data"
    },
    {
     "data": {
      "text/html": [
       "<pre>    Data prepared in: 0.046786s</pre>"
      ],
      "text/plain": [
       "    Data prepared in: 0.046786s"
      ]
     },
     "metadata": {},
     "output_type": "display_data"
    },
    {
     "data": {
      "text/html": [
       "<pre>Training factorization_recommender for recommendations.</pre>"
      ],
      "text/plain": [
       "Training factorization_recommender for recommendations."
      ]
     },
     "metadata": {},
     "output_type": "display_data"
    },
    {
     "data": {
      "text/html": [
       "<pre>+------------------------------+--------------------------------------------------+----------+</pre>"
      ],
      "text/plain": [
       "+------------------------------+--------------------------------------------------+----------+"
      ]
     },
     "metadata": {},
     "output_type": "display_data"
    },
    {
     "data": {
      "text/html": [
       "<pre>| Parameter                    | Description                                      | Value    |</pre>"
      ],
      "text/plain": [
       "| Parameter                    | Description                                      | Value    |"
      ]
     },
     "metadata": {},
     "output_type": "display_data"
    },
    {
     "data": {
      "text/html": [
       "<pre>+------------------------------+--------------------------------------------------+----------+</pre>"
      ],
      "text/plain": [
       "+------------------------------+--------------------------------------------------+----------+"
      ]
     },
     "metadata": {},
     "output_type": "display_data"
    },
    {
     "data": {
      "text/html": [
       "<pre>| num_factors                  | Factor Dimension                                 | 16       |</pre>"
      ],
      "text/plain": [
       "| num_factors                  | Factor Dimension                                 | 16       |"
      ]
     },
     "metadata": {},
     "output_type": "display_data"
    },
    {
     "data": {
      "text/html": [
       "<pre>| regularization               | L2 Regularization on Factors                     | 1e-08    |</pre>"
      ],
      "text/plain": [
       "| regularization               | L2 Regularization on Factors                     | 1e-08    |"
      ]
     },
     "metadata": {},
     "output_type": "display_data"
    },
    {
     "data": {
      "text/html": [
       "<pre>| max_iterations               | Maximum Number of Iterations                     | 50       |</pre>"
      ],
      "text/plain": [
       "| max_iterations               | Maximum Number of Iterations                     | 50       |"
      ]
     },
     "metadata": {},
     "output_type": "display_data"
    },
    {
     "data": {
      "text/html": [
       "<pre>| solver                       | Solver used for training                         | als      |</pre>"
      ],
      "text/plain": [
       "| solver                       | Solver used for training                         | als      |"
      ]
     },
     "metadata": {},
     "output_type": "display_data"
    },
    {
     "data": {
      "text/html": [
       "<pre>+------------------------------+--------------------------------------------------+----------+</pre>"
      ],
      "text/plain": [
       "+------------------------------+--------------------------------------------------+----------+"
      ]
     },
     "metadata": {},
     "output_type": "display_data"
    },
    {
     "data": {
      "text/html": [
       "<pre>+---------+--------------+------------------------+</pre>"
      ],
      "text/plain": [
       "+---------+--------------+------------------------+"
      ]
     },
     "metadata": {},
     "output_type": "display_data"
    },
    {
     "data": {
      "text/html": [
       "<pre>| Iter.   | Elapsed time | RMSE                   |</pre>"
      ],
      "text/plain": [
       "| Iter.   | Elapsed time | RMSE                   |"
      ]
     },
     "metadata": {},
     "output_type": "display_data"
    },
    {
     "data": {
      "text/html": [
       "<pre>+---------+--------------+------------------------+</pre>"
      ],
      "text/plain": [
       "+---------+--------------+------------------------+"
      ]
     },
     "metadata": {},
     "output_type": "display_data"
    },
    {
     "data": {
      "text/html": [
       "<pre>| Initial | 82us         | NA                     |</pre>"
      ],
      "text/plain": [
       "| Initial | 82us         | NA                     |"
      ]
     },
     "metadata": {},
     "output_type": "display_data"
    },
    {
     "data": {
      "text/html": [
       "<pre>+---------+--------------+------------------------+</pre>"
      ],
      "text/plain": [
       "+---------+--------------+------------------------+"
      ]
     },
     "metadata": {},
     "output_type": "display_data"
    },
    {
     "data": {
      "text/html": [
       "<pre>| 0       | 68.702ms     | 0.107853               |</pre>"
      ],
      "text/plain": [
       "| 0       | 68.702ms     | 0.107853               |"
      ]
     },
     "metadata": {},
     "output_type": "display_data"
    },
    {
     "data": {
      "text/html": [
       "<pre>| 1       | 123.161ms    | 0.000990352            |</pre>"
      ],
      "text/plain": [
       "| 1       | 123.161ms    | 0.000990352            |"
      ]
     },
     "metadata": {},
     "output_type": "display_data"
    },
    {
     "data": {
      "text/html": [
       "<pre>| 2       | 174.852ms    | 0.000946346            |</pre>"
      ],
      "text/plain": [
       "| 2       | 174.852ms    | 0.000946346            |"
      ]
     },
     "metadata": {},
     "output_type": "display_data"
    },
    {
     "data": {
      "text/html": [
       "<pre>| 3       | 232.664ms    | 0.000863465            |</pre>"
      ],
      "text/plain": [
       "| 3       | 232.664ms    | 0.000863465            |"
      ]
     },
     "metadata": {},
     "output_type": "display_data"
    },
    {
     "data": {
      "text/html": [
       "<pre>| 4       | 281.872ms    | 0.000740279            |</pre>"
      ],
      "text/plain": [
       "| 4       | 281.872ms    | 0.000740279            |"
      ]
     },
     "metadata": {},
     "output_type": "display_data"
    },
    {
     "data": {
      "text/html": [
       "<pre>| 5       | 339.685ms    | 0.000785535            |</pre>"
      ],
      "text/plain": [
       "| 5       | 339.685ms    | 0.000785535            |"
      ]
     },
     "metadata": {},
     "output_type": "display_data"
    },
    {
     "data": {
      "text/html": [
       "<pre>| 6       | 395.125ms    | 0.000659478            |</pre>"
      ],
      "text/plain": [
       "| 6       | 395.125ms    | 0.000659478            |"
      ]
     },
     "metadata": {},
     "output_type": "display_data"
    },
    {
     "data": {
      "text/html": [
       "<pre>| 7       | 435.337ms    | 0.000698074            |</pre>"
      ],
      "text/plain": [
       "| 7       | 435.337ms    | 0.000698074            |"
      ]
     },
     "metadata": {},
     "output_type": "display_data"
    },
    {
     "data": {
      "text/html": [
       "<pre>| 8       | 489.747ms    | 0.000630145            |</pre>"
      ],
      "text/plain": [
       "| 8       | 489.747ms    | 0.000630145            |"
      ]
     },
     "metadata": {},
     "output_type": "display_data"
    },
    {
     "data": {
      "text/html": [
       "<pre>| 9       | 529.767ms    | 0.00056417             |</pre>"
      ],
      "text/plain": [
       "| 9       | 529.767ms    | 0.00056417             |"
      ]
     },
     "metadata": {},
     "output_type": "display_data"
    },
    {
     "data": {
      "text/html": [
       "<pre>| 10      | 583.696ms    | 0.000590357            |</pre>"
      ],
      "text/plain": [
       "| 10      | 583.696ms    | 0.000590357            |"
      ]
     },
     "metadata": {},
     "output_type": "display_data"
    },
    {
     "data": {
      "text/html": [
       "<pre>| 11      | 641.073ms    | 0.000556323            |</pre>"
      ],
      "text/plain": [
       "| 11      | 641.073ms    | 0.000556323            |"
      ]
     },
     "metadata": {},
     "output_type": "display_data"
    },
    {
     "data": {
      "text/html": [
       "<pre>| 12      | 679.56ms     | 0.000526908            |</pre>"
      ],
      "text/plain": [
       "| 12      | 679.56ms     | 0.000526908            |"
      ]
     },
     "metadata": {},
     "output_type": "display_data"
    },
    {
     "data": {
      "text/html": [
       "<pre>| 13      | 730.32ms     | 0.000508716            |</pre>"
      ],
      "text/plain": [
       "| 13      | 730.32ms     | 0.000508716            |"
      ]
     },
     "metadata": {},
     "output_type": "display_data"
    },
    {
     "data": {
      "text/html": [
       "<pre>| 14      | 783.685ms    | 0.000529884            |</pre>"
      ],
      "text/plain": [
       "| 14      | 783.685ms    | 0.000529884            |"
      ]
     },
     "metadata": {},
     "output_type": "display_data"
    },
    {
     "data": {
      "text/html": [
       "<pre>| 15      | 830.04ms     | 0.000468566            |</pre>"
      ],
      "text/plain": [
       "| 15      | 830.04ms     | 0.000468566            |"
      ]
     },
     "metadata": {},
     "output_type": "display_data"
    },
    {
     "data": {
      "text/html": [
       "<pre>| 16      | 885.353ms    | 0.000486768            |</pre>"
      ],
      "text/plain": [
       "| 16      | 885.353ms    | 0.000486768            |"
      ]
     },
     "metadata": {},
     "output_type": "display_data"
    },
    {
     "data": {
      "text/html": [
       "<pre>| 17      | 940.814ms    | 0.000475891            |</pre>"
      ],
      "text/plain": [
       "| 17      | 940.814ms    | 0.000475891            |"
      ]
     },
     "metadata": {},
     "output_type": "display_data"
    },
    {
     "data": {
      "text/html": [
       "<pre>| 18      | 998.268ms    | 0.00045309             |</pre>"
      ],
      "text/plain": [
       "| 18      | 998.268ms    | 0.00045309             |"
      ]
     },
     "metadata": {},
     "output_type": "display_data"
    },
    {
     "data": {
      "text/html": [
       "<pre>| 19      | 1.06s        | 0.000431535            |</pre>"
      ],
      "text/plain": [
       "| 19      | 1.06s        | 0.000431535            |"
      ]
     },
     "metadata": {},
     "output_type": "display_data"
    },
    {
     "data": {
      "text/html": [
       "<pre>| 20      | 1.09s        | 0.000455769            |</pre>"
      ],
      "text/plain": [
       "| 20      | 1.09s        | 0.000455769            |"
      ]
     },
     "metadata": {},
     "output_type": "display_data"
    },
    {
     "data": {
      "text/html": [
       "<pre>| 21      | 1.15s        | 0.000410895            |</pre>"
      ],
      "text/plain": [
       "| 21      | 1.15s        | 0.000410895            |"
      ]
     },
     "metadata": {},
     "output_type": "display_data"
    },
    {
     "data": {
      "text/html": [
       "<pre>| 22      | 1.20s        | 0.000405101            |</pre>"
      ],
      "text/plain": [
       "| 22      | 1.20s        | 0.000405101            |"
      ]
     },
     "metadata": {},
     "output_type": "display_data"
    },
    {
     "data": {
      "text/html": [
       "<pre>| 23      | 1.25s        | 0.000411347            |</pre>"
      ],
      "text/plain": [
       "| 23      | 1.25s        | 0.000411347            |"
      ]
     },
     "metadata": {},
     "output_type": "display_data"
    },
    {
     "data": {
      "text/html": [
       "<pre>| 24      | 1.30s        | 0.000406041            |</pre>"
      ],
      "text/plain": [
       "| 24      | 1.30s        | 0.000406041            |"
      ]
     },
     "metadata": {},
     "output_type": "display_data"
    },
    {
     "data": {
      "text/html": [
       "<pre>| 25      | 1.35s        | 0.000405851            |</pre>"
      ],
      "text/plain": [
       "| 25      | 1.35s        | 0.000405851            |"
      ]
     },
     "metadata": {},
     "output_type": "display_data"
    },
    {
     "data": {
      "text/html": [
       "<pre>| 26      | 1.40s        | 0.000411075            |</pre>"
      ],
      "text/plain": [
       "| 26      | 1.40s        | 0.000411075            |"
      ]
     },
     "metadata": {},
     "output_type": "display_data"
    },
    {
     "data": {
      "text/html": [
       "<pre>| 27      | 1.45s        | 0.000395889            |</pre>"
      ],
      "text/plain": [
       "| 27      | 1.45s        | 0.000395889            |"
      ]
     },
     "metadata": {},
     "output_type": "display_data"
    },
    {
     "data": {
      "text/html": [
       "<pre>| 28      | 1.51s        | 0.000370141            |</pre>"
      ],
      "text/plain": [
       "| 28      | 1.51s        | 0.000370141            |"
      ]
     },
     "metadata": {},
     "output_type": "display_data"
    },
    {
     "data": {
      "text/html": [
       "<pre>| 29      | 1.56s        | 0.000373697            |</pre>"
      ],
      "text/plain": [
       "| 29      | 1.56s        | 0.000373697            |"
      ]
     },
     "metadata": {},
     "output_type": "display_data"
    },
    {
     "data": {
      "text/html": [
       "<pre>| 30      | 1.62s        | 0.000371814            |</pre>"
      ],
      "text/plain": [
       "| 30      | 1.62s        | 0.000371814            |"
      ]
     },
     "metadata": {},
     "output_type": "display_data"
    },
    {
     "data": {
      "text/html": [
       "<pre>| 31      | 1.68s        | 0.00036692             |</pre>"
      ],
      "text/plain": [
       "| 31      | 1.68s        | 0.00036692             |"
      ]
     },
     "metadata": {},
     "output_type": "display_data"
    },
    {
     "data": {
      "text/html": [
       "<pre>| 32      | 1.73s        | 0.000354821            |</pre>"
      ],
      "text/plain": [
       "| 32      | 1.73s        | 0.000354821            |"
      ]
     },
     "metadata": {},
     "output_type": "display_data"
    },
    {
     "data": {
      "text/html": [
       "<pre>| 33      | 1.78s        | 0.000344536            |</pre>"
      ],
      "text/plain": [
       "| 33      | 1.78s        | 0.000344536            |"
      ]
     },
     "metadata": {},
     "output_type": "display_data"
    },
    {
     "data": {
      "text/html": [
       "<pre>| 34      | 1.85s        | 0.000339689            |</pre>"
      ],
      "text/plain": [
       "| 34      | 1.85s        | 0.000339689            |"
      ]
     },
     "metadata": {},
     "output_type": "display_data"
    },
    {
     "data": {
      "text/html": [
       "<pre>| 35      | 1.90s        | 0.000335417            |</pre>"
      ],
      "text/plain": [
       "| 35      | 1.90s        | 0.000335417            |"
      ]
     },
     "metadata": {},
     "output_type": "display_data"
    },
    {
     "data": {
      "text/html": [
       "<pre>| 36      | 1.95s        | 0.000333786            |</pre>"
      ],
      "text/plain": [
       "| 36      | 1.95s        | 0.000333786            |"
      ]
     },
     "metadata": {},
     "output_type": "display_data"
    },
    {
     "data": {
      "text/html": [
       "<pre>| 37      | 2.00s        | 0.000326633            |</pre>"
      ],
      "text/plain": [
       "| 37      | 2.00s        | 0.000326633            |"
      ]
     },
     "metadata": {},
     "output_type": "display_data"
    },
    {
     "data": {
      "text/html": [
       "<pre>| 38      | 2.05s        | 0.000330337            |</pre>"
      ],
      "text/plain": [
       "| 38      | 2.05s        | 0.000330337            |"
      ]
     },
     "metadata": {},
     "output_type": "display_data"
    },
    {
     "data": {
      "text/html": [
       "<pre>| 39      | 2.09s        | 0.00032499             |</pre>"
      ],
      "text/plain": [
       "| 39      | 2.09s        | 0.00032499             |"
      ]
     },
     "metadata": {},
     "output_type": "display_data"
    },
    {
     "data": {
      "text/html": [
       "<pre>| 40      | 2.14s        | 0.000316206            |</pre>"
      ],
      "text/plain": [
       "| 40      | 2.14s        | 0.000316206            |"
      ]
     },
     "metadata": {},
     "output_type": "display_data"
    },
    {
     "data": {
      "text/html": [
       "<pre>| 41      | 2.19s        | 0.000312135            |</pre>"
      ],
      "text/plain": [
       "| 41      | 2.19s        | 0.000312135            |"
      ]
     },
     "metadata": {},
     "output_type": "display_data"
    },
    {
     "data": {
      "text/html": [
       "<pre>| 42      | 2.24s        | 0.000316241            |</pre>"
      ],
      "text/plain": [
       "| 42      | 2.24s        | 0.000316241            |"
      ]
     },
     "metadata": {},
     "output_type": "display_data"
    },
    {
     "data": {
      "text/html": [
       "<pre>| 43      | 2.29s        | 0.000303785            |</pre>"
      ],
      "text/plain": [
       "| 43      | 2.29s        | 0.000303785            |"
      ]
     },
     "metadata": {},
     "output_type": "display_data"
    },
    {
     "data": {
      "text/html": [
       "<pre>| 44      | 2.34s        | 0.000301235            |</pre>"
      ],
      "text/plain": [
       "| 44      | 2.34s        | 0.000301235            |"
      ]
     },
     "metadata": {},
     "output_type": "display_data"
    },
    {
     "data": {
      "text/html": [
       "<pre>| 45      | 2.38s        | 0.0002996              |</pre>"
      ],
      "text/plain": [
       "| 45      | 2.38s        | 0.0002996              |"
      ]
     },
     "metadata": {},
     "output_type": "display_data"
    },
    {
     "data": {
      "text/html": [
       "<pre>| 46      | 2.42s        | 0.000292515            |</pre>"
      ],
      "text/plain": [
       "| 46      | 2.42s        | 0.000292515            |"
      ]
     },
     "metadata": {},
     "output_type": "display_data"
    },
    {
     "data": {
      "text/html": [
       "<pre>| 47      | 2.47s        | 0.000291879            |</pre>"
      ],
      "text/plain": [
       "| 47      | 2.47s        | 0.000291879            |"
      ]
     },
     "metadata": {},
     "output_type": "display_data"
    },
    {
     "data": {
      "text/html": [
       "<pre>| 48      | 2.52s        | 0.000288001            |</pre>"
      ],
      "text/plain": [
       "| 48      | 2.52s        | 0.000288001            |"
      ]
     },
     "metadata": {},
     "output_type": "display_data"
    },
    {
     "data": {
      "text/html": [
       "<pre>| 49      | 2.56s        | 0.000283886            |</pre>"
      ],
      "text/plain": [
       "| 49      | 2.56s        | 0.000283886            |"
      ]
     },
     "metadata": {},
     "output_type": "display_data"
    },
    {
     "data": {
      "text/html": [
       "<pre>| FINAL   | 2.56s        | 0.000283886            |</pre>"
      ],
      "text/plain": [
       "| FINAL   | 2.56s        | 0.000283886            |"
      ]
     },
     "metadata": {},
     "output_type": "display_data"
    },
    {
     "data": {
      "text/html": [
       "<pre>+---------+--------------+------------------------+</pre>"
      ],
      "text/plain": [
       "+---------+--------------+------------------------+"
      ]
     },
     "metadata": {},
     "output_type": "display_data"
    },
    {
     "data": {
      "text/html": [
       "<pre>Optimization Complete: Iteration limit reached.</pre>"
      ],
      "text/plain": [
       "Optimization Complete: Iteration limit reached."
      ]
     },
     "metadata": {},
     "output_type": "display_data"
    },
    {
     "data": {
      "text/html": [
       "<pre>Recsys training: model = factorization_recommender</pre>"
      ],
      "text/plain": [
       "Recsys training: model = factorization_recommender"
      ]
     },
     "metadata": {},
     "output_type": "display_data"
    },
    {
     "data": {
      "text/html": [
       "<pre>Preparing data set.</pre>"
      ],
      "text/plain": [
       "Preparing data set."
      ]
     },
     "metadata": {},
     "output_type": "display_data"
    },
    {
     "data": {
      "text/html": [
       "<pre>    Data has 24756 observations with 12294 users and 894 items.</pre>"
      ],
      "text/plain": [
       "    Data has 24756 observations with 12294 users and 894 items."
      ]
     },
     "metadata": {},
     "output_type": "display_data"
    },
    {
     "data": {
      "text/html": [
       "<pre>    Data prepared in: 0.047221s</pre>"
      ],
      "text/plain": [
       "    Data prepared in: 0.047221s"
      ]
     },
     "metadata": {},
     "output_type": "display_data"
    },
    {
     "data": {
      "text/html": [
       "<pre>Training factorization_recommender for recommendations.</pre>"
      ],
      "text/plain": [
       "Training factorization_recommender for recommendations."
      ]
     },
     "metadata": {},
     "output_type": "display_data"
    },
    {
     "data": {
      "text/html": [
       "<pre>+------------------------------+--------------------------------------------------+----------+</pre>"
      ],
      "text/plain": [
       "+------------------------------+--------------------------------------------------+----------+"
      ]
     },
     "metadata": {},
     "output_type": "display_data"
    },
    {
     "data": {
      "text/html": [
       "<pre>| Parameter                    | Description                                      | Value    |</pre>"
      ],
      "text/plain": [
       "| Parameter                    | Description                                      | Value    |"
      ]
     },
     "metadata": {},
     "output_type": "display_data"
    },
    {
     "data": {
      "text/html": [
       "<pre>+------------------------------+--------------------------------------------------+----------+</pre>"
      ],
      "text/plain": [
       "+------------------------------+--------------------------------------------------+----------+"
      ]
     },
     "metadata": {},
     "output_type": "display_data"
    },
    {
     "data": {
      "text/html": [
       "<pre>| num_factors                  | Factor Dimension                                 | 18       |</pre>"
      ],
      "text/plain": [
       "| num_factors                  | Factor Dimension                                 | 18       |"
      ]
     },
     "metadata": {},
     "output_type": "display_data"
    },
    {
     "data": {
      "text/html": [
       "<pre>| regularization               | L2 Regularization on Factors                     | 1e-08    |</pre>"
      ],
      "text/plain": [
       "| regularization               | L2 Regularization on Factors                     | 1e-08    |"
      ]
     },
     "metadata": {},
     "output_type": "display_data"
    },
    {
     "data": {
      "text/html": [
       "<pre>| max_iterations               | Maximum Number of Iterations                     | 50       |</pre>"
      ],
      "text/plain": [
       "| max_iterations               | Maximum Number of Iterations                     | 50       |"
      ]
     },
     "metadata": {},
     "output_type": "display_data"
    },
    {
     "data": {
      "text/html": [
       "<pre>| solver                       | Solver used for training                         | als      |</pre>"
      ],
      "text/plain": [
       "| solver                       | Solver used for training                         | als      |"
      ]
     },
     "metadata": {},
     "output_type": "display_data"
    },
    {
     "data": {
      "text/html": [
       "<pre>+------------------------------+--------------------------------------------------+----------+</pre>"
      ],
      "text/plain": [
       "+------------------------------+--------------------------------------------------+----------+"
      ]
     },
     "metadata": {},
     "output_type": "display_data"
    },
    {
     "data": {
      "text/html": [
       "<pre>+---------+--------------+------------------------+</pre>"
      ],
      "text/plain": [
       "+---------+--------------+------------------------+"
      ]
     },
     "metadata": {},
     "output_type": "display_data"
    },
    {
     "data": {
      "text/html": [
       "<pre>| Iter.   | Elapsed time | RMSE                   |</pre>"
      ],
      "text/plain": [
       "| Iter.   | Elapsed time | RMSE                   |"
      ]
     },
     "metadata": {},
     "output_type": "display_data"
    },
    {
     "data": {
      "text/html": [
       "<pre>+---------+--------------+------------------------+</pre>"
      ],
      "text/plain": [
       "+---------+--------------+------------------------+"
      ]
     },
     "metadata": {},
     "output_type": "display_data"
    },
    {
     "data": {
      "text/html": [
       "<pre>| Initial | 68us         | NA                     |</pre>"
      ],
      "text/plain": [
       "| Initial | 68us         | NA                     |"
      ]
     },
     "metadata": {},
     "output_type": "display_data"
    },
    {
     "data": {
      "text/html": [
       "<pre>+---------+--------------+------------------------+</pre>"
      ],
      "text/plain": [
       "+---------+--------------+------------------------+"
      ]
     },
     "metadata": {},
     "output_type": "display_data"
    },
    {
     "data": {
      "text/html": [
       "<pre>| 0       | 53.764ms     | 0.104887               |</pre>"
      ],
      "text/plain": [
       "| 0       | 53.764ms     | 0.104887               |"
      ]
     },
     "metadata": {},
     "output_type": "display_data"
    },
    {
     "data": {
      "text/html": [
       "<pre>| 1       | 114.525ms    | 0.00082903             |</pre>"
      ],
      "text/plain": [
       "| 1       | 114.525ms    | 0.00082903             |"
      ]
     },
     "metadata": {},
     "output_type": "display_data"
    },
    {
     "data": {
      "text/html": [
       "<pre>| 2       | 167.191ms    | 0.000674109            |</pre>"
      ],
      "text/plain": [
       "| 2       | 167.191ms    | 0.000674109            |"
      ]
     },
     "metadata": {},
     "output_type": "display_data"
    },
    {
     "data": {
      "text/html": [
       "<pre>| 3       | 220.46ms     | 0.000590816            |</pre>"
      ],
      "text/plain": [
       "| 3       | 220.46ms     | 0.000590816            |"
      ]
     },
     "metadata": {},
     "output_type": "display_data"
    },
    {
     "data": {
      "text/html": [
       "<pre>| 4       | 272.668ms    | 0.000528936            |</pre>"
      ],
      "text/plain": [
       "| 4       | 272.668ms    | 0.000528936            |"
      ]
     },
     "metadata": {},
     "output_type": "display_data"
    },
    {
     "data": {
      "text/html": [
       "<pre>| 5       | 341.175ms    | 0.000490771            |</pre>"
      ],
      "text/plain": [
       "| 5       | 341.175ms    | 0.000490771            |"
      ]
     },
     "metadata": {},
     "output_type": "display_data"
    },
    {
     "data": {
      "text/html": [
       "<pre>| 6       | 421.416ms    | 0.000455767            |</pre>"
      ],
      "text/plain": [
       "| 6       | 421.416ms    | 0.000455767            |"
      ]
     },
     "metadata": {},
     "output_type": "display_data"
    },
    {
     "data": {
      "text/html": [
       "<pre>| 7       | 492.301ms    | 0.000426718            |</pre>"
      ],
      "text/plain": [
       "| 7       | 492.301ms    | 0.000426718            |"
      ]
     },
     "metadata": {},
     "output_type": "display_data"
    },
    {
     "data": {
      "text/html": [
       "<pre>| 8       | 538.362ms    | 0.00040057             |</pre>"
      ],
      "text/plain": [
       "| 8       | 538.362ms    | 0.00040057             |"
      ]
     },
     "metadata": {},
     "output_type": "display_data"
    },
    {
     "data": {
      "text/html": [
       "<pre>| 9       | 594.775ms    | 0.000385027            |</pre>"
      ],
      "text/plain": [
       "| 9       | 594.775ms    | 0.000385027            |"
      ]
     },
     "metadata": {},
     "output_type": "display_data"
    },
    {
     "data": {
      "text/html": [
       "<pre>| 10      | 649.61ms     | 0.000369795            |</pre>"
      ],
      "text/plain": [
       "| 10      | 649.61ms     | 0.000369795            |"
      ]
     },
     "metadata": {},
     "output_type": "display_data"
    },
    {
     "data": {
      "text/html": [
       "<pre>| 11      | 700.439ms    | 0.000357947            |</pre>"
      ],
      "text/plain": [
       "| 11      | 700.439ms    | 0.000357947            |"
      ]
     },
     "metadata": {},
     "output_type": "display_data"
    },
    {
     "data": {
      "text/html": [
       "<pre>| 12      | 743.959ms    | 0.000347492            |</pre>"
      ],
      "text/plain": [
       "| 12      | 743.959ms    | 0.000347492            |"
      ]
     },
     "metadata": {},
     "output_type": "display_data"
    },
    {
     "data": {
      "text/html": [
       "<pre>| 13      | 785.621ms    | 0.000338704            |</pre>"
      ],
      "text/plain": [
       "| 13      | 785.621ms    | 0.000338704            |"
      ]
     },
     "metadata": {},
     "output_type": "display_data"
    },
    {
     "data": {
      "text/html": [
       "<pre>| 14      | 854.912ms    | 0.000329297            |</pre>"
      ],
      "text/plain": [
       "| 14      | 854.912ms    | 0.000329297            |"
      ]
     },
     "metadata": {},
     "output_type": "display_data"
    },
    {
     "data": {
      "text/html": [
       "<pre>| 15      | 900.025ms    | 0.000322114            |</pre>"
      ],
      "text/plain": [
       "| 15      | 900.025ms    | 0.000322114            |"
      ]
     },
     "metadata": {},
     "output_type": "display_data"
    },
    {
     "data": {
      "text/html": [
       "<pre>| 16      | 951.85ms     | 0.00031447             |</pre>"
      ],
      "text/plain": [
       "| 16      | 951.85ms     | 0.00031447             |"
      ]
     },
     "metadata": {},
     "output_type": "display_data"
    },
    {
     "data": {
      "text/html": [
       "<pre>| 17      | 1.00s        | 0.000307611            |</pre>"
      ],
      "text/plain": [
       "| 17      | 1.00s        | 0.000307611            |"
      ]
     },
     "metadata": {},
     "output_type": "display_data"
    },
    {
     "data": {
      "text/html": [
       "<pre>| 18      | 1.05s        | 0.000300243            |</pre>"
      ],
      "text/plain": [
       "| 18      | 1.05s        | 0.000300243            |"
      ]
     },
     "metadata": {},
     "output_type": "display_data"
    },
    {
     "data": {
      "text/html": [
       "<pre>| 19      | 1.11s        | 0.000293627            |</pre>"
      ],
      "text/plain": [
       "| 19      | 1.11s        | 0.000293627            |"
      ]
     },
     "metadata": {},
     "output_type": "display_data"
    },
    {
     "data": {
      "text/html": [
       "<pre>| 20      | 1.16s        | 0.000288455            |</pre>"
      ],
      "text/plain": [
       "| 20      | 1.16s        | 0.000288455            |"
      ]
     },
     "metadata": {},
     "output_type": "display_data"
    },
    {
     "data": {
      "text/html": [
       "<pre>| 21      | 1.20s        | 0.000284209            |</pre>"
      ],
      "text/plain": [
       "| 21      | 1.20s        | 0.000284209            |"
      ]
     },
     "metadata": {},
     "output_type": "display_data"
    },
    {
     "data": {
      "text/html": [
       "<pre>| 22      | 1.26s        | 0.000279811            |</pre>"
      ],
      "text/plain": [
       "| 22      | 1.26s        | 0.000279811            |"
      ]
     },
     "metadata": {},
     "output_type": "display_data"
    },
    {
     "data": {
      "text/html": [
       "<pre>| 23      | 1.32s        | 0.000275202            |</pre>"
      ],
      "text/plain": [
       "| 23      | 1.32s        | 0.000275202            |"
      ]
     },
     "metadata": {},
     "output_type": "display_data"
    },
    {
     "data": {
      "text/html": [
       "<pre>| 24      | 1.38s        | 0.000270707            |</pre>"
      ],
      "text/plain": [
       "| 24      | 1.38s        | 0.000270707            |"
      ]
     },
     "metadata": {},
     "output_type": "display_data"
    },
    {
     "data": {
      "text/html": [
       "<pre>| 25      | 1.44s        | 0.000266451            |</pre>"
      ],
      "text/plain": [
       "| 25      | 1.44s        | 0.000266451            |"
      ]
     },
     "metadata": {},
     "output_type": "display_data"
    },
    {
     "data": {
      "text/html": [
       "<pre>| 26      | 1.50s        | 0.000262432            |</pre>"
      ],
      "text/plain": [
       "| 26      | 1.50s        | 0.000262432            |"
      ]
     },
     "metadata": {},
     "output_type": "display_data"
    },
    {
     "data": {
      "text/html": [
       "<pre>| 27      | 1.56s        | 0.000259187            |</pre>"
      ],
      "text/plain": [
       "| 27      | 1.56s        | 0.000259187            |"
      ]
     },
     "metadata": {},
     "output_type": "display_data"
    },
    {
     "data": {
      "text/html": [
       "<pre>| 28      | 1.62s        | 0.000255522            |</pre>"
      ],
      "text/plain": [
       "| 28      | 1.62s        | 0.000255522            |"
      ]
     },
     "metadata": {},
     "output_type": "display_data"
    },
    {
     "data": {
      "text/html": [
       "<pre>| 29      | 1.68s        | 0.000252397            |</pre>"
      ],
      "text/plain": [
       "| 29      | 1.68s        | 0.000252397            |"
      ]
     },
     "metadata": {},
     "output_type": "display_data"
    },
    {
     "data": {
      "text/html": [
       "<pre>| 30      | 1.73s        | 0.000249152            |</pre>"
      ],
      "text/plain": [
       "| 30      | 1.73s        | 0.000249152            |"
      ]
     },
     "metadata": {},
     "output_type": "display_data"
    },
    {
     "data": {
      "text/html": [
       "<pre>| 31      | 1.78s        | 0.000245752            |</pre>"
      ],
      "text/plain": [
       "| 31      | 1.78s        | 0.000245752            |"
      ]
     },
     "metadata": {},
     "output_type": "display_data"
    },
    {
     "data": {
      "text/html": [
       "<pre>| 32      | 1.84s        | 0.000242422            |</pre>"
      ],
      "text/plain": [
       "| 32      | 1.84s        | 0.000242422            |"
      ]
     },
     "metadata": {},
     "output_type": "display_data"
    },
    {
     "data": {
      "text/html": [
       "<pre>| 33      | 1.89s        | 0.000239788            |</pre>"
      ],
      "text/plain": [
       "| 33      | 1.89s        | 0.000239788            |"
      ]
     },
     "metadata": {},
     "output_type": "display_data"
    },
    {
     "data": {
      "text/html": [
       "<pre>| 34      | 1.95s        | 0.000236615            |</pre>"
      ],
      "text/plain": [
       "| 34      | 1.95s        | 0.000236615            |"
      ]
     },
     "metadata": {},
     "output_type": "display_data"
    },
    {
     "data": {
      "text/html": [
       "<pre>| 35      | 2.01s        | 0.000234291            |</pre>"
      ],
      "text/plain": [
       "| 35      | 2.01s        | 0.000234291            |"
      ]
     },
     "metadata": {},
     "output_type": "display_data"
    },
    {
     "data": {
      "text/html": [
       "<pre>| 36      | 2.06s        | 0.00023162             |</pre>"
      ],
      "text/plain": [
       "| 36      | 2.06s        | 0.00023162             |"
      ]
     },
     "metadata": {},
     "output_type": "display_data"
    },
    {
     "data": {
      "text/html": [
       "<pre>| 37      | 2.11s        | 0.000228731            |</pre>"
      ],
      "text/plain": [
       "| 37      | 2.11s        | 0.000228731            |"
      ]
     },
     "metadata": {},
     "output_type": "display_data"
    },
    {
     "data": {
      "text/html": [
       "<pre>| 38      | 2.17s        | 0.00022633             |</pre>"
      ],
      "text/plain": [
       "| 38      | 2.17s        | 0.00022633             |"
      ]
     },
     "metadata": {},
     "output_type": "display_data"
    },
    {
     "data": {
      "text/html": [
       "<pre>| 39      | 2.22s        | 0.000223972            |</pre>"
      ],
      "text/plain": [
       "| 39      | 2.22s        | 0.000223972            |"
      ]
     },
     "metadata": {},
     "output_type": "display_data"
    },
    {
     "data": {
      "text/html": [
       "<pre>| 40      | 2.28s        | 0.00022145             |</pre>"
      ],
      "text/plain": [
       "| 40      | 2.28s        | 0.00022145             |"
      ]
     },
     "metadata": {},
     "output_type": "display_data"
    },
    {
     "data": {
      "text/html": [
       "<pre>| 41      | 2.33s        | 0.000219214            |</pre>"
      ],
      "text/plain": [
       "| 41      | 2.33s        | 0.000219214            |"
      ]
     },
     "metadata": {},
     "output_type": "display_data"
    },
    {
     "data": {
      "text/html": [
       "<pre>| 42      | 2.40s        | 0.000216868            |</pre>"
      ],
      "text/plain": [
       "| 42      | 2.40s        | 0.000216868            |"
      ]
     },
     "metadata": {},
     "output_type": "display_data"
    },
    {
     "data": {
      "text/html": [
       "<pre>| 43      | 2.46s        | 0.000214715            |</pre>"
      ],
      "text/plain": [
       "| 43      | 2.46s        | 0.000214715            |"
      ]
     },
     "metadata": {},
     "output_type": "display_data"
    },
    {
     "data": {
      "text/html": [
       "<pre>| 44      | 2.51s        | 0.000212695            |</pre>"
      ],
      "text/plain": [
       "| 44      | 2.51s        | 0.000212695            |"
      ]
     },
     "metadata": {},
     "output_type": "display_data"
    },
    {
     "data": {
      "text/html": [
       "<pre>| 45      | 2.58s        | 0.00021087             |</pre>"
      ],
      "text/plain": [
       "| 45      | 2.58s        | 0.00021087             |"
      ]
     },
     "metadata": {},
     "output_type": "display_data"
    },
    {
     "data": {
      "text/html": [
       "<pre>| 46      | 2.63s        | 0.000208569            |</pre>"
      ],
      "text/plain": [
       "| 46      | 2.63s        | 0.000208569            |"
      ]
     },
     "metadata": {},
     "output_type": "display_data"
    },
    {
     "data": {
      "text/html": [
       "<pre>| 47      | 2.69s        | 0.000206466            |</pre>"
      ],
      "text/plain": [
       "| 47      | 2.69s        | 0.000206466            |"
      ]
     },
     "metadata": {},
     "output_type": "display_data"
    },
    {
     "data": {
      "text/html": [
       "<pre>| 48      | 2.75s        | 0.000204257            |</pre>"
      ],
      "text/plain": [
       "| 48      | 2.75s        | 0.000204257            |"
      ]
     },
     "metadata": {},
     "output_type": "display_data"
    },
    {
     "data": {
      "text/html": [
       "<pre>| 49      | 2.80s        | 0.000202066            |</pre>"
      ],
      "text/plain": [
       "| 49      | 2.80s        | 0.000202066            |"
      ]
     },
     "metadata": {},
     "output_type": "display_data"
    },
    {
     "data": {
      "text/html": [
       "<pre>| FINAL   | 2.80s        | 0.000202066            |</pre>"
      ],
      "text/plain": [
       "| FINAL   | 2.80s        | 0.000202066            |"
      ]
     },
     "metadata": {},
     "output_type": "display_data"
    },
    {
     "data": {
      "text/html": [
       "<pre>+---------+--------------+------------------------+</pre>"
      ],
      "text/plain": [
       "+---------+--------------+------------------------+"
      ]
     },
     "metadata": {},
     "output_type": "display_data"
    },
    {
     "data": {
      "text/html": [
       "<pre>Optimization Complete: Iteration limit reached.</pre>"
      ],
      "text/plain": [
       "Optimization Complete: Iteration limit reached."
      ]
     },
     "metadata": {},
     "output_type": "display_data"
    }
   ],
   "source": [
    "predictions_train_dic = {}\n",
    "predictions_valid_dic = {}\n",
    "\n",
    "for i in xrange(4, 20, 2):\n",
    "    model = graphlab.recommender.factorization_recommender.create(sf_train, user_id='new_user_id', item_id='new_course_id',target='rating',solver='als',side_data_factorization=False, num_factors = i)\n",
    "    predictions_train = model.predict(sf_train)\n",
    "    predictions_valid = model.predict(sf_validation)\n",
    "    predictions_train_dic[i] = np.sqrt(mean_squared_error(sf_train['rating'], predictions_train))\n",
    "    predictions_valid_dic[i] = np.sqrt(mean_squared_error(sf_validation['rating'], predictions_valid))"
   ]
  },
  {
   "cell_type": "code",
   "execution_count": 9,
   "metadata": {},
   "outputs": [
    {
     "data": {
      "text/plain": [
       "{4: 0.02977734651014214,\n",
       " 6: 0.0056406600664062733,\n",
       " 8: 0.0013374974898014732,\n",
       " 10: 0.00071037086539186612,\n",
       " 12: 0.00048196815370520329,\n",
       " 14: 0.00035288288026116919,\n",
       " 16: 0.00028388578778391422,\n",
       " 18: 0.00020206625855935227}"
      ]
     },
     "execution_count": 9,
     "metadata": {},
     "output_type": "execute_result"
    }
   ],
   "source": [
    "predictions_train_dic"
   ]
  },
  {
   "cell_type": "code",
   "execution_count": 10,
   "metadata": {},
   "outputs": [
    {
     "data": {
      "text/plain": [
       "{4: 0.9071484646809902,\n",
       " 6: 0.7410301169593897,\n",
       " 8: 0.73503360030251963,\n",
       " 10: 0.70020738366917723,\n",
       " 12: 0.68188804357304789,\n",
       " 14: 0.73646883216272097,\n",
       " 16: 0.7047981687576399,\n",
       " 18: 0.67618787240860589}"
      ]
     },
     "execution_count": 10,
     "metadata": {},
     "output_type": "execute_result"
    }
   ],
   "source": [
    "predictions_valid_dic"
   ]
  },
  {
   "cell_type": "code",
   "execution_count": 11,
   "metadata": {},
   "outputs": [
    {
     "data": {
      "text/plain": [
       "<matplotlib.legend.Legend at 0x7fd3dc6071d0>"
      ]
     },
     "execution_count": 11,
     "metadata": {},
     "output_type": "execute_result"
    },
    {
     "data": {
      "image/png": "[encoded data removed]",
      "text/plain": [
       "<matplotlib.figure.Figure at 0x7fd42666cc10>"
      ]
     },
     "metadata": {},
     "output_type": "display_data"
    }
   ],
   "source": [
    "plt.plot(predictions_train_dic.keys(), predictions_train_dic.values(), color = \"b\", label = \"training error\")\n",
    "plt.plot(predictions_valid_dic.keys(), predictions_valid_dic.values(), color = \"g\", label = \"validation error\")\n",
    "plt.legend()"
   ]
  },
  {
   "cell_type": "code",
   "execution_count": 12,
   "metadata": {},
   "outputs": [
    {
     "data": {
      "text/html": [
       "<pre>Recsys training: model = factorization_recommender</pre>"
      ],
      "text/plain": [
       "Recsys training: model = factorization_recommender"
      ]
     },
     "metadata": {},
     "output_type": "display_data"
    },
    {
     "data": {
      "text/html": [
       "<pre>Preparing data set.</pre>"
      ],
      "text/plain": [
       "Preparing data set."
      ]
     },
     "metadata": {},
     "output_type": "display_data"
    },
    {
     "data": {
      "text/html": [
       "<pre>    Data has 24756 observations with 12294 users and 894 items.</pre>"
      ],
      "text/plain": [
       "    Data has 24756 observations with 12294 users and 894 items."
      ]
     },
     "metadata": {},
     "output_type": "display_data"
    },
    {
     "data": {
      "text/html": [
       "<pre>    Data prepared in: 0.044754s</pre>"
      ],
      "text/plain": [
       "    Data prepared in: 0.044754s"
      ]
     },
     "metadata": {},
     "output_type": "display_data"
    },
    {
     "data": {
      "text/html": [
       "<pre>Training factorization_recommender for recommendations.</pre>"
      ],
      "text/plain": [
       "Training factorization_recommender for recommendations."
      ]
     },
     "metadata": {},
     "output_type": "display_data"
    },
    {
     "data": {
      "text/html": [
       "<pre>+------------------------------+--------------------------------------------------+----------+</pre>"
      ],
      "text/plain": [
       "+------------------------------+--------------------------------------------------+----------+"
      ]
     },
     "metadata": {},
     "output_type": "display_data"
    },
    {
     "data": {
      "text/html": [
       "<pre>| Parameter                    | Description                                      | Value    |</pre>"
      ],
      "text/plain": [
       "| Parameter                    | Description                                      | Value    |"
      ]
     },
     "metadata": {},
     "output_type": "display_data"
    },
    {
     "data": {
      "text/html": [
       "<pre>+------------------------------+--------------------------------------------------+----------+</pre>"
      ],
      "text/plain": [
       "+------------------------------+--------------------------------------------------+----------+"
      ]
     },
     "metadata": {},
     "output_type": "display_data"
    },
    {
     "data": {
      "text/html": [
       "<pre>| num_factors                  | Factor Dimension                                 | 10       |</pre>"
      ],
      "text/plain": [
       "| num_factors                  | Factor Dimension                                 | 10       |"
      ]
     },
     "metadata": {},
     "output_type": "display_data"
    },
    {
     "data": {
      "text/html": [
       "<pre>| regularization               | L2 Regularization on Factors                     | 100      |</pre>"
      ],
      "text/plain": [
       "| regularization               | L2 Regularization on Factors                     | 100      |"
      ]
     },
     "metadata": {},
     "output_type": "display_data"
    },
    {
     "data": {
      "text/html": [
       "<pre>| max_iterations               | Maximum Number of Iterations                     | 50       |</pre>"
      ],
      "text/plain": [
       "| max_iterations               | Maximum Number of Iterations                     | 50       |"
      ]
     },
     "metadata": {},
     "output_type": "display_data"
    },
    {
     "data": {
      "text/html": [
       "<pre>| solver                       | Solver used for training                         | als      |</pre>"
      ],
      "text/plain": [
       "| solver                       | Solver used for training                         | als      |"
      ]
     },
     "metadata": {},
     "output_type": "display_data"
    },
    {
     "data": {
      "text/html": [
       "<pre>+------------------------------+--------------------------------------------------+----------+</pre>"
      ],
      "text/plain": [
       "+------------------------------+--------------------------------------------------+----------+"
      ]
     },
     "metadata": {},
     "output_type": "display_data"
    },
    {
     "data": {
      "text/html": [
       "<pre>+---------+--------------+------------------------+</pre>"
      ],
      "text/plain": [
       "+---------+--------------+------------------------+"
      ]
     },
     "metadata": {},
     "output_type": "display_data"
    },
    {
     "data": {
      "text/html": [
       "<pre>| Iter.   | Elapsed time | RMSE                   |</pre>"
      ],
      "text/plain": [
       "| Iter.   | Elapsed time | RMSE                   |"
      ]
     },
     "metadata": {},
     "output_type": "display_data"
    },
    {
     "data": {
      "text/html": [
       "<pre>+---------+--------------+------------------------+</pre>"
      ],
      "text/plain": [
       "+---------+--------------+------------------------+"
      ]
     },
     "metadata": {},
     "output_type": "display_data"
    },
    {
     "data": {
      "text/html": [
       "<pre>| Initial | 48us         | NA                     |</pre>"
      ],
      "text/plain": [
       "| Initial | 48us         | NA                     |"
      ]
     },
     "metadata": {},
     "output_type": "display_data"
    },
    {
     "data": {
      "text/html": [
       "<pre>+---------+--------------+------------------------+</pre>"
      ],
      "text/plain": [
       "+---------+--------------+------------------------+"
      ]
     },
     "metadata": {},
     "output_type": "display_data"
    },
    {
     "data": {
      "text/html": [
       "<pre>| 0       | 66.505ms     | 0.598309               |</pre>"
      ],
      "text/plain": [
       "| 0       | 66.505ms     | 0.598309               |"
      ]
     },
     "metadata": {},
     "output_type": "display_data"
    },
    {
     "data": {
      "text/html": [
       "<pre>| 1       | 118.35ms     | 0.598309               |</pre>"
      ],
      "text/plain": [
       "| 1       | 118.35ms     | 0.598309               |"
      ]
     },
     "metadata": {},
     "output_type": "display_data"
    },
    {
     "data": {
      "text/html": [
       "<pre>| 2       | 150.023ms    | 0.598309               |</pre>"
      ],
      "text/plain": [
       "| 2       | 150.023ms    | 0.598309               |"
      ]
     },
     "metadata": {},
     "output_type": "display_data"
    },
    {
     "data": {
      "text/html": [
       "<pre>| 3       | 210.348ms    | 0.598309               |</pre>"
      ],
      "text/plain": [
       "| 3       | 210.348ms    | 0.598309               |"
      ]
     },
     "metadata": {},
     "output_type": "display_data"
    },
    {
     "data": {
      "text/html": [
       "<pre>| 4       | 272.446ms    | 0.598309               |</pre>"
      ],
      "text/plain": [
       "| 4       | 272.446ms    | 0.598309               |"
      ]
     },
     "metadata": {},
     "output_type": "display_data"
    },
    {
     "data": {
      "text/html": [
       "<pre>| 5       | 297.015ms    | 0.598309               |</pre>"
      ],
      "text/plain": [
       "| 5       | 297.015ms    | 0.598309               |"
      ]
     },
     "metadata": {},
     "output_type": "display_data"
    },
    {
     "data": {
      "text/html": [
       "<pre>| 6       | 330.577ms    | 0.598309               |</pre>"
      ],
      "text/plain": [
       "| 6       | 330.577ms    | 0.598309               |"
      ]
     },
     "metadata": {},
     "output_type": "display_data"
    },
    {
     "data": {
      "text/html": [
       "<pre>| 7       | 373.93ms     | 0.598309               |</pre>"
      ],
      "text/plain": [
       "| 7       | 373.93ms     | 0.598309               |"
      ]
     },
     "metadata": {},
     "output_type": "display_data"
    },
    {
     "data": {
      "text/html": [
       "<pre>| 8       | 405.077ms    | 0.598309               |</pre>"
      ],
      "text/plain": [
       "| 8       | 405.077ms    | 0.598309               |"
      ]
     },
     "metadata": {},
     "output_type": "display_data"
    },
    {
     "data": {
      "text/html": [
       "<pre>| 9       | 453.3ms      | 0.598309               |</pre>"
      ],
      "text/plain": [
       "| 9       | 453.3ms      | 0.598309               |"
      ]
     },
     "metadata": {},
     "output_type": "display_data"
    },
    {
     "data": {
      "text/html": [
       "<pre>| 10      | 485.922ms    | 0.598309               |</pre>"
      ],
      "text/plain": [
       "| 10      | 485.922ms    | 0.598309               |"
      ]
     },
     "metadata": {},
     "output_type": "display_data"
    },
    {
     "data": {
      "text/html": [
       "<pre>| 11      | 528.779ms    | 0.598309               |</pre>"
      ],
      "text/plain": [
       "| 11      | 528.779ms    | 0.598309               |"
      ]
     },
     "metadata": {},
     "output_type": "display_data"
    },
    {
     "data": {
      "text/html": [
       "<pre>| 12      | 572.165ms    | 0.598309               |</pre>"
      ],
      "text/plain": [
       "| 12      | 572.165ms    | 0.598309               |"
      ]
     },
     "metadata": {},
     "output_type": "display_data"
    },
    {
     "data": {
      "text/html": [
       "<pre>| 13      | 607.613ms    | 0.598309               |</pre>"
      ],
      "text/plain": [
       "| 13      | 607.613ms    | 0.598309               |"
      ]
     },
     "metadata": {},
     "output_type": "display_data"
    },
    {
     "data": {
      "text/html": [
       "<pre>| 14      | 649.607ms    | 0.598309               |</pre>"
      ],
      "text/plain": [
       "| 14      | 649.607ms    | 0.598309               |"
      ]
     },
     "metadata": {},
     "output_type": "display_data"
    },
    {
     "data": {
      "text/html": [
       "<pre>| 15      | 685.767ms    | 0.598309               |</pre>"
      ],
      "text/plain": [
       "| 15      | 685.767ms    | 0.598309               |"
      ]
     },
     "metadata": {},
     "output_type": "display_data"
    },
    {
     "data": {
      "text/html": [
       "<pre>| 16      | 720.664ms    | 0.598309               |</pre>"
      ],
      "text/plain": [
       "| 16      | 720.664ms    | 0.598309               |"
      ]
     },
     "metadata": {},
     "output_type": "display_data"
    },
    {
     "data": {
      "text/html": [
       "<pre>| 17      | 755.294ms    | 0.598309               |</pre>"
      ],
      "text/plain": [
       "| 17      | 755.294ms    | 0.598309               |"
      ]
     },
     "metadata": {},
     "output_type": "display_data"
    },
    {
     "data": {
      "text/html": [
       "<pre>| 18      | 793.822ms    | 0.598309               |</pre>"
      ],
      "text/plain": [
       "| 18      | 793.822ms    | 0.598309               |"
      ]
     },
     "metadata": {},
     "output_type": "display_data"
    },
    {
     "data": {
      "text/html": [
       "<pre>| 19      | 841.003ms    | 0.598309               |</pre>"
      ],
      "text/plain": [
       "| 19      | 841.003ms    | 0.598309               |"
      ]
     },
     "metadata": {},
     "output_type": "display_data"
    },
    {
     "data": {
      "text/html": [
       "<pre>| 20      | 892.717ms    | 0.598309               |</pre>"
      ],
      "text/plain": [
       "| 20      | 892.717ms    | 0.598309               |"
      ]
     },
     "metadata": {},
     "output_type": "display_data"
    },
    {
     "data": {
      "text/html": [
       "<pre>| 21      | 936.264ms    | 0.598309               |</pre>"
      ],
      "text/plain": [
       "| 21      | 936.264ms    | 0.598309               |"
      ]
     },
     "metadata": {},
     "output_type": "display_data"
    },
    {
     "data": {
      "text/html": [
       "<pre>| 22      | 979.647ms    | 0.598309               |</pre>"
      ],
      "text/plain": [
       "| 22      | 979.647ms    | 0.598309               |"
      ]
     },
     "metadata": {},
     "output_type": "display_data"
    },
    {
     "data": {
      "text/html": [
       "<pre>| 23      | 1.02s        | 0.598309               |</pre>"
      ],
      "text/plain": [
       "| 23      | 1.02s        | 0.598309               |"
      ]
     },
     "metadata": {},
     "output_type": "display_data"
    },
    {
     "data": {
      "text/html": [
       "<pre>| 24      | 1.06s        | 0.598309               |</pre>"
      ],
      "text/plain": [
       "| 24      | 1.06s        | 0.598309               |"
      ]
     },
     "metadata": {},
     "output_type": "display_data"
    },
    {
     "data": {
      "text/html": [
       "<pre>| 25      | 1.10s        | 0.598309               |</pre>"
      ],
      "text/plain": [
       "| 25      | 1.10s        | 0.598309               |"
      ]
     },
     "metadata": {},
     "output_type": "display_data"
    },
    {
     "data": {
      "text/html": [
       "<pre>| 26      | 1.14s        | 0.598309               |</pre>"
      ],
      "text/plain": [
       "| 26      | 1.14s        | 0.598309               |"
      ]
     },
     "metadata": {},
     "output_type": "display_data"
    },
    {
     "data": {
      "text/html": [
       "<pre>| 27      | 1.17s        | 0.598309               |</pre>"
      ],
      "text/plain": [
       "| 27      | 1.17s        | 0.598309               |"
      ]
     },
     "metadata": {},
     "output_type": "display_data"
    },
    {
     "data": {
      "text/html": [
       "<pre>| 28      | 1.21s        | 0.598309               |</pre>"
      ],
      "text/plain": [
       "| 28      | 1.21s        | 0.598309               |"
      ]
     },
     "metadata": {},
     "output_type": "display_data"
    },
    {
     "data": {
      "text/html": [
       "<pre>| 29      | 1.25s        | 0.598309               |</pre>"
      ],
      "text/plain": [
       "| 29      | 1.25s        | 0.598309               |"
      ]
     },
     "metadata": {},
     "output_type": "display_data"
    },
    {
     "data": {
      "text/html": [
       "<pre>| 30      | 1.29s        | 0.598309               |</pre>"
      ],
      "text/plain": [
       "| 30      | 1.29s        | 0.598309               |"
      ]
     },
     "metadata": {},
     "output_type": "display_data"
    },
    {
     "data": {
      "text/html": [
       "<pre>| 31      | 1.34s        | 0.598309               |</pre>"
      ],
      "text/plain": [
       "| 31      | 1.34s        | 0.598309               |"
      ]
     },
     "metadata": {},
     "output_type": "display_data"
    },
    {
     "data": {
      "text/html": [
       "<pre>| 32      | 1.38s        | 0.598309               |</pre>"
      ],
      "text/plain": [
       "| 32      | 1.38s        | 0.598309               |"
      ]
     },
     "metadata": {},
     "output_type": "display_data"
    },
    {
     "data": {
      "text/html": [
       "<pre>| 33      | 1.44s        | 0.598309               |</pre>"
      ],
      "text/plain": [
       "| 33      | 1.44s        | 0.598309               |"
      ]
     },
     "metadata": {},
     "output_type": "display_data"
    },
    {
     "data": {
      "text/html": [
       "<pre>| 34      | 1.49s        | 0.598309               |</pre>"
      ],
      "text/plain": [
       "| 34      | 1.49s        | 0.598309               |"
      ]
     },
     "metadata": {},
     "output_type": "display_data"
    },
    {
     "data": {
      "text/html": [
       "<pre>| 35      | 1.52s        | 0.598309               |</pre>"
      ],
      "text/plain": [
       "| 35      | 1.52s        | 0.598309               |"
      ]
     },
     "metadata": {},
     "output_type": "display_data"
    },
    {
     "data": {
      "text/html": [
       "<pre>| 36      | 1.57s        | 0.598309               |</pre>"
      ],
      "text/plain": [
       "| 36      | 1.57s        | 0.598309               |"
      ]
     },
     "metadata": {},
     "output_type": "display_data"
    },
    {
     "data": {
      "text/html": [
       "<pre>| 37      | 1.61s        | 0.598309               |</pre>"
      ],
      "text/plain": [
       "| 37      | 1.61s        | 0.598309               |"
      ]
     },
     "metadata": {},
     "output_type": "display_data"
    },
    {
     "data": {
      "text/html": [
       "<pre>| 38      | 1.67s        | 0.598309               |</pre>"
      ],
      "text/plain": [
       "| 38      | 1.67s        | 0.598309               |"
      ]
     },
     "metadata": {},
     "output_type": "display_data"
    },
    {
     "data": {
      "text/html": [
       "<pre>| 39      | 1.71s        | 0.598309               |</pre>"
      ],
      "text/plain": [
       "| 39      | 1.71s        | 0.598309               |"
      ]
     },
     "metadata": {},
     "output_type": "display_data"
    },
    {
     "data": {
      "text/html": [
       "<pre>| 40      | 1.76s        | 0.598309               |</pre>"
      ],
      "text/plain": [
       "| 40      | 1.76s        | 0.598309               |"
      ]
     },
     "metadata": {},
     "output_type": "display_data"
    },
    {
     "data": {
      "text/html": [
       "<pre>| 41      | 1.80s        | 0.598309               |</pre>"
      ],
      "text/plain": [
       "| 41      | 1.80s        | 0.598309               |"
      ]
     },
     "metadata": {},
     "output_type": "display_data"
    },
    {
     "data": {
      "text/html": [
       "<pre>| 42      | 1.85s        | 0.598309               |</pre>"
      ],
      "text/plain": [
       "| 42      | 1.85s        | 0.598309               |"
      ]
     },
     "metadata": {},
     "output_type": "display_data"
    },
    {
     "data": {
      "text/html": [
       "<pre>| 43      | 1.89s        | 0.598309               |</pre>"
      ],
      "text/plain": [
       "| 43      | 1.89s        | 0.598309               |"
      ]
     },
     "metadata": {},
     "output_type": "display_data"
    },
    {
     "data": {
      "text/html": [
       "<pre>| 44      | 1.94s        | 0.598309               |</pre>"
      ],
      "text/plain": [
       "| 44      | 1.94s        | 0.598309               |"
      ]
     },
     "metadata": {},
     "output_type": "display_data"
    },
    {
     "data": {
      "text/html": [
       "<pre>| 45      | 1.99s        | 0.598309               |</pre>"
      ],
      "text/plain": [
       "| 45      | 1.99s        | 0.598309               |"
      ]
     },
     "metadata": {},
     "output_type": "display_data"
    },
    {
     "data": {
      "text/html": [
       "<pre>| 46      | 2.02s        | 0.598309               |</pre>"
      ],
      "text/plain": [
       "| 46      | 2.02s        | 0.598309               |"
      ]
     },
     "metadata": {},
     "output_type": "display_data"
    },
    {
     "data": {
      "text/html": [
       "<pre>| 47      | 2.06s        | 0.598309               |</pre>"
      ],
      "text/plain": [
       "| 47      | 2.06s        | 0.598309               |"
      ]
     },
     "metadata": {},
     "output_type": "display_data"
    },
    {
     "data": {
      "text/html": [
       "<pre>| 48      | 2.10s        | 0.598309               |</pre>"
      ],
      "text/plain": [
       "| 48      | 2.10s        | 0.598309               |"
      ]
     },
     "metadata": {},
     "output_type": "display_data"
    },
    {
     "data": {
      "text/html": [
       "<pre>| 49      | 2.14s        | 0.598309               |</pre>"
      ],
      "text/plain": [
       "| 49      | 2.14s        | 0.598309               |"
      ]
     },
     "metadata": {},
     "output_type": "display_data"
    },
    {
     "data": {
      "text/html": [
       "<pre>| FINAL   | 2.15s        | 0.598309               |</pre>"
      ],
      "text/plain": [
       "| FINAL   | 2.15s        | 0.598309               |"
      ]
     },
     "metadata": {},
     "output_type": "display_data"
    },
    {
     "data": {
      "text/html": [
       "<pre>+---------+--------------+------------------------+</pre>"
      ],
      "text/plain": [
       "+---------+--------------+------------------------+"
      ]
     },
     "metadata": {},
     "output_type": "display_data"
    },
    {
     "data": {
      "text/html": [
       "<pre>Optimization Complete: Iteration limit reached.</pre>"
      ],
      "text/plain": [
       "Optimization Complete: Iteration limit reached."
      ]
     },
     "metadata": {},
     "output_type": "display_data"
    },
    {
     "data": {
      "text/html": [
       "<pre>Recsys training: model = factorization_recommender</pre>"
      ],
      "text/plain": [
       "Recsys training: model = factorization_recommender"
      ]
     },
     "metadata": {},
     "output_type": "display_data"
    },
    {
     "data": {
      "text/html": [
       "<pre>Preparing data set.</pre>"
      ],
      "text/plain": [
       "Preparing data set."
      ]
     },
     "metadata": {},
     "output_type": "display_data"
    },
    {
     "data": {
      "text/html": [
       "<pre>    Data has 24756 observations with 12294 users and 894 items.</pre>"
      ],
      "text/plain": [
       "    Data has 24756 observations with 12294 users and 894 items."
      ]
     },
     "metadata": {},
     "output_type": "display_data"
    },
    {
     "data": {
      "text/html": [
       "<pre>    Data prepared in: 0.05321s</pre>"
      ],
      "text/plain": [
       "    Data prepared in: 0.05321s"
      ]
     },
     "metadata": {},
     "output_type": "display_data"
    },
    {
     "data": {
      "text/html": [
       "<pre>Training factorization_recommender for recommendations.</pre>"
      ],
      "text/plain": [
       "Training factorization_recommender for recommendations."
      ]
     },
     "metadata": {},
     "output_type": "display_data"
    },
    {
     "data": {
      "text/html": [
       "<pre>+------------------------------+--------------------------------------------------+----------+</pre>"
      ],
      "text/plain": [
       "+------------------------------+--------------------------------------------------+----------+"
      ]
     },
     "metadata": {},
     "output_type": "display_data"
    },
    {
     "data": {
      "text/html": [
       "<pre>| Parameter                    | Description                                      | Value    |</pre>"
      ],
      "text/plain": [
       "| Parameter                    | Description                                      | Value    |"
      ]
     },
     "metadata": {},
     "output_type": "display_data"
    },
    {
     "data": {
      "text/html": [
       "<pre>+------------------------------+--------------------------------------------------+----------+</pre>"
      ],
      "text/plain": [
       "+------------------------------+--------------------------------------------------+----------+"
      ]
     },
     "metadata": {},
     "output_type": "display_data"
    },
    {
     "data": {
      "text/html": [
       "<pre>| num_factors                  | Factor Dimension                                 | 10       |</pre>"
      ],
      "text/plain": [
       "| num_factors                  | Factor Dimension                                 | 10       |"
      ]
     },
     "metadata": {},
     "output_type": "display_data"
    },
    {
     "data": {
      "text/html": [
       "<pre>| regularization               | L2 Regularization on Factors                     | 1        |</pre>"
      ],
      "text/plain": [
       "| regularization               | L2 Regularization on Factors                     | 1        |"
      ]
     },
     "metadata": {},
     "output_type": "display_data"
    },
    {
     "data": {
      "text/html": [
       "<pre>| max_iterations               | Maximum Number of Iterations                     | 50       |</pre>"
      ],
      "text/plain": [
       "| max_iterations               | Maximum Number of Iterations                     | 50       |"
      ]
     },
     "metadata": {},
     "output_type": "display_data"
    },
    {
     "data": {
      "text/html": [
       "<pre>| solver                       | Solver used for training                         | als      |</pre>"
      ],
      "text/plain": [
       "| solver                       | Solver used for training                         | als      |"
      ]
     },
     "metadata": {},
     "output_type": "display_data"
    },
    {
     "data": {
      "text/html": [
       "<pre>+------------------------------+--------------------------------------------------+----------+</pre>"
      ],
      "text/plain": [
       "+------------------------------+--------------------------------------------------+----------+"
      ]
     },
     "metadata": {},
     "output_type": "display_data"
    },
    {
     "data": {
      "text/html": [
       "<pre>+---------+--------------+------------------------+</pre>"
      ],
      "text/plain": [
       "+---------+--------------+------------------------+"
      ]
     },
     "metadata": {},
     "output_type": "display_data"
    },
    {
     "data": {
      "text/html": [
       "<pre>| Iter.   | Elapsed time | RMSE                   |</pre>"
      ],
      "text/plain": [
       "| Iter.   | Elapsed time | RMSE                   |"
      ]
     },
     "metadata": {},
     "output_type": "display_data"
    },
    {
     "data": {
      "text/html": [
       "<pre>+---------+--------------+------------------------+</pre>"
      ],
      "text/plain": [
       "+---------+--------------+------------------------+"
      ]
     },
     "metadata": {},
     "output_type": "display_data"
    },
    {
     "data": {
      "text/html": [
       "<pre>| Initial | 113us        | NA                     |</pre>"
      ],
      "text/plain": [
       "| Initial | 113us        | NA                     |"
      ]
     },
     "metadata": {},
     "output_type": "display_data"
    },
    {
     "data": {
      "text/html": [
       "<pre>+---------+--------------+------------------------+</pre>"
      ],
      "text/plain": [
       "+---------+--------------+------------------------+"
      ]
     },
     "metadata": {},
     "output_type": "display_data"
    },
    {
     "data": {
      "text/html": [
       "<pre>| 0       | 60.119ms     | 0.598309               |</pre>"
      ],
      "text/plain": [
       "| 0       | 60.119ms     | 0.598309               |"
      ]
     },
     "metadata": {},
     "output_type": "display_data"
    },
    {
     "data": {
      "text/html": [
       "<pre>| 1       | 139.348ms    | 0.598309               |</pre>"
      ],
      "text/plain": [
       "| 1       | 139.348ms    | 0.598309               |"
      ]
     },
     "metadata": {},
     "output_type": "display_data"
    },
    {
     "data": {
      "text/html": [
       "<pre>| 2       | 179.737ms    | 0.598309               |</pre>"
      ],
      "text/plain": [
       "| 2       | 179.737ms    | 0.598309               |"
      ]
     },
     "metadata": {},
     "output_type": "display_data"
    },
    {
     "data": {
      "text/html": [
       "<pre>| 3       | 223.818ms    | 0.598309               |</pre>"
      ],
      "text/plain": [
       "| 3       | 223.818ms    | 0.598309               |"
      ]
     },
     "metadata": {},
     "output_type": "display_data"
    },
    {
     "data": {
      "text/html": [
       "<pre>| 4       | 260.508ms    | 0.598309               |</pre>"
      ],
      "text/plain": [
       "| 4       | 260.508ms    | 0.598309               |"
      ]
     },
     "metadata": {},
     "output_type": "display_data"
    },
    {
     "data": {
      "text/html": [
       "<pre>| 5       | 306.285ms    | 0.598309               |</pre>"
      ],
      "text/plain": [
       "| 5       | 306.285ms    | 0.598309               |"
      ]
     },
     "metadata": {},
     "output_type": "display_data"
    },
    {
     "data": {
      "text/html": [
       "<pre>| 6       | 341.867ms    | 0.598309               |</pre>"
      ],
      "text/plain": [
       "| 6       | 341.867ms    | 0.598309               |"
      ]
     },
     "metadata": {},
     "output_type": "display_data"
    },
    {
     "data": {
      "text/html": [
       "<pre>| 7       | 381.522ms    | 0.598309               |</pre>"
      ],
      "text/plain": [
       "| 7       | 381.522ms    | 0.598309               |"
      ]
     },
     "metadata": {},
     "output_type": "display_data"
    },
    {
     "data": {
      "text/html": [
       "<pre>| 8       | 421.699ms    | 0.598309               |</pre>"
      ],
      "text/plain": [
       "| 8       | 421.699ms    | 0.598309               |"
      ]
     },
     "metadata": {},
     "output_type": "display_data"
    },
    {
     "data": {
      "text/html": [
       "<pre>| 9       | 462.107ms    | 0.598309               |</pre>"
      ],
      "text/plain": [
       "| 9       | 462.107ms    | 0.598309               |"
      ]
     },
     "metadata": {},
     "output_type": "display_data"
    },
    {
     "data": {
      "text/html": [
       "<pre>| 10      | 497.057ms    | 0.598309               |</pre>"
      ],
      "text/plain": [
       "| 10      | 497.057ms    | 0.598309               |"
      ]
     },
     "metadata": {},
     "output_type": "display_data"
    },
    {
     "data": {
      "text/html": [
       "<pre>| 11      | 534.724ms    | 0.598309               |</pre>"
      ],
      "text/plain": [
       "| 11      | 534.724ms    | 0.598309               |"
      ]
     },
     "metadata": {},
     "output_type": "display_data"
    },
    {
     "data": {
      "text/html": [
       "<pre>| 12      | 559.78ms     | 0.598309               |</pre>"
      ],
      "text/plain": [
       "| 12      | 559.78ms     | 0.598309               |"
      ]
     },
     "metadata": {},
     "output_type": "display_data"
    },
    {
     "data": {
      "text/html": [
       "<pre>| 13      | 611.41ms     | 0.598309               |</pre>"
      ],
      "text/plain": [
       "| 13      | 611.41ms     | 0.598309               |"
      ]
     },
     "metadata": {},
     "output_type": "display_data"
    },
    {
     "data": {
      "text/html": [
       "<pre>| 14      | 639.58ms     | 0.598309               |</pre>"
      ],
      "text/plain": [
       "| 14      | 639.58ms     | 0.598309               |"
      ]
     },
     "metadata": {},
     "output_type": "display_data"
    },
    {
     "data": {
      "text/html": [
       "<pre>| 15      | 687.394ms    | 0.598309               |</pre>"
      ],
      "text/plain": [
       "| 15      | 687.394ms    | 0.598309               |"
      ]
     },
     "metadata": {},
     "output_type": "display_data"
    },
    {
     "data": {
      "text/html": [
       "<pre>| 16      | 727.414ms    | 0.598309               |</pre>"
      ],
      "text/plain": [
       "| 16      | 727.414ms    | 0.598309               |"
      ]
     },
     "metadata": {},
     "output_type": "display_data"
    },
    {
     "data": {
      "text/html": [
       "<pre>| 17      | 776.036ms    | 0.598309               |</pre>"
      ],
      "text/plain": [
       "| 17      | 776.036ms    | 0.598309               |"
      ]
     },
     "metadata": {},
     "output_type": "display_data"
    },
    {
     "data": {
      "text/html": [
       "<pre>| 18      | 814.944ms    | 0.598309               |</pre>"
      ],
      "text/plain": [
       "| 18      | 814.944ms    | 0.598309               |"
      ]
     },
     "metadata": {},
     "output_type": "display_data"
    },
    {
     "data": {
      "text/html": [
       "<pre>| 19      | 867.579ms    | 0.598309               |</pre>"
      ],
      "text/plain": [
       "| 19      | 867.579ms    | 0.598309               |"
      ]
     },
     "metadata": {},
     "output_type": "display_data"
    },
    {
     "data": {
      "text/html": [
       "<pre>| 20      | 912.597ms    | 0.598309               |</pre>"
      ],
      "text/plain": [
       "| 20      | 912.597ms    | 0.598309               |"
      ]
     },
     "metadata": {},
     "output_type": "display_data"
    },
    {
     "data": {
      "text/html": [
       "<pre>| 21      | 944.045ms    | 0.598309               |</pre>"
      ],
      "text/plain": [
       "| 21      | 944.045ms    | 0.598309               |"
      ]
     },
     "metadata": {},
     "output_type": "display_data"
    },
    {
     "data": {
      "text/html": [
       "<pre>| 22      | 986.203ms    | 0.598309               |</pre>"
      ],
      "text/plain": [
       "| 22      | 986.203ms    | 0.598309               |"
      ]
     },
     "metadata": {},
     "output_type": "display_data"
    },
    {
     "data": {
      "text/html": [
       "<pre>| 23      | 1.01s        | 0.598309               |</pre>"
      ],
      "text/plain": [
       "| 23      | 1.01s        | 0.598309               |"
      ]
     },
     "metadata": {},
     "output_type": "display_data"
    },
    {
     "data": {
      "text/html": [
       "<pre>| 24      | 1.07s        | 0.598309               |</pre>"
      ],
      "text/plain": [
       "| 24      | 1.07s        | 0.598309               |"
      ]
     },
     "metadata": {},
     "output_type": "display_data"
    },
    {
     "data": {
      "text/html": [
       "<pre>| 25      | 1.11s        | 0.598309               |</pre>"
      ],
      "text/plain": [
       "| 25      | 1.11s        | 0.598309               |"
      ]
     },
     "metadata": {},
     "output_type": "display_data"
    },
    {
     "data": {
      "text/html": [
       "<pre>| 26      | 1.14s        | 0.598309               |</pre>"
      ],
      "text/plain": [
       "| 26      | 1.14s        | 0.598309               |"
      ]
     },
     "metadata": {},
     "output_type": "display_data"
    },
    {
     "data": {
      "text/html": [
       "<pre>| 27      | 1.19s        | 0.598309               |</pre>"
      ],
      "text/plain": [
       "| 27      | 1.19s        | 0.598309               |"
      ]
     },
     "metadata": {},
     "output_type": "display_data"
    },
    {
     "data": {
      "text/html": [
       "<pre>| 28      | 1.22s        | 0.598309               |</pre>"
      ],
      "text/plain": [
       "| 28      | 1.22s        | 0.598309               |"
      ]
     },
     "metadata": {},
     "output_type": "display_data"
    },
    {
     "data": {
      "text/html": [
       "<pre>| 29      | 1.26s        | 0.598309               |</pre>"
      ],
      "text/plain": [
       "| 29      | 1.26s        | 0.598309               |"
      ]
     },
     "metadata": {},
     "output_type": "display_data"
    },
    {
     "data": {
      "text/html": [
       "<pre>| 30      | 1.28s        | 0.598309               |</pre>"
      ],
      "text/plain": [
       "| 30      | 1.28s        | 0.598309               |"
      ]
     },
     "metadata": {},
     "output_type": "display_data"
    },
    {
     "data": {
      "text/html": [
       "<pre>| 31      | 1.32s        | 0.598309               |</pre>"
      ],
      "text/plain": [
       "| 31      | 1.32s        | 0.598309               |"
      ]
     },
     "metadata": {},
     "output_type": "display_data"
    },
    {
     "data": {
      "text/html": [
       "<pre>| 32      | 1.37s        | 0.598309               |</pre>"
      ],
      "text/plain": [
       "| 32      | 1.37s        | 0.598309               |"
      ]
     },
     "metadata": {},
     "output_type": "display_data"
    },
    {
     "data": {
      "text/html": [
       "<pre>| 33      | 1.41s        | 0.598309               |</pre>"
      ],
      "text/plain": [
       "| 33      | 1.41s        | 0.598309               |"
      ]
     },
     "metadata": {},
     "output_type": "display_data"
    },
    {
     "data": {
      "text/html": [
       "<pre>| 34      | 1.45s        | 0.598309               |</pre>"
      ],
      "text/plain": [
       "| 34      | 1.45s        | 0.598309               |"
      ]
     },
     "metadata": {},
     "output_type": "display_data"
    },
    {
     "data": {
      "text/html": [
       "<pre>| 35      | 1.48s        | 0.598309               |</pre>"
      ],
      "text/plain": [
       "| 35      | 1.48s        | 0.598309               |"
      ]
     },
     "metadata": {},
     "output_type": "display_data"
    },
    {
     "data": {
      "text/html": [
       "<pre>| 36      | 1.51s        | 0.598309               |</pre>"
      ],
      "text/plain": [
       "| 36      | 1.51s        | 0.598309               |"
      ]
     },
     "metadata": {},
     "output_type": "display_data"
    },
    {
     "data": {
      "text/html": [
       "<pre>| 37      | 1.54s        | 0.598309               |</pre>"
      ],
      "text/plain": [
       "| 37      | 1.54s        | 0.598309               |"
      ]
     },
     "metadata": {},
     "output_type": "display_data"
    },
    {
     "data": {
      "text/html": [
       "<pre>| 38      | 1.59s        | 0.598309               |</pre>"
      ],
      "text/plain": [
       "| 38      | 1.59s        | 0.598309               |"
      ]
     },
     "metadata": {},
     "output_type": "display_data"
    },
    {
     "data": {
      "text/html": [
       "<pre>| 39      | 1.64s        | 0.598309               |</pre>"
      ],
      "text/plain": [
       "| 39      | 1.64s        | 0.598309               |"
      ]
     },
     "metadata": {},
     "output_type": "display_data"
    },
    {
     "data": {
      "text/html": [
       "<pre>| 40      | 1.67s        | 0.598309               |</pre>"
      ],
      "text/plain": [
       "| 40      | 1.67s        | 0.598309               |"
      ]
     },
     "metadata": {},
     "output_type": "display_data"
    },
    {
     "data": {
      "text/html": [
       "<pre>| 41      | 1.71s        | 0.598309               |</pre>"
      ],
      "text/plain": [
       "| 41      | 1.71s        | 0.598309               |"
      ]
     },
     "metadata": {},
     "output_type": "display_data"
    },
    {
     "data": {
      "text/html": [
       "<pre>| 42      | 1.74s        | 0.598309               |</pre>"
      ],
      "text/plain": [
       "| 42      | 1.74s        | 0.598309               |"
      ]
     },
     "metadata": {},
     "output_type": "display_data"
    },
    {
     "data": {
      "text/html": [
       "<pre>| 43      | 1.78s        | 0.598309               |</pre>"
      ],
      "text/plain": [
       "| 43      | 1.78s        | 0.598309               |"
      ]
     },
     "metadata": {},
     "output_type": "display_data"
    },
    {
     "data": {
      "text/html": [
       "<pre>| 44      | 1.83s        | 0.598309               |</pre>"
      ],
      "text/plain": [
       "| 44      | 1.83s        | 0.598309               |"
      ]
     },
     "metadata": {},
     "output_type": "display_data"
    },
    {
     "data": {
      "text/html": [
       "<pre>| 45      | 1.88s        | 0.598309               |</pre>"
      ],
      "text/plain": [
       "| 45      | 1.88s        | 0.598309               |"
      ]
     },
     "metadata": {},
     "output_type": "display_data"
    },
    {
     "data": {
      "text/html": [
       "<pre>| 46      | 1.90s        | 0.598309               |</pre>"
      ],
      "text/plain": [
       "| 46      | 1.90s        | 0.598309               |"
      ]
     },
     "metadata": {},
     "output_type": "display_data"
    },
    {
     "data": {
      "text/html": [
       "<pre>| 47      | 1.94s        | 0.598309               |</pre>"
      ],
      "text/plain": [
       "| 47      | 1.94s        | 0.598309               |"
      ]
     },
     "metadata": {},
     "output_type": "display_data"
    },
    {
     "data": {
      "text/html": [
       "<pre>| 48      | 1.98s        | 0.598309               |</pre>"
      ],
      "text/plain": [
       "| 48      | 1.98s        | 0.598309               |"
      ]
     },
     "metadata": {},
     "output_type": "display_data"
    },
    {
     "data": {
      "text/html": [
       "<pre>| 49      | 2.02s        | 0.598309               |</pre>"
      ],
      "text/plain": [
       "| 49      | 2.02s        | 0.598309               |"
      ]
     },
     "metadata": {},
     "output_type": "display_data"
    },
    {
     "data": {
      "text/html": [
       "<pre>| FINAL   | 2.02s        | 0.598309               |</pre>"
      ],
      "text/plain": [
       "| FINAL   | 2.02s        | 0.598309               |"
      ]
     },
     "metadata": {},
     "output_type": "display_data"
    },
    {
     "data": {
      "text/html": [
       "<pre>+---------+--------------+------------------------+</pre>"
      ],
      "text/plain": [
       "+---------+--------------+------------------------+"
      ]
     },
     "metadata": {},
     "output_type": "display_data"
    },
    {
     "data": {
      "text/html": [
       "<pre>Optimization Complete: Iteration limit reached.</pre>"
      ],
      "text/plain": [
       "Optimization Complete: Iteration limit reached."
      ]
     },
     "metadata": {},
     "output_type": "display_data"
    },
    {
     "data": {
      "text/html": [
       "<pre>Recsys training: model = factorization_recommender</pre>"
      ],
      "text/plain": [
       "Recsys training: model = factorization_recommender"
      ]
     },
     "metadata": {},
     "output_type": "display_data"
    },
    {
     "data": {
      "text/html": [
       "<pre>Preparing data set.</pre>"
      ],
      "text/plain": [
       "Preparing data set."
      ]
     },
     "metadata": {},
     "output_type": "display_data"
    },
    {
     "data": {
      "text/html": [
       "<pre>    Data has 24756 observations with 12294 users and 894 items.</pre>"
      ],
      "text/plain": [
       "    Data has 24756 observations with 12294 users and 894 items."
      ]
     },
     "metadata": {},
     "output_type": "display_data"
    },
    {
     "data": {
      "text/html": [
       "<pre>    Data prepared in: 0.047172s</pre>"
      ],
      "text/plain": [
       "    Data prepared in: 0.047172s"
      ]
     },
     "metadata": {},
     "output_type": "display_data"
    },
    {
     "data": {
      "text/html": [
       "<pre>Training factorization_recommender for recommendations.</pre>"
      ],
      "text/plain": [
       "Training factorization_recommender for recommendations."
      ]
     },
     "metadata": {},
     "output_type": "display_data"
    },
    {
     "data": {
      "text/html": [
       "<pre>+------------------------------+--------------------------------------------------+----------+</pre>"
      ],
      "text/plain": [
       "+------------------------------+--------------------------------------------------+----------+"
      ]
     },
     "metadata": {},
     "output_type": "display_data"
    },
    {
     "data": {
      "text/html": [
       "<pre>| Parameter                    | Description                                      | Value    |</pre>"
      ],
      "text/plain": [
       "| Parameter                    | Description                                      | Value    |"
      ]
     },
     "metadata": {},
     "output_type": "display_data"
    },
    {
     "data": {
      "text/html": [
       "<pre>+------------------------------+--------------------------------------------------+----------+</pre>"
      ],
      "text/plain": [
       "+------------------------------+--------------------------------------------------+----------+"
      ]
     },
     "metadata": {},
     "output_type": "display_data"
    },
    {
     "data": {
      "text/html": [
       "<pre>| num_factors                  | Factor Dimension                                 | 10       |</pre>"
      ],
      "text/plain": [
       "| num_factors                  | Factor Dimension                                 | 10       |"
      ]
     },
     "metadata": {},
     "output_type": "display_data"
    },
    {
     "data": {
      "text/html": [
       "<pre>| regularization               | L2 Regularization on Factors                     | 0.1      |</pre>"
      ],
      "text/plain": [
       "| regularization               | L2 Regularization on Factors                     | 0.1      |"
      ]
     },
     "metadata": {},
     "output_type": "display_data"
    },
    {
     "data": {
      "text/html": [
       "<pre>| max_iterations               | Maximum Number of Iterations                     | 50       |</pre>"
      ],
      "text/plain": [
       "| max_iterations               | Maximum Number of Iterations                     | 50       |"
      ]
     },
     "metadata": {},
     "output_type": "display_data"
    },
    {
     "data": {
      "text/html": [
       "<pre>| solver                       | Solver used for training                         | als      |</pre>"
      ],
      "text/plain": [
       "| solver                       | Solver used for training                         | als      |"
      ]
     },
     "metadata": {},
     "output_type": "display_data"
    },
    {
     "data": {
      "text/html": [
       "<pre>+------------------------------+--------------------------------------------------+----------+</pre>"
      ],
      "text/plain": [
       "+------------------------------+--------------------------------------------------+----------+"
      ]
     },
     "metadata": {},
     "output_type": "display_data"
    },
    {
     "data": {
      "text/html": [
       "<pre>+---------+--------------+------------------------+</pre>"
      ],
      "text/plain": [
       "+---------+--------------+------------------------+"
      ]
     },
     "metadata": {},
     "output_type": "display_data"
    },
    {
     "data": {
      "text/html": [
       "<pre>| Iter.   | Elapsed time | RMSE                   |</pre>"
      ],
      "text/plain": [
       "| Iter.   | Elapsed time | RMSE                   |"
      ]
     },
     "metadata": {},
     "output_type": "display_data"
    },
    {
     "data": {
      "text/html": [
       "<pre>+---------+--------------+------------------------+</pre>"
      ],
      "text/plain": [
       "+---------+--------------+------------------------+"
      ]
     },
     "metadata": {},
     "output_type": "display_data"
    },
    {
     "data": {
      "text/html": [
       "<pre>| Initial | 90us         | NA                     |</pre>"
      ],
      "text/plain": [
       "| Initial | 90us         | NA                     |"
      ]
     },
     "metadata": {},
     "output_type": "display_data"
    },
    {
     "data": {
      "text/html": [
       "<pre>+---------+--------------+------------------------+</pre>"
      ],
      "text/plain": [
       "+---------+--------------+------------------------+"
      ]
     },
     "metadata": {},
     "output_type": "display_data"
    },
    {
     "data": {
      "text/html": [
       "<pre>| 0       | 52.394ms     | 0.598309               |</pre>"
      ],
      "text/plain": [
       "| 0       | 52.394ms     | 0.598309               |"
      ]
     },
     "metadata": {},
     "output_type": "display_data"
    },
    {
     "data": {
      "text/html": [
       "<pre>| 1       | 111.826ms    | 0.598309               |</pre>"
      ],
      "text/plain": [
       "| 1       | 111.826ms    | 0.598309               |"
      ]
     },
     "metadata": {},
     "output_type": "display_data"
    },
    {
     "data": {
      "text/html": [
       "<pre>| 2       | 159.394ms    | 0.598309               |</pre>"
      ],
      "text/plain": [
       "| 2       | 159.394ms    | 0.598309               |"
      ]
     },
     "metadata": {},
     "output_type": "display_data"
    },
    {
     "data": {
      "text/html": [
       "<pre>| 3       | 219.001ms    | 0.598309               |</pre>"
      ],
      "text/plain": [
       "| 3       | 219.001ms    | 0.598309               |"
      ]
     },
     "metadata": {},
     "output_type": "display_data"
    },
    {
     "data": {
      "text/html": [
       "<pre>| 4       | 247.198ms    | 0.598309               |</pre>"
      ],
      "text/plain": [
       "| 4       | 247.198ms    | 0.598309               |"
      ]
     },
     "metadata": {},
     "output_type": "display_data"
    },
    {
     "data": {
      "text/html": [
       "<pre>| 5       | 289.556ms    | 0.598309               |</pre>"
      ],
      "text/plain": [
       "| 5       | 289.556ms    | 0.598309               |"
      ]
     },
     "metadata": {},
     "output_type": "display_data"
    },
    {
     "data": {
      "text/html": [
       "<pre>| 6       | 332.44ms     | 0.598309               |</pre>"
      ],
      "text/plain": [
       "| 6       | 332.44ms     | 0.598309               |"
      ]
     },
     "metadata": {},
     "output_type": "display_data"
    },
    {
     "data": {
      "text/html": [
       "<pre>| 7       | 395.578ms    | 0.598309               |</pre>"
      ],
      "text/plain": [
       "| 7       | 395.578ms    | 0.598309               |"
      ]
     },
     "metadata": {},
     "output_type": "display_data"
    },
    {
     "data": {
      "text/html": [
       "<pre>| 8       | 435.098ms    | 0.598309               |</pre>"
      ],
      "text/plain": [
       "| 8       | 435.098ms    | 0.598309               |"
      ]
     },
     "metadata": {},
     "output_type": "display_data"
    },
    {
     "data": {
      "text/html": [
       "<pre>| 9       | 482.743ms    | 0.598309               |</pre>"
      ],
      "text/plain": [
       "| 9       | 482.743ms    | 0.598309               |"
      ]
     },
     "metadata": {},
     "output_type": "display_data"
    },
    {
     "data": {
      "text/html": [
       "<pre>| 10      | 518.766ms    | 0.598309               |</pre>"
      ],
      "text/plain": [
       "| 10      | 518.766ms    | 0.598309               |"
      ]
     },
     "metadata": {},
     "output_type": "display_data"
    },
    {
     "data": {
      "text/html": [
       "<pre>| 11      | 568.7ms      | 0.598309               |</pre>"
      ],
      "text/plain": [
       "| 11      | 568.7ms      | 0.598309               |"
      ]
     },
     "metadata": {},
     "output_type": "display_data"
    },
    {
     "data": {
      "text/html": [
       "<pre>| 12      | 601.18ms     | 0.598309               |</pre>"
      ],
      "text/plain": [
       "| 12      | 601.18ms     | 0.598309               |"
      ]
     },
     "metadata": {},
     "output_type": "display_data"
    },
    {
     "data": {
      "text/html": [
       "<pre>| 13      | 651.828ms    | 0.598309               |</pre>"
      ],
      "text/plain": [
       "| 13      | 651.828ms    | 0.598309               |"
      ]
     },
     "metadata": {},
     "output_type": "display_data"
    },
    {
     "data": {
      "text/html": [
       "<pre>| 14      | 683.031ms    | 0.598309               |</pre>"
      ],
      "text/plain": [
       "| 14      | 683.031ms    | 0.598309               |"
      ]
     },
     "metadata": {},
     "output_type": "display_data"
    },
    {
     "data": {
      "text/html": [
       "<pre>| 15      | 725.6ms      | 0.598309               |</pre>"
      ],
      "text/plain": [
       "| 15      | 725.6ms      | 0.598309               |"
      ]
     },
     "metadata": {},
     "output_type": "display_data"
    },
    {
     "data": {
      "text/html": [
       "<pre>| 16      | 764.159ms    | 0.598309               |</pre>"
      ],
      "text/plain": [
       "| 16      | 764.159ms    | 0.598309               |"
      ]
     },
     "metadata": {},
     "output_type": "display_data"
    },
    {
     "data": {
      "text/html": [
       "<pre>| 17      | 810.743ms    | 0.598309               |</pre>"
      ],
      "text/plain": [
       "| 17      | 810.743ms    | 0.598309               |"
      ]
     },
     "metadata": {},
     "output_type": "display_data"
    },
    {
     "data": {
      "text/html": [
       "<pre>| 18      | 842.141ms    | 0.598309               |</pre>"
      ],
      "text/plain": [
       "| 18      | 842.141ms    | 0.598309               |"
      ]
     },
     "metadata": {},
     "output_type": "display_data"
    },
    {
     "data": {
      "text/html": [
       "<pre>| 19      | 884.834ms    | 0.598309               |</pre>"
      ],
      "text/plain": [
       "| 19      | 884.834ms    | 0.598309               |"
      ]
     },
     "metadata": {},
     "output_type": "display_data"
    },
    {
     "data": {
      "text/html": [
       "<pre>| 20      | 916.822ms    | 0.598309               |</pre>"
      ],
      "text/plain": [
       "| 20      | 916.822ms    | 0.598309               |"
      ]
     },
     "metadata": {},
     "output_type": "display_data"
    },
    {
     "data": {
      "text/html": [
       "<pre>| 21      | 966.573ms    | 0.598309               |</pre>"
      ],
      "text/plain": [
       "| 21      | 966.573ms    | 0.598309               |"
      ]
     },
     "metadata": {},
     "output_type": "display_data"
    },
    {
     "data": {
      "text/html": [
       "<pre>| 22      | 998.852ms    | 0.598309               |</pre>"
      ],
      "text/plain": [
       "| 22      | 998.852ms    | 0.598309               |"
      ]
     },
     "metadata": {},
     "output_type": "display_data"
    },
    {
     "data": {
      "text/html": [
       "<pre>| 23      | 1.06s        | 0.598309               |</pre>"
      ],
      "text/plain": [
       "| 23      | 1.06s        | 0.598309               |"
      ]
     },
     "metadata": {},
     "output_type": "display_data"
    },
    {
     "data": {
      "text/html": [
       "<pre>| 24      | 1.10s        | 0.598309               |</pre>"
      ],
      "text/plain": [
       "| 24      | 1.10s        | 0.598309               |"
      ]
     },
     "metadata": {},
     "output_type": "display_data"
    },
    {
     "data": {
      "text/html": [
       "<pre>| 25      | 1.14s        | 0.598309               |</pre>"
      ],
      "text/plain": [
       "| 25      | 1.14s        | 0.598309               |"
      ]
     },
     "metadata": {},
     "output_type": "display_data"
    },
    {
     "data": {
      "text/html": [
       "<pre>| 26      | 1.18s        | 0.598309               |</pre>"
      ],
      "text/plain": [
       "| 26      | 1.18s        | 0.598309               |"
      ]
     },
     "metadata": {},
     "output_type": "display_data"
    },
    {
     "data": {
      "text/html": [
       "<pre>| 27      | 1.22s        | 0.598309               |</pre>"
      ],
      "text/plain": [
       "| 27      | 1.22s        | 0.598309               |"
      ]
     },
     "metadata": {},
     "output_type": "display_data"
    },
    {
     "data": {
      "text/html": [
       "<pre>| 28      | 1.26s        | 0.598309               |</pre>"
      ],
      "text/plain": [
       "| 28      | 1.26s        | 0.598309               |"
      ]
     },
     "metadata": {},
     "output_type": "display_data"
    },
    {
     "data": {
      "text/html": [
       "<pre>| 29      | 1.31s        | 0.598309               |</pre>"
      ],
      "text/plain": [
       "| 29      | 1.31s        | 0.598309               |"
      ]
     },
     "metadata": {},
     "output_type": "display_data"
    },
    {
     "data": {
      "text/html": [
       "<pre>| 30      | 1.36s        | 0.598309               |</pre>"
      ],
      "text/plain": [
       "| 30      | 1.36s        | 0.598309               |"
      ]
     },
     "metadata": {},
     "output_type": "display_data"
    },
    {
     "data": {
      "text/html": [
       "<pre>| 31      | 1.41s        | 0.598309               |</pre>"
      ],
      "text/plain": [
       "| 31      | 1.41s        | 0.598309               |"
      ]
     },
     "metadata": {},
     "output_type": "display_data"
    },
    {
     "data": {
      "text/html": [
       "<pre>| 32      | 1.44s        | 0.598309               |</pre>"
      ],
      "text/plain": [
       "| 32      | 1.44s        | 0.598309               |"
      ]
     },
     "metadata": {},
     "output_type": "display_data"
    },
    {
     "data": {
      "text/html": [
       "<pre>| 33      | 1.47s        | 0.598309               |</pre>"
      ],
      "text/plain": [
       "| 33      | 1.47s        | 0.598309               |"
      ]
     },
     "metadata": {},
     "output_type": "display_data"
    },
    {
     "data": {
      "text/html": [
       "<pre>| 34      | 1.53s        | 0.598309               |</pre>"
      ],
      "text/plain": [
       "| 34      | 1.53s        | 0.598309               |"
      ]
     },
     "metadata": {},
     "output_type": "display_data"
    },
    {
     "data": {
      "text/html": [
       "<pre>| 35      | 1.57s        | 0.598309               |</pre>"
      ],
      "text/plain": [
       "| 35      | 1.57s        | 0.598309               |"
      ]
     },
     "metadata": {},
     "output_type": "display_data"
    },
    {
     "data": {
      "text/html": [
       "<pre>| 36      | 1.62s        | 0.598309               |</pre>"
      ],
      "text/plain": [
       "| 36      | 1.62s        | 0.598309               |"
      ]
     },
     "metadata": {},
     "output_type": "display_data"
    },
    {
     "data": {
      "text/html": [
       "<pre>| 37      | 1.68s        | 0.598309               |</pre>"
      ],
      "text/plain": [
       "| 37      | 1.68s        | 0.598309               |"
      ]
     },
     "metadata": {},
     "output_type": "display_data"
    },
    {
     "data": {
      "text/html": [
       "<pre>| 38      | 1.75s        | 0.598309               |</pre>"
      ],
      "text/plain": [
       "| 38      | 1.75s        | 0.598309               |"
      ]
     },
     "metadata": {},
     "output_type": "display_data"
    },
    {
     "data": {
      "text/html": [
       "<pre>| 39      | 1.78s        | 0.598309               |</pre>"
      ],
      "text/plain": [
       "| 39      | 1.78s        | 0.598309               |"
      ]
     },
     "metadata": {},
     "output_type": "display_data"
    },
    {
     "data": {
      "text/html": [
       "<pre>| 40      | 1.82s        | 0.598309               |</pre>"
      ],
      "text/plain": [
       "| 40      | 1.82s        | 0.598309               |"
      ]
     },
     "metadata": {},
     "output_type": "display_data"
    },
    {
     "data": {
      "text/html": [
       "<pre>| 41      | 1.86s        | 0.598309               |</pre>"
      ],
      "text/plain": [
       "| 41      | 1.86s        | 0.598309               |"
      ]
     },
     "metadata": {},
     "output_type": "display_data"
    },
    {
     "data": {
      "text/html": [
       "<pre>| 42      | 1.90s        | 0.598309               |</pre>"
      ],
      "text/plain": [
       "| 42      | 1.90s        | 0.598309               |"
      ]
     },
     "metadata": {},
     "output_type": "display_data"
    },
    {
     "data": {
      "text/html": [
       "<pre>| 43      | 1.95s        | 0.598309               |</pre>"
      ],
      "text/plain": [
       "| 43      | 1.95s        | 0.598309               |"
      ]
     },
     "metadata": {},
     "output_type": "display_data"
    },
    {
     "data": {
      "text/html": [
       "<pre>| 44      | 2.00s        | 0.598309               |</pre>"
      ],
      "text/plain": [
       "| 44      | 2.00s        | 0.598309               |"
      ]
     },
     "metadata": {},
     "output_type": "display_data"
    },
    {
     "data": {
      "text/html": [
       "<pre>| 45      | 2.03s        | 0.598309               |</pre>"
      ],
      "text/plain": [
       "| 45      | 2.03s        | 0.598309               |"
      ]
     },
     "metadata": {},
     "output_type": "display_data"
    },
    {
     "data": {
      "text/html": [
       "<pre>| 46      | 2.08s        | 0.598309               |</pre>"
      ],
      "text/plain": [
       "| 46      | 2.08s        | 0.598309               |"
      ]
     },
     "metadata": {},
     "output_type": "display_data"
    },
    {
     "data": {
      "text/html": [
       "<pre>| 47      | 2.12s        | 0.598309               |</pre>"
      ],
      "text/plain": [
       "| 47      | 2.12s        | 0.598309               |"
      ]
     },
     "metadata": {},
     "output_type": "display_data"
    },
    {
     "data": {
      "text/html": [
       "<pre>| 48      | 2.15s        | 0.598309               |</pre>"
      ],
      "text/plain": [
       "| 48      | 2.15s        | 0.598309               |"
      ]
     },
     "metadata": {},
     "output_type": "display_data"
    },
    {
     "data": {
      "text/html": [
       "<pre>| 49      | 2.18s        | 0.598309               |</pre>"
      ],
      "text/plain": [
       "| 49      | 2.18s        | 0.598309               |"
      ]
     },
     "metadata": {},
     "output_type": "display_data"
    },
    {
     "data": {
      "text/html": [
       "<pre>| FINAL   | 2.18s        | 0.598309               |</pre>"
      ],
      "text/plain": [
       "| FINAL   | 2.18s        | 0.598309               |"
      ]
     },
     "metadata": {},
     "output_type": "display_data"
    },
    {
     "data": {
      "text/html": [
       "<pre>+---------+--------------+------------------------+</pre>"
      ],
      "text/plain": [
       "+---------+--------------+------------------------+"
      ]
     },
     "metadata": {},
     "output_type": "display_data"
    },
    {
     "data": {
      "text/html": [
       "<pre>Optimization Complete: Iteration limit reached.</pre>"
      ],
      "text/plain": [
       "Optimization Complete: Iteration limit reached."
      ]
     },
     "metadata": {},
     "output_type": "display_data"
    },
    {
     "data": {
      "text/html": [
       "<pre>Recsys training: model = factorization_recommender</pre>"
      ],
      "text/plain": [
       "Recsys training: model = factorization_recommender"
      ]
     },
     "metadata": {},
     "output_type": "display_data"
    },
    {
     "data": {
      "text/html": [
       "<pre>Preparing data set.</pre>"
      ],
      "text/plain": [
       "Preparing data set."
      ]
     },
     "metadata": {},
     "output_type": "display_data"
    },
    {
     "data": {
      "text/html": [
       "<pre>    Data has 24756 observations with 12294 users and 894 items.</pre>"
      ],
      "text/plain": [
       "    Data has 24756 observations with 12294 users and 894 items."
      ]
     },
     "metadata": {},
     "output_type": "display_data"
    },
    {
     "data": {
      "text/html": [
       "<pre>    Data prepared in: 0.049052s</pre>"
      ],
      "text/plain": [
       "    Data prepared in: 0.049052s"
      ]
     },
     "metadata": {},
     "output_type": "display_data"
    },
    {
     "data": {
      "text/html": [
       "<pre>Training factorization_recommender for recommendations.</pre>"
      ],
      "text/plain": [
       "Training factorization_recommender for recommendations."
      ]
     },
     "metadata": {},
     "output_type": "display_data"
    },
    {
     "data": {
      "text/html": [
       "<pre>+------------------------------+--------------------------------------------------+----------+</pre>"
      ],
      "text/plain": [
       "+------------------------------+--------------------------------------------------+----------+"
      ]
     },
     "metadata": {},
     "output_type": "display_data"
    },
    {
     "data": {
      "text/html": [
       "<pre>| Parameter                    | Description                                      | Value    |</pre>"
      ],
      "text/plain": [
       "| Parameter                    | Description                                      | Value    |"
      ]
     },
     "metadata": {},
     "output_type": "display_data"
    },
    {
     "data": {
      "text/html": [
       "<pre>+------------------------------+--------------------------------------------------+----------+</pre>"
      ],
      "text/plain": [
       "+------------------------------+--------------------------------------------------+----------+"
      ]
     },
     "metadata": {},
     "output_type": "display_data"
    },
    {
     "data": {
      "text/html": [
       "<pre>| num_factors                  | Factor Dimension                                 | 10       |</pre>"
      ],
      "text/plain": [
       "| num_factors                  | Factor Dimension                                 | 10       |"
      ]
     },
     "metadata": {},
     "output_type": "display_data"
    },
    {
     "data": {
      "text/html": [
       "<pre>| regularization               | L2 Regularization on Factors                     | 0.01     |</pre>"
      ],
      "text/plain": [
       "| regularization               | L2 Regularization on Factors                     | 0.01     |"
      ]
     },
     "metadata": {},
     "output_type": "display_data"
    },
    {
     "data": {
      "text/html": [
       "<pre>| max_iterations               | Maximum Number of Iterations                     | 50       |</pre>"
      ],
      "text/plain": [
       "| max_iterations               | Maximum Number of Iterations                     | 50       |"
      ]
     },
     "metadata": {},
     "output_type": "display_data"
    },
    {
     "data": {
      "text/html": [
       "<pre>| solver                       | Solver used for training                         | als      |</pre>"
      ],
      "text/plain": [
       "| solver                       | Solver used for training                         | als      |"
      ]
     },
     "metadata": {},
     "output_type": "display_data"
    },
    {
     "data": {
      "text/html": [
       "<pre>+------------------------------+--------------------------------------------------+----------+</pre>"
      ],
      "text/plain": [
       "+------------------------------+--------------------------------------------------+----------+"
      ]
     },
     "metadata": {},
     "output_type": "display_data"
    },
    {
     "data": {
      "text/html": [
       "<pre>+---------+--------------+------------------------+</pre>"
      ],
      "text/plain": [
       "+---------+--------------+------------------------+"
      ]
     },
     "metadata": {},
     "output_type": "display_data"
    },
    {
     "data": {
      "text/html": [
       "<pre>| Iter.   | Elapsed time | RMSE                   |</pre>"
      ],
      "text/plain": [
       "| Iter.   | Elapsed time | RMSE                   |"
      ]
     },
     "metadata": {},
     "output_type": "display_data"
    },
    {
     "data": {
      "text/html": [
       "<pre>+---------+--------------+------------------------+</pre>"
      ],
      "text/plain": [
       "+---------+--------------+------------------------+"
      ]
     },
     "metadata": {},
     "output_type": "display_data"
    },
    {
     "data": {
      "text/html": [
       "<pre>| Initial | 99us         | NA                     |</pre>"
      ],
      "text/plain": [
       "| Initial | 99us         | NA                     |"
      ]
     },
     "metadata": {},
     "output_type": "display_data"
    },
    {
     "data": {
      "text/html": [
       "<pre>+---------+--------------+------------------------+</pre>"
      ],
      "text/plain": [
       "+---------+--------------+------------------------+"
      ]
     },
     "metadata": {},
     "output_type": "display_data"
    },
    {
     "data": {
      "text/html": [
       "<pre>| 0       | 73.248ms     | 0.598309               |</pre>"
      ],
      "text/plain": [
       "| 0       | 73.248ms     | 0.598309               |"
      ]
     },
     "metadata": {},
     "output_type": "display_data"
    },
    {
     "data": {
      "text/html": [
       "<pre>| 1       | 106.395ms    | 0.598309               |</pre>"
      ],
      "text/plain": [
       "| 1       | 106.395ms    | 0.598309               |"
      ]
     },
     "metadata": {},
     "output_type": "display_data"
    },
    {
     "data": {
      "text/html": [
       "<pre>| 2       | 165.43ms     | 0.598309               |</pre>"
      ],
      "text/plain": [
       "| 2       | 165.43ms     | 0.598309               |"
      ]
     },
     "metadata": {},
     "output_type": "display_data"
    },
    {
     "data": {
      "text/html": [
       "<pre>| 3       | 221.443ms    | 0.598309               |</pre>"
      ],
      "text/plain": [
       "| 3       | 221.443ms    | 0.598309               |"
      ]
     },
     "metadata": {},
     "output_type": "display_data"
    },
    {
     "data": {
      "text/html": [
       "<pre>| 4       | 270.166ms    | 0.598309               |</pre>"
      ],
      "text/plain": [
       "| 4       | 270.166ms    | 0.598309               |"
      ]
     },
     "metadata": {},
     "output_type": "display_data"
    },
    {
     "data": {
      "text/html": [
       "<pre>| 5       | 334.95ms     | 0.598309               |</pre>"
      ],
      "text/plain": [
       "| 5       | 334.95ms     | 0.598309               |"
      ]
     },
     "metadata": {},
     "output_type": "display_data"
    },
    {
     "data": {
      "text/html": [
       "<pre>| 6       | 380.53ms     | 0.598309               |</pre>"
      ],
      "text/plain": [
       "| 6       | 380.53ms     | 0.598309               |"
      ]
     },
     "metadata": {},
     "output_type": "display_data"
    },
    {
     "data": {
      "text/html": [
       "<pre>| 7       | 420.495ms    | 0.598309               |</pre>"
      ],
      "text/plain": [
       "| 7       | 420.495ms    | 0.598309               |"
      ]
     },
     "metadata": {},
     "output_type": "display_data"
    },
    {
     "data": {
      "text/html": [
       "<pre>| 8       | 448.402ms    | 0.598309               |</pre>"
      ],
      "text/plain": [
       "| 8       | 448.402ms    | 0.598309               |"
      ]
     },
     "metadata": {},
     "output_type": "display_data"
    },
    {
     "data": {
      "text/html": [
       "<pre>| 9       | 472.262ms    | 0.598309               |</pre>"
      ],
      "text/plain": [
       "| 9       | 472.262ms    | 0.598309               |"
      ]
     },
     "metadata": {},
     "output_type": "display_data"
    },
    {
     "data": {
      "text/html": [
       "<pre>| 10      | 520.644ms    | 0.598309               |</pre>"
      ],
      "text/plain": [
       "| 10      | 520.644ms    | 0.598309               |"
      ]
     },
     "metadata": {},
     "output_type": "display_data"
    },
    {
     "data": {
      "text/html": [
       "<pre>| 11      | 562.935ms    | 0.598309               |</pre>"
      ],
      "text/plain": [
       "| 11      | 562.935ms    | 0.598309               |"
      ]
     },
     "metadata": {},
     "output_type": "display_data"
    },
    {
     "data": {
      "text/html": [
       "<pre>| 12      | 613.636ms    | 0.598309               |</pre>"
      ],
      "text/plain": [
       "| 12      | 613.636ms    | 0.598309               |"
      ]
     },
     "metadata": {},
     "output_type": "display_data"
    },
    {
     "data": {
      "text/html": [
       "<pre>| 13      | 666.317ms    | 0.598309               |</pre>"
      ],
      "text/plain": [
       "| 13      | 666.317ms    | 0.598309               |"
      ]
     },
     "metadata": {},
     "output_type": "display_data"
    },
    {
     "data": {
      "text/html": [
       "<pre>| 14      | 720.582ms    | 0.598309               |</pre>"
      ],
      "text/plain": [
       "| 14      | 720.582ms    | 0.598309               |"
      ]
     },
     "metadata": {},
     "output_type": "display_data"
    },
    {
     "data": {
      "text/html": [
       "<pre>| 15      | 767.502ms    | 0.598309               |</pre>"
      ],
      "text/plain": [
       "| 15      | 767.502ms    | 0.598309               |"
      ]
     },
     "metadata": {},
     "output_type": "display_data"
    },
    {
     "data": {
      "text/html": [
       "<pre>| 16      | 803.112ms    | 0.598309               |</pre>"
      ],
      "text/plain": [
       "| 16      | 803.112ms    | 0.598309               |"
      ]
     },
     "metadata": {},
     "output_type": "display_data"
    },
    {
     "data": {
      "text/html": [
       "<pre>| 17      | 834.837ms    | 0.598309               |</pre>"
      ],
      "text/plain": [
       "| 17      | 834.837ms    | 0.598309               |"
      ]
     },
     "metadata": {},
     "output_type": "display_data"
    },
    {
     "data": {
      "text/html": [
       "<pre>| 18      | 881.559ms    | 0.598309               |</pre>"
      ],
      "text/plain": [
       "| 18      | 881.559ms    | 0.598309               |"
      ]
     },
     "metadata": {},
     "output_type": "display_data"
    },
    {
     "data": {
      "text/html": [
       "<pre>| 19      | 920.615ms    | 0.598309               |</pre>"
      ],
      "text/plain": [
       "| 19      | 920.615ms    | 0.598309               |"
      ]
     },
     "metadata": {},
     "output_type": "display_data"
    },
    {
     "data": {
      "text/html": [
       "<pre>| 20      | 960.385ms    | 0.598309               |</pre>"
      ],
      "text/plain": [
       "| 20      | 960.385ms    | 0.598309               |"
      ]
     },
     "metadata": {},
     "output_type": "display_data"
    },
    {
     "data": {
      "text/html": [
       "<pre>| 21      | 1.00s        | 0.598309               |</pre>"
      ],
      "text/plain": [
       "| 21      | 1.00s        | 0.598309               |"
      ]
     },
     "metadata": {},
     "output_type": "display_data"
    },
    {
     "data": {
      "text/html": [
       "<pre>| 22      | 1.06s        | 0.598309               |</pre>"
      ],
      "text/plain": [
       "| 22      | 1.06s        | 0.598309               |"
      ]
     },
     "metadata": {},
     "output_type": "display_data"
    },
    {
     "data": {
      "text/html": [
       "<pre>| 23      | 1.08s        | 0.598309               |</pre>"
      ],
      "text/plain": [
       "| 23      | 1.08s        | 0.598309               |"
      ]
     },
     "metadata": {},
     "output_type": "display_data"
    },
    {
     "data": {
      "text/html": [
       "<pre>| 24      | 1.14s        | 0.598309               |</pre>"
      ],
      "text/plain": [
       "| 24      | 1.14s        | 0.598309               |"
      ]
     },
     "metadata": {},
     "output_type": "display_data"
    },
    {
     "data": {
      "text/html": [
       "<pre>| 25      | 1.19s        | 0.598309               |</pre>"
      ],
      "text/plain": [
       "| 25      | 1.19s        | 0.598309               |"
      ]
     },
     "metadata": {},
     "output_type": "display_data"
    },
    {
     "data": {
      "text/html": [
       "<pre>| 26      | 1.23s        | 0.598309               |</pre>"
      ],
      "text/plain": [
       "| 26      | 1.23s        | 0.598309               |"
      ]
     },
     "metadata": {},
     "output_type": "display_data"
    },
    {
     "data": {
      "text/html": [
       "<pre>| 27      | 1.28s        | 0.598309               |</pre>"
      ],
      "text/plain": [
       "| 27      | 1.28s        | 0.598309               |"
      ]
     },
     "metadata": {},
     "output_type": "display_data"
    },
    {
     "data": {
      "text/html": [
       "<pre>| 28      | 1.33s        | 0.598309               |</pre>"
      ],
      "text/plain": [
       "| 28      | 1.33s        | 0.598309               |"
      ]
     },
     "metadata": {},
     "output_type": "display_data"
    },
    {
     "data": {
      "text/html": [
       "<pre>| 29      | 1.36s        | 0.598309               |</pre>"
      ],
      "text/plain": [
       "| 29      | 1.36s        | 0.598309               |"
      ]
     },
     "metadata": {},
     "output_type": "display_data"
    },
    {
     "data": {
      "text/html": [
       "<pre>| 30      | 1.41s        | 0.598309               |</pre>"
      ],
      "text/plain": [
       "| 30      | 1.41s        | 0.598309               |"
      ]
     },
     "metadata": {},
     "output_type": "display_data"
    },
    {
     "data": {
      "text/html": [
       "<pre>| 31      | 1.44s        | 0.598309               |</pre>"
      ],
      "text/plain": [
       "| 31      | 1.44s        | 0.598309               |"
      ]
     },
     "metadata": {},
     "output_type": "display_data"
    },
    {
     "data": {
      "text/html": [
       "<pre>| 32      | 1.48s        | 0.598309               |</pre>"
      ],
      "text/plain": [
       "| 32      | 1.48s        | 0.598309               |"
      ]
     },
     "metadata": {},
     "output_type": "display_data"
    },
    {
     "data": {
      "text/html": [
       "<pre>| 33      | 1.52s        | 0.598309               |</pre>"
      ],
      "text/plain": [
       "| 33      | 1.52s        | 0.598309               |"
      ]
     },
     "metadata": {},
     "output_type": "display_data"
    },
    {
     "data": {
      "text/html": [
       "<pre>| 34      | 1.57s        | 0.598309               |</pre>"
      ],
      "text/plain": [
       "| 34      | 1.57s        | 0.598309               |"
      ]
     },
     "metadata": {},
     "output_type": "display_data"
    },
    {
     "data": {
      "text/html": [
       "<pre>| 35      | 1.60s        | 0.598309               |</pre>"
      ],
      "text/plain": [
       "| 35      | 1.60s        | 0.598309               |"
      ]
     },
     "metadata": {},
     "output_type": "display_data"
    },
    {
     "data": {
      "text/html": [
       "<pre>| 36      | 1.65s        | 0.598309               |</pre>"
      ],
      "text/plain": [
       "| 36      | 1.65s        | 0.598309               |"
      ]
     },
     "metadata": {},
     "output_type": "display_data"
    },
    {
     "data": {
      "text/html": [
       "<pre>| 37      | 1.68s        | 0.598309               |</pre>"
      ],
      "text/plain": [
       "| 37      | 1.68s        | 0.598309               |"
      ]
     },
     "metadata": {},
     "output_type": "display_data"
    },
    {
     "data": {
      "text/html": [
       "<pre>| 38      | 1.72s        | 0.598309               |</pre>"
      ],
      "text/plain": [
       "| 38      | 1.72s        | 0.598309               |"
      ]
     },
     "metadata": {},
     "output_type": "display_data"
    },
    {
     "data": {
      "text/html": [
       "<pre>| 39      | 1.77s        | 0.598309               |</pre>"
      ],
      "text/plain": [
       "| 39      | 1.77s        | 0.598309               |"
      ]
     },
     "metadata": {},
     "output_type": "display_data"
    },
    {
     "data": {
      "text/html": [
       "<pre>| 40      | 1.83s        | 0.598309               |</pre>"
      ],
      "text/plain": [
       "| 40      | 1.83s        | 0.598309               |"
      ]
     },
     "metadata": {},
     "output_type": "display_data"
    },
    {
     "data": {
      "text/html": [
       "<pre>| 41      | 1.89s        | 0.598309               |</pre>"
      ],
      "text/plain": [
       "| 41      | 1.89s        | 0.598309               |"
      ]
     },
     "metadata": {},
     "output_type": "display_data"
    },
    {
     "data": {
      "text/html": [
       "<pre>| 42      | 1.94s        | 0.598309               |</pre>"
      ],
      "text/plain": [
       "| 42      | 1.94s        | 0.598309               |"
      ]
     },
     "metadata": {},
     "output_type": "display_data"
    },
    {
     "data": {
      "text/html": [
       "<pre>| 43      | 1.99s        | 0.598309               |</pre>"
      ],
      "text/plain": [
       "| 43      | 1.99s        | 0.598309               |"
      ]
     },
     "metadata": {},
     "output_type": "display_data"
    },
    {
     "data": {
      "text/html": [
       "<pre>| 44      | 2.04s        | 0.598309               |</pre>"
      ],
      "text/plain": [
       "| 44      | 2.04s        | 0.598309               |"
      ]
     },
     "metadata": {},
     "output_type": "display_data"
    },
    {
     "data": {
      "text/html": [
       "<pre>| 45      | 2.09s        | 0.598309               |</pre>"
      ],
      "text/plain": [
       "| 45      | 2.09s        | 0.598309               |"
      ]
     },
     "metadata": {},
     "output_type": "display_data"
    },
    {
     "data": {
      "text/html": [
       "<pre>| 46      | 2.13s        | 0.598309               |</pre>"
      ],
      "text/plain": [
       "| 46      | 2.13s        | 0.598309               |"
      ]
     },
     "metadata": {},
     "output_type": "display_data"
    },
    {
     "data": {
      "text/html": [
       "<pre>| 47      | 2.19s        | 0.598309               |</pre>"
      ],
      "text/plain": [
       "| 47      | 2.19s        | 0.598309               |"
      ]
     },
     "metadata": {},
     "output_type": "display_data"
    },
    {
     "data": {
      "text/html": [
       "<pre>| 48      | 2.23s        | 0.598309               |</pre>"
      ],
      "text/plain": [
       "| 48      | 2.23s        | 0.598309               |"
      ]
     },
     "metadata": {},
     "output_type": "display_data"
    },
    {
     "data": {
      "text/html": [
       "<pre>| 49      | 2.27s        | 0.598309               |</pre>"
      ],
      "text/plain": [
       "| 49      | 2.27s        | 0.598309               |"
      ]
     },
     "metadata": {},
     "output_type": "display_data"
    },
    {
     "data": {
      "text/html": [
       "<pre>| FINAL   | 2.27s        | 0.598309               |</pre>"
      ],
      "text/plain": [
       "| FINAL   | 2.27s        | 0.598309               |"
      ]
     },
     "metadata": {},
     "output_type": "display_data"
    },
    {
     "data": {
      "text/html": [
       "<pre>+---------+--------------+------------------------+</pre>"
      ],
      "text/plain": [
       "+---------+--------------+------------------------+"
      ]
     },
     "metadata": {},
     "output_type": "display_data"
    },
    {
     "data": {
      "text/html": [
       "<pre>Optimization Complete: Iteration limit reached.</pre>"
      ],
      "text/plain": [
       "Optimization Complete: Iteration limit reached."
      ]
     },
     "metadata": {},
     "output_type": "display_data"
    },
    {
     "data": {
      "text/html": [
       "<pre>Recsys training: model = factorization_recommender</pre>"
      ],
      "text/plain": [
       "Recsys training: model = factorization_recommender"
      ]
     },
     "metadata": {},
     "output_type": "display_data"
    },
    {
     "data": {
      "text/html": [
       "<pre>Preparing data set.</pre>"
      ],
      "text/plain": [
       "Preparing data set."
      ]
     },
     "metadata": {},
     "output_type": "display_data"
    },
    {
     "data": {
      "text/html": [
       "<pre>    Data has 24756 observations with 12294 users and 894 items.</pre>"
      ],
      "text/plain": [
       "    Data has 24756 observations with 12294 users and 894 items."
      ]
     },
     "metadata": {},
     "output_type": "display_data"
    },
    {
     "data": {
      "text/html": [
       "<pre>    Data prepared in: 0.052257s</pre>"
      ],
      "text/plain": [
       "    Data prepared in: 0.052257s"
      ]
     },
     "metadata": {},
     "output_type": "display_data"
    },
    {
     "data": {
      "text/html": [
       "<pre>Training factorization_recommender for recommendations.</pre>"
      ],
      "text/plain": [
       "Training factorization_recommender for recommendations."
      ]
     },
     "metadata": {},
     "output_type": "display_data"
    },
    {
     "data": {
      "text/html": [
       "<pre>+------------------------------+--------------------------------------------------+----------+</pre>"
      ],
      "text/plain": [
       "+------------------------------+--------------------------------------------------+----------+"
      ]
     },
     "metadata": {},
     "output_type": "display_data"
    },
    {
     "data": {
      "text/html": [
       "<pre>| Parameter                    | Description                                      | Value    |</pre>"
      ],
      "text/plain": [
       "| Parameter                    | Description                                      | Value    |"
      ]
     },
     "metadata": {},
     "output_type": "display_data"
    },
    {
     "data": {
      "text/html": [
       "<pre>+------------------------------+--------------------------------------------------+----------+</pre>"
      ],
      "text/plain": [
       "+------------------------------+--------------------------------------------------+----------+"
      ]
     },
     "metadata": {},
     "output_type": "display_data"
    },
    {
     "data": {
      "text/html": [
       "<pre>| num_factors                  | Factor Dimension                                 | 10       |</pre>"
      ],
      "text/plain": [
       "| num_factors                  | Factor Dimension                                 | 10       |"
      ]
     },
     "metadata": {},
     "output_type": "display_data"
    },
    {
     "data": {
      "text/html": [
       "<pre>| regularization               | L2 Regularization on Factors                     | 0.0001   |</pre>"
      ],
      "text/plain": [
       "| regularization               | L2 Regularization on Factors                     | 0.0001   |"
      ]
     },
     "metadata": {},
     "output_type": "display_data"
    },
    {
     "data": {
      "text/html": [
       "<pre>| max_iterations               | Maximum Number of Iterations                     | 50       |</pre>"
      ],
      "text/plain": [
       "| max_iterations               | Maximum Number of Iterations                     | 50       |"
      ]
     },
     "metadata": {},
     "output_type": "display_data"
    },
    {
     "data": {
      "text/html": [
       "<pre>| solver                       | Solver used for training                         | als      |</pre>"
      ],
      "text/plain": [
       "| solver                       | Solver used for training                         | als      |"
      ]
     },
     "metadata": {},
     "output_type": "display_data"
    },
    {
     "data": {
      "text/html": [
       "<pre>+------------------------------+--------------------------------------------------+----------+</pre>"
      ],
      "text/plain": [
       "+------------------------------+--------------------------------------------------+----------+"
      ]
     },
     "metadata": {},
     "output_type": "display_data"
    },
    {
     "data": {
      "text/html": [
       "<pre>+---------+--------------+------------------------+</pre>"
      ],
      "text/plain": [
       "+---------+--------------+------------------------+"
      ]
     },
     "metadata": {},
     "output_type": "display_data"
    },
    {
     "data": {
      "text/html": [
       "<pre>| Iter.   | Elapsed time | RMSE                   |</pre>"
      ],
      "text/plain": [
       "| Iter.   | Elapsed time | RMSE                   |"
      ]
     },
     "metadata": {},
     "output_type": "display_data"
    },
    {
     "data": {
      "text/html": [
       "<pre>+---------+--------------+------------------------+</pre>"
      ],
      "text/plain": [
       "+---------+--------------+------------------------+"
      ]
     },
     "metadata": {},
     "output_type": "display_data"
    },
    {
     "data": {
      "text/html": [
       "<pre>| Initial | 65us         | NA                     |</pre>"
      ],
      "text/plain": [
       "| Initial | 65us         | NA                     |"
      ]
     },
     "metadata": {},
     "output_type": "display_data"
    },
    {
     "data": {
      "text/html": [
       "<pre>+---------+--------------+------------------------+</pre>"
      ],
      "text/plain": [
       "+---------+--------------+------------------------+"
      ]
     },
     "metadata": {},
     "output_type": "display_data"
    },
    {
     "data": {
      "text/html": [
       "<pre>| 0       | 66.377ms     | 0.598304               |</pre>"
      ],
      "text/plain": [
       "| 0       | 66.377ms     | 0.598304               |"
      ]
     },
     "metadata": {},
     "output_type": "display_data"
    },
    {
     "data": {
      "text/html": [
       "<pre>| 1       | 109.03ms     | 0.596968               |</pre>"
      ],
      "text/plain": [
       "| 1       | 109.03ms     | 0.596968               |"
      ]
     },
     "metadata": {},
     "output_type": "display_data"
    },
    {
     "data": {
      "text/html": [
       "<pre>| 2       | 135.459ms    | 0.520895               |</pre>"
      ],
      "text/plain": [
       "| 2       | 135.459ms    | 0.520895               |"
      ]
     },
     "metadata": {},
     "output_type": "display_data"
    },
    {
     "data": {
      "text/html": [
       "<pre>| 3       | 179.327ms    | 0.41998                |</pre>"
      ],
      "text/plain": [
       "| 3       | 179.327ms    | 0.41998                |"
      ]
     },
     "metadata": {},
     "output_type": "display_data"
    },
    {
     "data": {
      "text/html": [
       "<pre>| 4       | 232.82ms     | 0.370343               |</pre>"
      ],
      "text/plain": [
       "| 4       | 232.82ms     | 0.370343               |"
      ]
     },
     "metadata": {},
     "output_type": "display_data"
    },
    {
     "data": {
      "text/html": [
       "<pre>| 5       | 269.103ms    | 0.345131               |</pre>"
      ],
      "text/plain": [
       "| 5       | 269.103ms    | 0.345131               |"
      ]
     },
     "metadata": {},
     "output_type": "display_data"
    },
    {
     "data": {
      "text/html": [
       "<pre>| 6       | 322.387ms    | 0.330077               |</pre>"
      ],
      "text/plain": [
       "| 6       | 322.387ms    | 0.330077               |"
      ]
     },
     "metadata": {},
     "output_type": "display_data"
    },
    {
     "data": {
      "text/html": [
       "<pre>| 7       | 367.027ms    | 0.323087               |</pre>"
      ],
      "text/plain": [
       "| 7       | 367.027ms    | 0.323087               |"
      ]
     },
     "metadata": {},
     "output_type": "display_data"
    },
    {
     "data": {
      "text/html": [
       "<pre>| 8       | 418.087ms    | 0.31948                |</pre>"
      ],
      "text/plain": [
       "| 8       | 418.087ms    | 0.31948                |"
      ]
     },
     "metadata": {},
     "output_type": "display_data"
    },
    {
     "data": {
      "text/html": [
       "<pre>| 9       | 445.475ms    | 0.317573               |</pre>"
      ],
      "text/plain": [
       "| 9       | 445.475ms    | 0.317573               |"
      ]
     },
     "metadata": {},
     "output_type": "display_data"
    },
    {
     "data": {
      "text/html": [
       "<pre>| 10      | 493.716ms    | 0.316362               |</pre>"
      ],
      "text/plain": [
       "| 10      | 493.716ms    | 0.316362               |"
      ]
     },
     "metadata": {},
     "output_type": "display_data"
    },
    {
     "data": {
      "text/html": [
       "<pre>| 11      | 545.076ms    | 0.315503               |</pre>"
      ],
      "text/plain": [
       "| 11      | 545.076ms    | 0.315503               |"
      ]
     },
     "metadata": {},
     "output_type": "display_data"
    },
    {
     "data": {
      "text/html": [
       "<pre>| 12      | 594.245ms    | 0.31489                |</pre>"
      ],
      "text/plain": [
       "| 12      | 594.245ms    | 0.31489                |"
      ]
     },
     "metadata": {},
     "output_type": "display_data"
    },
    {
     "data": {
      "text/html": [
       "<pre>| 13      | 626.349ms    | 0.314454               |</pre>"
      ],
      "text/plain": [
       "| 13      | 626.349ms    | 0.314454               |"
      ]
     },
     "metadata": {},
     "output_type": "display_data"
    },
    {
     "data": {
      "text/html": [
       "<pre>| 14      | 660.884ms    | 0.31414                |</pre>"
      ],
      "text/plain": [
       "| 14      | 660.884ms    | 0.31414                |"
      ]
     },
     "metadata": {},
     "output_type": "display_data"
    },
    {
     "data": {
      "text/html": [
       "<pre>| 15      | 730.998ms    | 0.313905               |</pre>"
      ],
      "text/plain": [
       "| 15      | 730.998ms    | 0.313905               |"
      ]
     },
     "metadata": {},
     "output_type": "display_data"
    },
    {
     "data": {
      "text/html": [
       "<pre>| 16      | 760.486ms    | 0.313723               |</pre>"
      ],
      "text/plain": [
       "| 16      | 760.486ms    | 0.313723               |"
      ]
     },
     "metadata": {},
     "output_type": "display_data"
    },
    {
     "data": {
      "text/html": [
       "<pre>| 17      | 813.476ms    | 0.313577               |</pre>"
      ],
      "text/plain": [
       "| 17      | 813.476ms    | 0.313577               |"
      ]
     },
     "metadata": {},
     "output_type": "display_data"
    },
    {
     "data": {
      "text/html": [
       "<pre>| 18      | 860.976ms    | 0.313457               |</pre>"
      ],
      "text/plain": [
       "| 18      | 860.976ms    | 0.313457               |"
      ]
     },
     "metadata": {},
     "output_type": "display_data"
    },
    {
     "data": {
      "text/html": [
       "<pre>| 19      | 907.18ms     | 0.313354               |</pre>"
      ],
      "text/plain": [
       "| 19      | 907.18ms     | 0.313354               |"
      ]
     },
     "metadata": {},
     "output_type": "display_data"
    },
    {
     "data": {
      "text/html": [
       "<pre>| 20      | 954.311ms    | 0.313265               |</pre>"
      ],
      "text/plain": [
       "| 20      | 954.311ms    | 0.313265               |"
      ]
     },
     "metadata": {},
     "output_type": "display_data"
    },
    {
     "data": {
      "text/html": [
       "<pre>| 21      | 996.756ms    | 0.313186               |</pre>"
      ],
      "text/plain": [
       "| 21      | 996.756ms    | 0.313186               |"
      ]
     },
     "metadata": {},
     "output_type": "display_data"
    },
    {
     "data": {
      "text/html": [
       "<pre>| 22      | 1.03s        | 0.313116               |</pre>"
      ],
      "text/plain": [
       "| 22      | 1.03s        | 0.313116               |"
      ]
     },
     "metadata": {},
     "output_type": "display_data"
    },
    {
     "data": {
      "text/html": [
       "<pre>| 23      | 1.07s        | 0.313053               |</pre>"
      ],
      "text/plain": [
       "| 23      | 1.07s        | 0.313053               |"
      ]
     },
     "metadata": {},
     "output_type": "display_data"
    },
    {
     "data": {
      "text/html": [
       "<pre>| 24      | 1.12s        | 0.312996               |</pre>"
      ],
      "text/plain": [
       "| 24      | 1.12s        | 0.312996               |"
      ]
     },
     "metadata": {},
     "output_type": "display_data"
    },
    {
     "data": {
      "text/html": [
       "<pre>| 25      | 1.16s        | 0.312944               |</pre>"
      ],
      "text/plain": [
       "| 25      | 1.16s        | 0.312944               |"
      ]
     },
     "metadata": {},
     "output_type": "display_data"
    },
    {
     "data": {
      "text/html": [
       "<pre>| 26      | 1.19s        | 0.312895               |</pre>"
      ],
      "text/plain": [
       "| 26      | 1.19s        | 0.312895               |"
      ]
     },
     "metadata": {},
     "output_type": "display_data"
    },
    {
     "data": {
      "text/html": [
       "<pre>| 27      | 1.25s        | 0.312851               |</pre>"
      ],
      "text/plain": [
       "| 27      | 1.25s        | 0.312851               |"
      ]
     },
     "metadata": {},
     "output_type": "display_data"
    },
    {
     "data": {
      "text/html": [
       "<pre>| 28      | 1.29s        | 0.312809               |</pre>"
      ],
      "text/plain": [
       "| 28      | 1.29s        | 0.312809               |"
      ]
     },
     "metadata": {},
     "output_type": "display_data"
    },
    {
     "data": {
      "text/html": [
       "<pre>| 29      | 1.34s        | 0.312771               |</pre>"
      ],
      "text/plain": [
       "| 29      | 1.34s        | 0.312771               |"
      ]
     },
     "metadata": {},
     "output_type": "display_data"
    },
    {
     "data": {
      "text/html": [
       "<pre>| 30      | 1.37s        | 0.312735               |</pre>"
      ],
      "text/plain": [
       "| 30      | 1.37s        | 0.312735               |"
      ]
     },
     "metadata": {},
     "output_type": "display_data"
    },
    {
     "data": {
      "text/html": [
       "<pre>| 31      | 1.42s        | 0.312701               |</pre>"
      ],
      "text/plain": [
       "| 31      | 1.42s        | 0.312701               |"
      ]
     },
     "metadata": {},
     "output_type": "display_data"
    },
    {
     "data": {
      "text/html": [
       "<pre>| 32      | 1.45s        | 0.312669               |</pre>"
      ],
      "text/plain": [
       "| 32      | 1.45s        | 0.312669               |"
      ]
     },
     "metadata": {},
     "output_type": "display_data"
    },
    {
     "data": {
      "text/html": [
       "<pre>| 33      | 1.52s        | 0.312638               |</pre>"
      ],
      "text/plain": [
       "| 33      | 1.52s        | 0.312638               |"
      ]
     },
     "metadata": {},
     "output_type": "display_data"
    },
    {
     "data": {
      "text/html": [
       "<pre>| 34      | 1.55s        | 0.31261                |</pre>"
      ],
      "text/plain": [
       "| 34      | 1.55s        | 0.31261                |"
      ]
     },
     "metadata": {},
     "output_type": "display_data"
    },
    {
     "data": {
      "text/html": [
       "<pre>| 35      | 1.60s        | 0.312583               |</pre>"
      ],
      "text/plain": [
       "| 35      | 1.60s        | 0.312583               |"
      ]
     },
     "metadata": {},
     "output_type": "display_data"
    },
    {
     "data": {
      "text/html": [
       "<pre>| 36      | 1.66s        | 0.312557               |</pre>"
      ],
      "text/plain": [
       "| 36      | 1.66s        | 0.312557               |"
      ]
     },
     "metadata": {},
     "output_type": "display_data"
    },
    {
     "data": {
      "text/html": [
       "<pre>| 37      | 1.70s        | 0.312532               |</pre>"
      ],
      "text/plain": [
       "| 37      | 1.70s        | 0.312532               |"
      ]
     },
     "metadata": {},
     "output_type": "display_data"
    },
    {
     "data": {
      "text/html": [
       "<pre>| 38      | 1.74s        | 0.312509               |</pre>"
      ],
      "text/plain": [
       "| 38      | 1.74s        | 0.312509               |"
      ]
     },
     "metadata": {},
     "output_type": "display_data"
    },
    {
     "data": {
      "text/html": [
       "<pre>| 39      | 1.78s        | 0.312486               |</pre>"
      ],
      "text/plain": [
       "| 39      | 1.78s        | 0.312486               |"
      ]
     },
     "metadata": {},
     "output_type": "display_data"
    },
    {
     "data": {
      "text/html": [
       "<pre>| 40      | 1.81s        | 0.312465               |</pre>"
      ],
      "text/plain": [
       "| 40      | 1.81s        | 0.312465               |"
      ]
     },
     "metadata": {},
     "output_type": "display_data"
    },
    {
     "data": {
      "text/html": [
       "<pre>| 41      | 1.86s        | 0.312444               |</pre>"
      ],
      "text/plain": [
       "| 41      | 1.86s        | 0.312444               |"
      ]
     },
     "metadata": {},
     "output_type": "display_data"
    },
    {
     "data": {
      "text/html": [
       "<pre>| 42      | 1.91s        | 0.312424               |</pre>"
      ],
      "text/plain": [
       "| 42      | 1.91s        | 0.312424               |"
      ]
     },
     "metadata": {},
     "output_type": "display_data"
    },
    {
     "data": {
      "text/html": [
       "<pre>| 43      | 1.95s        | 0.312405               |</pre>"
      ],
      "text/plain": [
       "| 43      | 1.95s        | 0.312405               |"
      ]
     },
     "metadata": {},
     "output_type": "display_data"
    },
    {
     "data": {
      "text/html": [
       "<pre>| 44      | 1.99s        | 0.312387               |</pre>"
      ],
      "text/plain": [
       "| 44      | 1.99s        | 0.312387               |"
      ]
     },
     "metadata": {},
     "output_type": "display_data"
    },
    {
     "data": {
      "text/html": [
       "<pre>| 45      | 2.04s        | 0.312369               |</pre>"
      ],
      "text/plain": [
       "| 45      | 2.04s        | 0.312369               |"
      ]
     },
     "metadata": {},
     "output_type": "display_data"
    },
    {
     "data": {
      "text/html": [
       "<pre>| 46      | 2.09s        | 0.312352               |</pre>"
      ],
      "text/plain": [
       "| 46      | 2.09s        | 0.312352               |"
      ]
     },
     "metadata": {},
     "output_type": "display_data"
    },
    {
     "data": {
      "text/html": [
       "<pre>| 47      | 2.12s        | 0.312335               |</pre>"
      ],
      "text/plain": [
       "| 47      | 2.12s        | 0.312335               |"
      ]
     },
     "metadata": {},
     "output_type": "display_data"
    },
    {
     "data": {
      "text/html": [
       "<pre>| 48      | 2.18s        | 0.312319               |</pre>"
      ],
      "text/plain": [
       "| 48      | 2.18s        | 0.312319               |"
      ]
     },
     "metadata": {},
     "output_type": "display_data"
    },
    {
     "data": {
      "text/html": [
       "<pre>| 49      | 2.21s        | 0.312304               |</pre>"
      ],
      "text/plain": [
       "| 49      | 2.21s        | 0.312304               |"
      ]
     },
     "metadata": {},
     "output_type": "display_data"
    },
    {
     "data": {
      "text/html": [
       "<pre>| FINAL   | 2.21s        | 0.312304               |</pre>"
      ],
      "text/plain": [
       "| FINAL   | 2.21s        | 0.312304               |"
      ]
     },
     "metadata": {},
     "output_type": "display_data"
    },
    {
     "data": {
      "text/html": [
       "<pre>+---------+--------------+------------------------+</pre>"
      ],
      "text/plain": [
       "+---------+--------------+------------------------+"
      ]
     },
     "metadata": {},
     "output_type": "display_data"
    },
    {
     "data": {
      "text/html": [
       "<pre>Optimization Complete: Iteration limit reached.</pre>"
      ],
      "text/plain": [
       "Optimization Complete: Iteration limit reached."
      ]
     },
     "metadata": {},
     "output_type": "display_data"
    },
    {
     "data": {
      "text/html": [
       "<pre>Recsys training: model = factorization_recommender</pre>"
      ],
      "text/plain": [
       "Recsys training: model = factorization_recommender"
      ]
     },
     "metadata": {},
     "output_type": "display_data"
    },
    {
     "data": {
      "text/html": [
       "<pre>Preparing data set.</pre>"
      ],
      "text/plain": [
       "Preparing data set."
      ]
     },
     "metadata": {},
     "output_type": "display_data"
    },
    {
     "data": {
      "text/html": [
       "<pre>    Data has 24756 observations with 12294 users and 894 items.</pre>"
      ],
      "text/plain": [
       "    Data has 24756 observations with 12294 users and 894 items."
      ]
     },
     "metadata": {},
     "output_type": "display_data"
    },
    {
     "data": {
      "text/html": [
       "<pre>    Data prepared in: 0.048544s</pre>"
      ],
      "text/plain": [
       "    Data prepared in: 0.048544s"
      ]
     },
     "metadata": {},
     "output_type": "display_data"
    },
    {
     "data": {
      "text/html": [
       "<pre>Training factorization_recommender for recommendations.</pre>"
      ],
      "text/plain": [
       "Training factorization_recommender for recommendations."
      ]
     },
     "metadata": {},
     "output_type": "display_data"
    },
    {
     "data": {
      "text/html": [
       "<pre>+------------------------------+--------------------------------------------------+----------+</pre>"
      ],
      "text/plain": [
       "+------------------------------+--------------------------------------------------+----------+"
      ]
     },
     "metadata": {},
     "output_type": "display_data"
    },
    {
     "data": {
      "text/html": [
       "<pre>| Parameter                    | Description                                      | Value    |</pre>"
      ],
      "text/plain": [
       "| Parameter                    | Description                                      | Value    |"
      ]
     },
     "metadata": {},
     "output_type": "display_data"
    },
    {
     "data": {
      "text/html": [
       "<pre>+------------------------------+--------------------------------------------------+----------+</pre>"
      ],
      "text/plain": [
       "+------------------------------+--------------------------------------------------+----------+"
      ]
     },
     "metadata": {},
     "output_type": "display_data"
    },
    {
     "data": {
      "text/html": [
       "<pre>| num_factors                  | Factor Dimension                                 | 10       |</pre>"
      ],
      "text/plain": [
       "| num_factors                  | Factor Dimension                                 | 10       |"
      ]
     },
     "metadata": {},
     "output_type": "display_data"
    },
    {
     "data": {
      "text/html": [
       "<pre>| regularization               | L2 Regularization on Factors                     | 1e-05    |</pre>"
      ],
      "text/plain": [
       "| regularization               | L2 Regularization on Factors                     | 1e-05    |"
      ]
     },
     "metadata": {},
     "output_type": "display_data"
    },
    {
     "data": {
      "text/html": [
       "<pre>| max_iterations               | Maximum Number of Iterations                     | 50       |</pre>"
      ],
      "text/plain": [
       "| max_iterations               | Maximum Number of Iterations                     | 50       |"
      ]
     },
     "metadata": {},
     "output_type": "display_data"
    },
    {
     "data": {
      "text/html": [
       "<pre>| solver                       | Solver used for training                         | als      |</pre>"
      ],
      "text/plain": [
       "| solver                       | Solver used for training                         | als      |"
      ]
     },
     "metadata": {},
     "output_type": "display_data"
    },
    {
     "data": {
      "text/html": [
       "<pre>+------------------------------+--------------------------------------------------+----------+</pre>"
      ],
      "text/plain": [
       "+------------------------------+--------------------------------------------------+----------+"
      ]
     },
     "metadata": {},
     "output_type": "display_data"
    },
    {
     "data": {
      "text/html": [
       "<pre>+---------+--------------+------------------------+</pre>"
      ],
      "text/plain": [
       "+---------+--------------+------------------------+"
      ]
     },
     "metadata": {},
     "output_type": "display_data"
    },
    {
     "data": {
      "text/html": [
       "<pre>| Iter.   | Elapsed time | RMSE                   |</pre>"
      ],
      "text/plain": [
       "| Iter.   | Elapsed time | RMSE                   |"
      ]
     },
     "metadata": {},
     "output_type": "display_data"
    },
    {
     "data": {
      "text/html": [
       "<pre>+---------+--------------+------------------------+</pre>"
      ],
      "text/plain": [
       "+---------+--------------+------------------------+"
      ]
     },
     "metadata": {},
     "output_type": "display_data"
    },
    {
     "data": {
      "text/html": [
       "<pre>| Initial | 75us         | NA                     |</pre>"
      ],
      "text/plain": [
       "| Initial | 75us         | NA                     |"
      ]
     },
     "metadata": {},
     "output_type": "display_data"
    },
    {
     "data": {
      "text/html": [
       "<pre>+---------+--------------+------------------------+</pre>"
      ],
      "text/plain": [
       "+---------+--------------+------------------------+"
      ]
     },
     "metadata": {},
     "output_type": "display_data"
    },
    {
     "data": {
      "text/html": [
       "<pre>| 0       | 48.037ms     | 0.594129               |</pre>"
      ],
      "text/plain": [
       "| 0       | 48.037ms     | 0.594129               |"
      ]
     },
     "metadata": {},
     "output_type": "display_data"
    },
    {
     "data": {
      "text/html": [
       "<pre>| 1       | 94.161ms     | 0.122959               |</pre>"
      ],
      "text/plain": [
       "| 1       | 94.161ms     | 0.122959               |"
      ]
     },
     "metadata": {},
     "output_type": "display_data"
    },
    {
     "data": {
      "text/html": [
       "<pre>| 2       | 123.495ms    | 0.0492622              |</pre>"
      ],
      "text/plain": [
       "| 2       | 123.495ms    | 0.0492622              |"
      ]
     },
     "metadata": {},
     "output_type": "display_data"
    },
    {
     "data": {
      "text/html": [
       "<pre>| 3       | 173.235ms    | 0.0446454              |</pre>"
      ],
      "text/plain": [
       "| 3       | 173.235ms    | 0.0446454              |"
      ]
     },
     "metadata": {},
     "output_type": "display_data"
    },
    {
     "data": {
      "text/html": [
       "<pre>| 4       | 214.803ms    | 0.0435106              |</pre>"
      ],
      "text/plain": [
       "| 4       | 214.803ms    | 0.0435106              |"
      ]
     },
     "metadata": {},
     "output_type": "display_data"
    },
    {
     "data": {
      "text/html": [
       "<pre>| 5       | 271.706ms    | 0.0431492              |</pre>"
      ],
      "text/plain": [
       "| 5       | 271.706ms    | 0.0431492              |"
      ]
     },
     "metadata": {},
     "output_type": "display_data"
    },
    {
     "data": {
      "text/html": [
       "<pre>| 6       | 324.777ms    | 0.0430814              |</pre>"
      ],
      "text/plain": [
       "| 6       | 324.777ms    | 0.0430814              |"
      ]
     },
     "metadata": {},
     "output_type": "display_data"
    },
    {
     "data": {
      "text/html": [
       "<pre>| 7       | 374.436ms    | 0.0431523              |</pre>"
      ],
      "text/plain": [
       "| 7       | 374.436ms    | 0.0431523              |"
      ]
     },
     "metadata": {},
     "output_type": "display_data"
    },
    {
     "data": {
      "text/html": [
       "<pre>| 8       | 425.95ms     | 0.0432722              |</pre>"
      ],
      "text/plain": [
       "| 8       | 425.95ms     | 0.0432722              |"
      ]
     },
     "metadata": {},
     "output_type": "display_data"
    },
    {
     "data": {
      "text/html": [
       "<pre>| 9       | 473.043ms    | 0.0433975              |</pre>"
      ],
      "text/plain": [
       "| 9       | 473.043ms    | 0.0433975              |"
      ]
     },
     "metadata": {},
     "output_type": "display_data"
    },
    {
     "data": {
      "text/html": [
       "<pre>| 10      | 531.907ms    | 0.0435181              |</pre>"
      ],
      "text/plain": [
       "| 10      | 531.907ms    | 0.0435181              |"
      ]
     },
     "metadata": {},
     "output_type": "display_data"
    },
    {
     "data": {
      "text/html": [
       "<pre>| 11      | 594.871ms    | 0.0436335              |</pre>"
      ],
      "text/plain": [
       "| 11      | 594.871ms    | 0.0436335              |"
      ]
     },
     "metadata": {},
     "output_type": "display_data"
    },
    {
     "data": {
      "text/html": [
       "<pre>| 12      | 641.991ms    | 0.0437411              |</pre>"
      ],
      "text/plain": [
       "| 12      | 641.991ms    | 0.0437411              |"
      ]
     },
     "metadata": {},
     "output_type": "display_data"
    },
    {
     "data": {
      "text/html": [
       "<pre>| 13      | 690.106ms    | 0.0438384              |</pre>"
      ],
      "text/plain": [
       "| 13      | 690.106ms    | 0.0438384              |"
      ]
     },
     "metadata": {},
     "output_type": "display_data"
    },
    {
     "data": {
      "text/html": [
       "<pre>| 14      | 739.801ms    | 0.0439238              |</pre>"
      ],
      "text/plain": [
       "| 14      | 739.801ms    | 0.0439238              |"
      ]
     },
     "metadata": {},
     "output_type": "display_data"
    },
    {
     "data": {
      "text/html": [
       "<pre>| 15      | 791.79ms     | 0.0439969              |</pre>"
      ],
      "text/plain": [
       "| 15      | 791.79ms     | 0.0439969              |"
      ]
     },
     "metadata": {},
     "output_type": "display_data"
    },
    {
     "data": {
      "text/html": [
       "<pre>| 16      | 849.092ms    | 0.0440587              |</pre>"
      ],
      "text/plain": [
       "| 16      | 849.092ms    | 0.0440587              |"
      ]
     },
     "metadata": {},
     "output_type": "display_data"
    },
    {
     "data": {
      "text/html": [
       "<pre>| 17      | 876.083ms    | 0.0441103              |</pre>"
      ],
      "text/plain": [
       "| 17      | 876.083ms    | 0.0441103              |"
      ]
     },
     "metadata": {},
     "output_type": "display_data"
    },
    {
     "data": {
      "text/html": [
       "<pre>| 18      | 917.145ms    | 0.0441529              |</pre>"
      ],
      "text/plain": [
       "| 18      | 917.145ms    | 0.0441529              |"
      ]
     },
     "metadata": {},
     "output_type": "display_data"
    },
    {
     "data": {
      "text/html": [
       "<pre>| 19      | 976.568ms    | 0.0441878              |</pre>"
      ],
      "text/plain": [
       "| 19      | 976.568ms    | 0.0441878              |"
      ]
     },
     "metadata": {},
     "output_type": "display_data"
    },
    {
     "data": {
      "text/html": [
       "<pre>| 20      | 1.02s        | 0.044216               |</pre>"
      ],
      "text/plain": [
       "| 20      | 1.02s        | 0.044216               |"
      ]
     },
     "metadata": {},
     "output_type": "display_data"
    },
    {
     "data": {
      "text/html": [
       "<pre>| 21      | 1.06s        | 0.0442384              |</pre>"
      ],
      "text/plain": [
       "| 21      | 1.06s        | 0.0442384              |"
      ]
     },
     "metadata": {},
     "output_type": "display_data"
    },
    {
     "data": {
      "text/html": [
       "<pre>| 22      | 1.09s        | 0.044256               |</pre>"
      ],
      "text/plain": [
       "| 22      | 1.09s        | 0.044256               |"
      ]
     },
     "metadata": {},
     "output_type": "display_data"
    },
    {
     "data": {
      "text/html": [
       "<pre>| 23      | 1.13s        | 0.0442697              |</pre>"
      ],
      "text/plain": [
       "| 23      | 1.13s        | 0.0442697              |"
      ]
     },
     "metadata": {},
     "output_type": "display_data"
    },
    {
     "data": {
      "text/html": [
       "<pre>| 24      | 1.17s        | 0.04428                |</pre>"
      ],
      "text/plain": [
       "| 24      | 1.17s        | 0.04428                |"
      ]
     },
     "metadata": {},
     "output_type": "display_data"
    },
    {
     "data": {
      "text/html": [
       "<pre>| 25      | 1.21s        | 0.0442878              |</pre>"
      ],
      "text/plain": [
       "| 25      | 1.21s        | 0.0442878              |"
      ]
     },
     "metadata": {},
     "output_type": "display_data"
    },
    {
     "data": {
      "text/html": [
       "<pre>| 26      | 1.25s        | 0.0442935              |</pre>"
      ],
      "text/plain": [
       "| 26      | 1.25s        | 0.0442935              |"
      ]
     },
     "metadata": {},
     "output_type": "display_data"
    },
    {
     "data": {
      "text/html": [
       "<pre>| 27      | 1.31s        | 0.0442976              |</pre>"
      ],
      "text/plain": [
       "| 27      | 1.31s        | 0.0442976              |"
      ]
     },
     "metadata": {},
     "output_type": "display_data"
    },
    {
     "data": {
      "text/html": [
       "<pre>| 28      | 1.35s        | 0.0443003              |</pre>"
      ],
      "text/plain": [
       "| 28      | 1.35s        | 0.0443003              |"
      ]
     },
     "metadata": {},
     "output_type": "display_data"
    },
    {
     "data": {
      "text/html": [
       "<pre>| 29      | 1.38s        | 0.044302               |</pre>"
      ],
      "text/plain": [
       "| 29      | 1.38s        | 0.044302               |"
      ]
     },
     "metadata": {},
     "output_type": "display_data"
    },
    {
     "data": {
      "text/html": [
       "<pre>| 30      | 1.44s        | 0.0443027              |</pre>"
      ],
      "text/plain": [
       "| 30      | 1.44s        | 0.0443027              |"
      ]
     },
     "metadata": {},
     "output_type": "display_data"
    },
    {
     "data": {
      "text/html": [
       "<pre>| 31      | 1.49s        | 0.0443027              |</pre>"
      ],
      "text/plain": [
       "| 31      | 1.49s        | 0.0443027              |"
      ]
     },
     "metadata": {},
     "output_type": "display_data"
    },
    {
     "data": {
      "text/html": [
       "<pre>| 32      | 1.54s        | 0.0443021              |</pre>"
      ],
      "text/plain": [
       "| 32      | 1.54s        | 0.0443021              |"
      ]
     },
     "metadata": {},
     "output_type": "display_data"
    },
    {
     "data": {
      "text/html": [
       "<pre>| 33      | 1.57s        | 0.0443011              |</pre>"
      ],
      "text/plain": [
       "| 33      | 1.57s        | 0.0443011              |"
      ]
     },
     "metadata": {},
     "output_type": "display_data"
    },
    {
     "data": {
      "text/html": [
       "<pre>| 34      | 1.60s        | 0.0442995              |</pre>"
      ],
      "text/plain": [
       "| 34      | 1.60s        | 0.0442995              |"
      ]
     },
     "metadata": {},
     "output_type": "display_data"
    },
    {
     "data": {
      "text/html": [
       "<pre>| 35      | 1.64s        | 0.0442977              |</pre>"
      ],
      "text/plain": [
       "| 35      | 1.64s        | 0.0442977              |"
      ]
     },
     "metadata": {},
     "output_type": "display_data"
    },
    {
     "data": {
      "text/html": [
       "<pre>| 36      | 1.69s        | 0.0442956              |</pre>"
      ],
      "text/plain": [
       "| 36      | 1.69s        | 0.0442956              |"
      ]
     },
     "metadata": {},
     "output_type": "display_data"
    },
    {
     "data": {
      "text/html": [
       "<pre>| 37      | 1.73s        | 0.0442933              |</pre>"
      ],
      "text/plain": [
       "| 37      | 1.73s        | 0.0442933              |"
      ]
     },
     "metadata": {},
     "output_type": "display_data"
    },
    {
     "data": {
      "text/html": [
       "<pre>| 38      | 1.76s        | 0.0442908              |</pre>"
      ],
      "text/plain": [
       "| 38      | 1.76s        | 0.0442908              |"
      ]
     },
     "metadata": {},
     "output_type": "display_data"
    },
    {
     "data": {
      "text/html": [
       "<pre>| 39      | 1.80s        | 0.0442882              |</pre>"
      ],
      "text/plain": [
       "| 39      | 1.80s        | 0.0442882              |"
      ]
     },
     "metadata": {},
     "output_type": "display_data"
    },
    {
     "data": {
      "text/html": [
       "<pre>| 40      | 1.86s        | 0.0442855              |</pre>"
      ],
      "text/plain": [
       "| 40      | 1.86s        | 0.0442855              |"
      ]
     },
     "metadata": {},
     "output_type": "display_data"
    },
    {
     "data": {
      "text/html": [
       "<pre>| 41      | 1.90s        | 0.0442827              |</pre>"
      ],
      "text/plain": [
       "| 41      | 1.90s        | 0.0442827              |"
      ]
     },
     "metadata": {},
     "output_type": "display_data"
    },
    {
     "data": {
      "text/html": [
       "<pre>| 42      | 1.95s        | 0.0442799              |</pre>"
      ],
      "text/plain": [
       "| 42      | 1.95s        | 0.0442799              |"
      ]
     },
     "metadata": {},
     "output_type": "display_data"
    },
    {
     "data": {
      "text/html": [
       "<pre>| 43      | 1.99s        | 0.0442771              |</pre>"
      ],
      "text/plain": [
       "| 43      | 1.99s        | 0.0442771              |"
      ]
     },
     "metadata": {},
     "output_type": "display_data"
    },
    {
     "data": {
      "text/html": [
       "<pre>| 44      | 2.04s        | 0.0442743              |</pre>"
      ],
      "text/plain": [
       "| 44      | 2.04s        | 0.0442743              |"
      ]
     },
     "metadata": {},
     "output_type": "display_data"
    },
    {
     "data": {
      "text/html": [
       "<pre>| 45      | 2.07s        | 0.0442715              |</pre>"
      ],
      "text/plain": [
       "| 45      | 2.07s        | 0.0442715              |"
      ]
     },
     "metadata": {},
     "output_type": "display_data"
    },
    {
     "data": {
      "text/html": [
       "<pre>| 46      | 2.11s        | 0.0442687              |</pre>"
      ],
      "text/plain": [
       "| 46      | 2.11s        | 0.0442687              |"
      ]
     },
     "metadata": {},
     "output_type": "display_data"
    },
    {
     "data": {
      "text/html": [
       "<pre>| 47      | 2.16s        | 0.0442659              |</pre>"
      ],
      "text/plain": [
       "| 47      | 2.16s        | 0.0442659              |"
      ]
     },
     "metadata": {},
     "output_type": "display_data"
    },
    {
     "data": {
      "text/html": [
       "<pre>| 48      | 2.20s        | 0.0442632              |</pre>"
      ],
      "text/plain": [
       "| 48      | 2.20s        | 0.0442632              |"
      ]
     },
     "metadata": {},
     "output_type": "display_data"
    },
    {
     "data": {
      "text/html": [
       "<pre>| 49      | 2.24s        | 0.0442604              |</pre>"
      ],
      "text/plain": [
       "| 49      | 2.24s        | 0.0442604              |"
      ]
     },
     "metadata": {},
     "output_type": "display_data"
    },
    {
     "data": {
      "text/html": [
       "<pre>| FINAL   | 2.24s        | 0.0442604              |</pre>"
      ],
      "text/plain": [
       "| FINAL   | 2.24s        | 0.0442604              |"
      ]
     },
     "metadata": {},
     "output_type": "display_data"
    },
    {
     "data": {
      "text/html": [
       "<pre>+---------+--------------+------------------------+</pre>"
      ],
      "text/plain": [
       "+---------+--------------+------------------------+"
      ]
     },
     "metadata": {},
     "output_type": "display_data"
    },
    {
     "data": {
      "text/html": [
       "<pre>Optimization Complete: Iteration limit reached.</pre>"
      ],
      "text/plain": [
       "Optimization Complete: Iteration limit reached."
      ]
     },
     "metadata": {},
     "output_type": "display_data"
    },
    {
     "data": {
      "text/html": [
       "<pre>Recsys training: model = factorization_recommender</pre>"
      ],
      "text/plain": [
       "Recsys training: model = factorization_recommender"
      ]
     },
     "metadata": {},
     "output_type": "display_data"
    },
    {
     "data": {
      "text/html": [
       "<pre>Preparing data set.</pre>"
      ],
      "text/plain": [
       "Preparing data set."
      ]
     },
     "metadata": {},
     "output_type": "display_data"
    },
    {
     "data": {
      "text/html": [
       "<pre>    Data has 24756 observations with 12294 users and 894 items.</pre>"
      ],
      "text/plain": [
       "    Data has 24756 observations with 12294 users and 894 items."
      ]
     },
     "metadata": {},
     "output_type": "display_data"
    },
    {
     "data": {
      "text/html": [
       "<pre>    Data prepared in: 0.062838s</pre>"
      ],
      "text/plain": [
       "    Data prepared in: 0.062838s"
      ]
     },
     "metadata": {},
     "output_type": "display_data"
    },
    {
     "data": {
      "text/html": [
       "<pre>Training factorization_recommender for recommendations.</pre>"
      ],
      "text/plain": [
       "Training factorization_recommender for recommendations."
      ]
     },
     "metadata": {},
     "output_type": "display_data"
    },
    {
     "data": {
      "text/html": [
       "<pre>+------------------------------+--------------------------------------------------+----------+</pre>"
      ],
      "text/plain": [
       "+------------------------------+--------------------------------------------------+----------+"
      ]
     },
     "metadata": {},
     "output_type": "display_data"
    },
    {
     "data": {
      "text/html": [
       "<pre>| Parameter                    | Description                                      | Value    |</pre>"
      ],
      "text/plain": [
       "| Parameter                    | Description                                      | Value    |"
      ]
     },
     "metadata": {},
     "output_type": "display_data"
    },
    {
     "data": {
      "text/html": [
       "<pre>+------------------------------+--------------------------------------------------+----------+</pre>"
      ],
      "text/plain": [
       "+------------------------------+--------------------------------------------------+----------+"
      ]
     },
     "metadata": {},
     "output_type": "display_data"
    },
    {
     "data": {
      "text/html": [
       "<pre>| num_factors                  | Factor Dimension                                 | 10       |</pre>"
      ],
      "text/plain": [
       "| num_factors                  | Factor Dimension                                 | 10       |"
      ]
     },
     "metadata": {},
     "output_type": "display_data"
    },
    {
     "data": {
      "text/html": [
       "<pre>| regularization               | L2 Regularization on Factors                     | 1e-06    |</pre>"
      ],
      "text/plain": [
       "| regularization               | L2 Regularization on Factors                     | 1e-06    |"
      ]
     },
     "metadata": {},
     "output_type": "display_data"
    },
    {
     "data": {
      "text/html": [
       "<pre>| max_iterations               | Maximum Number of Iterations                     | 50       |</pre>"
      ],
      "text/plain": [
       "| max_iterations               | Maximum Number of Iterations                     | 50       |"
      ]
     },
     "metadata": {},
     "output_type": "display_data"
    },
    {
     "data": {
      "text/html": [
       "<pre>| solver                       | Solver used for training                         | als      |</pre>"
      ],
      "text/plain": [
       "| solver                       | Solver used for training                         | als      |"
      ]
     },
     "metadata": {},
     "output_type": "display_data"
    },
    {
     "data": {
      "text/html": [
       "<pre>+------------------------------+--------------------------------------------------+----------+</pre>"
      ],
      "text/plain": [
       "+------------------------------+--------------------------------------------------+----------+"
      ]
     },
     "metadata": {},
     "output_type": "display_data"
    },
    {
     "data": {
      "text/html": [
       "<pre>+---------+--------------+------------------------+</pre>"
      ],
      "text/plain": [
       "+---------+--------------+------------------------+"
      ]
     },
     "metadata": {},
     "output_type": "display_data"
    },
    {
     "data": {
      "text/html": [
       "<pre>| Iter.   | Elapsed time | RMSE                   |</pre>"
      ],
      "text/plain": [
       "| Iter.   | Elapsed time | RMSE                   |"
      ]
     },
     "metadata": {},
     "output_type": "display_data"
    },
    {
     "data": {
      "text/html": [
       "<pre>+---------+--------------+------------------------+</pre>"
      ],
      "text/plain": [
       "+---------+--------------+------------------------+"
      ]
     },
     "metadata": {},
     "output_type": "display_data"
    },
    {
     "data": {
      "text/html": [
       "<pre>| Initial | 87us         | NA                     |</pre>"
      ],
      "text/plain": [
       "| Initial | 87us         | NA                     |"
      ]
     },
     "metadata": {},
     "output_type": "display_data"
    },
    {
     "data": {
      "text/html": [
       "<pre>+---------+--------------+------------------------+</pre>"
      ],
      "text/plain": [
       "+---------+--------------+------------------------+"
      ]
     },
     "metadata": {},
     "output_type": "display_data"
    },
    {
     "data": {
      "text/html": [
       "<pre>| 0       | 43.406ms     | 0.262635               |</pre>"
      ],
      "text/plain": [
       "| 0       | 43.406ms     | 0.262635               |"
      ]
     },
     "metadata": {},
     "output_type": "display_data"
    },
    {
     "data": {
      "text/html": [
       "<pre>| 1       | 90.531ms     | 0.0745788              |</pre>"
      ],
      "text/plain": [
       "| 1       | 90.531ms     | 0.0745788              |"
      ]
     },
     "metadata": {},
     "output_type": "display_data"
    },
    {
     "data": {
      "text/html": [
       "<pre>| 2       | 144.186ms    | 0.055398               |</pre>"
      ],
      "text/plain": [
       "| 2       | 144.186ms    | 0.055398               |"
      ]
     },
     "metadata": {},
     "output_type": "display_data"
    },
    {
     "data": {
      "text/html": [
       "<pre>| 3       | 181.046ms    | 0.0448798              |</pre>"
      ],
      "text/plain": [
       "| 3       | 181.046ms    | 0.0448798              |"
      ]
     },
     "metadata": {},
     "output_type": "display_data"
    },
    {
     "data": {
      "text/html": [
       "<pre>| 4       | 224.443ms    | 0.038034               |</pre>"
      ],
      "text/plain": [
       "| 4       | 224.443ms    | 0.038034               |"
      ]
     },
     "metadata": {},
     "output_type": "display_data"
    },
    {
     "data": {
      "text/html": [
       "<pre>| 5       | 262.789ms    | 0.0331541              |</pre>"
      ],
      "text/plain": [
       "| 5       | 262.789ms    | 0.0331541              |"
      ]
     },
     "metadata": {},
     "output_type": "display_data"
    },
    {
     "data": {
      "text/html": [
       "<pre>| 6       | 300.379ms    | 0.0294667              |</pre>"
      ],
      "text/plain": [
       "| 6       | 300.379ms    | 0.0294667              |"
      ]
     },
     "metadata": {},
     "output_type": "display_data"
    },
    {
     "data": {
      "text/html": [
       "<pre>| 7       | 344.419ms    | 0.0265618              |</pre>"
      ],
      "text/plain": [
       "| 7       | 344.419ms    | 0.0265618              |"
      ]
     },
     "metadata": {},
     "output_type": "display_data"
    },
    {
     "data": {
      "text/html": [
       "<pre>| 8       | 378.873ms    | 0.0242151              |</pre>"
      ],
      "text/plain": [
       "| 8       | 378.873ms    | 0.0242151              |"
      ]
     },
     "metadata": {},
     "output_type": "display_data"
    },
    {
     "data": {
      "text/html": [
       "<pre>| 9       | 431.679ms    | 0.0222815              |</pre>"
      ],
      "text/plain": [
       "| 9       | 431.679ms    | 0.0222815              |"
      ]
     },
     "metadata": {},
     "output_type": "display_data"
    },
    {
     "data": {
      "text/html": [
       "<pre>| 10      | 468.793ms    | 0.0206587              |</pre>"
      ],
      "text/plain": [
       "| 10      | 468.793ms    | 0.0206587              |"
      ]
     },
     "metadata": {},
     "output_type": "display_data"
    },
    {
     "data": {
      "text/html": [
       "<pre>| 11      | 507.501ms    | 0.0192769              |</pre>"
      ],
      "text/plain": [
       "| 11      | 507.501ms    | 0.0192769              |"
      ]
     },
     "metadata": {},
     "output_type": "display_data"
    },
    {
     "data": {
      "text/html": [
       "<pre>| 12      | 549.265ms    | 0.0180857              |</pre>"
      ],
      "text/plain": [
       "| 12      | 549.265ms    | 0.0180857              |"
      ]
     },
     "metadata": {},
     "output_type": "display_data"
    },
    {
     "data": {
      "text/html": [
       "<pre>| 13      | 599.139ms    | 0.0170479              |</pre>"
      ],
      "text/plain": [
       "| 13      | 599.139ms    | 0.0170479              |"
      ]
     },
     "metadata": {},
     "output_type": "display_data"
    },
    {
     "data": {
      "text/html": [
       "<pre>| 14      | 645.337ms    | 0.0161356              |</pre>"
      ],
      "text/plain": [
       "| 14      | 645.337ms    | 0.0161356              |"
      ]
     },
     "metadata": {},
     "output_type": "display_data"
    },
    {
     "data": {
      "text/html": [
       "<pre>| 15      | 682.335ms    | 0.0153273              |</pre>"
      ],
      "text/plain": [
       "| 15      | 682.335ms    | 0.0153273              |"
      ]
     },
     "metadata": {},
     "output_type": "display_data"
    },
    {
     "data": {
      "text/html": [
       "<pre>| 16      | 733.723ms    | 0.0146065              |</pre>"
      ],
      "text/plain": [
       "| 16      | 733.723ms    | 0.0146065              |"
      ]
     },
     "metadata": {},
     "output_type": "display_data"
    },
    {
     "data": {
      "text/html": [
       "<pre>| 17      | 764.169ms    | 0.01396                |</pre>"
      ],
      "text/plain": [
       "| 17      | 764.169ms    | 0.01396                |"
      ]
     },
     "metadata": {},
     "output_type": "display_data"
    },
    {
     "data": {
      "text/html": [
       "<pre>| 18      | 816.856ms    | 0.0133769              |</pre>"
      ],
      "text/plain": [
       "| 18      | 816.856ms    | 0.0133769              |"
      ]
     },
     "metadata": {},
     "output_type": "display_data"
    },
    {
     "data": {
      "text/html": [
       "<pre>| 19      | 848.773ms    | 0.0128486              |</pre>"
      ],
      "text/plain": [
       "| 19      | 848.773ms    | 0.0128486              |"
      ]
     },
     "metadata": {},
     "output_type": "display_data"
    },
    {
     "data": {
      "text/html": [
       "<pre>| 20      | 887.249ms    | 0.012368               |</pre>"
      ],
      "text/plain": [
       "| 20      | 887.249ms    | 0.012368               |"
      ]
     },
     "metadata": {},
     "output_type": "display_data"
    },
    {
     "data": {
      "text/html": [
       "<pre>| 21      | 938.576ms    | 0.0119289              |</pre>"
      ],
      "text/plain": [
       "| 21      | 938.576ms    | 0.0119289              |"
      ]
     },
     "metadata": {},
     "output_type": "display_data"
    },
    {
     "data": {
      "text/html": [
       "<pre>| 22      | 981.044ms    | 0.0115264              |</pre>"
      ],
      "text/plain": [
       "| 22      | 981.044ms    | 0.0115264              |"
      ]
     },
     "metadata": {},
     "output_type": "display_data"
    },
    {
     "data": {
      "text/html": [
       "<pre>| 23      | 1.01s        | 0.0111563              |</pre>"
      ],
      "text/plain": [
       "| 23      | 1.01s        | 0.0111563              |"
      ]
     },
     "metadata": {},
     "output_type": "display_data"
    },
    {
     "data": {
      "text/html": [
       "<pre>| 24      | 1.07s        | 0.0108149              |</pre>"
      ],
      "text/plain": [
       "| 24      | 1.07s        | 0.0108149              |"
      ]
     },
     "metadata": {},
     "output_type": "display_data"
    },
    {
     "data": {
      "text/html": [
       "<pre>| 25      | 1.11s        | 0.0104993              |</pre>"
      ],
      "text/plain": [
       "| 25      | 1.11s        | 0.0104993              |"
      ]
     },
     "metadata": {},
     "output_type": "display_data"
    },
    {
     "data": {
      "text/html": [
       "<pre>| 26      | 1.17s        | 0.0102066              |</pre>"
      ],
      "text/plain": [
       "| 26      | 1.17s        | 0.0102066              |"
      ]
     },
     "metadata": {},
     "output_type": "display_data"
    },
    {
     "data": {
      "text/html": [
       "<pre>| 27      | 1.21s        | 0.00993474             |</pre>"
      ],
      "text/plain": [
       "| 27      | 1.21s        | 0.00993474             |"
      ]
     },
     "metadata": {},
     "output_type": "display_data"
    },
    {
     "data": {
      "text/html": [
       "<pre>| 28      | 1.23s        | 0.00968159             |</pre>"
      ],
      "text/plain": [
       "| 28      | 1.23s        | 0.00968159             |"
      ]
     },
     "metadata": {},
     "output_type": "display_data"
    },
    {
     "data": {
      "text/html": [
       "<pre>| 29      | 1.28s        | 0.00944544             |</pre>"
      ],
      "text/plain": [
       "| 29      | 1.28s        | 0.00944544             |"
      ]
     },
     "metadata": {},
     "output_type": "display_data"
    },
    {
     "data": {
      "text/html": [
       "<pre>| 30      | 1.31s        | 0.00922478             |</pre>"
      ],
      "text/plain": [
       "| 30      | 1.31s        | 0.00922478             |"
      ]
     },
     "metadata": {},
     "output_type": "display_data"
    },
    {
     "data": {
      "text/html": [
       "<pre>| 31      | 1.35s        | 0.00901816             |</pre>"
      ],
      "text/plain": [
       "| 31      | 1.35s        | 0.00901816             |"
      ]
     },
     "metadata": {},
     "output_type": "display_data"
    },
    {
     "data": {
      "text/html": [
       "<pre>| 32      | 1.40s        | 0.00882448             |</pre>"
      ],
      "text/plain": [
       "| 32      | 1.40s        | 0.00882448             |"
      ]
     },
     "metadata": {},
     "output_type": "display_data"
    },
    {
     "data": {
      "text/html": [
       "<pre>| 33      | 1.44s        | 0.00864258             |</pre>"
      ],
      "text/plain": [
       "| 33      | 1.44s        | 0.00864258             |"
      ]
     },
     "metadata": {},
     "output_type": "display_data"
    },
    {
     "data": {
      "text/html": [
       "<pre>| 34      | 1.48s        | 0.00847154             |</pre>"
      ],
      "text/plain": [
       "| 34      | 1.48s        | 0.00847154             |"
      ]
     },
     "metadata": {},
     "output_type": "display_data"
    },
    {
     "data": {
      "text/html": [
       "<pre>| 35      | 1.52s        | 0.00831051             |</pre>"
      ],
      "text/plain": [
       "| 35      | 1.52s        | 0.00831051             |"
      ]
     },
     "metadata": {},
     "output_type": "display_data"
    },
    {
     "data": {
      "text/html": [
       "<pre>| 36      | 1.56s        | 0.00815867             |</pre>"
      ],
      "text/plain": [
       "| 36      | 1.56s        | 0.00815867             |"
      ]
     },
     "metadata": {},
     "output_type": "display_data"
    },
    {
     "data": {
      "text/html": [
       "<pre>| 37      | 1.59s        | 0.00801536             |</pre>"
      ],
      "text/plain": [
       "| 37      | 1.59s        | 0.00801536             |"
      ]
     },
     "metadata": {},
     "output_type": "display_data"
    },
    {
     "data": {
      "text/html": [
       "<pre>| 38      | 1.64s        | 0.00787997             |</pre>"
      ],
      "text/plain": [
       "| 38      | 1.64s        | 0.00787997             |"
      ]
     },
     "metadata": {},
     "output_type": "display_data"
    },
    {
     "data": {
      "text/html": [
       "<pre>| 39      | 1.70s        | 0.00775186             |</pre>"
      ],
      "text/plain": [
       "| 39      | 1.70s        | 0.00775186             |"
      ]
     },
     "metadata": {},
     "output_type": "display_data"
    },
    {
     "data": {
      "text/html": [
       "<pre>| 40      | 1.74s        | 0.00763054             |</pre>"
      ],
      "text/plain": [
       "| 40      | 1.74s        | 0.00763054             |"
      ]
     },
     "metadata": {},
     "output_type": "display_data"
    },
    {
     "data": {
      "text/html": [
       "<pre>| 41      | 1.77s        | 0.00751553             |</pre>"
      ],
      "text/plain": [
       "| 41      | 1.77s        | 0.00751553             |"
      ]
     },
     "metadata": {},
     "output_type": "display_data"
    },
    {
     "data": {
      "text/html": [
       "<pre>| 42      | 1.82s        | 0.00740632             |</pre>"
      ],
      "text/plain": [
       "| 42      | 1.82s        | 0.00740632             |"
      ]
     },
     "metadata": {},
     "output_type": "display_data"
    },
    {
     "data": {
      "text/html": [
       "<pre>| 43      | 1.88s        | 0.00730266             |</pre>"
      ],
      "text/plain": [
       "| 43      | 1.88s        | 0.00730266             |"
      ]
     },
     "metadata": {},
     "output_type": "display_data"
    },
    {
     "data": {
      "text/html": [
       "<pre>| 44      | 1.91s        | 0.00720407             |</pre>"
      ],
      "text/plain": [
       "| 44      | 1.91s        | 0.00720407             |"
      ]
     },
     "metadata": {},
     "output_type": "display_data"
    },
    {
     "data": {
      "text/html": [
       "<pre>| 45      | 1.96s        | 0.00711028             |</pre>"
      ],
      "text/plain": [
       "| 45      | 1.96s        | 0.00711028             |"
      ]
     },
     "metadata": {},
     "output_type": "display_data"
    },
    {
     "data": {
      "text/html": [
       "<pre>| 46      | 2.02s        | 0.007021               |</pre>"
      ],
      "text/plain": [
       "| 46      | 2.02s        | 0.007021               |"
      ]
     },
     "metadata": {},
     "output_type": "display_data"
    },
    {
     "data": {
      "text/html": [
       "<pre>| 47      | 2.05s        | 0.00693596             |</pre>"
      ],
      "text/plain": [
       "| 47      | 2.05s        | 0.00693596             |"
      ]
     },
     "metadata": {},
     "output_type": "display_data"
    },
    {
     "data": {
      "text/html": [
       "<pre>| 48      | 2.08s        | 0.00685489             |</pre>"
      ],
      "text/plain": [
       "| 48      | 2.08s        | 0.00685489             |"
      ]
     },
     "metadata": {},
     "output_type": "display_data"
    },
    {
     "data": {
      "text/html": [
       "<pre>| 49      | 2.13s        | 0.00677762             |</pre>"
      ],
      "text/plain": [
       "| 49      | 2.13s        | 0.00677762             |"
      ]
     },
     "metadata": {},
     "output_type": "display_data"
    },
    {
     "data": {
      "text/html": [
       "<pre>| FINAL   | 2.13s        | 0.00677762             |</pre>"
      ],
      "text/plain": [
       "| FINAL   | 2.13s        | 0.00677762             |"
      ]
     },
     "metadata": {},
     "output_type": "display_data"
    },
    {
     "data": {
      "text/html": [
       "<pre>+---------+--------------+------------------------+</pre>"
      ],
      "text/plain": [
       "+---------+--------------+------------------------+"
      ]
     },
     "metadata": {},
     "output_type": "display_data"
    },
    {
     "data": {
      "text/html": [
       "<pre>Optimization Complete: Iteration limit reached.</pre>"
      ],
      "text/plain": [
       "Optimization Complete: Iteration limit reached."
      ]
     },
     "metadata": {},
     "output_type": "display_data"
    },
    {
     "data": {
      "text/html": [
       "<pre>Recsys training: model = factorization_recommender</pre>"
      ],
      "text/plain": [
       "Recsys training: model = factorization_recommender"
      ]
     },
     "metadata": {},
     "output_type": "display_data"
    },
    {
     "data": {
      "text/html": [
       "<pre>Preparing data set.</pre>"
      ],
      "text/plain": [
       "Preparing data set."
      ]
     },
     "metadata": {},
     "output_type": "display_data"
    },
    {
     "data": {
      "text/html": [
       "<pre>    Data has 24756 observations with 12294 users and 894 items.</pre>"
      ],
      "text/plain": [
       "    Data has 24756 observations with 12294 users and 894 items."
      ]
     },
     "metadata": {},
     "output_type": "display_data"
    },
    {
     "data": {
      "text/html": [
       "<pre>    Data prepared in: 0.050377s</pre>"
      ],
      "text/plain": [
       "    Data prepared in: 0.050377s"
      ]
     },
     "metadata": {},
     "output_type": "display_data"
    },
    {
     "data": {
      "text/html": [
       "<pre>Training factorization_recommender for recommendations.</pre>"
      ],
      "text/plain": [
       "Training factorization_recommender for recommendations."
      ]
     },
     "metadata": {},
     "output_type": "display_data"
    },
    {
     "data": {
      "text/html": [
       "<pre>+------------------------------+--------------------------------------------------+----------+</pre>"
      ],
      "text/plain": [
       "+------------------------------+--------------------------------------------------+----------+"
      ]
     },
     "metadata": {},
     "output_type": "display_data"
    },
    {
     "data": {
      "text/html": [
       "<pre>| Parameter                    | Description                                      | Value    |</pre>"
      ],
      "text/plain": [
       "| Parameter                    | Description                                      | Value    |"
      ]
     },
     "metadata": {},
     "output_type": "display_data"
    },
    {
     "data": {
      "text/html": [
       "<pre>+------------------------------+--------------------------------------------------+----------+</pre>"
      ],
      "text/plain": [
       "+------------------------------+--------------------------------------------------+----------+"
      ]
     },
     "metadata": {},
     "output_type": "display_data"
    },
    {
     "data": {
      "text/html": [
       "<pre>| num_factors                  | Factor Dimension                                 | 10       |</pre>"
      ],
      "text/plain": [
       "| num_factors                  | Factor Dimension                                 | 10       |"
      ]
     },
     "metadata": {},
     "output_type": "display_data"
    },
    {
     "data": {
      "text/html": [
       "<pre>| regularization               | L2 Regularization on Factors                     | 1e-07    |</pre>"
      ],
      "text/plain": [
       "| regularization               | L2 Regularization on Factors                     | 1e-07    |"
      ]
     },
     "metadata": {},
     "output_type": "display_data"
    },
    {
     "data": {
      "text/html": [
       "<pre>| max_iterations               | Maximum Number of Iterations                     | 50       |</pre>"
      ],
      "text/plain": [
       "| max_iterations               | Maximum Number of Iterations                     | 50       |"
      ]
     },
     "metadata": {},
     "output_type": "display_data"
    },
    {
     "data": {
      "text/html": [
       "<pre>| solver                       | Solver used for training                         | als      |</pre>"
      ],
      "text/plain": [
       "| solver                       | Solver used for training                         | als      |"
      ]
     },
     "metadata": {},
     "output_type": "display_data"
    },
    {
     "data": {
      "text/html": [
       "<pre>+------------------------------+--------------------------------------------------+----------+</pre>"
      ],
      "text/plain": [
       "+------------------------------+--------------------------------------------------+----------+"
      ]
     },
     "metadata": {},
     "output_type": "display_data"
    },
    {
     "data": {
      "text/html": [
       "<pre>+---------+--------------+------------------------+</pre>"
      ],
      "text/plain": [
       "+---------+--------------+------------------------+"
      ]
     },
     "metadata": {},
     "output_type": "display_data"
    },
    {
     "data": {
      "text/html": [
       "<pre>| Iter.   | Elapsed time | RMSE                   |</pre>"
      ],
      "text/plain": [
       "| Iter.   | Elapsed time | RMSE                   |"
      ]
     },
     "metadata": {},
     "output_type": "display_data"
    },
    {
     "data": {
      "text/html": [
       "<pre>+---------+--------------+------------------------+</pre>"
      ],
      "text/plain": [
       "+---------+--------------+------------------------+"
      ]
     },
     "metadata": {},
     "output_type": "display_data"
    },
    {
     "data": {
      "text/html": [
       "<pre>| Initial | 93us         | NA                     |</pre>"
      ],
      "text/plain": [
       "| Initial | 93us         | NA                     |"
      ]
     },
     "metadata": {},
     "output_type": "display_data"
    },
    {
     "data": {
      "text/html": [
       "<pre>+---------+--------------+------------------------+</pre>"
      ],
      "text/plain": [
       "+---------+--------------+------------------------+"
      ]
     },
     "metadata": {},
     "output_type": "display_data"
    },
    {
     "data": {
      "text/html": [
       "<pre>| 0       | 79.006ms     | 0.153809               |</pre>"
      ],
      "text/plain": [
       "| 0       | 79.006ms     | 0.153809               |"
      ]
     },
     "metadata": {},
     "output_type": "display_data"
    },
    {
     "data": {
      "text/html": [
       "<pre>| 1       | 125.031ms    | 0.007073               |</pre>"
      ],
      "text/plain": [
       "| 1       | 125.031ms    | 0.007073               |"
      ]
     },
     "metadata": {},
     "output_type": "display_data"
    },
    {
     "data": {
      "text/html": [
       "<pre>| 2       | 166.82ms     | 0.00509842             |</pre>"
      ],
      "text/plain": [
       "| 2       | 166.82ms     | 0.00509842             |"
      ]
     },
     "metadata": {},
     "output_type": "display_data"
    },
    {
     "data": {
      "text/html": [
       "<pre>| 3       | 218.815ms    | 0.00422481             |</pre>"
      ],
      "text/plain": [
       "| 3       | 218.815ms    | 0.00422481             |"
      ]
     },
     "metadata": {},
     "output_type": "display_data"
    },
    {
     "data": {
      "text/html": [
       "<pre>| 4       | 253.323ms    | 0.00364401             |</pre>"
      ],
      "text/plain": [
       "| 4       | 253.323ms    | 0.00364401             |"
      ]
     },
     "metadata": {},
     "output_type": "display_data"
    },
    {
     "data": {
      "text/html": [
       "<pre>| 5       | 304.144ms    | 0.00323109             |</pre>"
      ],
      "text/plain": [
       "| 5       | 304.144ms    | 0.00323109             |"
      ]
     },
     "metadata": {},
     "output_type": "display_data"
    },
    {
     "data": {
      "text/html": [
       "<pre>| 6       | 353.458ms    | 0.00292441             |</pre>"
      ],
      "text/plain": [
       "| 6       | 353.458ms    | 0.00292441             |"
      ]
     },
     "metadata": {},
     "output_type": "display_data"
    },
    {
     "data": {
      "text/html": [
       "<pre>| 7       | 383.879ms    | 0.0026878              |</pre>"
      ],
      "text/plain": [
       "| 7       | 383.879ms    | 0.0026878              |"
      ]
     },
     "metadata": {},
     "output_type": "display_data"
    },
    {
     "data": {
      "text/html": [
       "<pre>| 8       | 429.58ms     | 0.00250003             |</pre>"
      ],
      "text/plain": [
       "| 8       | 429.58ms     | 0.00250003             |"
      ]
     },
     "metadata": {},
     "output_type": "display_data"
    },
    {
     "data": {
      "text/html": [
       "<pre>| 9       | 470.648ms    | 0.00234692             |</pre>"
      ],
      "text/plain": [
       "| 9       | 470.648ms    | 0.00234692             |"
      ]
     },
     "metadata": {},
     "output_type": "display_data"
    },
    {
     "data": {
      "text/html": [
       "<pre>| 10      | 516.072ms    | 0.00221998             |</pre>"
      ],
      "text/plain": [
       "| 10      | 516.072ms    | 0.00221998             |"
      ]
     },
     "metadata": {},
     "output_type": "display_data"
    },
    {
     "data": {
      "text/html": [
       "<pre>| 11      | 557.332ms    | 0.00211261             |</pre>"
      ],
      "text/plain": [
       "| 11      | 557.332ms    | 0.00211261             |"
      ]
     },
     "metadata": {},
     "output_type": "display_data"
    },
    {
     "data": {
      "text/html": [
       "<pre>| 12      | 591.092ms    | 0.00202052             |</pre>"
      ],
      "text/plain": [
       "| 12      | 591.092ms    | 0.00202052             |"
      ]
     },
     "metadata": {},
     "output_type": "display_data"
    },
    {
     "data": {
      "text/html": [
       "<pre>| 13      | 629.708ms    | 0.0019406              |</pre>"
      ],
      "text/plain": [
       "| 13      | 629.708ms    | 0.0019406              |"
      ]
     },
     "metadata": {},
     "output_type": "display_data"
    },
    {
     "data": {
      "text/html": [
       "<pre>| 14      | 669.512ms    | 0.00186996             |</pre>"
      ],
      "text/plain": [
       "| 14      | 669.512ms    | 0.00186996             |"
      ]
     },
     "metadata": {},
     "output_type": "display_data"
    },
    {
     "data": {
      "text/html": [
       "<pre>| 15      | 704.913ms    | 0.00180688             |</pre>"
      ],
      "text/plain": [
       "| 15      | 704.913ms    | 0.00180688             |"
      ]
     },
     "metadata": {},
     "output_type": "display_data"
    },
    {
     "data": {
      "text/html": [
       "<pre>| 16      | 759.83ms     | 0.00175042             |</pre>"
      ],
      "text/plain": [
       "| 16      | 759.83ms     | 0.00175042             |"
      ]
     },
     "metadata": {},
     "output_type": "display_data"
    },
    {
     "data": {
      "text/html": [
       "<pre>| 17      | 807.385ms    | 0.00169925             |</pre>"
      ],
      "text/plain": [
       "| 17      | 807.385ms    | 0.00169925             |"
      ]
     },
     "metadata": {},
     "output_type": "display_data"
    },
    {
     "data": {
      "text/html": [
       "<pre>| 18      | 848.918ms    | 0.00165262             |</pre>"
      ],
      "text/plain": [
       "| 18      | 848.918ms    | 0.00165262             |"
      ]
     },
     "metadata": {},
     "output_type": "display_data"
    },
    {
     "data": {
      "text/html": [
       "<pre>| 19      | 889.704ms    | 0.00160977             |</pre>"
      ],
      "text/plain": [
       "| 19      | 889.704ms    | 0.00160977             |"
      ]
     },
     "metadata": {},
     "output_type": "display_data"
    },
    {
     "data": {
      "text/html": [
       "<pre>| 20      | 940.438ms    | 0.00157028             |</pre>"
      ],
      "text/plain": [
       "| 20      | 940.438ms    | 0.00157028             |"
      ]
     },
     "metadata": {},
     "output_type": "display_data"
    },
    {
     "data": {
      "text/html": [
       "<pre>| 21      | 967.409ms    | 0.00153359             |</pre>"
      ],
      "text/plain": [
       "| 21      | 967.409ms    | 0.00153359             |"
      ]
     },
     "metadata": {},
     "output_type": "display_data"
    },
    {
     "data": {
      "text/html": [
       "<pre>| 22      | 1.00s        | 0.00149942             |</pre>"
      ],
      "text/plain": [
       "| 22      | 1.00s        | 0.00149942             |"
      ]
     },
     "metadata": {},
     "output_type": "display_data"
    },
    {
     "data": {
      "text/html": [
       "<pre>| 23      | 1.03s        | 0.00146751             |</pre>"
      ],
      "text/plain": [
       "| 23      | 1.03s        | 0.00146751             |"
      ]
     },
     "metadata": {},
     "output_type": "display_data"
    },
    {
     "data": {
      "text/html": [
       "<pre>| 24      | 1.07s        | 0.00143752             |</pre>"
      ],
      "text/plain": [
       "| 24      | 1.07s        | 0.00143752             |"
      ]
     },
     "metadata": {},
     "output_type": "display_data"
    },
    {
     "data": {
      "text/html": [
       "<pre>| 25      | 1.11s        | 0.00140933             |</pre>"
      ],
      "text/plain": [
       "| 25      | 1.11s        | 0.00140933             |"
      ]
     },
     "metadata": {},
     "output_type": "display_data"
    },
    {
     "data": {
      "text/html": [
       "<pre>| 26      | 1.14s        | 0.00138278             |</pre>"
      ],
      "text/plain": [
       "| 26      | 1.14s        | 0.00138278             |"
      ]
     },
     "metadata": {},
     "output_type": "display_data"
    },
    {
     "data": {
      "text/html": [
       "<pre>| 27      | 1.18s        | 0.00135763             |</pre>"
      ],
      "text/plain": [
       "| 27      | 1.18s        | 0.00135763             |"
      ]
     },
     "metadata": {},
     "output_type": "display_data"
    },
    {
     "data": {
      "text/html": [
       "<pre>| 28      | 1.22s        | 0.00133386             |</pre>"
      ],
      "text/plain": [
       "| 28      | 1.22s        | 0.00133386             |"
      ]
     },
     "metadata": {},
     "output_type": "display_data"
    },
    {
     "data": {
      "text/html": [
       "<pre>| 29      | 1.27s        | 0.00131128             |</pre>"
      ],
      "text/plain": [
       "| 29      | 1.27s        | 0.00131128             |"
      ]
     },
     "metadata": {},
     "output_type": "display_data"
    },
    {
     "data": {
      "text/html": [
       "<pre>| 30      | 1.31s        | 0.00128984             |</pre>"
      ],
      "text/plain": [
       "| 30      | 1.31s        | 0.00128984             |"
      ]
     },
     "metadata": {},
     "output_type": "display_data"
    },
    {
     "data": {
      "text/html": [
       "<pre>| 31      | 1.35s        | 0.00126953             |</pre>"
      ],
      "text/plain": [
       "| 31      | 1.35s        | 0.00126953             |"
      ]
     },
     "metadata": {},
     "output_type": "display_data"
    },
    {
     "data": {
      "text/html": [
       "<pre>| 32      | 1.39s        | 0.00125018             |</pre>"
      ],
      "text/plain": [
       "| 32      | 1.39s        | 0.00125018             |"
      ]
     },
     "metadata": {},
     "output_type": "display_data"
    },
    {
     "data": {
      "text/html": [
       "<pre>| 33      | 1.44s        | 0.00123174             |</pre>"
      ],
      "text/plain": [
       "| 33      | 1.44s        | 0.00123174             |"
      ]
     },
     "metadata": {},
     "output_type": "display_data"
    },
    {
     "data": {
      "text/html": [
       "<pre>| 34      | 1.47s        | 0.00121414             |</pre>"
      ],
      "text/plain": [
       "| 34      | 1.47s        | 0.00121414             |"
      ]
     },
     "metadata": {},
     "output_type": "display_data"
    },
    {
     "data": {
      "text/html": [
       "<pre>| 35      | 1.52s        | 0.00119735             |</pre>"
      ],
      "text/plain": [
       "| 35      | 1.52s        | 0.00119735             |"
      ]
     },
     "metadata": {},
     "output_type": "display_data"
    },
    {
     "data": {
      "text/html": [
       "<pre>| 36      | 1.57s        | 0.00118127             |</pre>"
      ],
      "text/plain": [
       "| 36      | 1.57s        | 0.00118127             |"
      ]
     },
     "metadata": {},
     "output_type": "display_data"
    },
    {
     "data": {
      "text/html": [
       "<pre>| 37      | 1.62s        | 0.0011659              |</pre>"
      ],
      "text/plain": [
       "| 37      | 1.62s        | 0.0011659              |"
      ]
     },
     "metadata": {},
     "output_type": "display_data"
    },
    {
     "data": {
      "text/html": [
       "<pre>| 38      | 1.66s        | 0.00115116             |</pre>"
      ],
      "text/plain": [
       "| 38      | 1.66s        | 0.00115116             |"
      ]
     },
     "metadata": {},
     "output_type": "display_data"
    },
    {
     "data": {
      "text/html": [
       "<pre>| 39      | 1.70s        | 0.00113702             |</pre>"
      ],
      "text/plain": [
       "| 39      | 1.70s        | 0.00113702             |"
      ]
     },
     "metadata": {},
     "output_type": "display_data"
    },
    {
     "data": {
      "text/html": [
       "<pre>| 40      | 1.74s        | 0.00112339             |</pre>"
      ],
      "text/plain": [
       "| 40      | 1.74s        | 0.00112339             |"
      ]
     },
     "metadata": {},
     "output_type": "display_data"
    },
    {
     "data": {
      "text/html": [
       "<pre>| 41      | 1.76s        | 0.00111027             |</pre>"
      ],
      "text/plain": [
       "| 41      | 1.76s        | 0.00111027             |"
      ]
     },
     "metadata": {},
     "output_type": "display_data"
    },
    {
     "data": {
      "text/html": [
       "<pre>| 42      | 1.80s        | 0.00109764             |</pre>"
      ],
      "text/plain": [
       "| 42      | 1.80s        | 0.00109764             |"
      ]
     },
     "metadata": {},
     "output_type": "display_data"
    },
    {
     "data": {
      "text/html": [
       "<pre>| 43      | 1.86s        | 0.0010855              |</pre>"
      ],
      "text/plain": [
       "| 43      | 1.86s        | 0.0010855              |"
      ]
     },
     "metadata": {},
     "output_type": "display_data"
    },
    {
     "data": {
      "text/html": [
       "<pre>| 44      | 1.89s        | 0.00107374             |</pre>"
      ],
      "text/plain": [
       "| 44      | 1.89s        | 0.00107374             |"
      ]
     },
     "metadata": {},
     "output_type": "display_data"
    },
    {
     "data": {
      "text/html": [
       "<pre>| 45      | 1.93s        | 0.00106241             |</pre>"
      ],
      "text/plain": [
       "| 45      | 1.93s        | 0.00106241             |"
      ]
     },
     "metadata": {},
     "output_type": "display_data"
    },
    {
     "data": {
      "text/html": [
       "<pre>| 46      | 1.97s        | 0.00105148             |</pre>"
      ],
      "text/plain": [
       "| 46      | 1.97s        | 0.00105148             |"
      ]
     },
     "metadata": {},
     "output_type": "display_data"
    },
    {
     "data": {
      "text/html": [
       "<pre>| 47      | 2.02s        | 0.00104089             |</pre>"
      ],
      "text/plain": [
       "| 47      | 2.02s        | 0.00104089             |"
      ]
     },
     "metadata": {},
     "output_type": "display_data"
    },
    {
     "data": {
      "text/html": [
       "<pre>| 48      | 2.07s        | 0.00103065             |</pre>"
      ],
      "text/plain": [
       "| 48      | 2.07s        | 0.00103065             |"
      ]
     },
     "metadata": {},
     "output_type": "display_data"
    },
    {
     "data": {
      "text/html": [
       "<pre>| 49      | 2.10s        | 0.00102074             |</pre>"
      ],
      "text/plain": [
       "| 49      | 2.10s        | 0.00102074             |"
      ]
     },
     "metadata": {},
     "output_type": "display_data"
    },
    {
     "data": {
      "text/html": [
       "<pre>| FINAL   | 2.10s        | 0.00102074             |</pre>"
      ],
      "text/plain": [
       "| FINAL   | 2.10s        | 0.00102074             |"
      ]
     },
     "metadata": {},
     "output_type": "display_data"
    },
    {
     "data": {
      "text/html": [
       "<pre>+---------+--------------+------------------------+</pre>"
      ],
      "text/plain": [
       "+---------+--------------+------------------------+"
      ]
     },
     "metadata": {},
     "output_type": "display_data"
    },
    {
     "data": {
      "text/html": [
       "<pre>Optimization Complete: Iteration limit reached.</pre>"
      ],
      "text/plain": [
       "Optimization Complete: Iteration limit reached."
      ]
     },
     "metadata": {},
     "output_type": "display_data"
    },
    {
     "data": {
      "text/html": [
       "<pre>Recsys training: model = factorization_recommender</pre>"
      ],
      "text/plain": [
       "Recsys training: model = factorization_recommender"
      ]
     },
     "metadata": {},
     "output_type": "display_data"
    },
    {
     "data": {
      "text/html": [
       "<pre>Preparing data set.</pre>"
      ],
      "text/plain": [
       "Preparing data set."
      ]
     },
     "metadata": {},
     "output_type": "display_data"
    },
    {
     "data": {
      "text/html": [
       "<pre>    Data has 24756 observations with 12294 users and 894 items.</pre>"
      ],
      "text/plain": [
       "    Data has 24756 observations with 12294 users and 894 items."
      ]
     },
     "metadata": {},
     "output_type": "display_data"
    },
    {
     "data": {
      "text/html": [
       "<pre>    Data prepared in: 0.055624s</pre>"
      ],
      "text/plain": [
       "    Data prepared in: 0.055624s"
      ]
     },
     "metadata": {},
     "output_type": "display_data"
    },
    {
     "data": {
      "text/html": [
       "<pre>Training factorization_recommender for recommendations.</pre>"
      ],
      "text/plain": [
       "Training factorization_recommender for recommendations."
      ]
     },
     "metadata": {},
     "output_type": "display_data"
    },
    {
     "data": {
      "text/html": [
       "<pre>+------------------------------+--------------------------------------------------+----------+</pre>"
      ],
      "text/plain": [
       "+------------------------------+--------------------------------------------------+----------+"
      ]
     },
     "metadata": {},
     "output_type": "display_data"
    },
    {
     "data": {
      "text/html": [
       "<pre>| Parameter                    | Description                                      | Value    |</pre>"
      ],
      "text/plain": [
       "| Parameter                    | Description                                      | Value    |"
      ]
     },
     "metadata": {},
     "output_type": "display_data"
    },
    {
     "data": {
      "text/html": [
       "<pre>+------------------------------+--------------------------------------------------+----------+</pre>"
      ],
      "text/plain": [
       "+------------------------------+--------------------------------------------------+----------+"
      ]
     },
     "metadata": {},
     "output_type": "display_data"
    },
    {
     "data": {
      "text/html": [
       "<pre>| num_factors                  | Factor Dimension                                 | 10       |</pre>"
      ],
      "text/plain": [
       "| num_factors                  | Factor Dimension                                 | 10       |"
      ]
     },
     "metadata": {},
     "output_type": "display_data"
    },
    {
     "data": {
      "text/html": [
       "<pre>| regularization               | L2 Regularization on Factors                     | 1e-08    |</pre>"
      ],
      "text/plain": [
       "| regularization               | L2 Regularization on Factors                     | 1e-08    |"
      ]
     },
     "metadata": {},
     "output_type": "display_data"
    },
    {
     "data": {
      "text/html": [
       "<pre>| max_iterations               | Maximum Number of Iterations                     | 50       |</pre>"
      ],
      "text/plain": [
       "| max_iterations               | Maximum Number of Iterations                     | 50       |"
      ]
     },
     "metadata": {},
     "output_type": "display_data"
    },
    {
     "data": {
      "text/html": [
       "<pre>| solver                       | Solver used for training                         | als      |</pre>"
      ],
      "text/plain": [
       "| solver                       | Solver used for training                         | als      |"
      ]
     },
     "metadata": {},
     "output_type": "display_data"
    },
    {
     "data": {
      "text/html": [
       "<pre>+------------------------------+--------------------------------------------------+----------+</pre>"
      ],
      "text/plain": [
       "+------------------------------+--------------------------------------------------+----------+"
      ]
     },
     "metadata": {},
     "output_type": "display_data"
    },
    {
     "data": {
      "text/html": [
       "<pre>+---------+--------------+------------------------+</pre>"
      ],
      "text/plain": [
       "+---------+--------------+------------------------+"
      ]
     },
     "metadata": {},
     "output_type": "display_data"
    },
    {
     "data": {
      "text/html": [
       "<pre>| Iter.   | Elapsed time | RMSE                   |</pre>"
      ],
      "text/plain": [
       "| Iter.   | Elapsed time | RMSE                   |"
      ]
     },
     "metadata": {},
     "output_type": "display_data"
    },
    {
     "data": {
      "text/html": [
       "<pre>+---------+--------------+------------------------+</pre>"
      ],
      "text/plain": [
       "+---------+--------------+------------------------+"
      ]
     },
     "metadata": {},
     "output_type": "display_data"
    },
    {
     "data": {
      "text/html": [
       "<pre>| Initial | 80us         | NA                     |</pre>"
      ],
      "text/plain": [
       "| Initial | 80us         | NA                     |"
      ]
     },
     "metadata": {},
     "output_type": "display_data"
    },
    {
     "data": {
      "text/html": [
       "<pre>+---------+--------------+------------------------+</pre>"
      ],
      "text/plain": [
       "+---------+--------------+------------------------+"
      ]
     },
     "metadata": {},
     "output_type": "display_data"
    },
    {
     "data": {
      "text/html": [
       "<pre>| 0       | 62.417ms     | 0.152075               |</pre>"
      ],
      "text/plain": [
       "| 0       | 62.417ms     | 0.152075               |"
      ]
     },
     "metadata": {},
     "output_type": "display_data"
    },
    {
     "data": {
      "text/html": [
       "<pre>| 1       | 108.013ms    | 0.00606869             |</pre>"
      ],
      "text/plain": [
       "| 1       | 108.013ms    | 0.00606869             |"
      ]
     },
     "metadata": {},
     "output_type": "display_data"
    },
    {
     "data": {
      "text/html": [
       "<pre>| 2       | 140.149ms    | 0.00420257             |</pre>"
      ],
      "text/plain": [
       "| 2       | 140.149ms    | 0.00420257             |"
      ]
     },
     "metadata": {},
     "output_type": "display_data"
    },
    {
     "data": {
      "text/html": [
       "<pre>| 3       | 199.673ms    | 0.00331691             |</pre>"
      ],
      "text/plain": [
       "| 3       | 199.673ms    | 0.00331691             |"
      ]
     },
     "metadata": {},
     "output_type": "display_data"
    },
    {
     "data": {
      "text/html": [
       "<pre>| 4       | 229.742ms    | 0.00276313             |</pre>"
      ],
      "text/plain": [
       "| 4       | 229.742ms    | 0.00276313             |"
      ]
     },
     "metadata": {},
     "output_type": "display_data"
    },
    {
     "data": {
      "text/html": [
       "<pre>| 5       | 256.828ms    | 0.00238688             |</pre>"
      ],
      "text/plain": [
       "| 5       | 256.828ms    | 0.00238688             |"
      ]
     },
     "metadata": {},
     "output_type": "display_data"
    },
    {
     "data": {
      "text/html": [
       "<pre>| 6       | 303.581ms    | 0.00212097             |</pre>"
      ],
      "text/plain": [
       "| 6       | 303.581ms    | 0.00212097             |"
      ]
     },
     "metadata": {},
     "output_type": "display_data"
    },
    {
     "data": {
      "text/html": [
       "<pre>| 7       | 332.711ms    | 0.00192673             |</pre>"
      ],
      "text/plain": [
       "| 7       | 332.711ms    | 0.00192673             |"
      ]
     },
     "metadata": {},
     "output_type": "display_data"
    },
    {
     "data": {
      "text/html": [
       "<pre>| 8       | 373.409ms    | 0.00178064             |</pre>"
      ],
      "text/plain": [
       "| 8       | 373.409ms    | 0.00178064             |"
      ]
     },
     "metadata": {},
     "output_type": "display_data"
    },
    {
     "data": {
      "text/html": [
       "<pre>| 9       | 435.379ms    | 0.00166856             |</pre>"
      ],
      "text/plain": [
       "| 9       | 435.379ms    | 0.00166856             |"
      ]
     },
     "metadata": {},
     "output_type": "display_data"
    },
    {
     "data": {
      "text/html": [
       "<pre>| 10      | 476.659ms    | 0.0015806              |</pre>"
      ],
      "text/plain": [
       "| 10      | 476.659ms    | 0.0015806              |"
      ]
     },
     "metadata": {},
     "output_type": "display_data"
    },
    {
     "data": {
      "text/html": [
       "<pre>| 11      | 512.013ms    | 0.00150921             |</pre>"
      ],
      "text/plain": [
       "| 11      | 512.013ms    | 0.00150921             |"
      ]
     },
     "metadata": {},
     "output_type": "display_data"
    },
    {
     "data": {
      "text/html": [
       "<pre>| 12      | 570.339ms    | 0.00144912             |</pre>"
      ],
      "text/plain": [
       "| 12      | 570.339ms    | 0.00144912             |"
      ]
     },
     "metadata": {},
     "output_type": "display_data"
    },
    {
     "data": {
      "text/html": [
       "<pre>| 13      | 617.737ms    | 0.00139719             |</pre>"
      ],
      "text/plain": [
       "| 13      | 617.737ms    | 0.00139719             |"
      ]
     },
     "metadata": {},
     "output_type": "display_data"
    },
    {
     "data": {
      "text/html": [
       "<pre>| 14      | 661.746ms    | 0.00135203             |</pre>"
      ],
      "text/plain": [
       "| 14      | 661.746ms    | 0.00135203             |"
      ]
     },
     "metadata": {},
     "output_type": "display_data"
    },
    {
     "data": {
      "text/html": [
       "<pre>| 15      | 716.407ms    | 0.00131139             |</pre>"
      ],
      "text/plain": [
       "| 15      | 716.407ms    | 0.00131139             |"
      ]
     },
     "metadata": {},
     "output_type": "display_data"
    },
    {
     "data": {
      "text/html": [
       "<pre>| 16      | 760.801ms    | 0.00127425             |</pre>"
      ],
      "text/plain": [
       "| 16      | 760.801ms    | 0.00127425             |"
      ]
     },
     "metadata": {},
     "output_type": "display_data"
    },
    {
     "data": {
      "text/html": [
       "<pre>| 17      | 803.504ms    | 0.00123973             |</pre>"
      ],
      "text/plain": [
       "| 17      | 803.504ms    | 0.00123973             |"
      ]
     },
     "metadata": {},
     "output_type": "display_data"
    },
    {
     "data": {
      "text/html": [
       "<pre>| 18      | 851.755ms    | 0.00120823             |</pre>"
      ],
      "text/plain": [
       "| 18      | 851.755ms    | 0.00120823             |"
      ]
     },
     "metadata": {},
     "output_type": "display_data"
    },
    {
     "data": {
      "text/html": [
       "<pre>| 19      | 889.959ms    | 0.00117899             |</pre>"
      ],
      "text/plain": [
       "| 19      | 889.959ms    | 0.00117899             |"
      ]
     },
     "metadata": {},
     "output_type": "display_data"
    },
    {
     "data": {
      "text/html": [
       "<pre>| 20      | 938.342ms    | 0.00115137             |</pre>"
      ],
      "text/plain": [
       "| 20      | 938.342ms    | 0.00115137             |"
      ]
     },
     "metadata": {},
     "output_type": "display_data"
    },
    {
     "data": {
      "text/html": [
       "<pre>| 21      | 988.803ms    | 0.00112521             |</pre>"
      ],
      "text/plain": [
       "| 21      | 988.803ms    | 0.00112521             |"
      ]
     },
     "metadata": {},
     "output_type": "display_data"
    },
    {
     "data": {
      "text/html": [
       "<pre>| 22      | 1.03s        | 0.00110084             |</pre>"
      ],
      "text/plain": [
       "| 22      | 1.03s        | 0.00110084             |"
      ]
     },
     "metadata": {},
     "output_type": "display_data"
    },
    {
     "data": {
      "text/html": [
       "<pre>| 23      | 1.07s        | 0.00107739             |</pre>"
      ],
      "text/plain": [
       "| 23      | 1.07s        | 0.00107739             |"
      ]
     },
     "metadata": {},
     "output_type": "display_data"
    },
    {
     "data": {
      "text/html": [
       "<pre>| 24      | 1.13s        | 0.00105513             |</pre>"
      ],
      "text/plain": [
       "| 24      | 1.13s        | 0.00105513             |"
      ]
     },
     "metadata": {},
     "output_type": "display_data"
    },
    {
     "data": {
      "text/html": [
       "<pre>| 25      | 1.16s        | 0.00103413             |</pre>"
      ],
      "text/plain": [
       "| 25      | 1.16s        | 0.00103413             |"
      ]
     },
     "metadata": {},
     "output_type": "display_data"
    },
    {
     "data": {
      "text/html": [
       "<pre>| 26      | 1.21s        | 0.00101393             |</pre>"
      ],
      "text/plain": [
       "| 26      | 1.21s        | 0.00101393             |"
      ]
     },
     "metadata": {},
     "output_type": "display_data"
    },
    {
     "data": {
      "text/html": [
       "<pre>| 27      | 1.26s        | 0.000994769            |</pre>"
      ],
      "text/plain": [
       "| 27      | 1.26s        | 0.000994769            |"
      ]
     },
     "metadata": {},
     "output_type": "display_data"
    },
    {
     "data": {
      "text/html": [
       "<pre>| 28      | 1.32s        | 0.000976489            |</pre>"
      ],
      "text/plain": [
       "| 28      | 1.32s        | 0.000976489            |"
      ]
     },
     "metadata": {},
     "output_type": "display_data"
    },
    {
     "data": {
      "text/html": [
       "<pre>| 29      | 1.36s        | 0.000958892            |</pre>"
      ],
      "text/plain": [
       "| 29      | 1.36s        | 0.000958892            |"
      ]
     },
     "metadata": {},
     "output_type": "display_data"
    },
    {
     "data": {
      "text/html": [
       "<pre>| 30      | 1.41s        | 0.000942062            |</pre>"
      ],
      "text/plain": [
       "| 30      | 1.41s        | 0.000942062            |"
      ]
     },
     "metadata": {},
     "output_type": "display_data"
    },
    {
     "data": {
      "text/html": [
       "<pre>| 31      | 1.46s        | 0.000925734            |</pre>"
      ],
      "text/plain": [
       "| 31      | 1.46s        | 0.000925734            |"
      ]
     },
     "metadata": {},
     "output_type": "display_data"
    },
    {
     "data": {
      "text/html": [
       "<pre>| 32      | 1.51s        | 0.000910064            |</pre>"
      ],
      "text/plain": [
       "| 32      | 1.51s        | 0.000910064            |"
      ]
     },
     "metadata": {},
     "output_type": "display_data"
    },
    {
     "data": {
      "text/html": [
       "<pre>| 33      | 1.55s        | 0.000895153            |</pre>"
      ],
      "text/plain": [
       "| 33      | 1.55s        | 0.000895153            |"
      ]
     },
     "metadata": {},
     "output_type": "display_data"
    },
    {
     "data": {
      "text/html": [
       "<pre>| 34      | 1.63s        | 0.000880572            |</pre>"
      ],
      "text/plain": [
       "| 34      | 1.63s        | 0.000880572            |"
      ]
     },
     "metadata": {},
     "output_type": "display_data"
    },
    {
     "data": {
      "text/html": [
       "<pre>| 35      | 1.65s        | 0.000866533            |</pre>"
      ],
      "text/plain": [
       "| 35      | 1.65s        | 0.000866533            |"
      ]
     },
     "metadata": {},
     "output_type": "display_data"
    },
    {
     "data": {
      "text/html": [
       "<pre>| 36      | 1.70s        | 0.000853005            |</pre>"
      ],
      "text/plain": [
       "| 36      | 1.70s        | 0.000853005            |"
      ]
     },
     "metadata": {},
     "output_type": "display_data"
    },
    {
     "data": {
      "text/html": [
       "<pre>| 37      | 1.74s        | 0.000839908            |</pre>"
      ],
      "text/plain": [
       "| 37      | 1.74s        | 0.000839908            |"
      ]
     },
     "metadata": {},
     "output_type": "display_data"
    },
    {
     "data": {
      "text/html": [
       "<pre>| 38      | 1.78s        | 0.000827468            |</pre>"
      ],
      "text/plain": [
       "| 38      | 1.78s        | 0.000827468            |"
      ]
     },
     "metadata": {},
     "output_type": "display_data"
    },
    {
     "data": {
      "text/html": [
       "<pre>| 39      | 1.82s        | 0.00081528             |</pre>"
      ],
      "text/plain": [
       "| 39      | 1.82s        | 0.00081528             |"
      ]
     },
     "metadata": {},
     "output_type": "display_data"
    },
    {
     "data": {
      "text/html": [
       "<pre>| 40      | 1.86s        | 0.000803336            |</pre>"
      ],
      "text/plain": [
       "| 40      | 1.86s        | 0.000803336            |"
      ]
     },
     "metadata": {},
     "output_type": "display_data"
    },
    {
     "data": {
      "text/html": [
       "<pre>| 41      | 1.93s        | 0.000791891            |</pre>"
      ],
      "text/plain": [
       "| 41      | 1.93s        | 0.000791891            |"
      ]
     },
     "metadata": {},
     "output_type": "display_data"
    },
    {
     "data": {
      "text/html": [
       "<pre>| 42      | 1.98s        | 0.000780782            |</pre>"
      ],
      "text/plain": [
       "| 42      | 1.98s        | 0.000780782            |"
      ]
     },
     "metadata": {},
     "output_type": "display_data"
    },
    {
     "data": {
      "text/html": [
       "<pre>| 43      | 2.02s        | 0.000770068            |</pre>"
      ],
      "text/plain": [
       "| 43      | 2.02s        | 0.000770068            |"
      ]
     },
     "metadata": {},
     "output_type": "display_data"
    },
    {
     "data": {
      "text/html": [
       "<pre>| 44      | 2.08s        | 0.000759616            |</pre>"
      ],
      "text/plain": [
       "| 44      | 2.08s        | 0.000759616            |"
      ]
     },
     "metadata": {},
     "output_type": "display_data"
    },
    {
     "data": {
      "text/html": [
       "<pre>| 45      | 2.12s        | 0.000749393            |</pre>"
      ],
      "text/plain": [
       "| 45      | 2.12s        | 0.000749393            |"
      ]
     },
     "metadata": {},
     "output_type": "display_data"
    },
    {
     "data": {
      "text/html": [
       "<pre>| 46      | 2.19s        | 0.000739236            |</pre>"
      ],
      "text/plain": [
       "| 46      | 2.19s        | 0.000739236            |"
      ]
     },
     "metadata": {},
     "output_type": "display_data"
    },
    {
     "data": {
      "text/html": [
       "<pre>| 47      | 2.26s        | 0.000729657            |</pre>"
      ],
      "text/plain": [
       "| 47      | 2.26s        | 0.000729657            |"
      ]
     },
     "metadata": {},
     "output_type": "display_data"
    },
    {
     "data": {
      "text/html": [
       "<pre>| 48      | 2.29s        | 0.000720345            |</pre>"
      ],
      "text/plain": [
       "| 48      | 2.29s        | 0.000720345            |"
      ]
     },
     "metadata": {},
     "output_type": "display_data"
    },
    {
     "data": {
      "text/html": [
       "<pre>| 49      | 2.34s        | 0.00071121             |</pre>"
      ],
      "text/plain": [
       "| 49      | 2.34s        | 0.00071121             |"
      ]
     },
     "metadata": {},
     "output_type": "display_data"
    },
    {
     "data": {
      "text/html": [
       "<pre>| FINAL   | 2.34s        | 0.00071121             |</pre>"
      ],
      "text/plain": [
       "| FINAL   | 2.34s        | 0.00071121             |"
      ]
     },
     "metadata": {},
     "output_type": "display_data"
    },
    {
     "data": {
      "text/html": [
       "<pre>+---------+--------------+------------------------+</pre>"
      ],
      "text/plain": [
       "+---------+--------------+------------------------+"
      ]
     },
     "metadata": {},
     "output_type": "display_data"
    },
    {
     "data": {
      "text/html": [
       "<pre>Optimization Complete: Iteration limit reached.</pre>"
      ],
      "text/plain": [
       "Optimization Complete: Iteration limit reached."
      ]
     },
     "metadata": {},
     "output_type": "display_data"
    },
    {
     "data": {
      "text/html": [
       "<pre>Recsys training: model = factorization_recommender</pre>"
      ],
      "text/plain": [
       "Recsys training: model = factorization_recommender"
      ]
     },
     "metadata": {},
     "output_type": "display_data"
    },
    {
     "data": {
      "text/html": [
       "<pre>Preparing data set.</pre>"
      ],
      "text/plain": [
       "Preparing data set."
      ]
     },
     "metadata": {},
     "output_type": "display_data"
    },
    {
     "data": {
      "text/html": [
       "<pre>    Data has 24756 observations with 12294 users and 894 items.</pre>"
      ],
      "text/plain": [
       "    Data has 24756 observations with 12294 users and 894 items."
      ]
     },
     "metadata": {},
     "output_type": "display_data"
    },
    {
     "data": {
      "text/html": [
       "<pre>    Data prepared in: 0.052915s</pre>"
      ],
      "text/plain": [
       "    Data prepared in: 0.052915s"
      ]
     },
     "metadata": {},
     "output_type": "display_data"
    },
    {
     "data": {
      "text/html": [
       "<pre>Training factorization_recommender for recommendations.</pre>"
      ],
      "text/plain": [
       "Training factorization_recommender for recommendations."
      ]
     },
     "metadata": {},
     "output_type": "display_data"
    },
    {
     "data": {
      "text/html": [
       "<pre>+------------------------------+--------------------------------------------------+----------+</pre>"
      ],
      "text/plain": [
       "+------------------------------+--------------------------------------------------+----------+"
      ]
     },
     "metadata": {},
     "output_type": "display_data"
    },
    {
     "data": {
      "text/html": [
       "<pre>| Parameter                    | Description                                      | Value    |</pre>"
      ],
      "text/plain": [
       "| Parameter                    | Description                                      | Value    |"
      ]
     },
     "metadata": {},
     "output_type": "display_data"
    },
    {
     "data": {
      "text/html": [
       "<pre>+------------------------------+--------------------------------------------------+----------+</pre>"
      ],
      "text/plain": [
       "+------------------------------+--------------------------------------------------+----------+"
      ]
     },
     "metadata": {},
     "output_type": "display_data"
    },
    {
     "data": {
      "text/html": [
       "<pre>| num_factors                  | Factor Dimension                                 | 10       |</pre>"
      ],
      "text/plain": [
       "| num_factors                  | Factor Dimension                                 | 10       |"
      ]
     },
     "metadata": {},
     "output_type": "display_data"
    },
    {
     "data": {
      "text/html": [
       "<pre>| regularization               | L2 Regularization on Factors                     | 0        |</pre>"
      ],
      "text/plain": [
       "| regularization               | L2 Regularization on Factors                     | 0        |"
      ]
     },
     "metadata": {},
     "output_type": "display_data"
    },
    {
     "data": {
      "text/html": [
       "<pre>| max_iterations               | Maximum Number of Iterations                     | 50       |</pre>"
      ],
      "text/plain": [
       "| max_iterations               | Maximum Number of Iterations                     | 50       |"
      ]
     },
     "metadata": {},
     "output_type": "display_data"
    },
    {
     "data": {
      "text/html": [
       "<pre>| solver                       | Solver used for training                         | als      |</pre>"
      ],
      "text/plain": [
       "| solver                       | Solver used for training                         | als      |"
      ]
     },
     "metadata": {},
     "output_type": "display_data"
    },
    {
     "data": {
      "text/html": [
       "<pre>+------------------------------+--------------------------------------------------+----------+</pre>"
      ],
      "text/plain": [
       "+------------------------------+--------------------------------------------------+----------+"
      ]
     },
     "metadata": {},
     "output_type": "display_data"
    },
    {
     "data": {
      "text/html": [
       "<pre>+---------+--------------+------------------------+</pre>"
      ],
      "text/plain": [
       "+---------+--------------+------------------------+"
      ]
     },
     "metadata": {},
     "output_type": "display_data"
    },
    {
     "data": {
      "text/html": [
       "<pre>| Iter.   | Elapsed time | RMSE                   |</pre>"
      ],
      "text/plain": [
       "| Iter.   | Elapsed time | RMSE                   |"
      ]
     },
     "metadata": {},
     "output_type": "display_data"
    },
    {
     "data": {
      "text/html": [
       "<pre>+---------+--------------+------------------------+</pre>"
      ],
      "text/plain": [
       "+---------+--------------+------------------------+"
      ]
     },
     "metadata": {},
     "output_type": "display_data"
    },
    {
     "data": {
      "text/html": [
       "<pre>| Initial | 58us         | NA                     |</pre>"
      ],
      "text/plain": [
       "| Initial | 58us         | NA                     |"
      ]
     },
     "metadata": {},
     "output_type": "display_data"
    },
    {
     "data": {
      "text/html": [
       "<pre>+---------+--------------+------------------------+</pre>"
      ],
      "text/plain": [
       "+---------+--------------+------------------------+"
      ]
     },
     "metadata": {},
     "output_type": "display_data"
    },
    {
     "data": {
      "text/html": [
       "<pre>| 0       | 54.314ms     | 0.0750349              |</pre>"
      ],
      "text/plain": [
       "| 0       | 54.314ms     | 0.0750349              |"
      ]
     },
     "metadata": {},
     "output_type": "display_data"
    },
    {
     "data": {
      "text/html": [
       "<pre>| 1       | 102.385ms    | 0.0256986              |</pre>"
      ],
      "text/plain": [
       "| 1       | 102.385ms    | 0.0256986              |"
      ]
     },
     "metadata": {},
     "output_type": "display_data"
    },
    {
     "data": {
      "text/html": [
       "<pre>| 2       | 123.094ms    | 0.0176023              |</pre>"
      ],
      "text/plain": [
       "| 2       | 123.094ms    | 0.0176023              |"
      ]
     },
     "metadata": {},
     "output_type": "display_data"
    },
    {
     "data": {
      "text/html": [
       "<pre>| 3       | 165.429ms    | 0.0134624              |</pre>"
      ],
      "text/plain": [
       "| 3       | 165.429ms    | 0.0134624              |"
      ]
     },
     "metadata": {},
     "output_type": "display_data"
    },
    {
     "data": {
      "text/html": [
       "<pre>| 4       | 216.347ms    | 0.0110098              |</pre>"
      ],
      "text/plain": [
       "| 4       | 216.347ms    | 0.0110098              |"
      ]
     },
     "metadata": {},
     "output_type": "display_data"
    },
    {
     "data": {
      "text/html": [
       "<pre>| 5       | 264.17ms     | 0.00927435             |</pre>"
      ],
      "text/plain": [
       "| 5       | 264.17ms     | 0.00927435             |"
      ]
     },
     "metadata": {},
     "output_type": "display_data"
    },
    {
     "data": {
      "text/html": [
       "<pre>| 6       | 315.65ms     | 0.00799645             |</pre>"
      ],
      "text/plain": [
       "| 6       | 315.65ms     | 0.00799645             |"
      ]
     },
     "metadata": {},
     "output_type": "display_data"
    },
    {
     "data": {
      "text/html": [
       "<pre>| 7       | 354.218ms    | 0.00703181             |</pre>"
      ],
      "text/plain": [
       "| 7       | 354.218ms    | 0.00703181             |"
      ]
     },
     "metadata": {},
     "output_type": "display_data"
    },
    {
     "data": {
      "text/html": [
       "<pre>| 8       | 406.326ms    | 0.00625779             |</pre>"
      ],
      "text/plain": [
       "| 8       | 406.326ms    | 0.00625779             |"
      ]
     },
     "metadata": {},
     "output_type": "display_data"
    },
    {
     "data": {
      "text/html": [
       "<pre>| 9       | 455.579ms    | 0.00567669             |</pre>"
      ],
      "text/plain": [
       "| 9       | 455.579ms    | 0.00567669             |"
      ]
     },
     "metadata": {},
     "output_type": "display_data"
    },
    {
     "data": {
      "text/html": [
       "<pre>| 10      | 506.868ms    | 0.00517672             |</pre>"
      ],
      "text/plain": [
       "| 10      | 506.868ms    | 0.00517672             |"
      ]
     },
     "metadata": {},
     "output_type": "display_data"
    },
    {
     "data": {
      "text/html": [
       "<pre>| 11      | 537.896ms    | 0.00498697             |</pre>"
      ],
      "text/plain": [
       "| 11      | 537.896ms    | 0.00498697             |"
      ]
     },
     "metadata": {},
     "output_type": "display_data"
    },
    {
     "data": {
      "text/html": [
       "<pre>| 12      | 585.33ms     | 0.00481048             |</pre>"
      ],
      "text/plain": [
       "| 12      | 585.33ms     | 0.00481048             |"
      ]
     },
     "metadata": {},
     "output_type": "display_data"
    },
    {
     "data": {
      "text/html": [
       "<pre>| 13      | 621.586ms    | 0.00443358             |</pre>"
      ],
      "text/plain": [
       "| 13      | 621.586ms    | 0.00443358             |"
      ]
     },
     "metadata": {},
     "output_type": "display_data"
    },
    {
     "data": {
      "text/html": [
       "<pre>| 14      | 677.29ms     | 0.0198333              |</pre>"
      ],
      "text/plain": [
       "| 14      | 677.29ms     | 0.0198333              |"
      ]
     },
     "metadata": {},
     "output_type": "display_data"
    },
    {
     "data": {
      "text/html": [
       "<pre>| 15      | 713.332ms    | 0.0145983              |</pre>"
      ],
      "text/plain": [
       "| 15      | 713.332ms    | 0.0145983              |"
      ]
     },
     "metadata": {},
     "output_type": "display_data"
    },
    {
     "data": {
      "text/html": [
       "<pre>| 16      | 756.552ms    | 0.0143817              |</pre>"
      ],
      "text/plain": [
       "| 16      | 756.552ms    | 0.0143817              |"
      ]
     },
     "metadata": {},
     "output_type": "display_data"
    },
    {
     "data": {
      "text/html": [
       "<pre>| 17      | 791.841ms    | 0.0177724              |</pre>"
      ],
      "text/plain": [
       "| 17      | 791.841ms    | 0.0177724              |"
      ]
     },
     "metadata": {},
     "output_type": "display_data"
    },
    {
     "data": {
      "text/html": [
       "<pre>| 18      | 841.421ms    | 0.0216436              |</pre>"
      ],
      "text/plain": [
       "| 18      | 841.421ms    | 0.0216436              |"
      ]
     },
     "metadata": {},
     "output_type": "display_data"
    },
    {
     "data": {
      "text/html": [
       "<pre>| 19      | 884.637ms    | 0.0246161              |</pre>"
      ],
      "text/plain": [
       "| 19      | 884.637ms    | 0.0246161              |"
      ]
     },
     "metadata": {},
     "output_type": "display_data"
    },
    {
     "data": {
      "text/html": [
       "<pre>| 20      | 935.099ms    | 0.0588818              |</pre>"
      ],
      "text/plain": [
       "| 20      | 935.099ms    | 0.0588818              |"
      ]
     },
     "metadata": {},
     "output_type": "display_data"
    },
    {
     "data": {
      "text/html": [
       "<pre>| 21      | 984.996ms    | 0.0354801              |</pre>"
      ],
      "text/plain": [
       "| 21      | 984.996ms    | 0.0354801              |"
      ]
     },
     "metadata": {},
     "output_type": "display_data"
    },
    {
     "data": {
      "text/html": [
       "<pre>| 22      | 1.02s        | 0.0400647              |</pre>"
      ],
      "text/plain": [
       "| 22      | 1.02s        | 0.0400647              |"
      ]
     },
     "metadata": {},
     "output_type": "display_data"
    },
    {
     "data": {
      "text/html": [
       "<pre>| 23      | 1.07s        | 0.0404879              |</pre>"
      ],
      "text/plain": [
       "| 23      | 1.07s        | 0.0404879              |"
      ]
     },
     "metadata": {},
     "output_type": "display_data"
    },
    {
     "data": {
      "text/html": [
       "<pre>| 24      | 1.11s        | 0.0502275              |</pre>"
      ],
      "text/plain": [
       "| 24      | 1.11s        | 0.0502275              |"
      ]
     },
     "metadata": {},
     "output_type": "display_data"
    },
    {
     "data": {
      "text/html": [
       "<pre>| 25      | 1.16s        | 0.04458                |</pre>"
      ],
      "text/plain": [
       "| 25      | 1.16s        | 0.04458                |"
      ]
     },
     "metadata": {},
     "output_type": "display_data"
    },
    {
     "data": {
      "text/html": [
       "<pre>| 26      | 1.19s        | 0.0541049              |</pre>"
      ],
      "text/plain": [
       "| 26      | 1.19s        | 0.0541049              |"
      ]
     },
     "metadata": {},
     "output_type": "display_data"
    },
    {
     "data": {
      "text/html": [
       "<pre>| 27      | 1.22s        | 0.0546803              |</pre>"
      ],
      "text/plain": [
       "| 27      | 1.22s        | 0.0546803              |"
      ]
     },
     "metadata": {},
     "output_type": "display_data"
    },
    {
     "data": {
      "text/html": [
       "<pre>| 28      | 1.28s        | 0.0455948              |</pre>"
      ],
      "text/plain": [
       "| 28      | 1.28s        | 0.0455948              |"
      ]
     },
     "metadata": {},
     "output_type": "display_data"
    },
    {
     "data": {
      "text/html": [
       "<pre>| 29      | 1.32s        | 0.0471049              |</pre>"
      ],
      "text/plain": [
       "| 29      | 1.32s        | 0.0471049              |"
      ]
     },
     "metadata": {},
     "output_type": "display_data"
    },
    {
     "data": {
      "text/html": [
       "<pre>| 30      | 1.36s        | 0.0488462              |</pre>"
      ],
      "text/plain": [
       "| 30      | 1.36s        | 0.0488462              |"
      ]
     },
     "metadata": {},
     "output_type": "display_data"
    },
    {
     "data": {
      "text/html": [
       "<pre>| 31      | 1.39s        | 0.0477781              |</pre>"
      ],
      "text/plain": [
       "| 31      | 1.39s        | 0.0477781              |"
      ]
     },
     "metadata": {},
     "output_type": "display_data"
    },
    {
     "data": {
      "text/html": [
       "<pre>| 32      | 1.43s        | 0.0468247              |</pre>"
      ],
      "text/plain": [
       "| 32      | 1.43s        | 0.0468247              |"
      ]
     },
     "metadata": {},
     "output_type": "display_data"
    },
    {
     "data": {
      "text/html": [
       "<pre>| 33      | 1.50s        | 0.055522               |</pre>"
      ],
      "text/plain": [
       "| 33      | 1.50s        | 0.055522               |"
      ]
     },
     "metadata": {},
     "output_type": "display_data"
    },
    {
     "data": {
      "text/html": [
       "<pre>| 34      | 1.54s        | 0.0497952              |</pre>"
      ],
      "text/plain": [
       "| 34      | 1.54s        | 0.0497952              |"
      ]
     },
     "metadata": {},
     "output_type": "display_data"
    },
    {
     "data": {
      "text/html": [
       "<pre>| 35      | 1.57s        | 0.0480418              |</pre>"
      ],
      "text/plain": [
       "| 35      | 1.57s        | 0.0480418              |"
      ]
     },
     "metadata": {},
     "output_type": "display_data"
    },
    {
     "data": {
      "text/html": [
       "<pre>| 36      | 1.62s        | 0.0492289              |</pre>"
      ],
      "text/plain": [
       "| 36      | 1.62s        | 0.0492289              |"
      ]
     },
     "metadata": {},
     "output_type": "display_data"
    },
    {
     "data": {
      "text/html": [
       "<pre>| 37      | 1.67s        | 0.0471466              |</pre>"
      ],
      "text/plain": [
       "| 37      | 1.67s        | 0.0471466              |"
      ]
     },
     "metadata": {},
     "output_type": "display_data"
    },
    {
     "data": {
      "text/html": [
       "<pre>| 38      | 1.70s        | 0.0414963              |</pre>"
      ],
      "text/plain": [
       "| 38      | 1.70s        | 0.0414963              |"
      ]
     },
     "metadata": {},
     "output_type": "display_data"
    },
    {
     "data": {
      "text/html": [
       "<pre>| 39      | 1.75s        | 0.0442584              |</pre>"
      ],
      "text/plain": [
       "| 39      | 1.75s        | 0.0442584              |"
      ]
     },
     "metadata": {},
     "output_type": "display_data"
    },
    {
     "data": {
      "text/html": [
       "<pre>| 40      | 1.82s        | 0.0468677              |</pre>"
      ],
      "text/plain": [
       "| 40      | 1.82s        | 0.0468677              |"
      ]
     },
     "metadata": {},
     "output_type": "display_data"
    },
    {
     "data": {
      "text/html": [
       "<pre>| 41      | 1.87s        | 0.0421197              |</pre>"
      ],
      "text/plain": [
       "| 41      | 1.87s        | 0.0421197              |"
      ]
     },
     "metadata": {},
     "output_type": "display_data"
    },
    {
     "data": {
      "text/html": [
       "<pre>| 42      | 1.92s        | 0.0429868              |</pre>"
      ],
      "text/plain": [
       "| 42      | 1.92s        | 0.0429868              |"
      ]
     },
     "metadata": {},
     "output_type": "display_data"
    },
    {
     "data": {
      "text/html": [
       "<pre>| 43      | 1.97s        | 0.0425685              |</pre>"
      ],
      "text/plain": [
       "| 43      | 1.97s        | 0.0425685              |"
      ]
     },
     "metadata": {},
     "output_type": "display_data"
    },
    {
     "data": {
      "text/html": [
       "<pre>| 44      | 2.01s        | 0.0419302              |</pre>"
      ],
      "text/plain": [
       "| 44      | 2.01s        | 0.0419302              |"
      ]
     },
     "metadata": {},
     "output_type": "display_data"
    },
    {
     "data": {
      "text/html": [
       "<pre>| 45      | 2.05s        | 0.0448876              |</pre>"
      ],
      "text/plain": [
       "| 45      | 2.05s        | 0.0448876              |"
      ]
     },
     "metadata": {},
     "output_type": "display_data"
    },
    {
     "data": {
      "text/html": [
       "<pre>| 46      | 2.08s        | 0.043304               |</pre>"
      ],
      "text/plain": [
       "| 46      | 2.08s        | 0.043304               |"
      ]
     },
     "metadata": {},
     "output_type": "display_data"
    },
    {
     "data": {
      "text/html": [
       "<pre>| 47      | 2.13s        | 0.0463066              |</pre>"
      ],
      "text/plain": [
       "| 47      | 2.13s        | 0.0463066              |"
      ]
     },
     "metadata": {},
     "output_type": "display_data"
    },
    {
     "data": {
      "text/html": [
       "<pre>| 48      | 2.16s        | 0.0422541              |</pre>"
      ],
      "text/plain": [
       "| 48      | 2.16s        | 0.0422541              |"
      ]
     },
     "metadata": {},
     "output_type": "display_data"
    },
    {
     "data": {
      "text/html": [
       "<pre>| 49      | 2.20s        | 0.0418639              |</pre>"
      ],
      "text/plain": [
       "| 49      | 2.20s        | 0.0418639              |"
      ]
     },
     "metadata": {},
     "output_type": "display_data"
    },
    {
     "data": {
      "text/html": [
       "<pre>| FINAL   | 2.20s        | 0.0418639              |</pre>"
      ],
      "text/plain": [
       "| FINAL   | 2.20s        | 0.0418639              |"
      ]
     },
     "metadata": {},
     "output_type": "display_data"
    },
    {
     "data": {
      "text/html": [
       "<pre>+---------+--------------+------------------------+</pre>"
      ],
      "text/plain": [
       "+---------+--------------+------------------------+"
      ]
     },
     "metadata": {},
     "output_type": "display_data"
    },
    {
     "data": {
      "text/html": [
       "<pre>Optimization Complete: Iteration limit reached.</pre>"
      ],
      "text/plain": [
       "Optimization Complete: Iteration limit reached."
      ]
     },
     "metadata": {},
     "output_type": "display_data"
    }
   ],
   "source": [
    "\n",
    "predictions_train_dic = {}\n",
    "predictions_valid_dic = {}\n",
    "\n",
    "for i in [100, 1, 0.1, 0.01, 0.0001, 0.00001, 0.000001, 0.0000001, 0.00000001, 0]:\n",
    "    model = graphlab.recommender.factorization_recommender.create(sf_train, user_id='new_user_id', item_id='new_course_id',target='rating',solver='als',side_data_factorization=False, num_factors = 10, regularization=i)\n",
    "    predictions_train = model.predict(sf_train)\n",
    "    predictions_valid = model.predict(sf_validation)\n",
    "    predictions_train_dic[i] = np.sqrt(mean_squared_error(sf_train['rating'], predictions_train))\n",
    "    predictions_valid_dic[i] = np.sqrt(mean_squared_error(sf_validation['rating'], predictions_valid))\n",
    "    "
   ]
  },
  {
   "cell_type": "code",
   "execution_count": 80,
   "metadata": {},
   "outputs": [
    {
     "data": {
      "text/plain": [
       "<matplotlib.legend.Legend at 0x7f15bd7a9050>"
      ]
     },
     "execution_count": 80,
     "metadata": {},
     "output_type": "execute_result"
    },
    {
     "data": {
      "image/png": "[encoded data removed]",
      "text/plain": [
       "<matplotlib.figure.Figure at 0x7f159c15b810>"
      ]
     },
     "metadata": {},
     "output_type": "display_data"
    }
   ],
   "source": [
    "plt.plot(predictions_train_dic.keys(), predictions_train_dic.values(), color = \"b\", label = \"training error\")\n",
    "plt.plot(predictions_valid_dic.keys(), predictions_valid_dic.values(), color = \"g\", label = \"validation error\")\n",
    "plt.legend()"
   ]
  },
  {
   "cell_type": "code",
   "execution_count": 81,
   "metadata": {},
   "outputs": [
    {
     "data": {
      "text/plain": [
       "{0: 0.056659468774325143,\n",
       " 1e-08: 0.00075519559174910854,\n",
       " 1e-07: 0.0009937474687785621,\n",
       " 1e-06: 0.0067733386626180675,\n",
       " 1e-05: 0.044143697383411944,\n",
       " 0.0001: 0.31197841957888073,\n",
       " 0.01: 0.60336365417370175,\n",
       " 0.1: 0.60336365417370175,\n",
       " 1: 0.60336365417370175,\n",
       " 100: 0.60336365417370175}"
      ]
     },
     "execution_count": 81,
     "metadata": {},
     "output_type": "execute_result"
    }
   ],
   "source": [
    "predictions_train_dic"
   ]
  },
  {
   "cell_type": "code",
   "execution_count": 82,
   "metadata": {},
   "outputs": [
    {
     "data": {
      "text/plain": [
       "{0: 84.761352083084887,\n",
       " 1e-08: 0.67934911532128039,\n",
       " 1e-07: 0.66185357959643032,\n",
       " 1e-06: 0.67640445799141491,\n",
       " 1e-05: 0.62748768384159548,\n",
       " 0.0001: 0.59008933109015393,\n",
       " 0.01: 0.59895196244260707,\n",
       " 0.1: 0.59895196244260707,\n",
       " 1: 0.59895196244260707,\n",
       " 100: 0.59895196244260707}"
      ]
     },
     "execution_count": 82,
     "metadata": {},
     "output_type": "execute_result"
    }
   ],
   "source": [
    "predictions_valid_dic"
   ]
  },
  {
   "cell_type": "code",
   "execution_count": 13,
   "metadata": {},
   "outputs": [
    {
     "data": {
      "text/html": [
       "<pre>Recsys training: model = factorization_recommender</pre>"
      ],
      "text/plain": [
       "Recsys training: model = factorization_recommender"
      ]
     },
     "metadata": {},
     "output_type": "display_data"
    },
    {
     "data": {
      "text/html": [
       "<pre>Preparing data set.</pre>"
      ],
      "text/plain": [
       "Preparing data set."
      ]
     },
     "metadata": {},
     "output_type": "display_data"
    },
    {
     "data": {
      "text/html": [
       "<pre>    Data has 24756 observations with 12294 users and 894 items.</pre>"
      ],
      "text/plain": [
       "    Data has 24756 observations with 12294 users and 894 items."
      ]
     },
     "metadata": {},
     "output_type": "display_data"
    },
    {
     "data": {
      "text/html": [
       "<pre>    Data prepared in: 0.045248s</pre>"
      ],
      "text/plain": [
       "    Data prepared in: 0.045248s"
      ]
     },
     "metadata": {},
     "output_type": "display_data"
    },
    {
     "data": {
      "text/html": [
       "<pre>Training factorization_recommender for recommendations.</pre>"
      ],
      "text/plain": [
       "Training factorization_recommender for recommendations."
      ]
     },
     "metadata": {},
     "output_type": "display_data"
    },
    {
     "data": {
      "text/html": [
       "<pre>+------------------------------+--------------------------------------------------+----------+</pre>"
      ],
      "text/plain": [
       "+------------------------------+--------------------------------------------------+----------+"
      ]
     },
     "metadata": {},
     "output_type": "display_data"
    },
    {
     "data": {
      "text/html": [
       "<pre>| Parameter                    | Description                                      | Value    |</pre>"
      ],
      "text/plain": [
       "| Parameter                    | Description                                      | Value    |"
      ]
     },
     "metadata": {},
     "output_type": "display_data"
    },
    {
     "data": {
      "text/html": [
       "<pre>+------------------------------+--------------------------------------------------+----------+</pre>"
      ],
      "text/plain": [
       "+------------------------------+--------------------------------------------------+----------+"
      ]
     },
     "metadata": {},
     "output_type": "display_data"
    },
    {
     "data": {
      "text/html": [
       "<pre>| num_factors                  | Factor Dimension                                 | 10       |</pre>"
      ],
      "text/plain": [
       "| num_factors                  | Factor Dimension                                 | 10       |"
      ]
     },
     "metadata": {},
     "output_type": "display_data"
    },
    {
     "data": {
      "text/html": [
       "<pre>| regularization               | L2 Regularization on Factors                     | 0.1      |</pre>"
      ],
      "text/plain": [
       "| regularization               | L2 Regularization on Factors                     | 0.1      |"
      ]
     },
     "metadata": {},
     "output_type": "display_data"
    },
    {
     "data": {
      "text/html": [
       "<pre>| max_iterations               | Maximum Number of Iterations                     | 50       |</pre>"
      ],
      "text/plain": [
       "| max_iterations               | Maximum Number of Iterations                     | 50       |"
      ]
     },
     "metadata": {},
     "output_type": "display_data"
    },
    {
     "data": {
      "text/html": [
       "<pre>| solver                       | Solver used for training                         | als      |</pre>"
      ],
      "text/plain": [
       "| solver                       | Solver used for training                         | als      |"
      ]
     },
     "metadata": {},
     "output_type": "display_data"
    },
    {
     "data": {
      "text/html": [
       "<pre>+------------------------------+--------------------------------------------------+----------+</pre>"
      ],
      "text/plain": [
       "+------------------------------+--------------------------------------------------+----------+"
      ]
     },
     "metadata": {},
     "output_type": "display_data"
    },
    {
     "data": {
      "text/html": [
       "<pre>+---------+--------------+------------------------+</pre>"
      ],
      "text/plain": [
       "+---------+--------------+------------------------+"
      ]
     },
     "metadata": {},
     "output_type": "display_data"
    },
    {
     "data": {
      "text/html": [
       "<pre>| Iter.   | Elapsed time | RMSE                   |</pre>"
      ],
      "text/plain": [
       "| Iter.   | Elapsed time | RMSE                   |"
      ]
     },
     "metadata": {},
     "output_type": "display_data"
    },
    {
     "data": {
      "text/html": [
       "<pre>+---------+--------------+------------------------+</pre>"
      ],
      "text/plain": [
       "+---------+--------------+------------------------+"
      ]
     },
     "metadata": {},
     "output_type": "display_data"
    },
    {
     "data": {
      "text/html": [
       "<pre>| Initial | 70us         | NA                     |</pre>"
      ],
      "text/plain": [
       "| Initial | 70us         | NA                     |"
      ]
     },
     "metadata": {},
     "output_type": "display_data"
    },
    {
     "data": {
      "text/html": [
       "<pre>+---------+--------------+------------------------+</pre>"
      ],
      "text/plain": [
       "+---------+--------------+------------------------+"
      ]
     },
     "metadata": {},
     "output_type": "display_data"
    },
    {
     "data": {
      "text/html": [
       "<pre>| 0       | 57.124ms     | 0.598309               |</pre>"
      ],
      "text/plain": [
       "| 0       | 57.124ms     | 0.598309               |"
      ]
     },
     "metadata": {},
     "output_type": "display_data"
    },
    {
     "data": {
      "text/html": [
       "<pre>| 1       | 122.906ms    | 0.598309               |</pre>"
      ],
      "text/plain": [
       "| 1       | 122.906ms    | 0.598309               |"
      ]
     },
     "metadata": {},
     "output_type": "display_data"
    },
    {
     "data": {
      "text/html": [
       "<pre>| 2       | 167.154ms    | 0.598309               |</pre>"
      ],
      "text/plain": [
       "| 2       | 167.154ms    | 0.598309               |"
      ]
     },
     "metadata": {},
     "output_type": "display_data"
    },
    {
     "data": {
      "text/html": [
       "<pre>| 3       | 238.72ms     | 0.598309               |</pre>"
      ],
      "text/plain": [
       "| 3       | 238.72ms     | 0.598309               |"
      ]
     },
     "metadata": {},
     "output_type": "display_data"
    },
    {
     "data": {
      "text/html": [
       "<pre>| 4       | 289.017ms    | 0.598309               |</pre>"
      ],
      "text/plain": [
       "| 4       | 289.017ms    | 0.598309               |"
      ]
     },
     "metadata": {},
     "output_type": "display_data"
    },
    {
     "data": {
      "text/html": [
       "<pre>| 5       | 324.687ms    | 0.598309               |</pre>"
      ],
      "text/plain": [
       "| 5       | 324.687ms    | 0.598309               |"
      ]
     },
     "metadata": {},
     "output_type": "display_data"
    },
    {
     "data": {
      "text/html": [
       "<pre>| 6       | 375.432ms    | 0.598309               |</pre>"
      ],
      "text/plain": [
       "| 6       | 375.432ms    | 0.598309               |"
      ]
     },
     "metadata": {},
     "output_type": "display_data"
    },
    {
     "data": {
      "text/html": [
       "<pre>| 7       | 421.288ms    | 0.598309               |</pre>"
      ],
      "text/plain": [
       "| 7       | 421.288ms    | 0.598309               |"
      ]
     },
     "metadata": {},
     "output_type": "display_data"
    },
    {
     "data": {
      "text/html": [
       "<pre>| 8       | 476.348ms    | 0.598309               |</pre>"
      ],
      "text/plain": [
       "| 8       | 476.348ms    | 0.598309               |"
      ]
     },
     "metadata": {},
     "output_type": "display_data"
    },
    {
     "data": {
      "text/html": [
       "<pre>| 9       | 509.572ms    | 0.598309               |</pre>"
      ],
      "text/plain": [
       "| 9       | 509.572ms    | 0.598309               |"
      ]
     },
     "metadata": {},
     "output_type": "display_data"
    },
    {
     "data": {
      "text/html": [
       "<pre>| 10      | 570.323ms    | 0.598309               |</pre>"
      ],
      "text/plain": [
       "| 10      | 570.323ms    | 0.598309               |"
      ]
     },
     "metadata": {},
     "output_type": "display_data"
    },
    {
     "data": {
      "text/html": [
       "<pre>| 11      | 605.62ms     | 0.598309               |</pre>"
      ],
      "text/plain": [
       "| 11      | 605.62ms     | 0.598309               |"
      ]
     },
     "metadata": {},
     "output_type": "display_data"
    },
    {
     "data": {
      "text/html": [
       "<pre>| 12      | 651.646ms    | 0.598309               |</pre>"
      ],
      "text/plain": [
       "| 12      | 651.646ms    | 0.598309               |"
      ]
     },
     "metadata": {},
     "output_type": "display_data"
    },
    {
     "data": {
      "text/html": [
       "<pre>| 13      | 693.009ms    | 0.598309               |</pre>"
      ],
      "text/plain": [
       "| 13      | 693.009ms    | 0.598309               |"
      ]
     },
     "metadata": {},
     "output_type": "display_data"
    },
    {
     "data": {
      "text/html": [
       "<pre>| 14      | 730.015ms    | 0.598309               |</pre>"
      ],
      "text/plain": [
       "| 14      | 730.015ms    | 0.598309               |"
      ]
     },
     "metadata": {},
     "output_type": "display_data"
    },
    {
     "data": {
      "text/html": [
       "<pre>| 15      | 773.758ms    | 0.598309               |</pre>"
      ],
      "text/plain": [
       "| 15      | 773.758ms    | 0.598309               |"
      ]
     },
     "metadata": {},
     "output_type": "display_data"
    },
    {
     "data": {
      "text/html": [
       "<pre>| 16      | 816.784ms    | 0.598309               |</pre>"
      ],
      "text/plain": [
       "| 16      | 816.784ms    | 0.598309               |"
      ]
     },
     "metadata": {},
     "output_type": "display_data"
    },
    {
     "data": {
      "text/html": [
       "<pre>| 17      | 867.848ms    | 0.598309               |</pre>"
      ],
      "text/plain": [
       "| 17      | 867.848ms    | 0.598309               |"
      ]
     },
     "metadata": {},
     "output_type": "display_data"
    },
    {
     "data": {
      "text/html": [
       "<pre>| 18      | 908.464ms    | 0.598309               |</pre>"
      ],
      "text/plain": [
       "| 18      | 908.464ms    | 0.598309               |"
      ]
     },
     "metadata": {},
     "output_type": "display_data"
    },
    {
     "data": {
      "text/html": [
       "<pre>| 19      | 946.539ms    | 0.598309               |</pre>"
      ],
      "text/plain": [
       "| 19      | 946.539ms    | 0.598309               |"
      ]
     },
     "metadata": {},
     "output_type": "display_data"
    },
    {
     "data": {
      "text/html": [
       "<pre>| 20      | 987.416ms    | 0.598309               |</pre>"
      ],
      "text/plain": [
       "| 20      | 987.416ms    | 0.598309               |"
      ]
     },
     "metadata": {},
     "output_type": "display_data"
    },
    {
     "data": {
      "text/html": [
       "<pre>| 21      | 1.02s        | 0.598309               |</pre>"
      ],
      "text/plain": [
       "| 21      | 1.02s        | 0.598309               |"
      ]
     },
     "metadata": {},
     "output_type": "display_data"
    },
    {
     "data": {
      "text/html": [
       "<pre>| 22      | 1.08s        | 0.598309               |</pre>"
      ],
      "text/plain": [
       "| 22      | 1.08s        | 0.598309               |"
      ]
     },
     "metadata": {},
     "output_type": "display_data"
    },
    {
     "data": {
      "text/html": [
       "<pre>| 23      | 1.13s        | 0.598309               |</pre>"
      ],
      "text/plain": [
       "| 23      | 1.13s        | 0.598309               |"
      ]
     },
     "metadata": {},
     "output_type": "display_data"
    },
    {
     "data": {
      "text/html": [
       "<pre>| 24      | 1.18s        | 0.598309               |</pre>"
      ],
      "text/plain": [
       "| 24      | 1.18s        | 0.598309               |"
      ]
     },
     "metadata": {},
     "output_type": "display_data"
    },
    {
     "data": {
      "text/html": [
       "<pre>| 25      | 1.23s        | 0.598309               |</pre>"
      ],
      "text/plain": [
       "| 25      | 1.23s        | 0.598309               |"
      ]
     },
     "metadata": {},
     "output_type": "display_data"
    },
    {
     "data": {
      "text/html": [
       "<pre>| 26      | 1.26s        | 0.598309               |</pre>"
      ],
      "text/plain": [
       "| 26      | 1.26s        | 0.598309               |"
      ]
     },
     "metadata": {},
     "output_type": "display_data"
    },
    {
     "data": {
      "text/html": [
       "<pre>| 27      | 1.31s        | 0.598309               |</pre>"
      ],
      "text/plain": [
       "| 27      | 1.31s        | 0.598309               |"
      ]
     },
     "metadata": {},
     "output_type": "display_data"
    },
    {
     "data": {
      "text/html": [
       "<pre>| 28      | 1.36s        | 0.598309               |</pre>"
      ],
      "text/plain": [
       "| 28      | 1.36s        | 0.598309               |"
      ]
     },
     "metadata": {},
     "output_type": "display_data"
    },
    {
     "data": {
      "text/html": [
       "<pre>| 29      | 1.40s        | 0.598309               |</pre>"
      ],
      "text/plain": [
       "| 29      | 1.40s        | 0.598309               |"
      ]
     },
     "metadata": {},
     "output_type": "display_data"
    },
    {
     "data": {
      "text/html": [
       "<pre>| 30      | 1.44s        | 0.598309               |</pre>"
      ],
      "text/plain": [
       "| 30      | 1.44s        | 0.598309               |"
      ]
     },
     "metadata": {},
     "output_type": "display_data"
    },
    {
     "data": {
      "text/html": [
       "<pre>| 31      | 1.48s        | 0.598309               |</pre>"
      ],
      "text/plain": [
       "| 31      | 1.48s        | 0.598309               |"
      ]
     },
     "metadata": {},
     "output_type": "display_data"
    },
    {
     "data": {
      "text/html": [
       "<pre>| 32      | 1.53s        | 0.598309               |</pre>"
      ],
      "text/plain": [
       "| 32      | 1.53s        | 0.598309               |"
      ]
     },
     "metadata": {},
     "output_type": "display_data"
    },
    {
     "data": {
      "text/html": [
       "<pre>| 33      | 1.59s        | 0.598309               |</pre>"
      ],
      "text/plain": [
       "| 33      | 1.59s        | 0.598309               |"
      ]
     },
     "metadata": {},
     "output_type": "display_data"
    },
    {
     "data": {
      "text/html": [
       "<pre>| 34      | 1.63s        | 0.598309               |</pre>"
      ],
      "text/plain": [
       "| 34      | 1.63s        | 0.598309               |"
      ]
     },
     "metadata": {},
     "output_type": "display_data"
    },
    {
     "data": {
      "text/html": [
       "<pre>| 35      | 1.67s        | 0.598309               |</pre>"
      ],
      "text/plain": [
       "| 35      | 1.67s        | 0.598309               |"
      ]
     },
     "metadata": {},
     "output_type": "display_data"
    },
    {
     "data": {
      "text/html": [
       "<pre>| 36      | 1.71s        | 0.598309               |</pre>"
      ],
      "text/plain": [
       "| 36      | 1.71s        | 0.598309               |"
      ]
     },
     "metadata": {},
     "output_type": "display_data"
    },
    {
     "data": {
      "text/html": [
       "<pre>| 37      | 1.75s        | 0.598309               |</pre>"
      ],
      "text/plain": [
       "| 37      | 1.75s        | 0.598309               |"
      ]
     },
     "metadata": {},
     "output_type": "display_data"
    },
    {
     "data": {
      "text/html": [
       "<pre>| 38      | 1.79s        | 0.598309               |</pre>"
      ],
      "text/plain": [
       "| 38      | 1.79s        | 0.598309               |"
      ]
     },
     "metadata": {},
     "output_type": "display_data"
    },
    {
     "data": {
      "text/html": [
       "<pre>| 39      | 1.83s        | 0.598309               |</pre>"
      ],
      "text/plain": [
       "| 39      | 1.83s        | 0.598309               |"
      ]
     },
     "metadata": {},
     "output_type": "display_data"
    },
    {
     "data": {
      "text/html": [
       "<pre>| 40      | 1.87s        | 0.598309               |</pre>"
      ],
      "text/plain": [
       "| 40      | 1.87s        | 0.598309               |"
      ]
     },
     "metadata": {},
     "output_type": "display_data"
    },
    {
     "data": {
      "text/html": [
       "<pre>| 41      | 1.90s        | 0.598309               |</pre>"
      ],
      "text/plain": [
       "| 41      | 1.90s        | 0.598309               |"
      ]
     },
     "metadata": {},
     "output_type": "display_data"
    },
    {
     "data": {
      "text/html": [
       "<pre>| 42      | 1.95s        | 0.598309               |</pre>"
      ],
      "text/plain": [
       "| 42      | 1.95s        | 0.598309               |"
      ]
     },
     "metadata": {},
     "output_type": "display_data"
    },
    {
     "data": {
      "text/html": [
       "<pre>| 43      | 1.99s        | 0.598309               |</pre>"
      ],
      "text/plain": [
       "| 43      | 1.99s        | 0.598309               |"
      ]
     },
     "metadata": {},
     "output_type": "display_data"
    },
    {
     "data": {
      "text/html": [
       "<pre>| 44      | 2.02s        | 0.598309               |</pre>"
      ],
      "text/plain": [
       "| 44      | 2.02s        | 0.598309               |"
      ]
     },
     "metadata": {},
     "output_type": "display_data"
    },
    {
     "data": {
      "text/html": [
       "<pre>| 45      | 2.06s        | 0.598309               |</pre>"
      ],
      "text/plain": [
       "| 45      | 2.06s        | 0.598309               |"
      ]
     },
     "metadata": {},
     "output_type": "display_data"
    },
    {
     "data": {
      "text/html": [
       "<pre>| 46      | 2.10s        | 0.598309               |</pre>"
      ],
      "text/plain": [
       "| 46      | 2.10s        | 0.598309               |"
      ]
     },
     "metadata": {},
     "output_type": "display_data"
    },
    {
     "data": {
      "text/html": [
       "<pre>| 47      | 2.14s        | 0.598309               |</pre>"
      ],
      "text/plain": [
       "| 47      | 2.14s        | 0.598309               |"
      ]
     },
     "metadata": {},
     "output_type": "display_data"
    },
    {
     "data": {
      "text/html": [
       "<pre>| 48      | 2.19s        | 0.598309               |</pre>"
      ],
      "text/plain": [
       "| 48      | 2.19s        | 0.598309               |"
      ]
     },
     "metadata": {},
     "output_type": "display_data"
    },
    {
     "data": {
      "text/html": [
       "<pre>| 49      | 2.23s        | 0.598309               |</pre>"
      ],
      "text/plain": [
       "| 49      | 2.23s        | 0.598309               |"
      ]
     },
     "metadata": {},
     "output_type": "display_data"
    },
    {
     "data": {
      "text/html": [
       "<pre>| FINAL   | 2.23s        | 0.598309               |</pre>"
      ],
      "text/plain": [
       "| FINAL   | 2.23s        | 0.598309               |"
      ]
     },
     "metadata": {},
     "output_type": "display_data"
    },
    {
     "data": {
      "text/html": [
       "<pre>+---------+--------------+------------------------+</pre>"
      ],
      "text/plain": [
       "+---------+--------------+------------------------+"
      ]
     },
     "metadata": {},
     "output_type": "display_data"
    },
    {
     "data": {
      "text/html": [
       "<pre>Optimization Complete: Iteration limit reached.</pre>"
      ],
      "text/plain": [
       "Optimization Complete: Iteration limit reached."
      ]
     },
     "metadata": {},
     "output_type": "display_data"
    }
   ],
   "source": [
    "model = graphlab.recommender.factorization_recommender.create(sf_train, user_id='new_user_id', item_id='new_course_id',target='rating',solver='als',side_data_factorization=False, num_factors = 10, regularization=0.1)"
   ]
  },
  {
   "cell_type": "code",
   "execution_count": 85,
   "metadata": {
    "collapsed": true
   },
   "outputs": [],
   "source": [
    "predictions_test = model.predict(sf_test)\n",
    "rmse = np.sqrt(mean_squared_error(sf_test['rating'], predictions_test))"
   ]
  },
  {
   "cell_type": "code",
   "execution_count": 14,
   "metadata": {},
   "outputs": [
    {
     "data": {
      "text/html": [
       "<pre>recommendations finished on 1000/12294 queries. users per second: 5311.21</pre>"
      ],
      "text/plain": [
       "recommendations finished on 1000/12294 queries. users per second: 5311.21"
      ]
     },
     "metadata": {},
     "output_type": "display_data"
    },
    {
     "data": {
      "text/html": [
       "<pre>recommendations finished on 2000/12294 queries. users per second: 10352.2</pre>"
      ],
      "text/plain": [
       "recommendations finished on 2000/12294 queries. users per second: 10352.2"
      ]
     },
     "metadata": {},
     "output_type": "display_data"
    },
    {
     "data": {
      "text/html": [
       "<pre>recommendations finished on 3000/12294 queries. users per second: 15132.9</pre>"
      ],
      "text/plain": [
       "recommendations finished on 3000/12294 queries. users per second: 15132.9"
      ]
     },
     "metadata": {},
     "output_type": "display_data"
    },
    {
     "data": {
      "text/html": [
       "<pre>recommendations finished on 4000/12294 queries. users per second: 19799.3</pre>"
      ],
      "text/plain": [
       "recommendations finished on 4000/12294 queries. users per second: 19799.3"
      ]
     },
     "metadata": {},
     "output_type": "display_data"
    },
    {
     "data": {
      "text/html": [
       "<pre>recommendations finished on 5000/12294 queries. users per second: 24327.9</pre>"
      ],
      "text/plain": [
       "recommendations finished on 5000/12294 queries. users per second: 24327.9"
      ]
     },
     "metadata": {},
     "output_type": "display_data"
    },
    {
     "data": {
      "text/html": [
       "<pre>recommendations finished on 6000/12294 queries. users per second: 28636.5</pre>"
      ],
      "text/plain": [
       "recommendations finished on 6000/12294 queries. users per second: 28636.5"
      ]
     },
     "metadata": {},
     "output_type": "display_data"
    },
    {
     "data": {
      "text/html": [
       "<pre>recommendations finished on 7000/12294 queries. users per second: 32827.2</pre>"
      ],
      "text/plain": [
       "recommendations finished on 7000/12294 queries. users per second: 32827.2"
      ]
     },
     "metadata": {},
     "output_type": "display_data"
    },
    {
     "data": {
      "text/html": [
       "<pre>recommendations finished on 8000/12294 queries. users per second: 36843.1</pre>"
      ],
      "text/plain": [
       "recommendations finished on 8000/12294 queries. users per second: 36843.1"
      ]
     },
     "metadata": {},
     "output_type": "display_data"
    },
    {
     "data": {
      "text/html": [
       "<pre>recommendations finished on 9000/12294 queries. users per second: 40783.8</pre>"
      ],
      "text/plain": [
       "recommendations finished on 9000/12294 queries. users per second: 40783.8"
      ]
     },
     "metadata": {},
     "output_type": "display_data"
    },
    {
     "data": {
      "text/html": [
       "<pre>recommendations finished on 10000/12294 queries. users per second: 44582.9</pre>"
      ],
      "text/plain": [
       "recommendations finished on 10000/12294 queries. users per second: 44582.9"
      ]
     },
     "metadata": {},
     "output_type": "display_data"
    },
    {
     "data": {
      "text/html": [
       "<pre>recommendations finished on 11000/12294 queries. users per second: 48136.3</pre>"
      ],
      "text/plain": [
       "recommendations finished on 11000/12294 queries. users per second: 48136.3"
      ]
     },
     "metadata": {},
     "output_type": "display_data"
    },
    {
     "data": {
      "text/html": [
       "<pre>recommendations finished on 12000/12294 queries. users per second: 50451.8</pre>"
      ],
      "text/plain": [
       "recommendations finished on 12000/12294 queries. users per second: 50451.8"
      ]
     },
     "metadata": {},
     "output_type": "display_data"
    },
    {
     "data": {
      "text/html": [
       "<div style=\"max-height:1000px;max-width:1500px;overflow:auto;\"><table frame=\"box\" rules=\"cols\">\n",
       "    <tr>\n",
       "        <th style=\"padding-left: 1em; padding-right: 1em; text-align: center\">new_user_id</th>\n",
       "        <th style=\"padding-left: 1em; padding-right: 1em; text-align: center\">new_course_id</th>\n",
       "        <th style=\"padding-left: 1em; padding-right: 1em; text-align: center\">score</th>\n",
       "        <th style=\"padding-left: 1em; padding-right: 1em; text-align: center\">rank</th>\n",
       "    </tr>\n",
       "    <tr>\n",
       "        <td style=\"padding-left: 1em; padding-right: 1em; text-align: center; vertical-align: top\">90879</td>\n",
       "        <td style=\"padding-left: 1em; padding-right: 1em; text-align: center; vertical-align: top\">495</td>\n",
       "        <td style=\"padding-left: 1em; padding-right: 1em; text-align: center; vertical-align: top\">4.77225723057</td>\n",
       "        <td style=\"padding-left: 1em; padding-right: 1em; text-align: center; vertical-align: top\">1</td>\n",
       "    </tr>\n",
       "    <tr>\n",
       "        <td style=\"padding-left: 1em; padding-right: 1em; text-align: center; vertical-align: top\">90879</td>\n",
       "        <td style=\"padding-left: 1em; padding-right: 1em; text-align: center; vertical-align: top\">555</td>\n",
       "        <td style=\"padding-left: 1em; padding-right: 1em; text-align: center; vertical-align: top\">4.77225723057</td>\n",
       "        <td style=\"padding-left: 1em; padding-right: 1em; text-align: center; vertical-align: top\">2</td>\n",
       "    </tr>\n",
       "    <tr>\n",
       "        <td style=\"padding-left: 1em; padding-right: 1em; text-align: center; vertical-align: top\">90879</td>\n",
       "        <td style=\"padding-left: 1em; padding-right: 1em; text-align: center; vertical-align: top\">594</td>\n",
       "        <td style=\"padding-left: 1em; padding-right: 1em; text-align: center; vertical-align: top\">4.77225723057</td>\n",
       "        <td style=\"padding-left: 1em; padding-right: 1em; text-align: center; vertical-align: top\">3</td>\n",
       "    </tr>\n",
       "    <tr>\n",
       "        <td style=\"padding-left: 1em; padding-right: 1em; text-align: center; vertical-align: top\">90879</td>\n",
       "        <td style=\"padding-left: 1em; padding-right: 1em; text-align: center; vertical-align: top\">342</td>\n",
       "        <td style=\"padding-left: 1em; padding-right: 1em; text-align: center; vertical-align: top\">4.77225723057</td>\n",
       "        <td style=\"padding-left: 1em; padding-right: 1em; text-align: center; vertical-align: top\">4</td>\n",
       "    </tr>\n",
       "    <tr>\n",
       "        <td style=\"padding-left: 1em; padding-right: 1em; text-align: center; vertical-align: top\">90879</td>\n",
       "        <td style=\"padding-left: 1em; padding-right: 1em; text-align: center; vertical-align: top\">803</td>\n",
       "        <td style=\"padding-left: 1em; padding-right: 1em; text-align: center; vertical-align: top\">4.77225723057</td>\n",
       "        <td style=\"padding-left: 1em; padding-right: 1em; text-align: center; vertical-align: top\">5</td>\n",
       "    </tr>\n",
       "    <tr>\n",
       "        <td style=\"padding-left: 1em; padding-right: 1em; text-align: center; vertical-align: top\">90879</td>\n",
       "        <td style=\"padding-left: 1em; padding-right: 1em; text-align: center; vertical-align: top\">614</td>\n",
       "        <td style=\"padding-left: 1em; padding-right: 1em; text-align: center; vertical-align: top\">4.77225723057</td>\n",
       "        <td style=\"padding-left: 1em; padding-right: 1em; text-align: center; vertical-align: top\">6</td>\n",
       "    </tr>\n",
       "    <tr>\n",
       "        <td style=\"padding-left: 1em; padding-right: 1em; text-align: center; vertical-align: top\">90879</td>\n",
       "        <td style=\"padding-left: 1em; padding-right: 1em; text-align: center; vertical-align: top\">418</td>\n",
       "        <td style=\"padding-left: 1em; padding-right: 1em; text-align: center; vertical-align: top\">4.77225723057</td>\n",
       "        <td style=\"padding-left: 1em; padding-right: 1em; text-align: center; vertical-align: top\">7</td>\n",
       "    </tr>\n",
       "    <tr>\n",
       "        <td style=\"padding-left: 1em; padding-right: 1em; text-align: center; vertical-align: top\">90879</td>\n",
       "        <td style=\"padding-left: 1em; padding-right: 1em; text-align: center; vertical-align: top\">644</td>\n",
       "        <td style=\"padding-left: 1em; padding-right: 1em; text-align: center; vertical-align: top\">4.77225723057</td>\n",
       "        <td style=\"padding-left: 1em; padding-right: 1em; text-align: center; vertical-align: top\">8</td>\n",
       "    </tr>\n",
       "    <tr>\n",
       "        <td style=\"padding-left: 1em; padding-right: 1em; text-align: center; vertical-align: top\">90879</td>\n",
       "        <td style=\"padding-left: 1em; padding-right: 1em; text-align: center; vertical-align: top\">266</td>\n",
       "        <td style=\"padding-left: 1em; padding-right: 1em; text-align: center; vertical-align: top\">4.77225723057</td>\n",
       "        <td style=\"padding-left: 1em; padding-right: 1em; text-align: center; vertical-align: top\">9</td>\n",
       "    </tr>\n",
       "    <tr>\n",
       "        <td style=\"padding-left: 1em; padding-right: 1em; text-align: center; vertical-align: top\">90879</td>\n",
       "        <td style=\"padding-left: 1em; padding-right: 1em; text-align: center; vertical-align: top\">365</td>\n",
       "        <td style=\"padding-left: 1em; padding-right: 1em; text-align: center; vertical-align: top\">4.77225723057</td>\n",
       "        <td style=\"padding-left: 1em; padding-right: 1em; text-align: center; vertical-align: top\">10</td>\n",
       "    </tr>\n",
       "</table>\n",
       "[122940 rows x 4 columns]<br/>Note: Only the head of the SFrame is printed.<br/>You can use print_rows(num_rows=m, num_columns=n) to print more rows and columns.\n",
       "</div>"
      ],
      "text/plain": [
       "Columns:\n",
       "\tnew_user_id\tint\n",
       "\tnew_course_id\tint\n",
       "\tscore\tfloat\n",
       "\trank\tint\n",
       "\n",
       "Rows: 122940\n",
       "\n",
       "Data:\n",
       "+-------------+---------------+---------------+------+\n",
       "| new_user_id | new_course_id |     score     | rank |\n",
       "+-------------+---------------+---------------+------+\n",
       "|    90879    |      495      | 4.77225723057 |  1   |\n",
       "|    90879    |      555      | 4.77225723057 |  2   |\n",
       "|    90879    |      594      | 4.77225723057 |  3   |\n",
       "|    90879    |      342      | 4.77225723057 |  4   |\n",
       "|    90879    |      803      | 4.77225723057 |  5   |\n",
       "|    90879    |      614      | 4.77225723057 |  6   |\n",
       "|    90879    |      418      | 4.77225723057 |  7   |\n",
       "|    90879    |      644      | 4.77225723057 |  8   |\n",
       "|    90879    |      266      | 4.77225723057 |  9   |\n",
       "|    90879    |      365      | 4.77225723057 |  10  |\n",
       "+-------------+---------------+---------------+------+\n",
       "[122940 rows x 4 columns]\n",
       "Note: Only the head of the SFrame is printed.\n",
       "You can use print_rows(num_rows=m, num_columns=n) to print more rows and columns."
      ]
     },
     "execution_count": 14,
     "metadata": {},
     "output_type": "execute_result"
    }
   ],
   "source": [
    "model.recommend()"
   ]
  },
  {
   "cell_type": "code",
   "execution_count": 86,
   "metadata": {},
   "outputs": [
    {
     "name": "stdout",
     "output_type": "stream",
     "text": [
      "test set rmse:  0.610682911218\n"
     ]
    }
   ],
   "source": [
    "print \"test set rmse: \", rmse"
   ]
  },
  {
   "cell_type": "code",
   "execution_count": 13,
   "metadata": {},
   "outputs": [
    {
     "data": {
      "text/plain": [
       "(24756, 37)"
      ]
     },
     "execution_count": 13,
     "metadata": {},
     "output_type": "execute_result"
    }
   ],
   "source": [
    "train_df.shape"
   ]
  },
  {
   "cell_type": "code",
   "execution_count": 53,
   "metadata": {
    "collapsed": true
   },
   "outputs": [],
   "source": [
    "train_df = train_df[train_df[\"published_title\"].notnull()]"
   ]
  },
  {
   "cell_type": "code",
   "execution_count": 54,
   "metadata": {},
   "outputs": [
    {
     "data": {
      "text/plain": [
       "(24756, 37)"
      ]
     },
     "execution_count": 54,
     "metadata": {},
     "output_type": "execute_result"
    }
   ],
   "source": [
    "train_df.shape"
   ]
  },
  {
   "cell_type": "code",
   "execution_count": 8,
   "metadata": {
    "collapsed": true
   },
   "outputs": [],
   "source": [
    "#def is_ascii(s):\n",
    "    #return all(ord(c) < 128 for c in s)"
   ]
  },
  {
   "cell_type": "code",
   "execution_count": 9,
   "metadata": {
    "collapsed": true
   },
   "outputs": [],
   "source": [
    "#train_df[\"valid_char\"] = train_df[\"content\"].apply(is_ascii)"
   ]
  },
  {
   "cell_type": "code",
   "execution_count": 28,
   "metadata": {
    "collapsed": true
   },
   "outputs": [],
   "source": [
    "#train_df = train_df[train_df[\"valid_char\"] == True]"
   ]
  },
  {
   "cell_type": "code",
   "execution_count": 33,
   "metadata": {
    "collapsed": true
   },
   "outputs": [],
   "source": [
    "stop = set(stopwords.words('english'))\n",
    "stop.add(\"learn\")\n",
    "stop.add(\"course\")\n",
    "stop.add(\"complete\")\n",
    "stop.add(\"understand\")\n",
    "exclude = set(string.punctuation)\n",
    "lemma = WordNetLemmatizer()"
   ]
  },
  {
   "cell_type": "code",
   "execution_count": 34,
   "metadata": {
    "collapsed": true
   },
   "outputs": [],
   "source": [
    "def clean(doc):\n",
    "    doc = doc.lower().split(\"-\")\n",
    "    doc = [i for i in doc if i.isalpha()]\n",
    "    doc = [i for i in doc if i not in stop]\n",
    "    doc = [ch for ch in doc if ch not in exclude]\n",
    "    doc = [lemma.lemmatize(word) for word in doc]\n",
    "    return doc"
   ]
  },
  {
   "cell_type": "code",
   "execution_count": 69,
   "metadata": {},
   "outputs": [
    {
     "name": "stderr",
     "output_type": "stream",
     "text": [
      "/home/anusha/anaconda2/lib/python2.7/site-packages/ipykernel_launcher.py:1: SettingWithCopyWarning: \n",
      "A value is trying to be set on a copy of a slice from a DataFrame.\n",
      "Try using .loc[row_indexer,col_indexer] = value instead\n",
      "\n",
      "See the caveats in the documentation: http://pandas.pydata.org/pandas-docs/stable/indexing.html#indexing-view-versus-copy\n",
      "  \"\"\"Entry point for launching an IPython kernel.\n"
     ]
    }
   ],
   "source": [
    "reg[\"title_clean\"] = reg[\"published_title\"].apply(clean)"
   ]
  },
  {
   "cell_type": "code",
   "execution_count": 70,
   "metadata": {
    "collapsed": true
   },
   "outputs": [],
   "source": [
    "title = reg.title_clean.tolist()"
   ]
  },
  {
   "cell_type": "code",
   "execution_count": 71,
   "metadata": {
    "collapsed": true
   },
   "outputs": [],
   "source": [
    "dictionary = corpora.Dictionary(title)"
   ]
  },
  {
   "cell_type": "code",
   "execution_count": 72,
   "metadata": {
    "collapsed": true
   },
   "outputs": [],
   "source": [
    "doc_term_matrix = [dictionary.doc2bow(doc) for doc in title]"
   ]
  },
  {
   "cell_type": "code",
   "execution_count": 73,
   "metadata": {
    "collapsed": true
   },
   "outputs": [],
   "source": [
    "Lda = gensim.models.ldamodel.LdaModel"
   ]
  },
  {
   "cell_type": "code",
   "execution_count": 74,
   "metadata": {
    "collapsed": true
   },
   "outputs": [],
   "source": [
    "ldamodel = Lda(doc_term_matrix, num_topics=16, id2word = dictionary, passes=30)"
   ]
  },
  {
   "cell_type": "code",
   "execution_count": 75,
   "metadata": {},
   "outputs": [
    {
     "data": {
      "text/plain": [
       "[(0,\n",
       "  u'0.104*\"linux\" + 0.058*\"fundamental\" + 0.057*\"ccna\" + 0.044*\"day\" + 0.044*\"administration\" + 0.042*\"r\" + 0.039*\"mysql\" + 0.034*\"angularjs\" + 0.033*\"analytics\" + 0.029*\"command\"'),\n",
       " (1,\n",
       "  u'0.235*\"beginner\" + 0.152*\"tutorial\" + 0.137*\"security\" + 0.058*\"react\" + 0.053*\"internet\" + 0.050*\"privacy\" + 0.050*\"volume\" + 0.033*\"redux\" + 0.018*\"spring\" + 0.017*\"aspnet\"'),\n",
       " (2,\n",
       "  u'0.169*\"programming\" + 0.098*\"mastery\" + 0.075*\"facebook\" + 0.066*\"swift\" + 0.063*\"best\" + 0.060*\"io\" + 0.054*\"c\" + 0.046*\"ad\" + 0.041*\"production\" + 0.038*\"page\"'),\n",
       " (3,\n",
       "  u'0.222*\"business\" + 0.103*\"home\" + 0.083*\"php\" + 0.066*\"wordpress\" + 0.058*\"work\" + 0.033*\"money\" + 0.033*\"unitycourse\" + 0.030*\"devslopes\" + 0.019*\"successful\" + 0.017*\"copywriter\"'),\n",
       " (4,\n",
       "  u'0.108*\"javascript\" + 0.056*\"basic\" + 0.035*\"reading\" + 0.033*\"memory\" + 0.031*\"speed\" + 0.028*\"dowsing\" + 0.028*\"accelerated\" + 0.027*\"wireshark\" + 0.027*\"linuxforbeginners\" + 0.026*\"easy\"'),\n",
       " (5,\n",
       "  u'0.108*\"life\" + 0.088*\"training\" + 0.057*\"coach\" + 0.052*\"step\" + 0.047*\"google\" + 0.044*\"video\" + 0.040*\"language\" + 0.039*\"seo\" + 0.038*\"photoshop\" + 0.032*\"adwords\"'),\n",
       " (6,\n",
       "  u'0.119*\"design\" + 0.113*\"bootcamp\" + 0.103*\"java\" + 0.088*\"scratch\" + 0.066*\"hacking\" + 0.065*\"sql\" + 0.060*\"website\" + 0.058*\"object\" + 0.043*\"oriented\" + 0.034*\"ethical\"'),\n",
       " (7,\n",
       "  u'0.173*\"developer\" + 0.143*\"web\" + 0.039*\"kindle\" + 0.026*\"cbt\" + 0.026*\"psychic\" + 0.021*\"blueprint\" + 0.020*\"backtesting\" + 0.020*\"counsellor\" + 0.020*\"therapist\" + 0.020*\"train\"'),\n",
       " (8,\n",
       "  u'0.246*\"guide\" + 0.092*\"photography\" + 0.089*\"angular\" + 0.079*\"code\" + 0.035*\"crash\" + 0.035*\"practical\" + 0.025*\"music\" + 0.019*\"theory\" + 0.018*\"practice\" + 0.016*\"dev\"'),\n",
       " (9,\n",
       "  u'0.192*\"python\" + 0.118*\"data\" + 0.077*\"learning\" + 0.047*\"certified\" + 0.047*\"big\" + 0.044*\"science\" + 0.037*\"hand\" + 0.030*\"associate\" + 0.028*\"analysis\" + 0.026*\"hadoop\"'),\n",
       " (10,\n",
       "  u'0.095*\"reikicourse\" + 0.092*\"master\" + 0.068*\"build\" + 0.056*\"reiki\" + 0.036*\"crystal\" + 0.028*\"read\" + 0.026*\"tarot\" + 0.024*\"professional\" + 0.022*\"apple\" + 0.021*\"chakra\"'),\n",
       " (11,\n",
       "  u'0.103*\"become\" + 0.084*\"ultimate\" + 0.058*\"make\" + 0.057*\"game\" + 0.053*\"development\" + 0.048*\"pro\" + 0.041*\"art\" + 0.038*\"project\" + 0.031*\"android\" + 0.026*\"using\"'),\n",
       " (12,\n",
       "  u'0.173*\"certification\" + 0.087*\"marketing\" + 0.052*\"system\" + 0.050*\"writing\" + 0.045*\"selenium\" + 0.042*\"comptia\" + 0.038*\"reiki\" + 0.038*\"network\" + 0.034*\"animal\" + 0.033*\"total\"'),\n",
       " (13,\n",
       "  u'0.104*\"advanced\" + 0.070*\"amazon\" + 0.046*\"trading\" + 0.044*\"class\" + 0.041*\"csharp\" + 0.038*\"level\" + 0.032*\"write\" + 0.029*\"selling\" + 0.026*\"product\" + 0.024*\"intermediate\"'),\n",
       " (14,\n",
       "  u'0.142*\"excel\" + 0.073*\"online\" + 0.068*\"microsoft\" + 0.058*\"start\" + 0.043*\"adobe\" + 0.036*\"create\" + 0.028*\"sell\" + 0.019*\"teach\" + 0.018*\"creation\" + 0.018*\"server\"'),\n",
       " (15,\n",
       "  u'0.078*\"testing\" + 0.073*\"secret\" + 0.073*\"coaching\" + 0.059*\"penetration\" + 0.049*\"success\" + 0.048*\"masterclass\" + 0.042*\"confidence\" + 0.041*\"self\" + 0.040*\"nodejs\" + 0.032*\"time\"')]"
      ]
     },
     "execution_count": 75,
     "metadata": {},
     "output_type": "execute_result"
    }
   ],
   "source": [
    "ldamodel.print_topics()"
   ]
  },
  {
   "cell_type": "code",
   "execution_count": 76,
   "metadata": {
    "collapsed": true
   },
   "outputs": [],
   "source": [
    "title_category = {}\n",
    "for i, t in enumerate(title):\n",
    "    topic = max(ldamodel.get_document_topics(dictionary.doc2bow(t)), key = lambda j: j[1])\n",
    "    title_category[i] = topic[0]  \n",
    "        "
   ]
  },
  {
   "cell_type": "code",
   "execution_count": 77,
   "metadata": {},
   "outputs": [
    {
     "data": {
      "text/plain": [
       "47583"
      ]
     },
     "execution_count": 77,
     "metadata": {},
     "output_type": "execute_result"
    }
   ],
   "source": [
    "len(title_category)"
   ]
  },
  {
   "cell_type": "code",
   "execution_count": 78,
   "metadata": {},
   "outputs": [
    {
     "data": {
      "text/plain": [
       "0"
      ]
     },
     "execution_count": 78,
     "metadata": {},
     "output_type": "execute_result"
    }
   ],
   "source": [
    "title_category[0]"
   ]
  },
  {
   "cell_type": "code",
   "execution_count": 80,
   "metadata": {},
   "outputs": [
    {
     "name": "stderr",
     "output_type": "stream",
     "text": [
      "/home/anusha/anaconda2/lib/python2.7/site-packages/ipykernel_launcher.py:1: SettingWithCopyWarning: \n",
      "A value is trying to be set on a copy of a slice from a DataFrame.\n",
      "Try using .loc[row_indexer,col_indexer] = value instead\n",
      "\n",
      "See the caveats in the documentation: http://pandas.pydata.org/pandas-docs/stable/indexing.html#indexing-view-versus-copy\n",
      "  \"\"\"Entry point for launching an IPython kernel.\n"
     ]
    }
   ],
   "source": [
    "reg[\"topic\"] = title_category.values()"
   ]
  },
  {
   "cell_type": "code",
   "execution_count": 81,
   "metadata": {
    "collapsed": true
   },
   "outputs": [],
   "source": [
    "reg.to_csv(\"reg_lda\")"
   ]
  },
  {
   "cell_type": "code",
   "execution_count": null,
   "metadata": {
    "collapsed": true
   },
   "outputs": [],
   "source": []
  }
 ],
 "metadata": {
  "kernelspec": {
   "display_name": "Python 2",
   "language": "python",
   "name": "python2"
  },
  "language_info": {
   "codemirror_mode": {
    "name": "ipython",
    "version": 2
   },
   "file_extension": ".py",
   "mimetype": "text/x-python",
   "name": "python",
   "nbconvert_exporter": "python",
   "pygments_lexer": "ipython2",
   "version": "2.7.13"
  }
 },
 "nbformat": 4,
 "nbformat_minor": 2
}
