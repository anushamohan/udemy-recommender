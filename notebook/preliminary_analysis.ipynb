{
 "cells": [
  {
   "cell_type": "code",
   "execution_count": 1,
   "metadata": {
    "collapsed": true
   },
   "outputs": [],
   "source": [
    "import numpy as np\n",
    "import pandas as pd\n",
    "import matplotlib.pyplot as plt\n",
    "import scipy.sparse as sp\n",
    "from time import time\n",
    "from sklearn.metrics import mean_squared_error\n",
    "from sklearn.metrics.pairwise import cosine_similarity\n",
    "from scipy.stats.stats import pearsonr\n",
    "import graphlab\n",
    "%matplotlib inline\n"
   ]
  },
  {
   "cell_type": "code",
   "execution_count": 11,
   "metadata": {
    "collapsed": true
   },
   "outputs": [],
   "source": [
    "df = pd.read_csv(\"processed_data.csv\")"
   ]
  },
  {
   "cell_type": "code",
   "execution_count": 12,
   "metadata": {},
   "outputs": [
    {
     "data": {
      "text/plain": [
       "array(['web development', 'programming', 'sql', 'other', 'art',\n",
       "       'data science', 'information technology',\n",
       "       'software development / mobile application', 'business', 'adobe',\n",
       "       'excel', 'math', 'writing', 'accounting', 'language'], dtype=object)"
      ]
     },
     "execution_count": 12,
     "metadata": {},
     "output_type": "execute_result"
    }
   ],
   "source": [
    "df[\"course_category\"].unique()"
   ]
  },
  {
   "cell_type": "code",
   "execution_count": 13,
   "metadata": {},
   "outputs": [
    {
     "data": {
      "text/plain": [
       "4.652997381461459"
      ]
     },
     "execution_count": 13,
     "metadata": {},
     "output_type": "execute_result"
    }
   ],
   "source": [
    "df.rating.mean()"
   ]
  },
  {
   "cell_type": "code",
   "execution_count": 14,
   "metadata": {},
   "outputs": [
    {
     "data": {
      "text/plain": [
       "<matplotlib.axes._subplots.AxesSubplot at 0x7f676ee9f210>"
      ]
     },
     "execution_count": 14,
     "metadata": {},
     "output_type": "execute_result"
    },
    {
     "data": {
      "image/png": "[encoded data removed]",
      "text/plain": [
       "<matplotlib.figure.Figure at 0x7f676ee9f810>"
      ]
     },
     "metadata": {},
     "output_type": "display_data"
    }
   ],
   "source": [
    "df[\"user_review_count\"].hist(bins=40)"
   ]
  },
  {
   "cell_type": "code",
   "execution_count": 15,
   "metadata": {},
   "outputs": [
    {
     "data": {
      "text/plain": [
       "1     228702\n",
       "2      60926\n",
       "3      22053\n",
       "4      10276\n",
       "5       5660\n",
       "6       3054\n",
       "7       2079\n",
       "8       1232\n",
       "9        927\n",
       "10       540\n",
       "11       440\n",
       "12       288\n",
       "13       195\n",
       "14       140\n",
       "16       112\n",
       "15       105\n",
       "26        78\n",
       "18        72\n",
       "21        63\n",
       "19        57\n",
       "17        51\n",
       "23        46\n",
       "33        33\n",
       "32        32\n",
       "28        28\n",
       "22        22\n",
       "Name: user_review_count, dtype: int64"
      ]
     },
     "execution_count": 15,
     "metadata": {},
     "output_type": "execute_result"
    }
   ],
   "source": [
    "df.user_review_count.value_counts()"
   ]
  },
  {
   "cell_type": "code",
   "execution_count": 16,
   "metadata": {},
   "outputs": [
    {
     "data": {
      "text/plain": [
       "<matplotlib.axes._subplots.AxesSubplot at 0x7f676dde5fd0>"
      ]
     },
     "execution_count": 16,
     "metadata": {},
     "output_type": "execute_result"
    },
    {
     "data": {
      "image/png": "[encoded data removed]",
      "text/plain": [
       "<matplotlib.figure.Figure at 0x7f6778a7a710>"
      ]
     },
     "metadata": {},
     "output_type": "display_data"
    }
   ],
   "source": [
    "df[\"user_rating_avg\"].hist(bins=40)"
   ]
  },
  {
   "cell_type": "code",
   "execution_count": 17,
   "metadata": {},
   "outputs": [
    {
     "data": {
      "text/plain": [
       "<matplotlib.axes._subplots.AxesSubplot at 0x7f6770c40290>"
      ]
     },
     "execution_count": 17,
     "metadata": {},
     "output_type": "execute_result"
    },
    {
     "data": {
      "image/png": "[encoded data removed]",
      "text/plain": [
       "<matplotlib.figure.Figure at 0x7f6770c68dd0>"
      ]
     },
     "metadata": {},
     "output_type": "display_data"
    }
   ],
   "source": [
    "df[\"course_rating_avg\"].hist(bins=40)"
   ]
  },
  {
   "cell_type": "code",
   "execution_count": 18,
   "metadata": {},
   "outputs": [
    {
     "data": {
      "text/plain": [
       "<matplotlib.axes._subplots.AxesSubplot at 0x7f6773872650>"
      ]
     },
     "execution_count": 18,
     "metadata": {},
     "output_type": "execute_result"
    },
    {
     "data": {
      "image/png": "[encoded data removed]",
      "text/plain": [
       "<matplotlib.figure.Figure at 0x7f6775089fd0>"
      ]
     },
     "metadata": {},
     "output_type": "display_data"
    }
   ],
   "source": [
    "df[\"course_review_count\"].hist(bins = 40)"
   ]
  },
  {
   "cell_type": "code",
   "execution_count": 19,
   "metadata": {},
   "outputs": [
    {
     "data": {
      "text/plain": [
       "<matplotlib.axes._subplots.AxesSubplot at 0x7f676341aad0>"
      ]
     },
     "execution_count": 19,
     "metadata": {},
     "output_type": "execute_result"
    },
    {
     "data": {
      "image/png": "[encoded data removed]",
      "text/plain": [
       "<matplotlib.figure.Figure at 0x7f67772393d0>"
      ]
     },
     "metadata": {},
     "output_type": "display_data"
    }
   ],
   "source": [
    "df[\"rating\"].hist(bins=40)"
   ]
  },
  {
   "cell_type": "code",
   "execution_count": 20,
   "metadata": {
    "collapsed": true
   },
   "outputs": [],
   "source": [
    "n_users = df.userid.nunique()\n",
    "n_items = df.course_id.nunique()"
   ]
  },
  {
   "cell_type": "code",
   "execution_count": 21,
   "metadata": {},
   "outputs": [
    {
     "name": "stdout",
     "output_type": "stream",
     "text": [
      "Total number of users:  271459\n",
      "Total number of courses: 976\n"
     ]
    }
   ],
   "source": [
    "print \"Total number of users: \", n_users\n",
    "print \"Total number of courses:\", n_items"
   ]
  },
  {
   "cell_type": "code",
   "execution_count": 22,
   "metadata": {},
   "outputs": [
    {
     "name": "stdout",
     "output_type": "stream",
     "text": [
      "The sparsity level is 99.873%\n"
     ]
    }
   ],
   "source": [
    "sparsity=round(1.0-len(df)/float(n_users*n_items),5)\n",
    "print('The sparsity level is ' +  str(sparsity*100) + '%')"
   ]
  },
  {
   "cell_type": "code",
   "execution_count": 23,
   "metadata": {
    "collapsed": true
   },
   "outputs": [],
   "source": [
    "courseids = sorted(df[\"course_id\"].unique())\n",
    "userids = sorted(df[\"userid\"].unique())"
   ]
  },
  {
   "cell_type": "code",
   "execution_count": 24,
   "metadata": {},
   "outputs": [
    {
     "data": {
      "text/plain": [
       "(289628, 36)"
      ]
     },
     "execution_count": 24,
     "metadata": {},
     "output_type": "execute_result"
    }
   ],
   "source": [
    "cold_users = df[df[\"user_review_count\"] <=2]\n",
    "cold_users.shape"
   ]
  },
  {
   "cell_type": "code",
   "execution_count": 25,
   "metadata": {},
   "outputs": [
    {
     "data": {
      "text/plain": [
       "(47583, 36)"
      ]
     },
     "execution_count": 25,
     "metadata": {},
     "output_type": "execute_result"
    }
   ],
   "source": [
    "reg = df[df[\"user_review_count\"] > 2]\n",
    "reg.shape"
   ]
  },
  {
   "cell_type": "code",
   "execution_count": 60,
   "metadata": {},
   "outputs": [
    {
     "data": {
      "text/plain": [
       "936"
      ]
     },
     "execution_count": 60,
     "metadata": {},
     "output_type": "execute_result"
    }
   ],
   "source": [
    "reg[\"course_id\"].nunique()"
   ]
  },
  {
   "cell_type": "code",
   "execution_count": 61,
   "metadata": {},
   "outputs": [
    {
     "data": {
      "text/plain": [
       "12294"
      ]
     },
     "execution_count": 61,
     "metadata": {},
     "output_type": "execute_result"
    }
   ],
   "source": [
    "reg[\"userid\"].nunique()"
   ]
  },
  {
   "cell_type": "code",
   "execution_count": 26,
   "metadata": {},
   "outputs": [
    {
     "data": {
      "text/plain": [
       "259165"
      ]
     },
     "execution_count": 26,
     "metadata": {},
     "output_type": "execute_result"
    }
   ],
   "source": [
    "cold_users[\"userid\"].nunique()"
   ]
  },
  {
   "cell_type": "code",
   "execution_count": 27,
   "metadata": {},
   "outputs": [
    {
     "data": {
      "text/plain": [
       "975"
      ]
     },
     "execution_count": 27,
     "metadata": {},
     "output_type": "execute_result"
    }
   ],
   "source": [
    "cold_users[\"course_id\"].nunique()"
   ]
  },
  {
   "cell_type": "code",
   "execution_count": 30,
   "metadata": {
    "collapsed": true
   },
   "outputs": [],
   "source": [
    "diff = np.setdiff1d(cold_users[\"published_title\"], reg[\"published_title\"].unique())"
   ]
  },
  {
   "cell_type": "code",
   "execution_count": 32,
   "metadata": {},
   "outputs": [
    {
     "data": {
      "text/plain": [
       "array(['22-practical-lessons-in-leadership', 'abhyasa-summary',\n",
       "       'acumen-presents-angela-duckworth-on-building-grit',\n",
       "       'angular-2-fundamentals-with-typescript-for-pro-developers-systemjs',\n",
       "       'beginning-project-management-project-management-level-one',\n",
       "       'big-data-hadoop-the-complete-course',\n",
       "       'building-incredible-willpower',\n",
       "       'clickbank-affiliate-marketing-success-facebook-ads-super-strategy',\n",
       "       'dan-ariely-on-changing-customer-behavior',\n",
       "       'enterprise-wpf-with-xaml-from-scratch',\n",
       "       'excel-2016-intermediate-training-videos',\n",
       "       'experience-design-patterns', 'find-high-quality-clients-on-upwork',\n",
       "       'google-ads',\n",
       "       'how-to-make-a-difference-by-nicholas-kristof-sheryl-wudunn',\n",
       "       'how-to-write-a-business-plan', 'kali-linux-tutorials',\n",
       "       'leanmanagement', 'learn-angular-2-from-beginner-to-advanced',\n",
       "       'learn-software-testing-in-practical-become-a-qa-expert',\n",
       "       'learnaccountingforfree', 'learnpremierepro', 'mac-photos',\n",
       "       'macossierra', 'mastering-airbnb-learn-from-sfs-top-host',\n",
       "       'microsoft-excel-for-mac', 'online-japanese-beginner-course',\n",
       "       'paul-and-his-letter-to-the-ephesians',\n",
       "       'paul-and-his-letter-to-the-galatians',\n",
       "       'pmp-exam-prep-2017-2-full-real-exams-detailed-pmp-math',\n",
       "       'productivity-hacks', 'professional-stock-trader',\n",
       "       'sql-for-marketers', 'sqlcourse',\n",
       "       'steemit-blogging-social-media-that-pays-work-from-home',\n",
       "       'the-complete-amazon-seller-course-master-amazon-fba',\n",
       "       'the-ultimate-ux-portfolio-course', 'what-is-yoga-as-meditation',\n",
       "       'wi-fi-hacking-for-beginners', 'wordpress-ecommerce'], dtype=object)"
      ]
     },
     "execution_count": 32,
     "metadata": {},
     "output_type": "execute_result"
    }
   ],
   "source": [
    "diff"
   ]
  },
  {
   "cell_type": "code",
   "execution_count": 33,
   "metadata": {
    "collapsed": true
   },
   "outputs": [],
   "source": [
    "diff1 = np.setdiff1d(reg[\"published_title\"].unique(),cold_users[\"published_title\"].unique())"
   ]
  },
  {
   "cell_type": "code",
   "execution_count": 34,
   "metadata": {},
   "outputs": [
    {
     "data": {
      "text/plain": [
       "array(['powerful-goal-setting-step-by-step-blueprint'], dtype=object)"
      ]
     },
     "execution_count": 34,
     "metadata": {},
     "output_type": "execute_result"
    }
   ],
   "source": [
    "diff1"
   ]
  },
  {
   "cell_type": "code",
   "execution_count": 37,
   "metadata": {},
   "outputs": [
    {
     "name": "stderr",
     "output_type": "stream",
     "text": [
      "/home/anusha/anaconda2/lib/python2.7/site-packages/ipykernel_launcher.py:19: SettingWithCopyWarning: \n",
      "A value is trying to be set on a copy of a slice from a DataFrame\n",
      "\n",
      "See the caveats in the documentation: http://pandas.pydata.org/pandas-docs/stable/indexing.html#indexing-view-versus-copy\n",
      "/home/anusha/anaconda2/lib/python2.7/site-packages/ipykernel_launcher.py:22: SettingWithCopyWarning: \n",
      "A value is trying to be set on a copy of a slice from a DataFrame\n",
      "\n",
      "See the caveats in the documentation: http://pandas.pydata.org/pandas-docs/stable/indexing.html#indexing-view-versus-copy\n",
      "/home/anusha/anaconda2/lib/python2.7/site-packages/ipykernel_launcher.py:9: SettingWithCopyWarning: \n",
      "A value is trying to be set on a copy of a slice from a DataFrame\n",
      "\n",
      "See the caveats in the documentation: http://pandas.pydata.org/pandas-docs/stable/indexing.html#indexing-view-versus-copy\n",
      "  if __name__ == '__main__':\n",
      "/home/anusha/anaconda2/lib/python2.7/site-packages/ipykernel_launcher.py:12: SettingWithCopyWarning: \n",
      "A value is trying to be set on a copy of a slice from a DataFrame\n",
      "\n",
      "See the caveats in the documentation: http://pandas.pydata.org/pandas-docs/stable/indexing.html#indexing-view-versus-copy\n",
      "  if sys.path[0] == '':\n"
     ]
    }
   ],
   "source": [
    "train_df = pd.DataFrame()\n",
    "test_df = pd.DataFrame()\n",
    "validate_df = pd.DataFrame()\n",
    "for i in reg[\"userid\"].unique():\n",
    "    dataIwant = reg[reg[\"userid\"] == i]\n",
    "    if len(dataIwant) == 3:\n",
    "        test_index = np.random.choice(dataIwant.index, size = 1, replace=False)\n",
    "        test = dataIwant.loc[test_index]\n",
    "        dataIwant.drop(test_index, inplace=True)\n",
    "        validate_index = np.random.choice(dataIwant.index, size = 1, replace=False)\n",
    "        validate = dataIwant.loc[validate_index]\n",
    "        dataIwant.drop(validate_index, inplace=True)\n",
    "        test_df = pd.concat([test_df, test])\n",
    "        validate_df = pd.concat([validate_df, validate])\n",
    "        train_df = pd.concat([train_df, dataIwant])\n",
    "    else:   \n",
    "        test_indices = np.random.choice(dataIwant.index, size = len(dataIwant)/4, replace=False)\n",
    "        test = dataIwant.loc[test_indices]\n",
    "        dataIwant.drop(test_indices, inplace=True)\n",
    "        validate_indices = np.random.choice(dataIwant.index, size = len(dataIwant)/4, replace=False)\n",
    "        validate = dataIwant.loc[validate_indices]\n",
    "        dataIwant.drop(validate_indices, inplace=True)\n",
    "        test_df = pd.concat([test_df, test])\n",
    "        validate_df = pd.concat([validate_df, validate])\n",
    "        train_df = pd.concat([train_df, dataIwant])"
   ]
  },
  {
   "cell_type": "code",
   "execution_count": 38,
   "metadata": {},
   "outputs": [
    {
     "data": {
      "text/plain": [
       "(12867, 36)"
      ]
     },
     "execution_count": 38,
     "metadata": {},
     "output_type": "execute_result"
    }
   ],
   "source": [
    "test_df.shape"
   ]
  },
  {
   "cell_type": "code",
   "execution_count": 39,
   "metadata": {},
   "outputs": [
    {
     "data": {
      "text/plain": [
       "(9960, 36)"
      ]
     },
     "execution_count": 39,
     "metadata": {},
     "output_type": "execute_result"
    }
   ],
   "source": [
    "validate_df.shape"
   ]
  },
  {
   "cell_type": "code",
   "execution_count": 40,
   "metadata": {},
   "outputs": [
    {
     "data": {
      "text/plain": [
       "(24756, 36)"
      ]
     },
     "execution_count": 40,
     "metadata": {},
     "output_type": "execute_result"
    }
   ],
   "source": [
    "train_df.shape"
   ]
  },
  {
   "cell_type": "code",
   "execution_count": 41,
   "metadata": {
    "collapsed": true
   },
   "outputs": [],
   "source": [
    "train_df.to_csv(\"train.csv\")"
   ]
  },
  {
   "cell_type": "code",
   "execution_count": 42,
   "metadata": {
    "collapsed": true
   },
   "outputs": [],
   "source": [
    "validate_df.to_csv(\"validation.csv\")\n",
    "test_df.to_csv(\"test.csv\")"
   ]
  },
  {
   "cell_type": "code",
   "execution_count": 48,
   "metadata": {},
   "outputs": [
    {
     "data": {
      "text/plain": [
       "array([   8814,   17708,   33145,   87156,  150656,  230590,  298212,\n",
       "        340314,  521580,  527468,  537750,  575592,  614070,  620926,\n",
       "        649056,  680048,  806474,  822290,  897192,  915782,  927356,\n",
       "        942320,  950710,  965720,  981502, 1081714, 1109602, 1193034,\n",
       "       1241254])"
      ]
     },
     "execution_count": 48,
     "metadata": {},
     "output_type": "execute_result"
    }
   ],
   "source": [
    "np.setdiff1d(test_df.course_id.unique(), train_df.course_id.unique())"
   ]
  },
  {
   "cell_type": "code",
   "execution_count": 51,
   "metadata": {},
   "outputs": [
    {
     "data": {
      "text/plain": [
       "976"
      ]
     },
     "execution_count": 51,
     "metadata": {},
     "output_type": "execute_result"
    }
   ],
   "source": [
    "df.course_id.nunique()"
   ]
  },
  {
   "cell_type": "code",
   "execution_count": 52,
   "metadata": {
    "collapsed": true
   },
   "outputs": [],
   "source": [
    "common_users = {}\n",
    "commonUsers = {}\n",
    "for i, course1 in enumerate(df.course_id.unique()):\n",
    "    for j, course2 in enumerate(df.course_id.unique()):\n",
    "        if i < j:\n",
    "            course1_users = df[df[\"course_id\"] == course1][\"userid\"].unique()\n",
    "            course2_users = df[df[\"course_id\"] == course2][\"userid\"].unique()\n",
    "            \n",
    "            common = np.intersect1d(course1_users, course2_users, assume_unique=True)\n",
    "            common_users[(course1,course2)] = len(common)\n",
    "            commonUsers[(course1, course2)] = common\n",
    "            \n",
    "            \n",
    "            \n",
    "            "
   ]
  },
  {
   "cell_type": "code",
   "execution_count": 53,
   "metadata": {},
   "outputs": [
    {
     "data": {
      "text/plain": [
       "<matplotlib.axes._subplots.AxesSubplot at 0x7f675d50b790>"
      ]
     },
     "execution_count": 53,
     "metadata": {},
     "output_type": "execute_result"
    },
    {
     "data": {
      "image/png": "[encoded data removed]",
      "text/plain": [
       "<matplotlib.figure.Figure at 0x7f67727eb210>"
      ]
     },
     "metadata": {},
     "output_type": "display_data"
    }
   ],
   "source": [
    "pd.Series(common_users.values()).hist(bins=100)"
   ]
  },
  {
   "cell_type": "code",
   "execution_count": 54,
   "metadata": {
    "collapsed": true
   },
   "outputs": [],
   "source": [
    "def pearson_sim(course1_reviews, course2_reviews, n_common):\n",
    "    \n",
    "    if n_common==0:\n",
    "        rho=0.\n",
    "    else:\n",
    "        diff1=course1_reviews['rating']-course1_reviews['user_rating_avg']\n",
    "        diff2=course2_reviews['rating']-course2_reviews['user_rating_avg']\n",
    "        rho=pearsonr(diff1, diff2)[0]\n",
    "    return rho"
   ]
  },
  {
   "cell_type": "code",
   "execution_count": 65,
   "metadata": {
    "collapsed": true
   },
   "outputs": [],
   "source": [
    "def get_course_reviews(courseid, df, set_of_users):\n",
    "    \n",
    "    mask = (df.userid.isin(set_of_users)) & (df.course_id==courseid)\n",
    "    reviews = df[mask]\n",
    "    reviews = reviews[reviews.userid.duplicated()==False]\n",
    "    return reviews"
   ]
  },
  {
   "cell_type": "code",
   "execution_count": 66,
   "metadata": {
    "collapsed": true
   },
   "outputs": [],
   "source": [
    "def calculate_similarity(course1,course2,df,similarity_func):     #calculates similarity between 2 courses using some similarity function\n",
    "    \n",
    "    reviewers_course1=df[df.course_id==course1].userid   #gets all the user ids from df for course1\n",
    "    reviewers_course2=df[df.course_id==course2].userid   #gets all the user ids from df for course2\n",
    "    \n",
    "    #computes the intersection (common reviewers) by comparing reviewers for course1 and course2\n",
    "    reviewers_common=set(reviewers_course1).intersection(reviewers_course2) \n",
    "    n_common=len(reviewers_common)  #computes the number of common reviewers (length)\n",
    "    \n",
    "    #gets the reviews by common reviewers found above for course1 and course2\n",
    "    reviews_course1=get_course_reviews(course1, df, reviewers_common) \n",
    "    reviews_course2=get_course_reviews(course2, df, reviewers_common) \n",
    "    \n",
    "    similarity=similarity_func(reviews_course1,reviews_course2,n_common)  #using similarity functino defined above to compute similarity\n",
    "    \n",
    "    #checks to see if similarity is NaN and if true, sets similarity to zero\n",
    "    if np.isnan(similarity): \n",
    "        similarity=0\n",
    "        \n",
    "    return (similarity,n_common)"
   ]
  },
  {
   "cell_type": "code",
   "execution_count": 67,
   "metadata": {},
   "outputs": [
    {
     "name": "stderr",
     "output_type": "stream",
     "text": [
      "/home/anusha/anaconda2/lib/python2.7/site-packages/scipy/stats/stats.py:3021: RuntimeWarning: invalid value encountered in double_scalars\n",
      "  r = r_num / r_den\n",
      "/home/anusha/anaconda2/lib/python2.7/site-packages/scipy/stats/stats.py:3031: RuntimeWarning: invalid value encountered in double_scalars\n",
      "  prob = _betai(0.5*df, 0.5, df/(df+t_squared))\n"
     ]
    }
   ],
   "source": [
    "similarities_dic = {}\n",
    "for i in common_users.keys():\n",
    "    course1 = i[0]\n",
    "    course2 = i[1]\n",
    "    similarity, n_common = calculate_similarity(course1, course2, df, pearson_sim)\n",
    "    similarities_dic[i] = (similarity, n_common)"
   ]
  },
  {
   "cell_type": "code",
   "execution_count": 76,
   "metadata": {},
   "outputs": [
    {
     "data": {
      "text/plain": [
       "(-0.56373539070999334, 22)"
      ]
     },
     "execution_count": 76,
     "metadata": {},
     "output_type": "execute_result"
    }
   ],
   "source": [
    "similarities_dic[(289230, 851712)]"
   ]
  },
  {
   "cell_type": "code",
   "execution_count": 77,
   "metadata": {
    "collapsed": true
   },
   "outputs": [],
   "source": [
    "np.save('similarities_corr.npy', similarities_dic)"
   ]
  },
  {
   "cell_type": "code",
   "execution_count": 78,
   "metadata": {
    "collapsed": true
   },
   "outputs": [],
   "source": [
    "np.save(\"common_users.npy\", common_users)"
   ]
  },
  {
   "cell_type": "code",
   "execution_count": 79,
   "metadata": {
    "collapsed": true
   },
   "outputs": [],
   "source": [
    "np.save(\"commonUses.npy\", commonUsers)"
   ]
  },
  {
   "cell_type": "code",
   "execution_count": 315,
   "metadata": {
    "collapsed": true
   },
   "outputs": [],
   "source": [
    "def pearson_sim(course1_reviews, course2_reviews, common):\n",
    "\n",
    "    if common==0:\n",
    "        rho=0.\n",
    "    else:\n",
    "        diff1=course1_reviews['rating']-course1_reviews['user_rating_avg']\n",
    "        diff2=course2_reviews['rating']-course2_reviews['user_rating_avg']\n",
    "        rho=pearsonr(diff1, diff2)[0]\n",
    "        if np.isnan(rho):\n",
    "            rho=0.\n",
    "    return rho"
   ]
  },
  {
   "cell_type": "code",
   "execution_count": 316,
   "metadata": {
    "collapsed": true
   },
   "outputs": [],
   "source": [
    "def get_course_reviews(courseid, df, set_of_users):\n",
    "    \"\"\"\n",
    "    given a course id and a set of reviewers, return the sub-dataframe of their\n",
    "    reviews.\n",
    "    \"\"\"\n",
    "    mask = (df.user_id.isin(set_of_users)) & (df.course_id==courseid)\n",
    "    reviews = df[mask]\n",
    "    reviews = reviews[reviews.userid.duplicated()==False]\n",
    "    return reviews\n"
   ]
  },
  {
   "cell_type": "code",
   "execution_count": null,
   "metadata": {
    "collapsed": true
   },
   "outputs": [],
   "source": []
  }
 ],
 "metadata": {
  "kernelspec": {
   "display_name": "Python 2",
   "language": "python",
   "name": "python2"
  },
  "language_info": {
   "codemirror_mode": {
    "name": "ipython",
    "version": 2
   },
   "file_extension": ".py",
   "mimetype": "text/x-python",
   "name": "python",
   "nbconvert_exporter": "python",
   "pygments_lexer": "ipython2",
   "version": "2.7.13"
  }
 },
 "nbformat": 4,
 "nbformat_minor": 2
}
